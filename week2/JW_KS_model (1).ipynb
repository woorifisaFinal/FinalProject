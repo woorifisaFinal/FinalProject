{
  "cells": [
    {
      "cell_type": "code",
      "source": [
        "from google.colab import drive\n",
        "drive.mount('/content/drive')"
      ],
      "metadata": {
        "colab": {
          "base_uri": "https://localhost:8080/"
        },
        "id": "FZfVKaCeAhhk",
        "outputId": "4ba0a30b-384a-409f-fe96-8f66d5798638"
      },
      "execution_count": 3,
      "outputs": [
        {
          "output_type": "stream",
          "name": "stdout",
          "text": [
            "Mounted at /content/drive\n"
          ]
        }
      ]
    },
    {
      "cell_type": "code",
      "execution_count": 4,
      "metadata": {
        "id": "JMOQrH_TAFzK"
      },
      "outputs": [],
      "source": [
        "import pandas as pd\n",
        "\n",
        "raw_train = pd.read_csv(\"/content/drive/MyDrive/raw_train.csv\")"
      ]
    },
    {
      "cell_type": "code",
      "execution_count": 49,
      "metadata": {
        "id": "Kuaw17gqAFzQ"
      },
      "outputs": [],
      "source": [
        "#date열 str에서 datetime형으로 변환\n",
        "raw_train['date'] = pd.to_datetime(raw_train['date'])"
      ]
    },
    {
      "cell_type": "code",
      "execution_count": 41,
      "metadata": {
        "colab": {
          "base_uri": "https://localhost:8080/"
        },
        "id": "9zR2ZlLvAFzR",
        "outputId": "a3c7db17-a1a6-4768-e5c1-49f40ad2a703"
      },
      "outputs": [
        {
          "output_type": "execute_result",
          "data": {
            "text/plain": [
              "981"
            ]
          },
          "metadata": {},
          "execution_count": 41
        }
      ],
      "source": [
        "target_year=2021\n",
        "train = raw_train[raw_train['date'].dt.year<target_year]\n",
        "len(train)"
      ]
    },
    {
      "cell_type": "code",
      "execution_count": 42,
      "metadata": {
        "colab": {
          "base_uri": "https://localhost:8080/"
        },
        "id": "m-4Ij1SnAFzS",
        "outputId": "6721cf0b-f2cd-4a62-edca-3049d3a1903f"
      },
      "outputs": [
        {
          "output_type": "execute_result",
          "data": {
            "text/plain": [
              "248"
            ]
          },
          "metadata": {},
          "execution_count": 42
        }
      ],
      "source": [
        "target_year=2021\n",
        "validation = raw_train[raw_train['date'].dt.year==target_year]\n",
        "len(validation)"
      ]
    },
    {
      "cell_type": "code",
      "execution_count": 43,
      "metadata": {
        "colab": {
          "base_uri": "https://localhost:8080/"
        },
        "id": "siiBO1sdAFzT",
        "outputId": "fa66e612-bd0e-4f61-d5c1-fa1b0df723b9"
      },
      "outputs": [
        {
          "output_type": "execute_result",
          "data": {
            "text/plain": [
              "246"
            ]
          },
          "metadata": {},
          "execution_count": 43
        }
      ],
      "source": [
        "target_year=2022\n",
        "test = raw_train[raw_train['date'].dt.year==target_year]\n",
        "len(test)"
      ]
    },
    {
      "cell_type": "code",
      "source": [
        "raw_train"
      ],
      "metadata": {
        "colab": {
          "base_uri": "https://localhost:8080/",
          "height": 455
        },
        "id": "9SqnGNeIHPyz",
        "outputId": "ff747b89-5502-409e-ebb3-6fc95a619fa0"
      },
      "execution_count": 54,
      "outputs": [
        {
          "output_type": "execute_result",
          "data": {
            "text/plain": [
              "              close     open     high      low        rsi  MACD_12_26  \\\n",
              "date                                                                    \n",
              "2017-01-02  2026.16  2022.23  2031.79  2015.68  51.846817    1.534583   \n",
              "2017-01-03  2043.97  2034.31  2044.07  2028.47  51.846817    1.534583   \n",
              "2017-01-04  2045.64  2046.29  2046.29  2040.61  51.846817    1.534583   \n",
              "2017-01-05  2041.95  2045.52  2046.50  2039.49  51.846817    1.534583   \n",
              "2017-01-06  2049.12  2048.11  2051.84  2045.66  51.846817    1.534583   \n",
              "...             ...      ...      ...      ...        ...         ...   \n",
              "2022-12-23  2313.69  2325.86  2333.08  2311.90  38.363622  -15.931807   \n",
              "2022-12-26  2317.14  2312.54  2321.92  2304.20  39.169097  -18.026966   \n",
              "2022-12-27  2332.79  2327.52  2335.99  2321.48  42.819515  -18.214604   \n",
              "2022-12-28  2280.45  2296.45  2296.45  2276.90  35.209547  -22.329310   \n",
              "2022-12-29  2236.40  2265.73  2272.67  2236.38  30.324860  -28.812578   \n",
              "\n",
              "            MACD_sign_12_26        hband         mavg        lband   CSI  \\\n",
              "date                                                                       \n",
              "2017-01-02         1.568948  2520.977931  2436.844485  2352.711040  93.3   \n",
              "2017-01-03         1.568948  2520.977931  2436.844485  2352.711040  93.3   \n",
              "2017-01-04         1.568948  2520.977931  2436.844485  2352.711040  93.3   \n",
              "2017-01-05         1.568948  2520.977931  2436.844485  2352.711040  93.3   \n",
              "2017-01-06         1.568948  2520.977931  2436.844485  2352.711040  93.3   \n",
              "...                     ...          ...          ...          ...   ...   \n",
              "2022-12-23        -5.996773  2473.727635  2386.713000  2299.698365  90.2   \n",
              "2022-12-26        -8.402811  2473.609437  2382.156500  2290.703563  90.2   \n",
              "2022-12-27       -10.365170  2467.817580  2377.126500  2286.435420  90.2   \n",
              "2022-12-28       -12.757998  2456.431601  2367.522500  2278.613399  90.2   \n",
              "2022-12-29       -15.968914  2446.057588  2355.350500  2264.643412  90.2   \n",
              "\n",
              "               target  \n",
              "date                   \n",
              "2017-01-02 -16.745712  \n",
              "2017-01-03   0.879003  \n",
              "2017-01-04   0.081704  \n",
              "2017-01-05  -0.180384  \n",
              "2017-01-06   0.351135  \n",
              "...               ...  \n",
              "2022-12-23  -1.826259  \n",
              "2022-12-26   0.149112  \n",
              "2022-12-27   0.675402  \n",
              "2022-12-28  -2.243665  \n",
              "2022-12-29  -1.931636  \n",
              "\n",
              "[1475 rows x 12 columns]"
            ],
            "text/html": [
              "\n",
              "  <div id=\"df-b08c24bf-67cc-418e-a097-f31459181ea5\" class=\"colab-df-container\">\n",
              "    <div>\n",
              "<style scoped>\n",
              "    .dataframe tbody tr th:only-of-type {\n",
              "        vertical-align: middle;\n",
              "    }\n",
              "\n",
              "    .dataframe tbody tr th {\n",
              "        vertical-align: top;\n",
              "    }\n",
              "\n",
              "    .dataframe thead th {\n",
              "        text-align: right;\n",
              "    }\n",
              "</style>\n",
              "<table border=\"1\" class=\"dataframe\">\n",
              "  <thead>\n",
              "    <tr style=\"text-align: right;\">\n",
              "      <th></th>\n",
              "      <th>close</th>\n",
              "      <th>open</th>\n",
              "      <th>high</th>\n",
              "      <th>low</th>\n",
              "      <th>rsi</th>\n",
              "      <th>MACD_12_26</th>\n",
              "      <th>MACD_sign_12_26</th>\n",
              "      <th>hband</th>\n",
              "      <th>mavg</th>\n",
              "      <th>lband</th>\n",
              "      <th>CSI</th>\n",
              "      <th>target</th>\n",
              "    </tr>\n",
              "    <tr>\n",
              "      <th>date</th>\n",
              "      <th></th>\n",
              "      <th></th>\n",
              "      <th></th>\n",
              "      <th></th>\n",
              "      <th></th>\n",
              "      <th></th>\n",
              "      <th></th>\n",
              "      <th></th>\n",
              "      <th></th>\n",
              "      <th></th>\n",
              "      <th></th>\n",
              "      <th></th>\n",
              "    </tr>\n",
              "  </thead>\n",
              "  <tbody>\n",
              "    <tr>\n",
              "      <th>2017-01-02</th>\n",
              "      <td>2026.16</td>\n",
              "      <td>2022.23</td>\n",
              "      <td>2031.79</td>\n",
              "      <td>2015.68</td>\n",
              "      <td>51.846817</td>\n",
              "      <td>1.534583</td>\n",
              "      <td>1.568948</td>\n",
              "      <td>2520.977931</td>\n",
              "      <td>2436.844485</td>\n",
              "      <td>2352.711040</td>\n",
              "      <td>93.3</td>\n",
              "      <td>-16.745712</td>\n",
              "    </tr>\n",
              "    <tr>\n",
              "      <th>2017-01-03</th>\n",
              "      <td>2043.97</td>\n",
              "      <td>2034.31</td>\n",
              "      <td>2044.07</td>\n",
              "      <td>2028.47</td>\n",
              "      <td>51.846817</td>\n",
              "      <td>1.534583</td>\n",
              "      <td>1.568948</td>\n",
              "      <td>2520.977931</td>\n",
              "      <td>2436.844485</td>\n",
              "      <td>2352.711040</td>\n",
              "      <td>93.3</td>\n",
              "      <td>0.879003</td>\n",
              "    </tr>\n",
              "    <tr>\n",
              "      <th>2017-01-04</th>\n",
              "      <td>2045.64</td>\n",
              "      <td>2046.29</td>\n",
              "      <td>2046.29</td>\n",
              "      <td>2040.61</td>\n",
              "      <td>51.846817</td>\n",
              "      <td>1.534583</td>\n",
              "      <td>1.568948</td>\n",
              "      <td>2520.977931</td>\n",
              "      <td>2436.844485</td>\n",
              "      <td>2352.711040</td>\n",
              "      <td>93.3</td>\n",
              "      <td>0.081704</td>\n",
              "    </tr>\n",
              "    <tr>\n",
              "      <th>2017-01-05</th>\n",
              "      <td>2041.95</td>\n",
              "      <td>2045.52</td>\n",
              "      <td>2046.50</td>\n",
              "      <td>2039.49</td>\n",
              "      <td>51.846817</td>\n",
              "      <td>1.534583</td>\n",
              "      <td>1.568948</td>\n",
              "      <td>2520.977931</td>\n",
              "      <td>2436.844485</td>\n",
              "      <td>2352.711040</td>\n",
              "      <td>93.3</td>\n",
              "      <td>-0.180384</td>\n",
              "    </tr>\n",
              "    <tr>\n",
              "      <th>2017-01-06</th>\n",
              "      <td>2049.12</td>\n",
              "      <td>2048.11</td>\n",
              "      <td>2051.84</td>\n",
              "      <td>2045.66</td>\n",
              "      <td>51.846817</td>\n",
              "      <td>1.534583</td>\n",
              "      <td>1.568948</td>\n",
              "      <td>2520.977931</td>\n",
              "      <td>2436.844485</td>\n",
              "      <td>2352.711040</td>\n",
              "      <td>93.3</td>\n",
              "      <td>0.351135</td>\n",
              "    </tr>\n",
              "    <tr>\n",
              "      <th>...</th>\n",
              "      <td>...</td>\n",
              "      <td>...</td>\n",
              "      <td>...</td>\n",
              "      <td>...</td>\n",
              "      <td>...</td>\n",
              "      <td>...</td>\n",
              "      <td>...</td>\n",
              "      <td>...</td>\n",
              "      <td>...</td>\n",
              "      <td>...</td>\n",
              "      <td>...</td>\n",
              "      <td>...</td>\n",
              "    </tr>\n",
              "    <tr>\n",
              "      <th>2022-12-23</th>\n",
              "      <td>2313.69</td>\n",
              "      <td>2325.86</td>\n",
              "      <td>2333.08</td>\n",
              "      <td>2311.90</td>\n",
              "      <td>38.363622</td>\n",
              "      <td>-15.931807</td>\n",
              "      <td>-5.996773</td>\n",
              "      <td>2473.727635</td>\n",
              "      <td>2386.713000</td>\n",
              "      <td>2299.698365</td>\n",
              "      <td>90.2</td>\n",
              "      <td>-1.826259</td>\n",
              "    </tr>\n",
              "    <tr>\n",
              "      <th>2022-12-26</th>\n",
              "      <td>2317.14</td>\n",
              "      <td>2312.54</td>\n",
              "      <td>2321.92</td>\n",
              "      <td>2304.20</td>\n",
              "      <td>39.169097</td>\n",
              "      <td>-18.026966</td>\n",
              "      <td>-8.402811</td>\n",
              "      <td>2473.609437</td>\n",
              "      <td>2382.156500</td>\n",
              "      <td>2290.703563</td>\n",
              "      <td>90.2</td>\n",
              "      <td>0.149112</td>\n",
              "    </tr>\n",
              "    <tr>\n",
              "      <th>2022-12-27</th>\n",
              "      <td>2332.79</td>\n",
              "      <td>2327.52</td>\n",
              "      <td>2335.99</td>\n",
              "      <td>2321.48</td>\n",
              "      <td>42.819515</td>\n",
              "      <td>-18.214604</td>\n",
              "      <td>-10.365170</td>\n",
              "      <td>2467.817580</td>\n",
              "      <td>2377.126500</td>\n",
              "      <td>2286.435420</td>\n",
              "      <td>90.2</td>\n",
              "      <td>0.675402</td>\n",
              "    </tr>\n",
              "    <tr>\n",
              "      <th>2022-12-28</th>\n",
              "      <td>2280.45</td>\n",
              "      <td>2296.45</td>\n",
              "      <td>2296.45</td>\n",
              "      <td>2276.90</td>\n",
              "      <td>35.209547</td>\n",
              "      <td>-22.329310</td>\n",
              "      <td>-12.757998</td>\n",
              "      <td>2456.431601</td>\n",
              "      <td>2367.522500</td>\n",
              "      <td>2278.613399</td>\n",
              "      <td>90.2</td>\n",
              "      <td>-2.243665</td>\n",
              "    </tr>\n",
              "    <tr>\n",
              "      <th>2022-12-29</th>\n",
              "      <td>2236.40</td>\n",
              "      <td>2265.73</td>\n",
              "      <td>2272.67</td>\n",
              "      <td>2236.38</td>\n",
              "      <td>30.324860</td>\n",
              "      <td>-28.812578</td>\n",
              "      <td>-15.968914</td>\n",
              "      <td>2446.057588</td>\n",
              "      <td>2355.350500</td>\n",
              "      <td>2264.643412</td>\n",
              "      <td>90.2</td>\n",
              "      <td>-1.931636</td>\n",
              "    </tr>\n",
              "  </tbody>\n",
              "</table>\n",
              "<p>1475 rows × 12 columns</p>\n",
              "</div>\n",
              "    <div class=\"colab-df-buttons\">\n",
              "\n",
              "  <div class=\"colab-df-container\">\n",
              "    <button class=\"colab-df-convert\" onclick=\"convertToInteractive('df-b08c24bf-67cc-418e-a097-f31459181ea5')\"\n",
              "            title=\"Convert this dataframe to an interactive table.\"\n",
              "            style=\"display:none;\">\n",
              "\n",
              "  <svg xmlns=\"http://www.w3.org/2000/svg\" height=\"24px\" viewBox=\"0 -960 960 960\">\n",
              "    <path d=\"M120-120v-720h720v720H120Zm60-500h600v-160H180v160Zm220 220h160v-160H400v160Zm0 220h160v-160H400v160ZM180-400h160v-160H180v160Zm440 0h160v-160H620v160ZM180-180h160v-160H180v160Zm440 0h160v-160H620v160Z\"/>\n",
              "  </svg>\n",
              "    </button>\n",
              "\n",
              "  <style>\n",
              "    .colab-df-container {\n",
              "      display:flex;\n",
              "      gap: 12px;\n",
              "    }\n",
              "\n",
              "    .colab-df-convert {\n",
              "      background-color: #E8F0FE;\n",
              "      border: none;\n",
              "      border-radius: 50%;\n",
              "      cursor: pointer;\n",
              "      display: none;\n",
              "      fill: #1967D2;\n",
              "      height: 32px;\n",
              "      padding: 0 0 0 0;\n",
              "      width: 32px;\n",
              "    }\n",
              "\n",
              "    .colab-df-convert:hover {\n",
              "      background-color: #E2EBFA;\n",
              "      box-shadow: 0px 1px 2px rgba(60, 64, 67, 0.3), 0px 1px 3px 1px rgba(60, 64, 67, 0.15);\n",
              "      fill: #174EA6;\n",
              "    }\n",
              "\n",
              "    .colab-df-buttons div {\n",
              "      margin-bottom: 4px;\n",
              "    }\n",
              "\n",
              "    [theme=dark] .colab-df-convert {\n",
              "      background-color: #3B4455;\n",
              "      fill: #D2E3FC;\n",
              "    }\n",
              "\n",
              "    [theme=dark] .colab-df-convert:hover {\n",
              "      background-color: #434B5C;\n",
              "      box-shadow: 0px 1px 3px 1px rgba(0, 0, 0, 0.15);\n",
              "      filter: drop-shadow(0px 1px 2px rgba(0, 0, 0, 0.3));\n",
              "      fill: #FFFFFF;\n",
              "    }\n",
              "  </style>\n",
              "\n",
              "    <script>\n",
              "      const buttonEl =\n",
              "        document.querySelector('#df-b08c24bf-67cc-418e-a097-f31459181ea5 button.colab-df-convert');\n",
              "      buttonEl.style.display =\n",
              "        google.colab.kernel.accessAllowed ? 'block' : 'none';\n",
              "\n",
              "      async function convertToInteractive(key) {\n",
              "        const element = document.querySelector('#df-b08c24bf-67cc-418e-a097-f31459181ea5');\n",
              "        const dataTable =\n",
              "          await google.colab.kernel.invokeFunction('convertToInteractive',\n",
              "                                                    [key], {});\n",
              "        if (!dataTable) return;\n",
              "\n",
              "        const docLinkHtml = 'Like what you see? Visit the ' +\n",
              "          '<a target=\"_blank\" href=https://colab.research.google.com/notebooks/data_table.ipynb>data table notebook</a>'\n",
              "          + ' to learn more about interactive tables.';\n",
              "        element.innerHTML = '';\n",
              "        dataTable['output_type'] = 'display_data';\n",
              "        await google.colab.output.renderOutput(dataTable, element);\n",
              "        const docLink = document.createElement('div');\n",
              "        docLink.innerHTML = docLinkHtml;\n",
              "        element.appendChild(docLink);\n",
              "      }\n",
              "    </script>\n",
              "  </div>\n",
              "\n",
              "\n",
              "<div id=\"df-80c42dea-f142-49cc-8bbc-835e892857a1\">\n",
              "  <button class=\"colab-df-quickchart\" onclick=\"quickchart('df-80c42dea-f142-49cc-8bbc-835e892857a1')\"\n",
              "            title=\"Suggest charts.\"\n",
              "            style=\"display:none;\">\n",
              "\n",
              "<svg xmlns=\"http://www.w3.org/2000/svg\" height=\"24px\"viewBox=\"0 0 24 24\"\n",
              "     width=\"24px\">\n",
              "    <g>\n",
              "        <path d=\"M19 3H5c-1.1 0-2 .9-2 2v14c0 1.1.9 2 2 2h14c1.1 0 2-.9 2-2V5c0-1.1-.9-2-2-2zM9 17H7v-7h2v7zm4 0h-2V7h2v10zm4 0h-2v-4h2v4z\"/>\n",
              "    </g>\n",
              "</svg>\n",
              "  </button>\n",
              "\n",
              "<style>\n",
              "  .colab-df-quickchart {\n",
              "    background-color: #E8F0FE;\n",
              "    border: none;\n",
              "    border-radius: 50%;\n",
              "    cursor: pointer;\n",
              "    display: none;\n",
              "    fill: #1967D2;\n",
              "    height: 32px;\n",
              "    padding: 0 0 0 0;\n",
              "    width: 32px;\n",
              "  }\n",
              "\n",
              "  .colab-df-quickchart:hover {\n",
              "    background-color: #E2EBFA;\n",
              "    box-shadow: 0px 1px 2px rgba(60, 64, 67, 0.3), 0px 1px 3px 1px rgba(60, 64, 67, 0.15);\n",
              "    fill: #174EA6;\n",
              "  }\n",
              "\n",
              "  [theme=dark] .colab-df-quickchart {\n",
              "    background-color: #3B4455;\n",
              "    fill: #D2E3FC;\n",
              "  }\n",
              "\n",
              "  [theme=dark] .colab-df-quickchart:hover {\n",
              "    background-color: #434B5C;\n",
              "    box-shadow: 0px 1px 3px 1px rgba(0, 0, 0, 0.15);\n",
              "    filter: drop-shadow(0px 1px 2px rgba(0, 0, 0, 0.3));\n",
              "    fill: #FFFFFF;\n",
              "  }\n",
              "</style>\n",
              "\n",
              "  <script>\n",
              "    async function quickchart(key) {\n",
              "      const charts = await google.colab.kernel.invokeFunction(\n",
              "          'suggestCharts', [key], {});\n",
              "    }\n",
              "    (() => {\n",
              "      let quickchartButtonEl =\n",
              "        document.querySelector('#df-80c42dea-f142-49cc-8bbc-835e892857a1 button');\n",
              "      quickchartButtonEl.style.display =\n",
              "        google.colab.kernel.accessAllowed ? 'block' : 'none';\n",
              "    })();\n",
              "  </script>\n",
              "</div>\n",
              "    </div>\n",
              "  </div>\n"
            ]
          },
          "metadata": {},
          "execution_count": 54
        }
      ]
    },
    {
      "cell_type": "code",
      "source": [
        "raw_train['target'] = raw_train.d_ret"
      ],
      "metadata": {
        "id": "8NZtV0AGQULw"
      },
      "execution_count": 45,
      "outputs": []
    },
    {
      "cell_type": "code",
      "source": [
        "raw_train = raw_train.drop('d_ret',axis=1)"
      ],
      "metadata": {
        "id": "VB56ECKGHvxm"
      },
      "execution_count": 46,
      "outputs": []
    },
    {
      "cell_type": "code",
      "execution_count": 53,
      "metadata": {
        "id": "mX_CM38xAFzT"
      },
      "outputs": [],
      "source": [
        "raw_train.set_index(\"date\",inplace=True)"
      ]
    },
    {
      "cell_type": "markdown",
      "source": [
        "#XGBoost"
      ],
      "metadata": {
        "id": "ZTLUNl_fPcRg"
      }
    },
    {
      "cell_type": "code",
      "source": [
        "'''\n",
        "참고: https://dining-developer.tistory.com/7\n",
        "https://hwi-doc.tistory.com/entry/%EC%9D%B4%ED%95%B4%ED%95%98%EA%B3%A0-%EC%82%AC%EC%9A%A9%ED%95%98%EC%9E%90-XGBoost\n",
        "\n",
        "'''"
      ],
      "metadata": {
        "id": "WYrnYf9QIv8z"
      },
      "execution_count": null,
      "outputs": []
    },
    {
      "cell_type": "code",
      "source": [
        "from xgboost import XGBRegressor\n",
        "import numpy as np\n",
        "import xgboost as xgb\n",
        "\n",
        "\n",
        "X, y = raw_train.iloc[:,:-1],raw_train.iloc[:,-1]\n",
        "data_dmatrix = xgb.DMatrix(data=X,label=y)\n",
        "\n",
        "from sklearn.model_selection import train_test_split\n",
        "X_train, X_test, y_train, y_test = train_test_split(X, y, test_size=246, random_state=123)\n",
        "X_train, X_val, y_train, y_val = train_test_split(X_train, y_train, test_size=248, random_state=123)\n",
        "xg_reg = xgb.XGBRegressor(objective ='reg:linear', colsample_bytree = 0.3, learning_rate = 0.1, max_depth = 5, alpha = 10, n_estimators = 10)\n",
        "xg_reg.fit(X_train,y_train)\n",
        "\n",
        "preds = xg_reg.predict(X_test)\n",
        "\n",
        "\n",
        "from sklearn.metrics import mean_squared_error\n",
        "rmse = np.sqrt(mean_squared_error(y_test, preds))\n",
        "print(\"RMSE: %f\" % (rmse))\n",
        "# RMSE: 1.083631\n",
        "# RMSE: 1.178757\n",
        "\n",
        "\n",
        "# cross validation\n",
        "params = {\"objective\":\"reg:linear\",'colsample_bytree': 0.3,'learning_rate': 0.1,'max_depth': 5, 'alpha': 10}\n",
        "cv_results = xgb.cv(dtrain=data_dmatrix, params=params, nfold=3,num_boost_round=50,early_stopping_rounds=10,metrics=\"rmse\", as_pandas=True, seed=123)\n",
        "\n",
        "print((cv_results[\"test-rmse-mean\"]).tail(1))\n",
        "# 1.183196\n",
        "# 1.128603"
      ],
      "metadata": {
        "colab": {
          "base_uri": "https://localhost:8080/"
        },
        "id": "CIDs82VRHRxd",
        "outputId": "e546f815-8471-4c52-910e-a3f2044688cf"
      },
      "execution_count": 56,
      "outputs": [
        {
          "output_type": "stream",
          "name": "stdout",
          "text": [
            "[11:51:51] WARNING: ../src/objective/regression_obj.cu:213: reg:linear is now deprecated in favor of reg:squarederror.\n",
            "RMSE: 1.178757\n",
            "[11:51:51] WARNING: ../src/objective/regression_obj.cu:213: reg:linear is now deprecated in favor of reg:squarederror.\n",
            "[11:51:51] WARNING: ../src/objective/regression_obj.cu:213: reg:linear is now deprecated in favor of reg:squarederror.\n",
            "[11:51:51] WARNING: ../src/objective/regression_obj.cu:213: reg:linear is now deprecated in favor of reg:squarederror.\n",
            "49    1.128603\n",
            "Name: test-rmse-mean, dtype: float64\n"
          ]
        }
      ]
    },
    {
      "cell_type": "code",
      "source": [
        "# cross validation_2\n",
        "params = {\"objective\":\"reg:linear\",'colsample_bytree': 0.3,'learning_rate': 0.02,'max_depth': 5, 'alpha': 10, 'min_child_weight':3, 'colsample_bytree':0.5,}\n",
        "cv_results = xgb.cv(dtrain=data_dmatrix, params=params, nfold=3,num_boost_round=50,early_stopping_rounds=10,metrics=\"rmse\", as_pandas=True, seed=123)\n",
        "\n",
        "print((cv_results[\"test-rmse-mean\"]).tail(1))\n",
        "# 1.19683\n",
        "# 1.15654"
      ],
      "metadata": {
        "colab": {
          "base_uri": "https://localhost:8080/"
        },
        "id": "A0ukBTuuOfsa",
        "outputId": "b20ec32e-eeaf-4c0d-bcb5-1cae0a358425"
      },
      "execution_count": 57,
      "outputs": [
        {
          "output_type": "stream",
          "name": "stdout",
          "text": [
            "[11:52:18] WARNING: ../src/objective/regression_obj.cu:213: reg:linear is now deprecated in favor of reg:squarederror.\n",
            "[11:52:18] WARNING: ../src/objective/regression_obj.cu:213: reg:linear is now deprecated in favor of reg:squarederror.\n",
            "[11:52:18] WARNING: ../src/objective/regression_obj.cu:213: reg:linear is now deprecated in favor of reg:squarederror.\n",
            "49    1.15654\n",
            "Name: test-rmse-mean, dtype: float64\n"
          ]
        }
      ]
    },
    {
      "cell_type": "code",
      "source": [
        "cv_results.tail()"
      ],
      "metadata": {
        "colab": {
          "base_uri": "https://localhost:8080/",
          "height": 206
        },
        "id": "Hq6-yZ8OJkQS",
        "outputId": "2dc22c3c-b70c-4ea4-ca97-ce28fc2a0099"
      },
      "execution_count": 58,
      "outputs": [
        {
          "output_type": "execute_result",
          "data": {
            "text/plain": [
              "    train-rmse-mean  train-rmse-std  test-rmse-mean  test-rmse-std\n",
              "45         1.104837        0.048427        1.161372       0.128889\n",
              "46         1.102354        0.048555        1.160134       0.128589\n",
              "47         1.100013        0.047892        1.158644       0.128697\n",
              "48         1.097372        0.047343        1.157364       0.128805\n",
              "49         1.095050        0.048216        1.156540       0.128018"
            ],
            "text/html": [
              "\n",
              "  <div id=\"df-b7e6296a-e027-4ffe-b535-0c384c0f1ae3\" class=\"colab-df-container\">\n",
              "    <div>\n",
              "<style scoped>\n",
              "    .dataframe tbody tr th:only-of-type {\n",
              "        vertical-align: middle;\n",
              "    }\n",
              "\n",
              "    .dataframe tbody tr th {\n",
              "        vertical-align: top;\n",
              "    }\n",
              "\n",
              "    .dataframe thead th {\n",
              "        text-align: right;\n",
              "    }\n",
              "</style>\n",
              "<table border=\"1\" class=\"dataframe\">\n",
              "  <thead>\n",
              "    <tr style=\"text-align: right;\">\n",
              "      <th></th>\n",
              "      <th>train-rmse-mean</th>\n",
              "      <th>train-rmse-std</th>\n",
              "      <th>test-rmse-mean</th>\n",
              "      <th>test-rmse-std</th>\n",
              "    </tr>\n",
              "  </thead>\n",
              "  <tbody>\n",
              "    <tr>\n",
              "      <th>45</th>\n",
              "      <td>1.104837</td>\n",
              "      <td>0.048427</td>\n",
              "      <td>1.161372</td>\n",
              "      <td>0.128889</td>\n",
              "    </tr>\n",
              "    <tr>\n",
              "      <th>46</th>\n",
              "      <td>1.102354</td>\n",
              "      <td>0.048555</td>\n",
              "      <td>1.160134</td>\n",
              "      <td>0.128589</td>\n",
              "    </tr>\n",
              "    <tr>\n",
              "      <th>47</th>\n",
              "      <td>1.100013</td>\n",
              "      <td>0.047892</td>\n",
              "      <td>1.158644</td>\n",
              "      <td>0.128697</td>\n",
              "    </tr>\n",
              "    <tr>\n",
              "      <th>48</th>\n",
              "      <td>1.097372</td>\n",
              "      <td>0.047343</td>\n",
              "      <td>1.157364</td>\n",
              "      <td>0.128805</td>\n",
              "    </tr>\n",
              "    <tr>\n",
              "      <th>49</th>\n",
              "      <td>1.095050</td>\n",
              "      <td>0.048216</td>\n",
              "      <td>1.156540</td>\n",
              "      <td>0.128018</td>\n",
              "    </tr>\n",
              "  </tbody>\n",
              "</table>\n",
              "</div>\n",
              "    <div class=\"colab-df-buttons\">\n",
              "\n",
              "  <div class=\"colab-df-container\">\n",
              "    <button class=\"colab-df-convert\" onclick=\"convertToInteractive('df-b7e6296a-e027-4ffe-b535-0c384c0f1ae3')\"\n",
              "            title=\"Convert this dataframe to an interactive table.\"\n",
              "            style=\"display:none;\">\n",
              "\n",
              "  <svg xmlns=\"http://www.w3.org/2000/svg\" height=\"24px\" viewBox=\"0 -960 960 960\">\n",
              "    <path d=\"M120-120v-720h720v720H120Zm60-500h600v-160H180v160Zm220 220h160v-160H400v160Zm0 220h160v-160H400v160ZM180-400h160v-160H180v160Zm440 0h160v-160H620v160ZM180-180h160v-160H180v160Zm440 0h160v-160H620v160Z\"/>\n",
              "  </svg>\n",
              "    </button>\n",
              "\n",
              "  <style>\n",
              "    .colab-df-container {\n",
              "      display:flex;\n",
              "      gap: 12px;\n",
              "    }\n",
              "\n",
              "    .colab-df-convert {\n",
              "      background-color: #E8F0FE;\n",
              "      border: none;\n",
              "      border-radius: 50%;\n",
              "      cursor: pointer;\n",
              "      display: none;\n",
              "      fill: #1967D2;\n",
              "      height: 32px;\n",
              "      padding: 0 0 0 0;\n",
              "      width: 32px;\n",
              "    }\n",
              "\n",
              "    .colab-df-convert:hover {\n",
              "      background-color: #E2EBFA;\n",
              "      box-shadow: 0px 1px 2px rgba(60, 64, 67, 0.3), 0px 1px 3px 1px rgba(60, 64, 67, 0.15);\n",
              "      fill: #174EA6;\n",
              "    }\n",
              "\n",
              "    .colab-df-buttons div {\n",
              "      margin-bottom: 4px;\n",
              "    }\n",
              "\n",
              "    [theme=dark] .colab-df-convert {\n",
              "      background-color: #3B4455;\n",
              "      fill: #D2E3FC;\n",
              "    }\n",
              "\n",
              "    [theme=dark] .colab-df-convert:hover {\n",
              "      background-color: #434B5C;\n",
              "      box-shadow: 0px 1px 3px 1px rgba(0, 0, 0, 0.15);\n",
              "      filter: drop-shadow(0px 1px 2px rgba(0, 0, 0, 0.3));\n",
              "      fill: #FFFFFF;\n",
              "    }\n",
              "  </style>\n",
              "\n",
              "    <script>\n",
              "      const buttonEl =\n",
              "        document.querySelector('#df-b7e6296a-e027-4ffe-b535-0c384c0f1ae3 button.colab-df-convert');\n",
              "      buttonEl.style.display =\n",
              "        google.colab.kernel.accessAllowed ? 'block' : 'none';\n",
              "\n",
              "      async function convertToInteractive(key) {\n",
              "        const element = document.querySelector('#df-b7e6296a-e027-4ffe-b535-0c384c0f1ae3');\n",
              "        const dataTable =\n",
              "          await google.colab.kernel.invokeFunction('convertToInteractive',\n",
              "                                                    [key], {});\n",
              "        if (!dataTable) return;\n",
              "\n",
              "        const docLinkHtml = 'Like what you see? Visit the ' +\n",
              "          '<a target=\"_blank\" href=https://colab.research.google.com/notebooks/data_table.ipynb>data table notebook</a>'\n",
              "          + ' to learn more about interactive tables.';\n",
              "        element.innerHTML = '';\n",
              "        dataTable['output_type'] = 'display_data';\n",
              "        await google.colab.output.renderOutput(dataTable, element);\n",
              "        const docLink = document.createElement('div');\n",
              "        docLink.innerHTML = docLinkHtml;\n",
              "        element.appendChild(docLink);\n",
              "      }\n",
              "    </script>\n",
              "  </div>\n",
              "\n",
              "\n",
              "<div id=\"df-6bfa7df7-bbfe-4b9b-8020-637602b04605\">\n",
              "  <button class=\"colab-df-quickchart\" onclick=\"quickchart('df-6bfa7df7-bbfe-4b9b-8020-637602b04605')\"\n",
              "            title=\"Suggest charts.\"\n",
              "            style=\"display:none;\">\n",
              "\n",
              "<svg xmlns=\"http://www.w3.org/2000/svg\" height=\"24px\"viewBox=\"0 0 24 24\"\n",
              "     width=\"24px\">\n",
              "    <g>\n",
              "        <path d=\"M19 3H5c-1.1 0-2 .9-2 2v14c0 1.1.9 2 2 2h14c1.1 0 2-.9 2-2V5c0-1.1-.9-2-2-2zM9 17H7v-7h2v7zm4 0h-2V7h2v10zm4 0h-2v-4h2v4z\"/>\n",
              "    </g>\n",
              "</svg>\n",
              "  </button>\n",
              "\n",
              "<style>\n",
              "  .colab-df-quickchart {\n",
              "    background-color: #E8F0FE;\n",
              "    border: none;\n",
              "    border-radius: 50%;\n",
              "    cursor: pointer;\n",
              "    display: none;\n",
              "    fill: #1967D2;\n",
              "    height: 32px;\n",
              "    padding: 0 0 0 0;\n",
              "    width: 32px;\n",
              "  }\n",
              "\n",
              "  .colab-df-quickchart:hover {\n",
              "    background-color: #E2EBFA;\n",
              "    box-shadow: 0px 1px 2px rgba(60, 64, 67, 0.3), 0px 1px 3px 1px rgba(60, 64, 67, 0.15);\n",
              "    fill: #174EA6;\n",
              "  }\n",
              "\n",
              "  [theme=dark] .colab-df-quickchart {\n",
              "    background-color: #3B4455;\n",
              "    fill: #D2E3FC;\n",
              "  }\n",
              "\n",
              "  [theme=dark] .colab-df-quickchart:hover {\n",
              "    background-color: #434B5C;\n",
              "    box-shadow: 0px 1px 3px 1px rgba(0, 0, 0, 0.15);\n",
              "    filter: drop-shadow(0px 1px 2px rgba(0, 0, 0, 0.3));\n",
              "    fill: #FFFFFF;\n",
              "  }\n",
              "</style>\n",
              "\n",
              "  <script>\n",
              "    async function quickchart(key) {\n",
              "      const charts = await google.colab.kernel.invokeFunction(\n",
              "          'suggestCharts', [key], {});\n",
              "    }\n",
              "    (() => {\n",
              "      let quickchartButtonEl =\n",
              "        document.querySelector('#df-6bfa7df7-bbfe-4b9b-8020-637602b04605 button');\n",
              "      quickchartButtonEl.style.display =\n",
              "        google.colab.kernel.accessAllowed ? 'block' : 'none';\n",
              "    })();\n",
              "  </script>\n",
              "</div>\n",
              "    </div>\n",
              "  </div>\n"
            ]
          },
          "metadata": {},
          "execution_count": 58
        }
      ]
    },
    {
      "cell_type": "code",
      "source": [
        "import matplotlib.pyplot as plt\n",
        "\n",
        "xgb.plot_tree(xg_reg,num_trees=9)\n",
        "plt.rcParams['figure.figsize'] = [40, 10]\n",
        "plt.show()"
      ],
      "metadata": {
        "colab": {
          "base_uri": "https://localhost:8080/",
          "height": 397
        },
        "id": "6oLZw1JfI6dn",
        "outputId": "92c0efc6-7cc3-417a-aa92-a237f3370b40"
      },
      "execution_count": 197,
      "outputs": [
        {
          "output_type": "display_data",
          "data": {
            "text/plain": [
              "<Figure size 1000x1200 with 1 Axes>"
            ],
            "image/png": "[encoded data removed]"
          },
          "metadata": {}
        }
      ]
    },
    {
      "cell_type": "code",
      "source": [
        "from xgboost import XGBRegressor\n",
        "from sklearn.model_selection import GridSearchCV\n",
        "\n",
        "# 객체 생성, 일단은 트리 100개만 만듦\n",
        "xgb_model = XGBRegressor(n_estimators=100)\n",
        "\n",
        "# 후보 파라미터 선정\n",
        "params = {'max_depth':[5,7], 'min_child_weight':[1,3], 'colsample_bytree':[0.5,0.75]}\n",
        "\n",
        "# gridsearchcv 객체 정보 입력(어떤 모델, 파라미터 후보, 교차검증 몇 번)\n",
        "gridcv = GridSearchCV(xgb_model, param_grid=params, cv=3)\n",
        "\n",
        "\n",
        "# 파라미터 튜닝 시작\n",
        "gridcv.fit(X_train, y_train, early_stopping_rounds=30, eval_metric='rmse', eval_set=[(X_test, y_test)])\n",
        "\n",
        "#튜닝된 파라미터 출력\n",
        "print(gridcv.best_params_)\n",
        "# {'colsample_bytree': 0.5, 'max_depth': 5, 'min_child_weight': 3}\n",
        "# {'colsample_bytree': 0.75, 'max_depth': 5, 'min_child_weight': 1}"
      ],
      "metadata": {
        "colab": {
          "base_uri": "https://localhost:8080/"
        },
        "id": "o_WzztjpMZ_W",
        "outputId": "3d47ae48-76d5-4fbc-cfc8-4afadc56f18c"
      },
      "execution_count": 61,
      "outputs": [
        {
          "output_type": "stream",
          "name": "stdout",
          "text": [
            "[0]\tvalidation_0-rmse:1.15676\n",
            "[1]\tvalidation_0-rmse:1.15113\n",
            "[2]\tvalidation_0-rmse:1.16934\n",
            "[3]\tvalidation_0-rmse:1.14908\n",
            "[4]\tvalidation_0-rmse:1.14226\n",
            "[5]\tvalidation_0-rmse:1.12725\n",
            "[6]\tvalidation_0-rmse:1.13627\n",
            "[7]\tvalidation_0-rmse:1.14387\n",
            "[8]\tvalidation_0-rmse:1.14087\n",
            "[9]\tvalidation_0-rmse:1.15032\n",
            "[10]\tvalidation_0-rmse:1.14933\n",
            "[11]\tvalidation_0-rmse:1.15473\n",
            "[12]\tvalidation_0-rmse:1.15192\n",
            "[13]\tvalidation_0-rmse:1.15342\n",
            "[14]\tvalidation_0-rmse:1.15598\n",
            "[15]\tvalidation_0-rmse:1.15962\n",
            "[16]\tvalidation_0-rmse:1.15809\n",
            "[17]\tvalidation_0-rmse:1.15819\n",
            "[18]\tvalidation_0-rmse:1.15307\n",
            "[19]\tvalidation_0-rmse:1.15686\n",
            "[20]\tvalidation_0-rmse:1.15821\n",
            "[21]\tvalidation_0-rmse:1.15678\n",
            "[22]\tvalidation_0-rmse:1.15565\n",
            "[23]\tvalidation_0-rmse:1.15637\n",
            "[24]\tvalidation_0-rmse:1.15355\n",
            "[25]\tvalidation_0-rmse:1.15335\n",
            "[26]\tvalidation_0-rmse:1.15366\n",
            "[27]\tvalidation_0-rmse:1.15460\n",
            "[28]\tvalidation_0-rmse:1.15183\n",
            "[29]\tvalidation_0-rmse:1.15001\n",
            "[30]\tvalidation_0-rmse:1.15592\n"
          ]
        },
        {
          "output_type": "stream",
          "name": "stderr",
          "text": [
            "/usr/local/lib/python3.10/dist-packages/xgboost/sklearn.py:835: UserWarning: `eval_metric` in `fit` method is deprecated for better compatibility with scikit-learn, use `eval_metric` in constructor or`set_params` instead.\n",
            "  warnings.warn(\n",
            "/usr/local/lib/python3.10/dist-packages/xgboost/sklearn.py:835: UserWarning: `early_stopping_rounds` in `fit` method is deprecated for better compatibility with scikit-learn, use `early_stopping_rounds` in constructor or`set_params` instead.\n",
            "  warnings.warn(\n"
          ]
        },
        {
          "output_type": "stream",
          "name": "stdout",
          "text": [
            "[31]\tvalidation_0-rmse:1.15865\n",
            "[32]\tvalidation_0-rmse:1.15475\n",
            "[33]\tvalidation_0-rmse:1.15320\n",
            "[34]\tvalidation_0-rmse:1.15302\n",
            "[0]\tvalidation_0-rmse:1.19430\n",
            "[1]\tvalidation_0-rmse:1.21330\n",
            "[2]\tvalidation_0-rmse:1.22953\n",
            "[3]\tvalidation_0-rmse:1.17215\n",
            "[4]\tvalidation_0-rmse:1.13352\n",
            "[5]\tvalidation_0-rmse:1.14788\n",
            "[6]\tvalidation_0-rmse:1.16863\n",
            "[7]\tvalidation_0-rmse:1.19672\n",
            "[8]\tvalidation_0-rmse:1.19572\n",
            "[9]\tvalidation_0-rmse:1.19763\n",
            "[10]\tvalidation_0-rmse:1.20229\n",
            "[11]\tvalidation_0-rmse:1.21952\n",
            "[12]\tvalidation_0-rmse:1.21202\n",
            "[13]\tvalidation_0-rmse:1.23211\n",
            "[14]\tvalidation_0-rmse:1.24249\n",
            "[15]\tvalidation_0-rmse:1.24080\n",
            "[16]\tvalidation_0-rmse:1.23488\n",
            "[17]\tvalidation_0-rmse:1.23877\n",
            "[18]\tvalidation_0-rmse:1.23516\n",
            "[19]\tvalidation_0-rmse:1.23344\n",
            "[20]\tvalidation_0-rmse:1.23287\n",
            "[21]\tvalidation_0-rmse:1.23041\n",
            "[22]\tvalidation_0-rmse:1.22325\n",
            "[23]\tvalidation_0-rmse:1.23282\n",
            "[24]\tvalidation_0-rmse:1.23438\n",
            "[25]\tvalidation_0-rmse:1.22928\n",
            "[26]\tvalidation_0-rmse:1.23578\n",
            "[27]\tvalidation_0-rmse:1.23452\n",
            "[28]\tvalidation_0-rmse:1.23318\n",
            "[29]\tvalidation_0-rmse:1.23224\n",
            "[30]\tvalidation_0-rmse:1.22706\n",
            "[31]\tvalidation_0-rmse:1.22750\n"
          ]
        },
        {
          "output_type": "stream",
          "name": "stderr",
          "text": [
            "/usr/local/lib/python3.10/dist-packages/xgboost/sklearn.py:835: UserWarning: `eval_metric` in `fit` method is deprecated for better compatibility with scikit-learn, use `eval_metric` in constructor or`set_params` instead.\n",
            "  warnings.warn(\n",
            "/usr/local/lib/python3.10/dist-packages/xgboost/sklearn.py:835: UserWarning: `early_stopping_rounds` in `fit` method is deprecated for better compatibility with scikit-learn, use `early_stopping_rounds` in constructor or`set_params` instead.\n",
            "  warnings.warn(\n"
          ]
        },
        {
          "output_type": "stream",
          "name": "stdout",
          "text": [
            "[32]\tvalidation_0-rmse:1.22492\n",
            "[33]\tvalidation_0-rmse:1.22603\n",
            "[34]\tvalidation_0-rmse:1.22900\n",
            "[0]\tvalidation_0-rmse:1.21642\n",
            "[1]\tvalidation_0-rmse:1.15618\n",
            "[2]\tvalidation_0-rmse:1.12360\n",
            "[3]\tvalidation_0-rmse:1.11620\n",
            "[4]\tvalidation_0-rmse:1.10677\n",
            "[5]\tvalidation_0-rmse:1.10916\n",
            "[6]\tvalidation_0-rmse:1.10937\n",
            "[7]\tvalidation_0-rmse:1.11894\n",
            "[8]\tvalidation_0-rmse:1.10835\n",
            "[9]\tvalidation_0-rmse:1.10647\n",
            "[10]\tvalidation_0-rmse:1.10892\n",
            "[11]\tvalidation_0-rmse:1.10848\n",
            "[12]\tvalidation_0-rmse:1.09725\n",
            "[13]\tvalidation_0-rmse:1.10514\n",
            "[14]\tvalidation_0-rmse:1.10448\n",
            "[15]\tvalidation_0-rmse:1.10367\n",
            "[16]\tvalidation_0-rmse:1.10846\n",
            "[17]\tvalidation_0-rmse:1.10806\n",
            "[18]\tvalidation_0-rmse:1.10726\n",
            "[19]\tvalidation_0-rmse:1.10949\n",
            "[20]\tvalidation_0-rmse:1.10568\n",
            "[21]\tvalidation_0-rmse:1.09928\n",
            "[22]\tvalidation_0-rmse:1.09927\n",
            "[23]\tvalidation_0-rmse:1.10061\n",
            "[24]\tvalidation_0-rmse:1.09651\n",
            "[25]\tvalidation_0-rmse:1.09555\n",
            "[26]\tvalidation_0-rmse:1.09801\n",
            "[27]\tvalidation_0-rmse:1.10087\n",
            "[28]\tvalidation_0-rmse:1.09935\n",
            "[29]\tvalidation_0-rmse:1.09494\n",
            "[30]\tvalidation_0-rmse:1.09620\n",
            "[31]\tvalidation_0-rmse:1.09895\n",
            "[32]\tvalidation_0-rmse:1.10622\n",
            "[33]\tvalidation_0-rmse:1.10628\n"
          ]
        },
        {
          "output_type": "stream",
          "name": "stderr",
          "text": [
            "/usr/local/lib/python3.10/dist-packages/xgboost/sklearn.py:835: UserWarning: `eval_metric` in `fit` method is deprecated for better compatibility with scikit-learn, use `eval_metric` in constructor or`set_params` instead.\n",
            "  warnings.warn(\n",
            "/usr/local/lib/python3.10/dist-packages/xgboost/sklearn.py:835: UserWarning: `early_stopping_rounds` in `fit` method is deprecated for better compatibility with scikit-learn, use `early_stopping_rounds` in constructor or`set_params` instead.\n",
            "  warnings.warn(\n"
          ]
        },
        {
          "output_type": "stream",
          "name": "stdout",
          "text": [
            "[34]\tvalidation_0-rmse:1.10802\n",
            "[35]\tvalidation_0-rmse:1.10796\n",
            "[36]\tvalidation_0-rmse:1.10966\n",
            "[37]\tvalidation_0-rmse:1.11250\n",
            "[38]\tvalidation_0-rmse:1.11452\n",
            "[39]\tvalidation_0-rmse:1.11465\n",
            "[40]\tvalidation_0-rmse:1.11600\n",
            "[41]\tvalidation_0-rmse:1.11716\n",
            "[42]\tvalidation_0-rmse:1.11161\n",
            "[43]\tvalidation_0-rmse:1.11049\n",
            "[44]\tvalidation_0-rmse:1.10922\n",
            "[45]\tvalidation_0-rmse:1.10664\n",
            "[46]\tvalidation_0-rmse:1.10817\n",
            "[47]\tvalidation_0-rmse:1.10876\n",
            "[48]\tvalidation_0-rmse:1.10749\n",
            "[49]\tvalidation_0-rmse:1.10767\n",
            "[50]\tvalidation_0-rmse:1.10693\n",
            "[51]\tvalidation_0-rmse:1.10869\n",
            "[52]\tvalidation_0-rmse:1.10976\n",
            "[53]\tvalidation_0-rmse:1.10900\n",
            "[54]\tvalidation_0-rmse:1.10944\n",
            "[55]\tvalidation_0-rmse:1.10910\n",
            "[56]\tvalidation_0-rmse:1.10950\n",
            "[57]\tvalidation_0-rmse:1.10928\n",
            "[58]\tvalidation_0-rmse:1.11147\n",
            "[0]\tvalidation_0-rmse:1.15536\n",
            "[1]\tvalidation_0-rmse:1.15046\n",
            "[2]\tvalidation_0-rmse:1.18052\n",
            "[3]\tvalidation_0-rmse:1.16198\n",
            "[4]\tvalidation_0-rmse:1.15283\n",
            "[5]\tvalidation_0-rmse:1.14318\n",
            "[6]\tvalidation_0-rmse:1.14994\n",
            "[7]\tvalidation_0-rmse:1.16211\n",
            "[8]\tvalidation_0-rmse:1.17696\n",
            "[9]\tvalidation_0-rmse:1.18411\n",
            "[10]\tvalidation_0-rmse:1.18799\n",
            "[11]\tvalidation_0-rmse:1.19062\n",
            "[12]\tvalidation_0-rmse:1.18251\n",
            "[13]\tvalidation_0-rmse:1.18264\n",
            "[14]\tvalidation_0-rmse:1.18386\n",
            "[15]\tvalidation_0-rmse:1.18512\n",
            "[16]\tvalidation_0-rmse:1.18031\n",
            "[17]\tvalidation_0-rmse:1.18139\n",
            "[18]\tvalidation_0-rmse:1.18168\n",
            "[19]\tvalidation_0-rmse:1.18321\n",
            "[20]\tvalidation_0-rmse:1.17578\n",
            "[21]\tvalidation_0-rmse:1.17765\n",
            "[22]\tvalidation_0-rmse:1.17976\n",
            "[23]\tvalidation_0-rmse:1.18107\n",
            "[24]\tvalidation_0-rmse:1.18315\n",
            "[25]\tvalidation_0-rmse:1.18276\n",
            "[26]\tvalidation_0-rmse:1.18011\n",
            "[27]\tvalidation_0-rmse:1.17710\n",
            "[28]\tvalidation_0-rmse:1.17632\n",
            "[29]\tvalidation_0-rmse:1.17309\n",
            "[30]\tvalidation_0-rmse:1.17499\n"
          ]
        },
        {
          "output_type": "stream",
          "name": "stderr",
          "text": [
            "/usr/local/lib/python3.10/dist-packages/xgboost/sklearn.py:835: UserWarning: `eval_metric` in `fit` method is deprecated for better compatibility with scikit-learn, use `eval_metric` in constructor or`set_params` instead.\n",
            "  warnings.warn(\n",
            "/usr/local/lib/python3.10/dist-packages/xgboost/sklearn.py:835: UserWarning: `early_stopping_rounds` in `fit` method is deprecated for better compatibility with scikit-learn, use `early_stopping_rounds` in constructor or`set_params` instead.\n",
            "  warnings.warn(\n"
          ]
        },
        {
          "output_type": "stream",
          "name": "stdout",
          "text": [
            "[31]\tvalidation_0-rmse:1.17265\n",
            "[32]\tvalidation_0-rmse:1.17304\n",
            "[33]\tvalidation_0-rmse:1.17565\n",
            "[34]\tvalidation_0-rmse:1.18041\n",
            "[0]\tvalidation_0-rmse:1.17935\n",
            "[1]\tvalidation_0-rmse:1.17549\n",
            "[2]\tvalidation_0-rmse:1.17784\n",
            "[3]\tvalidation_0-rmse:1.14138\n",
            "[4]\tvalidation_0-rmse:1.14595\n",
            "[5]\tvalidation_0-rmse:1.13909\n",
            "[6]\tvalidation_0-rmse:1.15716\n",
            "[7]\tvalidation_0-rmse:1.17311\n",
            "[8]\tvalidation_0-rmse:1.17551\n",
            "[9]\tvalidation_0-rmse:1.17916\n",
            "[10]\tvalidation_0-rmse:1.18220\n",
            "[11]\tvalidation_0-rmse:1.17628\n",
            "[12]\tvalidation_0-rmse:1.16980\n",
            "[13]\tvalidation_0-rmse:1.16845\n",
            "[14]\tvalidation_0-rmse:1.18137\n",
            "[15]\tvalidation_0-rmse:1.18095\n",
            "[16]\tvalidation_0-rmse:1.17744\n",
            "[17]\tvalidation_0-rmse:1.18006\n",
            "[18]\tvalidation_0-rmse:1.18427\n",
            "[19]\tvalidation_0-rmse:1.17915\n",
            "[20]\tvalidation_0-rmse:1.17950\n",
            "[21]\tvalidation_0-rmse:1.17419\n",
            "[22]\tvalidation_0-rmse:1.18188\n",
            "[23]\tvalidation_0-rmse:1.18852\n",
            "[24]\tvalidation_0-rmse:1.18803\n",
            "[25]\tvalidation_0-rmse:1.20083\n",
            "[26]\tvalidation_0-rmse:1.18878\n",
            "[27]\tvalidation_0-rmse:1.17676\n",
            "[28]\tvalidation_0-rmse:1.17815\n",
            "[29]\tvalidation_0-rmse:1.17889\n"
          ]
        },
        {
          "output_type": "stream",
          "name": "stderr",
          "text": [
            "/usr/local/lib/python3.10/dist-packages/xgboost/sklearn.py:835: UserWarning: `eval_metric` in `fit` method is deprecated for better compatibility with scikit-learn, use `eval_metric` in constructor or`set_params` instead.\n",
            "  warnings.warn(\n",
            "/usr/local/lib/python3.10/dist-packages/xgboost/sklearn.py:835: UserWarning: `early_stopping_rounds` in `fit` method is deprecated for better compatibility with scikit-learn, use `early_stopping_rounds` in constructor or`set_params` instead.\n",
            "  warnings.warn(\n"
          ]
        },
        {
          "output_type": "stream",
          "name": "stdout",
          "text": [
            "[30]\tvalidation_0-rmse:1.18188\n",
            "[31]\tvalidation_0-rmse:1.18172\n",
            "[32]\tvalidation_0-rmse:1.18817\n",
            "[33]\tvalidation_0-rmse:1.18993\n",
            "[34]\tvalidation_0-rmse:1.19102\n",
            "[0]\tvalidation_0-rmse:1.18491\n",
            "[1]\tvalidation_0-rmse:1.20250\n",
            "[2]\tvalidation_0-rmse:1.21578\n",
            "[3]\tvalidation_0-rmse:1.20879\n",
            "[4]\tvalidation_0-rmse:1.21236\n",
            "[5]\tvalidation_0-rmse:1.22872\n",
            "[6]\tvalidation_0-rmse:1.24350\n",
            "[7]\tvalidation_0-rmse:1.25790\n",
            "[8]\tvalidation_0-rmse:1.26110\n",
            "[9]\tvalidation_0-rmse:1.26705\n",
            "[10]\tvalidation_0-rmse:1.28082\n",
            "[11]\tvalidation_0-rmse:1.27097\n",
            "[12]\tvalidation_0-rmse:1.29053\n",
            "[13]\tvalidation_0-rmse:1.29864\n",
            "[14]\tvalidation_0-rmse:1.29148\n",
            "[15]\tvalidation_0-rmse:1.29165\n",
            "[16]\tvalidation_0-rmse:1.29889\n",
            "[17]\tvalidation_0-rmse:1.29936\n",
            "[18]\tvalidation_0-rmse:1.30074\n",
            "[19]\tvalidation_0-rmse:1.30184\n",
            "[20]\tvalidation_0-rmse:1.28139\n",
            "[21]\tvalidation_0-rmse:1.28477\n",
            "[22]\tvalidation_0-rmse:1.28507\n",
            "[23]\tvalidation_0-rmse:1.29313\n",
            "[24]\tvalidation_0-rmse:1.29081\n",
            "[25]\tvalidation_0-rmse:1.29235\n",
            "[26]\tvalidation_0-rmse:1.29479\n"
          ]
        },
        {
          "output_type": "stream",
          "name": "stderr",
          "text": [
            "/usr/local/lib/python3.10/dist-packages/xgboost/sklearn.py:835: UserWarning: `eval_metric` in `fit` method is deprecated for better compatibility with scikit-learn, use `eval_metric` in constructor or`set_params` instead.\n",
            "  warnings.warn(\n",
            "/usr/local/lib/python3.10/dist-packages/xgboost/sklearn.py:835: UserWarning: `early_stopping_rounds` in `fit` method is deprecated for better compatibility with scikit-learn, use `early_stopping_rounds` in constructor or`set_params` instead.\n",
            "  warnings.warn(\n"
          ]
        },
        {
          "output_type": "stream",
          "name": "stdout",
          "text": [
            "[27]\tvalidation_0-rmse:1.29944\n",
            "[28]\tvalidation_0-rmse:1.30373\n",
            "[29]\tvalidation_0-rmse:1.29156\n",
            "[30]\tvalidation_0-rmse:1.29754\n",
            "[0]\tvalidation_0-rmse:1.16436\n",
            "[1]\tvalidation_0-rmse:1.14976\n",
            "[2]\tvalidation_0-rmse:1.16397\n",
            "[3]\tvalidation_0-rmse:1.14351\n",
            "[4]\tvalidation_0-rmse:1.15562\n",
            "[5]\tvalidation_0-rmse:1.17026\n",
            "[6]\tvalidation_0-rmse:1.17534\n",
            "[7]\tvalidation_0-rmse:1.18715\n",
            "[8]\tvalidation_0-rmse:1.18105\n",
            "[9]\tvalidation_0-rmse:1.18193\n",
            "[10]\tvalidation_0-rmse:1.18821\n",
            "[11]\tvalidation_0-rmse:1.19216\n",
            "[12]\tvalidation_0-rmse:1.19118\n",
            "[13]\tvalidation_0-rmse:1.19806\n",
            "[14]\tvalidation_0-rmse:1.20157\n",
            "[15]\tvalidation_0-rmse:1.20127\n",
            "[16]\tvalidation_0-rmse:1.20434\n",
            "[17]\tvalidation_0-rmse:1.20475\n",
            "[18]\tvalidation_0-rmse:1.20718\n",
            "[19]\tvalidation_0-rmse:1.21109\n",
            "[20]\tvalidation_0-rmse:1.20759\n",
            "[21]\tvalidation_0-rmse:1.20905\n",
            "[22]\tvalidation_0-rmse:1.20880\n",
            "[23]\tvalidation_0-rmse:1.20935\n",
            "[24]\tvalidation_0-rmse:1.20913\n",
            "[25]\tvalidation_0-rmse:1.21250\n",
            "[26]\tvalidation_0-rmse:1.21200\n",
            "[27]\tvalidation_0-rmse:1.21226\n"
          ]
        },
        {
          "output_type": "stream",
          "name": "stderr",
          "text": [
            "/usr/local/lib/python3.10/dist-packages/xgboost/sklearn.py:835: UserWarning: `eval_metric` in `fit` method is deprecated for better compatibility with scikit-learn, use `eval_metric` in constructor or`set_params` instead.\n",
            "  warnings.warn(\n",
            "/usr/local/lib/python3.10/dist-packages/xgboost/sklearn.py:835: UserWarning: `early_stopping_rounds` in `fit` method is deprecated for better compatibility with scikit-learn, use `early_stopping_rounds` in constructor or`set_params` instead.\n",
            "  warnings.warn(\n"
          ]
        },
        {
          "output_type": "stream",
          "name": "stdout",
          "text": [
            "[28]\tvalidation_0-rmse:1.21021\n",
            "[29]\tvalidation_0-rmse:1.21058\n",
            "[30]\tvalidation_0-rmse:1.21018\n",
            "[31]\tvalidation_0-rmse:1.21093\n",
            "[32]\tvalidation_0-rmse:1.21005\n",
            "[0]\tvalidation_0-rmse:1.19546\n",
            "[1]\tvalidation_0-rmse:1.21233\n",
            "[2]\tvalidation_0-rmse:1.23152\n",
            "[3]\tvalidation_0-rmse:1.19286\n",
            "[4]\tvalidation_0-rmse:1.17736\n",
            "[5]\tvalidation_0-rmse:1.15520\n",
            "[6]\tvalidation_0-rmse:1.16520\n",
            "[7]\tvalidation_0-rmse:1.17587\n",
            "[8]\tvalidation_0-rmse:1.18135\n",
            "[9]\tvalidation_0-rmse:1.18669\n",
            "[10]\tvalidation_0-rmse:1.17789\n",
            "[11]\tvalidation_0-rmse:1.18923\n",
            "[12]\tvalidation_0-rmse:1.17561\n",
            "[13]\tvalidation_0-rmse:1.17483\n",
            "[14]\tvalidation_0-rmse:1.18253\n",
            "[15]\tvalidation_0-rmse:1.18570\n",
            "[16]\tvalidation_0-rmse:1.18487\n",
            "[17]\tvalidation_0-rmse:1.18043\n",
            "[18]\tvalidation_0-rmse:1.18559\n",
            "[19]\tvalidation_0-rmse:1.19053\n",
            "[20]\tvalidation_0-rmse:1.18850\n",
            "[21]\tvalidation_0-rmse:1.18100\n",
            "[22]\tvalidation_0-rmse:1.17950\n",
            "[23]\tvalidation_0-rmse:1.17909\n",
            "[24]\tvalidation_0-rmse:1.17961\n",
            "[25]\tvalidation_0-rmse:1.18161\n",
            "[26]\tvalidation_0-rmse:1.18772\n",
            "[27]\tvalidation_0-rmse:1.18646\n"
          ]
        },
        {
          "output_type": "stream",
          "name": "stderr",
          "text": [
            "/usr/local/lib/python3.10/dist-packages/xgboost/sklearn.py:835: UserWarning: `eval_metric` in `fit` method is deprecated for better compatibility with scikit-learn, use `eval_metric` in constructor or`set_params` instead.\n",
            "  warnings.warn(\n",
            "/usr/local/lib/python3.10/dist-packages/xgboost/sklearn.py:835: UserWarning: `early_stopping_rounds` in `fit` method is deprecated for better compatibility with scikit-learn, use `early_stopping_rounds` in constructor or`set_params` instead.\n",
            "  warnings.warn(\n"
          ]
        },
        {
          "output_type": "stream",
          "name": "stdout",
          "text": [
            "[28]\tvalidation_0-rmse:1.18399\n",
            "[29]\tvalidation_0-rmse:1.18263\n",
            "[30]\tvalidation_0-rmse:1.18072\n",
            "[31]\tvalidation_0-rmse:1.17974\n",
            "[32]\tvalidation_0-rmse:1.17801\n",
            "[33]\tvalidation_0-rmse:1.17700\n",
            "[34]\tvalidation_0-rmse:1.17422\n",
            "[35]\tvalidation_0-rmse:1.17350\n",
            "[0]\tvalidation_0-rmse:1.21467\n",
            "[1]\tvalidation_0-rmse:1.14373\n",
            "[2]\tvalidation_0-rmse:1.10828\n",
            "[3]\tvalidation_0-rmse:1.10006\n",
            "[4]\tvalidation_0-rmse:1.08528\n",
            "[5]\tvalidation_0-rmse:1.08713\n",
            "[6]\tvalidation_0-rmse:1.08309\n",
            "[7]\tvalidation_0-rmse:1.08378\n",
            "[8]\tvalidation_0-rmse:1.06661\n",
            "[9]\tvalidation_0-rmse:1.06853\n",
            "[10]\tvalidation_0-rmse:1.07251\n",
            "[11]\tvalidation_0-rmse:1.07524\n",
            "[12]\tvalidation_0-rmse:1.07753\n",
            "[13]\tvalidation_0-rmse:1.07502\n",
            "[14]\tvalidation_0-rmse:1.07408\n",
            "[15]\tvalidation_0-rmse:1.07963\n",
            "[16]\tvalidation_0-rmse:1.07669\n",
            "[17]\tvalidation_0-rmse:1.07923\n",
            "[18]\tvalidation_0-rmse:1.07973\n",
            "[19]\tvalidation_0-rmse:1.07963\n",
            "[20]\tvalidation_0-rmse:1.07364\n",
            "[21]\tvalidation_0-rmse:1.06973\n",
            "[22]\tvalidation_0-rmse:1.07262\n",
            "[23]\tvalidation_0-rmse:1.07366\n",
            "[24]\tvalidation_0-rmse:1.07163\n",
            "[25]\tvalidation_0-rmse:1.07206\n",
            "[26]\tvalidation_0-rmse:1.07377\n"
          ]
        },
        {
          "output_type": "stream",
          "name": "stderr",
          "text": [
            "/usr/local/lib/python3.10/dist-packages/xgboost/sklearn.py:835: UserWarning: `eval_metric` in `fit` method is deprecated for better compatibility with scikit-learn, use `eval_metric` in constructor or`set_params` instead.\n",
            "  warnings.warn(\n",
            "/usr/local/lib/python3.10/dist-packages/xgboost/sklearn.py:835: UserWarning: `early_stopping_rounds` in `fit` method is deprecated for better compatibility with scikit-learn, use `early_stopping_rounds` in constructor or`set_params` instead.\n",
            "  warnings.warn(\n"
          ]
        },
        {
          "output_type": "stream",
          "name": "stdout",
          "text": [
            "[27]\tvalidation_0-rmse:1.07677\n",
            "[28]\tvalidation_0-rmse:1.07387\n",
            "[29]\tvalidation_0-rmse:1.07241\n",
            "[30]\tvalidation_0-rmse:1.07359\n",
            "[31]\tvalidation_0-rmse:1.07544\n",
            "[32]\tvalidation_0-rmse:1.07512\n",
            "[33]\tvalidation_0-rmse:1.07371\n",
            "[34]\tvalidation_0-rmse:1.07322\n",
            "[35]\tvalidation_0-rmse:1.07471\n",
            "[36]\tvalidation_0-rmse:1.07467\n",
            "[37]\tvalidation_0-rmse:1.07574\n",
            "[0]\tvalidation_0-rmse:1.16326\n",
            "[1]\tvalidation_0-rmse:1.16640\n",
            "[2]\tvalidation_0-rmse:1.18091\n",
            "[3]\tvalidation_0-rmse:1.17678\n",
            "[4]\tvalidation_0-rmse:1.16852\n",
            "[5]\tvalidation_0-rmse:1.14071\n",
            "[6]\tvalidation_0-rmse:1.14498\n",
            "[7]\tvalidation_0-rmse:1.15984\n",
            "[8]\tvalidation_0-rmse:1.15986\n",
            "[9]\tvalidation_0-rmse:1.16125\n",
            "[10]\tvalidation_0-rmse:1.14643\n",
            "[11]\tvalidation_0-rmse:1.14858\n",
            "[12]\tvalidation_0-rmse:1.15080\n",
            "[13]\tvalidation_0-rmse:1.15590\n",
            "[14]\tvalidation_0-rmse:1.16495\n",
            "[15]\tvalidation_0-rmse:1.16104\n",
            "[16]\tvalidation_0-rmse:1.15777\n",
            "[17]\tvalidation_0-rmse:1.16035\n",
            "[18]\tvalidation_0-rmse:1.16324\n",
            "[19]\tvalidation_0-rmse:1.16428\n",
            "[20]\tvalidation_0-rmse:1.16258\n",
            "[21]\tvalidation_0-rmse:1.16424\n",
            "[22]\tvalidation_0-rmse:1.16251\n",
            "[23]\tvalidation_0-rmse:1.16647\n",
            "[24]\tvalidation_0-rmse:1.17382\n",
            "[25]\tvalidation_0-rmse:1.17367\n",
            "[26]\tvalidation_0-rmse:1.17009\n"
          ]
        },
        {
          "output_type": "stream",
          "name": "stderr",
          "text": [
            "/usr/local/lib/python3.10/dist-packages/xgboost/sklearn.py:835: UserWarning: `eval_metric` in `fit` method is deprecated for better compatibility with scikit-learn, use `eval_metric` in constructor or`set_params` instead.\n",
            "  warnings.warn(\n",
            "/usr/local/lib/python3.10/dist-packages/xgboost/sklearn.py:835: UserWarning: `early_stopping_rounds` in `fit` method is deprecated for better compatibility with scikit-learn, use `early_stopping_rounds` in constructor or`set_params` instead.\n",
            "  warnings.warn(\n"
          ]
        },
        {
          "output_type": "stream",
          "name": "stdout",
          "text": [
            "[27]\tvalidation_0-rmse:1.17417\n",
            "[28]\tvalidation_0-rmse:1.17584\n",
            "[29]\tvalidation_0-rmse:1.17132\n",
            "[30]\tvalidation_0-rmse:1.16832\n",
            "[31]\tvalidation_0-rmse:1.16780\n",
            "[32]\tvalidation_0-rmse:1.17145\n",
            "[33]\tvalidation_0-rmse:1.17192\n",
            "[34]\tvalidation_0-rmse:1.17041\n",
            "[0]\tvalidation_0-rmse:1.18928\n",
            "[1]\tvalidation_0-rmse:1.18527\n",
            "[2]\tvalidation_0-rmse:1.18277\n",
            "[3]\tvalidation_0-rmse:1.15419\n",
            "[4]\tvalidation_0-rmse:1.11151\n",
            "[5]\tvalidation_0-rmse:1.12009\n",
            "[6]\tvalidation_0-rmse:1.12700\n",
            "[7]\tvalidation_0-rmse:1.14703\n",
            "[8]\tvalidation_0-rmse:1.14434\n",
            "[9]\tvalidation_0-rmse:1.14669\n",
            "[10]\tvalidation_0-rmse:1.14104\n",
            "[11]\tvalidation_0-rmse:1.13523\n",
            "[12]\tvalidation_0-rmse:1.12876\n",
            "[13]\tvalidation_0-rmse:1.14110\n",
            "[14]\tvalidation_0-rmse:1.13723\n",
            "[15]\tvalidation_0-rmse:1.14348\n",
            "[16]\tvalidation_0-rmse:1.13648\n",
            "[17]\tvalidation_0-rmse:1.14511\n",
            "[18]\tvalidation_0-rmse:1.13374\n",
            "[19]\tvalidation_0-rmse:1.14185\n",
            "[20]\tvalidation_0-rmse:1.13556\n",
            "[21]\tvalidation_0-rmse:1.13344\n",
            "[22]\tvalidation_0-rmse:1.13665\n",
            "[23]\tvalidation_0-rmse:1.14137\n",
            "[24]\tvalidation_0-rmse:1.13428\n",
            "[25]\tvalidation_0-rmse:1.13203\n",
            "[26]\tvalidation_0-rmse:1.13511\n",
            "[27]\tvalidation_0-rmse:1.14018\n",
            "[28]\tvalidation_0-rmse:1.13980\n",
            "[29]\tvalidation_0-rmse:1.13635\n"
          ]
        },
        {
          "output_type": "stream",
          "name": "stderr",
          "text": [
            "/usr/local/lib/python3.10/dist-packages/xgboost/sklearn.py:835: UserWarning: `eval_metric` in `fit` method is deprecated for better compatibility with scikit-learn, use `eval_metric` in constructor or`set_params` instead.\n",
            "  warnings.warn(\n",
            "/usr/local/lib/python3.10/dist-packages/xgboost/sklearn.py:835: UserWarning: `early_stopping_rounds` in `fit` method is deprecated for better compatibility with scikit-learn, use `early_stopping_rounds` in constructor or`set_params` instead.\n",
            "  warnings.warn(\n"
          ]
        },
        {
          "output_type": "stream",
          "name": "stdout",
          "text": [
            "[30]\tvalidation_0-rmse:1.13383\n",
            "[31]\tvalidation_0-rmse:1.13112\n",
            "[32]\tvalidation_0-rmse:1.13452\n",
            "[33]\tvalidation_0-rmse:1.13662\n",
            "[0]\tvalidation_0-rmse:1.18039\n",
            "[1]\tvalidation_0-rmse:1.18877\n",
            "[2]\tvalidation_0-rmse:1.19794\n",
            "[3]\tvalidation_0-rmse:1.18209\n",
            "[4]\tvalidation_0-rmse:1.19608\n",
            "[5]\tvalidation_0-rmse:1.21809\n",
            "[6]\tvalidation_0-rmse:1.23253\n",
            "[7]\tvalidation_0-rmse:1.24615\n",
            "[8]\tvalidation_0-rmse:1.25051\n",
            "[9]\tvalidation_0-rmse:1.24058\n",
            "[10]\tvalidation_0-rmse:1.25044\n",
            "[11]\tvalidation_0-rmse:1.25969\n",
            "[12]\tvalidation_0-rmse:1.27713\n",
            "[13]\tvalidation_0-rmse:1.25872\n",
            "[14]\tvalidation_0-rmse:1.24530\n",
            "[15]\tvalidation_0-rmse:1.23287\n",
            "[16]\tvalidation_0-rmse:1.23817\n",
            "[17]\tvalidation_0-rmse:1.25263\n",
            "[18]\tvalidation_0-rmse:1.26478\n",
            "[19]\tvalidation_0-rmse:1.27108\n",
            "[20]\tvalidation_0-rmse:1.27144\n",
            "[21]\tvalidation_0-rmse:1.28207\n",
            "[22]\tvalidation_0-rmse:1.28006\n",
            "[23]\tvalidation_0-rmse:1.27678\n",
            "[24]\tvalidation_0-rmse:1.27385\n",
            "[25]\tvalidation_0-rmse:1.28052\n",
            "[26]\tvalidation_0-rmse:1.28822\n",
            "[27]\tvalidation_0-rmse:1.29143\n",
            "[28]\tvalidation_0-rmse:1.29023\n"
          ]
        },
        {
          "output_type": "stream",
          "name": "stderr",
          "text": [
            "/usr/local/lib/python3.10/dist-packages/xgboost/sklearn.py:835: UserWarning: `eval_metric` in `fit` method is deprecated for better compatibility with scikit-learn, use `eval_metric` in constructor or`set_params` instead.\n",
            "  warnings.warn(\n",
            "/usr/local/lib/python3.10/dist-packages/xgboost/sklearn.py:835: UserWarning: `early_stopping_rounds` in `fit` method is deprecated for better compatibility with scikit-learn, use `early_stopping_rounds` in constructor or`set_params` instead.\n",
            "  warnings.warn(\n"
          ]
        },
        {
          "output_type": "stream",
          "name": "stdout",
          "text": [
            "[29]\tvalidation_0-rmse:1.28984\n",
            "[0]\tvalidation_0-rmse:1.21032\n",
            "[1]\tvalidation_0-rmse:1.20519\n",
            "[2]\tvalidation_0-rmse:1.17741\n",
            "[3]\tvalidation_0-rmse:1.13194\n",
            "[4]\tvalidation_0-rmse:1.14426\n",
            "[5]\tvalidation_0-rmse:1.12947\n",
            "[6]\tvalidation_0-rmse:1.13641\n",
            "[7]\tvalidation_0-rmse:1.14693\n",
            "[8]\tvalidation_0-rmse:1.14019\n",
            "[9]\tvalidation_0-rmse:1.14221\n",
            "[10]\tvalidation_0-rmse:1.13806\n",
            "[11]\tvalidation_0-rmse:1.13627\n",
            "[12]\tvalidation_0-rmse:1.13668\n",
            "[13]\tvalidation_0-rmse:1.13853\n",
            "[14]\tvalidation_0-rmse:1.14319\n",
            "[15]\tvalidation_0-rmse:1.13881\n",
            "[16]\tvalidation_0-rmse:1.13669\n",
            "[17]\tvalidation_0-rmse:1.13418\n",
            "[18]\tvalidation_0-rmse:1.14155\n",
            "[19]\tvalidation_0-rmse:1.13987\n",
            "[20]\tvalidation_0-rmse:1.13728\n",
            "[21]\tvalidation_0-rmse:1.14065\n",
            "[22]\tvalidation_0-rmse:1.13752\n",
            "[23]\tvalidation_0-rmse:1.13495\n",
            "[24]\tvalidation_0-rmse:1.13461\n",
            "[25]\tvalidation_0-rmse:1.13240\n",
            "[26]\tvalidation_0-rmse:1.12964\n"
          ]
        },
        {
          "output_type": "stream",
          "name": "stderr",
          "text": [
            "/usr/local/lib/python3.10/dist-packages/xgboost/sklearn.py:835: UserWarning: `eval_metric` in `fit` method is deprecated for better compatibility with scikit-learn, use `eval_metric` in constructor or`set_params` instead.\n",
            "  warnings.warn(\n",
            "/usr/local/lib/python3.10/dist-packages/xgboost/sklearn.py:835: UserWarning: `early_stopping_rounds` in `fit` method is deprecated for better compatibility with scikit-learn, use `early_stopping_rounds` in constructor or`set_params` instead.\n",
            "  warnings.warn(\n"
          ]
        },
        {
          "output_type": "stream",
          "name": "stdout",
          "text": [
            "[27]\tvalidation_0-rmse:1.12756\n",
            "[28]\tvalidation_0-rmse:1.12965\n",
            "[29]\tvalidation_0-rmse:1.13048\n",
            "[30]\tvalidation_0-rmse:1.13138\n",
            "[31]\tvalidation_0-rmse:1.12983\n",
            "[32]\tvalidation_0-rmse:1.12983\n",
            "[33]\tvalidation_0-rmse:1.12737\n",
            "[34]\tvalidation_0-rmse:1.12655\n",
            "[35]\tvalidation_0-rmse:1.12666\n",
            "[36]\tvalidation_0-rmse:1.12710\n",
            "[37]\tvalidation_0-rmse:1.12567\n",
            "[38]\tvalidation_0-rmse:1.12635\n",
            "[39]\tvalidation_0-rmse:1.12920\n",
            "[40]\tvalidation_0-rmse:1.12822\n",
            "[41]\tvalidation_0-rmse:1.12791\n",
            "[42]\tvalidation_0-rmse:1.12604\n",
            "[43]\tvalidation_0-rmse:1.12511\n",
            "[44]\tvalidation_0-rmse:1.12815\n",
            "[45]\tvalidation_0-rmse:1.12743\n",
            "[46]\tvalidation_0-rmse:1.12708\n",
            "[47]\tvalidation_0-rmse:1.12697\n",
            "[48]\tvalidation_0-rmse:1.12588\n",
            "[49]\tvalidation_0-rmse:1.12562\n",
            "[50]\tvalidation_0-rmse:1.12525\n",
            "[51]\tvalidation_0-rmse:1.12493\n",
            "[52]\tvalidation_0-rmse:1.12490\n",
            "[53]\tvalidation_0-rmse:1.12219\n",
            "[54]\tvalidation_0-rmse:1.12122\n",
            "[55]\tvalidation_0-rmse:1.12069\n",
            "[56]\tvalidation_0-rmse:1.11953\n",
            "[57]\tvalidation_0-rmse:1.12055\n",
            "[58]\tvalidation_0-rmse:1.12030\n",
            "[59]\tvalidation_0-rmse:1.11912\n",
            "[60]\tvalidation_0-rmse:1.12030\n",
            "[61]\tvalidation_0-rmse:1.12049\n",
            "[62]\tvalidation_0-rmse:1.11983\n",
            "[63]\tvalidation_0-rmse:1.11896\n",
            "[64]\tvalidation_0-rmse:1.11746\n",
            "[65]\tvalidation_0-rmse:1.11686\n",
            "[66]\tvalidation_0-rmse:1.11653\n",
            "[67]\tvalidation_0-rmse:1.11621\n",
            "[68]\tvalidation_0-rmse:1.11597\n",
            "[69]\tvalidation_0-rmse:1.11642\n",
            "[70]\tvalidation_0-rmse:1.11634\n",
            "[71]\tvalidation_0-rmse:1.11837\n",
            "[72]\tvalidation_0-rmse:1.11910\n",
            "[73]\tvalidation_0-rmse:1.11793\n",
            "[74]\tvalidation_0-rmse:1.11719\n",
            "[75]\tvalidation_0-rmse:1.11743\n",
            "[76]\tvalidation_0-rmse:1.11734\n",
            "[77]\tvalidation_0-rmse:1.11712\n",
            "[78]\tvalidation_0-rmse:1.11707\n",
            "[79]\tvalidation_0-rmse:1.11757\n",
            "[80]\tvalidation_0-rmse:1.11706\n",
            "[81]\tvalidation_0-rmse:1.11714\n",
            "[82]\tvalidation_0-rmse:1.11733\n",
            "[83]\tvalidation_0-rmse:1.11714\n",
            "[84]\tvalidation_0-rmse:1.11723\n",
            "[85]\tvalidation_0-rmse:1.11704\n",
            "[86]\tvalidation_0-rmse:1.11696\n",
            "[87]\tvalidation_0-rmse:1.11732\n",
            "[88]\tvalidation_0-rmse:1.11715\n",
            "[89]\tvalidation_0-rmse:1.11706\n",
            "[90]\tvalidation_0-rmse:1.11701\n",
            "[91]\tvalidation_0-rmse:1.11798\n",
            "[92]\tvalidation_0-rmse:1.11848\n",
            "[93]\tvalidation_0-rmse:1.11889\n",
            "[94]\tvalidation_0-rmse:1.11861\n",
            "[95]\tvalidation_0-rmse:1.11775\n",
            "[96]\tvalidation_0-rmse:1.11787\n",
            "[97]\tvalidation_0-rmse:1.11863\n",
            "[98]\tvalidation_0-rmse:1.11788\n",
            "[0]\tvalidation_0-rmse:1.20414\n",
            "[1]\tvalidation_0-rmse:1.20339\n",
            "[2]\tvalidation_0-rmse:1.20749\n",
            "[3]\tvalidation_0-rmse:1.21935\n",
            "[4]\tvalidation_0-rmse:1.16826\n",
            "[5]\tvalidation_0-rmse:1.14193\n",
            "[6]\tvalidation_0-rmse:1.15113\n",
            "[7]\tvalidation_0-rmse:1.12382\n",
            "[8]\tvalidation_0-rmse:1.13068\n",
            "[9]\tvalidation_0-rmse:1.13567\n",
            "[10]\tvalidation_0-rmse:1.13656\n",
            "[11]\tvalidation_0-rmse:1.14446\n",
            "[12]\tvalidation_0-rmse:1.14503\n",
            "[13]\tvalidation_0-rmse:1.14324\n",
            "[14]\tvalidation_0-rmse:1.14967\n",
            "[15]\tvalidation_0-rmse:1.14640\n",
            "[16]\tvalidation_0-rmse:1.14544\n",
            "[17]\tvalidation_0-rmse:1.14060\n",
            "[18]\tvalidation_0-rmse:1.14335\n",
            "[19]\tvalidation_0-rmse:1.14166\n",
            "[20]\tvalidation_0-rmse:1.14095\n",
            "[21]\tvalidation_0-rmse:1.13464\n",
            "[22]\tvalidation_0-rmse:1.13384\n",
            "[23]\tvalidation_0-rmse:1.13099\n",
            "[24]\tvalidation_0-rmse:1.12774\n",
            "[25]\tvalidation_0-rmse:1.12379\n",
            "[26]\tvalidation_0-rmse:1.12466\n",
            "[27]\tvalidation_0-rmse:1.12162\n",
            "[28]\tvalidation_0-rmse:1.12230\n"
          ]
        },
        {
          "output_type": "stream",
          "name": "stderr",
          "text": [
            "/usr/local/lib/python3.10/dist-packages/xgboost/sklearn.py:835: UserWarning: `eval_metric` in `fit` method is deprecated for better compatibility with scikit-learn, use `eval_metric` in constructor or`set_params` instead.\n",
            "  warnings.warn(\n",
            "/usr/local/lib/python3.10/dist-packages/xgboost/sklearn.py:835: UserWarning: `early_stopping_rounds` in `fit` method is deprecated for better compatibility with scikit-learn, use `early_stopping_rounds` in constructor or`set_params` instead.\n",
            "  warnings.warn(\n"
          ]
        },
        {
          "output_type": "stream",
          "name": "stdout",
          "text": [
            "[29]\tvalidation_0-rmse:1.12531\n",
            "[30]\tvalidation_0-rmse:1.12501\n",
            "[31]\tvalidation_0-rmse:1.12240\n",
            "[32]\tvalidation_0-rmse:1.11937\n",
            "[33]\tvalidation_0-rmse:1.12384\n",
            "[34]\tvalidation_0-rmse:1.11951\n",
            "[35]\tvalidation_0-rmse:1.11873\n",
            "[36]\tvalidation_0-rmse:1.11940\n",
            "[37]\tvalidation_0-rmse:1.11771\n",
            "[38]\tvalidation_0-rmse:1.12060\n",
            "[39]\tvalidation_0-rmse:1.11982\n",
            "[40]\tvalidation_0-rmse:1.12276\n",
            "[41]\tvalidation_0-rmse:1.12441\n",
            "[42]\tvalidation_0-rmse:1.12075\n",
            "[43]\tvalidation_0-rmse:1.12291\n",
            "[44]\tvalidation_0-rmse:1.12119\n",
            "[45]\tvalidation_0-rmse:1.12117\n",
            "[46]\tvalidation_0-rmse:1.12084\n",
            "[47]\tvalidation_0-rmse:1.12147\n",
            "[48]\tvalidation_0-rmse:1.12123\n",
            "[49]\tvalidation_0-rmse:1.12277\n",
            "[50]\tvalidation_0-rmse:1.12190\n",
            "[51]\tvalidation_0-rmse:1.11887\n",
            "[52]\tvalidation_0-rmse:1.11803\n",
            "[53]\tvalidation_0-rmse:1.11775\n",
            "[54]\tvalidation_0-rmse:1.11635\n",
            "[55]\tvalidation_0-rmse:1.11454\n",
            "[56]\tvalidation_0-rmse:1.11502\n",
            "[57]\tvalidation_0-rmse:1.11686\n",
            "[58]\tvalidation_0-rmse:1.11448\n",
            "[59]\tvalidation_0-rmse:1.11337\n",
            "[60]\tvalidation_0-rmse:1.11263\n",
            "[61]\tvalidation_0-rmse:1.11219\n",
            "[62]\tvalidation_0-rmse:1.11146\n",
            "[63]\tvalidation_0-rmse:1.11085\n",
            "[64]\tvalidation_0-rmse:1.11154\n",
            "[65]\tvalidation_0-rmse:1.11197\n",
            "[66]\tvalidation_0-rmse:1.11143\n",
            "[67]\tvalidation_0-rmse:1.11181\n",
            "[68]\tvalidation_0-rmse:1.11197\n",
            "[69]\tvalidation_0-rmse:1.11321\n",
            "[70]\tvalidation_0-rmse:1.11233\n",
            "[71]\tvalidation_0-rmse:1.11216\n",
            "[72]\tvalidation_0-rmse:1.11179\n",
            "[73]\tvalidation_0-rmse:1.11418\n",
            "[74]\tvalidation_0-rmse:1.11242\n",
            "[75]\tvalidation_0-rmse:1.11210\n",
            "[76]\tvalidation_0-rmse:1.11252\n",
            "[77]\tvalidation_0-rmse:1.11378\n",
            "[78]\tvalidation_0-rmse:1.11377\n",
            "[79]\tvalidation_0-rmse:1.11258\n",
            "[80]\tvalidation_0-rmse:1.11316\n",
            "[81]\tvalidation_0-rmse:1.11309\n",
            "[82]\tvalidation_0-rmse:1.11296\n",
            "[83]\tvalidation_0-rmse:1.11373\n",
            "[84]\tvalidation_0-rmse:1.11299\n",
            "[85]\tvalidation_0-rmse:1.11311\n",
            "[86]\tvalidation_0-rmse:1.11278\n",
            "[87]\tvalidation_0-rmse:1.11302\n",
            "[88]\tvalidation_0-rmse:1.11327\n",
            "[89]\tvalidation_0-rmse:1.11364\n",
            "[90]\tvalidation_0-rmse:1.11371\n",
            "[91]\tvalidation_0-rmse:1.11351\n",
            "[92]\tvalidation_0-rmse:1.11307\n",
            "[0]\tvalidation_0-rmse:1.21188\n",
            "[1]\tvalidation_0-rmse:1.15706\n",
            "[2]\tvalidation_0-rmse:1.15326\n",
            "[3]\tvalidation_0-rmse:1.14593\n",
            "[4]\tvalidation_0-rmse:1.14152\n",
            "[5]\tvalidation_0-rmse:1.14191\n",
            "[6]\tvalidation_0-rmse:1.13878\n",
            "[7]\tvalidation_0-rmse:1.13336\n",
            "[8]\tvalidation_0-rmse:1.12446\n",
            "[9]\tvalidation_0-rmse:1.12721\n",
            "[10]\tvalidation_0-rmse:1.12733\n",
            "[11]\tvalidation_0-rmse:1.12333\n",
            "[12]\tvalidation_0-rmse:1.12452\n",
            "[13]\tvalidation_0-rmse:1.12558\n",
            "[14]\tvalidation_0-rmse:1.12336\n",
            "[15]\tvalidation_0-rmse:1.10955\n",
            "[16]\tvalidation_0-rmse:1.10223\n",
            "[17]\tvalidation_0-rmse:1.09974\n",
            "[18]\tvalidation_0-rmse:1.10020\n",
            "[19]\tvalidation_0-rmse:1.10066\n",
            "[20]\tvalidation_0-rmse:1.10124\n",
            "[21]\tvalidation_0-rmse:1.10551\n",
            "[22]\tvalidation_0-rmse:1.09963\n",
            "[23]\tvalidation_0-rmse:1.10115\n",
            "[24]\tvalidation_0-rmse:1.09997\n",
            "[25]\tvalidation_0-rmse:1.09775\n",
            "[26]\tvalidation_0-rmse:1.09818\n",
            "[27]\tvalidation_0-rmse:1.09594\n",
            "[28]\tvalidation_0-rmse:1.09448\n",
            "[29]\tvalidation_0-rmse:1.09303\n"
          ]
        },
        {
          "output_type": "stream",
          "name": "stderr",
          "text": [
            "/usr/local/lib/python3.10/dist-packages/xgboost/sklearn.py:835: UserWarning: `eval_metric` in `fit` method is deprecated for better compatibility with scikit-learn, use `eval_metric` in constructor or`set_params` instead.\n",
            "  warnings.warn(\n",
            "/usr/local/lib/python3.10/dist-packages/xgboost/sklearn.py:835: UserWarning: `early_stopping_rounds` in `fit` method is deprecated for better compatibility with scikit-learn, use `early_stopping_rounds` in constructor or`set_params` instead.\n",
            "  warnings.warn(\n"
          ]
        },
        {
          "output_type": "stream",
          "name": "stdout",
          "text": [
            "[30]\tvalidation_0-rmse:1.08837\n",
            "[31]\tvalidation_0-rmse:1.09010\n",
            "[32]\tvalidation_0-rmse:1.08997\n",
            "[33]\tvalidation_0-rmse:1.08823\n",
            "[34]\tvalidation_0-rmse:1.08723\n",
            "[35]\tvalidation_0-rmse:1.08377\n",
            "[36]\tvalidation_0-rmse:1.08330\n",
            "[37]\tvalidation_0-rmse:1.08093\n",
            "[38]\tvalidation_0-rmse:1.08127\n",
            "[39]\tvalidation_0-rmse:1.08120\n",
            "[40]\tvalidation_0-rmse:1.08107\n",
            "[41]\tvalidation_0-rmse:1.07893\n",
            "[42]\tvalidation_0-rmse:1.07847\n",
            "[43]\tvalidation_0-rmse:1.07658\n",
            "[44]\tvalidation_0-rmse:1.07540\n",
            "[45]\tvalidation_0-rmse:1.07373\n",
            "[46]\tvalidation_0-rmse:1.07358\n",
            "[47]\tvalidation_0-rmse:1.07441\n",
            "[48]\tvalidation_0-rmse:1.07331\n",
            "[49]\tvalidation_0-rmse:1.07322\n",
            "[50]\tvalidation_0-rmse:1.07282\n",
            "[51]\tvalidation_0-rmse:1.07249\n",
            "[52]\tvalidation_0-rmse:1.07306\n",
            "[53]\tvalidation_0-rmse:1.07073\n",
            "[54]\tvalidation_0-rmse:1.07097\n",
            "[55]\tvalidation_0-rmse:1.07090\n",
            "[56]\tvalidation_0-rmse:1.07071\n",
            "[57]\tvalidation_0-rmse:1.07042\n",
            "[58]\tvalidation_0-rmse:1.06886\n",
            "[59]\tvalidation_0-rmse:1.06783\n",
            "[60]\tvalidation_0-rmse:1.06708\n",
            "[61]\tvalidation_0-rmse:1.06751\n",
            "[62]\tvalidation_0-rmse:1.06685\n",
            "[63]\tvalidation_0-rmse:1.06627\n",
            "[64]\tvalidation_0-rmse:1.06576\n",
            "[65]\tvalidation_0-rmse:1.06610\n",
            "[66]\tvalidation_0-rmse:1.06579\n",
            "[67]\tvalidation_0-rmse:1.06582\n",
            "[68]\tvalidation_0-rmse:1.06878\n",
            "[69]\tvalidation_0-rmse:1.06962\n",
            "[70]\tvalidation_0-rmse:1.07149\n",
            "[71]\tvalidation_0-rmse:1.07154\n",
            "[72]\tvalidation_0-rmse:1.07162\n",
            "[73]\tvalidation_0-rmse:1.07166\n",
            "[74]\tvalidation_0-rmse:1.07284\n",
            "[75]\tvalidation_0-rmse:1.07303\n",
            "[76]\tvalidation_0-rmse:1.07327\n",
            "[77]\tvalidation_0-rmse:1.07359\n",
            "[78]\tvalidation_0-rmse:1.07371\n",
            "[79]\tvalidation_0-rmse:1.07188\n",
            "[80]\tvalidation_0-rmse:1.07303\n",
            "[81]\tvalidation_0-rmse:1.07315\n",
            "[82]\tvalidation_0-rmse:1.07299\n",
            "[83]\tvalidation_0-rmse:1.07320\n",
            "[84]\tvalidation_0-rmse:1.07284\n",
            "[85]\tvalidation_0-rmse:1.07279\n",
            "[86]\tvalidation_0-rmse:1.07261\n",
            "[87]\tvalidation_0-rmse:1.07243\n",
            "[88]\tvalidation_0-rmse:1.07157\n",
            "[89]\tvalidation_0-rmse:1.07069\n",
            "[90]\tvalidation_0-rmse:1.07139\n",
            "[91]\tvalidation_0-rmse:1.07149\n",
            "[92]\tvalidation_0-rmse:1.07093\n",
            "[93]\tvalidation_0-rmse:1.07063\n",
            "[94]\tvalidation_0-rmse:1.07111\n",
            "[0]\tvalidation_0-rmse:1.20809\n",
            "[1]\tvalidation_0-rmse:1.21676\n",
            "[2]\tvalidation_0-rmse:1.19414\n",
            "[3]\tvalidation_0-rmse:1.21833\n",
            "[4]\tvalidation_0-rmse:1.21449\n",
            "[5]\tvalidation_0-rmse:1.20917\n",
            "[6]\tvalidation_0-rmse:1.21086\n",
            "[7]\tvalidation_0-rmse:1.20559\n",
            "[8]\tvalidation_0-rmse:1.19862\n",
            "[9]\tvalidation_0-rmse:1.19807\n",
            "[10]\tvalidation_0-rmse:1.20652\n",
            "[11]\tvalidation_0-rmse:1.20530\n",
            "[12]\tvalidation_0-rmse:1.20444\n",
            "[13]\tvalidation_0-rmse:1.20791\n",
            "[14]\tvalidation_0-rmse:1.21291\n",
            "[15]\tvalidation_0-rmse:1.20911\n",
            "[16]\tvalidation_0-rmse:1.21768\n",
            "[17]\tvalidation_0-rmse:1.21760\n",
            "[18]\tvalidation_0-rmse:1.21053\n"
          ]
        },
        {
          "output_type": "stream",
          "name": "stderr",
          "text": [
            "/usr/local/lib/python3.10/dist-packages/xgboost/sklearn.py:835: UserWarning: `eval_metric` in `fit` method is deprecated for better compatibility with scikit-learn, use `eval_metric` in constructor or`set_params` instead.\n",
            "  warnings.warn(\n",
            "/usr/local/lib/python3.10/dist-packages/xgboost/sklearn.py:835: UserWarning: `early_stopping_rounds` in `fit` method is deprecated for better compatibility with scikit-learn, use `early_stopping_rounds` in constructor or`set_params` instead.\n",
            "  warnings.warn(\n"
          ]
        },
        {
          "output_type": "stream",
          "name": "stdout",
          "text": [
            "[19]\tvalidation_0-rmse:1.21080\n",
            "[20]\tvalidation_0-rmse:1.20906\n",
            "[21]\tvalidation_0-rmse:1.20299\n",
            "[22]\tvalidation_0-rmse:1.20213\n",
            "[23]\tvalidation_0-rmse:1.19300\n",
            "[24]\tvalidation_0-rmse:1.19351\n",
            "[25]\tvalidation_0-rmse:1.19248\n",
            "[26]\tvalidation_0-rmse:1.18765\n",
            "[27]\tvalidation_0-rmse:1.19291\n",
            "[28]\tvalidation_0-rmse:1.19092\n",
            "[29]\tvalidation_0-rmse:1.19804\n",
            "[30]\tvalidation_0-rmse:1.19649\n",
            "[31]\tvalidation_0-rmse:1.19322\n",
            "[32]\tvalidation_0-rmse:1.19123\n",
            "[33]\tvalidation_0-rmse:1.18953\n",
            "[34]\tvalidation_0-rmse:1.18774\n",
            "[35]\tvalidation_0-rmse:1.18725\n",
            "[36]\tvalidation_0-rmse:1.18699\n",
            "[37]\tvalidation_0-rmse:1.19235\n",
            "[38]\tvalidation_0-rmse:1.19281\n",
            "[39]\tvalidation_0-rmse:1.19143\n",
            "[40]\tvalidation_0-rmse:1.19135\n",
            "[41]\tvalidation_0-rmse:1.19160\n",
            "[42]\tvalidation_0-rmse:1.19734\n",
            "[43]\tvalidation_0-rmse:1.20166\n",
            "[44]\tvalidation_0-rmse:1.20046\n",
            "[45]\tvalidation_0-rmse:1.19601\n",
            "[46]\tvalidation_0-rmse:1.19528\n",
            "[47]\tvalidation_0-rmse:1.19665\n",
            "[48]\tvalidation_0-rmse:1.19572\n",
            "[49]\tvalidation_0-rmse:1.20000\n",
            "[50]\tvalidation_0-rmse:1.19917\n",
            "[51]\tvalidation_0-rmse:1.19878\n",
            "[52]\tvalidation_0-rmse:1.19869\n",
            "[53]\tvalidation_0-rmse:1.19756\n",
            "[54]\tvalidation_0-rmse:1.19905\n",
            "[55]\tvalidation_0-rmse:1.20298\n",
            "[56]\tvalidation_0-rmse:1.20304\n",
            "[57]\tvalidation_0-rmse:1.20599\n",
            "[58]\tvalidation_0-rmse:1.20607\n",
            "[59]\tvalidation_0-rmse:1.20643\n",
            "[60]\tvalidation_0-rmse:1.20878\n",
            "[61]\tvalidation_0-rmse:1.20713\n",
            "[62]\tvalidation_0-rmse:1.20804\n",
            "[63]\tvalidation_0-rmse:1.20781\n",
            "[64]\tvalidation_0-rmse:1.20865\n",
            "[65]\tvalidation_0-rmse:1.20601\n",
            "[66]\tvalidation_0-rmse:1.20541\n",
            "[0]\tvalidation_0-rmse:1.17220\n",
            "[1]\tvalidation_0-rmse:1.16761\n",
            "[2]\tvalidation_0-rmse:1.15023\n",
            "[3]\tvalidation_0-rmse:1.16044\n",
            "[4]\tvalidation_0-rmse:1.13768\n",
            "[5]\tvalidation_0-rmse:1.14762\n",
            "[6]\tvalidation_0-rmse:1.16138\n",
            "[7]\tvalidation_0-rmse:1.14650\n",
            "[8]\tvalidation_0-rmse:1.12058\n",
            "[9]\tvalidation_0-rmse:1.12583\n",
            "[10]\tvalidation_0-rmse:1.12564\n",
            "[11]\tvalidation_0-rmse:1.13581\n",
            "[12]\tvalidation_0-rmse:1.14291\n",
            "[13]\tvalidation_0-rmse:1.13892\n",
            "[14]\tvalidation_0-rmse:1.13903\n",
            "[15]\tvalidation_0-rmse:1.13138\n",
            "[16]\tvalidation_0-rmse:1.14121\n",
            "[17]\tvalidation_0-rmse:1.14101\n"
          ]
        },
        {
          "output_type": "stream",
          "name": "stderr",
          "text": [
            "/usr/local/lib/python3.10/dist-packages/xgboost/sklearn.py:835: UserWarning: `eval_metric` in `fit` method is deprecated for better compatibility with scikit-learn, use `eval_metric` in constructor or`set_params` instead.\n",
            "  warnings.warn(\n",
            "/usr/local/lib/python3.10/dist-packages/xgboost/sklearn.py:835: UserWarning: `early_stopping_rounds` in `fit` method is deprecated for better compatibility with scikit-learn, use `early_stopping_rounds` in constructor or`set_params` instead.\n",
            "  warnings.warn(\n"
          ]
        },
        {
          "output_type": "stream",
          "name": "stdout",
          "text": [
            "[18]\tvalidation_0-rmse:1.13908\n",
            "[19]\tvalidation_0-rmse:1.15067\n",
            "[20]\tvalidation_0-rmse:1.15079\n",
            "[21]\tvalidation_0-rmse:1.14597\n",
            "[22]\tvalidation_0-rmse:1.14496\n",
            "[23]\tvalidation_0-rmse:1.15720\n",
            "[24]\tvalidation_0-rmse:1.15862\n",
            "[25]\tvalidation_0-rmse:1.15926\n",
            "[26]\tvalidation_0-rmse:1.16316\n",
            "[27]\tvalidation_0-rmse:1.16010\n",
            "[28]\tvalidation_0-rmse:1.15040\n",
            "[29]\tvalidation_0-rmse:1.14974\n",
            "[30]\tvalidation_0-rmse:1.15153\n",
            "[31]\tvalidation_0-rmse:1.14985\n",
            "[32]\tvalidation_0-rmse:1.15354\n",
            "[33]\tvalidation_0-rmse:1.15136\n",
            "[34]\tvalidation_0-rmse:1.15248\n",
            "[35]\tvalidation_0-rmse:1.14811\n",
            "[36]\tvalidation_0-rmse:1.14689\n",
            "[37]\tvalidation_0-rmse:1.14277\n",
            "[38]\tvalidation_0-rmse:1.14750\n",
            "[0]\tvalidation_0-rmse:1.18491\n",
            "[1]\tvalidation_0-rmse:1.19934\n",
            "[2]\tvalidation_0-rmse:1.19643\n",
            "[3]\tvalidation_0-rmse:1.21406\n",
            "[4]\tvalidation_0-rmse:1.23323\n",
            "[5]\tvalidation_0-rmse:1.24702\n",
            "[6]\tvalidation_0-rmse:1.25086\n",
            "[7]\tvalidation_0-rmse:1.28162\n",
            "[8]\tvalidation_0-rmse:1.28413\n",
            "[9]\tvalidation_0-rmse:1.28105\n",
            "[10]\tvalidation_0-rmse:1.28046\n",
            "[11]\tvalidation_0-rmse:1.27735\n",
            "[12]\tvalidation_0-rmse:1.28568\n",
            "[13]\tvalidation_0-rmse:1.28104\n",
            "[14]\tvalidation_0-rmse:1.27350\n",
            "[15]\tvalidation_0-rmse:1.26291\n",
            "[16]\tvalidation_0-rmse:1.27844\n",
            "[17]\tvalidation_0-rmse:1.29057\n",
            "[18]\tvalidation_0-rmse:1.29145\n",
            "[19]\tvalidation_0-rmse:1.30556\n",
            "[20]\tvalidation_0-rmse:1.30250\n"
          ]
        },
        {
          "output_type": "stream",
          "name": "stderr",
          "text": [
            "/usr/local/lib/python3.10/dist-packages/xgboost/sklearn.py:835: UserWarning: `eval_metric` in `fit` method is deprecated for better compatibility with scikit-learn, use `eval_metric` in constructor or`set_params` instead.\n",
            "  warnings.warn(\n",
            "/usr/local/lib/python3.10/dist-packages/xgboost/sklearn.py:835: UserWarning: `early_stopping_rounds` in `fit` method is deprecated for better compatibility with scikit-learn, use `early_stopping_rounds` in constructor or`set_params` instead.\n",
            "  warnings.warn(\n"
          ]
        },
        {
          "output_type": "stream",
          "name": "stdout",
          "text": [
            "[21]\tvalidation_0-rmse:1.31586\n",
            "[22]\tvalidation_0-rmse:1.32509\n",
            "[23]\tvalidation_0-rmse:1.32168\n",
            "[24]\tvalidation_0-rmse:1.31772\n",
            "[25]\tvalidation_0-rmse:1.31785\n",
            "[26]\tvalidation_0-rmse:1.31452\n",
            "[27]\tvalidation_0-rmse:1.29394\n",
            "[28]\tvalidation_0-rmse:1.29353\n",
            "[29]\tvalidation_0-rmse:1.30174\n",
            "[30]\tvalidation_0-rmse:1.30025\n",
            "[0]\tvalidation_0-rmse:1.20167\n",
            "[1]\tvalidation_0-rmse:1.18640\n",
            "[2]\tvalidation_0-rmse:1.18302\n",
            "[3]\tvalidation_0-rmse:1.13762\n",
            "[4]\tvalidation_0-rmse:1.11776\n",
            "[5]\tvalidation_0-rmse:1.11577\n",
            "[6]\tvalidation_0-rmse:1.12986\n",
            "[7]\tvalidation_0-rmse:1.13806\n",
            "[8]\tvalidation_0-rmse:1.13706\n",
            "[9]\tvalidation_0-rmse:1.14118\n",
            "[10]\tvalidation_0-rmse:1.14588\n",
            "[11]\tvalidation_0-rmse:1.14701\n",
            "[12]\tvalidation_0-rmse:1.14056\n",
            "[13]\tvalidation_0-rmse:1.13798\n",
            "[14]\tvalidation_0-rmse:1.14098\n",
            "[15]\tvalidation_0-rmse:1.14159\n"
          ]
        },
        {
          "output_type": "stream",
          "name": "stderr",
          "text": [
            "/usr/local/lib/python3.10/dist-packages/xgboost/sklearn.py:835: UserWarning: `eval_metric` in `fit` method is deprecated for better compatibility with scikit-learn, use `eval_metric` in constructor or`set_params` instead.\n",
            "  warnings.warn(\n",
            "/usr/local/lib/python3.10/dist-packages/xgboost/sklearn.py:835: UserWarning: `early_stopping_rounds` in `fit` method is deprecated for better compatibility with scikit-learn, use `early_stopping_rounds` in constructor or`set_params` instead.\n",
            "  warnings.warn(\n"
          ]
        },
        {
          "output_type": "stream",
          "name": "stdout",
          "text": [
            "[16]\tvalidation_0-rmse:1.13861\n",
            "[17]\tvalidation_0-rmse:1.13937\n",
            "[18]\tvalidation_0-rmse:1.14078\n",
            "[19]\tvalidation_0-rmse:1.14011\n",
            "[20]\tvalidation_0-rmse:1.14003\n",
            "[21]\tvalidation_0-rmse:1.13938\n",
            "[22]\tvalidation_0-rmse:1.13737\n",
            "[23]\tvalidation_0-rmse:1.13924\n",
            "[24]\tvalidation_0-rmse:1.13904\n",
            "[25]\tvalidation_0-rmse:1.13791\n",
            "[26]\tvalidation_0-rmse:1.13594\n",
            "[27]\tvalidation_0-rmse:1.13645\n",
            "[28]\tvalidation_0-rmse:1.13799\n",
            "[29]\tvalidation_0-rmse:1.13947\n",
            "[30]\tvalidation_0-rmse:1.14123\n",
            "[31]\tvalidation_0-rmse:1.14100\n",
            "[32]\tvalidation_0-rmse:1.13959\n",
            "[33]\tvalidation_0-rmse:1.14068\n",
            "[34]\tvalidation_0-rmse:1.14097\n",
            "[0]\tvalidation_0-rmse:1.18702\n",
            "[1]\tvalidation_0-rmse:1.18330\n",
            "[2]\tvalidation_0-rmse:1.17867\n",
            "[3]\tvalidation_0-rmse:1.18943\n",
            "[4]\tvalidation_0-rmse:1.18811\n",
            "[5]\tvalidation_0-rmse:1.20143\n",
            "[6]\tvalidation_0-rmse:1.19706\n",
            "[7]\tvalidation_0-rmse:1.20521\n",
            "[8]\tvalidation_0-rmse:1.22133\n",
            "[9]\tvalidation_0-rmse:1.21604\n",
            "[10]\tvalidation_0-rmse:1.20752\n",
            "[11]\tvalidation_0-rmse:1.20946\n",
            "[12]\tvalidation_0-rmse:1.21538\n",
            "[13]\tvalidation_0-rmse:1.21216\n",
            "[14]\tvalidation_0-rmse:1.21366\n"
          ]
        },
        {
          "output_type": "stream",
          "name": "stderr",
          "text": [
            "/usr/local/lib/python3.10/dist-packages/xgboost/sklearn.py:835: UserWarning: `eval_metric` in `fit` method is deprecated for better compatibility with scikit-learn, use `eval_metric` in constructor or`set_params` instead.\n",
            "  warnings.warn(\n",
            "/usr/local/lib/python3.10/dist-packages/xgboost/sklearn.py:835: UserWarning: `early_stopping_rounds` in `fit` method is deprecated for better compatibility with scikit-learn, use `early_stopping_rounds` in constructor or`set_params` instead.\n",
            "  warnings.warn(\n"
          ]
        },
        {
          "output_type": "stream",
          "name": "stdout",
          "text": [
            "[15]\tvalidation_0-rmse:1.21240\n",
            "[16]\tvalidation_0-rmse:1.20976\n",
            "[17]\tvalidation_0-rmse:1.21087\n",
            "[18]\tvalidation_0-rmse:1.21514\n",
            "[19]\tvalidation_0-rmse:1.21182\n",
            "[20]\tvalidation_0-rmse:1.21308\n",
            "[21]\tvalidation_0-rmse:1.21304\n",
            "[22]\tvalidation_0-rmse:1.21483\n",
            "[23]\tvalidation_0-rmse:1.21394\n",
            "[24]\tvalidation_0-rmse:1.21243\n",
            "[25]\tvalidation_0-rmse:1.21085\n",
            "[26]\tvalidation_0-rmse:1.21640\n",
            "[27]\tvalidation_0-rmse:1.21101\n",
            "[28]\tvalidation_0-rmse:1.20768\n",
            "[29]\tvalidation_0-rmse:1.20707\n",
            "[30]\tvalidation_0-rmse:1.20503\n",
            "[31]\tvalidation_0-rmse:1.20427\n",
            "[32]\tvalidation_0-rmse:1.20138\n",
            "[0]\tvalidation_0-rmse:1.21086\n",
            "[1]\tvalidation_0-rmse:1.14521\n",
            "[2]\tvalidation_0-rmse:1.14117\n",
            "[3]\tvalidation_0-rmse:1.13786\n",
            "[4]\tvalidation_0-rmse:1.13923\n",
            "[5]\tvalidation_0-rmse:1.14113\n",
            "[6]\tvalidation_0-rmse:1.13596\n",
            "[7]\tvalidation_0-rmse:1.14038\n",
            "[8]\tvalidation_0-rmse:1.13709\n",
            "[9]\tvalidation_0-rmse:1.14059\n",
            "[10]\tvalidation_0-rmse:1.14119\n",
            "[11]\tvalidation_0-rmse:1.12811\n",
            "[12]\tvalidation_0-rmse:1.12538\n",
            "[13]\tvalidation_0-rmse:1.12104\n",
            "[14]\tvalidation_0-rmse:1.11913\n",
            "[15]\tvalidation_0-rmse:1.11973\n",
            "[16]\tvalidation_0-rmse:1.11822\n"
          ]
        },
        {
          "output_type": "stream",
          "name": "stderr",
          "text": [
            "/usr/local/lib/python3.10/dist-packages/xgboost/sklearn.py:835: UserWarning: `eval_metric` in `fit` method is deprecated for better compatibility with scikit-learn, use `eval_metric` in constructor or`set_params` instead.\n",
            "  warnings.warn(\n",
            "/usr/local/lib/python3.10/dist-packages/xgboost/sklearn.py:835: UserWarning: `early_stopping_rounds` in `fit` method is deprecated for better compatibility with scikit-learn, use `early_stopping_rounds` in constructor or`set_params` instead.\n",
            "  warnings.warn(\n"
          ]
        },
        {
          "output_type": "stream",
          "name": "stdout",
          "text": [
            "[17]\tvalidation_0-rmse:1.12076\n",
            "[18]\tvalidation_0-rmse:1.12017\n",
            "[19]\tvalidation_0-rmse:1.11883\n",
            "[20]\tvalidation_0-rmse:1.11480\n",
            "[21]\tvalidation_0-rmse:1.11001\n",
            "[22]\tvalidation_0-rmse:1.10785\n",
            "[23]\tvalidation_0-rmse:1.10879\n",
            "[24]\tvalidation_0-rmse:1.10225\n",
            "[25]\tvalidation_0-rmse:1.10263\n",
            "[26]\tvalidation_0-rmse:1.10301\n",
            "[27]\tvalidation_0-rmse:1.10570\n",
            "[28]\tvalidation_0-rmse:1.10653\n",
            "[29]\tvalidation_0-rmse:1.10434\n",
            "[30]\tvalidation_0-rmse:1.10665\n",
            "[31]\tvalidation_0-rmse:1.10600\n",
            "[32]\tvalidation_0-rmse:1.10545\n",
            "[33]\tvalidation_0-rmse:1.10599\n",
            "[34]\tvalidation_0-rmse:1.10709\n",
            "[35]\tvalidation_0-rmse:1.10595\n",
            "[36]\tvalidation_0-rmse:1.10673\n",
            "[37]\tvalidation_0-rmse:1.10691\n",
            "[38]\tvalidation_0-rmse:1.10702\n",
            "[39]\tvalidation_0-rmse:1.10640\n",
            "[40]\tvalidation_0-rmse:1.10511\n",
            "[41]\tvalidation_0-rmse:1.10530\n",
            "[42]\tvalidation_0-rmse:1.10607\n",
            "[43]\tvalidation_0-rmse:1.10836\n",
            "[44]\tvalidation_0-rmse:1.10665\n",
            "[45]\tvalidation_0-rmse:1.10701\n",
            "[46]\tvalidation_0-rmse:1.10742\n",
            "[47]\tvalidation_0-rmse:1.10731\n",
            "[48]\tvalidation_0-rmse:1.10691\n",
            "[49]\tvalidation_0-rmse:1.10823\n",
            "[50]\tvalidation_0-rmse:1.10850\n",
            "[51]\tvalidation_0-rmse:1.10923\n",
            "[52]\tvalidation_0-rmse:1.10906\n",
            "[53]\tvalidation_0-rmse:1.10938\n",
            "[54]\tvalidation_0-rmse:1.10924\n",
            "[0]\tvalidation_0-rmse:1.19738\n",
            "[1]\tvalidation_0-rmse:1.20847\n",
            "[2]\tvalidation_0-rmse:1.19935\n",
            "[3]\tvalidation_0-rmse:1.20693\n",
            "[4]\tvalidation_0-rmse:1.20455\n",
            "[5]\tvalidation_0-rmse:1.21856\n",
            "[6]\tvalidation_0-rmse:1.22616\n",
            "[7]\tvalidation_0-rmse:1.22958\n",
            "[8]\tvalidation_0-rmse:1.22206\n",
            "[9]\tvalidation_0-rmse:1.23111\n",
            "[10]\tvalidation_0-rmse:1.23705\n",
            "[11]\tvalidation_0-rmse:1.25742\n",
            "[12]\tvalidation_0-rmse:1.23803\n",
            "[13]\tvalidation_0-rmse:1.24160\n",
            "[14]\tvalidation_0-rmse:1.23635\n",
            "[15]\tvalidation_0-rmse:1.24138\n",
            "[16]\tvalidation_0-rmse:1.24793\n"
          ]
        },
        {
          "output_type": "stream",
          "name": "stderr",
          "text": [
            "/usr/local/lib/python3.10/dist-packages/xgboost/sklearn.py:835: UserWarning: `eval_metric` in `fit` method is deprecated for better compatibility with scikit-learn, use `eval_metric` in constructor or`set_params` instead.\n",
            "  warnings.warn(\n",
            "/usr/local/lib/python3.10/dist-packages/xgboost/sklearn.py:835: UserWarning: `early_stopping_rounds` in `fit` method is deprecated for better compatibility with scikit-learn, use `early_stopping_rounds` in constructor or`set_params` instead.\n",
            "  warnings.warn(\n"
          ]
        },
        {
          "output_type": "stream",
          "name": "stdout",
          "text": [
            "[17]\tvalidation_0-rmse:1.25629\n",
            "[18]\tvalidation_0-rmse:1.24961\n",
            "[19]\tvalidation_0-rmse:1.24978\n",
            "[20]\tvalidation_0-rmse:1.24985\n",
            "[21]\tvalidation_0-rmse:1.24685\n",
            "[22]\tvalidation_0-rmse:1.24587\n",
            "[23]\tvalidation_0-rmse:1.24563\n",
            "[24]\tvalidation_0-rmse:1.24447\n",
            "[25]\tvalidation_0-rmse:1.23692\n",
            "[26]\tvalidation_0-rmse:1.23935\n",
            "[27]\tvalidation_0-rmse:1.23768\n",
            "[28]\tvalidation_0-rmse:1.23769\n",
            "[29]\tvalidation_0-rmse:1.23730\n",
            "[30]\tvalidation_0-rmse:1.23959\n",
            "[0]\tvalidation_0-rmse:1.17254\n",
            "[1]\tvalidation_0-rmse:1.16429\n",
            "[2]\tvalidation_0-rmse:1.16381\n",
            "[3]\tvalidation_0-rmse:1.14554\n",
            "[4]\tvalidation_0-rmse:1.12942\n",
            "[5]\tvalidation_0-rmse:1.11311\n",
            "[6]\tvalidation_0-rmse:1.12474\n",
            "[7]\tvalidation_0-rmse:1.12768\n",
            "[8]\tvalidation_0-rmse:1.13244\n",
            "[9]\tvalidation_0-rmse:1.11978\n",
            "[10]\tvalidation_0-rmse:1.13259\n",
            "[11]\tvalidation_0-rmse:1.12230\n",
            "[12]\tvalidation_0-rmse:1.12618\n",
            "[13]\tvalidation_0-rmse:1.12368\n",
            "[14]\tvalidation_0-rmse:1.12592\n",
            "[15]\tvalidation_0-rmse:1.13250\n",
            "[16]\tvalidation_0-rmse:1.14305\n"
          ]
        },
        {
          "output_type": "stream",
          "name": "stderr",
          "text": [
            "/usr/local/lib/python3.10/dist-packages/xgboost/sklearn.py:835: UserWarning: `eval_metric` in `fit` method is deprecated for better compatibility with scikit-learn, use `eval_metric` in constructor or`set_params` instead.\n",
            "  warnings.warn(\n",
            "/usr/local/lib/python3.10/dist-packages/xgboost/sklearn.py:835: UserWarning: `early_stopping_rounds` in `fit` method is deprecated for better compatibility with scikit-learn, use `early_stopping_rounds` in constructor or`set_params` instead.\n",
            "  warnings.warn(\n"
          ]
        },
        {
          "output_type": "stream",
          "name": "stdout",
          "text": [
            "[17]\tvalidation_0-rmse:1.14042\n",
            "[18]\tvalidation_0-rmse:1.13437\n",
            "[19]\tvalidation_0-rmse:1.12289\n",
            "[20]\tvalidation_0-rmse:1.12630\n",
            "[21]\tvalidation_0-rmse:1.12473\n",
            "[22]\tvalidation_0-rmse:1.12066\n",
            "[23]\tvalidation_0-rmse:1.11531\n",
            "[24]\tvalidation_0-rmse:1.10606\n",
            "[25]\tvalidation_0-rmse:1.09983\n",
            "[26]\tvalidation_0-rmse:1.10372\n",
            "[27]\tvalidation_0-rmse:1.10104\n",
            "[28]\tvalidation_0-rmse:1.10471\n",
            "[29]\tvalidation_0-rmse:1.10191\n",
            "[30]\tvalidation_0-rmse:1.09475\n",
            "[31]\tvalidation_0-rmse:1.09375\n",
            "[32]\tvalidation_0-rmse:1.09546\n",
            "[33]\tvalidation_0-rmse:1.09729\n",
            "[34]\tvalidation_0-rmse:1.09173\n",
            "[35]\tvalidation_0-rmse:1.09403\n",
            "[36]\tvalidation_0-rmse:1.09630\n",
            "[37]\tvalidation_0-rmse:1.09397\n",
            "[38]\tvalidation_0-rmse:1.08895\n",
            "[39]\tvalidation_0-rmse:1.08613\n",
            "[40]\tvalidation_0-rmse:1.08838\n",
            "[41]\tvalidation_0-rmse:1.08679\n",
            "[42]\tvalidation_0-rmse:1.09143\n",
            "[43]\tvalidation_0-rmse:1.08829\n",
            "[44]\tvalidation_0-rmse:1.08949\n",
            "[45]\tvalidation_0-rmse:1.08812\n",
            "[46]\tvalidation_0-rmse:1.08520\n",
            "[47]\tvalidation_0-rmse:1.08410\n",
            "[48]\tvalidation_0-rmse:1.08022\n",
            "[49]\tvalidation_0-rmse:1.07981\n",
            "[50]\tvalidation_0-rmse:1.07750\n",
            "[51]\tvalidation_0-rmse:1.07829\n",
            "[52]\tvalidation_0-rmse:1.07684\n",
            "[53]\tvalidation_0-rmse:1.07582\n",
            "[54]\tvalidation_0-rmse:1.07926\n",
            "[55]\tvalidation_0-rmse:1.08284\n",
            "[56]\tvalidation_0-rmse:1.08464\n",
            "[57]\tvalidation_0-rmse:1.08436\n",
            "[58]\tvalidation_0-rmse:1.08460\n",
            "[59]\tvalidation_0-rmse:1.08188\n",
            "[60]\tvalidation_0-rmse:1.08148\n",
            "[61]\tvalidation_0-rmse:1.08084\n",
            "[62]\tvalidation_0-rmse:1.07994\n",
            "[63]\tvalidation_0-rmse:1.08051\n",
            "[64]\tvalidation_0-rmse:1.08074\n",
            "[65]\tvalidation_0-rmse:1.07940\n",
            "[66]\tvalidation_0-rmse:1.07885\n",
            "[67]\tvalidation_0-rmse:1.08066\n",
            "[68]\tvalidation_0-rmse:1.08019\n",
            "[69]\tvalidation_0-rmse:1.07956\n",
            "[70]\tvalidation_0-rmse:1.07976\n",
            "[71]\tvalidation_0-rmse:1.08044\n",
            "[72]\tvalidation_0-rmse:1.07958\n",
            "[73]\tvalidation_0-rmse:1.07760\n",
            "[74]\tvalidation_0-rmse:1.07641\n",
            "[75]\tvalidation_0-rmse:1.07681\n",
            "[76]\tvalidation_0-rmse:1.07609\n",
            "[77]\tvalidation_0-rmse:1.07598\n",
            "[78]\tvalidation_0-rmse:1.07631\n",
            "[79]\tvalidation_0-rmse:1.07582\n",
            "[80]\tvalidation_0-rmse:1.07722\n",
            "[81]\tvalidation_0-rmse:1.07725\n",
            "[82]\tvalidation_0-rmse:1.07713\n",
            "[83]\tvalidation_0-rmse:1.07776\n",
            "[84]\tvalidation_0-rmse:1.07733\n",
            "[85]\tvalidation_0-rmse:1.07750\n",
            "[86]\tvalidation_0-rmse:1.07726\n",
            "[87]\tvalidation_0-rmse:1.07640\n",
            "[88]\tvalidation_0-rmse:1.07646\n",
            "[89]\tvalidation_0-rmse:1.07626\n",
            "[90]\tvalidation_0-rmse:1.07599\n",
            "[91]\tvalidation_0-rmse:1.07574\n",
            "[92]\tvalidation_0-rmse:1.07566\n",
            "[93]\tvalidation_0-rmse:1.07545\n",
            "[94]\tvalidation_0-rmse:1.07530\n",
            "[95]\tvalidation_0-rmse:1.07607\n",
            "[96]\tvalidation_0-rmse:1.07673\n",
            "[97]\tvalidation_0-rmse:1.07632\n",
            "[98]\tvalidation_0-rmse:1.07689\n",
            "[99]\tvalidation_0-rmse:1.07594\n",
            "[0]\tvalidation_0-rmse:1.17848\n",
            "[1]\tvalidation_0-rmse:1.19079\n",
            "[2]\tvalidation_0-rmse:1.18619\n",
            "[3]\tvalidation_0-rmse:1.20790\n",
            "[4]\tvalidation_0-rmse:1.22660\n",
            "[5]\tvalidation_0-rmse:1.23951\n",
            "[6]\tvalidation_0-rmse:1.26353\n",
            "[7]\tvalidation_0-rmse:1.26487\n",
            "[8]\tvalidation_0-rmse:1.25413\n",
            "[9]\tvalidation_0-rmse:1.27882\n",
            "[10]\tvalidation_0-rmse:1.28375\n",
            "[11]\tvalidation_0-rmse:1.29180\n",
            "[12]\tvalidation_0-rmse:1.30437\n",
            "[13]\tvalidation_0-rmse:1.31505\n",
            "[14]\tvalidation_0-rmse:1.31000\n",
            "[15]\tvalidation_0-rmse:1.30988\n",
            "[16]\tvalidation_0-rmse:1.30359\n",
            "[17]\tvalidation_0-rmse:1.29779\n",
            "[18]\tvalidation_0-rmse:1.30369\n",
            "[19]\tvalidation_0-rmse:1.30161\n",
            "[20]\tvalidation_0-rmse:1.30194\n",
            "[21]\tvalidation_0-rmse:1.31372\n",
            "[22]\tvalidation_0-rmse:1.31804\n",
            "[23]\tvalidation_0-rmse:1.32079\n",
            "[24]\tvalidation_0-rmse:1.32208\n"
          ]
        },
        {
          "output_type": "stream",
          "name": "stderr",
          "text": [
            "/usr/local/lib/python3.10/dist-packages/xgboost/sklearn.py:835: UserWarning: `eval_metric` in `fit` method is deprecated for better compatibility with scikit-learn, use `eval_metric` in constructor or`set_params` instead.\n",
            "  warnings.warn(\n",
            "/usr/local/lib/python3.10/dist-packages/xgboost/sklearn.py:835: UserWarning: `early_stopping_rounds` in `fit` method is deprecated for better compatibility with scikit-learn, use `early_stopping_rounds` in constructor or`set_params` instead.\n",
            "  warnings.warn(\n"
          ]
        },
        {
          "output_type": "stream",
          "name": "stdout",
          "text": [
            "[25]\tvalidation_0-rmse:1.32626\n",
            "[26]\tvalidation_0-rmse:1.32248\n",
            "[27]\tvalidation_0-rmse:1.32171\n",
            "[28]\tvalidation_0-rmse:1.32308\n",
            "[29]\tvalidation_0-rmse:1.32107\n",
            "[30]\tvalidation_0-rmse:1.32827\n",
            "[0]\tvalidation_0-rmse:1.21580\n",
            "[1]\tvalidation_0-rmse:1.22191\n",
            "[2]\tvalidation_0-rmse:1.21675\n",
            "[3]\tvalidation_0-rmse:1.22173\n",
            "[4]\tvalidation_0-rmse:1.20940\n",
            "[5]\tvalidation_0-rmse:1.19738\n",
            "[6]\tvalidation_0-rmse:1.20920\n",
            "[7]\tvalidation_0-rmse:1.21608\n",
            "[8]\tvalidation_0-rmse:1.20606\n",
            "[9]\tvalidation_0-rmse:1.20669\n",
            "[10]\tvalidation_0-rmse:1.20029\n",
            "[11]\tvalidation_0-rmse:1.19854\n",
            "[12]\tvalidation_0-rmse:1.19359\n",
            "[13]\tvalidation_0-rmse:1.19335\n",
            "[14]\tvalidation_0-rmse:1.19380\n",
            "[15]\tvalidation_0-rmse:1.20047\n",
            "[16]\tvalidation_0-rmse:1.19998\n",
            "[17]\tvalidation_0-rmse:1.19555\n",
            "[18]\tvalidation_0-rmse:1.18907\n",
            "[19]\tvalidation_0-rmse:1.18868\n",
            "[20]\tvalidation_0-rmse:1.18703\n",
            "[21]\tvalidation_0-rmse:1.18159\n",
            "[22]\tvalidation_0-rmse:1.18559\n",
            "[23]\tvalidation_0-rmse:1.18229\n",
            "[24]\tvalidation_0-rmse:1.18237\n",
            "[25]\tvalidation_0-rmse:1.17982\n"
          ]
        },
        {
          "output_type": "stream",
          "name": "stderr",
          "text": [
            "/usr/local/lib/python3.10/dist-packages/xgboost/sklearn.py:835: UserWarning: `eval_metric` in `fit` method is deprecated for better compatibility with scikit-learn, use `eval_metric` in constructor or`set_params` instead.\n",
            "  warnings.warn(\n",
            "/usr/local/lib/python3.10/dist-packages/xgboost/sklearn.py:835: UserWarning: `early_stopping_rounds` in `fit` method is deprecated for better compatibility with scikit-learn, use `early_stopping_rounds` in constructor or`set_params` instead.\n",
            "  warnings.warn(\n"
          ]
        },
        {
          "output_type": "stream",
          "name": "stdout",
          "text": [
            "[26]\tvalidation_0-rmse:1.18089\n",
            "[27]\tvalidation_0-rmse:1.17705\n",
            "[28]\tvalidation_0-rmse:1.17535\n",
            "[29]\tvalidation_0-rmse:1.17445\n",
            "[30]\tvalidation_0-rmse:1.16262\n",
            "[31]\tvalidation_0-rmse:1.16113\n",
            "[32]\tvalidation_0-rmse:1.15830\n",
            "[33]\tvalidation_0-rmse:1.15756\n",
            "[34]\tvalidation_0-rmse:1.15608\n",
            "[35]\tvalidation_0-rmse:1.15625\n",
            "[36]\tvalidation_0-rmse:1.15594\n",
            "[37]\tvalidation_0-rmse:1.16012\n",
            "[38]\tvalidation_0-rmse:1.15915\n",
            "[39]\tvalidation_0-rmse:1.16367\n",
            "[40]\tvalidation_0-rmse:1.16296\n",
            "[41]\tvalidation_0-rmse:1.16530\n",
            "[42]\tvalidation_0-rmse:1.16586\n",
            "[43]\tvalidation_0-rmse:1.16490\n",
            "[44]\tvalidation_0-rmse:1.16350\n",
            "[45]\tvalidation_0-rmse:1.16398\n",
            "[46]\tvalidation_0-rmse:1.16537\n",
            "[47]\tvalidation_0-rmse:1.16515\n",
            "[48]\tvalidation_0-rmse:1.16509\n",
            "[49]\tvalidation_0-rmse:1.16589\n",
            "[50]\tvalidation_0-rmse:1.16665\n",
            "[51]\tvalidation_0-rmse:1.16646\n",
            "[52]\tvalidation_0-rmse:1.16405\n",
            "[53]\tvalidation_0-rmse:1.16401\n",
            "[54]\tvalidation_0-rmse:1.16344\n",
            "[55]\tvalidation_0-rmse:1.16231\n",
            "[56]\tvalidation_0-rmse:1.16119\n",
            "[57]\tvalidation_0-rmse:1.15986\n",
            "[58]\tvalidation_0-rmse:1.15957\n",
            "[59]\tvalidation_0-rmse:1.15923\n",
            "[60]\tvalidation_0-rmse:1.15931\n",
            "[61]\tvalidation_0-rmse:1.15803\n",
            "[62]\tvalidation_0-rmse:1.15797\n",
            "[63]\tvalidation_0-rmse:1.15774\n",
            "[64]\tvalidation_0-rmse:1.15753\n",
            "[65]\tvalidation_0-rmse:1.15688\n",
            "[66]\tvalidation_0-rmse:1.15704\n",
            "{'colsample_bytree': 0.75, 'max_depth': 5, 'min_child_weight': 1}\n"
          ]
        }
      ]
    },
    {
      "cell_type": "code",
      "source": [
        "# xgb.model <- xgb.train(data = train.DMatrix,\n",
        "#                        params = list(booster = \"gbtree\", eta = 0.05, gamma = 0, max_depth = 3,\n",
        "#                                      min_child_weight = 2, subsample = 1, colsample_bytree = 1,\n",
        "#                                      objective = \"reg:squarederror\", eval_metric = \"rmse\"),\n",
        "#                        nrounds = 399)"
      ],
      "metadata": {
        "id": "N62mPImwFx8k"
      },
      "execution_count": null,
      "outputs": []
    },
    {
      "cell_type": "code",
      "source": [
        "# 1차적으로 튜닝된 파라미터를 가지고 객체 생성\n",
        "xgb_model = XGBRegressor(n_estimators=1000, learning_rate=0.02, max_depth=5, min_child_weight=1, colsample_bytree=0.75, reg_alpha=0.03)\n",
        "\n",
        "# 학습\n",
        "rg = xgb_model.fit(X_train, y_train, early_stopping_rounds=200, eval_metric='rmse', eval_set= [(X_train, y_train), (X_val, y_val)])\n",
        "preds = xg_reg.predict(X_test)\n",
        "\n",
        "\n",
        "from sklearn.metrics import mean_squared_error\n",
        "rmse = np.sqrt(mean_squared_error(y_test, preds))\n",
        "print(\"RMSE: %f\" % (rmse))\n",
        "# RMSE: 1.083631\n",
        "# RMSE: 1.178757"
      ],
      "metadata": {
        "colab": {
          "base_uri": "https://localhost:8080/",
          "height": 408
        },
        "id": "vFxLZ8CgNm_q",
        "outputId": "3e5e0248-7181-4991-c4de-a21e56342d27"
      },
      "execution_count": 198,
      "outputs": [
        {
          "output_type": "error",
          "ename": "TypeError",
          "evalue": "ignored",
          "traceback": [
            "\u001b[0;31m---------------------------------------------------------------------------\u001b[0m",
            "\u001b[0;31mTypeError\u001b[0m                                 Traceback (most recent call last)",
            "\u001b[0;32m<ipython-input-198-b01d62cb53ab>\u001b[0m in \u001b[0;36m<cell line: 5>\u001b[0;34m()\u001b[0m\n\u001b[1;32m      3\u001b[0m \u001b[0;34m\u001b[0m\u001b[0m\n\u001b[1;32m      4\u001b[0m \u001b[0;31m# 학습\u001b[0m\u001b[0;34m\u001b[0m\u001b[0;34m\u001b[0m\u001b[0m\n\u001b[0;32m----> 5\u001b[0;31m \u001b[0mrg\u001b[0m \u001b[0;34m=\u001b[0m \u001b[0mxgb_model\u001b[0m\u001b[0;34m.\u001b[0m\u001b[0mfit\u001b[0m\u001b[0;34m(\u001b[0m\u001b[0mX_train\u001b[0m\u001b[0;34m,\u001b[0m \u001b[0my_train\u001b[0m\u001b[0;34m,\u001b[0m \u001b[0mearly_stopping_rounds\u001b[0m\u001b[0;34m=\u001b[0m\u001b[0;36m200\u001b[0m\u001b[0;34m,\u001b[0m \u001b[0meval_metric\u001b[0m\u001b[0;34m=\u001b[0m\u001b[0;34m'rmse'\u001b[0m\u001b[0;34m,\u001b[0m \u001b[0meval_set\u001b[0m\u001b[0;34m=\u001b[0m \u001b[0;34m[\u001b[0m\u001b[0;34m(\u001b[0m\u001b[0mX_val\u001b[0m\u001b[0;34m,\u001b[0m \u001b[0;34m'X_val'\u001b[0m\u001b[0;34m)\u001b[0m\u001b[0;34m,\u001b[0m \u001b[0;34m(\u001b[0m\u001b[0my_val\u001b[0m\u001b[0;34m,\u001b[0m \u001b[0;34m'y_val'\u001b[0m\u001b[0;34m)\u001b[0m\u001b[0;34m]\u001b[0m\u001b[0;34m)\u001b[0m\u001b[0;34m\u001b[0m\u001b[0;34m\u001b[0m\u001b[0m\n\u001b[0m\u001b[1;32m      6\u001b[0m \u001b[0mpreds\u001b[0m \u001b[0;34m=\u001b[0m \u001b[0mxg_reg\u001b[0m\u001b[0;34m.\u001b[0m\u001b[0mpredict\u001b[0m\u001b[0;34m(\u001b[0m\u001b[0mX_test\u001b[0m\u001b[0;34m)\u001b[0m\u001b[0;34m\u001b[0m\u001b[0;34m\u001b[0m\u001b[0m\n\u001b[1;32m      7\u001b[0m \u001b[0;34m\u001b[0m\u001b[0m\n",
            "\u001b[0;32m/usr/local/lib/python3.10/dist-packages/xgboost/core.py\u001b[0m in \u001b[0;36minner_f\u001b[0;34m(*args, **kwargs)\u001b[0m\n\u001b[1;32m    618\u001b[0m             \u001b[0;32mfor\u001b[0m \u001b[0mk\u001b[0m\u001b[0;34m,\u001b[0m \u001b[0marg\u001b[0m \u001b[0;32min\u001b[0m \u001b[0mzip\u001b[0m\u001b[0;34m(\u001b[0m\u001b[0msig\u001b[0m\u001b[0;34m.\u001b[0m\u001b[0mparameters\u001b[0m\u001b[0;34m,\u001b[0m \u001b[0margs\u001b[0m\u001b[0;34m)\u001b[0m\u001b[0;34m:\u001b[0m\u001b[0;34m\u001b[0m\u001b[0;34m\u001b[0m\u001b[0m\n\u001b[1;32m    619\u001b[0m                 \u001b[0mkwargs\u001b[0m\u001b[0;34m[\u001b[0m\u001b[0mk\u001b[0m\u001b[0;34m]\u001b[0m \u001b[0;34m=\u001b[0m \u001b[0marg\u001b[0m\u001b[0;34m\u001b[0m\u001b[0;34m\u001b[0m\u001b[0m\n\u001b[0;32m--> 620\u001b[0;31m             \u001b[0;32mreturn\u001b[0m \u001b[0mfunc\u001b[0m\u001b[0;34m(\u001b[0m\u001b[0;34m**\u001b[0m\u001b[0mkwargs\u001b[0m\u001b[0;34m)\u001b[0m\u001b[0;34m\u001b[0m\u001b[0;34m\u001b[0m\u001b[0m\n\u001b[0m\u001b[1;32m    621\u001b[0m \u001b[0;34m\u001b[0m\u001b[0m\n\u001b[1;32m    622\u001b[0m         \u001b[0;32mreturn\u001b[0m \u001b[0minner_f\u001b[0m\u001b[0;34m\u001b[0m\u001b[0;34m\u001b[0m\u001b[0m\n",
            "\u001b[0;32m/usr/local/lib/python3.10/dist-packages/xgboost/sklearn.py\u001b[0m in \u001b[0;36mfit\u001b[0;34m(self, X, y, sample_weight, base_margin, eval_set, eval_metric, early_stopping_rounds, verbose, xgb_model, sample_weight_eval_set, base_margin_eval_set, feature_weights, callbacks)\u001b[0m\n\u001b[1;32m    986\u001b[0m         \u001b[0;32mwith\u001b[0m \u001b[0mconfig_context\u001b[0m\u001b[0;34m(\u001b[0m\u001b[0mverbosity\u001b[0m\u001b[0;34m=\u001b[0m\u001b[0mself\u001b[0m\u001b[0;34m.\u001b[0m\u001b[0mverbosity\u001b[0m\u001b[0;34m)\u001b[0m\u001b[0;34m:\u001b[0m\u001b[0;34m\u001b[0m\u001b[0;34m\u001b[0m\u001b[0m\n\u001b[1;32m    987\u001b[0m             \u001b[0mevals_result\u001b[0m\u001b[0;34m:\u001b[0m \u001b[0mTrainingCallback\u001b[0m\u001b[0;34m.\u001b[0m\u001b[0mEvalsLog\u001b[0m \u001b[0;34m=\u001b[0m \u001b[0;34m{\u001b[0m\u001b[0;34m}\u001b[0m\u001b[0;34m\u001b[0m\u001b[0;34m\u001b[0m\u001b[0m\n\u001b[0;32m--> 988\u001b[0;31m             train_dmatrix, evals = _wrap_evaluation_matrices(\n\u001b[0m\u001b[1;32m    989\u001b[0m                 \u001b[0mmissing\u001b[0m\u001b[0;34m=\u001b[0m\u001b[0mself\u001b[0m\u001b[0;34m.\u001b[0m\u001b[0mmissing\u001b[0m\u001b[0;34m,\u001b[0m\u001b[0;34m\u001b[0m\u001b[0;34m\u001b[0m\u001b[0m\n\u001b[1;32m    990\u001b[0m                 \u001b[0mX\u001b[0m\u001b[0;34m=\u001b[0m\u001b[0mX\u001b[0m\u001b[0;34m,\u001b[0m\u001b[0;34m\u001b[0m\u001b[0;34m\u001b[0m\u001b[0m\n",
            "\u001b[0;32m/usr/local/lib/python3.10/dist-packages/xgboost/sklearn.py\u001b[0m in \u001b[0;36m_wrap_evaluation_matrices\u001b[0;34m(missing, X, y, group, qid, sample_weight, base_margin, feature_weights, eval_set, sample_weight_eval_set, base_margin_eval_set, eval_group, eval_qid, create_dmatrix, enable_categorical, feature_types)\u001b[0m\n\u001b[1;32m    497\u001b[0m                 \u001b[0mevals\u001b[0m\u001b[0;34m.\u001b[0m\u001b[0mappend\u001b[0m\u001b[0;34m(\u001b[0m\u001b[0mtrain_dmatrix\u001b[0m\u001b[0;34m)\u001b[0m\u001b[0;34m\u001b[0m\u001b[0;34m\u001b[0m\u001b[0m\n\u001b[1;32m    498\u001b[0m             \u001b[0;32melse\u001b[0m\u001b[0;34m:\u001b[0m\u001b[0;34m\u001b[0m\u001b[0;34m\u001b[0m\u001b[0m\n\u001b[0;32m--> 499\u001b[0;31m                 m = create_dmatrix(\n\u001b[0m\u001b[1;32m    500\u001b[0m                     \u001b[0mdata\u001b[0m\u001b[0;34m=\u001b[0m\u001b[0mvalid_X\u001b[0m\u001b[0;34m,\u001b[0m\u001b[0;34m\u001b[0m\u001b[0;34m\u001b[0m\u001b[0m\n\u001b[1;32m    501\u001b[0m                     \u001b[0mlabel\u001b[0m\u001b[0;34m=\u001b[0m\u001b[0mvalid_y\u001b[0m\u001b[0;34m,\u001b[0m\u001b[0;34m\u001b[0m\u001b[0;34m\u001b[0m\u001b[0m\n",
            "\u001b[0;32m/usr/local/lib/python3.10/dist-packages/xgboost/sklearn.py\u001b[0m in \u001b[0;36m_create_dmatrix\u001b[0;34m(self, ref, **kwargs)\u001b[0m\n\u001b[1;32m    906\u001b[0m             \u001b[0;32mexcept\u001b[0m \u001b[0mTypeError\u001b[0m\u001b[0;34m:\u001b[0m  \u001b[0;31m# `QuantileDMatrix` supports lesser types than DMatrix\u001b[0m\u001b[0;34m\u001b[0m\u001b[0;34m\u001b[0m\u001b[0m\n\u001b[1;32m    907\u001b[0m                 \u001b[0;32mpass\u001b[0m\u001b[0;34m\u001b[0m\u001b[0;34m\u001b[0m\u001b[0m\n\u001b[0;32m--> 908\u001b[0;31m         \u001b[0;32mreturn\u001b[0m \u001b[0mDMatrix\u001b[0m\u001b[0;34m(\u001b[0m\u001b[0;34m**\u001b[0m\u001b[0mkwargs\u001b[0m\u001b[0;34m,\u001b[0m \u001b[0mnthread\u001b[0m\u001b[0;34m=\u001b[0m\u001b[0mself\u001b[0m\u001b[0;34m.\u001b[0m\u001b[0mn_jobs\u001b[0m\u001b[0;34m)\u001b[0m\u001b[0;34m\u001b[0m\u001b[0;34m\u001b[0m\u001b[0m\n\u001b[0m\u001b[1;32m    909\u001b[0m \u001b[0;34m\u001b[0m\u001b[0m\n\u001b[1;32m    910\u001b[0m     \u001b[0;32mdef\u001b[0m \u001b[0m_set_evaluation_result\u001b[0m\u001b[0;34m(\u001b[0m\u001b[0mself\u001b[0m\u001b[0;34m,\u001b[0m \u001b[0mevals_result\u001b[0m\u001b[0;34m:\u001b[0m \u001b[0mTrainingCallback\u001b[0m\u001b[0;34m.\u001b[0m\u001b[0mEvalsLog\u001b[0m\u001b[0;34m)\u001b[0m \u001b[0;34m->\u001b[0m \u001b[0;32mNone\u001b[0m\u001b[0;34m:\u001b[0m\u001b[0;34m\u001b[0m\u001b[0;34m\u001b[0m\u001b[0m\n",
            "\u001b[0;32m/usr/local/lib/python3.10/dist-packages/xgboost/core.py\u001b[0m in \u001b[0;36minner_f\u001b[0;34m(*args, **kwargs)\u001b[0m\n\u001b[1;32m    618\u001b[0m             \u001b[0;32mfor\u001b[0m \u001b[0mk\u001b[0m\u001b[0;34m,\u001b[0m \u001b[0marg\u001b[0m \u001b[0;32min\u001b[0m \u001b[0mzip\u001b[0m\u001b[0;34m(\u001b[0m\u001b[0msig\u001b[0m\u001b[0;34m.\u001b[0m\u001b[0mparameters\u001b[0m\u001b[0;34m,\u001b[0m \u001b[0margs\u001b[0m\u001b[0;34m)\u001b[0m\u001b[0;34m:\u001b[0m\u001b[0;34m\u001b[0m\u001b[0;34m\u001b[0m\u001b[0m\n\u001b[1;32m    619\u001b[0m                 \u001b[0mkwargs\u001b[0m\u001b[0;34m[\u001b[0m\u001b[0mk\u001b[0m\u001b[0;34m]\u001b[0m \u001b[0;34m=\u001b[0m \u001b[0marg\u001b[0m\u001b[0;34m\u001b[0m\u001b[0;34m\u001b[0m\u001b[0m\n\u001b[0;32m--> 620\u001b[0;31m             \u001b[0;32mreturn\u001b[0m \u001b[0mfunc\u001b[0m\u001b[0;34m(\u001b[0m\u001b[0;34m**\u001b[0m\u001b[0mkwargs\u001b[0m\u001b[0;34m)\u001b[0m\u001b[0;34m\u001b[0m\u001b[0;34m\u001b[0m\u001b[0m\n\u001b[0m\u001b[1;32m    621\u001b[0m \u001b[0;34m\u001b[0m\u001b[0m\n\u001b[1;32m    622\u001b[0m         \u001b[0;32mreturn\u001b[0m \u001b[0minner_f\u001b[0m\u001b[0;34m\u001b[0m\u001b[0;34m\u001b[0m\u001b[0m\n",
            "\u001b[0;32m/usr/local/lib/python3.10/dist-packages/xgboost/core.py\u001b[0m in \u001b[0;36m__init__\u001b[0;34m(self, data, label, weight, base_margin, missing, silent, feature_names, feature_types, nthread, group, qid, label_lower_bound, label_upper_bound, feature_weights, enable_categorical)\u001b[0m\n\u001b[1;32m    752\u001b[0m         \u001b[0mself\u001b[0m\u001b[0;34m.\u001b[0m\u001b[0mhandle\u001b[0m \u001b[0;34m=\u001b[0m \u001b[0mhandle\u001b[0m\u001b[0;34m\u001b[0m\u001b[0;34m\u001b[0m\u001b[0m\n\u001b[1;32m    753\u001b[0m \u001b[0;34m\u001b[0m\u001b[0m\n\u001b[0;32m--> 754\u001b[0;31m         self.set_info(\n\u001b[0m\u001b[1;32m    755\u001b[0m             \u001b[0mlabel\u001b[0m\u001b[0;34m=\u001b[0m\u001b[0mlabel\u001b[0m\u001b[0;34m,\u001b[0m\u001b[0;34m\u001b[0m\u001b[0;34m\u001b[0m\u001b[0m\n\u001b[1;32m    756\u001b[0m             \u001b[0mweight\u001b[0m\u001b[0;34m=\u001b[0m\u001b[0mweight\u001b[0m\u001b[0;34m,\u001b[0m\u001b[0;34m\u001b[0m\u001b[0;34m\u001b[0m\u001b[0m\n",
            "\u001b[0;32m/usr/local/lib/python3.10/dist-packages/xgboost/core.py\u001b[0m in \u001b[0;36minner_f\u001b[0;34m(*args, **kwargs)\u001b[0m\n\u001b[1;32m    618\u001b[0m             \u001b[0;32mfor\u001b[0m \u001b[0mk\u001b[0m\u001b[0;34m,\u001b[0m \u001b[0marg\u001b[0m \u001b[0;32min\u001b[0m \u001b[0mzip\u001b[0m\u001b[0;34m(\u001b[0m\u001b[0msig\u001b[0m\u001b[0;34m.\u001b[0m\u001b[0mparameters\u001b[0m\u001b[0;34m,\u001b[0m \u001b[0margs\u001b[0m\u001b[0;34m)\u001b[0m\u001b[0;34m:\u001b[0m\u001b[0;34m\u001b[0m\u001b[0;34m\u001b[0m\u001b[0m\n\u001b[1;32m    619\u001b[0m                 \u001b[0mkwargs\u001b[0m\u001b[0;34m[\u001b[0m\u001b[0mk\u001b[0m\u001b[0;34m]\u001b[0m \u001b[0;34m=\u001b[0m \u001b[0marg\u001b[0m\u001b[0;34m\u001b[0m\u001b[0;34m\u001b[0m\u001b[0m\n\u001b[0;32m--> 620\u001b[0;31m             \u001b[0;32mreturn\u001b[0m \u001b[0mfunc\u001b[0m\u001b[0;34m(\u001b[0m\u001b[0;34m**\u001b[0m\u001b[0mkwargs\u001b[0m\u001b[0;34m)\u001b[0m\u001b[0;34m\u001b[0m\u001b[0;34m\u001b[0m\u001b[0m\n\u001b[0m\u001b[1;32m    621\u001b[0m \u001b[0;34m\u001b[0m\u001b[0m\n\u001b[1;32m    622\u001b[0m         \u001b[0;32mreturn\u001b[0m \u001b[0minner_f\u001b[0m\u001b[0;34m\u001b[0m\u001b[0;34m\u001b[0m\u001b[0m\n",
            "\u001b[0;32m/usr/local/lib/python3.10/dist-packages/xgboost/core.py\u001b[0m in \u001b[0;36mset_info\u001b[0;34m(self, label, weight, base_margin, group, qid, label_lower_bound, label_upper_bound, feature_names, feature_types, feature_weights)\u001b[0m\n\u001b[1;32m    817\u001b[0m \u001b[0;34m\u001b[0m\u001b[0m\n\u001b[1;32m    818\u001b[0m         \u001b[0;32mif\u001b[0m \u001b[0mlabel\u001b[0m \u001b[0;32mis\u001b[0m \u001b[0;32mnot\u001b[0m \u001b[0;32mNone\u001b[0m\u001b[0;34m:\u001b[0m\u001b[0;34m\u001b[0m\u001b[0;34m\u001b[0m\u001b[0m\n\u001b[0;32m--> 819\u001b[0;31m             \u001b[0mself\u001b[0m\u001b[0;34m.\u001b[0m\u001b[0mset_label\u001b[0m\u001b[0;34m(\u001b[0m\u001b[0mlabel\u001b[0m\u001b[0;34m)\u001b[0m\u001b[0;34m\u001b[0m\u001b[0;34m\u001b[0m\u001b[0m\n\u001b[0m\u001b[1;32m    820\u001b[0m         \u001b[0;32mif\u001b[0m \u001b[0mweight\u001b[0m \u001b[0;32mis\u001b[0m \u001b[0;32mnot\u001b[0m \u001b[0;32mNone\u001b[0m\u001b[0;34m:\u001b[0m\u001b[0;34m\u001b[0m\u001b[0;34m\u001b[0m\u001b[0m\n\u001b[1;32m    821\u001b[0m             \u001b[0mself\u001b[0m\u001b[0;34m.\u001b[0m\u001b[0mset_weight\u001b[0m\u001b[0;34m(\u001b[0m\u001b[0mweight\u001b[0m\u001b[0;34m)\u001b[0m\u001b[0;34m\u001b[0m\u001b[0;34m\u001b[0m\u001b[0m\n",
            "\u001b[0;32m/usr/local/lib/python3.10/dist-packages/xgboost/core.py\u001b[0m in \u001b[0;36mset_label\u001b[0;34m(self, label)\u001b[0m\n\u001b[1;32m    948\u001b[0m         \"\"\"\n\u001b[1;32m    949\u001b[0m         \u001b[0;32mfrom\u001b[0m \u001b[0;34m.\u001b[0m\u001b[0mdata\u001b[0m \u001b[0;32mimport\u001b[0m \u001b[0mdispatch_meta_backend\u001b[0m\u001b[0;34m\u001b[0m\u001b[0;34m\u001b[0m\u001b[0m\n\u001b[0;32m--> 950\u001b[0;31m         \u001b[0mdispatch_meta_backend\u001b[0m\u001b[0;34m(\u001b[0m\u001b[0mself\u001b[0m\u001b[0;34m,\u001b[0m \u001b[0mlabel\u001b[0m\u001b[0;34m,\u001b[0m \u001b[0;34m'label'\u001b[0m\u001b[0;34m,\u001b[0m \u001b[0;34m'float'\u001b[0m\u001b[0;34m)\u001b[0m\u001b[0;34m\u001b[0m\u001b[0;34m\u001b[0m\u001b[0m\n\u001b[0m\u001b[1;32m    951\u001b[0m \u001b[0;34m\u001b[0m\u001b[0m\n\u001b[1;32m    952\u001b[0m     \u001b[0;32mdef\u001b[0m \u001b[0mset_weight\u001b[0m\u001b[0;34m(\u001b[0m\u001b[0mself\u001b[0m\u001b[0;34m,\u001b[0m \u001b[0mweight\u001b[0m\u001b[0;34m:\u001b[0m \u001b[0mArrayLike\u001b[0m\u001b[0;34m)\u001b[0m \u001b[0;34m->\u001b[0m \u001b[0;32mNone\u001b[0m\u001b[0;34m:\u001b[0m\u001b[0;34m\u001b[0m\u001b[0;34m\u001b[0m\u001b[0m\n",
            "\u001b[0;32m/usr/local/lib/python3.10/dist-packages/xgboost/data.py\u001b[0m in \u001b[0;36mdispatch_meta_backend\u001b[0;34m(matrix, data, name, dtype)\u001b[0m\n\u001b[1;32m   1164\u001b[0m         \u001b[0m_meta_from_numpy\u001b[0m\u001b[0;34m(\u001b[0m\u001b[0marray\u001b[0m\u001b[0;34m,\u001b[0m \u001b[0mname\u001b[0m\u001b[0;34m,\u001b[0m \u001b[0mdtype\u001b[0m\u001b[0;34m,\u001b[0m \u001b[0mhandle\u001b[0m\u001b[0;34m)\u001b[0m\u001b[0;34m\u001b[0m\u001b[0;34m\u001b[0m\u001b[0m\n\u001b[1;32m   1165\u001b[0m         \u001b[0;32mreturn\u001b[0m\u001b[0;34m\u001b[0m\u001b[0;34m\u001b[0m\u001b[0m\n\u001b[0;32m-> 1166\u001b[0;31m     \u001b[0;32mraise\u001b[0m \u001b[0mTypeError\u001b[0m\u001b[0;34m(\u001b[0m\u001b[0;34m'Unsupported type for '\u001b[0m \u001b[0;34m+\u001b[0m \u001b[0mname\u001b[0m\u001b[0;34m,\u001b[0m \u001b[0mstr\u001b[0m\u001b[0;34m(\u001b[0m\u001b[0mtype\u001b[0m\u001b[0;34m(\u001b[0m\u001b[0mdata\u001b[0m\u001b[0;34m)\u001b[0m\u001b[0;34m)\u001b[0m\u001b[0;34m)\u001b[0m\u001b[0;34m\u001b[0m\u001b[0;34m\u001b[0m\u001b[0m\n\u001b[0m\u001b[1;32m   1167\u001b[0m \u001b[0;34m\u001b[0m\u001b[0m\n\u001b[1;32m   1168\u001b[0m \u001b[0;34m\u001b[0m\u001b[0m\n",
            "\u001b[0;31mTypeError\u001b[0m: ('Unsupported type for label', \"<class 'str'>\")"
          ]
        }
      ]
    },
    {
      "cell_type": "code",
      "source": [
        "eval_result = rg.evals_result()\n",
        "training_rounds = range(len(eval_result['validation_0']['rmse']))\n",
        "print(training_rounds)\n",
        "\n",
        "plt.scatter(x=training_rounds,y=eval_result['validation_0']['rmse'],label='Training Error')\n",
        "plt.scatter(x=training_rounds,y=eval_result['validation_1']['rmse'],label='Validation Error')\n",
        "plt.grid(True)\n",
        "plt.xlabel('Iteration')\n",
        "plt.ylabel('RMSE')\n",
        "plt.title('Training Vs Validation Error')\n",
        "plt.legend()"
      ],
      "metadata": {
        "colab": {
          "base_uri": "https://localhost:8080/",
          "height": 1000
        },
        "id": "Sx69qpQWGgLw",
        "outputId": "eec26770-66d2-42f9-ed67-68119c5fe722"
      },
      "execution_count": 185,
      "outputs": [
        {
          "output_type": "stream",
          "name": "stdout",
          "text": [
            "range(0, 1000)\n"
          ]
        },
        {
          "output_type": "execute_result",
          "data": {
            "text/plain": [
              "<matplotlib.legend.Legend at 0x7b85a0f28670>"
            ]
          },
          "metadata": {},
          "execution_count": 185
        },
        {
          "output_type": "display_data",
          "data": {
            "text/plain": [
              "<Figure size 1000x1200 with 1 Axes>"
            ],
            "image/png": "[encoded data removed]"
          },
          "metadata": {}
        }
      ]
    },
    {
      "cell_type": "code",
      "source": [
        "xgb.plot_importance(rg)\n",
        "plt.show()"
      ],
      "metadata": {
        "colab": {
          "base_uri": "https://localhost:8080/",
          "height": 1000
        },
        "id": "SbHhnhFiIras",
        "outputId": "54c1bb47-a618-414e-cf5f-6b61c3f56eab"
      },
      "execution_count": 187,
      "outputs": [
        {
          "output_type": "display_data",
          "data": {
            "text/plain": [
              "<Figure size 1000x1200 with 1 Axes>"
            ],
            "image/png": "[encoded data removed]"
          },
          "metadata": {}
        }
      ]
    },
    {
      "cell_type": "code",
      "source": [
        "# Plot for entire dataset\n",
        "plt.scatter(X_train, y_train,label='Target')\n",
        "plt.scatter(y_train, rg.(y_test) ,label='Predicted')\n",
        "plt.grid(True)\n",
        "plt.xlabel('Input Feature')\n",
        "plt.ylabel('Target')\n",
        "plt.legend()\n",
        "plt.title('XGBoost')\n",
        "plt.show()"
      ],
      "metadata": {
        "colab": {
          "base_uri": "https://localhost:8080/",
          "height": 1000
        },
        "id": "4HqOTjrLJA8Y",
        "outputId": "8fe3d0c3-f221-4829-ec02-589714cad9a0"
      },
      "execution_count": 192,
      "outputs": [
        {
          "output_type": "error",
          "ename": "ValueError",
          "evalue": "ignored",
          "traceback": [
            "\u001b[0;31m---------------------------------------------------------------------------\u001b[0m",
            "\u001b[0;31mValueError\u001b[0m                                Traceback (most recent call last)",
            "\u001b[0;32m<ipython-input-192-bd01d42a79fe>\u001b[0m in \u001b[0;36m<cell line: 2>\u001b[0;34m()\u001b[0m\n\u001b[1;32m      1\u001b[0m \u001b[0;31m# Plot for entire dataset\u001b[0m\u001b[0;34m\u001b[0m\u001b[0;34m\u001b[0m\u001b[0m\n\u001b[0;32m----> 2\u001b[0;31m \u001b[0mplt\u001b[0m\u001b[0;34m.\u001b[0m\u001b[0mscatter\u001b[0m\u001b[0;34m(\u001b[0m\u001b[0mX_train\u001b[0m\u001b[0;34m,\u001b[0m \u001b[0mX_test\u001b[0m\u001b[0;34m,\u001b[0m\u001b[0mlabel\u001b[0m\u001b[0;34m=\u001b[0m\u001b[0;34m'Target'\u001b[0m\u001b[0;34m)\u001b[0m\u001b[0;34m\u001b[0m\u001b[0;34m\u001b[0m\u001b[0m\n\u001b[0m\u001b[1;32m      3\u001b[0m \u001b[0mplt\u001b[0m\u001b[0;34m.\u001b[0m\u001b[0mscatter\u001b[0m\u001b[0;34m(\u001b[0m\u001b[0my_train\u001b[0m\u001b[0;34m,\u001b[0m \u001b[0mrg\u001b[0m\u001b[0;34m.\u001b[0m\u001b[0mpredict\u001b[0m\u001b[0;34m(\u001b[0m\u001b[0my_test\u001b[0m\u001b[0;34m)\u001b[0m \u001b[0;34m,\u001b[0m\u001b[0mlabel\u001b[0m\u001b[0;34m=\u001b[0m\u001b[0;34m'Predicted'\u001b[0m\u001b[0;34m)\u001b[0m\u001b[0;34m\u001b[0m\u001b[0;34m\u001b[0m\u001b[0m\n\u001b[1;32m      4\u001b[0m \u001b[0mplt\u001b[0m\u001b[0;34m.\u001b[0m\u001b[0mgrid\u001b[0m\u001b[0;34m(\u001b[0m\u001b[0;32mTrue\u001b[0m\u001b[0;34m)\u001b[0m\u001b[0;34m\u001b[0m\u001b[0;34m\u001b[0m\u001b[0m\n\u001b[1;32m      5\u001b[0m \u001b[0mplt\u001b[0m\u001b[0;34m.\u001b[0m\u001b[0mxlabel\u001b[0m\u001b[0;34m(\u001b[0m\u001b[0;34m'Input Feature'\u001b[0m\u001b[0;34m)\u001b[0m\u001b[0;34m\u001b[0m\u001b[0;34m\u001b[0m\u001b[0m\n",
            "\u001b[0;32m/usr/local/lib/python3.10/dist-packages/matplotlib/pyplot.py\u001b[0m in \u001b[0;36mscatter\u001b[0;34m(x, y, s, c, marker, cmap, norm, vmin, vmax, alpha, linewidths, edgecolors, plotnonfinite, data, **kwargs)\u001b[0m\n\u001b[1;32m   2860\u001b[0m         \u001b[0mvmin\u001b[0m\u001b[0;34m=\u001b[0m\u001b[0;32mNone\u001b[0m\u001b[0;34m,\u001b[0m \u001b[0mvmax\u001b[0m\u001b[0;34m=\u001b[0m\u001b[0;32mNone\u001b[0m\u001b[0;34m,\u001b[0m \u001b[0malpha\u001b[0m\u001b[0;34m=\u001b[0m\u001b[0;32mNone\u001b[0m\u001b[0;34m,\u001b[0m \u001b[0mlinewidths\u001b[0m\u001b[0;34m=\u001b[0m\u001b[0;32mNone\u001b[0m\u001b[0;34m,\u001b[0m \u001b[0;34m*\u001b[0m\u001b[0;34m,\u001b[0m\u001b[0;34m\u001b[0m\u001b[0;34m\u001b[0m\u001b[0m\n\u001b[1;32m   2861\u001b[0m         edgecolors=None, plotnonfinite=False, data=None, **kwargs):\n\u001b[0;32m-> 2862\u001b[0;31m     __ret = gca().scatter(\n\u001b[0m\u001b[1;32m   2863\u001b[0m         \u001b[0mx\u001b[0m\u001b[0;34m,\u001b[0m \u001b[0my\u001b[0m\u001b[0;34m,\u001b[0m \u001b[0ms\u001b[0m\u001b[0;34m=\u001b[0m\u001b[0ms\u001b[0m\u001b[0;34m,\u001b[0m \u001b[0mc\u001b[0m\u001b[0;34m=\u001b[0m\u001b[0mc\u001b[0m\u001b[0;34m,\u001b[0m \u001b[0mmarker\u001b[0m\u001b[0;34m=\u001b[0m\u001b[0mmarker\u001b[0m\u001b[0;34m,\u001b[0m \u001b[0mcmap\u001b[0m\u001b[0;34m=\u001b[0m\u001b[0mcmap\u001b[0m\u001b[0;34m,\u001b[0m \u001b[0mnorm\u001b[0m\u001b[0;34m=\u001b[0m\u001b[0mnorm\u001b[0m\u001b[0;34m,\u001b[0m\u001b[0;34m\u001b[0m\u001b[0;34m\u001b[0m\u001b[0m\n\u001b[1;32m   2864\u001b[0m         \u001b[0mvmin\u001b[0m\u001b[0;34m=\u001b[0m\u001b[0mvmin\u001b[0m\u001b[0;34m,\u001b[0m \u001b[0mvmax\u001b[0m\u001b[0;34m=\u001b[0m\u001b[0mvmax\u001b[0m\u001b[0;34m,\u001b[0m \u001b[0malpha\u001b[0m\u001b[0;34m=\u001b[0m\u001b[0malpha\u001b[0m\u001b[0;34m,\u001b[0m \u001b[0mlinewidths\u001b[0m\u001b[0;34m=\u001b[0m\u001b[0mlinewidths\u001b[0m\u001b[0;34m,\u001b[0m\u001b[0;34m\u001b[0m\u001b[0;34m\u001b[0m\u001b[0m\n",
            "\u001b[0;32m/usr/local/lib/python3.10/dist-packages/matplotlib/__init__.py\u001b[0m in \u001b[0;36minner\u001b[0;34m(ax, data, *args, **kwargs)\u001b[0m\n\u001b[1;32m   1440\u001b[0m     \u001b[0;32mdef\u001b[0m \u001b[0minner\u001b[0m\u001b[0;34m(\u001b[0m\u001b[0max\u001b[0m\u001b[0;34m,\u001b[0m \u001b[0;34m*\u001b[0m\u001b[0margs\u001b[0m\u001b[0;34m,\u001b[0m \u001b[0mdata\u001b[0m\u001b[0;34m=\u001b[0m\u001b[0;32mNone\u001b[0m\u001b[0;34m,\u001b[0m \u001b[0;34m**\u001b[0m\u001b[0mkwargs\u001b[0m\u001b[0;34m)\u001b[0m\u001b[0;34m:\u001b[0m\u001b[0;34m\u001b[0m\u001b[0;34m\u001b[0m\u001b[0m\n\u001b[1;32m   1441\u001b[0m         \u001b[0;32mif\u001b[0m \u001b[0mdata\u001b[0m \u001b[0;32mis\u001b[0m \u001b[0;32mNone\u001b[0m\u001b[0;34m:\u001b[0m\u001b[0;34m\u001b[0m\u001b[0;34m\u001b[0m\u001b[0m\n\u001b[0;32m-> 1442\u001b[0;31m             \u001b[0;32mreturn\u001b[0m \u001b[0mfunc\u001b[0m\u001b[0;34m(\u001b[0m\u001b[0max\u001b[0m\u001b[0;34m,\u001b[0m \u001b[0;34m*\u001b[0m\u001b[0mmap\u001b[0m\u001b[0;34m(\u001b[0m\u001b[0msanitize_sequence\u001b[0m\u001b[0;34m,\u001b[0m \u001b[0margs\u001b[0m\u001b[0;34m)\u001b[0m\u001b[0;34m,\u001b[0m \u001b[0;34m**\u001b[0m\u001b[0mkwargs\u001b[0m\u001b[0;34m)\u001b[0m\u001b[0;34m\u001b[0m\u001b[0;34m\u001b[0m\u001b[0m\n\u001b[0m\u001b[1;32m   1443\u001b[0m \u001b[0;34m\u001b[0m\u001b[0m\n\u001b[1;32m   1444\u001b[0m         \u001b[0mbound\u001b[0m \u001b[0;34m=\u001b[0m \u001b[0mnew_sig\u001b[0m\u001b[0;34m.\u001b[0m\u001b[0mbind\u001b[0m\u001b[0;34m(\u001b[0m\u001b[0max\u001b[0m\u001b[0;34m,\u001b[0m \u001b[0;34m*\u001b[0m\u001b[0margs\u001b[0m\u001b[0;34m,\u001b[0m \u001b[0;34m**\u001b[0m\u001b[0mkwargs\u001b[0m\u001b[0;34m)\u001b[0m\u001b[0;34m\u001b[0m\u001b[0;34m\u001b[0m\u001b[0m\n",
            "\u001b[0;32m/usr/local/lib/python3.10/dist-packages/matplotlib/axes/_axes.py\u001b[0m in \u001b[0;36mscatter\u001b[0;34m(self, x, y, s, c, marker, cmap, norm, vmin, vmax, alpha, linewidths, edgecolors, plotnonfinite, **kwargs)\u001b[0m\n\u001b[1;32m   4582\u001b[0m         \u001b[0my\u001b[0m \u001b[0;34m=\u001b[0m \u001b[0mnp\u001b[0m\u001b[0;34m.\u001b[0m\u001b[0mma\u001b[0m\u001b[0;34m.\u001b[0m\u001b[0mravel\u001b[0m\u001b[0;34m(\u001b[0m\u001b[0my\u001b[0m\u001b[0;34m)\u001b[0m\u001b[0;34m\u001b[0m\u001b[0;34m\u001b[0m\u001b[0m\n\u001b[1;32m   4583\u001b[0m         \u001b[0;32mif\u001b[0m \u001b[0mx\u001b[0m\u001b[0;34m.\u001b[0m\u001b[0msize\u001b[0m \u001b[0;34m!=\u001b[0m \u001b[0my\u001b[0m\u001b[0;34m.\u001b[0m\u001b[0msize\u001b[0m\u001b[0;34m:\u001b[0m\u001b[0;34m\u001b[0m\u001b[0;34m\u001b[0m\u001b[0m\n\u001b[0;32m-> 4584\u001b[0;31m             \u001b[0;32mraise\u001b[0m \u001b[0mValueError\u001b[0m\u001b[0;34m(\u001b[0m\u001b[0;34m\"x and y must be the same size\"\u001b[0m\u001b[0;34m)\u001b[0m\u001b[0;34m\u001b[0m\u001b[0;34m\u001b[0m\u001b[0m\n\u001b[0m\u001b[1;32m   4585\u001b[0m \u001b[0;34m\u001b[0m\u001b[0m\n\u001b[1;32m   4586\u001b[0m         \u001b[0;32mif\u001b[0m \u001b[0ms\u001b[0m \u001b[0;32mis\u001b[0m \u001b[0;32mNone\u001b[0m\u001b[0;34m:\u001b[0m\u001b[0;34m\u001b[0m\u001b[0;34m\u001b[0m\u001b[0m\n",
            "\u001b[0;31mValueError\u001b[0m: x and y must be the same size"
          ]
        },
        {
          "output_type": "display_data",
          "data": {
            "text/plain": [
              "<Figure size 1000x1200 with 1 Axes>"
            ],
            "image/png": "[encoded data removed]"
          },
          "metadata": {}
        }
      ]
    },
    {
      "cell_type": "code",
      "source": [
        "import joblib\n",
        "# 파일명\n",
        "filename = 'ks_xgb_1.model'\n",
        "\n",
        "# 모델 저장\n",
        "joblib.dump(xgb_model, open(filename, 'wb'))\n"
      ],
      "metadata": {
        "id": "ZE-sNiql8B9l"
      },
      "execution_count": 186,
      "outputs": []
    },
    {
      "cell_type": "markdown",
      "source": [
        "# LSTM\n",
        "https://pasus.tistory.com/266\n",
        "https://6mini.github.io/deep%20learning/2021/10/21/NNHyperparameter/\n"
      ],
      "metadata": {
        "id": "Hjg4Yn-3PX1R"
      }
    },
    {
      "cell_type": "code",
      "source": [
        "raw_train.columns"
      ],
      "metadata": {
        "colab": {
          "base_uri": "https://localhost:8080/"
        },
        "id": "dxH2oYIYTQOg",
        "outputId": "9b66c3d6-544f-4e42-8e76-d14ae89e8914"
      },
      "execution_count": 65,
      "outputs": [
        {
          "output_type": "execute_result",
          "data": {
            "text/plain": [
              "Index(['close', 'open', 'high', 'low', 'rsi', 'MACD_12_26', 'MACD_sign_12_26',\n",
              "       'hband', 'mavg', 'lband', 'CSI', 'target'],\n",
              "      dtype='object')"
            ]
          },
          "metadata": {},
          "execution_count": 65
        }
      ]
    },
    {
      "cell_type": "code",
      "source": [
        "# save original 'returns' prices for later\n",
        "original_returns = raw_train['target'].values\n",
        "\n",
        "# separate dates for future plotting\n",
        "dates = pd.to_datetime(raw_train['date'])"
      ],
      "metadata": {
        "id": "iOo-qq3APWgr"
      },
      "execution_count": 50,
      "outputs": []
    },
    {
      "cell_type": "code",
      "source": [
        "# variables for training\n",
        "cols = list(raw_train)[1:13]\n",
        "\n",
        "# new dataframe with only training data - 5 columns\n",
        "stock_data = raw_train[cols].astype(float)"
      ],
      "metadata": {
        "id": "1TL53MlpTGUW"
      },
      "execution_count": 67,
      "outputs": []
    },
    {
      "cell_type": "code",
      "source": [
        "cols"
      ],
      "metadata": {
        "colab": {
          "base_uri": "https://localhost:8080/"
        },
        "id": "HFjfZeZ1zEhC",
        "outputId": "3ea96a58-bdc4-4d5c-ef9f-471c041bb1bd"
      },
      "execution_count": 68,
      "outputs": [
        {
          "output_type": "execute_result",
          "data": {
            "text/plain": [
              "['open',\n",
              " 'high',\n",
              " 'low',\n",
              " 'rsi',\n",
              " 'MACD_12_26',\n",
              " 'MACD_sign_12_26',\n",
              " 'hband',\n",
              " 'mavg',\n",
              " 'lband',\n",
              " 'CSI',\n",
              " 'target']"
            ]
          },
          "metadata": {},
          "execution_count": 68
        }
      ]
    },
    {
      "cell_type": "code",
      "source": [
        "# normalize the dataset\n",
        "from sklearn.preprocessing import StandardScaler, MinMaxScaler\n",
        "scaler = StandardScaler()\n",
        "scaler = scaler.fit(stock_data)\n",
        "stock_data_scaled = scaler.transform(stock_data)"
      ],
      "metadata": {
        "id": "n3uiZuIpSyeW"
      },
      "execution_count": 116,
      "outputs": []
    },
    {
      "cell_type": "code",
      "source": [
        "# from sklearn.model_selection import train_test_split\n",
        "# X_train, X_test, y_train, y_test = train_test_split(X, y, test_size=246, random_state=123)\n",
        "# X_train, X_val, y_train, y_val = train_test_split(X_train, y_train, test_size=248, random_state=123)"
      ],
      "metadata": {
        "id": "oucIDXQfz2Th"
      },
      "execution_count": null,
      "outputs": []
    },
    {
      "cell_type": "code",
      "source": [
        "# split to train data and test data\n",
        "n_train = 981\n",
        "train_data_scaled = stock_data_scaled[0: n_train]\n",
        "train_dates = dates[0: n_train]\n",
        "\n",
        "n_validation = n_train + 248\n",
        "val_data_scaled = stock_data_scaled[n_train: n_validation]\n",
        "val_dates = dates[n_train: n_validation]\n",
        "\n",
        "n_test = n_validation\n",
        "\n",
        "test_data_scaled = stock_data_scaled[n_test:]\n",
        "test_dates = dates[n_test:]"
      ],
      "metadata": {
        "id": "6onAQqOOTi8m"
      },
      "execution_count": 129,
      "outputs": []
    },
    {
      "cell_type": "code",
      "source": [
        "len(val_data_scaled)"
      ],
      "metadata": {
        "colab": {
          "base_uri": "https://localhost:8080/"
        },
        "id": "rF1DwYAP0NO8",
        "outputId": "90b4e3db-43b8-4c40-f545-678c8c81a699"
      },
      "execution_count": 130,
      "outputs": [
        {
          "output_type": "execute_result",
          "data": {
            "text/plain": [
              "248"
            ]
          },
          "metadata": {},
          "execution_count": 130
        }
      ]
    },
    {
      "cell_type": "code",
      "source": [
        "len(test_data_scaled)"
      ],
      "metadata": {
        "colab": {
          "base_uri": "https://localhost:8080/"
        },
        "id": "dQv77NUwzno-",
        "outputId": "56f1d939-deec-46a6-de9f-d714f14c5752"
      },
      "execution_count": 131,
      "outputs": [
        {
          "output_type": "execute_result",
          "data": {
            "text/plain": [
              "246"
            ]
          },
          "metadata": {},
          "execution_count": 131
        }
      ]
    },
    {
      "cell_type": "code",
      "source": [
        "import numpy as np\n",
        "# data reformatting for LSTM\n",
        "pred_days = 62  # prediction period - 3months\n",
        "seq_len = 62   # sequence length = past days for future prediction.\n",
        "input_dim = 12  # input_dimension = ['close', 'open', 'high', 'low', 'rsi', 'MACD_12_26', 'MACD_sign_12_26', 'hband', 'mavg', 'lband', 'CSI', 'target']\n",
        "\n",
        "trainX = []\n",
        "trainY = []\n",
        "valX = []\n",
        "valY = []\n",
        "testX = []\n",
        "testY = []\n",
        "\n",
        "for i in range(seq_len, n_train-pred_days +1):\n",
        "    trainX.append(train_data_scaled[i - seq_len:i, 0:train_data_scaled.shape[1]])\n",
        "    trainY.append(train_data_scaled[i + pred_days - 1:i + pred_days, 0])\n",
        "\n",
        "for i in range(seq_len, len(val_data_scaled)-pred_days +1):\n",
        "    valX.append(val_data_scaled[i - seq_len:i, 0:val_data_scaled.shape[1]])\n",
        "    valY.append(val_data_scaled[i + pred_days - 1:i + pred_days, 0])\n",
        "\n",
        "for i in range(seq_len, len(test_data_scaled)-pred_days +1):\n",
        "    testX.append(test_data_scaled[i - seq_len:i, 0:test_data_scaled.shape[1]])\n",
        "    testY.append(test_data_scaled[i + pred_days - 1:i + pred_days, 0])\n",
        "\n",
        "trainX, trainY = np.array(trainX), np.array(trainY)\n",
        "valX, valY = np.array(valX), np.array(valY)\n",
        "testX, testY = np.array(testX), np.array(testY)"
      ],
      "metadata": {
        "id": "Bz9RXN1JTzvf"
      },
      "execution_count": 223,
      "outputs": []
    },
    {
      "cell_type": "code",
      "source": [
        "print(trainX.shape, trainY.shape)\n",
        "print(testX.shape, testY.shape)\n",
        "print(valX.shape, valY.shape)"
      ],
      "metadata": {
        "colab": {
          "base_uri": "https://localhost:8080/"
        },
        "id": "8WbjWuIX3Ce6",
        "outputId": "239667b4-3465-4289-c888-25a9da5ff124"
      },
      "execution_count": 224,
      "outputs": [
        {
          "output_type": "stream",
          "name": "stdout",
          "text": [
            "(858, 62, 11) (858, 1)\n",
            "(123, 62, 11) (123, 1)\n",
            "(125, 62, 11) (125, 1)\n"
          ]
        }
      ]
    },
    {
      "cell_type": "code",
      "source": [
        "!pip install keras"
      ],
      "metadata": {
        "colab": {
          "base_uri": "https://localhost:8080/"
        },
        "id": "bLWvr-rtY49J",
        "outputId": "9feed649-47ab-473b-808a-d5869dbf2c61"
      },
      "execution_count": 227,
      "outputs": [
        {
          "output_type": "stream",
          "name": "stdout",
          "text": [
            "Requirement already satisfied: keras in /usr/local/lib/python3.10/dist-packages (2.12.0)\n"
          ]
        }
      ]
    },
    {
      "cell_type": "code",
      "source": [
        "# LSTM model\n",
        "import numpy as np\n",
        "import pandas as pd\n",
        "from tensorflow.keras.models import Sequential\n",
        "from tensorflow.keras.layers import LSTM, Dense\n",
        "from tensorflow.keras.optimizers import Adam\n",
        "from sklearn.preprocessing import StandardScaler\n",
        "import matplotlib.pyplot as plt\n",
        "\n",
        "\n",
        "model = Sequential()\n",
        "model.add(LSTM(64, input_shape=(trainX.shape[1], trainX.shape[2]),\n",
        "               return_sequences=True))\n",
        "model.add(LSTM(32, return_sequences=False))\n",
        "model.add(Dense(trainY.shape[1]))"
      ],
      "metadata": {
        "id": "xFdrb17pT6Gg"
      },
      "execution_count": 228,
      "outputs": []
    },
    {
      "cell_type": "code",
      "source": [
        "# specify your learning rate\n",
        "learning_rate = 0.01\n",
        "# create an Adam optimizer with the specified learning rate\n",
        "optimizer = Adam(learning_rate=learning_rate)\n",
        "# compile your model using the custom optimizer\n",
        "model.compile(optimizer=optimizer, loss='mse')"
      ],
      "metadata": {
        "id": "T8uS_iFeru-6"
      },
      "execution_count": 229,
      "outputs": []
    },
    {
      "cell_type": "code",
      "source": [
        "validation_data = (valX,valY)"
      ],
      "metadata": {
        "id": "ozLemlOA1zuz"
      },
      "execution_count": 230,
      "outputs": []
    },
    {
      "cell_type": "code",
      "source": [
        "# import matplotlib.pyplot as plt\n",
        "# try:\n",
        "#     model.load_weights('./lstm_weights_2.h5')\n",
        "#     print(\"Loaded model weights from disk\")\n",
        "# except:\n",
        "    # Fit the model\n",
        "history = model.fit(trainX, trainY, epochs=30, batch_size=32, validation_data=validation_data,\n",
        "                  verbose=1)\n",
        "# Save model weights after training\n",
        "model.save_weights('./lstm_weights_3.h5')\n",
        "\n",
        "plt.plot(history.history['loss'], label='Training loss')\n",
        "plt.plot(history.history['val_loss'], label='Validation loss')\n",
        "plt.legend()\n",
        "plt.show()\n"
      ],
      "metadata": {
        "colab": {
          "base_uri": "https://localhost:8080/",
          "height": 1000
        },
        "id": "C8i_xzUPDTdz",
        "outputId": "78665bc6-83b1-4264-baf4-e113241c9d0e"
      },
      "execution_count": 231,
      "outputs": [
        {
          "output_type": "stream",
          "name": "stdout",
          "text": [
            "Epoch 1/30\n",
            "27/27 [==============================] - 20s 347ms/step - loss: 0.1656 - val_loss: 2.2855\n",
            "Epoch 2/30\n",
            "27/27 [==============================] - 4s 146ms/step - loss: 0.0971 - val_loss: 1.8083\n",
            "Epoch 3/30\n",
            "27/27 [==============================] - 4s 156ms/step - loss: 0.1044 - val_loss: 3.1647\n",
            "Epoch 4/30\n",
            "27/27 [==============================] - 6s 225ms/step - loss: 0.0947 - val_loss: 3.2559\n",
            "Epoch 5/30\n",
            "27/27 [==============================] - 4s 166ms/step - loss: 0.0833 - val_loss: 2.9689\n",
            "Epoch 6/30\n",
            "27/27 [==============================] - 4s 137ms/step - loss: 0.0792 - val_loss: 2.7269\n",
            "Epoch 7/30\n",
            "27/27 [==============================] - 2s 68ms/step - loss: 0.0681 - val_loss: 3.0792\n",
            "Epoch 8/30\n",
            "27/27 [==============================] - 3s 100ms/step - loss: 0.0903 - val_loss: 1.8900\n",
            "Epoch 9/30\n",
            "27/27 [==============================] - 3s 108ms/step - loss: 0.0767 - val_loss: 1.7727\n",
            "Epoch 10/30\n",
            "27/27 [==============================] - 2s 67ms/step - loss: 0.0840 - val_loss: 2.3225\n",
            "Epoch 11/30\n",
            "27/27 [==============================] - 2s 67ms/step - loss: 0.1073 - val_loss: 3.1489\n",
            "Epoch 12/30\n",
            "27/27 [==============================] - 2s 67ms/step - loss: 0.0889 - val_loss: 3.0609\n",
            "Epoch 13/30\n",
            "27/27 [==============================] - 2s 67ms/step - loss: 0.0623 - val_loss: 3.2389\n",
            "Epoch 14/30\n",
            "27/27 [==============================] - 2s 67ms/step - loss: 0.0634 - val_loss: 3.4473\n",
            "Epoch 15/30\n",
            "27/27 [==============================] - 3s 97ms/step - loss: 0.0498 - val_loss: 3.1423\n",
            "Epoch 16/30\n",
            "27/27 [==============================] - 3s 111ms/step - loss: 0.0296 - val_loss: 3.1093\n",
            "Epoch 17/30\n",
            "27/27 [==============================] - 2s 67ms/step - loss: 0.0269 - val_loss: 3.2673\n",
            "Epoch 18/30\n",
            "27/27 [==============================] - 2s 67ms/step - loss: 0.0287 - val_loss: 3.6139\n",
            "Epoch 19/30\n",
            "27/27 [==============================] - 2s 67ms/step - loss: 0.0286 - val_loss: 3.3312\n",
            "Epoch 20/30\n",
            "27/27 [==============================] - 2s 68ms/step - loss: 0.0225 - val_loss: 3.6220\n",
            "Epoch 21/30\n",
            "27/27 [==============================] - 2s 68ms/step - loss: 0.0407 - val_loss: 2.9148\n",
            "Epoch 22/30\n",
            "27/27 [==============================] - 3s 100ms/step - loss: 0.0326 - val_loss: 2.9406\n",
            "Epoch 23/30\n",
            "27/27 [==============================] - 3s 110ms/step - loss: 0.0251 - val_loss: 3.1134\n",
            "Epoch 24/30\n",
            "27/27 [==============================] - 2s 66ms/step - loss: 0.0189 - val_loss: 3.0773\n",
            "Epoch 25/30\n",
            "27/27 [==============================] - 2s 67ms/step - loss: 0.0141 - val_loss: 3.1016\n",
            "Epoch 26/30\n",
            "27/27 [==============================] - 2s 67ms/step - loss: 0.0120 - val_loss: 2.9505\n",
            "Epoch 27/30\n",
            "27/27 [==============================] - 2s 69ms/step - loss: 0.0098 - val_loss: 3.1306\n",
            "Epoch 28/30\n",
            "27/27 [==============================] - 2s 69ms/step - loss: 0.0084 - val_loss: 2.8084\n",
            "Epoch 29/30\n",
            "27/27 [==============================] - 3s 97ms/step - loss: 0.0089 - val_loss: 3.1875\n",
            "Epoch 30/30\n",
            "27/27 [==============================] - 3s 112ms/step - loss: 0.0075 - val_loss: 3.1405\n"
          ]
        },
        {
          "output_type": "display_data",
          "data": {
            "text/plain": [
              "<Figure size 4000x1000 with 1 Axes>"
            ],
            "image/png": "[encoded data removed]"
          },
          "metadata": {}
        }
      ]
    },
    {
      "cell_type": "code",
      "source": [
        "import matplotlib.pyplot as plt\n",
        "try:\n",
        "    model.load_weights('./lstm_weights_3.h5')\n",
        "    print(\"Loaded model weights from disk\")\n",
        "except:\n",
        "    # Fit the model\n",
        "    history = model.fit(trainX, trainY, epochs=30, batch_size=32,\n",
        "                     verbose=1) #validation_data\n",
        "    # Save model weights after training\n",
        "    model.save_weights('./lstm_weights_3.h5')\n",
        "\n",
        "plt.plot(history.history['loss'], label='Training loss')\n",
        "# plt.plot(history.history['val_loss'], label='Validation loss')\n",
        "plt.legend()\n",
        "plt.show()\n"
      ],
      "metadata": {
        "colab": {
          "base_uri": "https://localhost:8080/",
          "height": 1000
        },
        "id": "u8v0l6j8r1Ko",
        "outputId": "8b298993-d254-4818-9beb-cc4e001081c5"
      },
      "execution_count": 169,
      "outputs": [
        {
          "output_type": "stream",
          "name": "stdout",
          "text": [
            "Epoch 1/30\n",
            "31/31 [==============================] - 1s 46ms/step - loss: 0.0020\n",
            "Epoch 2/30\n",
            "31/31 [==============================] - 1s 45ms/step - loss: 0.0015\n",
            "Epoch 3/30\n",
            "31/31 [==============================] - 1s 36ms/step - loss: 0.0017\n",
            "Epoch 4/30\n",
            "31/31 [==============================] - 1s 21ms/step - loss: 0.0019\n",
            "Epoch 5/30\n",
            "31/31 [==============================] - 1s 19ms/step - loss: 0.0017\n",
            "Epoch 6/30\n",
            "31/31 [==============================] - 1s 21ms/step - loss: 0.0016\n",
            "Epoch 7/30\n",
            "31/31 [==============================] - 1s 40ms/step - loss: 0.0018\n",
            "Epoch 8/30\n",
            "31/31 [==============================] - 1s 35ms/step - loss: 0.0015\n",
            "Epoch 9/30\n",
            "31/31 [==============================] - 1s 28ms/step - loss: 0.0015\n",
            "Epoch 10/30\n",
            "31/31 [==============================] - 1s 17ms/step - loss: 0.0015\n",
            "Epoch 11/30\n",
            "31/31 [==============================] - 1s 18ms/step - loss: 0.0013\n",
            "Epoch 12/30\n",
            "31/31 [==============================] - 1s 18ms/step - loss: 0.0013\n",
            "Epoch 13/30\n",
            "31/31 [==============================] - 1s 18ms/step - loss: 0.0014\n",
            "Epoch 14/30\n",
            "31/31 [==============================] - 1s 18ms/step - loss: 0.0016\n",
            "Epoch 15/30\n",
            "31/31 [==============================] - 1s 19ms/step - loss: 0.0016\n",
            "Epoch 16/30\n",
            "31/31 [==============================] - 1s 23ms/step - loss: 0.0020\n",
            "Epoch 17/30\n",
            "31/31 [==============================] - 1s 30ms/step - loss: 0.0018\n",
            "Epoch 18/30\n",
            "31/31 [==============================] - 1s 29ms/step - loss: 0.0020\n",
            "Epoch 19/30\n",
            "31/31 [==============================] - 1s 30ms/step - loss: 0.0016\n",
            "Epoch 20/30\n",
            "31/31 [==============================] - 1s 30ms/step - loss: 0.0015\n",
            "Epoch 21/30\n",
            "31/31 [==============================] - 1s 27ms/step - loss: 0.0013\n",
            "Epoch 22/30\n",
            "31/31 [==============================] - 1s 23ms/step - loss: 0.0014\n",
            "Epoch 23/30\n",
            "31/31 [==============================] - 1s 34ms/step - loss: 0.0014\n",
            "Epoch 24/30\n",
            "31/31 [==============================] - 1s 19ms/step - loss: 0.0011\n",
            "Epoch 25/30\n",
            "31/31 [==============================] - 1s 17ms/step - loss: 0.0011\n",
            "Epoch 26/30\n",
            "31/31 [==============================] - 1s 18ms/step - loss: 0.0011\n",
            "Epoch 27/30\n",
            "31/31 [==============================] - 1s 17ms/step - loss: 0.0012\n",
            "Epoch 28/30\n",
            "31/31 [==============================] - 1s 17ms/step - loss: 0.0013\n",
            "Epoch 29/30\n",
            "31/31 [==============================] - 1s 17ms/step - loss: 0.0014\n",
            "Epoch 30/30\n",
            "31/31 [==============================] - 1s 17ms/step - loss: 0.0012\n"
          ]
        },
        {
          "output_type": "display_data",
          "data": {
            "text/plain": [
              "<Figure size 1000x1200 with 1 Axes>"
            ],
            "image/png": "[encoded data removed]"
          },
          "metadata": {}
        }
      ]
    },
    {
      "cell_type": "code",
      "source": [
        "# prediction\n",
        "prediction = model.predict(testX)\n",
        "print(prediction.shape, testY.shape)"
      ],
      "metadata": {
        "colab": {
          "base_uri": "https://localhost:8080/"
        },
        "id": "he6hMDKcsMwA",
        "outputId": "af607502-52c9-4d74-c1ed-61e1bfe037a9"
      },
      "execution_count": 232,
      "outputs": [
        {
          "output_type": "stream",
          "name": "stdout",
          "text": [
            "4/4 [==============================] - 1s 20ms/step\n",
            "(123, 1) (123, 1)\n"
          ]
        }
      ]
    },
    {
      "cell_type": "code",
      "source": [
        "# generate array filled with means for prediction\n",
        "mean_values_pred = np.repeat(scaler.mean_[np.newaxis, :], prediction.shape[0], axis=0)\n",
        "\n",
        "# substitute predictions into the last column\n",
        "mean_values_pred[:, -1] = np.squeeze(prediction)\n",
        "\n",
        "# inverse transform\n",
        "y_pred = scaler.inverse_transform(mean_values_pred)[:,-1]\n",
        "print(y_pred.shape)\n"
      ],
      "metadata": {
        "colab": {
          "base_uri": "https://localhost:8080/"
        },
        "id": "pSGAoPcvsijE",
        "outputId": "dea84a07-f1f1-4901-c7a8-a0a738188d94"
      },
      "execution_count": 233,
      "outputs": [
        {
          "output_type": "stream",
          "name": "stdout",
          "text": [
            "(123,)\n"
          ]
        }
      ]
    },
    {
      "cell_type": "code",
      "source": [
        "# generate array filled with means for testY\n",
        "mean_values_testY = np.repeat(scaler.mean_[np.newaxis, :], testY.shape[0], axis=0)\n",
        "\n",
        "# substitute testY into the last column\n",
        "mean_values_testY[:, -1] = np.squeeze(testY)\n",
        "# inverse transform\n",
        "testY_original = scaler.inverse_transform(mean_values_testY)[:,-1]\n",
        "print(testY_original.shape)"
      ],
      "metadata": {
        "colab": {
          "base_uri": "https://localhost:8080/"
        },
        "id": "DBy3UEAA67nc",
        "outputId": "427e657f-4f07-4a6e-9030-e7e11985d2a2"
      },
      "execution_count": 234,
      "outputs": [
        {
          "output_type": "stream",
          "name": "stdout",
          "text": [
            "(123,)\n"
          ]
        }
      ]
    },
    {
      "cell_type": "code",
      "source": [
        "# plotting\n",
        "plt.figure(figsize=(14, 5))\n",
        "\n",
        "# plot original 'returns' prices\n",
        "plt.plot(dates, original_returns, color='green', label='Original Returns')"
      ],
      "metadata": {
        "colab": {
          "base_uri": "https://localhost:8080/",
          "height": 463
        },
        "id": "h6VNVqznsmkR",
        "outputId": "825d9286-0d45-485c-a785-00b46b4460fa"
      },
      "execution_count": 235,
      "outputs": [
        {
          "output_type": "execute_result",
          "data": {
            "text/plain": [
              "[<matplotlib.lines.Line2D at 0x7b85a0f0f2e0>]"
            ]
          },
          "metadata": {},
          "execution_count": 235
        },
        {
          "output_type": "display_data",
          "data": {
            "text/plain": [
              "<Figure size 1400x500 with 1 Axes>"
            ],
            "image/png": "[encoded data removed]"
          },
          "metadata": {}
        }
      ]
    },
    {
      "cell_type": "code",
      "source": [
        "test_dates[seq_len:]"
      ],
      "metadata": {
        "colab": {
          "base_uri": "https://localhost:8080/"
        },
        "id": "1_w5s8zkQ2yD",
        "outputId": "9a81cee1-5908-4a63-ba39-cef514a504aa"
      },
      "execution_count": 236,
      "outputs": [
        {
          "output_type": "execute_result",
          "data": {
            "text/plain": [
              "1291   2022-04-06\n",
              "1292   2022-04-07\n",
              "1293   2022-04-08\n",
              "1294   2022-04-11\n",
              "1295   2022-04-12\n",
              "          ...    \n",
              "1470   2022-12-23\n",
              "1471   2022-12-26\n",
              "1472   2022-12-27\n",
              "1473   2022-12-28\n",
              "1474   2022-12-29\n",
              "Name: date, Length: 184, dtype: datetime64[ns]"
            ]
          },
          "metadata": {},
          "execution_count": 236
        }
      ]
    },
    {
      "cell_type": "code",
      "source": [
        "testY_original.size"
      ],
      "metadata": {
        "colab": {
          "base_uri": "https://localhost:8080/"
        },
        "id": "45NLVUaMQ5nW",
        "outputId": "16863498-a678-4e5c-a03d-326a315f93d3"
      },
      "execution_count": 237,
      "outputs": [
        {
          "output_type": "execute_result",
          "data": {
            "text/plain": [
              "123"
            ]
          },
          "metadata": {},
          "execution_count": 237
        }
      ]
    },
    {
      "cell_type": "code",
      "source": [
        "# plot actual vs predicted\n",
        "plt.plot(test_dates[seq_len:], testY_original, color='blue', label='Actual Returns')\n",
        "plt.plot(test_dates[seq_len:], y_pred, color='red', linestyle='--', label='Predicted Returns')\n",
        "plt.xlabel('Date')\n",
        "plt.ylabel('Returns')\n",
        "plt.title('Original, Actual and Predicted Returns')\n",
        "plt.legend()\n",
        "plt.show()"
      ],
      "metadata": {
        "id": "UoUObDIqsmgM"
      },
      "execution_count": null,
      "outputs": []
    },
    {
      "cell_type": "code",
      "source": [
        "# Calculate the start and end indices for the zoomed plot\n",
        "zoom_start = len(test_dates) - 50\n",
        "zoom_end = len(test_dates)\n",
        "\n",
        "# Create the zoomed plot\n",
        "plt.figure(figsize=(14, 5))\n",
        "\n",
        "# Adjust the start index for the testY_original and y_pred arrays\n",
        "adjusted_start = zoom_start - seq_len\n",
        "\n",
        "plt.plot(test_dates[zoom_start:zoom_end],\n",
        "         testY_original[adjusted_start:zoom_end - zoom_start + adjusted_start],\n",
        "         color='blue',\n",
        "         label='Actual Returns')\n",
        "\n",
        "plt.plot(test_dates[zoom_start:zoom_end],\n",
        "         y_pred[adjusted_start:zoom_end - zoom_start + adjusted_start ],\n",
        "         color='red',\n",
        "         linestyle='--',\n",
        "         label='Predicted Returns')\n",
        "\n",
        "plt.xlabel('Date')\n",
        "plt.ylabel('Returns')\n",
        "plt.title('Zoomed In Actual vs Predicted Returns')\n",
        "plt.legend()\n",
        "plt.show()"
      ],
      "metadata": {
        "colab": {
          "base_uri": "https://localhost:8080/",
          "height": 487
        },
        "id": "0ouAWqu2qXwQ",
        "outputId": "1f60165b-c367-4680-de9d-73e836767fa0"
      },
      "execution_count": 155,
      "outputs": [
        {
          "output_type": "display_data",
          "data": {
            "text/plain": [
              "<Figure size 1400x500 with 1 Axes>"
            ],
            "image/png": "[encoded data removed]"
          },
          "metadata": {}
        }
      ]
    },
    {
      "cell_type": "code",
      "source": [
        "from sklearn.metrics import mean_squared_error\n",
        "rmse = np.sqrt(mean_squared_error(testY_original, y_pred))\n",
        "print(\"RMSE: %f\" % (rmse))\n",
        "# RMSE: 0.160966 ..?gg"
      ],
      "metadata": {
        "colab": {
          "base_uri": "https://localhost:8080/"
        },
        "id": "cPAv5QCr6jk6",
        "outputId": "431f1e8e-80f3-443e-ced9-947bbfb3ea3f"
      },
      "execution_count": 156,
      "outputs": [
        {
          "output_type": "stream",
          "name": "stdout",
          "text": [
            "RMSE: 0.160966\n"
          ]
        }
      ]
    },
    {
      "cell_type": "code",
      "source": [
        "model.save('ks_lstm.h5')"
      ],
      "metadata": {
        "id": "vBgWWO0E70u1"
      },
      "execution_count": 157,
      "outputs": []
    },
    {
      "cell_type": "markdown",
      "source": [
        "#추가적으로 할일\n",
        "- 상관관계가 높은 변수 제외  \n",
        "다중공선성 문제를 방지\n",
        "- 종속변수 정규화(xgboost)\n",
        "- 앙상블 (참고: https://knowallworld.tistory.com/399)\n",
        "- 3개월 후\n",
        "https://dacon.io/en/competitions/official/236117/codeshare/8680?page=1&dtype=recent&ptype&fType"
      ],
      "metadata": {
        "id": "ZJ9i2gQnv_lr"
      }
    },
    {
      "cell_type": "code",
      "source": [
        "# 모델 불러오기\n",
        "xgb_model = joblib.load(open(filename, 'rb'))"
      ],
      "metadata": {
        "id": "SmCnCnvowCh2"
      },
      "execution_count": 159,
      "outputs": []
    },
    {
      "cell_type": "code",
      "source": [
        "import tensorflow as tf\n",
        "new_model = tf.keras.models.load_model('ks_lstm.h5')"
      ],
      "metadata": {
        "id": "wFeKM7Lw8bT2"
      },
      "execution_count": 162,
      "outputs": []
    }
  ],
  "metadata": {
    "kernelspec": {
      "display_name": "base",
      "language": "python",
      "name": "python3"
    },
    "language_info": {
      "codemirror_mode": {
        "name": "ipython",
        "version": 3
      },
      "file_extension": ".py",
      "mimetype": "text/x-python",
      "name": "python",
      "nbconvert_exporter": "python",
      "pygments_lexer": "ipython3",
      "version": "3.10.9"
    },
    "orig_nbformat": 4,
    "colab": {
      "provenance": [],
      "toc_visible": true
    }
  },
  "nbformat": 4,
  "nbformat_minor": 0
}