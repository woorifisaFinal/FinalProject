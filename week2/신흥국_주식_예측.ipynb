{
  "cells": [
    {
      "cell_type": "markdown",
      "metadata": {
        "id": "5derempy4mSD"
      },
      "source": [
        "# History\n",
        "\n",
        "- 평가 지표 : MAE, RMSE, SMAPE\n",
        "\n",
        "참고 링크:\n",
        "- [모델 뼈대 (Kaggle, Chris)](https://www.kaggle.com/code/cdeotte/gru-model-3rd-place-gold#Train-GRU)\n",
        "- [CNN-LSTM, GRU-CNN](https://www.mdpi.com/2076-3417/13/7/4644)\n",
        "\n",
        "\n",
        "\n",
        "#### Version 2\n",
        "    - Close, Open, Volume 등 추가\n",
        "    - scaler 코드 함수화\n",
        "\n",
        "\n",
        "#### Future Work\n",
        "\n",
        "- 수익률 값이 애초에 너무 작기에 Loss가 제대로 먹히지 않는 느낌이다. 해결책은 찾아보자.\n",
        "- Feature를 추가해본다.\n",
        "- 교차검증을 시도한다.\n",
        "- Model hyperparameter를 조정해본다.\n",
        "- (Update) 모델 구조 변경, CNN-LSTM 추가\n"
      ]
    },
    {
      "cell_type": "markdown",
      "metadata": {
        "id": "XkdPYIPG4weF"
      },
      "source": [
        "# Library"
      ]
    },
    {
      "cell_type": "code",
      "execution_count": 1,
      "metadata": {
        "id": "Ovm2zogg4chf"
      },
      "outputs": [],
      "source": [
        "\n",
        "# ----- Basic setup ----- #\n",
        "import pandas as pd\n",
        "import numpy as np\n",
        "from os.path import join as opj\n",
        "from tqdm.auto import tqdm\n",
        "from datetime import datetime, timedelta\n",
        "import random, os\n",
        "from IPython.display import clear_output\n",
        "import calendar\n",
        "import warnings\n",
        "warnings.filterwarnings('ignore')\n",
        "\n",
        "# pd.options.display.float_format = '{:.5f}'.format\n",
        "# pd.options.display.max_rows = None\n",
        "\n",
        "# 교육자료\n",
        "# np.set_printoptions(precision=6, suppress=True)\n",
        "\n",
        "# pd.options.display.float_format = '{:.5f}'.format\n",
        "# pd.reset_option('display.float_format')\n",
        "\n",
        "# import random\n",
        "# import os\n",
        "# from tqdm.notebook import tqdm\n",
        "\n",
        "# ----- scikit learn ----- #\n",
        "# from sklearn.ensemble import RandomForestRegressor\n",
        "from sklearn.model_selection import train_test_split # GroupKFold\n",
        "# r2_score를 제외한 나머지 평가지표들은 클수록 안 좋고, 1보다 큰 값도 왕왕 등장합니다.\n",
        "from sklearn.metrics import confusion_matrix, mean_squared_error, r2_score, mean_absolute_error\n",
        "from sklearn.preprocessing import MinMaxScaler, StandardScaler, OrdinalEncoder\n",
        "# -1 ~ 1 사이, 0~1사이로 값의 단위를 고정시켜줍니다. : 정규화\n",
        "\n",
        "# R2 score : 1 - sum((y_true - y_pred) ** 2) / sum((y_true - y_true.mean())**2)\n",
        "# 1에 가까울 수록 좋은 모델, 0에 가까울 수록 나쁨, 음수가 나오면 잘못 평가 되었음을 의미합니다.\n",
        "\n",
        "# ----- tensorflow & keras ----- #\n",
        "\n",
        "from keras.models import Sequential\n",
        "from keras.preprocessing.sequence import TimeseriesGenerator # https://github.com/keras-team/keras/blob/cdffff886626e5a05bc5d54b8a4634f1e5db06cf/keras/preprocessing/sequence.py#L56\n",
        "from tensorflow.keras import layers\n",
        "from tensorflow.keras.callbacks import ModelCheckpoint, EarlyStopping\n",
        "\n",
        "import tensorflow as tf\n",
        "\n",
        "\n",
        "# ----- visualization ----- #\n",
        "import matplotlib.pyplot as plt\n",
        "import seaborn as sns\n",
        "\n",
        "# import plotly.express as px\n",
        "# import plotly.graph_objects as go\n",
        "# import plotly.figure_factory as ff\n",
        "# from plotly.subplots import make_subplots\n",
        "# from plotly.offline import init_notebook_mode, iplot\n",
        "\n",
        "# yahoo financial, unofficial way, rate limit\n",
        "from pandas_datareader import data as pdr\n",
        "import yfinance as yf\n",
        "yf.pdr_override()\n",
        "\n",
        "\n",
        "\n",
        "!pip install ta\n",
        "import ta\n",
        "\n",
        "clear_output()"
      ]
    },
    {
      "cell_type": "markdown",
      "metadata": {
        "id": "JognaTpM4_he"
      },
      "source": [
        "# Configuration"
      ]
    },
    {
      "cell_type": "code",
      "execution_count": 2,
      "metadata": {
        "colab": {
          "base_uri": "https://localhost:8080/"
        },
        "id": "ZJ8BGY9o5AvZ",
        "outputId": "dbcd561a-1923-4e7a-e190-5be1b87364b4"
      },
      "outputs": [
        {
          "name": "stdout",
          "output_type": "stream",
          "text": [
            "Overwriting config.yml\n"
          ]
        }
      ],
      "source": [
        "%%writefile config.yml\n",
        "\n",
        "# 주석은 값에서 띄어쓰기를 꼭해줘야 한다. (yaml의 특성이 아닌 Namespace의 특성일 수도 있다.)\n",
        "base:\n",
        "  exp_name: exp_01\n",
        "  task_name: asset # asset or portfolio\n",
        "  model_name: LSTM # GRU, CNN_LSTM, GRU_CNN, xgboost\n",
        "  use_gpu: false\n",
        "  index_name: ^BVSP # ^BVSP : 브라질,  ^TWII : 대만, ^BSESN : 인도\n",
        "  seed: 813\n",
        "  base_dir: /content/ # /drive/MyDrive/~~~\n",
        "  output_dir: ./\n",
        "  #log_file: train_log.log\n",
        "\n",
        "data:\n",
        "  lookback_window: 10 #  look back period 5 21 42\n",
        "  lookahead_window: 1 # 62 # 5 3개월 후로 고정되어 있으므로... 62는 장 개장일 기준으로 3개월 후한 첫 번째 값의 간격. 즉 17.01.02-> 17.04.03 사이에 62개\n",
        "  y_form: ratio # value #\n",
        "  feature_list:\n",
        "    - Open\n",
        "    - High\n",
        "    - Low\n",
        "    - Close # 수익률 계산을 위해 혹은 종가로 사용하기 위해서라도 반드시 포함되어야 한다.\n",
        "    - HLmean # H + L / 2\n",
        "    - OCmean # O + C / 2\n",
        "    - Volume\n",
        "    - ATR\n",
        "    - Parabolic SAR\n",
        "    - MACD\n",
        "    - SMA\n",
        "    - EMA\n",
        "    - RSI\n",
        "    - day\n",
        "    - month\n",
        "    - dayofweek\n",
        "    - weekofmonth\n",
        "\n",
        "\n",
        "train:\n",
        "  #dataset:\n",
        "  start_date: 2017-01-01\n",
        "  end_date: 2020-12-31\n",
        "  use_derive_vairable: true\n",
        "\n",
        "  #training setting:\n",
        "  verbose: 2\n",
        "\n",
        "\n",
        "valid:\n",
        "  #dataset:\n",
        "  start_date: 2021-01-01\n",
        "  end_date: 2021-12-31\n",
        "  use_derive_vairable: true\n",
        "\n",
        "test:\n",
        "  #dataset:\n",
        "  start_date: 2022-01-01\n",
        "  end_date: 2022-12-31"
      ]
    },
    {
      "cell_type": "code",
      "execution_count": 3,
      "metadata": {
        "colab": {
          "base_uri": "https://localhost:8080/"
        },
        "id": "kkmu15vf5GZ_",
        "outputId": "ee7eb8d9-9f37-4d5c-82ff-5452f1c54649"
      },
      "outputs": [
        {
          "name": "stdout",
          "output_type": "stream",
          "text": [
            "namespace(base=namespace(exp_name='exp_01', task_name='asset', model_name='GRU', use_gpu=False, index_name='^BSESN', seed=813, base_dir='/content/', output_dir='./'), data=namespace(lookback_window=10, lookahead_window=1, y_form='ratio', feature_list=['Open', 'High', 'Low', 'Close', 'HLmean', 'OCmean', 'Volume']), train=namespace(start_date=datetime.date(2017, 1, 1), end_date=datetime.date(2020, 12, 31), use_derive_vairable=True), valid=namespace(start_date=datetime.date(2021, 1, 1), end_date=datetime.date(2021, 12, 31), use_derive_vairable=True), test=namespace(start_date=datetime.date(2022, 1, 1), end_date=datetime.date(2022, 12, 31)))\n"
          ]
        }
      ],
      "source": [
        "import yaml\n",
        "# pyyaml docs : https://pyyaml.org/wiki/PyYAMLDocumentation\n",
        "from types import SimpleNamespace\n",
        "# Ref : https://github.com/ybabakhin/kaggle-feedback-effectiveness-1st-place-solution/blob/main/train.py\n",
        "# Ref : https://github.com/ybabakhin/kaggle-feedback-effectiveness-1st-place-solution/blob/main/yaml/awesome-rose-ff.yaml\n",
        "\n",
        "# 예시로 살펴볼 수 있는 하나의 yaml 파일 : https://github.com/PaddlePaddle/PaddleOCR/blob/release/2.6/configs/cls/cls_mv3.yml\n",
        "\n",
        "cfg = yaml.safe_load(open(\"/content/config.yml\").read())\n",
        "for k, v in cfg.items():\n",
        "    if type(v) == dict:\n",
        "        cfg[k] = SimpleNamespace(**v)\n",
        "cfg = SimpleNamespace(**cfg)\n",
        "# logger(cfg)\n",
        "print(cfg)\n",
        "\n",
        "# config_file = \"config.yml\"\n",
        "# with open(config_file) as f:\n",
        "\n",
        "#     cfg = yaml.load(f, Loader=yaml.FullLoader)\n",
        "\n",
        "# print(cfg)"
      ]
    },
    {
      "cell_type": "markdown",
      "metadata": {
        "id": "0uHLWRuV5KCe"
      },
      "source": [
        "# Utilities"
      ]
    },
    {
      "cell_type": "code",
      "execution_count": 4,
      "metadata": {
        "id": "Gc9LTmiv5M8u"
      },
      "outputs": [],
      "source": [
        "import logging\n",
        "from os.path import join as opj\n",
        "\n",
        "\n",
        "def seed_everything(seed):\n",
        "    random.seed(seed)\n",
        "    os.environ['PYTHONHASHSEED'] = str(seed)\n",
        "    np.random.seed(seed)\n",
        "\n",
        "# cfg_base로 바꾸기\n",
        "def get_logger(cfg_base):\n",
        "\n",
        "    logger = logging.getLogger(__name__)\n",
        "    logger.setLevel(logging.INFO)\n",
        "    handler1 = logging.StreamHandler()\n",
        "    handler1.setFormatter(logging.Formatter(\"%(message)s\")) # 시간을 넣어줘야겠어..\n",
        "    handler2 = logging.FileHandler(filename=opj(cfg_base.output_dir, f\"{cfg_base.task_name}_{cfg_base.model_name}_{cfg_base.exp_name}.log\"))\n",
        "    handler2.setFormatter(logging.Formatter(\"%(message)s\"))\n",
        "    logger.addHandler(handler1)\n",
        "    logger.addHandler(handler2)\n",
        "    return logger\n",
        "\n",
        "logger = get_logger(cfg.base)\n",
        "\n",
        "\n",
        "\n",
        "### STANDARIZE\n",
        "def scaler(x_data,y_data, cfg_base, is_train=False):\n",
        "    \"\"\"\n",
        "    만약 필요하다면 feature 이름과 mn, std를 매칭 시켜서 저장해야 할 수도 있겠다. 순서가 항상 동일하다는 것을 보장할 수 없으니.\n",
        "    이전에 비해 cfg.data.feature_list 바뀌면 바꿔야 한다.\n",
        "\n",
        "    현재는 y_data scaling하지 않는다.\n",
        "    \"\"\"\n",
        "    if is_train:\n",
        "        mn = np.mean(x_data, axis=(0,1))\n",
        "        sd = np.std(x_data, axis=(0,1))\n",
        "\n",
        "        with open(opj(cfg.base.output_dir, f\"{cfg_base.task_name}_{cfg_base.model_name}_{cfg_base.exp_name}_mn.npy\"), \"wb\") as f:\n",
        "            np.save(f, mn)\n",
        "        with open(opj(cfg.base.output_dir, f\"{cfg_base.task_name}_{cfg_base.model_name}_{cfg_base.exp_name}_sd.npy\"), \"wb\") as f:\n",
        "            np.save(f, sd)\n",
        "    else:\n",
        "        logger.info(\"is_train is False!!!!\")\n",
        "        with open(opj(cfg.base.output_dir, f\"{cfg_base.task_name}_{cfg_base.model_name}_{cfg_base.exp_name}_mn.npy\"), \"rb\") as f:\n",
        "            mn = np.load(f)\n",
        "        with open(opj(cfg.base.output_dir, f\"{cfg_base.task_name}_{cfg_base.model_name}_{cfg_base.exp_name}_sd.npy\"), \"rb\") as f:\n",
        "            sd = np.load(f)\n",
        "\n",
        "    x_data = (x_data - mn)/sd\n",
        "    # y_data = (y_data - mn)/sd\n",
        "\n",
        "    if is_train:\n",
        "        logger.info(f\"Average ratio =,{mn},and Average std =, {sd}\")\n",
        "\n",
        "    return x_data, y_data\n",
        "\n",
        "# import calendar\n",
        "# import numpy as np\n",
        "# calendar.setfirstweekday(6)\n",
        "# Ref : https://stackoverflow.com/questions/3806473/week-number-of-the-month\n",
        "def get_week_of_month(year, month, day):\n",
        "    x = np.array(calendar.monthcalendar(year, month))\n",
        "    week_of_month = np.where(x==day)[0][0]\n",
        "    return(week_of_month)\n"
      ]
    },
    {
      "cell_type": "markdown",
      "metadata": {
        "id": "HeVbv4Aw5R42"
      },
      "source": [
        "# Data Generation"
      ]
    },
    {
      "cell_type": "code",
      "execution_count": 5,
      "metadata": {
        "id": "eUlJu__EzfHb"
      },
      "outputs": [],
      "source": [
        "# %%capture\n",
        "# !pip install ta\n",
        "# import ta\n",
        "\n",
        "\n",
        "# from talib import RSI, BBANDS, MACD\n",
        "\n",
        "# macd, macdsignal, macdhist = MACD(df_1.Close, fastperiod=12, slowperiod=26, signalperiod=9)\n",
        "# up, mid, low = BBANDS(df_1.Close, timeperiod=21, nbdevup=2, nbdevdn=2, matype=0)\n",
        "# rsi = RSI(df_1.Close, timeperiod=14)\n",
        "\n",
        "\n",
        "# H, L, C, V = train['high'], train['low'], train['close'], train['volume']\n",
        "# merge_outer['ATR'] = ta.volatility.average_true_range(high=H, low=L, close=C, fillna=True)\n",
        "\n",
        "\n",
        "# merge_outer['Parabolic SAR'] = ta.trend.psar_down(high=H, low=L, close=C, fillna=True)\n",
        "\n",
        "\n",
        "# merge_outer['MACD'] = ta.trend.macd(close=C, fillna=True)\n",
        "\n",
        "\n",
        "# merge_outer['SMA'] = ta.trend.sma_indicator(close=C, fillna=True)\n",
        "\n",
        "\n",
        "# merge_outer['EMA'] = ta.trend.ema_indicator(close=C, fillna=True)\n",
        "\n",
        "\n",
        "# merge_outer['RSI'] = ta.momentum.rsi(close=C, fillna=True)\n",
        "# train['RSI'] = ta.momentum.rsi(close=C, fillna=True)\n",
        "\n",
        "# train['Parabolic SAR'] = ta.trend.psar_down(\n",
        "#     high=H, low=L, close=C, fillna=True)\n",
        "# test['Parabolic SAR'] = ta.trend.psar_down(\n",
        "#     high=H_test, low=L_test, close=C_test, fillna=True)\n",
        "\n",
        "\n",
        "# train['day'] = train.index.day\n",
        "# train['month'] = train.index.month\n",
        "# # train['year'] = train.index.year\n",
        "# train['dayofweek'] = train.index.dayofweek\n",
        "\n",
        "\n",
        "# C = train['Close']\n",
        "# a = ta.trend.sma_indicator(close=C, fillna=True)\n",
        "\n",
        "\n",
        "# # 지우누나\n",
        "# import ta\n",
        "# close = raw_train['close']\n",
        "# rsi = ta.momentum.rsi(close)\n",
        "# macd = ta.trend.macd(close)\n",
        "# macdsignal = ta.trend.macd_signal(close)\n",
        "# bol_h = ta.volatility.bollinger_hband(close)\n",
        "# bol_avg = ta.volatility.bollinger_mavg(close)\n",
        "# bol_l = ta.volatility.bollinger_lband(close)"
      ]
    },
    {
      "cell_type": "markdown",
      "metadata": {
        "id": "tTQpBBJkADfw"
      },
      "source": [
        "CPI : https://www.investing.com/economic-calendar/brazilian-cpi-1165\n",
        "\n",
        "fred : https://fred.stlouisfed.org/searchresults?st=cpi+brazil\n"
      ]
    },
    {
      "cell_type": "code",
      "execution_count": 6,
      "metadata": {
        "id": "xm0GMwZH5U97"
      },
      "outputs": [],
      "source": [
        "def make_features(df_):\n",
        "    \"\"\"\n",
        "        특징을 추가해주는 함수. -> 거시경제 등 API로 받아올 수 있다면 이 곳에 추가!\n",
        "    \"\"\"\n",
        "    df = df_.copy()\n",
        "    df['OCmean'] = (df['Open']+df['Close']).div(2)\n",
        "    df['HLmean'] = (df['High']+df['Low']).div(2)\n",
        "\n",
        "\n",
        "    H, L, C, V = df['High'], df['Low'], df['Close'], df['Volume']\n",
        "    df['ATR'] = ta.volatility.average_true_range(high=H, low=L, close=C, fillna=True)\n",
        "    df['Parabolic SAR'] = ta.trend.psar_down(high=H, low=L, close=C, fillna=True)\n",
        "    df['MACD'] = ta.trend.macd(close=C, fillna=True)\n",
        "    df['SMA'] = ta.trend.sma_indicator(close=C, fillna=True)\n",
        "    df['EMA'] = ta.trend.ema_indicator(close=C, fillna=True)\n",
        "    df['RSI'] = ta.momentum.rsi(close=C, fillna=True)\n",
        "\n",
        "\n",
        "    df['day'] = df.Date.dt.day\n",
        "    df['month'] = df.Date.dt.month\n",
        "    df['week'] = df.Date.dt.week\n",
        "    df['year'] = df.Date.dt.year\n",
        "    df['dayofweek'] = df.Date.dt.dayofweek\n",
        "    # 고려사항 : 예를 들어, 우리나라 증권시장의 선물·옵션 동시 만기일은 매년 3, 6, 9, 12월 두 번째 목요일이에요.\n",
        "    df['weekofmonth'] = df.apply(lambda row: get_week_of_month(row['year'], row['month'], row['day']), axis=1)\n",
        "    \n",
        "    return df\n",
        "\n",
        "def make_data(df, cfg_data, return_to_df=False):\n",
        "    \"\"\"\n",
        "        cfg data feature_list에 있는 feature을 활용해 시계열 데이터를 만드는 함수\n",
        "    \"\"\"\n",
        "    df = make_features(df)\n",
        "    df = df[cfg_data.feature_list].copy()\n",
        "    # change into uncommented code (delete \"+1\" in -1 axis of df.iloc). caused by  IndexError: index 1230 is out of bounds for axis 0 with size 1230\n",
        "    # total_sample_num = df.iloc[cfg_data.lookback_window-1:-cfg_data.lookahead_window+1].shape[0]\n",
        "    total_sample_num = df.iloc[cfg_data.lookback_window-1:-cfg_data.lookahead_window].shape[0]\n",
        "\n",
        "\n",
        "    # 수익 계산 위해 사용\n",
        "    fea_num = df.columns.get_loc(\"Close\")\n",
        "\n",
        "    # 특징 하나일 떄는 아래와 같이 사용\n",
        "    # x_data = np.zeros((total_sample_num, cfg_data.lookback_window, 1))\n",
        "    x_data = np.zeros((total_sample_num, cfg_data.lookback_window, df.shape[1]))\n",
        "    y_data = np.zeros((total_sample_num, 1))\n",
        "\n",
        "    end_date = cfg_data.lookback_window-1\n",
        "\n",
        "    for idx in tqdm(range(total_sample_num)):\n",
        "\n",
        "        # 특징 하나일 떄는 아래와 같이 사용\n",
        "        # x_data[idx,] = df.iloc[idx:idx+cfg_data.lookback_window, fea_num].values\n",
        "        x_data[idx,] = df.iloc[idx:idx+cfg_data.lookback_window, :].values\n",
        "\n",
        "        # 반복 효율을 위해 a로 변환 가능 [a는 for문 밖으로]\n",
        "        # a = end_date+cfg_data.lookahead_window\n",
        "        # y_data[idx,] = df.iloc[idx+a, fea_num]/df.iloc[idx+end_date, fea_num]\n",
        "        # y_data[idx,] = df.iloc[idx+end_date+cfg_data.lookahead_window, fea_num]/df.iloc[idx+end_date, fea_num]-1\n",
        "        y_data[idx,] = df.iloc[idx+end_date+cfg_data.lookahead_window, fea_num]/df.iloc[idx+end_date, fea_num]-1\n",
        "    # pd.DataFrame(y_data).describe()\n",
        "\n",
        "    if return_to_df:\n",
        "        pass\n",
        "        # FEATURES = [f'f{x}' for x in range(WIDTH-COPIES-4-1)]\n",
        "        # TARGETS = [f'y{x}' for x in range(5)]\n",
        "        # train_data = pd.DataFrame(x_data3,columns=FEATURES)\n",
        "        # train_data[TARGETS] = y_data3\n",
        "        # train_data['cfips'] = np.repeat(KEEP,COPIES)\n",
        "        # print('Our GRU training data has shape:', train_data.shape )\n",
        "        # train_data.head()\n",
        "    else:\n",
        "        return x_data, y_data\n",
        "\n"
      ]
    },
    {
      "cell_type": "markdown",
      "metadata": {
        "id": "UJndecML5Xw5"
      },
      "source": [
        "# Model"
      ]
    },
    {
      "cell_type": "code",
      "execution_count": 7,
      "metadata": {
        "id": "BcmXHzW15hgC"
      },
      "outputs": [],
      "source": [
        "# https://www.tensorflow.org/api_docs/python/tf/keras/layers/GRU  (docs)\n",
        "# Ref : https://www.kaggle.com/code/cdeotte/gru-model-3rd-place-gold?scriptVersionId=133950942&cellId=35\n",
        "def build_rnn_model(cfg):\n",
        "\n",
        "    inp = tf.keras.Input(shape=(cfg.data.lookback_window,len(cfg.data.feature_list))) # INPUT SHAPE IS\n",
        "\n",
        "    assert cfg.base.model_name in ['GRU', 'LSTM'], \"check model_name\"\n",
        "\n",
        "    RNN = getattr(layers, cfg.base.model_name)\n",
        "    x = RNN(units=64, return_sequences=False)(inp)\n",
        "    # x = RNN(units=64, return_sequences=True)(inp)\n",
        "    # x = RNN(units=32, return_sequences=True)(x)\n",
        "    # x = RNN(units=8, return_sequences=False)(x)\n",
        "    x = layers.Dense(1,activation='linear')(x) # OUTPUT SHAPE IS 5\n",
        "    model = tf.keras.Model(inputs=inp, outputs=x)\n",
        "\n",
        "    opt = tf.keras.optimizers.Adam(learning_rate=1e-3)\n",
        "    loss = tf.keras.losses.MeanSquaredError()\n",
        "    model.compile(loss=loss, optimizer = opt)\n",
        "\n",
        "    return model"
      ]
    },
    {
      "cell_type": "markdown",
      "metadata": {
        "id": "PH2Ne77X5fPV"
      },
      "source": [
        "# Metric"
      ]
    },
    {
      "cell_type": "code",
      "execution_count": 8,
      "metadata": {
        "id": "vhYCCXse5g4S"
      },
      "outputs": [],
      "source": [
        "# np.sqrt(sum((y_true - y_pred)**2)  / len(y_pred))\n",
        "def rmse(y_true, y_pred):\n",
        "    # sklearn.metrics 패키지에는 별도의 RMSE 평가지표는 없습니다\n",
        "    return np.sqrt(mean_squared_error(y_true, y_pred))\n",
        "\n",
        "\n",
        "# Ref : https://www.kaggle.com/code/cdeotte/gru-model-3rd-place-gold?scriptVersionId=133950942&cellId=40\n",
        "def smape(y_true, y_pred):\n",
        "\n",
        "    # CONVERT TO NUMPY\n",
        "    y_true = np.array(y_true.flatten())\n",
        "    y_pred = np.array(y_pred.flatten())\n",
        "\n",
        "    # WHEN BOTH EQUAL ZERO, METRIC IS ZERO\n",
        "    both = np.abs(y_true) + np.abs(y_pred)\n",
        "    idx = np.where(both==0)[0]\n",
        "    y_true[idx]=1; y_pred[idx]=1\n",
        "\n",
        "    return 100/len(y_true) * np.sum(2 * np.abs(y_pred - y_true) / (np.abs(y_true) + np.abs(y_pred)))"
      ]
    },
    {
      "cell_type": "markdown",
      "metadata": {
        "id": "0zLY--3d5pK0"
      },
      "source": [
        "# Run\n",
        "\n",
        "학습까지만 진행하는 Run 부분"
      ]
    },
    {
      "cell_type": "code",
      "execution_count": 9,
      "metadata": {
        "colab": {
          "base_uri": "https://localhost:8080/",
          "height": 985,
          "referenced_widgets": [
            "604e6c327476490a9178a8c3bb066436",
            "cba57151300d4a5e87828db7118def55",
            "564726eaace247408b370343bcdabccc",
            "6536165113454b8b9aa1febd01af40fe",
            "8a3189d12f0e4a55b2f60e660f8656d2",
            "3a779d5d4a2a405e921a9d4f4c6dab6c",
            "9eacebe1f56e4995a0ab57dd268bc378",
            "3d955002595e4d4f90223c04f944a404",
            "d272753445a245688e1c16978550bb40",
            "e547045203a64748ac35f5692feed1f8",
            "e693832df1d54a6da7dcc718a3d86c4d"
          ]
        },
        "id": "KVNht8Cb5ps2",
        "outputId": "79b73023-ad2a-4e74-f7a0-16040d10b991"
      },
      "outputs": [
        {
          "name": "stdout",
          "output_type": "stream",
          "text": [
            "[*********************100%%**********************]  1 of 1 completed\n",
            "[*********************100%%**********************]  1 of 1 completed"
          ]
        },
        {
          "name": "stderr",
          "output_type": "stream",
          "text": [
            "train data start date : 2017-01-02 00:00:00 end date : 2020-12-30 00:00:00\n",
            "INFO:__main__:train data start date : 2017-01-02 00:00:00 end date : 2020-12-30 00:00:00\n"
          ]
        },
        {
          "name": "stdout",
          "output_type": "stream",
          "text": [
            "\n"
          ]
        },
        {
          "data": {
            "application/vnd.jupyter.widget-view+json": {
              "model_id": "604e6c327476490a9178a8c3bb066436",
              "version_major": 2,
              "version_minor": 0
            },
            "text/plain": [
              "  0%|          | 0/973 [00:00<?, ?it/s]"
            ]
          },
          "metadata": {},
          "output_type": "display_data"
        },
        {
          "name": "stderr",
          "output_type": "stream",
          "text": [
            "!!Train data infoi!! \n",
            "  x_data.shape : (973, 10, 7) \t y_data.shape : (973, 1)\n",
            "INFO:__main__:!!Train data infoi!! \n",
            "  x_data.shape : (973, 10, 7) \t y_data.shape : (973, 1)\n",
            "Average ratio =,[ 35652.81820802  35821.5013969   35400.179605    35604.80359712\n",
            "  35610.84050095  35628.81090257 342474.00822199],and Average std =, [   3953.83965302    3948.22616761    3934.97285453    3946.16570396\n",
            "    3937.9155479     3946.37474191 2381109.3630446 ]\n",
            "INFO:__main__:Average ratio =,[ 35652.81820802  35821.5013969   35400.179605    35604.80359712\n",
            "  35610.84050095  35628.81090257 342474.00822199],and Average std =, [   3953.83965302    3948.22616761    3934.97285453    3946.16570396\n",
            "    3937.9155479     3946.37474191 2381109.3630446 ]\n"
          ]
        },
        {
          "name": "stdout",
          "output_type": "stream",
          "text": [
            "Model: \"model\"\n",
            "_________________________________________________________________\n",
            " Layer (type)                Output Shape              Param #   \n",
            "=================================================================\n",
            " input_1 (InputLayer)        [(None, 10, 7)]           0         \n",
            "                                                                 \n",
            " gru (GRU)                   (None, 64)                14016     \n",
            "                                                                 \n",
            " dense (Dense)               (None, 1)                 65        \n",
            "                                                                 \n",
            "=================================================================\n",
            "Total params: 14,081\n",
            "Trainable params: 14,081\n",
            "Non-trainable params: 0\n",
            "_________________________________________________________________\n"
          ]
        },
        {
          "name": "stderr",
          "output_type": "stream",
          "text": [
            "None\n",
            "INFO:__main__:None\n"
          ]
        },
        {
          "name": "stdout",
          "output_type": "stream",
          "text": [
            "Epoch 1/10\n",
            "195/195 - 7s - loss: 0.0017 - val_loss: 4.9817e-04 - 7s/epoch - 37ms/step\n",
            "Epoch 2/10\n",
            "195/195 - 1s - loss: 8.8230e-04 - val_loss: 0.0013 - 1s/epoch - 6ms/step\n",
            "Epoch 3/10\n",
            "195/195 - 1s - loss: 6.3492e-04 - val_loss: 4.2621e-04 - 1s/epoch - 6ms/step\n",
            "Epoch 4/10\n",
            "195/195 - 2s - loss: 0.0012 - val_loss: 8.8367e-04 - 2s/epoch - 8ms/step\n",
            "Epoch 5/10\n",
            "195/195 - 1s - loss: 4.9588e-04 - val_loss: 6.4433e-04 - 1s/epoch - 7ms/step\n",
            "Epoch 6/10\n",
            "195/195 - 2s - loss: 5.2354e-04 - val_loss: 3.1008e-04 - 2s/epoch - 8ms/step\n",
            "Epoch 7/10\n",
            "195/195 - 2s - loss: 3.9224e-04 - val_loss: 2.4012e-04 - 2s/epoch - 8ms/step\n",
            "Epoch 8/10\n",
            "195/195 - 1s - loss: 7.5182e-04 - val_loss: 3.1442e-04 - 1s/epoch - 7ms/step\n",
            "Epoch 9/10\n",
            "195/195 - 2s - loss: 3.7965e-04 - val_loss: 1.5989e-04 - 2s/epoch - 8ms/step\n",
            "Epoch 10/10\n",
            "195/195 - 1s - loss: 2.6839e-04 - val_loss: 1.7107e-04 - 1s/epoch - 7ms/step\n"
          ]
        }
      ],
      "source": [
        "################################# LSTM #################################\n",
        "# cfg.base.model_name = \"LSTM\"\n",
        "\n",
        "################################# GRU (similar with LSTM) #################################\n",
        "\n",
        "### 데이터 받아오기\n",
        "train = pdr.get_data_yahoo(cfg.base.index_name, cfg.train.start_date, cfg.train.end_date).reset_index()\n",
        "valid = pdr.get_data_yahoo(cfg.base.index_name, cfg.valid.start_date, cfg.valid.end_date).reset_index()\n",
        "# test = pdr.get_data_yahoo(cfg.base.index_name, cfg.test.start_date, cfg.test.end_date).reset_index()\n",
        "\n",
        "logger.info(f\"train data start date : {train.Date.min()} end date : {train.Date.max()}\")\n",
        "\n",
        "### EDA\n",
        "\n",
        "# train.query(\"Volume<10\") Volume이 0인 경우 확인 필요\n",
        "# label은 Scaling 안하는 것인가? Close\n",
        "\n",
        "\n",
        "# FIRST DAY, LAST DAY\n",
        "# train.first_day_of_month.min(), train.first_day_of_month.max()\n",
        "\n",
        "### 학습 데이터 생성\n",
        "x_data, y_data = make_data(train, cfg.data)\n",
        "logger.info(f\"!!Train data infoi!! \\n  x_data.shape : {x_data.shape} \\t y_data.shape : {y_data.shape}\")\n",
        "\n",
        "\n",
        "### STANDARIZE\n",
        "x_data,y_data = scaler(x_data,y_data, cfg.base, is_train=True)\n",
        "\n",
        "X_train, X_valid, y_train, y_valid = train_test_split(x_data, y_data, shuffle=True,random_state=cfg.base.seed, test_size=0.2)\n",
        "\n",
        "### 모델\n",
        "model = build_rnn_model(cfg)\n",
        "logger.info(model.summary())\n",
        "\n",
        "### 학습\n",
        "h = model.fit(X_train,y_train,\n",
        "                validation_data = (X_valid,y_valid),\n",
        "                # sample_weight = np.tile(w,GRP),\n",
        "                batch_size=4, epochs=10, verbose=2)\n",
        "\n",
        "### 모델 저장\n",
        "model.save_weights(f\"{cfg.base.task_name}_{cfg.base.model_name}_{cfg.base.exp_name}.h5\")\n",
        "# model.load_weights(INFER_FROM_PATH + f'GRU_f{fold}_v{VER}.h5')\n"
      ]
    },
    {
      "cell_type": "code",
      "execution_count": 10,
      "metadata": {
        "id": "FldV13m97BeA"
      },
      "outputs": [],
      "source": [
        "# # scikit learn과 호환가능하도록 누군가가 커스터마이징해서 올려놓은 모델 = wrapper model, wrapper module\n",
        "# from xgboost import XGBRegressor\n",
        "# from xgboost import plot_importance\n",
        "\n",
        "# xgbr = XGBRegressor()\n",
        "# xgbr.fit(X_train, y_train, eval_set=[(X_test, y_test)], eval_metric='rmse', early_stopping_rounds= 110, verbose=False)\n",
        "# ypred = xgbr.predict(X_test)\n",
        "# score = xgbr.score(X_train, y_train)\n",
        "# mse = mean_squared_error(y_test, ypred)\n",
        "\n",
        "# print(\"Training score: \", score)\n",
        "# print(\"MSE: %.2f\" % mse)\n",
        "# print(\"RMSE: %.2f\" % (mse**(1/2.0)))\n",
        "\n",
        "# import xgboost\n",
        "# from xgboost import plot_importance, plot_tree\n",
        "# from xgboost import XGBClassifier\n",
        "# xgb = xgboost.XGBRegressor()\n",
        "# xgb.fit(X_train, y_train)\n",
        "\n",
        "# plot_importance(xgb, height=0.9)\n",
        "\n",
        "# predictions = xgb.predict(X_val)"
      ]
    },
    {
      "cell_type": "markdown",
      "metadata": {
        "id": "bJOQ06j56QVn"
      },
      "source": [
        "# Validation"
      ]
    },
    {
      "cell_type": "code",
      "execution_count": 11,
      "metadata": {
        "colab": {
          "base_uri": "https://localhost:8080/",
          "height": 178,
          "referenced_widgets": [
            "b92015c7f6844cecbbd1e102a4df9a03",
            "229fc5d7817d420ba5f1e926e7343c23",
            "c3f5123cafa24a83a19cd0c468328609",
            "19fc95da60a045ddb7f3a575b3348827",
            "909976680cde47e8847c7ed9c705d76c",
            "2fbcd90b1d7f4c0f8308cba812ddaa47",
            "99f3409ff692424889e3a0f3394cc49c",
            "6a6a48582e34459fa19bfcd2a561a12d",
            "f6910e7e56874b6181010288febc1fee",
            "16164cf04d0844d28c170663e5cfd623",
            "572abd5e4f3049649ef18ead15a18126"
          ]
        },
        "id": "eOXDvj186V-1",
        "outputId": "94502063-7abd-49ff-a67e-d4e2e1417990"
      },
      "outputs": [
        {
          "data": {
            "application/vnd.jupyter.widget-view+json": {
              "model_id": "b92015c7f6844cecbbd1e102a4df9a03",
              "version_major": 2,
              "version_minor": 0
            },
            "text/plain": [
              "  0%|          | 0/236 [00:00<?, ?it/s]"
            ]
          },
          "metadata": {},
          "output_type": "display_data"
        },
        {
          "name": "stderr",
          "output_type": "stream",
          "text": [
            "!!Valid data infoi!! \n",
            "  x_data.shape : (236, 10, 7) \t y_data.shape : (236, 1)\n",
            "INFO:__main__:!!Valid data infoi!! \n",
            "  x_data.shape : (236, 10, 7) \t y_data.shape : (236, 1)\n",
            "is_train is False!!!!\n",
            "INFO:__main__:is_train is False!!!!\n"
          ]
        },
        {
          "name": "stdout",
          "output_type": "stream",
          "text": [
            "8/8 - 0s - 304ms/epoch - 38ms/step\n"
          ]
        }
      ],
      "source": [
        "\n",
        "#### 검증\n",
        "x_data, y_data = make_data(valid, cfg.data)\n",
        "logger.info(f\"!!Valid data infoi!! \\n  x_data.shape : {x_data.shape} \\t y_data.shape : {y_data.shape}\")\n",
        "# 학습 때 활용했던 mn, sd 그대로 사용\n",
        "### STANDARIZE\n",
        "x_data,y_data = scaler(x_data,y_data, cfg.base,is_train=False)\n",
        "\n",
        "preds = np.zeros(y_data.shape)\n",
        "\n",
        "model = build_rnn_model(cfg)\n",
        "model.load_weights(f\"{cfg.base.task_name}_{cfg.base.model_name}_{cfg.base.exp_name}.h5\")\n",
        "\n",
        "preds = model.predict(x_data, verbose=2) # / FOLDS"
      ]
    },
    {
      "cell_type": "code",
      "execution_count": 12,
      "metadata": {
        "colab": {
          "base_uri": "https://localhost:8080/"
        },
        "id": "_UheuK-H6Pjl",
        "outputId": "270d4cb5-9e43-41d2-d1a6-1f12d7e6f12f"
      },
      "outputs": [
        {
          "name": "stderr",
          "output_type": "stream",
          "text": [
            "cfg.base.model_name : GRU\n",
            "INFO:__main__:cfg.base.model_name : GRU\n",
            "Metric Result : MAE : 0.014634684250342596 \t RMSE : 0.018114564357162934 \t SMAPE : 150.32220644079504\n",
            "INFO:__main__:Metric Result : MAE : 0.014634684250342596 \t RMSE : 0.018114564357162934 \t SMAPE : 150.32220644079504\n"
          ]
        }
      ],
      "source": [
        "logger.info(f\"cfg.base.model_name : {cfg.base.model_name}\")\n",
        "logger.info(f\"Metric Result : MAE : {mean_absolute_error(y_data, preds)} \\t RMSE : {rmse(y_data, preds)} \\t SMAPE : {smape(y_data, preds)}\")"
      ]
    },
    {
      "cell_type": "markdown",
      "metadata": {
        "id": "XD6AaCAT6dr8"
      },
      "source": [
        "# Visualization"
      ]
    },
    {
      "cell_type": "code",
      "execution_count": 13,
      "metadata": {
        "colab": {
          "base_uri": "https://localhost:8080/",
          "height": 573
        },
        "id": "yBXQ2EWv6ewM",
        "outputId": "4333fb30-3ea3-4930-a508-4bd58fbef5ae"
      },
      "outputs": [
        {
          "data": {
            "image/png": "[encoded data removed]",
            "text/plain": [
              "<Figure size 2000x600 with 1 Axes>"
            ]
          },
          "metadata": {},
          "output_type": "display_data"
        }
      ],
      "source": [
        "valid_date = valid.iloc[cfg.data.lookback_window-1:-cfg.data.lookahead_window].Date\n",
        "visual_y_data = y_data.reshape(-1,)\n",
        "visual_preds = preds.reshape(-1,)\n",
        "\n",
        "plt.figure(figsize=(20,6))\n",
        "plt.plot(valid_date, visual_preds, '-ob', label='prediction')\n",
        "plt.plot(valid_date, visual_y_data, '-or', label='Truth')\n",
        "plt.title(f'Comparison between model prediction and Ground Truth Using {cfg.base.model_name} (Rate of Return)',size=20)\n",
        "plt.legend()\n",
        "plt.show()"
      ]
    },
    {
      "cell_type": "code",
      "execution_count": null,
      "metadata": {},
      "outputs": [],
      "source": [
        "# Loss History Check\n",
        "plt.figure(figsize=(20,6))\n",
        "plt.plot(h.history['loss'], 'b', label='Train Loss')\n",
        "plt.plot(h.history['val_loss'], 'r', label='Valid Loss')\n",
        "plt.title(f'Loss History per epoch',size=20)\n",
        "plt.legend()\n",
        "plt.show()"
      ]
    }
  ],
  "metadata": {
    "colab": {
      "provenance": [],
      "toc_visible": true
    },
    "kernelspec": {
      "display_name": "Python 3",
      "name": "python3"
    },
    "language_info": {
      "name": "python"
    },
    "widgets": {
      "application/vnd.jupyter.widget-state+json": {
        "16164cf04d0844d28c170663e5cfd623": {
          "model_module": "@jupyter-widgets/base",
          "model_module_version": "1.2.0",
          "model_name": "LayoutModel",
          "state": {
            "_model_module": "@jupyter-widgets/base",
            "_model_module_version": "1.2.0",
            "_model_name": "LayoutModel",
            "_view_count": null,
            "_view_module": "@jupyter-widgets/base",
            "_view_module_version": "1.2.0",
            "_view_name": "LayoutView",
            "align_content": null,
            "align_items": null,
            "align_self": null,
            "border": null,
            "bottom": null,
            "display": null,
            "flex": null,
            "flex_flow": null,
            "grid_area": null,
            "grid_auto_columns": null,
            "grid_auto_flow": null,
            "grid_auto_rows": null,
            "grid_column": null,
            "grid_gap": null,
            "grid_row": null,
            "grid_template_areas": null,
            "grid_template_columns": null,
            "grid_template_rows": null,
            "height": null,
            "justify_content": null,
            "justify_items": null,
            "left": null,
            "margin": null,
            "max_height": null,
            "max_width": null,
            "min_height": null,
            "min_width": null,
            "object_fit": null,
            "object_position": null,
            "order": null,
            "overflow": null,
            "overflow_x": null,
            "overflow_y": null,
            "padding": null,
            "right": null,
            "top": null,
            "visibility": null,
            "width": null
          }
        },
        "19fc95da60a045ddb7f3a575b3348827": {
          "model_module": "@jupyter-widgets/controls",
          "model_module_version": "1.5.0",
          "model_name": "HTMLModel",
          "state": {
            "_dom_classes": [],
            "_model_module": "@jupyter-widgets/controls",
            "_model_module_version": "1.5.0",
            "_model_name": "HTMLModel",
            "_view_count": null,
            "_view_module": "@jupyter-widgets/controls",
            "_view_module_version": "1.5.0",
            "_view_name": "HTMLView",
            "description": "",
            "description_tooltip": null,
            "layout": "IPY_MODEL_16164cf04d0844d28c170663e5cfd623",
            "placeholder": "​",
            "style": "IPY_MODEL_572abd5e4f3049649ef18ead15a18126",
            "value": " 236/236 [00:00&lt;00:00, 2608.07it/s]"
          }
        },
        "229fc5d7817d420ba5f1e926e7343c23": {
          "model_module": "@jupyter-widgets/controls",
          "model_module_version": "1.5.0",
          "model_name": "HTMLModel",
          "state": {
            "_dom_classes": [],
            "_model_module": "@jupyter-widgets/controls",
            "_model_module_version": "1.5.0",
            "_model_name": "HTMLModel",
            "_view_count": null,
            "_view_module": "@jupyter-widgets/controls",
            "_view_module_version": "1.5.0",
            "_view_name": "HTMLView",
            "description": "",
            "description_tooltip": null,
            "layout": "IPY_MODEL_2fbcd90b1d7f4c0f8308cba812ddaa47",
            "placeholder": "​",
            "style": "IPY_MODEL_99f3409ff692424889e3a0f3394cc49c",
            "value": "100%"
          }
        },
        "2fbcd90b1d7f4c0f8308cba812ddaa47": {
          "model_module": "@jupyter-widgets/base",
          "model_module_version": "1.2.0",
          "model_name": "LayoutModel",
          "state": {
            "_model_module": "@jupyter-widgets/base",
            "_model_module_version": "1.2.0",
            "_model_name": "LayoutModel",
            "_view_count": null,
            "_view_module": "@jupyter-widgets/base",
            "_view_module_version": "1.2.0",
            "_view_name": "LayoutView",
            "align_content": null,
            "align_items": null,
            "align_self": null,
            "border": null,
            "bottom": null,
            "display": null,
            "flex": null,
            "flex_flow": null,
            "grid_area": null,
            "grid_auto_columns": null,
            "grid_auto_flow": null,
            "grid_auto_rows": null,
            "grid_column": null,
            "grid_gap": null,
            "grid_row": null,
            "grid_template_areas": null,
            "grid_template_columns": null,
            "grid_template_rows": null,
            "height": null,
            "justify_content": null,
            "justify_items": null,
            "left": null,
            "margin": null,
            "max_height": null,
            "max_width": null,
            "min_height": null,
            "min_width": null,
            "object_fit": null,
            "object_position": null,
            "order": null,
            "overflow": null,
            "overflow_x": null,
            "overflow_y": null,
            "padding": null,
            "right": null,
            "top": null,
            "visibility": null,
            "width": null
          }
        },
        "3a779d5d4a2a405e921a9d4f4c6dab6c": {
          "model_module": "@jupyter-widgets/base",
          "model_module_version": "1.2.0",
          "model_name": "LayoutModel",
          "state": {
            "_model_module": "@jupyter-widgets/base",
            "_model_module_version": "1.2.0",
            "_model_name": "LayoutModel",
            "_view_count": null,
            "_view_module": "@jupyter-widgets/base",
            "_view_module_version": "1.2.0",
            "_view_name": "LayoutView",
            "align_content": null,
            "align_items": null,
            "align_self": null,
            "border": null,
            "bottom": null,
            "display": null,
            "flex": null,
            "flex_flow": null,
            "grid_area": null,
            "grid_auto_columns": null,
            "grid_auto_flow": null,
            "grid_auto_rows": null,
            "grid_column": null,
            "grid_gap": null,
            "grid_row": null,
            "grid_template_areas": null,
            "grid_template_columns": null,
            "grid_template_rows": null,
            "height": null,
            "justify_content": null,
            "justify_items": null,
            "left": null,
            "margin": null,
            "max_height": null,
            "max_width": null,
            "min_height": null,
            "min_width": null,
            "object_fit": null,
            "object_position": null,
            "order": null,
            "overflow": null,
            "overflow_x": null,
            "overflow_y": null,
            "padding": null,
            "right": null,
            "top": null,
            "visibility": null,
            "width": null
          }
        },
        "3d955002595e4d4f90223c04f944a404": {
          "model_module": "@jupyter-widgets/base",
          "model_module_version": "1.2.0",
          "model_name": "LayoutModel",
          "state": {
            "_model_module": "@jupyter-widgets/base",
            "_model_module_version": "1.2.0",
            "_model_name": "LayoutModel",
            "_view_count": null,
            "_view_module": "@jupyter-widgets/base",
            "_view_module_version": "1.2.0",
            "_view_name": "LayoutView",
            "align_content": null,
            "align_items": null,
            "align_self": null,
            "border": null,
            "bottom": null,
            "display": null,
            "flex": null,
            "flex_flow": null,
            "grid_area": null,
            "grid_auto_columns": null,
            "grid_auto_flow": null,
            "grid_auto_rows": null,
            "grid_column": null,
            "grid_gap": null,
            "grid_row": null,
            "grid_template_areas": null,
            "grid_template_columns": null,
            "grid_template_rows": null,
            "height": null,
            "justify_content": null,
            "justify_items": null,
            "left": null,
            "margin": null,
            "max_height": null,
            "max_width": null,
            "min_height": null,
            "min_width": null,
            "object_fit": null,
            "object_position": null,
            "order": null,
            "overflow": null,
            "overflow_x": null,
            "overflow_y": null,
            "padding": null,
            "right": null,
            "top": null,
            "visibility": null,
            "width": null
          }
        },
        "564726eaace247408b370343bcdabccc": {
          "model_module": "@jupyter-widgets/controls",
          "model_module_version": "1.5.0",
          "model_name": "FloatProgressModel",
          "state": {
            "_dom_classes": [],
            "_model_module": "@jupyter-widgets/controls",
            "_model_module_version": "1.5.0",
            "_model_name": "FloatProgressModel",
            "_view_count": null,
            "_view_module": "@jupyter-widgets/controls",
            "_view_module_version": "1.5.0",
            "_view_name": "ProgressView",
            "bar_style": "success",
            "description": "",
            "description_tooltip": null,
            "layout": "IPY_MODEL_3d955002595e4d4f90223c04f944a404",
            "max": 973,
            "min": 0,
            "orientation": "horizontal",
            "style": "IPY_MODEL_d272753445a245688e1c16978550bb40",
            "value": 973
          }
        },
        "572abd5e4f3049649ef18ead15a18126": {
          "model_module": "@jupyter-widgets/controls",
          "model_module_version": "1.5.0",
          "model_name": "DescriptionStyleModel",
          "state": {
            "_model_module": "@jupyter-widgets/controls",
            "_model_module_version": "1.5.0",
            "_model_name": "DescriptionStyleModel",
            "_view_count": null,
            "_view_module": "@jupyter-widgets/base",
            "_view_module_version": "1.2.0",
            "_view_name": "StyleView",
            "description_width": ""
          }
        },
        "604e6c327476490a9178a8c3bb066436": {
          "model_module": "@jupyter-widgets/controls",
          "model_module_version": "1.5.0",
          "model_name": "HBoxModel",
          "state": {
            "_dom_classes": [],
            "_model_module": "@jupyter-widgets/controls",
            "_model_module_version": "1.5.0",
            "_model_name": "HBoxModel",
            "_view_count": null,
            "_view_module": "@jupyter-widgets/controls",
            "_view_module_version": "1.5.0",
            "_view_name": "HBoxView",
            "box_style": "",
            "children": [
              "IPY_MODEL_cba57151300d4a5e87828db7118def55",
              "IPY_MODEL_564726eaace247408b370343bcdabccc",
              "IPY_MODEL_6536165113454b8b9aa1febd01af40fe"
            ],
            "layout": "IPY_MODEL_8a3189d12f0e4a55b2f60e660f8656d2"
          }
        },
        "6536165113454b8b9aa1febd01af40fe": {
          "model_module": "@jupyter-widgets/controls",
          "model_module_version": "1.5.0",
          "model_name": "HTMLModel",
          "state": {
            "_dom_classes": [],
            "_model_module": "@jupyter-widgets/controls",
            "_model_module_version": "1.5.0",
            "_model_name": "HTMLModel",
            "_view_count": null,
            "_view_module": "@jupyter-widgets/controls",
            "_view_module_version": "1.5.0",
            "_view_name": "HTMLView",
            "description": "",
            "description_tooltip": null,
            "layout": "IPY_MODEL_e547045203a64748ac35f5692feed1f8",
            "placeholder": "​",
            "style": "IPY_MODEL_e693832df1d54a6da7dcc718a3d86c4d",
            "value": " 973/973 [00:00&lt;00:00, 1816.24it/s]"
          }
        },
        "6a6a48582e34459fa19bfcd2a561a12d": {
          "model_module": "@jupyter-widgets/base",
          "model_module_version": "1.2.0",
          "model_name": "LayoutModel",
          "state": {
            "_model_module": "@jupyter-widgets/base",
            "_model_module_version": "1.2.0",
            "_model_name": "LayoutModel",
            "_view_count": null,
            "_view_module": "@jupyter-widgets/base",
            "_view_module_version": "1.2.0",
            "_view_name": "LayoutView",
            "align_content": null,
            "align_items": null,
            "align_self": null,
            "border": null,
            "bottom": null,
            "display": null,
            "flex": null,
            "flex_flow": null,
            "grid_area": null,
            "grid_auto_columns": null,
            "grid_auto_flow": null,
            "grid_auto_rows": null,
            "grid_column": null,
            "grid_gap": null,
            "grid_row": null,
            "grid_template_areas": null,
            "grid_template_columns": null,
            "grid_template_rows": null,
            "height": null,
            "justify_content": null,
            "justify_items": null,
            "left": null,
            "margin": null,
            "max_height": null,
            "max_width": null,
            "min_height": null,
            "min_width": null,
            "object_fit": null,
            "object_position": null,
            "order": null,
            "overflow": null,
            "overflow_x": null,
            "overflow_y": null,
            "padding": null,
            "right": null,
            "top": null,
            "visibility": null,
            "width": null
          }
        },
        "8a3189d12f0e4a55b2f60e660f8656d2": {
          "model_module": "@jupyter-widgets/base",
          "model_module_version": "1.2.0",
          "model_name": "LayoutModel",
          "state": {
            "_model_module": "@jupyter-widgets/base",
            "_model_module_version": "1.2.0",
            "_model_name": "LayoutModel",
            "_view_count": null,
            "_view_module": "@jupyter-widgets/base",
            "_view_module_version": "1.2.0",
            "_view_name": "LayoutView",
            "align_content": null,
            "align_items": null,
            "align_self": null,
            "border": null,
            "bottom": null,
            "display": null,
            "flex": null,
            "flex_flow": null,
            "grid_area": null,
            "grid_auto_columns": null,
            "grid_auto_flow": null,
            "grid_auto_rows": null,
            "grid_column": null,
            "grid_gap": null,
            "grid_row": null,
            "grid_template_areas": null,
            "grid_template_columns": null,
            "grid_template_rows": null,
            "height": null,
            "justify_content": null,
            "justify_items": null,
            "left": null,
            "margin": null,
            "max_height": null,
            "max_width": null,
            "min_height": null,
            "min_width": null,
            "object_fit": null,
            "object_position": null,
            "order": null,
            "overflow": null,
            "overflow_x": null,
            "overflow_y": null,
            "padding": null,
            "right": null,
            "top": null,
            "visibility": null,
            "width": null
          }
        },
        "909976680cde47e8847c7ed9c705d76c": {
          "model_module": "@jupyter-widgets/base",
          "model_module_version": "1.2.0",
          "model_name": "LayoutModel",
          "state": {
            "_model_module": "@jupyter-widgets/base",
            "_model_module_version": "1.2.0",
            "_model_name": "LayoutModel",
            "_view_count": null,
            "_view_module": "@jupyter-widgets/base",
            "_view_module_version": "1.2.0",
            "_view_name": "LayoutView",
            "align_content": null,
            "align_items": null,
            "align_self": null,
            "border": null,
            "bottom": null,
            "display": null,
            "flex": null,
            "flex_flow": null,
            "grid_area": null,
            "grid_auto_columns": null,
            "grid_auto_flow": null,
            "grid_auto_rows": null,
            "grid_column": null,
            "grid_gap": null,
            "grid_row": null,
            "grid_template_areas": null,
            "grid_template_columns": null,
            "grid_template_rows": null,
            "height": null,
            "justify_content": null,
            "justify_items": null,
            "left": null,
            "margin": null,
            "max_height": null,
            "max_width": null,
            "min_height": null,
            "min_width": null,
            "object_fit": null,
            "object_position": null,
            "order": null,
            "overflow": null,
            "overflow_x": null,
            "overflow_y": null,
            "padding": null,
            "right": null,
            "top": null,
            "visibility": null,
            "width": null
          }
        },
        "99f3409ff692424889e3a0f3394cc49c": {
          "model_module": "@jupyter-widgets/controls",
          "model_module_version": "1.5.0",
          "model_name": "DescriptionStyleModel",
          "state": {
            "_model_module": "@jupyter-widgets/controls",
            "_model_module_version": "1.5.0",
            "_model_name": "DescriptionStyleModel",
            "_view_count": null,
            "_view_module": "@jupyter-widgets/base",
            "_view_module_version": "1.2.0",
            "_view_name": "StyleView",
            "description_width": ""
          }
        },
        "9eacebe1f56e4995a0ab57dd268bc378": {
          "model_module": "@jupyter-widgets/controls",
          "model_module_version": "1.5.0",
          "model_name": "DescriptionStyleModel",
          "state": {
            "_model_module": "@jupyter-widgets/controls",
            "_model_module_version": "1.5.0",
            "_model_name": "DescriptionStyleModel",
            "_view_count": null,
            "_view_module": "@jupyter-widgets/base",
            "_view_module_version": "1.2.0",
            "_view_name": "StyleView",
            "description_width": ""
          }
        },
        "b92015c7f6844cecbbd1e102a4df9a03": {
          "model_module": "@jupyter-widgets/controls",
          "model_module_version": "1.5.0",
          "model_name": "HBoxModel",
          "state": {
            "_dom_classes": [],
            "_model_module": "@jupyter-widgets/controls",
            "_model_module_version": "1.5.0",
            "_model_name": "HBoxModel",
            "_view_count": null,
            "_view_module": "@jupyter-widgets/controls",
            "_view_module_version": "1.5.0",
            "_view_name": "HBoxView",
            "box_style": "",
            "children": [
              "IPY_MODEL_229fc5d7817d420ba5f1e926e7343c23",
              "IPY_MODEL_c3f5123cafa24a83a19cd0c468328609",
              "IPY_MODEL_19fc95da60a045ddb7f3a575b3348827"
            ],
            "layout": "IPY_MODEL_909976680cde47e8847c7ed9c705d76c"
          }
        },
        "c3f5123cafa24a83a19cd0c468328609": {
          "model_module": "@jupyter-widgets/controls",
          "model_module_version": "1.5.0",
          "model_name": "FloatProgressModel",
          "state": {
            "_dom_classes": [],
            "_model_module": "@jupyter-widgets/controls",
            "_model_module_version": "1.5.0",
            "_model_name": "FloatProgressModel",
            "_view_count": null,
            "_view_module": "@jupyter-widgets/controls",
            "_view_module_version": "1.5.0",
            "_view_name": "ProgressView",
            "bar_style": "success",
            "description": "",
            "description_tooltip": null,
            "layout": "IPY_MODEL_6a6a48582e34459fa19bfcd2a561a12d",
            "max": 236,
            "min": 0,
            "orientation": "horizontal",
            "style": "IPY_MODEL_f6910e7e56874b6181010288febc1fee",
            "value": 236
          }
        },
        "cba57151300d4a5e87828db7118def55": {
          "model_module": "@jupyter-widgets/controls",
          "model_module_version": "1.5.0",
          "model_name": "HTMLModel",
          "state": {
            "_dom_classes": [],
            "_model_module": "@jupyter-widgets/controls",
            "_model_module_version": "1.5.0",
            "_model_name": "HTMLModel",
            "_view_count": null,
            "_view_module": "@jupyter-widgets/controls",
            "_view_module_version": "1.5.0",
            "_view_name": "HTMLView",
            "description": "",
            "description_tooltip": null,
            "layout": "IPY_MODEL_3a779d5d4a2a405e921a9d4f4c6dab6c",
            "placeholder": "​",
            "style": "IPY_MODEL_9eacebe1f56e4995a0ab57dd268bc378",
            "value": "100%"
          }
        },
        "d272753445a245688e1c16978550bb40": {
          "model_module": "@jupyter-widgets/controls",
          "model_module_version": "1.5.0",
          "model_name": "ProgressStyleModel",
          "state": {
            "_model_module": "@jupyter-widgets/controls",
            "_model_module_version": "1.5.0",
            "_model_name": "ProgressStyleModel",
            "_view_count": null,
            "_view_module": "@jupyter-widgets/base",
            "_view_module_version": "1.2.0",
            "_view_name": "StyleView",
            "bar_color": null,
            "description_width": ""
          }
        },
        "e547045203a64748ac35f5692feed1f8": {
          "model_module": "@jupyter-widgets/base",
          "model_module_version": "1.2.0",
          "model_name": "LayoutModel",
          "state": {
            "_model_module": "@jupyter-widgets/base",
            "_model_module_version": "1.2.0",
            "_model_name": "LayoutModel",
            "_view_count": null,
            "_view_module": "@jupyter-widgets/base",
            "_view_module_version": "1.2.0",
            "_view_name": "LayoutView",
            "align_content": null,
            "align_items": null,
            "align_self": null,
            "border": null,
            "bottom": null,
            "display": null,
            "flex": null,
            "flex_flow": null,
            "grid_area": null,
            "grid_auto_columns": null,
            "grid_auto_flow": null,
            "grid_auto_rows": null,
            "grid_column": null,
            "grid_gap": null,
            "grid_row": null,
            "grid_template_areas": null,
            "grid_template_columns": null,
            "grid_template_rows": null,
            "height": null,
            "justify_content": null,
            "justify_items": null,
            "left": null,
            "margin": null,
            "max_height": null,
            "max_width": null,
            "min_height": null,
            "min_width": null,
            "object_fit": null,
            "object_position": null,
            "order": null,
            "overflow": null,
            "overflow_x": null,
            "overflow_y": null,
            "padding": null,
            "right": null,
            "top": null,
            "visibility": null,
            "width": null
          }
        },
        "e693832df1d54a6da7dcc718a3d86c4d": {
          "model_module": "@jupyter-widgets/controls",
          "model_module_version": "1.5.0",
          "model_name": "DescriptionStyleModel",
          "state": {
            "_model_module": "@jupyter-widgets/controls",
            "_model_module_version": "1.5.0",
            "_model_name": "DescriptionStyleModel",
            "_view_count": null,
            "_view_module": "@jupyter-widgets/base",
            "_view_module_version": "1.2.0",
            "_view_name": "StyleView",
            "description_width": ""
          }
        },
        "f6910e7e56874b6181010288febc1fee": {
          "model_module": "@jupyter-widgets/controls",
          "model_module_version": "1.5.0",
          "model_name": "ProgressStyleModel",
          "state": {
            "_model_module": "@jupyter-widgets/controls",
            "_model_module_version": "1.5.0",
            "_model_name": "ProgressStyleModel",
            "_view_count": null,
            "_view_module": "@jupyter-widgets/base",
            "_view_module_version": "1.2.0",
            "_view_name": "StyleView",
            "bar_color": null,
            "description_width": ""
          }
        }
      }
    }
  },
  "nbformat": 4,
  "nbformat_minor": 0
}
