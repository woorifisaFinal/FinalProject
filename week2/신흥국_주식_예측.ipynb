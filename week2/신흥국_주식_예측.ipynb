{
  "nbformat": 4,
  "nbformat_minor": 0,
  "metadata": {
    "colab": {
      "provenance": [],
      "toc_visible": true
    },
    "kernelspec": {
      "name": "python3",
      "display_name": "Python 3"
    },
    "language_info": {
      "name": "python"
    },
    "widgets": {
      "application/vnd.jupyter.widget-state+json": {
        "a3b940a010e34f3e87a77f4ee3685faa": {
          "model_module": "@jupyter-widgets/controls",
          "model_name": "HBoxModel",
          "model_module_version": "1.5.0",
          "state": {
            "_dom_classes": [],
            "_model_module": "@jupyter-widgets/controls",
            "_model_module_version": "1.5.0",
            "_model_name": "HBoxModel",
            "_view_count": null,
            "_view_module": "@jupyter-widgets/controls",
            "_view_module_version": "1.5.0",
            "_view_name": "HBoxView",
            "box_style": "",
            "children": [
              "IPY_MODEL_f935478cbc3c4a36bc6ee321ff6168a8",
              "IPY_MODEL_13a16f8eb40940cda8be67c1d3fe0fdf",
              "IPY_MODEL_9ecfdf9174c04aeaa5004fdd9b71eb97"
            ],
            "layout": "IPY_MODEL_ea2fdad558db479a91a244d8ab211a05"
          }
        },
        "f935478cbc3c4a36bc6ee321ff6168a8": {
          "model_module": "@jupyter-widgets/controls",
          "model_name": "HTMLModel",
          "model_module_version": "1.5.0",
          "state": {
            "_dom_classes": [],
            "_model_module": "@jupyter-widgets/controls",
            "_model_module_version": "1.5.0",
            "_model_name": "HTMLModel",
            "_view_count": null,
            "_view_module": "@jupyter-widgets/controls",
            "_view_module_version": "1.5.0",
            "_view_name": "HTMLView",
            "description": "",
            "description_tooltip": null,
            "layout": "IPY_MODEL_3d6415fc96c14ee08ea3c2fbb10ea589",
            "placeholder": "​",
            "style": "IPY_MODEL_d0f0d1b33e3e4eaf92cae55866c5847d",
            "value": "100%"
          }
        },
        "13a16f8eb40940cda8be67c1d3fe0fdf": {
          "model_module": "@jupyter-widgets/controls",
          "model_name": "FloatProgressModel",
          "model_module_version": "1.5.0",
          "state": {
            "_dom_classes": [],
            "_model_module": "@jupyter-widgets/controls",
            "_model_module_version": "1.5.0",
            "_model_name": "FloatProgressModel",
            "_view_count": null,
            "_view_module": "@jupyter-widgets/controls",
            "_view_module_version": "1.5.0",
            "_view_name": "ProgressView",
            "bar_style": "success",
            "description": "",
            "description_tooltip": null,
            "layout": "IPY_MODEL_4df8ee4b72a24bcf95b1a4ece4ec724b",
            "max": 912,
            "min": 0,
            "orientation": "horizontal",
            "style": "IPY_MODEL_ffab62b7df9c4742b7da68597e642879",
            "value": 912
          }
        },
        "9ecfdf9174c04aeaa5004fdd9b71eb97": {
          "model_module": "@jupyter-widgets/controls",
          "model_name": "HTMLModel",
          "model_module_version": "1.5.0",
          "state": {
            "_dom_classes": [],
            "_model_module": "@jupyter-widgets/controls",
            "_model_module_version": "1.5.0",
            "_model_name": "HTMLModel",
            "_view_count": null,
            "_view_module": "@jupyter-widgets/controls",
            "_view_module_version": "1.5.0",
            "_view_name": "HTMLView",
            "description": "",
            "description_tooltip": null,
            "layout": "IPY_MODEL_506a2daac32a4394a334a1e566c02c7e",
            "placeholder": "​",
            "style": "IPY_MODEL_c956d3cef03749c8a52f649774718b48",
            "value": " 912/912 [00:00&lt;00:00, 3047.64it/s]"
          }
        },
        "ea2fdad558db479a91a244d8ab211a05": {
          "model_module": "@jupyter-widgets/base",
          "model_name": "LayoutModel",
          "model_module_version": "1.2.0",
          "state": {
            "_model_module": "@jupyter-widgets/base",
            "_model_module_version": "1.2.0",
            "_model_name": "LayoutModel",
            "_view_count": null,
            "_view_module": "@jupyter-widgets/base",
            "_view_module_version": "1.2.0",
            "_view_name": "LayoutView",
            "align_content": null,
            "align_items": null,
            "align_self": null,
            "border": null,
            "bottom": null,
            "display": null,
            "flex": null,
            "flex_flow": null,
            "grid_area": null,
            "grid_auto_columns": null,
            "grid_auto_flow": null,
            "grid_auto_rows": null,
            "grid_column": null,
            "grid_gap": null,
            "grid_row": null,
            "grid_template_areas": null,
            "grid_template_columns": null,
            "grid_template_rows": null,
            "height": null,
            "justify_content": null,
            "justify_items": null,
            "left": null,
            "margin": null,
            "max_height": null,
            "max_width": null,
            "min_height": null,
            "min_width": null,
            "object_fit": null,
            "object_position": null,
            "order": null,
            "overflow": null,
            "overflow_x": null,
            "overflow_y": null,
            "padding": null,
            "right": null,
            "top": null,
            "visibility": null,
            "width": null
          }
        },
        "3d6415fc96c14ee08ea3c2fbb10ea589": {
          "model_module": "@jupyter-widgets/base",
          "model_name": "LayoutModel",
          "model_module_version": "1.2.0",
          "state": {
            "_model_module": "@jupyter-widgets/base",
            "_model_module_version": "1.2.0",
            "_model_name": "LayoutModel",
            "_view_count": null,
            "_view_module": "@jupyter-widgets/base",
            "_view_module_version": "1.2.0",
            "_view_name": "LayoutView",
            "align_content": null,
            "align_items": null,
            "align_self": null,
            "border": null,
            "bottom": null,
            "display": null,
            "flex": null,
            "flex_flow": null,
            "grid_area": null,
            "grid_auto_columns": null,
            "grid_auto_flow": null,
            "grid_auto_rows": null,
            "grid_column": null,
            "grid_gap": null,
            "grid_row": null,
            "grid_template_areas": null,
            "grid_template_columns": null,
            "grid_template_rows": null,
            "height": null,
            "justify_content": null,
            "justify_items": null,
            "left": null,
            "margin": null,
            "max_height": null,
            "max_width": null,
            "min_height": null,
            "min_width": null,
            "object_fit": null,
            "object_position": null,
            "order": null,
            "overflow": null,
            "overflow_x": null,
            "overflow_y": null,
            "padding": null,
            "right": null,
            "top": null,
            "visibility": null,
            "width": null
          }
        },
        "d0f0d1b33e3e4eaf92cae55866c5847d": {
          "model_module": "@jupyter-widgets/controls",
          "model_name": "DescriptionStyleModel",
          "model_module_version": "1.5.0",
          "state": {
            "_model_module": "@jupyter-widgets/controls",
            "_model_module_version": "1.5.0",
            "_model_name": "DescriptionStyleModel",
            "_view_count": null,
            "_view_module": "@jupyter-widgets/base",
            "_view_module_version": "1.2.0",
            "_view_name": "StyleView",
            "description_width": ""
          }
        },
        "4df8ee4b72a24bcf95b1a4ece4ec724b": {
          "model_module": "@jupyter-widgets/base",
          "model_name": "LayoutModel",
          "model_module_version": "1.2.0",
          "state": {
            "_model_module": "@jupyter-widgets/base",
            "_model_module_version": "1.2.0",
            "_model_name": "LayoutModel",
            "_view_count": null,
            "_view_module": "@jupyter-widgets/base",
            "_view_module_version": "1.2.0",
            "_view_name": "LayoutView",
            "align_content": null,
            "align_items": null,
            "align_self": null,
            "border": null,
            "bottom": null,
            "display": null,
            "flex": null,
            "flex_flow": null,
            "grid_area": null,
            "grid_auto_columns": null,
            "grid_auto_flow": null,
            "grid_auto_rows": null,
            "grid_column": null,
            "grid_gap": null,
            "grid_row": null,
            "grid_template_areas": null,
            "grid_template_columns": null,
            "grid_template_rows": null,
            "height": null,
            "justify_content": null,
            "justify_items": null,
            "left": null,
            "margin": null,
            "max_height": null,
            "max_width": null,
            "min_height": null,
            "min_width": null,
            "object_fit": null,
            "object_position": null,
            "order": null,
            "overflow": null,
            "overflow_x": null,
            "overflow_y": null,
            "padding": null,
            "right": null,
            "top": null,
            "visibility": null,
            "width": null
          }
        },
        "ffab62b7df9c4742b7da68597e642879": {
          "model_module": "@jupyter-widgets/controls",
          "model_name": "ProgressStyleModel",
          "model_module_version": "1.5.0",
          "state": {
            "_model_module": "@jupyter-widgets/controls",
            "_model_module_version": "1.5.0",
            "_model_name": "ProgressStyleModel",
            "_view_count": null,
            "_view_module": "@jupyter-widgets/base",
            "_view_module_version": "1.2.0",
            "_view_name": "StyleView",
            "bar_color": null,
            "description_width": ""
          }
        },
        "506a2daac32a4394a334a1e566c02c7e": {
          "model_module": "@jupyter-widgets/base",
          "model_name": "LayoutModel",
          "model_module_version": "1.2.0",
          "state": {
            "_model_module": "@jupyter-widgets/base",
            "_model_module_version": "1.2.0",
            "_model_name": "LayoutModel",
            "_view_count": null,
            "_view_module": "@jupyter-widgets/base",
            "_view_module_version": "1.2.0",
            "_view_name": "LayoutView",
            "align_content": null,
            "align_items": null,
            "align_self": null,
            "border": null,
            "bottom": null,
            "display": null,
            "flex": null,
            "flex_flow": null,
            "grid_area": null,
            "grid_auto_columns": null,
            "grid_auto_flow": null,
            "grid_auto_rows": null,
            "grid_column": null,
            "grid_gap": null,
            "grid_row": null,
            "grid_template_areas": null,
            "grid_template_columns": null,
            "grid_template_rows": null,
            "height": null,
            "justify_content": null,
            "justify_items": null,
            "left": null,
            "margin": null,
            "max_height": null,
            "max_width": null,
            "min_height": null,
            "min_width": null,
            "object_fit": null,
            "object_position": null,
            "order": null,
            "overflow": null,
            "overflow_x": null,
            "overflow_y": null,
            "padding": null,
            "right": null,
            "top": null,
            "visibility": null,
            "width": null
          }
        },
        "c956d3cef03749c8a52f649774718b48": {
          "model_module": "@jupyter-widgets/controls",
          "model_name": "DescriptionStyleModel",
          "model_module_version": "1.5.0",
          "state": {
            "_model_module": "@jupyter-widgets/controls",
            "_model_module_version": "1.5.0",
            "_model_name": "DescriptionStyleModel",
            "_view_count": null,
            "_view_module": "@jupyter-widgets/base",
            "_view_module_version": "1.2.0",
            "_view_name": "StyleView",
            "description_width": ""
          }
        },
        "51fa30f039e74390a28566244e704fe9": {
          "model_module": "@jupyter-widgets/controls",
          "model_name": "HBoxModel",
          "model_module_version": "1.5.0",
          "state": {
            "_dom_classes": [],
            "_model_module": "@jupyter-widgets/controls",
            "_model_module_version": "1.5.0",
            "_model_name": "HBoxModel",
            "_view_count": null,
            "_view_module": "@jupyter-widgets/controls",
            "_view_module_version": "1.5.0",
            "_view_name": "HBoxView",
            "box_style": "",
            "children": [
              "IPY_MODEL_5ea24dcfe6f34e3c9a751c0a33e97399",
              "IPY_MODEL_7e2f8916d64a4159a9ab81947871afc1",
              "IPY_MODEL_d2860df1f94547089514a4f1e7b8a48f"
            ],
            "layout": "IPY_MODEL_65d309b5a1964d4cac346d2605814f8d"
          }
        },
        "5ea24dcfe6f34e3c9a751c0a33e97399": {
          "model_module": "@jupyter-widgets/controls",
          "model_name": "HTMLModel",
          "model_module_version": "1.5.0",
          "state": {
            "_dom_classes": [],
            "_model_module": "@jupyter-widgets/controls",
            "_model_module_version": "1.5.0",
            "_model_name": "HTMLModel",
            "_view_count": null,
            "_view_module": "@jupyter-widgets/controls",
            "_view_module_version": "1.5.0",
            "_view_name": "HTMLView",
            "description": "",
            "description_tooltip": null,
            "layout": "IPY_MODEL_b038002509a14b399cd1f814134cd14a",
            "placeholder": "​",
            "style": "IPY_MODEL_80612422d1e94f1c8b2434f66d3afa7f",
            "value": "100%"
          }
        },
        "7e2f8916d64a4159a9ab81947871afc1": {
          "model_module": "@jupyter-widgets/controls",
          "model_name": "FloatProgressModel",
          "model_module_version": "1.5.0",
          "state": {
            "_dom_classes": [],
            "_model_module": "@jupyter-widgets/controls",
            "_model_module_version": "1.5.0",
            "_model_name": "FloatProgressModel",
            "_view_count": null,
            "_view_module": "@jupyter-widgets/controls",
            "_view_module_version": "1.5.0",
            "_view_name": "ProgressView",
            "bar_style": "success",
            "description": "",
            "description_tooltip": null,
            "layout": "IPY_MODEL_e20be09e05624a56a65fad0cdd187f3c",
            "max": 912,
            "min": 0,
            "orientation": "horizontal",
            "style": "IPY_MODEL_898f9d1c5e2f43f394faa5f24cb42bc8",
            "value": 912
          }
        },
        "d2860df1f94547089514a4f1e7b8a48f": {
          "model_module": "@jupyter-widgets/controls",
          "model_name": "HTMLModel",
          "model_module_version": "1.5.0",
          "state": {
            "_dom_classes": [],
            "_model_module": "@jupyter-widgets/controls",
            "_model_module_version": "1.5.0",
            "_model_name": "HTMLModel",
            "_view_count": null,
            "_view_module": "@jupyter-widgets/controls",
            "_view_module_version": "1.5.0",
            "_view_name": "HTMLView",
            "description": "",
            "description_tooltip": null,
            "layout": "IPY_MODEL_a12d3257e09f458e81f648ecd6aa40e8",
            "placeholder": "​",
            "style": "IPY_MODEL_f2acf3a1b140457cb62ec05065932eec",
            "value": " 912/912 [00:00&lt;00:00, 3455.40it/s]"
          }
        },
        "65d309b5a1964d4cac346d2605814f8d": {
          "model_module": "@jupyter-widgets/base",
          "model_name": "LayoutModel",
          "model_module_version": "1.2.0",
          "state": {
            "_model_module": "@jupyter-widgets/base",
            "_model_module_version": "1.2.0",
            "_model_name": "LayoutModel",
            "_view_count": null,
            "_view_module": "@jupyter-widgets/base",
            "_view_module_version": "1.2.0",
            "_view_name": "LayoutView",
            "align_content": null,
            "align_items": null,
            "align_self": null,
            "border": null,
            "bottom": null,
            "display": null,
            "flex": null,
            "flex_flow": null,
            "grid_area": null,
            "grid_auto_columns": null,
            "grid_auto_flow": null,
            "grid_auto_rows": null,
            "grid_column": null,
            "grid_gap": null,
            "grid_row": null,
            "grid_template_areas": null,
            "grid_template_columns": null,
            "grid_template_rows": null,
            "height": null,
            "justify_content": null,
            "justify_items": null,
            "left": null,
            "margin": null,
            "max_height": null,
            "max_width": null,
            "min_height": null,
            "min_width": null,
            "object_fit": null,
            "object_position": null,
            "order": null,
            "overflow": null,
            "overflow_x": null,
            "overflow_y": null,
            "padding": null,
            "right": null,
            "top": null,
            "visibility": null,
            "width": null
          }
        },
        "b038002509a14b399cd1f814134cd14a": {
          "model_module": "@jupyter-widgets/base",
          "model_name": "LayoutModel",
          "model_module_version": "1.2.0",
          "state": {
            "_model_module": "@jupyter-widgets/base",
            "_model_module_version": "1.2.0",
            "_model_name": "LayoutModel",
            "_view_count": null,
            "_view_module": "@jupyter-widgets/base",
            "_view_module_version": "1.2.0",
            "_view_name": "LayoutView",
            "align_content": null,
            "align_items": null,
            "align_self": null,
            "border": null,
            "bottom": null,
            "display": null,
            "flex": null,
            "flex_flow": null,
            "grid_area": null,
            "grid_auto_columns": null,
            "grid_auto_flow": null,
            "grid_auto_rows": null,
            "grid_column": null,
            "grid_gap": null,
            "grid_row": null,
            "grid_template_areas": null,
            "grid_template_columns": null,
            "grid_template_rows": null,
            "height": null,
            "justify_content": null,
            "justify_items": null,
            "left": null,
            "margin": null,
            "max_height": null,
            "max_width": null,
            "min_height": null,
            "min_width": null,
            "object_fit": null,
            "object_position": null,
            "order": null,
            "overflow": null,
            "overflow_x": null,
            "overflow_y": null,
            "padding": null,
            "right": null,
            "top": null,
            "visibility": null,
            "width": null
          }
        },
        "80612422d1e94f1c8b2434f66d3afa7f": {
          "model_module": "@jupyter-widgets/controls",
          "model_name": "DescriptionStyleModel",
          "model_module_version": "1.5.0",
          "state": {
            "_model_module": "@jupyter-widgets/controls",
            "_model_module_version": "1.5.0",
            "_model_name": "DescriptionStyleModel",
            "_view_count": null,
            "_view_module": "@jupyter-widgets/base",
            "_view_module_version": "1.2.0",
            "_view_name": "StyleView",
            "description_width": ""
          }
        },
        "e20be09e05624a56a65fad0cdd187f3c": {
          "model_module": "@jupyter-widgets/base",
          "model_name": "LayoutModel",
          "model_module_version": "1.2.0",
          "state": {
            "_model_module": "@jupyter-widgets/base",
            "_model_module_version": "1.2.0",
            "_model_name": "LayoutModel",
            "_view_count": null,
            "_view_module": "@jupyter-widgets/base",
            "_view_module_version": "1.2.0",
            "_view_name": "LayoutView",
            "align_content": null,
            "align_items": null,
            "align_self": null,
            "border": null,
            "bottom": null,
            "display": null,
            "flex": null,
            "flex_flow": null,
            "grid_area": null,
            "grid_auto_columns": null,
            "grid_auto_flow": null,
            "grid_auto_rows": null,
            "grid_column": null,
            "grid_gap": null,
            "grid_row": null,
            "grid_template_areas": null,
            "grid_template_columns": null,
            "grid_template_rows": null,
            "height": null,
            "justify_content": null,
            "justify_items": null,
            "left": null,
            "margin": null,
            "max_height": null,
            "max_width": null,
            "min_height": null,
            "min_width": null,
            "object_fit": null,
            "object_position": null,
            "order": null,
            "overflow": null,
            "overflow_x": null,
            "overflow_y": null,
            "padding": null,
            "right": null,
            "top": null,
            "visibility": null,
            "width": null
          }
        },
        "898f9d1c5e2f43f394faa5f24cb42bc8": {
          "model_module": "@jupyter-widgets/controls",
          "model_name": "ProgressStyleModel",
          "model_module_version": "1.5.0",
          "state": {
            "_model_module": "@jupyter-widgets/controls",
            "_model_module_version": "1.5.0",
            "_model_name": "ProgressStyleModel",
            "_view_count": null,
            "_view_module": "@jupyter-widgets/base",
            "_view_module_version": "1.2.0",
            "_view_name": "StyleView",
            "bar_color": null,
            "description_width": ""
          }
        },
        "a12d3257e09f458e81f648ecd6aa40e8": {
          "model_module": "@jupyter-widgets/base",
          "model_name": "LayoutModel",
          "model_module_version": "1.2.0",
          "state": {
            "_model_module": "@jupyter-widgets/base",
            "_model_module_version": "1.2.0",
            "_model_name": "LayoutModel",
            "_view_count": null,
            "_view_module": "@jupyter-widgets/base",
            "_view_module_version": "1.2.0",
            "_view_name": "LayoutView",
            "align_content": null,
            "align_items": null,
            "align_self": null,
            "border": null,
            "bottom": null,
            "display": null,
            "flex": null,
            "flex_flow": null,
            "grid_area": null,
            "grid_auto_columns": null,
            "grid_auto_flow": null,
            "grid_auto_rows": null,
            "grid_column": null,
            "grid_gap": null,
            "grid_row": null,
            "grid_template_areas": null,
            "grid_template_columns": null,
            "grid_template_rows": null,
            "height": null,
            "justify_content": null,
            "justify_items": null,
            "left": null,
            "margin": null,
            "max_height": null,
            "max_width": null,
            "min_height": null,
            "min_width": null,
            "object_fit": null,
            "object_position": null,
            "order": null,
            "overflow": null,
            "overflow_x": null,
            "overflow_y": null,
            "padding": null,
            "right": null,
            "top": null,
            "visibility": null,
            "width": null
          }
        },
        "f2acf3a1b140457cb62ec05065932eec": {
          "model_module": "@jupyter-widgets/controls",
          "model_name": "DescriptionStyleModel",
          "model_module_version": "1.5.0",
          "state": {
            "_model_module": "@jupyter-widgets/controls",
            "_model_module_version": "1.5.0",
            "_model_name": "DescriptionStyleModel",
            "_view_count": null,
            "_view_module": "@jupyter-widgets/base",
            "_view_module_version": "1.2.0",
            "_view_name": "StyleView",
            "description_width": ""
          }
        },
        "9f25fc58629046e19d86e416130ef9d0": {
          "model_module": "@jupyter-widgets/controls",
          "model_name": "HBoxModel",
          "model_module_version": "1.5.0",
          "state": {
            "_dom_classes": [],
            "_model_module": "@jupyter-widgets/controls",
            "_model_module_version": "1.5.0",
            "_model_name": "HBoxModel",
            "_view_count": null,
            "_view_module": "@jupyter-widgets/controls",
            "_view_module_version": "1.5.0",
            "_view_name": "HBoxView",
            "box_style": "",
            "children": [
              "IPY_MODEL_a91dc2a952ba4271a08c8702430a49a0",
              "IPY_MODEL_5ede5850b721482c9e20a3095f44c0a8",
              "IPY_MODEL_9029dff6c0f4421ab59688ae0d3d3ade"
            ],
            "layout": "IPY_MODEL_9dee59aa11204c6580614b5145b9ced5"
          }
        },
        "a91dc2a952ba4271a08c8702430a49a0": {
          "model_module": "@jupyter-widgets/controls",
          "model_name": "HTMLModel",
          "model_module_version": "1.5.0",
          "state": {
            "_dom_classes": [],
            "_model_module": "@jupyter-widgets/controls",
            "_model_module_version": "1.5.0",
            "_model_name": "HTMLModel",
            "_view_count": null,
            "_view_module": "@jupyter-widgets/controls",
            "_view_module_version": "1.5.0",
            "_view_name": "HTMLView",
            "description": "",
            "description_tooltip": null,
            "layout": "IPY_MODEL_3071062d2a494d8c9c7210ef4ebe4ecd",
            "placeholder": "​",
            "style": "IPY_MODEL_cce317232489470db5e48dfe17befea3",
            "value": "100%"
          }
        },
        "5ede5850b721482c9e20a3095f44c0a8": {
          "model_module": "@jupyter-widgets/controls",
          "model_name": "FloatProgressModel",
          "model_module_version": "1.5.0",
          "state": {
            "_dom_classes": [],
            "_model_module": "@jupyter-widgets/controls",
            "_model_module_version": "1.5.0",
            "_model_name": "FloatProgressModel",
            "_view_count": null,
            "_view_module": "@jupyter-widgets/controls",
            "_view_module_version": "1.5.0",
            "_view_name": "ProgressView",
            "bar_style": "success",
            "description": "",
            "description_tooltip": null,
            "layout": "IPY_MODEL_41e4b6a041a2457eb40bf92424c3c698",
            "max": 175,
            "min": 0,
            "orientation": "horizontal",
            "style": "IPY_MODEL_b50b904480f44c43b82d29071a3fc2eb",
            "value": 175
          }
        },
        "9029dff6c0f4421ab59688ae0d3d3ade": {
          "model_module": "@jupyter-widgets/controls",
          "model_name": "HTMLModel",
          "model_module_version": "1.5.0",
          "state": {
            "_dom_classes": [],
            "_model_module": "@jupyter-widgets/controls",
            "_model_module_version": "1.5.0",
            "_model_name": "HTMLModel",
            "_view_count": null,
            "_view_module": "@jupyter-widgets/controls",
            "_view_module_version": "1.5.0",
            "_view_name": "HTMLView",
            "description": "",
            "description_tooltip": null,
            "layout": "IPY_MODEL_aa606af113a44e8dbb541ab29c42cb7e",
            "placeholder": "​",
            "style": "IPY_MODEL_1eb2beafc19342d3bfc77c557febcd1f",
            "value": " 175/175 [00:00&lt;00:00, 2529.44it/s]"
          }
        },
        "9dee59aa11204c6580614b5145b9ced5": {
          "model_module": "@jupyter-widgets/base",
          "model_name": "LayoutModel",
          "model_module_version": "1.2.0",
          "state": {
            "_model_module": "@jupyter-widgets/base",
            "_model_module_version": "1.2.0",
            "_model_name": "LayoutModel",
            "_view_count": null,
            "_view_module": "@jupyter-widgets/base",
            "_view_module_version": "1.2.0",
            "_view_name": "LayoutView",
            "align_content": null,
            "align_items": null,
            "align_self": null,
            "border": null,
            "bottom": null,
            "display": null,
            "flex": null,
            "flex_flow": null,
            "grid_area": null,
            "grid_auto_columns": null,
            "grid_auto_flow": null,
            "grid_auto_rows": null,
            "grid_column": null,
            "grid_gap": null,
            "grid_row": null,
            "grid_template_areas": null,
            "grid_template_columns": null,
            "grid_template_rows": null,
            "height": null,
            "justify_content": null,
            "justify_items": null,
            "left": null,
            "margin": null,
            "max_height": null,
            "max_width": null,
            "min_height": null,
            "min_width": null,
            "object_fit": null,
            "object_position": null,
            "order": null,
            "overflow": null,
            "overflow_x": null,
            "overflow_y": null,
            "padding": null,
            "right": null,
            "top": null,
            "visibility": null,
            "width": null
          }
        },
        "3071062d2a494d8c9c7210ef4ebe4ecd": {
          "model_module": "@jupyter-widgets/base",
          "model_name": "LayoutModel",
          "model_module_version": "1.2.0",
          "state": {
            "_model_module": "@jupyter-widgets/base",
            "_model_module_version": "1.2.0",
            "_model_name": "LayoutModel",
            "_view_count": null,
            "_view_module": "@jupyter-widgets/base",
            "_view_module_version": "1.2.0",
            "_view_name": "LayoutView",
            "align_content": null,
            "align_items": null,
            "align_self": null,
            "border": null,
            "bottom": null,
            "display": null,
            "flex": null,
            "flex_flow": null,
            "grid_area": null,
            "grid_auto_columns": null,
            "grid_auto_flow": null,
            "grid_auto_rows": null,
            "grid_column": null,
            "grid_gap": null,
            "grid_row": null,
            "grid_template_areas": null,
            "grid_template_columns": null,
            "grid_template_rows": null,
            "height": null,
            "justify_content": null,
            "justify_items": null,
            "left": null,
            "margin": null,
            "max_height": null,
            "max_width": null,
            "min_height": null,
            "min_width": null,
            "object_fit": null,
            "object_position": null,
            "order": null,
            "overflow": null,
            "overflow_x": null,
            "overflow_y": null,
            "padding": null,
            "right": null,
            "top": null,
            "visibility": null,
            "width": null
          }
        },
        "cce317232489470db5e48dfe17befea3": {
          "model_module": "@jupyter-widgets/controls",
          "model_name": "DescriptionStyleModel",
          "model_module_version": "1.5.0",
          "state": {
            "_model_module": "@jupyter-widgets/controls",
            "_model_module_version": "1.5.0",
            "_model_name": "DescriptionStyleModel",
            "_view_count": null,
            "_view_module": "@jupyter-widgets/base",
            "_view_module_version": "1.2.0",
            "_view_name": "StyleView",
            "description_width": ""
          }
        },
        "41e4b6a041a2457eb40bf92424c3c698": {
          "model_module": "@jupyter-widgets/base",
          "model_name": "LayoutModel",
          "model_module_version": "1.2.0",
          "state": {
            "_model_module": "@jupyter-widgets/base",
            "_model_module_version": "1.2.0",
            "_model_name": "LayoutModel",
            "_view_count": null,
            "_view_module": "@jupyter-widgets/base",
            "_view_module_version": "1.2.0",
            "_view_name": "LayoutView",
            "align_content": null,
            "align_items": null,
            "align_self": null,
            "border": null,
            "bottom": null,
            "display": null,
            "flex": null,
            "flex_flow": null,
            "grid_area": null,
            "grid_auto_columns": null,
            "grid_auto_flow": null,
            "grid_auto_rows": null,
            "grid_column": null,
            "grid_gap": null,
            "grid_row": null,
            "grid_template_areas": null,
            "grid_template_columns": null,
            "grid_template_rows": null,
            "height": null,
            "justify_content": null,
            "justify_items": null,
            "left": null,
            "margin": null,
            "max_height": null,
            "max_width": null,
            "min_height": null,
            "min_width": null,
            "object_fit": null,
            "object_position": null,
            "order": null,
            "overflow": null,
            "overflow_x": null,
            "overflow_y": null,
            "padding": null,
            "right": null,
            "top": null,
            "visibility": null,
            "width": null
          }
        },
        "b50b904480f44c43b82d29071a3fc2eb": {
          "model_module": "@jupyter-widgets/controls",
          "model_name": "ProgressStyleModel",
          "model_module_version": "1.5.0",
          "state": {
            "_model_module": "@jupyter-widgets/controls",
            "_model_module_version": "1.5.0",
            "_model_name": "ProgressStyleModel",
            "_view_count": null,
            "_view_module": "@jupyter-widgets/base",
            "_view_module_version": "1.2.0",
            "_view_name": "StyleView",
            "bar_color": null,
            "description_width": ""
          }
        },
        "aa606af113a44e8dbb541ab29c42cb7e": {
          "model_module": "@jupyter-widgets/base",
          "model_name": "LayoutModel",
          "model_module_version": "1.2.0",
          "state": {
            "_model_module": "@jupyter-widgets/base",
            "_model_module_version": "1.2.0",
            "_model_name": "LayoutModel",
            "_view_count": null,
            "_view_module": "@jupyter-widgets/base",
            "_view_module_version": "1.2.0",
            "_view_name": "LayoutView",
            "align_content": null,
            "align_items": null,
            "align_self": null,
            "border": null,
            "bottom": null,
            "display": null,
            "flex": null,
            "flex_flow": null,
            "grid_area": null,
            "grid_auto_columns": null,
            "grid_auto_flow": null,
            "grid_auto_rows": null,
            "grid_column": null,
            "grid_gap": null,
            "grid_row": null,
            "grid_template_areas": null,
            "grid_template_columns": null,
            "grid_template_rows": null,
            "height": null,
            "justify_content": null,
            "justify_items": null,
            "left": null,
            "margin": null,
            "max_height": null,
            "max_width": null,
            "min_height": null,
            "min_width": null,
            "object_fit": null,
            "object_position": null,
            "order": null,
            "overflow": null,
            "overflow_x": null,
            "overflow_y": null,
            "padding": null,
            "right": null,
            "top": null,
            "visibility": null,
            "width": null
          }
        },
        "1eb2beafc19342d3bfc77c557febcd1f": {
          "model_module": "@jupyter-widgets/controls",
          "model_name": "DescriptionStyleModel",
          "model_module_version": "1.5.0",
          "state": {
            "_model_module": "@jupyter-widgets/controls",
            "_model_module_version": "1.5.0",
            "_model_name": "DescriptionStyleModel",
            "_view_count": null,
            "_view_module": "@jupyter-widgets/base",
            "_view_module_version": "1.2.0",
            "_view_name": "StyleView",
            "description_width": ""
          }
        }
      }
    }
  },
  "cells": [
    {
      "cell_type": "markdown",
      "source": [
        "# History\n",
        "\n",
        "- 평가 지표 : MAE, RMSE, SMAPE\n",
        "\n",
        "[참조 링크](https://www.kaggle.com/code/cdeotte/gru-model-3rd-place-gold#Train-GRU)"
      ],
      "metadata": {
        "id": "5derempy4mSD"
      }
    },
    {
      "cell_type": "markdown",
      "source": [
        "# Library"
      ],
      "metadata": {
        "id": "XkdPYIPG4weF"
      }
    },
    {
      "cell_type": "code",
      "execution_count": 1,
      "metadata": {
        "id": "Ovm2zogg4chf"
      },
      "outputs": [],
      "source": [
        "\n",
        "# ----- Basic setup ----- #\n",
        "import pandas as pd\n",
        "import numpy as np\n",
        "from os.path import join as opj\n",
        "from tqdm.auto import tqdm\n",
        "from datetime import datetime, timedelta\n",
        "import warnings\n",
        "warnings.filterwarnings('ignore')\n",
        "\n",
        "# pd.options.display.float_format = '{:.5f}'.format\n",
        "# pd.options.display.max_rows = None\n",
        "\n",
        "# 교육자료\n",
        "# np.set_printoptions(precision=6, suppress=True)\n",
        "\n",
        "# pd.options.display.float_format = '{:.5f}'.format\n",
        "# pd.reset_option('display.float_format')\n",
        "\n",
        "# import random\n",
        "# import os\n",
        "# from tqdm.notebook import tqdm\n",
        "\n",
        "# ----- scikit learn ----- #\n",
        "# from sklearn.ensemble import RandomForestRegressor\n",
        "from sklearn.model_selection import train_test_split # GroupKFold\n",
        "# r2_score를 제외한 나머지 평가지표들은 클수록 안 좋고, 1보다 큰 값도 왕왕 등장합니다.\n",
        "from sklearn.metrics import confusion_matrix, mean_squared_error, r2_score, mean_absolute_error\n",
        "from sklearn.preprocessing import MinMaxScaler, StandardScaler, OrdinalEncoder\n",
        "# -1 ~ 1 사이, 0~1사이로 값의 단위를 고정시켜줍니다. : 정규화\n",
        "\n",
        "# R2 score : 1 - sum((y_true - y_pred) ** 2) / sum((y_true - y_true.mean())**2)\n",
        "# 1에 가까울 수록 좋은 모델, 0에 가까울 수록 나쁨, 음수가 나오면 잘못 평가 되었음을 의미합니다.\n",
        "\n",
        "# ----- tensorflow & keras ----- #\n",
        "\n",
        "from keras.models import Sequential\n",
        "from keras.preprocessing.sequence import TimeseriesGenerator # https://github.com/keras-team/keras/blob/cdffff886626e5a05bc5d54b8a4634f1e5db06cf/keras/preprocessing/sequence.py#L56\n",
        "from tensorflow.keras import layers\n",
        "from tensorflow.keras.callbacks import ModelCheckpoint, EarlyStopping\n",
        "\n",
        "import tensorflow as tf\n",
        "\n",
        "\n",
        "# ----- visualization ----- #\n",
        "import matplotlib.pyplot as plt\n",
        "import seaborn as sns\n",
        "\n",
        "# import plotly.express as px\n",
        "# import plotly.graph_objects as go\n",
        "# import plotly.figure_factory as ff\n",
        "# from plotly.subplots import make_subplots\n",
        "# from plotly.offline import init_notebook_mode, iplot\n",
        "\n",
        "\n",
        "# yahoo financial, unofficial way, rate limit\n",
        "from pandas_datareader import data as pdr\n",
        "import yfinance as yf\n",
        "yf.pdr_override()"
      ]
    },
    {
      "cell_type": "markdown",
      "source": [
        "# Configuration"
      ],
      "metadata": {
        "id": "JognaTpM4_he"
      }
    },
    {
      "cell_type": "code",
      "source": [
        "%%writefile config.yml\n",
        "\n",
        "# 주석은 값에서 띄어쓰기를 꼭해줘야 한다. (yaml의 특성이 아닌 Namespace의 특성일 수도 있다.)\n",
        "base:\n",
        "  exp_name: exp_01\n",
        "  task_name: asset # asset or portfolio\n",
        "  model_name: GRU # LSTM, xgboost\n",
        "  use_gpu: false\n",
        "  index_name: ^BSESN # ^BVSP : 브라질,  ^TWII : 대만, ^BSESN : 인도\n",
        "  seed: 813\n",
        "  base_dir: /content/ # /drive/MyDrive/~~~\n",
        "  output_dir: ./\n",
        "  #log_file: train_log.log\n",
        "\n",
        "data:\n",
        "  lookback_window: 10 #  look back period 5 21 42\n",
        "  lookahead_window: 62 # 5 3개월 후로 고정되어 있으므로... 62는 장 개장일 기준으로 3개월 후한 첫 번째 값의 간격. 즉 17.01.02-> 17.04.03 사이에 62개\n",
        "  y_form: ratio # value #\n",
        "\n",
        "train:\n",
        "  #dataset:\n",
        "  start_date: 2017-01-01\n",
        "  end_date: 2020-12-31\n",
        "  use_derive_vairable: true\n",
        "\n",
        "valid:\n",
        "  #dataset:\n",
        "  start_date: 2021-01-01\n",
        "  end_date: 2021-12-31\n",
        "  use_derive_vairable: true\n",
        "\n",
        "test:\n",
        "  #dataset:\n",
        "  start_date: 2022-01-01\n",
        "  end_date: 2022-12-31"
      ],
      "metadata": {
        "colab": {
          "base_uri": "https://localhost:8080/"
        },
        "id": "ZJ8BGY9o5AvZ",
        "outputId": "931cd7a8-fb1b-491e-9ea0-44515b032740"
      },
      "execution_count": 2,
      "outputs": [
        {
          "output_type": "stream",
          "name": "stdout",
          "text": [
            "Overwriting config.yml\n"
          ]
        }
      ]
    },
    {
      "cell_type": "code",
      "source": [
        "import yaml\n",
        "# pyyaml docs : https://pyyaml.org/wiki/PyYAMLDocumentation\n",
        "from types import SimpleNamespace\n",
        "# Ref : https://github.com/ybabakhin/kaggle-feedback-effectiveness-1st-place-solution/blob/main/train.py\n",
        "# Ref : https://github.com/ybabakhin/kaggle-feedback-effectiveness-1st-place-solution/blob/main/yaml/awesome-rose-ff.yaml\n",
        "\n",
        "# 예시로 살펴볼 수 있는 하나의 yaml 파일 : https://github.com/PaddlePaddle/PaddleOCR/blob/release/2.6/configs/cls/cls_mv3.yml\n",
        "\n",
        "cfg = yaml.safe_load(open(\"/content/config.yml\").read())\n",
        "for k, v in cfg.items():\n",
        "    if type(v) == dict:\n",
        "        cfg[k] = SimpleNamespace(**v)\n",
        "cfg = SimpleNamespace(**cfg)\n",
        "# logger(cfg)\n",
        "print(cfg)\n",
        "\n",
        "# config_file = \"config.yml\"\n",
        "# with open(config_file) as f:\n",
        "\n",
        "#     cfg = yaml.load(f, Loader=yaml.FullLoader)\n",
        "\n",
        "# print(cfg)"
      ],
      "metadata": {
        "colab": {
          "base_uri": "https://localhost:8080/"
        },
        "id": "kkmu15vf5GZ_",
        "outputId": "62d72817-83de-4f7d-8e29-99e4af30dff6"
      },
      "execution_count": 3,
      "outputs": [
        {
          "output_type": "stream",
          "name": "stdout",
          "text": [
            "namespace(base=namespace(exp_name='exp_01', task_name='asset', model_name='GRU', use_gpu=False, index_name='^BSESN', seed=813, base_dir='/content/', output_dir='./'), data=namespace(lookback_window=10, lookahead_window=62, y_form='ratio'), train=namespace(start_date=datetime.date(2017, 1, 1), end_date=datetime.date(2020, 12, 31), use_derive_vairable=True), valid=namespace(start_date=datetime.date(2021, 1, 1), end_date=datetime.date(2021, 12, 31), use_derive_vairable=True), test=namespace(start_date=datetime.date(2022, 1, 1), end_date=datetime.date(2022, 12, 31)))\n"
          ]
        }
      ]
    },
    {
      "cell_type": "markdown",
      "source": [
        "# Utilities"
      ],
      "metadata": {
        "id": "0uHLWRuV5KCe"
      }
    },
    {
      "cell_type": "code",
      "source": [
        "import logging\n",
        "from os.path import join as opj\n",
        "# cfg_base로 바꾸기\n",
        "def get_logger(cfg_global):\n",
        "\n",
        "    logger = logging.getLogger(__name__)\n",
        "    logger.setLevel(logging.INFO)\n",
        "    handler1 = logging.StreamHandler()\n",
        "    handler1.setFormatter(logging.Formatter(\"%(message)s\")) # 시간을 넣어줘야겠어..\n",
        "    handler2 = logging.FileHandler(filename=opj(cfg_global.output_dir, f\"{cfg_global.task_name}_{cfg_global.model_name}_{cfg_global.exp_name}.log\"))\n",
        "    handler2.setFormatter(logging.Formatter(\"%(message)s\"))\n",
        "    logger.addHandler(handler1)\n",
        "    logger.addHandler(handler2)\n",
        "    return logger\n",
        "\n",
        "logger = get_logger(cfg.base)"
      ],
      "metadata": {
        "id": "Gc9LTmiv5M8u"
      },
      "execution_count": 4,
      "outputs": []
    },
    {
      "cell_type": "markdown",
      "source": [
        "# Data Generation"
      ],
      "metadata": {
        "id": "HeVbv4Aw5R42"
      }
    },
    {
      "cell_type": "code",
      "source": [
        "def make_data(df, cfg_data, return_to_df=False):\n",
        "\n",
        "    # change into uncommented code (delete \"+1\" in -1 axis of df.iloc). caused by  IndexError: index 1230 is out of bounds for axis 0 with size 1230\n",
        "    # total_sample_num = df.iloc[cfg_data.lookback_window-1:-cfg_data.lookahead_window+1].shape[0]\n",
        "    total_sample_num = df.iloc[cfg_data.lookback_window-1:-cfg_data.lookahead_window].shape[0]\n",
        "\n",
        "    #  특징 하나\n",
        "    fea_num = df.columns.get_loc(\"Close\")\n",
        "\n",
        "    x_data = np.zeros((total_sample_num, cfg_data.lookback_window))\n",
        "    y_data = np.zeros((total_sample_num, 1))\n",
        "\n",
        "    end_date = cfg_data.lookback_window-1\n",
        "\n",
        "    for idx in tqdm(range(total_sample_num)):\n",
        "\n",
        "        x_data[idx,] = df.iloc[idx:idx+cfg_data.lookback_window, fea_num].values\n",
        "\n",
        "        # 반복 효율을 위해 a로 변환 가능 [a는 for문 밖으로]\n",
        "        # a = end_date+cfg_data.lookahead_window\n",
        "        # y_data[idx,] = df.iloc[idx+a, fea_num]/df.iloc[idx+end_date, fea_num]\n",
        "        y_data[idx,] = df.iloc[idx+end_date+cfg_data.lookahead_window, fea_num]/df.iloc[idx+end_date, fea_num]-1\n",
        "\n",
        "    # pd.DataFrame(y_data).describe()\n",
        "\n",
        "    if return_to_df:\n",
        "        pass\n",
        "        # FEATURES = [f'f{x}' for x in range(WIDTH-COPIES-4-1)]\n",
        "        # TARGETS = [f'y{x}' for x in range(5)]\n",
        "        # train_data = pd.DataFrame(x_data3,columns=FEATURES)\n",
        "        # train_data[TARGETS] = y_data3\n",
        "        # train_data['cfips'] = np.repeat(KEEP,COPIES)\n",
        "        # print('Our GRU training data has shape:', train_data.shape )\n",
        "        # train_data.head()\n",
        "    else:\n",
        "        return x_data, y_data\n",
        "\n"
      ],
      "metadata": {
        "id": "xm0GMwZH5U97"
      },
      "execution_count": 5,
      "outputs": []
    },
    {
      "cell_type": "markdown",
      "source": [
        "# Model"
      ],
      "metadata": {
        "id": "UJndecML5Xw5"
      }
    },
    {
      "cell_type": "code",
      "source": [
        "# https://www.tensorflow.org/api_docs/python/tf/keras/layers/GRU  (docs)\n",
        "# Ref : https://www.kaggle.com/code/cdeotte/gru-model-3rd-place-gold?scriptVersionId=133950942&cellId=35\n",
        "def build_model(cfg):\n",
        "\n",
        "    inp = tf.keras.Input(shape=(cfg.data.lookback_window,1)) # INPUT SHAPE IS 12\n",
        "\n",
        "    assert cfg.base.model_name in ['GRU', 'LSTM'], \"check model_name\"\n",
        "\n",
        "    RNN = getattr(layers, cfg.base.model_name)\n",
        "    x = RNN(units=8, return_sequences=True)(inp)\n",
        "    x = RNN(units=8, return_sequences=True)(x)\n",
        "    x = RNN(units=8, return_sequences=False)(x)\n",
        "    x = layers.Dense(1,activation='linear')(x) # OUTPUT SHAPE IS 5\n",
        "    model = tf.keras.Model(inputs=inp, outputs=x)\n",
        "\n",
        "    opt = tf.keras.optimizers.Adam(learning_rate=1e-4)\n",
        "    loss = tf.keras.losses.MeanSquaredError()\n",
        "    model.compile(loss=loss, optimizer = opt)\n",
        "\n",
        "    return model"
      ],
      "metadata": {
        "id": "BcmXHzW15hgC"
      },
      "execution_count": 8,
      "outputs": []
    },
    {
      "cell_type": "markdown",
      "source": [
        "# Metric"
      ],
      "metadata": {
        "id": "PH2Ne77X5fPV"
      }
    },
    {
      "cell_type": "code",
      "source": [
        "# np.sqrt(sum((y_true - y_pred)**2)  / len(y_pred))\n",
        "def rmse(y_true, y_pred):\n",
        "    # sklearn.metrics 패키지에는 별도의 RMSE 평가지표는 없습니다\n",
        "    return np.sqrt(mean_squared_error(y_true, y_pred))\n",
        "\n",
        "\n",
        "# Ref : https://www.kaggle.com/code/cdeotte/gru-model-3rd-place-gold?scriptVersionId=133950942&cellId=40\n",
        "def smape(y_true, y_pred):\n",
        "\n",
        "    # CONVERT TO NUMPY\n",
        "    y_true = np.array(y_true.flatten())\n",
        "    y_pred = np.array(y_pred.flatten())\n",
        "\n",
        "    # WHEN BOTH EQUAL ZERO, METRIC IS ZERO\n",
        "    both = np.abs(y_true) + np.abs(y_pred)\n",
        "    idx = np.where(both==0)[0]\n",
        "    y_true[idx]=1; y_pred[idx]=1\n",
        "\n",
        "    return 100/len(y_true) * np.sum(2 * np.abs(y_pred - y_true) / (np.abs(y_true) + np.abs(y_pred)))"
      ],
      "metadata": {
        "id": "vhYCCXse5g4S"
      },
      "execution_count": 9,
      "outputs": []
    },
    {
      "cell_type": "markdown",
      "source": [
        "# Run\n",
        "\n",
        "학습까지만 진행하는 Run 부분"
      ],
      "metadata": {
        "id": "0zLY--3d5pK0"
      }
    },
    {
      "cell_type": "code",
      "source": [
        "################################# GRU (similar with LSTM) #################################\n",
        "\n",
        "### 데이터 받아오기\n",
        "train = pdr.get_data_yahoo(cfg.base.index_name, cfg.train.start_date, cfg.train.end_date).reset_index()\n",
        "valid = pdr.get_data_yahoo(cfg.base.index_name, cfg.valid.start_date, cfg.valid.end_date).reset_index()\n",
        "# test = pdr.get_data_yahoo(cfg.base.index_name, cfg.test.start_date, cfg.test.end_date).reset_index()\n",
        "\n",
        "logger.info(f\"train data start date : {train.Date.min()} end date : {train.Date.max()}\")\n",
        "\n",
        "### EDA\n",
        "\n",
        "# train.query(\"Volume<10\") Volume이 0인 경우 확인 필요\n",
        "# label은 Scaling 안하는 것인가? Close\n",
        "\n",
        "\n",
        "# FIRST DAY, LAST DAY\n",
        "# train.first_day_of_month.min(), train.first_day_of_month.max()\n",
        "\n",
        "### 학습 데이터 생성\n",
        "x_data, y_data = make_data(train, cfg.data)\n",
        "logger.info(f\"!!Train data infoi!! \\n  x_data.shape : {x_data.shape} \\t y_data.shape : {y_data.shape}\")\n",
        "\n",
        "\n",
        "### STANDARIZE\n",
        "mn = np.mean(x_data)\n",
        "sd = np.std(x_data)\n",
        "x_data = (x_data - mn)/sd\n",
        "# y_data = (y_data - mn)/sd\n",
        "logger.info(f\"Average ratio =,{mn},and Average std =, {sd}\")\n",
        "\n",
        "X_train, X_valid, y_train, y_valid = train_test_split(x_data, y_data, shuffle=True,random_state=cfg.base.seed, test_size=0.2)\n",
        "\n",
        "### 모델\n",
        "model = build_model(cfg)\n",
        "logger.info(model.summary())\n",
        "\n",
        "### 학습\n",
        "h = model.fit(X_train,y_train,\n",
        "                validation_data = (X_valid,y_valid),\n",
        "                # sample_weight = np.tile(w,GRP),\n",
        "                batch_size=4, epochs=10, verbose=2)\n",
        "\n",
        "### 모델 저장\n",
        "cfg_global = cfg.base\n",
        "model.save_weights(f\"{cfg_global.task_name}_{cfg_global.model_name}_{cfg_global.exp_name}.h5\")\n",
        "# model.load_weights(INFER_FROM_PATH + f'GRU_f{fold}_v{VER}.h5')\n"
      ],
      "metadata": {
        "colab": {
          "base_uri": "https://localhost:8080/",
          "height": 975,
          "referenced_widgets": [
            "a3b940a010e34f3e87a77f4ee3685faa",
            "f935478cbc3c4a36bc6ee321ff6168a8",
            "13a16f8eb40940cda8be67c1d3fe0fdf",
            "9ecfdf9174c04aeaa5004fdd9b71eb97",
            "ea2fdad558db479a91a244d8ab211a05",
            "3d6415fc96c14ee08ea3c2fbb10ea589",
            "d0f0d1b33e3e4eaf92cae55866c5847d",
            "4df8ee4b72a24bcf95b1a4ece4ec724b",
            "ffab62b7df9c4742b7da68597e642879",
            "506a2daac32a4394a334a1e566c02c7e",
            "c956d3cef03749c8a52f649774718b48"
          ]
        },
        "id": "KVNht8Cb5ps2",
        "outputId": "2d6e841f-a372-416c-b80a-8a1bc7a8185f"
      },
      "execution_count": 10,
      "outputs": [
        {
          "output_type": "stream",
          "name": "stdout",
          "text": [
            "[*********************100%%**********************]  1 of 1 completed\n",
            "[*********************100%%**********************]  1 of 1 completed"
          ]
        },
        {
          "output_type": "stream",
          "name": "stderr",
          "text": [
            "train data start date : 2017-01-02 00:00:00 end date : 2020-12-30 00:00:00\n",
            "INFO:__main__:train data start date : 2017-01-02 00:00:00 end date : 2020-12-30 00:00:00\n"
          ]
        },
        {
          "output_type": "stream",
          "name": "stdout",
          "text": [
            "\n"
          ]
        },
        {
          "output_type": "display_data",
          "data": {
            "text/plain": [
              "  0%|          | 0/912 [00:00<?, ?it/s]"
            ],
            "application/vnd.jupyter.widget-view+json": {
              "version_major": 2,
              "version_minor": 0,
              "model_id": "a3b940a010e34f3e87a77f4ee3685faa"
            }
          },
          "metadata": {}
        },
        {
          "output_type": "stream",
          "name": "stderr",
          "text": [
            "!!Train data infoi!! \n",
            "  x_data.shape : (912, 10) \t y_data.shape : (912, 1)\n",
            "INFO:__main__:!!Train data infoi!! \n",
            "  x_data.shape : (912, 10) \t y_data.shape : (912, 1)\n",
            "Average ratio =,35160.52655007881,and Average std =, 3598.430798942858\n",
            "INFO:__main__:Average ratio =,35160.52655007881,and Average std =, 3598.430798942858\n"
          ]
        },
        {
          "output_type": "stream",
          "name": "stdout",
          "text": [
            "Model: \"model\"\n",
            "_________________________________________________________________\n",
            " Layer (type)                Output Shape              Param #   \n",
            "=================================================================\n",
            " input_1 (InputLayer)        [(None, 10, 1)]           0         \n",
            "                                                                 \n",
            " gru (GRU)                   (None, 10, 8)             264       \n",
            "                                                                 \n",
            " gru_1 (GRU)                 (None, 10, 8)             432       \n",
            "                                                                 \n",
            " gru_2 (GRU)                 (None, 8)                 432       \n",
            "                                                                 \n",
            " dense (Dense)               (None, 1)                 9         \n",
            "                                                                 \n",
            "=================================================================\n",
            "Total params: 1,137\n",
            "Trainable params: 1,137\n",
            "Non-trainable params: 0\n",
            "_________________________________________________________________\n"
          ]
        },
        {
          "output_type": "stream",
          "name": "stderr",
          "text": [
            "None\n",
            "INFO:__main__:None\n"
          ]
        },
        {
          "output_type": "stream",
          "name": "stdout",
          "text": [
            "Epoch 1/10\n",
            "183/183 - 12s - loss: 0.0078 - val_loss: 0.0080 - 12s/epoch - 68ms/step\n",
            "Epoch 2/10\n",
            "183/183 - 3s - loss: 0.0072 - val_loss: 0.0078 - 3s/epoch - 17ms/step\n",
            "Epoch 3/10\n",
            "183/183 - 4s - loss: 0.0071 - val_loss: 0.0076 - 4s/epoch - 19ms/step\n",
            "Epoch 4/10\n",
            "183/183 - 4s - loss: 0.0069 - val_loss: 0.0075 - 4s/epoch - 23ms/step\n",
            "Epoch 5/10\n",
            "183/183 - 6s - loss: 0.0068 - val_loss: 0.0074 - 6s/epoch - 31ms/step\n",
            "Epoch 6/10\n",
            "183/183 - 6s - loss: 0.0067 - val_loss: 0.0072 - 6s/epoch - 34ms/step\n",
            "Epoch 7/10\n",
            "183/183 - 5s - loss: 0.0066 - val_loss: 0.0071 - 5s/epoch - 26ms/step\n",
            "Epoch 8/10\n",
            "183/183 - 4s - loss: 0.0065 - val_loss: 0.0070 - 4s/epoch - 24ms/step\n",
            "Epoch 9/10\n",
            "183/183 - 5s - loss: 0.0065 - val_loss: 0.0070 - 5s/epoch - 28ms/step\n",
            "Epoch 10/10\n",
            "183/183 - 3s - loss: 0.0064 - val_loss: 0.0068 - 3s/epoch - 17ms/step\n"
          ]
        }
      ]
    },
    {
      "cell_type": "code",
      "source": [
        "################################# LSTM #################################\n",
        "cfg.base.model_name = \"LSTM\"\n",
        "\n",
        "### 데이터 받아오기\n",
        "train = pdr.get_data_yahoo(cfg.base.index_name, cfg.train.start_date, cfg.train.end_date).reset_index()\n",
        "valid = pdr.get_data_yahoo(cfg.base.index_name, cfg.valid.start_date, cfg.valid.end_date).reset_index()\n",
        "# test = pdr.get_data_yahoo(cfg.base.index_name, cfg.test.start_date, cfg.test.end_date).reset_index()\n",
        "\n",
        "logger.info(f\"train data start date : {train.Date.min()} end date : {train.Date.max()}\")\n",
        "\n",
        "### EDA\n",
        "\n",
        "# train.query(\"Volume<10\") Volume이 0인 경우 확인 필요\n",
        "# label은 Scaling 안하는 것인가? Close\n",
        "\n",
        "\n",
        "# FIRST DAY, LAST DAY\n",
        "# train.first_day_of_month.min(), train.first_day_of_month.max()\n",
        "\n",
        "### 학습 데이터 생성\n",
        "x_data, y_data = make_data(train, cfg.data)\n",
        "logger.info(f\"!!Train data infoi!! \\n  x_data.shape : {x_data.shape} \\t y_data.shape : {y_data.shape}\")\n",
        "\n",
        "\n",
        "### STANDARIZE\n",
        "mn = np.mean(x_data)\n",
        "sd = np.std(x_data)\n",
        "x_data = (x_data - mn)/sd\n",
        "# y_data = (y_data - mn)/sd\n",
        "logger.info(f\"Average ratio =,{mn},and Average std =, {sd}\")\n",
        "\n",
        "X_train, X_valid, y_train, y_valid = train_test_split(x_data, y_data, shuffle=True,random_state=cfg.base.seed, test_size=0.2)\n",
        "\n",
        "### 모델\n",
        "model = build_model(cfg)\n",
        "logger.info(model.summary())\n",
        "\n",
        "### 학습\n",
        "h = model.fit(X_train,y_train,\n",
        "                validation_data = (X_valid,y_valid),\n",
        "                # sample_weight = np.tile(w,GRP),\n",
        "                batch_size=4, epochs=10, verbose=2)\n",
        "\n",
        "### 모델 저장\n",
        "cfg_global = cfg.base\n",
        "model.save_weights(f\"{cfg_global.task_name}_{cfg_global.model_name}_{cfg_global.exp_name}.h5\")\n",
        "# model.load_weights(INFER_FROM_PATH + f'GRU_f{fold}_v{VER}.h5')\n"
      ],
      "metadata": {
        "colab": {
          "base_uri": "https://localhost:8080/",
          "height": 975,
          "referenced_widgets": [
            "51fa30f039e74390a28566244e704fe9",
            "5ea24dcfe6f34e3c9a751c0a33e97399",
            "7e2f8916d64a4159a9ab81947871afc1",
            "d2860df1f94547089514a4f1e7b8a48f",
            "65d309b5a1964d4cac346d2605814f8d",
            "b038002509a14b399cd1f814134cd14a",
            "80612422d1e94f1c8b2434f66d3afa7f",
            "e20be09e05624a56a65fad0cdd187f3c",
            "898f9d1c5e2f43f394faa5f24cb42bc8",
            "a12d3257e09f458e81f648ecd6aa40e8",
            "f2acf3a1b140457cb62ec05065932eec"
          ]
        },
        "id": "2xxcQyCB-GJf",
        "outputId": "c74ff774-5aae-42b9-ff36-a284de5c78f5"
      },
      "execution_count": 17,
      "outputs": [
        {
          "output_type": "stream",
          "name": "stdout",
          "text": [
            "[*********************100%%**********************]  1 of 1 completed\n",
            "[*********************100%%**********************]  1 of 1 completed"
          ]
        },
        {
          "output_type": "stream",
          "name": "stderr",
          "text": [
            "train data start date : 2017-01-02 00:00:00 end date : 2020-12-30 00:00:00\n",
            "INFO:__main__:train data start date : 2017-01-02 00:00:00 end date : 2020-12-30 00:00:00\n"
          ]
        },
        {
          "output_type": "stream",
          "name": "stdout",
          "text": [
            "\n"
          ]
        },
        {
          "output_type": "display_data",
          "data": {
            "text/plain": [
              "  0%|          | 0/912 [00:00<?, ?it/s]"
            ],
            "application/vnd.jupyter.widget-view+json": {
              "version_major": 2,
              "version_minor": 0,
              "model_id": "51fa30f039e74390a28566244e704fe9"
            }
          },
          "metadata": {}
        },
        {
          "output_type": "stream",
          "name": "stderr",
          "text": [
            "!!Train data infoi!! \n",
            "  x_data.shape : (912, 10) \t y_data.shape : (912, 1)\n",
            "INFO:__main__:!!Train data infoi!! \n",
            "  x_data.shape : (912, 10) \t y_data.shape : (912, 1)\n",
            "Average ratio =,35160.52655007881,and Average std =, 3598.430798942858\n",
            "INFO:__main__:Average ratio =,35160.52655007881,and Average std =, 3598.430798942858\n"
          ]
        },
        {
          "output_type": "stream",
          "name": "stdout",
          "text": [
            "Model: \"model_2\"\n",
            "_________________________________________________________________\n",
            " Layer (type)                Output Shape              Param #   \n",
            "=================================================================\n",
            " input_3 (InputLayer)        [(None, 10, 1)]           0         \n",
            "                                                                 \n",
            " lstm (LSTM)                 (None, 10, 8)             320       \n",
            "                                                                 \n",
            " lstm_1 (LSTM)               (None, 10, 8)             544       \n",
            "                                                                 \n",
            " lstm_2 (LSTM)               (None, 8)                 544       \n",
            "                                                                 \n",
            " dense_2 (Dense)             (None, 1)                 9         \n",
            "                                                                 \n",
            "=================================================================\n",
            "Total params: 1,417\n",
            "Trainable params: 1,417\n",
            "Non-trainable params: 0\n",
            "_________________________________________________________________\n"
          ]
        },
        {
          "output_type": "stream",
          "name": "stderr",
          "text": [
            "None\n",
            "INFO:__main__:None\n"
          ]
        },
        {
          "output_type": "stream",
          "name": "stdout",
          "text": [
            "Epoch 1/10\n",
            "183/183 - 12s - loss: 0.0075 - val_loss: 0.0078 - 12s/epoch - 65ms/step\n",
            "Epoch 2/10\n",
            "183/183 - 3s - loss: 0.0068 - val_loss: 0.0076 - 3s/epoch - 15ms/step\n",
            "Epoch 3/10\n",
            "183/183 - 4s - loss: 0.0065 - val_loss: 0.0070 - 4s/epoch - 20ms/step\n",
            "Epoch 4/10\n",
            "183/183 - 4s - loss: 0.0062 - val_loss: 0.0068 - 4s/epoch - 20ms/step\n",
            "Epoch 5/10\n",
            "183/183 - 5s - loss: 0.0060 - val_loss: 0.0065 - 5s/epoch - 26ms/step\n",
            "Epoch 6/10\n",
            "183/183 - 3s - loss: 0.0058 - val_loss: 0.0062 - 3s/epoch - 19ms/step\n",
            "Epoch 7/10\n",
            "183/183 - 4s - loss: 0.0056 - val_loss: 0.0059 - 4s/epoch - 24ms/step\n",
            "Epoch 8/10\n",
            "183/183 - 4s - loss: 0.0055 - val_loss: 0.0058 - 4s/epoch - 21ms/step\n",
            "Epoch 9/10\n",
            "183/183 - 3s - loss: 0.0053 - val_loss: 0.0056 - 3s/epoch - 15ms/step\n",
            "Epoch 10/10\n",
            "183/183 - 3s - loss: 0.0052 - val_loss: 0.0054 - 3s/epoch - 17ms/step\n"
          ]
        }
      ]
    },
    {
      "cell_type": "code",
      "source": [
        "# # scikit learn과 호환가능하도록 누군가가 커스터마이징해서 올려놓은 모델 = wrapper model, wrapper module\n",
        "# from xgboost import XGBRegressor\n",
        "# from xgboost import plot_importance\n",
        "\n",
        "# xgbr = XGBRegressor()\n",
        "# xgbr.fit(X_train, y_train, eval_set=[(X_test, y_test)], eval_metric='rmse', early_stopping_rounds= 110, verbose=False)\n",
        "# ypred = xgbr.predict(X_test)\n",
        "# score = xgbr.score(X_train, y_train)\n",
        "# mse = mean_squared_error(y_test, ypred)\n",
        "\n",
        "# print(\"Training score: \", score)\n",
        "# print(\"MSE: %.2f\" % mse)\n",
        "# print(\"RMSE: %.2f\" % (mse**(1/2.0)))\n"
      ],
      "metadata": {
        "id": "FldV13m97BeA"
      },
      "execution_count": null,
      "outputs": []
    },
    {
      "cell_type": "markdown",
      "source": [
        "# Validation"
      ],
      "metadata": {
        "id": "bJOQ06j56QVn"
      }
    },
    {
      "cell_type": "code",
      "source": [
        "\n",
        "#### 검증\n",
        "x_data, y_data = make_data(valid, cfg.data)\n",
        "logger.info(f\"!!Valid data infoi!! \\n  x_data.shape : {x_data.shape} \\t y_data.shape : {y_data.shape}\")\n",
        "# 학습 때 활용했던 mn, sd 그대로 사용\n",
        "x_data = (x_data - mn)/sd\n",
        "\n",
        "preds = np.zeros(y_data.shape)\n",
        "\n",
        "model = build_model(cfg)\n",
        "model.load_weights(f\"{cfg_global.task_name}_{cfg_global.model_name}_{cfg_global.exp_name}.h5\")\n",
        "\n",
        "preds = model.predict(x_data, verbose=2) # / FOLDS"
      ],
      "metadata": {
        "colab": {
          "base_uri": "https://localhost:8080/",
          "height": 140,
          "referenced_widgets": [
            "9f25fc58629046e19d86e416130ef9d0",
            "a91dc2a952ba4271a08c8702430a49a0",
            "5ede5850b721482c9e20a3095f44c0a8",
            "9029dff6c0f4421ab59688ae0d3d3ade",
            "9dee59aa11204c6580614b5145b9ced5",
            "3071062d2a494d8c9c7210ef4ebe4ecd",
            "cce317232489470db5e48dfe17befea3",
            "41e4b6a041a2457eb40bf92424c3c698",
            "b50b904480f44c43b82d29071a3fc2eb",
            "aa606af113a44e8dbb541ab29c42cb7e",
            "1eb2beafc19342d3bfc77c557febcd1f"
          ]
        },
        "id": "eOXDvj186V-1",
        "outputId": "13e8656e-efe8-4617-f3d5-4a4506993a73"
      },
      "execution_count": 18,
      "outputs": [
        {
          "output_type": "display_data",
          "data": {
            "text/plain": [
              "  0%|          | 0/175 [00:00<?, ?it/s]"
            ],
            "application/vnd.jupyter.widget-view+json": {
              "version_major": 2,
              "version_minor": 0,
              "model_id": "9f25fc58629046e19d86e416130ef9d0"
            }
          },
          "metadata": {}
        },
        {
          "output_type": "stream",
          "name": "stderr",
          "text": [
            "!!Valid data infoi!! \n",
            "  x_data.shape : (175, 10) \t y_data.shape : (175, 1)\n",
            "INFO:__main__:!!Valid data infoi!! \n",
            "  x_data.shape : (175, 10) \t y_data.shape : (175, 1)\n"
          ]
        },
        {
          "output_type": "stream",
          "name": "stdout",
          "text": [
            "6/6 - 2s - 2s/epoch - 292ms/step\n"
          ]
        }
      ]
    },
    {
      "cell_type": "markdown",
      "source": [
        "GRU!!"
      ],
      "metadata": {
        "id": "1CqXIdvt-ejn"
      }
    },
    {
      "cell_type": "code",
      "source": [
        "logger.info(f\"Metric Result : MAE : {mean_absolute_error(y_data, preds)} \\t RMSE : {rmse(y_data, preds)} \\t SMAPE : {smape(y_data, preds)}\")"
      ],
      "metadata": {
        "colab": {
          "base_uri": "https://localhost:8080/"
        },
        "id": "_UheuK-H6Pjl",
        "outputId": "36f4beed-490d-48c3-a5e8-f7fb771e49ff"
      },
      "execution_count": 12,
      "outputs": [
        {
          "output_type": "stream",
          "name": "stderr",
          "text": [
            "Metric Result : MAE : 0.2571558175745449 \t RMSE : 0.26433578236609756 \t SMAPE : 190.3021776287268\n",
            "INFO:__main__:Metric Result : MAE : 0.2571558175745449 \t RMSE : 0.26433578236609756 \t SMAPE : 190.3021776287268\n"
          ]
        }
      ]
    },
    {
      "cell_type": "markdown",
      "source": [
        "LSTM!! below"
      ],
      "metadata": {
        "id": "STjjk0Sb-gGY"
      }
    },
    {
      "cell_type": "code",
      "source": [
        "logger.info(f\"Metric Result : MAE : {mean_absolute_error(y_data, preds)} \\t RMSE : {rmse(y_data, preds)} \\t SMAPE : {smape(y_data, preds)}\")"
      ],
      "metadata": {
        "colab": {
          "base_uri": "https://localhost:8080/"
        },
        "id": "j6tlfdnK-iF6",
        "outputId": "73e974fc-328f-404c-b711-8c03a1194443"
      },
      "execution_count": 19,
      "outputs": [
        {
          "output_type": "stream",
          "name": "stderr",
          "text": [
            "Metric Result : MAE : 0.5999046329918347 \t RMSE : 0.6036685215981378 \t SMAPE : 196.19140732138248\n",
            "INFO:__main__:Metric Result : MAE : 0.5999046329918347 \t RMSE : 0.6036685215981378 \t SMAPE : 196.19140732138248\n"
          ]
        }
      ]
    },
    {
      "cell_type": "markdown",
      "source": [
        "# Visualization"
      ],
      "metadata": {
        "id": "XD6AaCAT6dr8"
      }
    },
    {
      "cell_type": "code",
      "source": [
        "valid_date = valid.iloc[cfg.data.lookback_window-1:-cfg.data.lookahead_window].Date\n",
        "visual_y_data = y_data.reshape(-1,)\n",
        "visual_preds = preds.reshape(-1,)\n",
        "\n",
        "plt.figure(figsize=(20,6))\n",
        "plt.plot(valid_date, visual_preds, '-ob', label='prediction')\n",
        "plt.plot(valid_date, visual_y_data, '-or', label='Truth')\n",
        "plt.title(f'Comparison between model prediction and Ground Truth Using {cfg.base.model_name} (Rate of Return)',size=20)\n",
        "plt.legend()\n",
        "plt.show()"
      ],
      "metadata": {
        "colab": {
          "base_uri": "https://localhost:8080/",
          "height": 385
        },
        "id": "yBXQ2EWv6ewM",
        "outputId": "3380e16d-ce8f-4665-fbc6-08c29ef01f43"
      },
      "execution_count": 13,
      "outputs": [
        {
          "output_type": "display_data",
          "data": {
            "text/plain": [
              "<Figure size 2000x600 with 1 Axes>"
            ],
            "image/png": "[encoded data removed]"
          },
          "metadata": {}
        }
      ]
    },
    {
      "cell_type": "code",
      "source": [
        "valid_date = valid.iloc[cfg.data.lookback_window-1:-cfg.data.lookahead_window].Date\n",
        "visual_y_data = y_data.reshape(-1,)\n",
        "visual_preds = preds.reshape(-1,)\n",
        "\n",
        "plt.figure(figsize=(20,6))\n",
        "plt.plot(valid_date, visual_preds, '-ob', label='prediction')\n",
        "plt.plot(valid_date, visual_y_data, '-or', label='Truth')\n",
        "plt.title(f'Comparison between model prediction and Ground Truth Using {cfg.base.model_name} (Rate of Return)',size=20)\n",
        "plt.legend()\n",
        "plt.show()"
      ],
      "metadata": {
        "colab": {
          "base_uri": "https://localhost:8080/",
          "height": 387
        },
        "id": "zHx-XOs87J4J",
        "outputId": "63e84102-9373-4e28-c22f-7a9d0ffed51f"
      },
      "execution_count": 20,
      "outputs": [
        {
          "output_type": "display_data",
          "data": {
            "text/plain": [
              "<Figure size 2000x600 with 1 Axes>"
            ],
            "image/png": "[encoded data removed]"
          },
          "metadata": {}
        }
      ]
    },
    {
      "cell_type": "markdown",
      "source": [
        "# Future Work\n",
        "\n",
        "- 수익률 값이 애초에 너무 작기에 Loss가 제대로 먹히지 않는 느낌이다. 해결책은 찾아보자.\n",
        "- Feature를 추가해본다.\n",
        "- 교차검증을 시도한다.\n",
        "- Model hyperparameter를 조정해본다."
      ],
      "metadata": {
        "id": "8FGtZJN27Rkg"
      }
    }
  ]
}