{
 "cells": [
  {
   "cell_type": "code",
   "execution_count": 126,
   "metadata": {},
   "outputs": [],
   "source": [
    "import pandas as pd\n",
    "import numpy as np\n",
    "# import yfinance as yf\n",
    "from pandas_datareader import data as pdr\n",
    "import matplotlib.pyplot as plt\n",
    "\n",
    "\n",
    "raw_train = pd.read_csv('KOSPI.csv')\n"
   ]
  },
  {
   "cell_type": "code",
   "execution_count": null,
   "metadata": {},
   "outputs": [],
   "source": [
    "\n",
    "#필요없는 열 삭제\n",
    "raw_train = raw_train.drop(['Vol.','Change %'], axis=1)\n",
    "\n",
    "#열 이름 바꾸기\n",
    "raw_train = raw_train.rename(columns={'Date':'date', 'Price':'close', 'Open':'open', 'High':'high','Low':'low'})\n",
    "\n",
    "\n",
    "\n",
    "# 데이터에 , 없애는 코드 \n",
    "raw_train['close']=raw_train['close'].str.replace(',','')\n",
    "raw_train['open']=raw_train['open'].str.replace(',','')\n",
    "raw_train['high']=raw_train['high'].str.replace(',','')\n",
    "raw_train['low']=raw_train['low'].str.replace(',','')\n",
    "\n",
    "\n",
    "\n",
    "# 다 자료형이 object라 자료형 변환시키기\n",
    "raw_train = raw_train.astype({'close':'float','open':'float','high':'float','low':'float'})"
   ]
  },
  {
   "cell_type": "code",
   "execution_count": 128,
   "metadata": {},
   "outputs": [],
   "source": [
    "#date열 str에서 datetime형으로 변환\n",
    "raw_train['date'] = pd.to_datetime(raw_train['date'])\n",
    "\n",
    "\n",
    "#date를 인덱스로 지정하기\n",
    "raw_train.set_index('date', inplace= True)\n"
   ]
  },
  {
   "cell_type": "code",
   "execution_count": 185,
   "metadata": {},
   "outputs": [
    {
     "data": {
      "text/html": [
       "<div>\n",
       "<style scoped>\n",
       "    .dataframe tbody tr th:only-of-type {\n",
       "        vertical-align: middle;\n",
       "    }\n",
       "\n",
       "    .dataframe tbody tr th {\n",
       "        vertical-align: top;\n",
       "    }\n",
       "\n",
       "    .dataframe thead th {\n",
       "        text-align: right;\n",
       "    }\n",
       "</style>\n",
       "<table border=\"1\" class=\"dataframe\">\n",
       "  <thead>\n",
       "    <tr style=\"text-align: right;\">\n",
       "      <th></th>\n",
       "      <th>date</th>\n",
       "      <th>close</th>\n",
       "      <th>open</th>\n",
       "      <th>high</th>\n",
       "      <th>low</th>\n",
       "    </tr>\n",
       "  </thead>\n",
       "  <tbody>\n",
       "    <tr>\n",
       "      <th>0</th>\n",
       "      <td>2017-01-02</td>\n",
       "      <td>2026.16</td>\n",
       "      <td>2022.23</td>\n",
       "      <td>2031.79</td>\n",
       "      <td>2015.68</td>\n",
       "    </tr>\n",
       "    <tr>\n",
       "      <th>1</th>\n",
       "      <td>2017-01-03</td>\n",
       "      <td>2043.97</td>\n",
       "      <td>2034.31</td>\n",
       "      <td>2044.07</td>\n",
       "      <td>2028.47</td>\n",
       "    </tr>\n",
       "    <tr>\n",
       "      <th>2</th>\n",
       "      <td>2017-01-04</td>\n",
       "      <td>2045.64</td>\n",
       "      <td>2046.29</td>\n",
       "      <td>2046.29</td>\n",
       "      <td>2040.61</td>\n",
       "    </tr>\n",
       "    <tr>\n",
       "      <th>3</th>\n",
       "      <td>2017-01-05</td>\n",
       "      <td>2041.95</td>\n",
       "      <td>2045.52</td>\n",
       "      <td>2046.50</td>\n",
       "      <td>2039.49</td>\n",
       "    </tr>\n",
       "    <tr>\n",
       "      <th>4</th>\n",
       "      <td>2017-01-06</td>\n",
       "      <td>2049.12</td>\n",
       "      <td>2048.11</td>\n",
       "      <td>2051.84</td>\n",
       "      <td>2045.66</td>\n",
       "    </tr>\n",
       "    <tr>\n",
       "      <th>...</th>\n",
       "      <td>...</td>\n",
       "      <td>...</td>\n",
       "      <td>...</td>\n",
       "      <td>...</td>\n",
       "      <td>...</td>\n",
       "    </tr>\n",
       "    <tr>\n",
       "      <th>1470</th>\n",
       "      <td>2022-12-23</td>\n",
       "      <td>2313.69</td>\n",
       "      <td>2325.86</td>\n",
       "      <td>2333.08</td>\n",
       "      <td>2311.90</td>\n",
       "    </tr>\n",
       "    <tr>\n",
       "      <th>1471</th>\n",
       "      <td>2022-12-26</td>\n",
       "      <td>2317.14</td>\n",
       "      <td>2312.54</td>\n",
       "      <td>2321.92</td>\n",
       "      <td>2304.20</td>\n",
       "    </tr>\n",
       "    <tr>\n",
       "      <th>1472</th>\n",
       "      <td>2022-12-27</td>\n",
       "      <td>2332.79</td>\n",
       "      <td>2327.52</td>\n",
       "      <td>2335.99</td>\n",
       "      <td>2321.48</td>\n",
       "    </tr>\n",
       "    <tr>\n",
       "      <th>1473</th>\n",
       "      <td>2022-12-28</td>\n",
       "      <td>2280.45</td>\n",
       "      <td>2296.45</td>\n",
       "      <td>2296.45</td>\n",
       "      <td>2276.90</td>\n",
       "    </tr>\n",
       "    <tr>\n",
       "      <th>1474</th>\n",
       "      <td>2022-12-29</td>\n",
       "      <td>2236.40</td>\n",
       "      <td>2265.73</td>\n",
       "      <td>2272.67</td>\n",
       "      <td>2236.38</td>\n",
       "    </tr>\n",
       "  </tbody>\n",
       "</table>\n",
       "<p>1475 rows × 5 columns</p>\n",
       "</div>"
      ],
      "text/plain": [
       "           date    close     open     high      low\n",
       "0    2017-01-02  2026.16  2022.23  2031.79  2015.68\n",
       "1    2017-01-03  2043.97  2034.31  2044.07  2028.47\n",
       "2    2017-01-04  2045.64  2046.29  2046.29  2040.61\n",
       "3    2017-01-05  2041.95  2045.52  2046.50  2039.49\n",
       "4    2017-01-06  2049.12  2048.11  2051.84  2045.66\n",
       "...         ...      ...      ...      ...      ...\n",
       "1470 2022-12-23  2313.69  2325.86  2333.08  2311.90\n",
       "1471 2022-12-26  2317.14  2312.54  2321.92  2304.20\n",
       "1472 2022-12-27  2332.79  2327.52  2335.99  2321.48\n",
       "1473 2022-12-28  2280.45  2296.45  2296.45  2276.90\n",
       "1474 2022-12-29  2236.40  2265.73  2272.67  2236.38\n",
       "\n",
       "[1475 rows x 5 columns]"
      ]
     },
     "execution_count": 185,
     "metadata": {},
     "output_type": "execute_result"
    }
   ],
   "source": [
    "raw_train.reset_index()"
   ]
  },
  {
   "cell_type": "code",
   "execution_count": 31,
   "metadata": {},
   "outputs": [],
   "source": [
    "import ta\n",
    "close = raw_train['close']\n",
    "rsi = ta.momentum.rsi(close)\n",
    "macd = ta.trend.macd(close)\n",
    "macdsignal = ta.trend.macd_signal(close)\n",
    "bol_h = ta.volatility.bollinger_hband(close)\n",
    "bol_avg = ta.volatility.bollinger_mavg(close)\n",
    "bol_l = ta.volatility.bollinger_lband(close)\n"
   ]
  },
  {
   "cell_type": "code",
   "execution_count": 53,
   "metadata": {},
   "outputs": [
    {
     "data": {
      "text/plain": [
       "date\n",
       "2017-01-02   -16.745712\n",
       "2017-01-03     0.879003\n",
       "2017-01-04     0.081704\n",
       "2017-01-05    -0.180384\n",
       "2017-01-06     0.351135\n",
       "                ...    \n",
       "2022-12-23    -1.826259\n",
       "2022-12-26     0.149112\n",
       "2022-12-27     0.675402\n",
       "2022-12-28    -2.243665\n",
       "2022-12-29    -1.931636\n",
       "Name: d_ret, Length: 1475, dtype: float64"
      ]
     },
     "execution_count": 53,
     "metadata": {},
     "output_type": "execute_result"
    }
   ],
   "source": [
    "returns= ta.others.daily_return(close)\n",
    "returns"
   ]
  },
  {
   "cell_type": "code",
   "execution_count": 204,
   "metadata": {},
   "outputs": [],
   "source": [
    "df_list = [raw_train, rsi, macd, macdsignal, bol_h, bol_avg, bol_l,returns]\n",
    "df_all = pd.concat(df_list, axis=1)"
   ]
  },
  {
   "cell_type": "code",
   "execution_count": 205,
   "metadata": {},
   "outputs": [],
   "source": [
    "df_all = df_all.astype(\"float\")"
   ]
  },
  {
   "cell_type": "code",
   "execution_count": 210,
   "metadata": {},
   "outputs": [],
   "source": [
    "df_all = df_all.reset_index()"
   ]
  },
  {
   "cell_type": "code",
   "execution_count": 207,
   "metadata": {},
   "outputs": [],
   "source": [
    "df_all['date_']=df_all['date'].dt.strftime('%Y%m')"
   ]
  },
  {
   "cell_type": "code",
   "execution_count": 208,
   "metadata": {},
   "outputs": [],
   "source": [
    "df_all.set_index(\"date\", inplace=True)"
   ]
  },
  {
   "cell_type": "code",
   "execution_count": 209,
   "metadata": {},
   "outputs": [],
   "source": [
    "df_all.rename(columns={\"date\":\"date_\"}, inplace=True)"
   ]
  },
  {
   "cell_type": "code",
   "execution_count": 193,
   "metadata": {},
   "outputs": [],
   "source": [
    "# import pandas as pd\n",
    "# xlsx = pd.read_excel(\"CSI.xlsx\")\n",
    "# xlsx.to_csv(\"CSI.csv\")\n",
    "df5 = pd.read_csv(\"CSI.csv\", header=1)"
   ]
  },
  {
   "cell_type": "code",
   "execution_count": 172,
   "metadata": {},
   "outputs": [],
   "source": [
    "df5 = setup(df5)"
   ]
  },
  {
   "cell_type": "code",
   "execution_count": 211,
   "metadata": {},
   "outputs": [],
   "source": [
    "#월별데이터 일별데이터에 붙이기\n",
    "def setup(df):\n",
    "    # df = pd.read_csv(df, header=1)\n",
    "    df = df.transpose()\n",
    "    df = df.iloc[2:,:2]\n",
    "    df.set_index(df.iloc[:,0],inplace=True)\n",
    "    df.columns=['Date','CSI']\n",
    "    df['date_']=df['Date'].astype(\"string\")\n",
    "    df['date_']=df['date_'].str.replace(\"월\",\"\")\n",
    "    df.drop('Date',axis=1,inplace=True)\n",
    "    return df\n",
    "\n",
    "#후처리\n",
    "def wrap(df):\n",
    "    global df_all\n",
    "    df1 = setup(df)\n",
    "    result_df = pd.merge(df_all, df1, on='date_', how='left')\n",
    "    # result_df = result_df.drop(['Unnamed: 0'], axis=1)\n",
    "    return result_df"
   ]
  },
  {
   "cell_type": "code",
   "execution_count": 212,
   "metadata": {},
   "outputs": [],
   "source": [
    "CSI = wrap(df5)"
   ]
  },
  {
   "cell_type": "code",
   "execution_count": 214,
   "metadata": {},
   "outputs": [],
   "source": [
    "result_df = CSI.set_index(\"date\")"
   ]
  },
  {
   "cell_type": "code",
   "execution_count": 216,
   "metadata": {},
   "outputs": [
    {
     "name": "stdout",
     "output_type": "stream",
     "text": [
      "<class 'pandas.core.frame.DataFrame'>\n",
      "DatetimeIndex: 1475 entries, 2017-01-02 to 2022-12-29\n",
      "Data columns (total 13 columns):\n",
      " #   Column           Non-Null Count  Dtype  \n",
      "---  ------           --------------  -----  \n",
      " 0   close            1475 non-null   float64\n",
      " 1   open             1475 non-null   float64\n",
      " 2   high             1475 non-null   float64\n",
      " 3   low              1475 non-null   float64\n",
      " 4   rsi              1462 non-null   float64\n",
      " 5   MACD_12_26       1450 non-null   float64\n",
      " 6   MACD_sign_12_26  1442 non-null   float64\n",
      " 7   hband            1456 non-null   float64\n",
      " 8   mavg             1456 non-null   float64\n",
      " 9   lband            1456 non-null   float64\n",
      " 10  d_ret            1475 non-null   float64\n",
      " 11  date_            1475 non-null   object \n",
      " 12  CSI              1475 non-null   object \n",
      "dtypes: float64(11), object(2)\n",
      "memory usage: 161.3+ KB\n"
     ]
    }
   ],
   "source": [
    "result_df.info()"
   ]
  },
  {
   "cell_type": "code",
   "execution_count": 217,
   "metadata": {},
   "outputs": [],
   "source": [
    "result_df = result_df.drop(['date_'], axis=1)"
   ]
  },
  {
   "cell_type": "code",
   "execution_count": 220,
   "metadata": {},
   "outputs": [],
   "source": [
    "result_df = result_df.astype(\"float\")"
   ]
  },
  {
   "cell_type": "code",
   "execution_count": 221,
   "metadata": {},
   "outputs": [
    {
     "data": {
      "text/plain": [
       "close               0\n",
       "open                0\n",
       "high                0\n",
       "low                 0\n",
       "rsi                13\n",
       "MACD_12_26         25\n",
       "MACD_sign_12_26    33\n",
       "hband              19\n",
       "mavg               19\n",
       "lband              19\n",
       "d_ret               0\n",
       "CSI                 0\n",
       "dtype: int64"
      ]
     },
     "execution_count": 221,
     "metadata": {},
     "output_type": "execute_result"
    }
   ],
   "source": [
    "result_df.isnull().sum()"
   ]
  },
  {
   "cell_type": "code",
   "execution_count": 236,
   "metadata": {},
   "outputs": [],
   "source": [
    "result_df.lband.fillna(result_df.lband.mean(),inplace = True)"
   ]
  },
  {
   "cell_type": "code",
   "execution_count": 235,
   "metadata": {},
   "outputs": [
    {
     "data": {
      "image/png": "[encoded data removed]",
      "text/plain": [
       "<Figure size 640x480 with 1 Axes>"
      ]
     },
     "metadata": {},
     "output_type": "display_data"
    }
   ],
   "source": [
    "sns.set_style('white')\n",
    "sns.set_palette('cividis')\n",
    "result_df['lband'].plot();"
   ]
  },
  {
   "cell_type": "code",
   "execution_count": 238,
   "metadata": {},
   "outputs": [
    {
     "data": {
      "text/plain": [
       "close              0\n",
       "open               0\n",
       "high               0\n",
       "low                0\n",
       "rsi                0\n",
       "MACD_12_26         0\n",
       "MACD_sign_12_26    0\n",
       "hband              0\n",
       "mavg               0\n",
       "lband              0\n",
       "d_ret              0\n",
       "CSI                0\n",
       "dtype: int64"
      ]
     },
     "execution_count": 238,
     "metadata": {},
     "output_type": "execute_result"
    }
   ],
   "source": [
    "result_df.isnull().sum()"
   ]
  },
  {
   "cell_type": "code",
   "execution_count": 239,
   "metadata": {},
   "outputs": [],
   "source": [
    "result_df.to_csv(\"raw_train.csv\")"
   ]
  },
  {
   "cell_type": "code",
   "execution_count": null,
   "metadata": {},
   "outputs": [],
   "source": []
  }
 ],
 "metadata": {
  "kernelspec": {
   "display_name": "base",
   "language": "python",
   "name": "python3"
  },
  "language_info": {
   "codemirror_mode": {
    "name": "ipython",
    "version": 3
   },
   "file_extension": ".py",
   "mimetype": "text/x-python",
   "name": "python",
   "nbconvert_exporter": "python",
   "pygments_lexer": "ipython3",
   "version": "3.10.9"
  },
  "orig_nbformat": 4
 },
 "nbformat": 4,
 "nbformat_minor": 2
}
