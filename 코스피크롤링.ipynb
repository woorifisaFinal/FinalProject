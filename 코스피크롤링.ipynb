{
 "cells": [
  {
   "cell_type": "code",
   "execution_count": 9,
   "metadata": {
    "colab": {
     "base_uri": "https://localhost:8080/"
    },
    "id": "lKgr7kuwtm8h",
    "outputId": "0b9f3e2a-9ac2-4d19-bfd4-4e3b2a9063f9"
   },
   "outputs": [
    {
     "name": "stdout",
     "output_type": "stream",
     "text": [
      "Requirement already satisfied: selenium in c:\\users\\bgmun\\appdata\\local\\programs\\python\\python39\\lib\\site-packages (4.11.2)\n",
      "Requirement already satisfied: trio~=0.17 in c:\\users\\bgmun\\appdata\\local\\programs\\python\\python39\\lib\\site-packages (from selenium) (0.22.2)\n",
      "Requirement already satisfied: trio-websocket~=0.9 in c:\\users\\bgmun\\appdata\\local\\programs\\python\\python39\\lib\\site-packages (from selenium) (0.10.3)\n",
      "Requirement already satisfied: urllib3[socks]<3,>=1.26 in c:\\users\\bgmun\\appdata\\local\\programs\\python\\python39\\lib\\site-packages (from selenium) (2.0.4)\n",
      "Requirement already satisfied: certifi>=2021.10.8 in c:\\users\\bgmun\\appdata\\local\\programs\\python\\python39\\lib\\site-packages (from selenium) (2023.7.22)\n",
      "Requirement already satisfied: outcome in c:\\users\\bgmun\\appdata\\local\\programs\\python\\python39\\lib\\site-packages (from trio~=0.17->selenium) (1.2.0)\n",
      "Requirement already satisfied: exceptiongroup>=1.0.0rc9 in c:\\users\\bgmun\\appdata\\local\\programs\\python\\python39\\lib\\site-packages (from trio~=0.17->selenium) (1.1.1)\n",
      "Requirement already satisfied: sniffio in c:\\users\\bgmun\\appdata\\local\\programs\\python\\python39\\lib\\site-packages (from trio~=0.17->selenium) (1.3.0)\n",
      "Requirement already satisfied: attrs>=20.1.0 in c:\\users\\bgmun\\appdata\\local\\programs\\python\\python39\\lib\\site-packages (from trio~=0.17->selenium) (23.1.0)\n",
      "Requirement already satisfied: cffi>=1.14 in c:\\users\\bgmun\\appdata\\local\\programs\\python\\python39\\lib\\site-packages (from trio~=0.17->selenium) (1.15.1)\n",
      "Requirement already satisfied: sortedcontainers in c:\\users\\bgmun\\appdata\\local\\programs\\python\\python39\\lib\\site-packages (from trio~=0.17->selenium) (2.4.0)\n",
      "Requirement already satisfied: idna in c:\\users\\bgmun\\appdata\\local\\programs\\python\\python39\\lib\\site-packages (from trio~=0.17->selenium) (3.4)\n",
      "Requirement already satisfied: pycparser in c:\\users\\bgmun\\appdata\\local\\programs\\python\\python39\\lib\\site-packages (from cffi>=1.14->trio~=0.17->selenium) (2.21)\n",
      "Requirement already satisfied: wsproto>=0.14 in c:\\users\\bgmun\\appdata\\local\\programs\\python\\python39\\lib\\site-packages (from trio-websocket~=0.9->selenium) (1.2.0)\n",
      "Requirement already satisfied: pysocks!=1.5.7,<2.0,>=1.5.6 in c:\\users\\bgmun\\appdata\\local\\programs\\python\\python39\\lib\\site-packages (from urllib3[socks]<3,>=1.26->selenium) (1.7.1)\n",
      "Requirement already satisfied: h11<1,>=0.9.0 in c:\\users\\bgmun\\appdata\\local\\programs\\python\\python39\\lib\\site-packages (from wsproto>=0.14->trio-websocket~=0.9->selenium) (0.14.0)\n"
     ]
    },
    {
     "name": "stderr",
     "output_type": "stream",
     "text": [
      "WARNING: You are using pip version 21.2.3; however, version 23.2.1 is available.\n",
      "You should consider upgrading via the 'C:\\Users\\bgmun\\AppData\\Local\\Programs\\Python\\Python39\\python.exe -m pip install --upgrade pip' command.\n"
     ]
    }
   ],
   "source": [
    "#필요한 라이브러리들 설치\n",
    "!pip install selenium"
   ]
  },
  {
   "cell_type": "code",
   "execution_count": 10,
   "metadata": {
    "id": "Ot_zXKCHtnF3"
   },
   "outputs": [],
   "source": [
    "from selenium import webdriver\n",
    "from selenium.webdriver.common.by import By"
   ]
  },
  {
   "cell_type": "code",
   "execution_count": 11,
   "metadata": {
    "id": "wkW3yBYYx-Vc"
   },
   "outputs": [],
   "source": [
    "import selenium\n",
    "from selenium import webdriver\n",
    "from selenium.webdriver.chrome.service import Service"
   ]
  },
  {
   "cell_type": "code",
   "execution_count": 12,
   "metadata": {
    "id": "cxGLciSZwYxB"
   },
   "outputs": [],
   "source": [
    "from selenium import webdriver\n",
    "\n",
    "# chromedriver 실행 파일의 경로를 지정합니다\n",
    "executable_path = r'C:\\Users\\Admin\\Downloads\\chromedriver.exe'  # 여기에 실제 chromedriver 경로를 업데이트하세요\n",
    "\n",
    "# Chrome 옵션 설정\n",
    "options = webdriver.ChromeOptions()\n",
    "options.add_argument('--headless')\n",
    "options.add_argument('--no-sandbox')\n",
    "options.add_argument('--disable-dev-shm-usage')\n",
    "\n",
    "# Chrome을 사용하여 WebDriver 인스턴스 생성 \n",
    "# 이부분은 주피터랩 환경과 코랩환경이 조금 달라서 코랩에선 안돌아 갈거에유\n",
    "driver = webdriver.Chrome(options=options)\n"
   ]
  },
  {
   "cell_type": "code",
   "execution_count": 13,
   "metadata": {},
   "outputs": [],
   "source": [
    "#아마 코랩에서 돌리시려면 밑에거 주석처리 해제하시고 하면 될겁니덩!\n",
    "# !pip install selenium\n",
    "# !apt-get update\n",
    "# !apt install chromium-chromedriver\n",
    "# !cp /usr/lib/chromium-browser/chromedriver /usr/bin\n",
    "# service = Service(executable_path=r'/usr/bin/chromedriver')\n",
    "# options = webdriver.ChromeOptions()\n",
    "# options.add_argument('--headless')\n",
    "# options.add_argument('--no-sandbox')\n",
    "# options.add_argument('--disable-dev-shm-usage')\n",
    "# driver = webdriver.Chrome(options=options)\n",
    "# #driver.maximize_window()\n"
   ]
  },
  {
   "cell_type": "code",
   "execution_count": 14,
   "metadata": {
    "id": "daqolKnfw3_a"
   },
   "outputs": [],
   "source": [
    "import pandas as pd"
   ]
  },
  {
   "cell_type": "code",
   "execution_count": 15,
   "metadata": {
    "scrolled": true
   },
   "outputs": [
    {
     "name": "stdout",
     "output_type": "stream",
     "text": [
      "Requirement already satisfied: yfinance in c:\\users\\bgmun\\appdata\\local\\programs\\python\\python39\\lib\\site-packages (0.2.27)\n",
      "Requirement already satisfied: html5lib>=1.1 in c:\\users\\bgmun\\appdata\\local\\programs\\python\\python39\\lib\\site-packages (from yfinance) (1.1)\n",
      "Requirement already satisfied: appdirs>=1.4.4 in c:\\users\\bgmun\\appdata\\local\\programs\\python\\python39\\lib\\site-packages (from yfinance) (1.4.4)\n",
      "Requirement already satisfied: lxml>=4.9.1 in c:\\users\\bgmun\\appdata\\local\\programs\\python\\python39\\lib\\site-packages (from yfinance) (4.9.3)\n",
      "Requirement already satisfied: beautifulsoup4>=4.11.1 in c:\\users\\bgmun\\appdata\\local\\programs\\python\\python39\\lib\\site-packages (from yfinance) (4.12.2)\n",
      "Requirement already satisfied: multitasking>=0.0.7 in c:\\users\\bgmun\\appdata\\local\\programs\\python\\python39\\lib\\site-packages (from yfinance) (0.0.11)\n",
      "Requirement already satisfied: frozendict>=2.3.4 in c:\\users\\bgmun\\appdata\\local\\programs\\python\\python39\\lib\\site-packages (from yfinance) (2.3.8)\n",
      "Requirement already satisfied: pytz>=2022.5 in c:\\users\\bgmun\\appdata\\local\\programs\\python\\python39\\lib\\site-packages (from yfinance) (2023.3)\n",
      "Requirement already satisfied: requests>=2.31 in c:\\users\\bgmun\\appdata\\local\\programs\\python\\python39\\lib\\site-packages (from yfinance) (2.31.0)\n",
      "Requirement already satisfied: numpy>=1.16.5 in c:\\users\\bgmun\\appdata\\local\\programs\\python\\python39\\lib\\site-packages (from yfinance) (1.25.1)\n",
      "Requirement already satisfied: pandas>=1.3.0 in c:\\users\\bgmun\\appdata\\local\\programs\\python\\python39\\lib\\site-packages (from yfinance) (2.0.3)\n",
      "Requirement already satisfied: soupsieve>1.2 in c:\\users\\bgmun\\appdata\\local\\programs\\python\\python39\\lib\\site-packages (from beautifulsoup4>=4.11.1->yfinance) (2.4.1)\n",
      "Requirement already satisfied: webencodings in c:\\users\\bgmun\\appdata\\local\\programs\\python\\python39\\lib\\site-packages (from html5lib>=1.1->yfinance) (0.5.1)\n",
      "Requirement already satisfied: six>=1.9 in c:\\users\\bgmun\\appdata\\local\\programs\\python\\python39\\lib\\site-packages (from html5lib>=1.1->yfinance) (1.16.0)\n",
      "Requirement already satisfied: python-dateutil>=2.8.2 in c:\\users\\bgmun\\appdata\\local\\programs\\python\\python39\\lib\\site-packages (from pandas>=1.3.0->yfinance) (2.8.2)\n",
      "Requirement already satisfied: tzdata>=2022.1 in c:\\users\\bgmun\\appdata\\local\\programs\\python\\python39\\lib\\site-packages (from pandas>=1.3.0->yfinance) (2023.3)\n",
      "Requirement already satisfied: certifi>=2017.4.17 in c:\\users\\bgmun\\appdata\\local\\programs\\python\\python39\\lib\\site-packages (from requests>=2.31->yfinance) (2023.7.22)\n",
      "Requirement already satisfied: charset-normalizer<4,>=2 in c:\\users\\bgmun\\appdata\\local\\programs\\python\\python39\\lib\\site-packages (from requests>=2.31->yfinance) (3.2.0)\n",
      "Requirement already satisfied: urllib3<3,>=1.21.1 in c:\\users\\bgmun\\appdata\\local\\programs\\python\\python39\\lib\\site-packages (from requests>=2.31->yfinance) (2.0.4)\n",
      "Requirement already satisfied: idna<4,>=2.5 in c:\\users\\bgmun\\appdata\\local\\programs\\python\\python39\\lib\\site-packages (from requests>=2.31->yfinance) (3.4)\n",
      "Note: you may need to restart the kernel to use updated packages.\n"
     ]
    },
    {
     "name": "stderr",
     "output_type": "stream",
     "text": [
      "WARNING: You are using pip version 21.2.3; however, version 23.2.1 is available.\n",
      "You should consider upgrading via the 'C:\\Users\\bgmun\\AppData\\Local\\Programs\\Python\\Python39\\python.exe -m pip install --upgrade pip' command.\n"
     ]
    }
   ],
   "source": [
    "pip install yfinance"
   ]
  },
  {
   "cell_type": "code",
   "execution_count": 16,
   "metadata": {
    "id": "kn8ELoBsBVKr"
   },
   "outputs": [],
   "source": [
    "#주식데이터 불러오기 일단 그냥 불러와 봤습니다 하하 나중에 감성분석 한거랑 붙일려구요 ! \n",
    "import yfinance as yf"
   ]
  },
  {
   "cell_type": "code",
   "execution_count": 17,
   "metadata": {
    "colab": {
     "base_uri": "https://localhost:8080/"
    },
    "id": "nkPL6jv4CfLz",
    "outputId": "d510b5a0-17af-4412-fbc8-505143738747"
   },
   "outputs": [
    {
     "name": "stdout",
     "output_type": "stream",
     "text": [
      "[*********************100%***********************]  1 of 1 completed\n"
     ]
    }
   ],
   "source": [
    "data = yf.download(\"^KS11\", start=\"2018-01-01\", end=\"2023-08-01\")"
   ]
  },
  {
   "cell_type": "code",
   "execution_count": 18,
   "metadata": {
    "colab": {
     "base_uri": "https://localhost:8080/",
     "height": 455
    },
    "id": "qGGrjwokCnMK",
    "outputId": "124e6847-2ba1-48b9-b91a-26775a85f994"
   },
   "outputs": [
    {
     "data": {
      "text/html": [
       "<div>\n",
       "<style scoped>\n",
       "    .dataframe tbody tr th:only-of-type {\n",
       "        vertical-align: middle;\n",
       "    }\n",
       "\n",
       "    .dataframe tbody tr th {\n",
       "        vertical-align: top;\n",
       "    }\n",
       "\n",
       "    .dataframe thead th {\n",
       "        text-align: right;\n",
       "    }\n",
       "</style>\n",
       "<table border=\"1\" class=\"dataframe\">\n",
       "  <thead>\n",
       "    <tr style=\"text-align: right;\">\n",
       "      <th></th>\n",
       "      <th>Open</th>\n",
       "      <th>High</th>\n",
       "      <th>Low</th>\n",
       "      <th>Close</th>\n",
       "      <th>Adj Close</th>\n",
       "      <th>Volume</th>\n",
       "    </tr>\n",
       "    <tr>\n",
       "      <th>Date</th>\n",
       "      <th></th>\n",
       "      <th></th>\n",
       "      <th></th>\n",
       "      <th></th>\n",
       "      <th></th>\n",
       "      <th></th>\n",
       "    </tr>\n",
       "  </thead>\n",
       "  <tbody>\n",
       "    <tr>\n",
       "      <th>2018-01-02</th>\n",
       "      <td>2474.860107</td>\n",
       "      <td>2481.020020</td>\n",
       "      <td>2465.939941</td>\n",
       "      <td>2479.649902</td>\n",
       "      <td>2479.649902</td>\n",
       "      <td>262200</td>\n",
       "    </tr>\n",
       "    <tr>\n",
       "      <th>2018-01-03</th>\n",
       "      <td>2484.629883</td>\n",
       "      <td>2493.399902</td>\n",
       "      <td>2481.909912</td>\n",
       "      <td>2486.350098</td>\n",
       "      <td>2486.350098</td>\n",
       "      <td>331100</td>\n",
       "    </tr>\n",
       "    <tr>\n",
       "      <th>2018-01-04</th>\n",
       "      <td>2502.500000</td>\n",
       "      <td>2502.500000</td>\n",
       "      <td>2466.449951</td>\n",
       "      <td>2466.459961</td>\n",
       "      <td>2466.459961</td>\n",
       "      <td>333800</td>\n",
       "    </tr>\n",
       "    <tr>\n",
       "      <th>2018-01-05</th>\n",
       "      <td>2476.850098</td>\n",
       "      <td>2497.520020</td>\n",
       "      <td>2475.510010</td>\n",
       "      <td>2497.520020</td>\n",
       "      <td>2497.520020</td>\n",
       "      <td>308800</td>\n",
       "    </tr>\n",
       "    <tr>\n",
       "      <th>2018-01-08</th>\n",
       "      <td>2510.699951</td>\n",
       "      <td>2515.370117</td>\n",
       "      <td>2494.179932</td>\n",
       "      <td>2513.280029</td>\n",
       "      <td>2513.280029</td>\n",
       "      <td>311400</td>\n",
       "    </tr>\n",
       "    <tr>\n",
       "      <th>...</th>\n",
       "      <td>...</td>\n",
       "      <td>...</td>\n",
       "      <td>...</td>\n",
       "      <td>...</td>\n",
       "      <td>...</td>\n",
       "      <td>...</td>\n",
       "    </tr>\n",
       "    <tr>\n",
       "      <th>2023-07-25</th>\n",
       "      <td>2643.350098</td>\n",
       "      <td>2646.709961</td>\n",
       "      <td>2621.600098</td>\n",
       "      <td>2636.459961</td>\n",
       "      <td>2636.459961</td>\n",
       "      <td>721500</td>\n",
       "    </tr>\n",
       "    <tr>\n",
       "      <th>2023-07-26</th>\n",
       "      <td>2638.760010</td>\n",
       "      <td>2639.209961</td>\n",
       "      <td>2580.979980</td>\n",
       "      <td>2592.360107</td>\n",
       "      <td>2592.360107</td>\n",
       "      <td>830100</td>\n",
       "    </tr>\n",
       "    <tr>\n",
       "      <th>2023-07-27</th>\n",
       "      <td>2599.820068</td>\n",
       "      <td>2617.610107</td>\n",
       "      <td>2586.360107</td>\n",
       "      <td>2603.810059</td>\n",
       "      <td>2603.810059</td>\n",
       "      <td>591900</td>\n",
       "    </tr>\n",
       "    <tr>\n",
       "      <th>2023-07-28</th>\n",
       "      <td>2593.669922</td>\n",
       "      <td>2609.540039</td>\n",
       "      <td>2586.330078</td>\n",
       "      <td>2608.320068</td>\n",
       "      <td>2608.320068</td>\n",
       "      <td>497300</td>\n",
       "    </tr>\n",
       "    <tr>\n",
       "      <th>2023-07-31</th>\n",
       "      <td>2628.870117</td>\n",
       "      <td>2639.449951</td>\n",
       "      <td>2622.209961</td>\n",
       "      <td>2632.580078</td>\n",
       "      <td>2632.580078</td>\n",
       "      <td>454200</td>\n",
       "    </tr>\n",
       "  </tbody>\n",
       "</table>\n",
       "<p>1374 rows × 6 columns</p>\n",
       "</div>"
      ],
      "text/plain": [
       "                   Open         High          Low        Close    Adj Close  \\\n",
       "Date                                                                          \n",
       "2018-01-02  2474.860107  2481.020020  2465.939941  2479.649902  2479.649902   \n",
       "2018-01-03  2484.629883  2493.399902  2481.909912  2486.350098  2486.350098   \n",
       "2018-01-04  2502.500000  2502.500000  2466.449951  2466.459961  2466.459961   \n",
       "2018-01-05  2476.850098  2497.520020  2475.510010  2497.520020  2497.520020   \n",
       "2018-01-08  2510.699951  2515.370117  2494.179932  2513.280029  2513.280029   \n",
       "...                 ...          ...          ...          ...          ...   \n",
       "2023-07-25  2643.350098  2646.709961  2621.600098  2636.459961  2636.459961   \n",
       "2023-07-26  2638.760010  2639.209961  2580.979980  2592.360107  2592.360107   \n",
       "2023-07-27  2599.820068  2617.610107  2586.360107  2603.810059  2603.810059   \n",
       "2023-07-28  2593.669922  2609.540039  2586.330078  2608.320068  2608.320068   \n",
       "2023-07-31  2628.870117  2639.449951  2622.209961  2632.580078  2632.580078   \n",
       "\n",
       "            Volume  \n",
       "Date                \n",
       "2018-01-02  262200  \n",
       "2018-01-03  331100  \n",
       "2018-01-04  333800  \n",
       "2018-01-05  308800  \n",
       "2018-01-08  311400  \n",
       "...            ...  \n",
       "2023-07-25  721500  \n",
       "2023-07-26  830100  \n",
       "2023-07-27  591900  \n",
       "2023-07-28  497300  \n",
       "2023-07-31  454200  \n",
       "\n",
       "[1374 rows x 6 columns]"
      ]
     },
     "execution_count": 18,
     "metadata": {},
     "output_type": "execute_result"
    }
   ],
   "source": [
    "data"
   ]
  },
  {
   "cell_type": "code",
   "execution_count": 19,
   "metadata": {
    "id": "ttzo2xJqLykC"
   },
   "outputs": [],
   "source": [
    "import selenium"
   ]
  },
  {
   "cell_type": "code",
   "execution_count": 20,
   "metadata": {
    "id": "Iwm-zn3aMAC5"
   },
   "outputs": [],
   "source": [
    "import time"
   ]
  },
  {
   "cell_type": "code",
   "execution_count": 21,
   "metadata": {
    "id": "Oap7O4wDSNcz"
   },
   "outputs": [],
   "source": [
    "from bs4 import BeautifulSoup as bs"
   ]
  },
  {
   "cell_type": "code",
   "execution_count": 22,
   "metadata": {
    "colab": {
     "base_uri": "https://localhost:8080/"
    },
    "id": "uHIMnaF-RSqU",
    "outputId": "041c10a4-a5f2-48ca-e046-fae74ea9ce51"
   },
   "outputs": [
    {
     "name": "stdout",
     "output_type": "stream",
     "text": [
      "- 접속한 웹 사이트의 제목: 코스피 경제 : 네이버 뉴스검색\n",
      "https://search.naver.com/search.naver?sm=tab_hty.top&where=news&query=%EC%BD%94%EC%8A%A4%ED%94%BC+%EA%B2%BD%EC%A0%9C&oquery=%EC%BD%94%EC%8A%A4%ED%94%BC+%EA%B2%BD%EC%A0%9C&tqi=iLNSydp0J1ZssAwye%2FNssssssWl-222265&nso=so%3Ar%2Cp%3Aall\n"
     ]
    }
   ],
   "source": [
    "from selenium import webdriver\n",
    "from selenium.webdriver.common.keys import Keys\n",
    "\n",
    "driver = webdriver.Chrome(options=options) # 크롬 드라이버 객체 생성\n",
    "\n",
    "#코스피 경제로 검색\n",
    "driver.get('https://search.naver.com/search.naver?sm=tab_hty.top&where=news&query=%EC%BD%94%EC%8A%A4%ED%94%BC+%EA%B2%BD%EC%A0%9C&oquery=%EC%BD%94%EC%8A%A4%ED%94%BC+%EA%B2%BD%EC%A0%9C&tqi=iLNSydp0J1ZssAwye%2FNssssssWl-222265&nso=so%3Ar%2Cp%3Aall')\n",
    "\n",
    "#웹사이트 잘 들어왔는지 확인하기 접속한 URL의 제목 출력\n",
    "print(\"- 접속한 웹 사이트의 제목:\", driver.title)\n",
    "# 빠른 접근은 에러가 생길 수 있어서 time.sleep 으로 한템포 쉬어갑니덩\n",
    "time.sleep(1)\n",
    "# 옵션 클릭.\n",
    "elem_option = driver.find_element(By.XPATH,'/html/body/div[3]/div[2]/div/div[1]/div[1]/div[1]/div/div[2]/a').click()\n",
    "time.sleep(1)\n",
    "# # 직접입력 클릭.\n",
    "elem_input = driver.find_element(By.XPATH,'//*[@id=\"snb\"]/div[2]/ul/li[2]/div/div[1]/a[9]').click()\n",
    "\n",
    "print(driver.current_url)\n",
    "naver_news_link = []"
   ]
  },
  {
   "cell_type": "code",
   "execution_count": 23,
   "metadata": {
    "id": "z0aYYJvsSaid"
   },
   "outputs": [],
   "source": [
    "naver_list= [[],[]\n",
    "            ]\n",
    "# 뉴스 데이터를 저장할 객체 선언"
   ]
  },
  {
   "cell_type": "code",
   "execution_count": 24,
   "metadata": {
    "id": "ihjxu5_uS6Af"
   },
   "outputs": [],
   "source": [
    "next_button_xpath = '//*[@id=\"main_pack\"]/div[2]/div/a[2]/i' #페이지 넘기는 다음버튼 클릭 정의"
   ]
  },
  {
   "cell_type": "code",
   "execution_count": 46,
   "metadata": {
    "id": "RYHvekQBRS6u"
   },
   "outputs": [],
   "source": [
    "# 본격적 크롤링을 위한 함수 구현\n",
    "\n",
    "def select_date_naver_news(year,month,day):\n",
    "\n",
    "    '''네이버뉴스에서 원하는 날짜의 뉴스를 검색해서 네이버뉴스 링크를 리스트로 return.'''\n",
    "\n",
    "    # 연(year) 클릭하기\n",
    "    elem_year = driver.find_element(By.XPATH,f'/html/body/div[3]/div[2]/div/div[1]/div[1]/div[2]/ul/li[2]/div/div[3]/div[2]/div[1]/div/div/div/ul/li[{year-1989}]')\n",
    "    elem_year.click()\n",
    "\n",
    "    # 월(month) 클릭하기\n",
    "    elem_month = driver.find_element(By.XPATH,f'/html/body/div[3]/div[2]/div/div[1]/div[1]/div[2]/ul/li[2]/div/div[3]/div[2]/div[2]/div/div/div/ul/li[{month}]')\n",
    "\n",
    "    elem_month.click()\n",
    "    time.sleep(1)\n",
    "    # # 날짜(day) 클릭하기\n",
    "    elem_day = driver.find_element(By.XPATH,f'/html/body/div[3]/div[2]/div/div[1]/div[1]/div[2]/ul/li[2]/div/div[3]/div[2]/div[3]/div/div/div/ul/li[{day}]')\n",
    "    driver.execute_script(\"arguments[0].click();\", elem_day)\n",
    "\n",
    "    # 끝나는 날짜 클릭하기\n",
    "    driver.find_element(By.XPATH,'/html/body/div[3]/div[2]/div/div[1]/div[1]/div[2]/ul/li[2]/div/div[3]/div[1]/span[3]/a').click()\n",
    "\n",
    "    # 연(year) 클릭하기\n",
    "    elem_year = driver.find_element(By.XPATH,f'/html/body/div[3]/div[2]/div/div[1]/div[1]/div[2]/ul/li[2]/div/div[3]/div[2]/div[1]/div/div/div/ul/li[{year-1989}]')\n",
    "    elem_year.click()\n",
    "\n",
    "    # 월(month) 클릭하기\n",
    "    elem_month = driver.find_element(By.XPATH,f'/html/body/div[3]/div[2]/div/div[1]/div[1]/div[2]/ul/li[2]/div/div[3]/div[2]/div[2]/div/div/div/ul/li[{month}]')\n",
    "    elem_month.click()\n",
    "\n",
    "    # # 날짜(day) 클릭하기\n",
    "    elem_day = driver.find_element(By.XPATH,f'/html/body/div[3]/div[2]/div/div[1]/div[1]/div[2]/ul/li[2]/div/div[3]/div[2]/div[3]/div/div/div/ul/li[{day}]')\n",
    "    driver.execute_script(\"arguments[0].click();\", elem_day)\n",
    "    \n",
    "    # 적용 클릭\n",
    "    driver.find_element(By.XPATH,'/html/body/div[3]/div[2]/div/div[1]/div[1]/div[2]/ul/li[2]/div/div[3]/div[3]/button').click()\n",
    "    print('다음 날짜 선택 후 크롤링 준비')\n",
    "#################\n",
    "    previous_url = 0\n",
    "    while True:\n",
    "\n",
    "        current_url = driver.current_url\n",
    "        print(driver.current_url)\n",
    "\n",
    "        # 3째장 도달했을때 break\n",
    "        if current_url == previous_url:\n",
    "            break\n",
    "        elif \"start=21\" in current_url:\n",
    "            break\n",
    "\n",
    "        html = driver.page_source\n",
    "        soup = bs(html, 'html.parser')\n",
    "\n",
    "        titles = soup.select('a.news_tit')\n",
    "        date = soup.select('.info_group > span.info')\n",
    "\n",
    "        # 현재 페이지에서의 크롤링 로직 작성\n",
    "        for t,d in zip(titles, date):\n",
    "            title = t.get_text()\n",
    "            date = d.get_text()\n",
    "            naver_list[0].append(title)\n",
    "            naver_list[1].append(date)\n",
    "        previous_url = current_url\n",
    "        next_button = driver.find_element(By.XPATH, next_button_xpath)\n",
    "        driver.execute_script(\"arguments[0].click();\", next_button)\n",
    "\n",
    "################\n",
    "    print('크롤링 준비')\n",
    "    # 옵션 초기화 버튼 클릭\n",
    "    driver.find_element(By.XPATH,'/html/body/div[3]/div[2]/div/div[1]/div[1]/div[2]/ul/li[6]/div/div/a[1]').click()\n",
    "\n",
    "    time.sleep(3)\n",
    "\n",
    "    # 직접입력 클릭.\n",
    "    elem_input = driver.find_element(By.XPATH,'/html/body/div[3]/div[2]/div/div[1]/div[1]/div[2]/ul/li[2]/div/div[1]/a[9]')\n",
    "    driver.execute_script(\"arguments[0].click();\", elem_input)\n",
    "    time.sleep(1)\n",
    "    print('다음날짜로 선택시작')\n",
    "    return naver_list"
   ]
  },
  {
   "cell_type": "code",
   "execution_count": 31,
   "metadata": {
    "colab": {
     "base_uri": "https://localhost:8080/"
    },
    "id": "Y5nBq4_5YllP",
    "outputId": "71429450-9454-4b6f-fc06-910213c727b0"
   },
   "outputs": [
    {
     "name": "stdout",
     "output_type": "stream",
     "text": [
      "Requirement already satisfied: tqdm in c:\\users\\bgmun\\appdata\\local\\programs\\python\\python39\\lib\\site-packages (4.66.1)\n",
      "Requirement already satisfied: colorama in c:\\users\\bgmun\\appdata\\local\\programs\\python\\python39\\lib\\site-packages (from tqdm) (0.4.6)\n"
     ]
    },
    {
     "name": "stderr",
     "output_type": "stream",
     "text": [
      "WARNING: You are using pip version 21.2.3; however, version 23.2.1 is available.\n",
      "You should consider upgrading via the 'C:\\Users\\bgmun\\AppData\\Local\\Programs\\Python\\Python39\\python.exe -m pip install --upgrade pip' command.\n"
     ]
    }
   ],
   "source": [
    "#잘~ 돌아가고 있나 눈으로 보고싶다 !\n",
    "!pip install tqdm"
   ]
  },
  {
   "cell_type": "code",
   "execution_count": 57,
   "metadata": {
    "id": "BKrXN9xtwTtq"
   },
   "outputs": [],
   "source": [
    "res=[]"
   ]
  },
  {
   "cell_type": "code",
   "execution_count": 33,
   "metadata": {
    "id": "pEoEfc-RZkZA"
   },
   "outputs": [],
   "source": [
    "#잘~ 돌아가고 있나 눈으로 보고싶다 !\n",
    "from tqdm import tqdm"
   ]
  },
  {
   "cell_type": "code",
   "execution_count": 60,
   "metadata": {
    "colab": {
     "base_uri": "https://localhost:8080/"
    },
    "id": "PJqRycQWRS9X",
    "outputId": "eea07d4e-2285-4042-d5ed-0613ed402726"
   },
   "outputs": [
    {
     "name": "stdout",
     "output_type": "stream",
     "text": [
      "- 접속한 웹 사이트의 제목: 코스피 경제 : 네이버 뉴스검색\n"
     ]
    },
    {
     "name": "stderr",
     "output_type": "stream",
     "text": [
      "preprocessing year:   0%|                                                                        | 0/1 [00:00<?, ?it/s]\n",
      "preprocessing month:   0%|                                                                      | 0/12 [00:00<?, ?it/s]\u001b[A\n",
      "\n",
      "preprocessing day:   0%|                                                                        | 0/31 [00:00<?, ?it/s]\u001b[A\u001b[A"
     ]
    },
    {
     "name": "stdout",
     "output_type": "stream",
     "text": [
      "다음 날짜 선택 후 크롤링 준비\n",
      "https://search.naver.com/search.naver?where=news&query=%EC%BD%94%EC%8A%A4%ED%94%BC%20%EA%B2%BD%EC%A0%9C&sm=tab_opt&sort=0&photo=0&field=0&pd=3&ds=2021.01.01&de=2021.01.01&docid=&related=0&mynews=0&office_type=0&office_section_code=0&news_office_checked=&nso=so%3Ar%2Cp%3Afrom20210101to20210101&is_sug_officeid=0\n",
      "https://search.naver.com/search.naver?where=news&sm=tab_pge&query=%EC%BD%94%EC%8A%A4%ED%94%BC%20%EA%B2%BD%EC%A0%9C&sort=0&photo=0&field=0&pd=3&ds=2021.01.01&de=2021.01.01&cluster_rank=11&mynews=0&office_type=0&office_section_code=0&news_office_checked=&nso=so:r,p:from20210101to20210101,a:all&start=11\n",
      "https://search.naver.com/search.naver?where=news&sm=tab_pge&query=%EC%BD%94%EC%8A%A4%ED%94%BC%20%EA%B2%BD%EC%A0%9C&sort=0&photo=0&field=0&pd=3&ds=2021.01.01&de=2021.01.01&cluster_rank=21&mynews=0&office_type=0&office_section_code=0&news_office_checked=&nso=so:r,p:from20210101to20210101,a:all&start=21\n",
      "크롤링 준비\n"
     ]
    },
    {
     "name": "stderr",
     "output_type": "stream",
     "text": [
      "\n",
      "\n",
      "preprocessing day:   3%|██                                                              | 1/31 [00:07<03:36,  7.22s/it]\u001b[A\u001b[A"
     ]
    },
    {
     "name": "stdout",
     "output_type": "stream",
     "text": [
      "다음날짜로 선택시작\n",
      "다음 날짜 선택 후 크롤링 준비\n",
      "https://search.naver.com/search.naver?where=news&query=%EC%BD%94%EC%8A%A4%ED%94%BC%20%EA%B2%BD%EC%A0%9C&sm=tab_opt&sort=0&photo=0&field=0&pd=3&ds=2021.01.02&de=2021.01.02&docid=&related=0&mynews=0&office_type=0&office_section_code=0&news_office_checked=&nso=so%3Ar%2Cp%3Afrom20210102to20210102&is_sug_officeid=0\n",
      "https://search.naver.com/search.naver?where=news&sm=tab_pge&query=%EC%BD%94%EC%8A%A4%ED%94%BC%20%EA%B2%BD%EC%A0%9C&sort=0&photo=0&field=0&pd=3&ds=2021.01.02&de=2021.01.02&cluster_rank=10&mynews=0&office_type=0&office_section_code=0&news_office_checked=&nso=so:r,p:from20210102to20210102,a:all&start=11\n",
      "https://search.naver.com/search.naver?where=news&sm=tab_pge&query=%EC%BD%94%EC%8A%A4%ED%94%BC%20%EA%B2%BD%EC%A0%9C&sort=0&photo=0&field=0&pd=3&ds=2021.01.02&de=2021.01.02&cluster_rank=10&mynews=0&office_type=0&office_section_code=0&news_office_checked=&nso=so:r,p:from20210102to20210102,a:all&start=11\n",
      "크롤링 준비\n"
     ]
    },
    {
     "name": "stderr",
     "output_type": "stream",
     "text": [
      "\n",
      "\n",
      "preprocessing day:   6%|████▏                                                           | 2/31 [00:13<03:21,  6.96s/it]\u001b[A\u001b[A"
     ]
    },
    {
     "name": "stdout",
     "output_type": "stream",
     "text": [
      "다음날짜로 선택시작\n",
      "다음 날짜 선택 후 크롤링 준비\n",
      "https://search.naver.com/search.naver?where=news&query=%EC%BD%94%EC%8A%A4%ED%94%BC%20%EA%B2%BD%EC%A0%9C&sm=tab_opt&sort=0&photo=0&field=0&pd=3&ds=2021.01.03&de=2021.01.03&docid=&related=0&mynews=0&office_type=0&office_section_code=0&news_office_checked=&nso=so%3Ar%2Cp%3Afrom20210103to20210103&is_sug_officeid=0\n",
      "https://search.naver.com/search.naver?where=news&sm=tab_pge&query=%EC%BD%94%EC%8A%A4%ED%94%BC%20%EA%B2%BD%EC%A0%9C&sort=0&photo=0&field=0&pd=3&ds=2021.01.03&de=2021.01.03&cluster_rank=15&mynews=0&office_type=0&office_section_code=0&news_office_checked=&nso=so:r,p:from20210103to20210103,a:all&start=11\n",
      "https://search.naver.com/search.naver?where=news&sm=tab_pge&query=%EC%BD%94%EC%8A%A4%ED%94%BC%20%EA%B2%BD%EC%A0%9C&sort=0&photo=0&field=0&pd=3&ds=2021.01.03&de=2021.01.03&cluster_rank=25&mynews=0&office_type=0&office_section_code=0&news_office_checked=&nso=so:r,p:from20210103to20210103,a:all&start=21\n",
      "크롤링 준비\n"
     ]
    },
    {
     "name": "stderr",
     "output_type": "stream",
     "text": [
      "\n",
      "\n",
      "preprocessing day:  10%|██████▏                                                         | 3/31 [00:21<03:20,  7.16s/it]\u001b[A\u001b[A"
     ]
    },
    {
     "name": "stdout",
     "output_type": "stream",
     "text": [
      "다음날짜로 선택시작\n",
      "다음 날짜 선택 후 크롤링 준비\n",
      "https://search.naver.com/search.naver?where=news&query=%EC%BD%94%EC%8A%A4%ED%94%BC%20%EA%B2%BD%EC%A0%9C&sm=tab_opt&sort=0&photo=0&field=0&pd=3&ds=2021.01.04&de=2021.01.04&docid=&related=0&mynews=0&office_type=0&office_section_code=0&news_office_checked=&nso=so%3Ar%2Cp%3Afrom20210104to20210104&is_sug_officeid=0\n",
      "https://search.naver.com/search.naver?where=news&sm=tab_pge&query=%EC%BD%94%EC%8A%A4%ED%94%BC%20%EA%B2%BD%EC%A0%9C&sort=0&photo=0&field=0&pd=3&ds=2021.01.04&de=2021.01.04&cluster_rank=12&mynews=0&office_type=0&office_section_code=0&news_office_checked=&nso=so:r,p:from20210104to20210104,a:all&start=11\n",
      "https://search.naver.com/search.naver?where=news&sm=tab_pge&query=%EC%BD%94%EC%8A%A4%ED%94%BC%20%EA%B2%BD%EC%A0%9C&sort=0&photo=0&field=0&pd=3&ds=2021.01.04&de=2021.01.04&cluster_rank=26&mynews=0&office_type=0&office_section_code=0&news_office_checked=&nso=so:r,p:from20210104to20210104,a:all&start=21\n",
      "크롤링 준비\n"
     ]
    },
    {
     "name": "stderr",
     "output_type": "stream",
     "text": [
      "\n",
      "\n",
      "preprocessing day:  13%|████████▎                                                       | 4/31 [00:28<03:14,  7.21s/it]\u001b[A\u001b[A"
     ]
    },
    {
     "name": "stdout",
     "output_type": "stream",
     "text": [
      "다음날짜로 선택시작\n",
      "다음 날짜 선택 후 크롤링 준비\n",
      "https://search.naver.com/search.naver?where=news&query=%EC%BD%94%EC%8A%A4%ED%94%BC%20%EA%B2%BD%EC%A0%9C&sm=tab_opt&sort=0&photo=0&field=0&pd=3&ds=2021.01.05&de=2021.01.05&docid=&related=0&mynews=0&office_type=0&office_section_code=0&news_office_checked=&nso=so%3Ar%2Cp%3Afrom20210105to20210105&is_sug_officeid=0\n",
      "https://search.naver.com/search.naver?where=news&sm=tab_pge&query=%EC%BD%94%EC%8A%A4%ED%94%BC%20%EA%B2%BD%EC%A0%9C&sort=0&photo=0&field=0&pd=3&ds=2021.01.05&de=2021.01.05&cluster_rank=15&mynews=0&office_type=0&office_section_code=0&news_office_checked=&nso=so:r,p:from20210105to20210105,a:all&start=11\n",
      "https://search.naver.com/search.naver?where=news&sm=tab_pge&query=%EC%BD%94%EC%8A%A4%ED%94%BC%20%EA%B2%BD%EC%A0%9C&sort=0&photo=0&field=0&pd=3&ds=2021.01.05&de=2021.01.05&cluster_rank=25&mynews=0&office_type=0&office_section_code=0&news_office_checked=&nso=so:r,p:from20210105to20210105,a:all&start=21\n",
      "크롤링 준비\n"
     ]
    },
    {
     "name": "stderr",
     "output_type": "stream",
     "text": [
      "\n",
      "\n",
      "preprocessing day:  16%|██████████▎                                                     | 5/31 [00:36<03:09,  7.29s/it]\u001b[A\u001b[A"
     ]
    },
    {
     "name": "stdout",
     "output_type": "stream",
     "text": [
      "다음날짜로 선택시작\n",
      "다음 날짜 선택 후 크롤링 준비\n",
      "https://search.naver.com/search.naver?where=news&query=%EC%BD%94%EC%8A%A4%ED%94%BC%20%EA%B2%BD%EC%A0%9C&sm=tab_opt&sort=0&photo=0&field=0&pd=3&ds=2021.01.06&de=2021.01.06&docid=&related=0&mynews=0&office_type=0&office_section_code=0&news_office_checked=&nso=so%3Ar%2Cp%3Afrom20210106to20210106&is_sug_officeid=0\n",
      "https://search.naver.com/search.naver?where=news&sm=tab_pge&query=%EC%BD%94%EC%8A%A4%ED%94%BC%20%EA%B2%BD%EC%A0%9C&sort=0&photo=0&field=0&pd=3&ds=2021.01.06&de=2021.01.06&cluster_rank=17&mynews=0&office_type=0&office_section_code=0&news_office_checked=&nso=so:r,p:from20210106to20210106,a:all&start=11\n",
      "https://search.naver.com/search.naver?where=news&sm=tab_pge&query=%EC%BD%94%EC%8A%A4%ED%94%BC%20%EA%B2%BD%EC%A0%9C&sort=0&photo=0&field=0&pd=3&ds=2021.01.06&de=2021.01.06&cluster_rank=33&mynews=0&office_type=0&office_section_code=0&news_office_checked=&nso=so:r,p:from20210106to20210106,a:all&start=21\n",
      "크롤링 준비\n"
     ]
    },
    {
     "name": "stderr",
     "output_type": "stream",
     "text": [
      "\n",
      "\n",
      "preprocessing day:  19%|████████████▍                                                   | 6/31 [00:43<03:00,  7.24s/it]\u001b[A\u001b[A"
     ]
    },
    {
     "name": "stdout",
     "output_type": "stream",
     "text": [
      "다음날짜로 선택시작\n",
      "다음 날짜 선택 후 크롤링 준비\n",
      "https://search.naver.com/search.naver?where=news&query=%EC%BD%94%EC%8A%A4%ED%94%BC%20%EA%B2%BD%EC%A0%9C&sm=tab_opt&sort=0&photo=0&field=0&pd=3&ds=2021.01.07&de=2021.01.07&docid=&related=0&mynews=0&office_type=0&office_section_code=0&news_office_checked=&nso=so%3Ar%2Cp%3Afrom20210107to20210107&is_sug_officeid=0\n",
      "https://search.naver.com/search.naver?where=news&sm=tab_pge&query=%EC%BD%94%EC%8A%A4%ED%94%BC%20%EA%B2%BD%EC%A0%9C&sort=0&photo=0&field=0&pd=3&ds=2021.01.07&de=2021.01.07&cluster_rank=26&mynews=0&office_type=0&office_section_code=0&news_office_checked=&nso=so:r,p:from20210107to20210107,a:all&start=11\n",
      "https://search.naver.com/search.naver?where=news&sm=tab_pge&query=%EC%BD%94%EC%8A%A4%ED%94%BC%20%EA%B2%BD%EC%A0%9C&sort=0&photo=0&field=0&pd=3&ds=2021.01.07&de=2021.01.07&cluster_rank=39&mynews=0&office_type=0&office_section_code=0&news_office_checked=&nso=so:r,p:from20210107to20210107,a:all&start=21\n",
      "크롤링 준비\n"
     ]
    },
    {
     "name": "stderr",
     "output_type": "stream",
     "text": [
      "\n",
      "\n",
      "preprocessing day:  23%|██████████████▍                                                 | 7/31 [00:50<02:53,  7.25s/it]\u001b[A\u001b[A"
     ]
    },
    {
     "name": "stdout",
     "output_type": "stream",
     "text": [
      "다음날짜로 선택시작\n",
      "다음 날짜 선택 후 크롤링 준비\n",
      "https://search.naver.com/search.naver?where=news&query=%EC%BD%94%EC%8A%A4%ED%94%BC%20%EA%B2%BD%EC%A0%9C&sm=tab_opt&sort=0&photo=0&field=0&pd=3&ds=2021.01.08&de=2021.01.08&docid=&related=0&mynews=0&office_type=0&office_section_code=0&news_office_checked=&nso=so%3Ar%2Cp%3Afrom20210108to20210108&is_sug_officeid=0\n",
      "https://search.naver.com/search.naver?where=news&sm=tab_pge&query=%EC%BD%94%EC%8A%A4%ED%94%BC%20%EA%B2%BD%EC%A0%9C&sort=0&photo=0&field=0&pd=3&ds=2021.01.08&de=2021.01.08&cluster_rank=19&mynews=0&office_type=0&office_section_code=0&news_office_checked=&nso=so:r,p:from20210108to20210108,a:all&start=11\n",
      "https://search.naver.com/search.naver?where=news&sm=tab_pge&query=%EC%BD%94%EC%8A%A4%ED%94%BC%20%EA%B2%BD%EC%A0%9C&sort=0&photo=0&field=0&pd=3&ds=2021.01.08&de=2021.01.08&cluster_rank=38&mynews=0&office_type=0&office_section_code=0&news_office_checked=&nso=so:r,p:from20210108to20210108,a:all&start=21\n",
      "크롤링 준비\n"
     ]
    },
    {
     "name": "stderr",
     "output_type": "stream",
     "text": [
      "\n",
      "\n",
      "preprocessing day:  26%|████████████████▌                                               | 8/31 [00:57<02:45,  7.21s/it]\u001b[A\u001b[A"
     ]
    },
    {
     "name": "stdout",
     "output_type": "stream",
     "text": [
      "다음날짜로 선택시작\n",
      "다음 날짜 선택 후 크롤링 준비\n",
      "https://search.naver.com/search.naver?where=news&query=%EC%BD%94%EC%8A%A4%ED%94%BC%20%EA%B2%BD%EC%A0%9C&sm=tab_opt&sort=0&photo=0&field=0&pd=3&ds=2021.01.09&de=2021.01.09&docid=&related=0&mynews=0&office_type=0&office_section_code=0&news_office_checked=&nso=so%3Ar%2Cp%3Afrom20210109to20210109&is_sug_officeid=0\n",
      "https://search.naver.com/search.naver?where=news&sm=tab_pge&query=%EC%BD%94%EC%8A%A4%ED%94%BC%20%EA%B2%BD%EC%A0%9C&sort=0&photo=0&field=0&pd=3&ds=2021.01.09&de=2021.01.09&cluster_rank=10&mynews=0&office_type=0&office_section_code=0&news_office_checked=&nso=so:r,p:from20210109to20210109,a:all&start=11\n",
      "https://search.naver.com/search.naver?where=news&sm=tab_pge&query=%EC%BD%94%EC%8A%A4%ED%94%BC%20%EA%B2%BD%EC%A0%9C&sort=0&photo=0&field=0&pd=3&ds=2021.01.09&de=2021.01.09&cluster_rank=21&mynews=0&office_type=0&office_section_code=0&news_office_checked=&nso=so:r,p:from20210109to20210109,a:all&start=21\n",
      "크롤링 준비\n"
     ]
    },
    {
     "name": "stderr",
     "output_type": "stream",
     "text": [
      "\n",
      "\n",
      "preprocessing day:  29%|██████████████████▌                                             | 9/31 [01:04<02:37,  7.16s/it]\u001b[A\u001b[A"
     ]
    },
    {
     "name": "stdout",
     "output_type": "stream",
     "text": [
      "다음날짜로 선택시작\n",
      "다음 날짜 선택 후 크롤링 준비\n",
      "https://search.naver.com/search.naver?where=news&query=%EC%BD%94%EC%8A%A4%ED%94%BC%20%EA%B2%BD%EC%A0%9C&sm=tab_opt&sort=0&photo=0&field=0&pd=3&ds=2021.01.10&de=2021.01.10&docid=&related=0&mynews=0&office_type=0&office_section_code=0&news_office_checked=&nso=so%3Ar%2Cp%3Afrom20210110to20210110&is_sug_officeid=0\n",
      "https://search.naver.com/search.naver?where=news&sm=tab_pge&query=%EC%BD%94%EC%8A%A4%ED%94%BC%20%EA%B2%BD%EC%A0%9C&sort=0&photo=0&field=0&pd=3&ds=2021.01.10&de=2021.01.10&cluster_rank=22&mynews=0&office_type=0&office_section_code=0&news_office_checked=&nso=so:r,p:from20210110to20210110,a:all&start=11\n",
      "https://search.naver.com/search.naver?where=news&sm=tab_pge&query=%EC%BD%94%EC%8A%A4%ED%94%BC%20%EA%B2%BD%EC%A0%9C&sort=0&photo=0&field=0&pd=3&ds=2021.01.10&de=2021.01.10&cluster_rank=32&mynews=0&office_type=0&office_section_code=0&news_office_checked=&nso=so:r,p:from20210110to20210110,a:all&start=21\n",
      "크롤링 준비\n"
     ]
    },
    {
     "name": "stderr",
     "output_type": "stream",
     "text": [
      "\n",
      "\n",
      "preprocessing day:  32%|████████████████████▎                                          | 10/31 [01:11<02:29,  7.13s/it]\u001b[A\u001b[A"
     ]
    },
    {
     "name": "stdout",
     "output_type": "stream",
     "text": [
      "다음날짜로 선택시작\n",
      "다음 날짜 선택 후 크롤링 준비\n",
      "https://search.naver.com/search.naver?where=news&query=%EC%BD%94%EC%8A%A4%ED%94%BC%20%EA%B2%BD%EC%A0%9C&sm=tab_opt&sort=0&photo=0&field=0&pd=3&ds=2021.01.11&de=2021.01.11&docid=&related=0&mynews=0&office_type=0&office_section_code=0&news_office_checked=&nso=so%3Ar%2Cp%3Afrom20210111to20210111&is_sug_officeid=0\n",
      "https://search.naver.com/search.naver?where=news&sm=tab_pge&query=%EC%BD%94%EC%8A%A4%ED%94%BC%20%EA%B2%BD%EC%A0%9C&sort=0&photo=0&field=0&pd=3&ds=2021.01.11&de=2021.01.11&cluster_rank=17&mynews=0&office_type=0&office_section_code=0&news_office_checked=&nso=so:r,p:from20210111to20210111,a:all&start=11\n",
      "https://search.naver.com/search.naver?where=news&sm=tab_pge&query=%EC%BD%94%EC%8A%A4%ED%94%BC%20%EA%B2%BD%EC%A0%9C&sort=0&photo=0&field=0&pd=3&ds=2021.01.11&de=2021.01.11&cluster_rank=29&mynews=0&office_type=0&office_section_code=0&news_office_checked=&nso=so:r,p:from20210111to20210111,a:all&start=21\n",
      "크롤링 준비\n"
     ]
    },
    {
     "name": "stderr",
     "output_type": "stream",
     "text": [
      "\n",
      "\n",
      "preprocessing day:  35%|██████████████████████▎                                        | 11/31 [01:18<02:22,  7.13s/it]\u001b[A\u001b[A"
     ]
    },
    {
     "name": "stdout",
     "output_type": "stream",
     "text": [
      "다음날짜로 선택시작\n",
      "다음 날짜 선택 후 크롤링 준비\n",
      "https://search.naver.com/search.naver?where=news&query=%EC%BD%94%EC%8A%A4%ED%94%BC%20%EA%B2%BD%EC%A0%9C&sm=tab_opt&sort=0&photo=0&field=0&pd=3&ds=2021.01.12&de=2021.01.12&docid=&related=0&mynews=0&office_type=0&office_section_code=0&news_office_checked=&nso=so%3Ar%2Cp%3Afrom20210112to20210112&is_sug_officeid=0\n",
      "https://search.naver.com/search.naver?where=news&sm=tab_pge&query=%EC%BD%94%EC%8A%A4%ED%94%BC%20%EA%B2%BD%EC%A0%9C&sort=0&photo=0&field=0&pd=3&ds=2021.01.12&de=2021.01.12&cluster_rank=14&mynews=0&office_type=0&office_section_code=0&news_office_checked=&nso=so:r,p:from20210112to20210112,a:all&start=11\n",
      "https://search.naver.com/search.naver?where=news&sm=tab_pge&query=%EC%BD%94%EC%8A%A4%ED%94%BC%20%EA%B2%BD%EC%A0%9C&sort=0&photo=0&field=0&pd=3&ds=2021.01.12&de=2021.01.12&cluster_rank=24&mynews=0&office_type=0&office_section_code=0&news_office_checked=&nso=so:r,p:from20210112to20210112,a:all&start=21\n",
      "크롤링 준비\n"
     ]
    },
    {
     "name": "stderr",
     "output_type": "stream",
     "text": [
      "\n",
      "\n",
      "preprocessing day:  39%|████████████████████████▍                                      | 12/31 [01:26<02:15,  7.15s/it]\u001b[A\u001b[A"
     ]
    },
    {
     "name": "stdout",
     "output_type": "stream",
     "text": [
      "다음날짜로 선택시작\n",
      "다음 날짜 선택 후 크롤링 준비\n",
      "https://search.naver.com/search.naver?where=news&query=%EC%BD%94%EC%8A%A4%ED%94%BC%20%EA%B2%BD%EC%A0%9C&sm=tab_opt&sort=0&photo=0&field=0&pd=3&ds=2021.01.13&de=2021.01.13&docid=&related=0&mynews=0&office_type=0&office_section_code=0&news_office_checked=&nso=so%3Ar%2Cp%3Afrom20210113to20210113&is_sug_officeid=0\n",
      "https://search.naver.com/search.naver?where=news&sm=tab_pge&query=%EC%BD%94%EC%8A%A4%ED%94%BC%20%EA%B2%BD%EC%A0%9C&sort=0&photo=0&field=0&pd=3&ds=2021.01.13&de=2021.01.13&cluster_rank=16&mynews=0&office_type=0&office_section_code=0&news_office_checked=&nso=so:r,p:from20210113to20210113,a:all&start=11\n",
      "https://search.naver.com/search.naver?where=news&sm=tab_pge&query=%EC%BD%94%EC%8A%A4%ED%94%BC%20%EA%B2%BD%EC%A0%9C&sort=0&photo=0&field=0&pd=3&ds=2021.01.13&de=2021.01.13&cluster_rank=26&mynews=0&office_type=0&office_section_code=0&news_office_checked=&nso=so:r,p:from20210113to20210113,a:all&start=21\n",
      "크롤링 준비\n"
     ]
    },
    {
     "name": "stderr",
     "output_type": "stream",
     "text": [
      "\n",
      "\n",
      "preprocessing day:  42%|██████████████████████████▍                                    | 13/31 [01:33<02:08,  7.16s/it]\u001b[A\u001b[A"
     ]
    },
    {
     "name": "stdout",
     "output_type": "stream",
     "text": [
      "다음날짜로 선택시작\n",
      "다음 날짜 선택 후 크롤링 준비\n",
      "https://search.naver.com/search.naver?where=news&query=%EC%BD%94%EC%8A%A4%ED%94%BC%20%EA%B2%BD%EC%A0%9C&sm=tab_opt&sort=0&photo=0&field=0&pd=3&ds=2021.01.14&de=2021.01.14&docid=&related=0&mynews=0&office_type=0&office_section_code=0&news_office_checked=&nso=so%3Ar%2Cp%3Afrom20210114to20210114&is_sug_officeid=0\n",
      "https://search.naver.com/search.naver?where=news&sm=tab_pge&query=%EC%BD%94%EC%8A%A4%ED%94%BC%20%EA%B2%BD%EC%A0%9C&sort=0&photo=0&field=0&pd=3&ds=2021.01.14&de=2021.01.14&cluster_rank=19&mynews=0&office_type=0&office_section_code=0&news_office_checked=&nso=so:r,p:from20210114to20210114,a:all&start=11\n",
      "https://search.naver.com/search.naver?where=news&sm=tab_pge&query=%EC%BD%94%EC%8A%A4%ED%94%BC%20%EA%B2%BD%EC%A0%9C&sort=0&photo=0&field=0&pd=3&ds=2021.01.14&de=2021.01.14&cluster_rank=39&mynews=0&office_type=0&office_section_code=0&news_office_checked=&nso=so:r,p:from20210114to20210114,a:all&start=21\n",
      "크롤링 준비\n"
     ]
    },
    {
     "name": "stderr",
     "output_type": "stream",
     "text": [
      "\n",
      "\n",
      "preprocessing day:  45%|████████████████████████████▍                                  | 14/31 [01:40<02:02,  7.19s/it]\u001b[A\u001b[A"
     ]
    },
    {
     "name": "stdout",
     "output_type": "stream",
     "text": [
      "다음날짜로 선택시작\n",
      "다음 날짜 선택 후 크롤링 준비\n",
      "https://search.naver.com/search.naver?where=news&query=%EC%BD%94%EC%8A%A4%ED%94%BC%20%EA%B2%BD%EC%A0%9C&sm=tab_opt&sort=0&photo=0&field=0&pd=3&ds=2021.01.15&de=2021.01.15&docid=&related=0&mynews=0&office_type=0&office_section_code=0&news_office_checked=&nso=so%3Ar%2Cp%3Afrom20210115to20210115&is_sug_officeid=0\n",
      "https://search.naver.com/search.naver?where=news&sm=tab_pge&query=%EC%BD%94%EC%8A%A4%ED%94%BC%20%EA%B2%BD%EC%A0%9C&sort=0&photo=0&field=0&pd=3&ds=2021.01.15&de=2021.01.15&cluster_rank=12&mynews=0&office_type=0&office_section_code=0&news_office_checked=&nso=so:r,p:from20210115to20210115,a:all&start=11\n",
      "https://search.naver.com/search.naver?where=news&sm=tab_pge&query=%EC%BD%94%EC%8A%A4%ED%94%BC%20%EA%B2%BD%EC%A0%9C&sort=0&photo=0&field=0&pd=3&ds=2021.01.15&de=2021.01.15&cluster_rank=22&mynews=0&office_type=0&office_section_code=0&news_office_checked=&nso=so:r,p:from20210115to20210115,a:all&start=21\n",
      "크롤링 준비\n"
     ]
    },
    {
     "name": "stderr",
     "output_type": "stream",
     "text": [
      "\n",
      "\n",
      "preprocessing day:  48%|██████████████████████████████▍                                | 15/31 [01:47<01:54,  7.15s/it]\u001b[A\u001b[A"
     ]
    },
    {
     "name": "stdout",
     "output_type": "stream",
     "text": [
      "다음날짜로 선택시작\n",
      "다음 날짜 선택 후 크롤링 준비\n",
      "https://search.naver.com/search.naver?where=news&query=%EC%BD%94%EC%8A%A4%ED%94%BC%20%EA%B2%BD%EC%A0%9C&sm=tab_opt&sort=0&photo=0&field=0&pd=3&ds=2021.01.16&de=2021.01.16&docid=&related=0&mynews=0&office_type=0&office_section_code=0&news_office_checked=&nso=so%3Ar%2Cp%3Afrom20210116to20210116&is_sug_officeid=0\n",
      "https://search.naver.com/search.naver?where=news&sm=tab_pge&query=%EC%BD%94%EC%8A%A4%ED%94%BC%20%EA%B2%BD%EC%A0%9C&sort=0&photo=0&field=0&pd=3&ds=2021.01.16&de=2021.01.16&cluster_rank=13&mynews=0&office_type=0&office_section_code=0&news_office_checked=&nso=so:r,p:from20210116to20210116,a:all&start=11\n",
      "https://search.naver.com/search.naver?where=news&sm=tab_pge&query=%EC%BD%94%EC%8A%A4%ED%94%BC%20%EA%B2%BD%EC%A0%9C&sort=0&photo=0&field=0&pd=3&ds=2021.01.16&de=2021.01.16&cluster_rank=24&mynews=0&office_type=0&office_section_code=0&news_office_checked=&nso=so:r,p:from20210116to20210116,a:all&start=21\n",
      "크롤링 준비\n"
     ]
    },
    {
     "name": "stderr",
     "output_type": "stream",
     "text": [
      "\n",
      "\n",
      "preprocessing day:  52%|████████████████████████████████▌                              | 16/31 [01:54<01:46,  7.11s/it]\u001b[A\u001b[A"
     ]
    },
    {
     "name": "stdout",
     "output_type": "stream",
     "text": [
      "다음날짜로 선택시작\n",
      "다음 날짜 선택 후 크롤링 준비\n",
      "https://search.naver.com/search.naver?where=news&query=%EC%BD%94%EC%8A%A4%ED%94%BC%20%EA%B2%BD%EC%A0%9C&sm=tab_opt&sort=0&photo=0&field=0&pd=3&ds=2021.01.17&de=2021.01.17&docid=&related=0&mynews=0&office_type=0&office_section_code=0&news_office_checked=&nso=so%3Ar%2Cp%3Afrom20210117to20210117&is_sug_officeid=0\n",
      "https://search.naver.com/search.naver?where=news&sm=tab_pge&query=%EC%BD%94%EC%8A%A4%ED%94%BC%20%EA%B2%BD%EC%A0%9C&sort=0&photo=0&field=0&pd=3&ds=2021.01.17&de=2021.01.17&cluster_rank=12&mynews=0&office_type=0&office_section_code=0&news_office_checked=&nso=so:r,p:from20210117to20210117,a:all&start=11\n",
      "https://search.naver.com/search.naver?where=news&sm=tab_pge&query=%EC%BD%94%EC%8A%A4%ED%94%BC%20%EA%B2%BD%EC%A0%9C&sort=0&photo=0&field=0&pd=3&ds=2021.01.17&de=2021.01.17&cluster_rank=27&mynews=0&office_type=0&office_section_code=0&news_office_checked=&nso=so:r,p:from20210117to20210117,a:all&start=21\n",
      "크롤링 준비\n"
     ]
    },
    {
     "name": "stderr",
     "output_type": "stream",
     "text": [
      "\n",
      "\n",
      "preprocessing day:  55%|██████████████████████████████████▌                            | 17/31 [02:01<01:40,  7.18s/it]\u001b[A\u001b[A"
     ]
    },
    {
     "name": "stdout",
     "output_type": "stream",
     "text": [
      "다음날짜로 선택시작\n",
      "다음 날짜 선택 후 크롤링 준비\n",
      "https://search.naver.com/search.naver?where=news&query=%EC%BD%94%EC%8A%A4%ED%94%BC%20%EA%B2%BD%EC%A0%9C&sm=tab_opt&sort=0&photo=0&field=0&pd=3&ds=2021.01.18&de=2021.01.18&docid=&related=0&mynews=0&office_type=0&office_section_code=0&news_office_checked=&nso=so%3Ar%2Cp%3Afrom20210118to20210118&is_sug_officeid=0\n",
      "https://search.naver.com/search.naver?where=news&sm=tab_pge&query=%EC%BD%94%EC%8A%A4%ED%94%BC%20%EA%B2%BD%EC%A0%9C&sort=0&photo=0&field=0&pd=3&ds=2021.01.18&de=2021.01.18&cluster_rank=15&mynews=0&office_type=0&office_section_code=0&news_office_checked=&nso=so:r,p:from20210118to20210118,a:all&start=11\n",
      "https://search.naver.com/search.naver?where=news&sm=tab_pge&query=%EC%BD%94%EC%8A%A4%ED%94%BC%20%EA%B2%BD%EC%A0%9C&sort=0&photo=0&field=0&pd=3&ds=2021.01.18&de=2021.01.18&cluster_rank=29&mynews=0&office_type=0&office_section_code=0&news_office_checked=&nso=so:r,p:from20210118to20210118,a:all&start=21\n",
      "크롤링 준비\n"
     ]
    },
    {
     "name": "stderr",
     "output_type": "stream",
     "text": [
      "\n",
      "\n",
      "preprocessing day:  58%|████████████████████████████████████▌                          | 18/31 [02:08<01:32,  7.13s/it]\u001b[A\u001b[A"
     ]
    },
    {
     "name": "stdout",
     "output_type": "stream",
     "text": [
      "다음날짜로 선택시작\n",
      "다음 날짜 선택 후 크롤링 준비\n",
      "https://search.naver.com/search.naver?where=news&query=%EC%BD%94%EC%8A%A4%ED%94%BC%20%EA%B2%BD%EC%A0%9C&sm=tab_opt&sort=0&photo=0&field=0&pd=3&ds=2021.01.19&de=2021.01.19&docid=&related=0&mynews=0&office_type=0&office_section_code=0&news_office_checked=&nso=so%3Ar%2Cp%3Afrom20210119to20210119&is_sug_officeid=0\n",
      "https://search.naver.com/search.naver?where=news&sm=tab_pge&query=%EC%BD%94%EC%8A%A4%ED%94%BC%20%EA%B2%BD%EC%A0%9C&sort=0&photo=0&field=0&pd=3&ds=2021.01.19&de=2021.01.19&cluster_rank=13&mynews=0&office_type=0&office_section_code=0&news_office_checked=&nso=so:r,p:from20210119to20210119,a:all&start=11\n",
      "https://search.naver.com/search.naver?where=news&sm=tab_pge&query=%EC%BD%94%EC%8A%A4%ED%94%BC%20%EA%B2%BD%EC%A0%9C&sort=0&photo=0&field=0&pd=3&ds=2021.01.19&de=2021.01.19&cluster_rank=24&mynews=0&office_type=0&office_section_code=0&news_office_checked=&nso=so:r,p:from20210119to20210119,a:all&start=21\n",
      "크롤링 준비\n"
     ]
    },
    {
     "name": "stderr",
     "output_type": "stream",
     "text": [
      "\n",
      "\n",
      "preprocessing day:  61%|██████████████████████████████████████▌                        | 19/31 [02:16<01:25,  7.12s/it]\u001b[A\u001b[A"
     ]
    },
    {
     "name": "stdout",
     "output_type": "stream",
     "text": [
      "다음날짜로 선택시작\n",
      "다음 날짜 선택 후 크롤링 준비\n",
      "https://search.naver.com/search.naver?where=news&query=%EC%BD%94%EC%8A%A4%ED%94%BC%20%EA%B2%BD%EC%A0%9C&sm=tab_opt&sort=0&photo=0&field=0&pd=3&ds=2021.01.20&de=2021.01.20&docid=&related=0&mynews=0&office_type=0&office_section_code=0&news_office_checked=&nso=so%3Ar%2Cp%3Afrom20210120to20210120&is_sug_officeid=0\n",
      "https://search.naver.com/search.naver?where=news&sm=tab_pge&query=%EC%BD%94%EC%8A%A4%ED%94%BC%20%EA%B2%BD%EC%A0%9C&sort=0&photo=0&field=0&pd=3&ds=2021.01.20&de=2021.01.20&cluster_rank=10&mynews=0&office_type=0&office_section_code=0&news_office_checked=&nso=so:r,p:from20210120to20210120,a:all&start=11\n",
      "https://search.naver.com/search.naver?where=news&sm=tab_pge&query=%EC%BD%94%EC%8A%A4%ED%94%BC%20%EA%B2%BD%EC%A0%9C&sort=0&photo=0&field=0&pd=3&ds=2021.01.20&de=2021.01.20&cluster_rank=20&mynews=0&office_type=0&office_section_code=0&news_office_checked=&nso=so:r,p:from20210120to20210120,a:all&start=21\n",
      "크롤링 준비\n"
     ]
    },
    {
     "name": "stderr",
     "output_type": "stream",
     "text": [
      "\n",
      "\n",
      "preprocessing day:  65%|████████████████████████████████████████▋                      | 20/31 [02:23<01:18,  7.10s/it]\u001b[A\u001b[A"
     ]
    },
    {
     "name": "stdout",
     "output_type": "stream",
     "text": [
      "다음날짜로 선택시작\n",
      "다음 날짜 선택 후 크롤링 준비\n",
      "https://search.naver.com/search.naver?where=news&query=%EC%BD%94%EC%8A%A4%ED%94%BC%20%EA%B2%BD%EC%A0%9C&sm=tab_opt&sort=0&photo=0&field=0&pd=3&ds=2021.01.21&de=2021.01.21&docid=&related=0&mynews=0&office_type=0&office_section_code=0&news_office_checked=&nso=so%3Ar%2Cp%3Afrom20210121to20210121&is_sug_officeid=0\n",
      "https://search.naver.com/search.naver?where=news&sm=tab_pge&query=%EC%BD%94%EC%8A%A4%ED%94%BC%20%EA%B2%BD%EC%A0%9C&sort=0&photo=0&field=0&pd=3&ds=2021.01.21&de=2021.01.21&cluster_rank=18&mynews=0&office_type=0&office_section_code=0&news_office_checked=&nso=so:r,p:from20210121to20210121,a:all&start=11\n",
      "https://search.naver.com/search.naver?where=news&sm=tab_pge&query=%EC%BD%94%EC%8A%A4%ED%94%BC%20%EA%B2%BD%EC%A0%9C&sort=0&photo=0&field=0&pd=3&ds=2021.01.21&de=2021.01.21&cluster_rank=28&mynews=0&office_type=0&office_section_code=0&news_office_checked=&nso=so:r,p:from20210121to20210121,a:all&start=21\n",
      "크롤링 준비\n"
     ]
    },
    {
     "name": "stderr",
     "output_type": "stream",
     "text": [
      "\n",
      "\n",
      "preprocessing day:  68%|██████████████████████████████████████████▋                    | 21/31 [02:30<01:10,  7.10s/it]\u001b[A\u001b[A"
     ]
    },
    {
     "name": "stdout",
     "output_type": "stream",
     "text": [
      "다음날짜로 선택시작\n",
      "다음 날짜 선택 후 크롤링 준비\n",
      "https://search.naver.com/search.naver?where=news&query=%EC%BD%94%EC%8A%A4%ED%94%BC%20%EA%B2%BD%EC%A0%9C&sm=tab_opt&sort=0&photo=0&field=0&pd=3&ds=2021.01.22&de=2021.01.22&docid=&related=0&mynews=0&office_type=0&office_section_code=0&news_office_checked=&nso=so%3Ar%2Cp%3Afrom20210122to20210122&is_sug_officeid=0\n",
      "https://search.naver.com/search.naver?where=news&sm=tab_pge&query=%EC%BD%94%EC%8A%A4%ED%94%BC%20%EA%B2%BD%EC%A0%9C&sort=0&photo=0&field=0&pd=3&ds=2021.01.22&de=2021.01.22&cluster_rank=12&mynews=0&office_type=0&office_section_code=0&news_office_checked=&nso=so:r,p:from20210122to20210122,a:all&start=11\n",
      "https://search.naver.com/search.naver?where=news&sm=tab_pge&query=%EC%BD%94%EC%8A%A4%ED%94%BC%20%EA%B2%BD%EC%A0%9C&sort=0&photo=0&field=0&pd=3&ds=2021.01.22&de=2021.01.22&cluster_rank=23&mynews=0&office_type=0&office_section_code=0&news_office_checked=&nso=so:r,p:from20210122to20210122,a:all&start=21\n",
      "크롤링 준비\n"
     ]
    },
    {
     "name": "stderr",
     "output_type": "stream",
     "text": [
      "\n",
      "\n",
      "preprocessing day:  71%|████████████████████████████████████████████▋                  | 22/31 [02:37<01:03,  7.11s/it]\u001b[A\u001b[A"
     ]
    },
    {
     "name": "stdout",
     "output_type": "stream",
     "text": [
      "다음날짜로 선택시작\n",
      "다음 날짜 선택 후 크롤링 준비\n",
      "https://search.naver.com/search.naver?where=news&query=%EC%BD%94%EC%8A%A4%ED%94%BC%20%EA%B2%BD%EC%A0%9C&sm=tab_opt&sort=0&photo=0&field=0&pd=3&ds=2021.01.23&de=2021.01.23&docid=&related=0&mynews=0&office_type=0&office_section_code=0&news_office_checked=&nso=so%3Ar%2Cp%3Afrom20210123to20210123&is_sug_officeid=0\n",
      "https://search.naver.com/search.naver?where=news&sm=tab_pge&query=%EC%BD%94%EC%8A%A4%ED%94%BC%20%EA%B2%BD%EC%A0%9C&sort=0&photo=0&field=0&pd=3&ds=2021.01.23&de=2021.01.23&cluster_rank=11&mynews=0&office_type=0&office_section_code=0&news_office_checked=&nso=so:r,p:from20210123to20210123,a:all&start=11\n",
      "https://search.naver.com/search.naver?where=news&sm=tab_pge&query=%EC%BD%94%EC%8A%A4%ED%94%BC%20%EA%B2%BD%EC%A0%9C&sort=0&photo=0&field=0&pd=3&ds=2021.01.23&de=2021.01.23&cluster_rank=21&mynews=0&office_type=0&office_section_code=0&news_office_checked=&nso=so:r,p:from20210123to20210123,a:all&start=21\n",
      "크롤링 준비\n"
     ]
    },
    {
     "name": "stderr",
     "output_type": "stream",
     "text": [
      "\n",
      "\n",
      "preprocessing day:  74%|██████████████████████████████████████████████▋                | 23/31 [02:44<00:56,  7.09s/it]\u001b[A\u001b[A"
     ]
    },
    {
     "name": "stdout",
     "output_type": "stream",
     "text": [
      "다음날짜로 선택시작\n",
      "다음 날짜 선택 후 크롤링 준비\n",
      "https://search.naver.com/search.naver?where=news&query=%EC%BD%94%EC%8A%A4%ED%94%BC%20%EA%B2%BD%EC%A0%9C&sm=tab_opt&sort=0&photo=0&field=0&pd=3&ds=2021.01.24&de=2021.01.24&docid=&related=0&mynews=0&office_type=0&office_section_code=0&news_office_checked=&nso=so%3Ar%2Cp%3Afrom20210124to20210124&is_sug_officeid=0\n",
      "https://search.naver.com/search.naver?where=news&sm=tab_pge&query=%EC%BD%94%EC%8A%A4%ED%94%BC%20%EA%B2%BD%EC%A0%9C&sort=0&photo=0&field=0&pd=3&ds=2021.01.24&de=2021.01.24&cluster_rank=20&mynews=0&office_type=0&office_section_code=0&news_office_checked=&nso=so:r,p:from20210124to20210124,a:all&start=11\n",
      "https://search.naver.com/search.naver?where=news&sm=tab_pge&query=%EC%BD%94%EC%8A%A4%ED%94%BC%20%EA%B2%BD%EC%A0%9C&sort=0&photo=0&field=0&pd=3&ds=2021.01.24&de=2021.01.24&cluster_rank=32&mynews=0&office_type=0&office_section_code=0&news_office_checked=&nso=so:r,p:from20210124to20210124,a:all&start=21\n",
      "크롤링 준비\n"
     ]
    },
    {
     "name": "stderr",
     "output_type": "stream",
     "text": [
      "\n",
      "\n",
      "preprocessing day:  77%|████████████████████████████████████████████████▊              | 24/31 [02:51<00:49,  7.11s/it]\u001b[A\u001b[A"
     ]
    },
    {
     "name": "stdout",
     "output_type": "stream",
     "text": [
      "다음날짜로 선택시작\n",
      "다음 날짜 선택 후 크롤링 준비\n",
      "https://search.naver.com/search.naver?where=news&query=%EC%BD%94%EC%8A%A4%ED%94%BC%20%EA%B2%BD%EC%A0%9C&sm=tab_opt&sort=0&photo=0&field=0&pd=3&ds=2021.01.25&de=2021.01.25&docid=&related=0&mynews=0&office_type=0&office_section_code=0&news_office_checked=&nso=so%3Ar%2Cp%3Afrom20210125to20210125&is_sug_officeid=0\n",
      "https://search.naver.com/search.naver?where=news&sm=tab_pge&query=%EC%BD%94%EC%8A%A4%ED%94%BC%20%EA%B2%BD%EC%A0%9C&sort=0&photo=0&field=0&pd=3&ds=2021.01.25&de=2021.01.25&cluster_rank=10&mynews=0&office_type=0&office_section_code=0&news_office_checked=&nso=so:r,p:from20210125to20210125,a:all&start=11\n",
      "https://search.naver.com/search.naver?where=news&sm=tab_pge&query=%EC%BD%94%EC%8A%A4%ED%94%BC%20%EA%B2%BD%EC%A0%9C&sort=0&photo=0&field=0&pd=3&ds=2021.01.25&de=2021.01.25&cluster_rank=21&mynews=0&office_type=0&office_section_code=0&news_office_checked=&nso=so:r,p:from20210125to20210125,a:all&start=21\n",
      "크롤링 준비\n"
     ]
    },
    {
     "name": "stderr",
     "output_type": "stream",
     "text": [
      "\n",
      "\n",
      "preprocessing day:  81%|██████████████████████████████████████████████████▊            | 25/31 [02:58<00:42,  7.08s/it]\u001b[A\u001b[A"
     ]
    },
    {
     "name": "stdout",
     "output_type": "stream",
     "text": [
      "다음날짜로 선택시작\n",
      "다음 날짜 선택 후 크롤링 준비\n",
      "https://search.naver.com/search.naver?where=news&query=%EC%BD%94%EC%8A%A4%ED%94%BC%20%EA%B2%BD%EC%A0%9C&sm=tab_opt&sort=0&photo=0&field=0&pd=3&ds=2021.01.26&de=2021.01.26&docid=&related=0&mynews=0&office_type=0&office_section_code=0&news_office_checked=&nso=so%3Ar%2Cp%3Afrom20210126to20210126&is_sug_officeid=0\n",
      "https://search.naver.com/search.naver?where=news&sm=tab_pge&query=%EC%BD%94%EC%8A%A4%ED%94%BC%20%EA%B2%BD%EC%A0%9C&sort=0&photo=0&field=0&pd=3&ds=2021.01.26&de=2021.01.26&cluster_rank=15&mynews=0&office_type=0&office_section_code=0&news_office_checked=&nso=so:r,p:from20210126to20210126,a:all&start=11\n",
      "https://search.naver.com/search.naver?where=news&sm=tab_pge&query=%EC%BD%94%EC%8A%A4%ED%94%BC%20%EA%B2%BD%EC%A0%9C&sort=0&photo=0&field=0&pd=3&ds=2021.01.26&de=2021.01.26&cluster_rank=27&mynews=0&office_type=0&office_section_code=0&news_office_checked=&nso=so:r,p:from20210126to20210126,a:all&start=21\n",
      "크롤링 준비\n"
     ]
    },
    {
     "name": "stderr",
     "output_type": "stream",
     "text": [
      "\n",
      "\n",
      "preprocessing day:  84%|████████████████████████████████████████████████████▊          | 26/31 [03:05<00:35,  7.07s/it]\u001b[A\u001b[A"
     ]
    },
    {
     "name": "stdout",
     "output_type": "stream",
     "text": [
      "다음날짜로 선택시작\n",
      "다음 날짜 선택 후 크롤링 준비\n",
      "https://search.naver.com/search.naver?where=news&query=%EC%BD%94%EC%8A%A4%ED%94%BC%20%EA%B2%BD%EC%A0%9C&sm=tab_opt&sort=0&photo=0&field=0&pd=3&ds=2021.01.27&de=2021.01.27&docid=&related=0&mynews=0&office_type=0&office_section_code=0&news_office_checked=&nso=so%3Ar%2Cp%3Afrom20210127to20210127&is_sug_officeid=0\n",
      "https://search.naver.com/search.naver?where=news&sm=tab_pge&query=%EC%BD%94%EC%8A%A4%ED%94%BC%20%EA%B2%BD%EC%A0%9C&sort=0&photo=0&field=0&pd=3&ds=2021.01.27&de=2021.01.27&cluster_rank=11&mynews=0&office_type=0&office_section_code=0&news_office_checked=&nso=so:r,p:from20210127to20210127,a:all&start=11\n",
      "https://search.naver.com/search.naver?where=news&sm=tab_pge&query=%EC%BD%94%EC%8A%A4%ED%94%BC%20%EA%B2%BD%EC%A0%9C&sort=0&photo=0&field=0&pd=3&ds=2021.01.27&de=2021.01.27&cluster_rank=21&mynews=0&office_type=0&office_section_code=0&news_office_checked=&nso=so:r,p:from20210127to20210127,a:all&start=21\n",
      "크롤링 준비\n"
     ]
    },
    {
     "name": "stderr",
     "output_type": "stream",
     "text": [
      "\n",
      "\n",
      "preprocessing day:  87%|██████████████████████████████████████████████████████▊        | 27/31 [03:12<00:28,  7.12s/it]\u001b[A\u001b[A"
     ]
    },
    {
     "name": "stdout",
     "output_type": "stream",
     "text": [
      "다음날짜로 선택시작\n",
      "다음 날짜 선택 후 크롤링 준비\n",
      "https://search.naver.com/search.naver?where=news&query=%EC%BD%94%EC%8A%A4%ED%94%BC%20%EA%B2%BD%EC%A0%9C&sm=tab_opt&sort=0&photo=0&field=0&pd=3&ds=2021.01.28&de=2021.01.28&docid=&related=0&mynews=0&office_type=0&office_section_code=0&news_office_checked=&nso=so%3Ar%2Cp%3Afrom20210128to20210128&is_sug_officeid=0\n",
      "https://search.naver.com/search.naver?where=news&sm=tab_pge&query=%EC%BD%94%EC%8A%A4%ED%94%BC%20%EA%B2%BD%EC%A0%9C&sort=0&photo=0&field=0&pd=3&ds=2021.01.28&de=2021.01.28&cluster_rank=12&mynews=0&office_type=0&office_section_code=0&news_office_checked=&nso=so:r,p:from20210128to20210128,a:all&start=11\n",
      "https://search.naver.com/search.naver?where=news&sm=tab_pge&query=%EC%BD%94%EC%8A%A4%ED%94%BC%20%EA%B2%BD%EC%A0%9C&sort=0&photo=0&field=0&pd=3&ds=2021.01.28&de=2021.01.28&cluster_rank=23&mynews=0&office_type=0&office_section_code=0&news_office_checked=&nso=so:r,p:from20210128to20210128,a:all&start=21\n",
      "크롤링 준비\n"
     ]
    },
    {
     "name": "stderr",
     "output_type": "stream",
     "text": [
      "\n",
      "\n",
      "preprocessing day:  90%|████████████████████████████████████████████████████████▉      | 28/31 [03:19<00:21,  7.11s/it]\u001b[A\u001b[A"
     ]
    },
    {
     "name": "stdout",
     "output_type": "stream",
     "text": [
      "다음날짜로 선택시작\n",
      "다음 날짜 선택 후 크롤링 준비\n",
      "https://search.naver.com/search.naver?where=news&query=%EC%BD%94%EC%8A%A4%ED%94%BC%20%EA%B2%BD%EC%A0%9C&sm=tab_opt&sort=0&photo=0&field=0&pd=3&ds=2021.01.29&de=2021.01.29&docid=&related=0&mynews=0&office_type=0&office_section_code=0&news_office_checked=&nso=so%3Ar%2Cp%3Afrom20210129to20210129&is_sug_officeid=0\n",
      "https://search.naver.com/search.naver?where=news&sm=tab_pge&query=%EC%BD%94%EC%8A%A4%ED%94%BC%20%EA%B2%BD%EC%A0%9C&sort=0&photo=0&field=0&pd=3&ds=2021.01.29&de=2021.01.29&cluster_rank=15&mynews=0&office_type=0&office_section_code=0&news_office_checked=&nso=so:r,p:from20210129to20210129,a:all&start=11\n",
      "https://search.naver.com/search.naver?where=news&sm=tab_pge&query=%EC%BD%94%EC%8A%A4%ED%94%BC%20%EA%B2%BD%EC%A0%9C&sort=0&photo=0&field=0&pd=3&ds=2021.01.29&de=2021.01.29&cluster_rank=27&mynews=0&office_type=0&office_section_code=0&news_office_checked=&nso=so:r,p:from20210129to20210129,a:all&start=21\n",
      "크롤링 준비\n"
     ]
    },
    {
     "name": "stderr",
     "output_type": "stream",
     "text": [
      "\n",
      "\n",
      "preprocessing day:  94%|██████████████████████████████████████████████████████████▉    | 29/31 [03:27<00:14,  7.14s/it]\u001b[A\u001b[A"
     ]
    },
    {
     "name": "stdout",
     "output_type": "stream",
     "text": [
      "다음날짜로 선택시작\n",
      "다음 날짜 선택 후 크롤링 준비\n",
      "https://search.naver.com/search.naver?where=news&query=%EC%BD%94%EC%8A%A4%ED%94%BC%20%EA%B2%BD%EC%A0%9C&sm=tab_opt&sort=0&photo=0&field=0&pd=3&ds=2021.01.30&de=2021.01.30&docid=&related=0&mynews=0&office_type=0&office_section_code=0&news_office_checked=&nso=so%3Ar%2Cp%3Afrom20210130to20210130&is_sug_officeid=0\n",
      "https://search.naver.com/search.naver?where=news&sm=tab_pge&query=%EC%BD%94%EC%8A%A4%ED%94%BC%20%EA%B2%BD%EC%A0%9C&sort=0&photo=0&field=0&pd=3&ds=2021.01.30&de=2021.01.30&cluster_rank=12&mynews=0&office_type=0&office_section_code=0&news_office_checked=&nso=so:r,p:from20210130to20210130,a:all&start=11\n",
      "https://search.naver.com/search.naver?where=news&sm=tab_pge&query=%EC%BD%94%EC%8A%A4%ED%94%BC%20%EA%B2%BD%EC%A0%9C&sort=0&photo=0&field=0&pd=3&ds=2021.01.30&de=2021.01.30&cluster_rank=22&mynews=0&office_type=0&office_section_code=0&news_office_checked=&nso=so:r,p:from20210130to20210130,a:all&start=21\n",
      "크롤링 준비\n"
     ]
    },
    {
     "name": "stderr",
     "output_type": "stream",
     "text": [
      "\n",
      "\n",
      "preprocessing day:  97%|████████████████████████████████████████████████████████████▉  | 30/31 [03:34<00:07,  7.12s/it]\u001b[A\u001b[A"
     ]
    },
    {
     "name": "stdout",
     "output_type": "stream",
     "text": [
      "다음날짜로 선택시작\n",
      "다음 날짜 선택 후 크롤링 준비\n",
      "https://search.naver.com/search.naver?where=news&query=%EC%BD%94%EC%8A%A4%ED%94%BC%20%EA%B2%BD%EC%A0%9C&sm=tab_opt&sort=0&photo=0&field=0&pd=3&ds=2021.01.31&de=2021.01.31&docid=&related=0&mynews=0&office_type=0&office_section_code=0&news_office_checked=&nso=so%3Ar%2Cp%3Afrom20210131to20210131&is_sug_officeid=0\n",
      "https://search.naver.com/search.naver?where=news&sm=tab_pge&query=%EC%BD%94%EC%8A%A4%ED%94%BC%20%EA%B2%BD%EC%A0%9C&sort=0&photo=0&field=0&pd=3&ds=2021.01.31&de=2021.01.31&cluster_rank=16&mynews=0&office_type=0&office_section_code=0&news_office_checked=&nso=so:r,p:from20210131to20210131,a:all&start=11\n",
      "https://search.naver.com/search.naver?where=news&sm=tab_pge&query=%EC%BD%94%EC%8A%A4%ED%94%BC%20%EA%B2%BD%EC%A0%9C&sort=0&photo=0&field=0&pd=3&ds=2021.01.31&de=2021.01.31&cluster_rank=27&mynews=0&office_type=0&office_section_code=0&news_office_checked=&nso=so:r,p:from20210131to20210131,a:all&start=21\n",
      "크롤링 준비\n"
     ]
    },
    {
     "name": "stderr",
     "output_type": "stream",
     "text": [
      "\n",
      "\n",
      "preprocessing day: 100%|███████████████████████████████████████████████████████████████| 31/31 [03:41<00:00,  7.14s/it]\u001b[A\u001b[A\n",
      "\n",
      "preprocessing month:   8%|█████                                                        | 1/12 [03:41<40:34, 221.35s/it]\u001b[A"
     ]
    },
    {
     "name": "stdout",
     "output_type": "stream",
     "text": [
      "다음날짜로 선택시작\n"
     ]
    },
    {
     "name": "stderr",
     "output_type": "stream",
     "text": [
      "\n",
      "\n",
      "preprocessing day:   0%|                                                                        | 0/31 [00:00<?, ?it/s]\u001b[A\u001b[A"
     ]
    },
    {
     "name": "stdout",
     "output_type": "stream",
     "text": [
      "다음 날짜 선택 후 크롤링 준비\n",
      "https://search.naver.com/search.naver?where=news&query=%EC%BD%94%EC%8A%A4%ED%94%BC%20%EA%B2%BD%EC%A0%9C&sm=tab_opt&sort=0&photo=0&field=0&pd=3&ds=2021.02.01&de=2021.02.01&docid=&related=0&mynews=0&office_type=0&office_section_code=0&news_office_checked=&nso=so%3Ar%2Cp%3Afrom20210201to20210201&is_sug_officeid=0\n",
      "https://search.naver.com/search.naver?where=news&sm=tab_pge&query=%EC%BD%94%EC%8A%A4%ED%94%BC%20%EA%B2%BD%EC%A0%9C&sort=0&photo=0&field=0&pd=3&ds=2021.02.01&de=2021.02.01&cluster_rank=20&mynews=0&office_type=0&office_section_code=0&news_office_checked=&nso=so:r,p:from20210201to20210201,a:all&start=11\n",
      "https://search.naver.com/search.naver?where=news&sm=tab_pge&query=%EC%BD%94%EC%8A%A4%ED%94%BC%20%EA%B2%BD%EC%A0%9C&sort=0&photo=0&field=0&pd=3&ds=2021.02.01&de=2021.02.01&cluster_rank=30&mynews=0&office_type=0&office_section_code=0&news_office_checked=&nso=so:r,p:from20210201to20210201,a:all&start=21\n",
      "크롤링 준비\n"
     ]
    },
    {
     "name": "stderr",
     "output_type": "stream",
     "text": [
      "\n",
      "\n",
      "preprocessing day:   3%|██                                                              | 1/31 [00:07<03:30,  7.03s/it]\u001b[A\u001b[A"
     ]
    },
    {
     "name": "stdout",
     "output_type": "stream",
     "text": [
      "다음날짜로 선택시작\n",
      "다음 날짜 선택 후 크롤링 준비\n",
      "https://search.naver.com/search.naver?where=news&query=%EC%BD%94%EC%8A%A4%ED%94%BC%20%EA%B2%BD%EC%A0%9C&sm=tab_opt&sort=0&photo=0&field=0&pd=3&ds=2021.02.02&de=2021.02.02&docid=&related=0&mynews=0&office_type=0&office_section_code=0&news_office_checked=&nso=so%3Ar%2Cp%3Afrom20210202to20210202&is_sug_officeid=0\n",
      "https://search.naver.com/search.naver?where=news&sm=tab_pge&query=%EC%BD%94%EC%8A%A4%ED%94%BC%20%EA%B2%BD%EC%A0%9C&sort=0&photo=0&field=0&pd=3&ds=2021.02.02&de=2021.02.02&cluster_rank=19&mynews=0&office_type=0&office_section_code=0&news_office_checked=&nso=so:r,p:from20210202to20210202,a:all&start=11\n",
      "https://search.naver.com/search.naver?where=news&sm=tab_pge&query=%EC%BD%94%EC%8A%A4%ED%94%BC%20%EA%B2%BD%EC%A0%9C&sort=0&photo=0&field=0&pd=3&ds=2021.02.02&de=2021.02.02&cluster_rank=29&mynews=0&office_type=0&office_section_code=0&news_office_checked=&nso=so:r,p:from20210202to20210202,a:all&start=21\n",
      "크롤링 준비\n"
     ]
    },
    {
     "name": "stderr",
     "output_type": "stream",
     "text": [
      "\n",
      "\n",
      "preprocessing day:   6%|████▏                                                           | 2/31 [00:14<03:25,  7.10s/it]\u001b[A\u001b[A"
     ]
    },
    {
     "name": "stdout",
     "output_type": "stream",
     "text": [
      "다음날짜로 선택시작\n",
      "다음 날짜 선택 후 크롤링 준비\n",
      "https://search.naver.com/search.naver?where=news&query=%EC%BD%94%EC%8A%A4%ED%94%BC%20%EA%B2%BD%EC%A0%9C&sm=tab_opt&sort=0&photo=0&field=0&pd=3&ds=2021.02.03&de=2021.02.03&docid=&related=0&mynews=0&office_type=0&office_section_code=0&news_office_checked=&nso=so%3Ar%2Cp%3Afrom20210203to20210203&is_sug_officeid=0\n",
      "https://search.naver.com/search.naver?where=news&sm=tab_pge&query=%EC%BD%94%EC%8A%A4%ED%94%BC%20%EA%B2%BD%EC%A0%9C&sort=0&photo=0&field=0&pd=3&ds=2021.02.03&de=2021.02.03&cluster_rank=21&mynews=0&office_type=0&office_section_code=0&news_office_checked=&nso=so:r,p:from20210203to20210203,a:all&start=11\n",
      "https://search.naver.com/search.naver?where=news&sm=tab_pge&query=%EC%BD%94%EC%8A%A4%ED%94%BC%20%EA%B2%BD%EC%A0%9C&sort=0&photo=0&field=0&pd=3&ds=2021.02.03&de=2021.02.03&cluster_rank=31&mynews=0&office_type=0&office_section_code=0&news_office_checked=&nso=so:r,p:from20210203to20210203,a:all&start=21\n",
      "크롤링 준비\n"
     ]
    },
    {
     "name": "stderr",
     "output_type": "stream",
     "text": [
      "\n",
      "\n",
      "preprocessing day:  10%|██████▏                                                         | 3/31 [00:21<03:17,  7.07s/it]\u001b[A\u001b[A"
     ]
    },
    {
     "name": "stdout",
     "output_type": "stream",
     "text": [
      "다음날짜로 선택시작\n",
      "다음 날짜 선택 후 크롤링 준비\n",
      "https://search.naver.com/search.naver?where=news&query=%EC%BD%94%EC%8A%A4%ED%94%BC%20%EA%B2%BD%EC%A0%9C&sm=tab_opt&sort=0&photo=0&field=0&pd=3&ds=2021.02.04&de=2021.02.04&docid=&related=0&mynews=0&office_type=0&office_section_code=0&news_office_checked=&nso=so%3Ar%2Cp%3Afrom20210204to20210204&is_sug_officeid=0\n",
      "https://search.naver.com/search.naver?where=news&sm=tab_pge&query=%EC%BD%94%EC%8A%A4%ED%94%BC%20%EA%B2%BD%EC%A0%9C&sort=0&photo=0&field=0&pd=3&ds=2021.02.04&de=2021.02.04&cluster_rank=14&mynews=0&office_type=0&office_section_code=0&news_office_checked=&nso=so:r,p:from20210204to20210204,a:all&start=11\n",
      "https://search.naver.com/search.naver?where=news&sm=tab_pge&query=%EC%BD%94%EC%8A%A4%ED%94%BC%20%EA%B2%BD%EC%A0%9C&sort=0&photo=0&field=0&pd=3&ds=2021.02.04&de=2021.02.04&cluster_rank=25&mynews=0&office_type=0&office_section_code=0&news_office_checked=&nso=so:r,p:from20210204to20210204,a:all&start=21\n",
      "크롤링 준비\n"
     ]
    },
    {
     "name": "stderr",
     "output_type": "stream",
     "text": [
      "\n",
      "\n",
      "preprocessing day:  13%|████████▎                                                       | 4/31 [00:28<03:11,  7.08s/it]\u001b[A\u001b[A"
     ]
    },
    {
     "name": "stdout",
     "output_type": "stream",
     "text": [
      "다음날짜로 선택시작\n",
      "다음 날짜 선택 후 크롤링 준비\n",
      "https://search.naver.com/search.naver?where=news&query=%EC%BD%94%EC%8A%A4%ED%94%BC%20%EA%B2%BD%EC%A0%9C&sm=tab_opt&sort=0&photo=0&field=0&pd=3&ds=2021.02.05&de=2021.02.05&docid=&related=0&mynews=0&office_type=0&office_section_code=0&news_office_checked=&nso=so%3Ar%2Cp%3Afrom20210205to20210205&is_sug_officeid=0\n",
      "https://search.naver.com/search.naver?where=news&sm=tab_pge&query=%EC%BD%94%EC%8A%A4%ED%94%BC%20%EA%B2%BD%EC%A0%9C&sort=0&photo=0&field=0&pd=3&ds=2021.02.05&de=2021.02.05&cluster_rank=12&mynews=0&office_type=0&office_section_code=0&news_office_checked=&nso=so:r,p:from20210205to20210205,a:all&start=11\n",
      "https://search.naver.com/search.naver?where=news&sm=tab_pge&query=%EC%BD%94%EC%8A%A4%ED%94%BC%20%EA%B2%BD%EC%A0%9C&sort=0&photo=0&field=0&pd=3&ds=2021.02.05&de=2021.02.05&cluster_rank=31&mynews=0&office_type=0&office_section_code=0&news_office_checked=&nso=so:r,p:from20210205to20210205,a:all&start=21\n",
      "크롤링 준비\n"
     ]
    },
    {
     "name": "stderr",
     "output_type": "stream",
     "text": [
      "\n",
      "\n",
      "preprocessing day:  16%|██████████▎                                                     | 5/31 [00:35<03:05,  7.14s/it]\u001b[A\u001b[A"
     ]
    },
    {
     "name": "stdout",
     "output_type": "stream",
     "text": [
      "다음날짜로 선택시작\n",
      "다음 날짜 선택 후 크롤링 준비\n",
      "https://search.naver.com/search.naver?where=news&query=%EC%BD%94%EC%8A%A4%ED%94%BC%20%EA%B2%BD%EC%A0%9C&sm=tab_opt&sort=0&photo=0&field=0&pd=3&ds=2021.02.06&de=2021.02.06&docid=&related=0&mynews=0&office_type=0&office_section_code=0&news_office_checked=&nso=so%3Ar%2Cp%3Afrom20210206to20210206&is_sug_officeid=0\n",
      "https://search.naver.com/search.naver?where=news&sm=tab_pge&query=%EC%BD%94%EC%8A%A4%ED%94%BC%20%EA%B2%BD%EC%A0%9C&sort=0&photo=0&field=0&pd=3&ds=2021.02.06&de=2021.02.06&cluster_rank=12&mynews=0&office_type=0&office_section_code=0&news_office_checked=&nso=so:r,p:from20210206to20210206,a:all&start=11\n",
      "https://search.naver.com/search.naver?where=news&sm=tab_pge&query=%EC%BD%94%EC%8A%A4%ED%94%BC%20%EA%B2%BD%EC%A0%9C&sort=0&photo=0&field=0&pd=3&ds=2021.02.06&de=2021.02.06&cluster_rank=12&mynews=0&office_type=0&office_section_code=0&news_office_checked=&nso=so:r,p:from20210206to20210206,a:all&start=11\n",
      "크롤링 준비\n"
     ]
    },
    {
     "name": "stderr",
     "output_type": "stream",
     "text": [
      "\n",
      "\n",
      "preprocessing day:  19%|████████████▍                                                   | 6/31 [00:42<02:54,  6.98s/it]\u001b[A\u001b[A"
     ]
    },
    {
     "name": "stdout",
     "output_type": "stream",
     "text": [
      "다음날짜로 선택시작\n",
      "다음 날짜 선택 후 크롤링 준비\n",
      "https://search.naver.com/search.naver?where=news&query=%EC%BD%94%EC%8A%A4%ED%94%BC%20%EA%B2%BD%EC%A0%9C&sm=tab_opt&sort=0&photo=0&field=0&pd=3&ds=2021.02.07&de=2021.02.07&docid=&related=0&mynews=0&office_type=0&office_section_code=0&news_office_checked=&nso=so%3Ar%2Cp%3Afrom20210207to20210207&is_sug_officeid=0\n",
      "https://search.naver.com/search.naver?where=news&sm=tab_pge&query=%EC%BD%94%EC%8A%A4%ED%94%BC%20%EA%B2%BD%EC%A0%9C&sort=0&photo=0&field=0&pd=3&ds=2021.02.07&de=2021.02.07&cluster_rank=12&mynews=0&office_type=0&office_section_code=0&news_office_checked=&nso=so:r,p:from20210207to20210207,a:all&start=11\n",
      "https://search.naver.com/search.naver?where=news&sm=tab_pge&query=%EC%BD%94%EC%8A%A4%ED%94%BC%20%EA%B2%BD%EC%A0%9C&sort=0&photo=0&field=0&pd=3&ds=2021.02.07&de=2021.02.07&cluster_rank=24&mynews=0&office_type=0&office_section_code=0&news_office_checked=&nso=so:r,p:from20210207to20210207,a:all&start=21\n",
      "크롤링 준비\n"
     ]
    },
    {
     "name": "stderr",
     "output_type": "stream",
     "text": [
      "\n",
      "\n",
      "preprocessing day:  23%|██████████████▍                                                 | 7/31 [00:49<02:47,  6.98s/it]\u001b[A\u001b[A"
     ]
    },
    {
     "name": "stdout",
     "output_type": "stream",
     "text": [
      "다음날짜로 선택시작\n",
      "다음 날짜 선택 후 크롤링 준비\n",
      "https://search.naver.com/search.naver?where=news&query=%EC%BD%94%EC%8A%A4%ED%94%BC%20%EA%B2%BD%EC%A0%9C&sm=tab_opt&sort=0&photo=0&field=0&pd=3&ds=2021.02.08&de=2021.02.08&docid=&related=0&mynews=0&office_type=0&office_section_code=0&news_office_checked=&nso=so%3Ar%2Cp%3Afrom20210208to20210208&is_sug_officeid=0\n",
      "https://search.naver.com/search.naver?where=news&sm=tab_pge&query=%EC%BD%94%EC%8A%A4%ED%94%BC%20%EA%B2%BD%EC%A0%9C&sort=0&photo=0&field=0&pd=3&ds=2021.02.08&de=2021.02.08&cluster_rank=12&mynews=0&office_type=0&office_section_code=0&news_office_checked=&nso=so:r,p:from20210208to20210208,a:all&start=11\n",
      "https://search.naver.com/search.naver?where=news&sm=tab_pge&query=%EC%BD%94%EC%8A%A4%ED%94%BC%20%EA%B2%BD%EC%A0%9C&sort=0&photo=0&field=0&pd=3&ds=2021.02.08&de=2021.02.08&cluster_rank=23&mynews=0&office_type=0&office_section_code=0&news_office_checked=&nso=so:r,p:from20210208to20210208,a:all&start=21\n",
      "크롤링 준비\n"
     ]
    },
    {
     "name": "stderr",
     "output_type": "stream",
     "text": [
      "\n",
      "\n",
      "preprocessing day:  26%|████████████████▌                                               | 8/31 [00:56<02:44,  7.16s/it]\u001b[A\u001b[A"
     ]
    },
    {
     "name": "stdout",
     "output_type": "stream",
     "text": [
      "다음날짜로 선택시작\n",
      "다음 날짜 선택 후 크롤링 준비\n",
      "https://search.naver.com/search.naver?where=news&query=%EC%BD%94%EC%8A%A4%ED%94%BC%20%EA%B2%BD%EC%A0%9C&sm=tab_opt&sort=0&photo=0&field=0&pd=3&ds=2021.02.09&de=2021.02.09&docid=&related=0&mynews=0&office_type=0&office_section_code=0&news_office_checked=&nso=so%3Ar%2Cp%3Afrom20210209to20210209&is_sug_officeid=0\n",
      "https://search.naver.com/search.naver?where=news&sm=tab_pge&query=%EC%BD%94%EC%8A%A4%ED%94%BC%20%EA%B2%BD%EC%A0%9C&sort=0&photo=0&field=0&pd=3&ds=2021.02.09&de=2021.02.09&cluster_rank=15&mynews=0&office_type=0&office_section_code=0&news_office_checked=&nso=so:r,p:from20210209to20210209,a:all&start=11\n",
      "https://search.naver.com/search.naver?where=news&sm=tab_pge&query=%EC%BD%94%EC%8A%A4%ED%94%BC%20%EA%B2%BD%EC%A0%9C&sort=0&photo=0&field=0&pd=3&ds=2021.02.09&de=2021.02.09&cluster_rank=26&mynews=0&office_type=0&office_section_code=0&news_office_checked=&nso=so:r,p:from20210209to20210209,a:all&start=21\n",
      "크롤링 준비\n"
     ]
    },
    {
     "name": "stderr",
     "output_type": "stream",
     "text": [
      "\n",
      "\n",
      "preprocessing day:  29%|██████████████████▌                                             | 9/31 [01:04<02:41,  7.35s/it]\u001b[A\u001b[A"
     ]
    },
    {
     "name": "stdout",
     "output_type": "stream",
     "text": [
      "다음날짜로 선택시작\n",
      "다음 날짜 선택 후 크롤링 준비\n",
      "https://search.naver.com/search.naver?where=news&query=%EC%BD%94%EC%8A%A4%ED%94%BC%20%EA%B2%BD%EC%A0%9C&sm=tab_opt&sort=0&photo=0&field=0&pd=3&ds=2021.02.10&de=2021.02.10&docid=&related=0&mynews=0&office_type=0&office_section_code=0&news_office_checked=&nso=so%3Ar%2Cp%3Afrom20210210to20210210&is_sug_officeid=0\n",
      "https://search.naver.com/search.naver?where=news&sm=tab_pge&query=%EC%BD%94%EC%8A%A4%ED%94%BC%20%EA%B2%BD%EC%A0%9C&sort=0&photo=0&field=0&pd=3&ds=2021.02.10&de=2021.02.10&cluster_rank=11&mynews=0&office_type=0&office_section_code=0&news_office_checked=&nso=so:r,p:from20210210to20210210,a:all&start=11\n",
      "https://search.naver.com/search.naver?where=news&sm=tab_pge&query=%EC%BD%94%EC%8A%A4%ED%94%BC%20%EA%B2%BD%EC%A0%9C&sort=0&photo=0&field=0&pd=3&ds=2021.02.10&de=2021.02.10&cluster_rank=22&mynews=0&office_type=0&office_section_code=0&news_office_checked=&nso=so:r,p:from20210210to20210210,a:all&start=21\n",
      "크롤링 준비\n"
     ]
    },
    {
     "name": "stderr",
     "output_type": "stream",
     "text": [
      "\n",
      "\n",
      "preprocessing day:  32%|████████████████████▎                                          | 10/31 [01:11<02:33,  7.32s/it]\u001b[A\u001b[A"
     ]
    },
    {
     "name": "stdout",
     "output_type": "stream",
     "text": [
      "다음날짜로 선택시작\n",
      "다음 날짜 선택 후 크롤링 준비\n",
      "https://search.naver.com/search.naver?where=news&query=%EC%BD%94%EC%8A%A4%ED%94%BC%20%EA%B2%BD%EC%A0%9C&sm=tab_opt&sort=0&photo=0&field=0&pd=3&ds=2021.02.11&de=2021.02.11&docid=&related=0&mynews=0&office_type=0&office_section_code=0&news_office_checked=&nso=so%3Ar%2Cp%3Afrom20210211to20210211&is_sug_officeid=0\n",
      "https://search.naver.com/search.naver?where=news&sm=tab_pge&query=%EC%BD%94%EC%8A%A4%ED%94%BC%20%EA%B2%BD%EC%A0%9C&sort=0&photo=0&field=0&pd=3&ds=2021.02.11&de=2021.02.11&cluster_rank=11&mynews=0&office_type=0&office_section_code=0&news_office_checked=&nso=so:r,p:from20210211to20210211,a:all&start=11\n",
      "https://search.naver.com/search.naver?where=news&sm=tab_pge&query=%EC%BD%94%EC%8A%A4%ED%94%BC%20%EA%B2%BD%EC%A0%9C&sort=0&photo=0&field=0&pd=3&ds=2021.02.11&de=2021.02.11&cluster_rank=11&mynews=0&office_type=0&office_section_code=0&news_office_checked=&nso=so:r,p:from20210211to20210211,a:all&start=11\n",
      "크롤링 준비\n"
     ]
    },
    {
     "name": "stderr",
     "output_type": "stream",
     "text": [
      "\n",
      "\n",
      "preprocessing day:  35%|██████████████████████▎                                        | 11/31 [01:18<02:23,  7.15s/it]\u001b[A\u001b[A"
     ]
    },
    {
     "name": "stdout",
     "output_type": "stream",
     "text": [
      "다음날짜로 선택시작\n",
      "다음 날짜 선택 후 크롤링 준비\n",
      "https://search.naver.com/search.naver?where=news&query=%EC%BD%94%EC%8A%A4%ED%94%BC%20%EA%B2%BD%EC%A0%9C&sm=tab_opt&sort=0&photo=0&field=0&pd=3&ds=2021.02.12&de=2021.02.12&docid=&related=0&mynews=0&office_type=0&office_section_code=0&news_office_checked=&nso=so%3Ar%2Cp%3Afrom20210212to20210212&is_sug_officeid=0\n",
      "https://search.naver.com/search.naver?where=news&sm=tab_pge&query=%EC%BD%94%EC%8A%A4%ED%94%BC%20%EA%B2%BD%EC%A0%9C&sort=0&photo=0&field=0&pd=3&ds=2021.02.12&de=2021.02.12&cluster_rank=10&mynews=0&office_type=0&office_section_code=0&news_office_checked=&nso=so:r,p:from20210212to20210212,a:all&start=11\n",
      "https://search.naver.com/search.naver?where=news&sm=tab_pge&query=%EC%BD%94%EC%8A%A4%ED%94%BC%20%EA%B2%BD%EC%A0%9C&sort=0&photo=0&field=0&pd=3&ds=2021.02.12&de=2021.02.12&cluster_rank=10&mynews=0&office_type=0&office_section_code=0&news_office_checked=&nso=so:r,p:from20210212to20210212,a:all&start=11\n",
      "크롤링 준비\n"
     ]
    },
    {
     "name": "stderr",
     "output_type": "stream",
     "text": [
      "\n",
      "\n",
      "preprocessing day:  39%|████████████████████████▍                                      | 12/31 [01:25<02:12,  7.00s/it]\u001b[A\u001b[A"
     ]
    },
    {
     "name": "stdout",
     "output_type": "stream",
     "text": [
      "다음날짜로 선택시작\n",
      "다음 날짜 선택 후 크롤링 준비\n",
      "https://search.naver.com/search.naver?where=news&query=%EC%BD%94%EC%8A%A4%ED%94%BC%20%EA%B2%BD%EC%A0%9C&sm=tab_opt&sort=0&photo=0&field=0&pd=3&ds=2021.02.13&de=2021.02.13&docid=&related=0&mynews=0&office_type=0&office_section_code=0&news_office_checked=&nso=so%3Ar%2Cp%3Afrom20210213to20210213&is_sug_officeid=0\n",
      "https://search.naver.com/search.naver?where=news&sm=tab_pge&query=%EC%BD%94%EC%8A%A4%ED%94%BC%20%EA%B2%BD%EC%A0%9C&sort=0&photo=0&field=0&pd=3&ds=2021.02.13&de=2021.02.13&cluster_rank=11&mynews=0&office_type=0&office_section_code=0&news_office_checked=&nso=so:r,p:from20210213to20210213,a:all&start=11\n",
      "https://search.naver.com/search.naver?where=news&sm=tab_pge&query=%EC%BD%94%EC%8A%A4%ED%94%BC%20%EA%B2%BD%EC%A0%9C&sort=0&photo=0&field=0&pd=3&ds=2021.02.13&de=2021.02.13&cluster_rank=11&mynews=0&office_type=0&office_section_code=0&news_office_checked=&nso=so:r,p:from20210213to20210213,a:all&start=11\n",
      "크롤링 준비\n"
     ]
    },
    {
     "name": "stderr",
     "output_type": "stream",
     "text": [
      "\n",
      "\n",
      "preprocessing day:  42%|██████████████████████████▍                                    | 13/31 [01:31<02:04,  6.94s/it]\u001b[A\u001b[A"
     ]
    },
    {
     "name": "stdout",
     "output_type": "stream",
     "text": [
      "다음날짜로 선택시작\n",
      "다음 날짜 선택 후 크롤링 준비\n",
      "https://search.naver.com/search.naver?where=news&query=%EC%BD%94%EC%8A%A4%ED%94%BC%20%EA%B2%BD%EC%A0%9C&sm=tab_opt&sort=0&photo=0&field=0&pd=3&ds=2021.02.14&de=2021.02.14&docid=&related=0&mynews=0&office_type=0&office_section_code=0&news_office_checked=&nso=so%3Ar%2Cp%3Afrom20210214to20210214&is_sug_officeid=0\n",
      "https://search.naver.com/search.naver?where=news&sm=tab_pge&query=%EC%BD%94%EC%8A%A4%ED%94%BC%20%EA%B2%BD%EC%A0%9C&sort=0&photo=0&field=0&pd=3&ds=2021.02.14&de=2021.02.14&cluster_rank=16&mynews=0&office_type=0&office_section_code=0&news_office_checked=&nso=so:r,p:from20210214to20210214,a:all&start=11\n",
      "https://search.naver.com/search.naver?where=news&sm=tab_pge&query=%EC%BD%94%EC%8A%A4%ED%94%BC%20%EA%B2%BD%EC%A0%9C&sort=0&photo=0&field=0&pd=3&ds=2021.02.14&de=2021.02.14&cluster_rank=26&mynews=0&office_type=0&office_section_code=0&news_office_checked=&nso=so:r,p:from20210214to20210214,a:all&start=21\n",
      "크롤링 준비\n"
     ]
    },
    {
     "name": "stderr",
     "output_type": "stream",
     "text": [
      "\n",
      "\n",
      "preprocessing day:  45%|████████████████████████████▍                                  | 14/31 [01:39<02:01,  7.17s/it]\u001b[A\u001b[A"
     ]
    },
    {
     "name": "stdout",
     "output_type": "stream",
     "text": [
      "다음날짜로 선택시작\n",
      "다음 날짜 선택 후 크롤링 준비\n",
      "https://search.naver.com/search.naver?where=news&query=%EC%BD%94%EC%8A%A4%ED%94%BC%20%EA%B2%BD%EC%A0%9C&sm=tab_opt&sort=0&photo=0&field=0&pd=3&ds=2021.02.15&de=2021.02.15&docid=&related=0&mynews=0&office_type=0&office_section_code=0&news_office_checked=&nso=so%3Ar%2Cp%3Afrom20210215to20210215&is_sug_officeid=0\n",
      "https://search.naver.com/search.naver?where=news&sm=tab_pge&query=%EC%BD%94%EC%8A%A4%ED%94%BC%20%EA%B2%BD%EC%A0%9C&sort=0&photo=0&field=0&pd=3&ds=2021.02.15&de=2021.02.15&cluster_rank=13&mynews=0&office_type=0&office_section_code=0&news_office_checked=&nso=so:r,p:from20210215to20210215,a:all&start=11\n",
      "https://search.naver.com/search.naver?where=news&sm=tab_pge&query=%EC%BD%94%EC%8A%A4%ED%94%BC%20%EA%B2%BD%EC%A0%9C&sort=0&photo=0&field=0&pd=3&ds=2021.02.15&de=2021.02.15&cluster_rank=24&mynews=0&office_type=0&office_section_code=0&news_office_checked=&nso=so:r,p:from20210215to20210215,a:all&start=21\n",
      "크롤링 준비\n"
     ]
    },
    {
     "name": "stderr",
     "output_type": "stream",
     "text": [
      "\n",
      "\n",
      "preprocessing day:  48%|██████████████████████████████▍                                | 15/31 [01:46<01:54,  7.18s/it]\u001b[A\u001b[A"
     ]
    },
    {
     "name": "stdout",
     "output_type": "stream",
     "text": [
      "다음날짜로 선택시작\n",
      "다음 날짜 선택 후 크롤링 준비\n",
      "https://search.naver.com/search.naver?where=news&query=%EC%BD%94%EC%8A%A4%ED%94%BC%20%EA%B2%BD%EC%A0%9C&sm=tab_opt&sort=0&photo=0&field=0&pd=3&ds=2021.02.16&de=2021.02.16&docid=&related=0&mynews=0&office_type=0&office_section_code=0&news_office_checked=&nso=so%3Ar%2Cp%3Afrom20210216to20210216&is_sug_officeid=0\n",
      "https://search.naver.com/search.naver?where=news&sm=tab_pge&query=%EC%BD%94%EC%8A%A4%ED%94%BC%20%EA%B2%BD%EC%A0%9C&sort=0&photo=0&field=0&pd=3&ds=2021.02.16&de=2021.02.16&cluster_rank=12&mynews=0&office_type=0&office_section_code=0&news_office_checked=&nso=so:r,p:from20210216to20210216,a:all&start=11\n",
      "https://search.naver.com/search.naver?where=news&sm=tab_pge&query=%EC%BD%94%EC%8A%A4%ED%94%BC%20%EA%B2%BD%EC%A0%9C&sort=0&photo=0&field=0&pd=3&ds=2021.02.16&de=2021.02.16&cluster_rank=22&mynews=0&office_type=0&office_section_code=0&news_office_checked=&nso=so:r,p:from20210216to20210216,a:all&start=21\n",
      "크롤링 준비\n"
     ]
    },
    {
     "name": "stderr",
     "output_type": "stream",
     "text": [
      "\n",
      "\n",
      "preprocessing day:  52%|████████████████████████████████▌                              | 16/31 [01:53<01:47,  7.14s/it]\u001b[A\u001b[A"
     ]
    },
    {
     "name": "stdout",
     "output_type": "stream",
     "text": [
      "다음날짜로 선택시작\n",
      "다음 날짜 선택 후 크롤링 준비\n",
      "https://search.naver.com/search.naver?where=news&query=%EC%BD%94%EC%8A%A4%ED%94%BC%20%EA%B2%BD%EC%A0%9C&sm=tab_opt&sort=0&photo=0&field=0&pd=3&ds=2021.02.17&de=2021.02.17&docid=&related=0&mynews=0&office_type=0&office_section_code=0&news_office_checked=&nso=so%3Ar%2Cp%3Afrom20210217to20210217&is_sug_officeid=0\n",
      "https://search.naver.com/search.naver?where=news&sm=tab_pge&query=%EC%BD%94%EC%8A%A4%ED%94%BC%20%EA%B2%BD%EC%A0%9C&sort=0&photo=0&field=0&pd=3&ds=2021.02.17&de=2021.02.17&cluster_rank=14&mynews=0&office_type=0&office_section_code=0&news_office_checked=&nso=so:r,p:from20210217to20210217,a:all&start=11\n",
      "https://search.naver.com/search.naver?where=news&sm=tab_pge&query=%EC%BD%94%EC%8A%A4%ED%94%BC%20%EA%B2%BD%EC%A0%9C&sort=0&photo=0&field=0&pd=3&ds=2021.02.17&de=2021.02.17&cluster_rank=29&mynews=0&office_type=0&office_section_code=0&news_office_checked=&nso=so:r,p:from20210217to20210217,a:all&start=21\n",
      "크롤링 준비\n"
     ]
    },
    {
     "name": "stderr",
     "output_type": "stream",
     "text": [
      "\n",
      "\n",
      "preprocessing day:  55%|██████████████████████████████████▌                            | 17/31 [02:00<01:39,  7.10s/it]\u001b[A\u001b[A"
     ]
    },
    {
     "name": "stdout",
     "output_type": "stream",
     "text": [
      "다음날짜로 선택시작\n",
      "다음 날짜 선택 후 크롤링 준비\n",
      "https://search.naver.com/search.naver?where=news&query=%EC%BD%94%EC%8A%A4%ED%94%BC%20%EA%B2%BD%EC%A0%9C&sm=tab_opt&sort=0&photo=0&field=0&pd=3&ds=2021.02.18&de=2021.02.18&docid=&related=0&mynews=0&office_type=0&office_section_code=0&news_office_checked=&nso=so%3Ar%2Cp%3Afrom20210218to20210218&is_sug_officeid=0\n",
      "https://search.naver.com/search.naver?where=news&sm=tab_pge&query=%EC%BD%94%EC%8A%A4%ED%94%BC%20%EA%B2%BD%EC%A0%9C&sort=0&photo=0&field=0&pd=3&ds=2021.02.18&de=2021.02.18&cluster_rank=11&mynews=0&office_type=0&office_section_code=0&news_office_checked=&nso=so:r,p:from20210218to20210218,a:all&start=11\n",
      "https://search.naver.com/search.naver?where=news&sm=tab_pge&query=%EC%BD%94%EC%8A%A4%ED%94%BC%20%EA%B2%BD%EC%A0%9C&sort=0&photo=0&field=0&pd=3&ds=2021.02.18&de=2021.02.18&cluster_rank=21&mynews=0&office_type=0&office_section_code=0&news_office_checked=&nso=so:r,p:from20210218to20210218,a:all&start=21\n",
      "크롤링 준비\n"
     ]
    },
    {
     "name": "stderr",
     "output_type": "stream",
     "text": [
      "\n",
      "\n",
      "preprocessing day:  58%|████████████████████████████████████▌                          | 18/31 [02:07<01:31,  7.07s/it]\u001b[A\u001b[A"
     ]
    },
    {
     "name": "stdout",
     "output_type": "stream",
     "text": [
      "다음날짜로 선택시작\n",
      "다음 날짜 선택 후 크롤링 준비\n",
      "https://search.naver.com/search.naver?where=news&query=%EC%BD%94%EC%8A%A4%ED%94%BC%20%EA%B2%BD%EC%A0%9C&sm=tab_opt&sort=0&photo=0&field=0&pd=3&ds=2021.02.19&de=2021.02.19&docid=&related=0&mynews=0&office_type=0&office_section_code=0&news_office_checked=&nso=so%3Ar%2Cp%3Afrom20210219to20210219&is_sug_officeid=0\n",
      "https://search.naver.com/search.naver?where=news&sm=tab_pge&query=%EC%BD%94%EC%8A%A4%ED%94%BC%20%EA%B2%BD%EC%A0%9C&sort=0&photo=0&field=0&pd=3&ds=2021.02.19&de=2021.02.19&cluster_rank=13&mynews=0&office_type=0&office_section_code=0&news_office_checked=&nso=so:r,p:from20210219to20210219,a:all&start=11\n",
      "https://search.naver.com/search.naver?where=news&sm=tab_pge&query=%EC%BD%94%EC%8A%A4%ED%94%BC%20%EA%B2%BD%EC%A0%9C&sort=0&photo=0&field=0&pd=3&ds=2021.02.19&de=2021.02.19&cluster_rank=27&mynews=0&office_type=0&office_section_code=0&news_office_checked=&nso=so:r,p:from20210219to20210219,a:all&start=21\n",
      "크롤링 준비\n"
     ]
    },
    {
     "name": "stderr",
     "output_type": "stream",
     "text": [
      "\n",
      "\n",
      "preprocessing day:  61%|██████████████████████████████████████▌                        | 19/31 [02:15<01:24,  7.07s/it]\u001b[A\u001b[A"
     ]
    },
    {
     "name": "stdout",
     "output_type": "stream",
     "text": [
      "다음날짜로 선택시작\n",
      "다음 날짜 선택 후 크롤링 준비\n",
      "https://search.naver.com/search.naver?where=news&query=%EC%BD%94%EC%8A%A4%ED%94%BC%20%EA%B2%BD%EC%A0%9C&sm=tab_opt&sort=0&photo=0&field=0&pd=3&ds=2021.02.20&de=2021.02.20&docid=&related=0&mynews=0&office_type=0&office_section_code=0&news_office_checked=&nso=so%3Ar%2Cp%3Afrom20210220to20210220&is_sug_officeid=0\n",
      "https://search.naver.com/search.naver?where=news&sm=tab_pge&query=%EC%BD%94%EC%8A%A4%ED%94%BC%20%EA%B2%BD%EC%A0%9C&sort=0&photo=0&field=0&pd=3&ds=2021.02.20&de=2021.02.20&cluster_rank=11&mynews=0&office_type=0&office_section_code=0&news_office_checked=&nso=so:r,p:from20210220to20210220,a:all&start=11\n",
      "https://search.naver.com/search.naver?where=news&sm=tab_pge&query=%EC%BD%94%EC%8A%A4%ED%94%BC%20%EA%B2%BD%EC%A0%9C&sort=0&photo=0&field=0&pd=3&ds=2021.02.20&de=2021.02.20&cluster_rank=11&mynews=0&office_type=0&office_section_code=0&news_office_checked=&nso=so:r,p:from20210220to20210220,a:all&start=11\n",
      "크롤링 준비\n"
     ]
    },
    {
     "name": "stderr",
     "output_type": "stream",
     "text": [
      "\n",
      "\n",
      "preprocessing day:  65%|████████████████████████████████████████▋                      | 20/31 [02:21<01:16,  6.94s/it]\u001b[A\u001b[A"
     ]
    },
    {
     "name": "stdout",
     "output_type": "stream",
     "text": [
      "다음날짜로 선택시작\n",
      "다음 날짜 선택 후 크롤링 준비\n",
      "https://search.naver.com/search.naver?where=news&query=%EC%BD%94%EC%8A%A4%ED%94%BC%20%EA%B2%BD%EC%A0%9C&sm=tab_opt&sort=0&photo=0&field=0&pd=3&ds=2021.02.21&de=2021.02.21&docid=&related=0&mynews=0&office_type=0&office_section_code=0&news_office_checked=&nso=so%3Ar%2Cp%3Afrom20210221to20210221&is_sug_officeid=0\n",
      "https://search.naver.com/search.naver?where=news&sm=tab_pge&query=%EC%BD%94%EC%8A%A4%ED%94%BC%20%EA%B2%BD%EC%A0%9C&sort=0&photo=0&field=0&pd=3&ds=2021.02.21&de=2021.02.21&cluster_rank=13&mynews=0&office_type=0&office_section_code=0&news_office_checked=&nso=so:r,p:from20210221to20210221,a:all&start=11\n",
      "https://search.naver.com/search.naver?where=news&sm=tab_pge&query=%EC%BD%94%EC%8A%A4%ED%94%BC%20%EA%B2%BD%EC%A0%9C&sort=0&photo=0&field=0&pd=3&ds=2021.02.21&de=2021.02.21&cluster_rank=25&mynews=0&office_type=0&office_section_code=0&news_office_checked=&nso=so:r,p:from20210221to20210221,a:all&start=21\n",
      "크롤링 준비\n"
     ]
    },
    {
     "name": "stderr",
     "output_type": "stream",
     "text": [
      "\n",
      "\n",
      "preprocessing day:  68%|██████████████████████████████████████████▋                    | 21/31 [02:28<01:09,  6.99s/it]\u001b[A\u001b[A"
     ]
    },
    {
     "name": "stdout",
     "output_type": "stream",
     "text": [
      "다음날짜로 선택시작\n",
      "다음 날짜 선택 후 크롤링 준비\n",
      "https://search.naver.com/search.naver?where=news&query=%EC%BD%94%EC%8A%A4%ED%94%BC%20%EA%B2%BD%EC%A0%9C&sm=tab_opt&sort=0&photo=0&field=0&pd=3&ds=2021.02.22&de=2021.02.22&docid=&related=0&mynews=0&office_type=0&office_section_code=0&news_office_checked=&nso=so%3Ar%2Cp%3Afrom20210222to20210222&is_sug_officeid=0\n",
      "https://search.naver.com/search.naver?where=news&sm=tab_pge&query=%EC%BD%94%EC%8A%A4%ED%94%BC%20%EA%B2%BD%EC%A0%9C&sort=0&photo=0&field=0&pd=3&ds=2021.02.22&de=2021.02.22&cluster_rank=11&mynews=0&office_type=0&office_section_code=0&news_office_checked=&nso=so:r,p:from20210222to20210222,a:all&start=11\n",
      "https://search.naver.com/search.naver?where=news&sm=tab_pge&query=%EC%BD%94%EC%8A%A4%ED%94%BC%20%EA%B2%BD%EC%A0%9C&sort=0&photo=0&field=0&pd=3&ds=2021.02.22&de=2021.02.22&cluster_rank=23&mynews=0&office_type=0&office_section_code=0&news_office_checked=&nso=so:r,p:from20210222to20210222,a:all&start=21\n",
      "크롤링 준비\n"
     ]
    },
    {
     "name": "stderr",
     "output_type": "stream",
     "text": [
      "\n",
      "\n",
      "preprocessing day:  71%|████████████████████████████████████████████▋                  | 22/31 [02:35<01:03,  7.01s/it]\u001b[A\u001b[A"
     ]
    },
    {
     "name": "stdout",
     "output_type": "stream",
     "text": [
      "다음날짜로 선택시작\n",
      "다음 날짜 선택 후 크롤링 준비\n",
      "https://search.naver.com/search.naver?where=news&query=%EC%BD%94%EC%8A%A4%ED%94%BC%20%EA%B2%BD%EC%A0%9C&sm=tab_opt&sort=0&photo=0&field=0&pd=3&ds=2021.02.23&de=2021.02.23&docid=&related=0&mynews=0&office_type=0&office_section_code=0&news_office_checked=&nso=so%3Ar%2Cp%3Afrom20210223to20210223&is_sug_officeid=0\n",
      "https://search.naver.com/search.naver?where=news&sm=tab_pge&query=%EC%BD%94%EC%8A%A4%ED%94%BC%20%EA%B2%BD%EC%A0%9C&sort=0&photo=0&field=0&pd=3&ds=2021.02.23&de=2021.02.23&cluster_rank=14&mynews=0&office_type=0&office_section_code=0&news_office_checked=&nso=so:r,p:from20210223to20210223,a:all&start=11\n",
      "https://search.naver.com/search.naver?where=news&sm=tab_pge&query=%EC%BD%94%EC%8A%A4%ED%94%BC%20%EA%B2%BD%EC%A0%9C&sort=0&photo=0&field=0&pd=3&ds=2021.02.23&de=2021.02.23&cluster_rank=24&mynews=0&office_type=0&office_section_code=0&news_office_checked=&nso=so:r,p:from20210223to20210223,a:all&start=21\n",
      "크롤링 준비\n"
     ]
    },
    {
     "name": "stderr",
     "output_type": "stream",
     "text": [
      "\n",
      "\n",
      "preprocessing day:  74%|██████████████████████████████████████████████▋                | 23/31 [02:43<00:56,  7.08s/it]\u001b[A\u001b[A"
     ]
    },
    {
     "name": "stdout",
     "output_type": "stream",
     "text": [
      "다음날짜로 선택시작\n",
      "다음 날짜 선택 후 크롤링 준비\n",
      "https://search.naver.com/search.naver?where=news&query=%EC%BD%94%EC%8A%A4%ED%94%BC%20%EA%B2%BD%EC%A0%9C&sm=tab_opt&sort=0&photo=0&field=0&pd=3&ds=2021.02.24&de=2021.02.24&docid=&related=0&mynews=0&office_type=0&office_section_code=0&news_office_checked=&nso=so%3Ar%2Cp%3Afrom20210224to20210224&is_sug_officeid=0\n",
      "https://search.naver.com/search.naver?where=news&sm=tab_pge&query=%EC%BD%94%EC%8A%A4%ED%94%BC%20%EA%B2%BD%EC%A0%9C&sort=0&photo=0&field=0&pd=3&ds=2021.02.24&de=2021.02.24&cluster_rank=14&mynews=0&office_type=0&office_section_code=0&news_office_checked=&nso=so:r,p:from20210224to20210224,a:all&start=11\n",
      "https://search.naver.com/search.naver?where=news&sm=tab_pge&query=%EC%BD%94%EC%8A%A4%ED%94%BC%20%EA%B2%BD%EC%A0%9C&sort=0&photo=0&field=0&pd=3&ds=2021.02.24&de=2021.02.24&cluster_rank=24&mynews=0&office_type=0&office_section_code=0&news_office_checked=&nso=so:r,p:from20210224to20210224,a:all&start=21\n",
      "크롤링 준비\n"
     ]
    },
    {
     "name": "stderr",
     "output_type": "stream",
     "text": [
      "\n",
      "\n",
      "preprocessing day:  77%|████████████████████████████████████████████████▊              | 24/31 [02:50<00:49,  7.07s/it]\u001b[A\u001b[A"
     ]
    },
    {
     "name": "stdout",
     "output_type": "stream",
     "text": [
      "다음날짜로 선택시작\n",
      "다음 날짜 선택 후 크롤링 준비\n",
      "https://search.naver.com/search.naver?where=news&query=%EC%BD%94%EC%8A%A4%ED%94%BC%20%EA%B2%BD%EC%A0%9C&sm=tab_opt&sort=0&photo=0&field=0&pd=3&ds=2021.02.25&de=2021.02.25&docid=&related=0&mynews=0&office_type=0&office_section_code=0&news_office_checked=&nso=so%3Ar%2Cp%3Afrom20210225to20210225&is_sug_officeid=0\n",
      "https://search.naver.com/search.naver?where=news&sm=tab_pge&query=%EC%BD%94%EC%8A%A4%ED%94%BC%20%EA%B2%BD%EC%A0%9C&sort=0&photo=0&field=0&pd=3&ds=2021.02.25&de=2021.02.25&cluster_rank=12&mynews=0&office_type=0&office_section_code=0&news_office_checked=&nso=so:r,p:from20210225to20210225,a:all&start=11\n",
      "https://search.naver.com/search.naver?where=news&sm=tab_pge&query=%EC%BD%94%EC%8A%A4%ED%94%BC%20%EA%B2%BD%EC%A0%9C&sort=0&photo=0&field=0&pd=3&ds=2021.02.25&de=2021.02.25&cluster_rank=22&mynews=0&office_type=0&office_section_code=0&news_office_checked=&nso=so:r,p:from20210225to20210225,a:all&start=21\n",
      "크롤링 준비\n"
     ]
    },
    {
     "name": "stderr",
     "output_type": "stream",
     "text": [
      "\n",
      "\n",
      "preprocessing day:  81%|██████████████████████████████████████████████████▊            | 25/31 [02:57<00:43,  7.30s/it]\u001b[A\u001b[A"
     ]
    },
    {
     "name": "stdout",
     "output_type": "stream",
     "text": [
      "다음날짜로 선택시작\n",
      "다음 날짜 선택 후 크롤링 준비\n",
      "https://search.naver.com/search.naver?where=news&query=%EC%BD%94%EC%8A%A4%ED%94%BC%20%EA%B2%BD%EC%A0%9C&sm=tab_opt&sort=0&photo=0&field=0&pd=3&ds=2021.02.26&de=2021.02.26&docid=&related=0&mynews=0&office_type=0&office_section_code=0&news_office_checked=&nso=so%3Ar%2Cp%3Afrom20210226to20210226&is_sug_officeid=0\n",
      "https://search.naver.com/search.naver?where=news&sm=tab_pge&query=%EC%BD%94%EC%8A%A4%ED%94%BC%20%EA%B2%BD%EC%A0%9C&sort=0&photo=0&field=0&pd=3&ds=2021.02.26&de=2021.02.26&cluster_rank=14&mynews=0&office_type=0&office_section_code=0&news_office_checked=&nso=so:r,p:from20210226to20210226,a:all&start=11\n",
      "https://search.naver.com/search.naver?where=news&sm=tab_pge&query=%EC%BD%94%EC%8A%A4%ED%94%BC%20%EA%B2%BD%EC%A0%9C&sort=0&photo=0&field=0&pd=3&ds=2021.02.26&de=2021.02.26&cluster_rank=28&mynews=0&office_type=0&office_section_code=0&news_office_checked=&nso=so:r,p:from20210226to20210226,a:all&start=21\n",
      "크롤링 준비\n"
     ]
    },
    {
     "name": "stderr",
     "output_type": "stream",
     "text": [
      "\n",
      "\n",
      "preprocessing day:  84%|████████████████████████████████████████████████████▊          | 26/31 [03:05<00:36,  7.29s/it]\u001b[A\u001b[A"
     ]
    },
    {
     "name": "stdout",
     "output_type": "stream",
     "text": [
      "다음날짜로 선택시작\n",
      "다음 날짜 선택 후 크롤링 준비\n",
      "https://search.naver.com/search.naver?where=news&query=%EC%BD%94%EC%8A%A4%ED%94%BC%20%EA%B2%BD%EC%A0%9C&sm=tab_opt&sort=0&photo=0&field=0&pd=3&ds=2021.02.27&de=2021.02.27&docid=&related=0&mynews=0&office_type=0&office_section_code=0&news_office_checked=&nso=so%3Ar%2Cp%3Afrom20210227to20210227&is_sug_officeid=0\n",
      "https://search.naver.com/search.naver?where=news&sm=tab_pge&query=%EC%BD%94%EC%8A%A4%ED%94%BC%20%EA%B2%BD%EC%A0%9C&sort=0&photo=0&field=0&pd=3&ds=2021.02.27&de=2021.02.27&cluster_rank=10&mynews=0&office_type=0&office_section_code=0&news_office_checked=&nso=so:r,p:from20210227to20210227,a:all&start=11\n",
      "https://search.naver.com/search.naver?where=news&sm=tab_pge&query=%EC%BD%94%EC%8A%A4%ED%94%BC%20%EA%B2%BD%EC%A0%9C&sort=0&photo=0&field=0&pd=3&ds=2021.02.27&de=2021.02.27&cluster_rank=10&mynews=0&office_type=0&office_section_code=0&news_office_checked=&nso=so:r,p:from20210227to20210227,a:all&start=11\n",
      "크롤링 준비\n"
     ]
    },
    {
     "name": "stderr",
     "output_type": "stream",
     "text": [
      "\n",
      "\n",
      "preprocessing day:  87%|██████████████████████████████████████████████████████▊        | 27/31 [03:11<00:28,  7.09s/it]\u001b[A\u001b[A"
     ]
    },
    {
     "name": "stdout",
     "output_type": "stream",
     "text": [
      "다음날짜로 선택시작\n",
      "다음 날짜 선택 후 크롤링 준비\n",
      "https://search.naver.com/search.naver?where=news&query=%EC%BD%94%EC%8A%A4%ED%94%BC%20%EA%B2%BD%EC%A0%9C&sm=tab_opt&sort=0&photo=0&field=0&pd=3&ds=2021.02.28&de=2021.02.28&docid=&related=0&mynews=0&office_type=0&office_section_code=0&news_office_checked=&nso=so%3Ar%2Cp%3Afrom20210228to20210228&is_sug_officeid=0\n",
      "https://search.naver.com/search.naver?where=news&sm=tab_pge&query=%EC%BD%94%EC%8A%A4%ED%94%BC%20%EA%B2%BD%EC%A0%9C&sort=0&photo=0&field=0&pd=3&ds=2021.02.28&de=2021.02.28&cluster_rank=11&mynews=0&office_type=0&office_section_code=0&news_office_checked=&nso=so:r,p:from20210228to20210228,a:all&start=11\n",
      "https://search.naver.com/search.naver?where=news&sm=tab_pge&query=%EC%BD%94%EC%8A%A4%ED%94%BC%20%EA%B2%BD%EC%A0%9C&sort=0&photo=0&field=0&pd=3&ds=2021.02.28&de=2021.02.28&cluster_rank=23&mynews=0&office_type=0&office_section_code=0&news_office_checked=&nso=so:r,p:from20210228to20210228,a:all&start=21\n",
      "크롤링 준비\n"
     ]
    },
    {
     "name": "stderr",
     "output_type": "stream",
     "text": [
      "\n",
      "\n",
      "preprocessing day:  90%|████████████████████████████████████████████████████████▉      | 28/31 [03:18<00:21,  7.09s/it]\u001b[A\u001b[A"
     ]
    },
    {
     "name": "stdout",
     "output_type": "stream",
     "text": [
      "다음날짜로 선택시작\n"
     ]
    },
    {
     "name": "stderr",
     "output_type": "stream",
     "text": [
      "\n",
      "\n",
      "preprocessing day:  94%|██████████████████████████████████████████████████████████▉    | 29/31 [03:20<00:10,  5.32s/it]\u001b[A\u001b[A"
     ]
    },
    {
     "name": "stdout",
     "output_type": "stream",
     "text": [
      "An error occurred while crawling for 2021-2-29: Message: no such element: Unable to locate element: {\"method\":\"xpath\",\"selector\":\"/html/body/div[3]/div[2]/div/div[1]/div[1]/div[2]/ul/li[2]/div/div[3]/div[2]/div[3]/div/div/div/ul/li[29]\"}\n",
      "  (Session info: headless chrome=115.0.5790.171); For documentation on this error, please visit: https://www.selenium.dev/documentation/webdriver/troubleshooting/errors#no-such-element-exception\n",
      "Stacktrace:\n",
      "Backtrace:\n",
      "\tGetHandleVerifier [0x00007FF7F2764A62+57106]\n",
      "\t(No symbol) [0x00007FF7F26DCF52]\n",
      "\t(No symbol) [0x00007FF7F25AE2CB]\n",
      "\t(No symbol) [0x00007FF7F25E786E]\n",
      "\t(No symbol) [0x00007FF7F25E795C]\n",
      "\t(No symbol) [0x00007FF7F2620477]\n",
      "\t(No symbol) [0x00007FF7F26069FF]\n",
      "\t(No symbol) [0x00007FF7F261E522]\n",
      "\t(No symbol) [0x00007FF7F2606793]\n",
      "\t(No symbol) [0x00007FF7F25DCE81]\n",
      "\t(No symbol) [0x00007FF7F25DE064]\n",
      "\tGetHandleVerifier [0x00007FF7F2A14222+2873042]\n",
      "\tGetHandleVerifier [0x00007FF7F2A66590+3209792]\n",
      "\tGetHandleVerifier [0x00007FF7F2A5F3AF+3180639]\n",
      "\tGetHandleVerifier [0x00007FF7F27F5F25+652245]\n",
      "\t(No symbol) [0x00007FF7F26E8618]\n",
      "\t(No symbol) [0x00007FF7F26E47C4]\n",
      "\t(No symbol) [0x00007FF7F26E48BC]\n",
      "\t(No symbol) [0x00007FF7F26D4C33]\n",
      "\tBaseThreadInitThunk [0x00007FFFF2917614+20]\n",
      "\tRtlUserThreadStart [0x00007FFFF3D026B1+33]\n",
      "\n"
     ]
    },
    {
     "name": "stderr",
     "output_type": "stream",
     "text": [
      "\n",
      "\n",
      "preprocessing day:  97%|████████████████████████████████████████████████████████████▉  | 30/31 [03:21<00:04,  4.08s/it]\u001b[A\u001b[A"
     ]
    },
    {
     "name": "stdout",
     "output_type": "stream",
     "text": [
      "An error occurred while crawling for 2021-2-30: Message: no such element: Unable to locate element: {\"method\":\"xpath\",\"selector\":\"/html/body/div[3]/div[2]/div/div[1]/div[1]/div[2]/ul/li[2]/div/div[3]/div[2]/div[3]/div/div/div/ul/li[30]\"}\n",
      "  (Session info: headless chrome=115.0.5790.171); For documentation on this error, please visit: https://www.selenium.dev/documentation/webdriver/troubleshooting/errors#no-such-element-exception\n",
      "Stacktrace:\n",
      "Backtrace:\n",
      "\tGetHandleVerifier [0x00007FF7F2764A62+57106]\n",
      "\t(No symbol) [0x00007FF7F26DCF52]\n",
      "\t(No symbol) [0x00007FF7F25AE2CB]\n",
      "\t(No symbol) [0x00007FF7F25E786E]\n",
      "\t(No symbol) [0x00007FF7F25E795C]\n",
      "\t(No symbol) [0x00007FF7F2620477]\n",
      "\t(No symbol) [0x00007FF7F26069FF]\n",
      "\t(No symbol) [0x00007FF7F261E522]\n",
      "\t(No symbol) [0x00007FF7F2606793]\n",
      "\t(No symbol) [0x00007FF7F25DCE81]\n",
      "\t(No symbol) [0x00007FF7F25DE064]\n",
      "\tGetHandleVerifier [0x00007FF7F2A14222+2873042]\n",
      "\tGetHandleVerifier [0x00007FF7F2A66590+3209792]\n",
      "\tGetHandleVerifier [0x00007FF7F2A5F3AF+3180639]\n",
      "\tGetHandleVerifier [0x00007FF7F27F5F25+652245]\n",
      "\t(No symbol) [0x00007FF7F26E8618]\n",
      "\t(No symbol) [0x00007FF7F26E47C4]\n",
      "\t(No symbol) [0x00007FF7F26E48BC]\n",
      "\t(No symbol) [0x00007FF7F26D4C33]\n",
      "\tBaseThreadInitThunk [0x00007FFFF2917614+20]\n",
      "\tRtlUserThreadStart [0x00007FFFF3D026B1+33]\n",
      "\n"
     ]
    },
    {
     "name": "stderr",
     "output_type": "stream",
     "text": [
      "\n",
      "\n",
      "preprocessing day: 100%|███████████████████████████████████████████████████████████████| 31/31 [03:22<00:00,  6.53s/it]\u001b[A\u001b[A\n",
      "\n",
      "preprocessing month:  17%|██████████▏                                                  | 2/12 [07:03<35:02, 210.26s/it]\u001b[A"
     ]
    },
    {
     "name": "stdout",
     "output_type": "stream",
     "text": [
      "An error occurred while crawling for 2021-2-31: Message: no such element: Unable to locate element: {\"method\":\"xpath\",\"selector\":\"/html/body/div[3]/div[2]/div/div[1]/div[1]/div[2]/ul/li[2]/div/div[3]/div[2]/div[3]/div/div/div/ul/li[31]\"}\n",
      "  (Session info: headless chrome=115.0.5790.171); For documentation on this error, please visit: https://www.selenium.dev/documentation/webdriver/troubleshooting/errors#no-such-element-exception\n",
      "Stacktrace:\n",
      "Backtrace:\n",
      "\tGetHandleVerifier [0x00007FF7F2764A62+57106]\n",
      "\t(No symbol) [0x00007FF7F26DCF52]\n",
      "\t(No symbol) [0x00007FF7F25AE2CB]\n",
      "\t(No symbol) [0x00007FF7F25E786E]\n",
      "\t(No symbol) [0x00007FF7F25E795C]\n",
      "\t(No symbol) [0x00007FF7F2620477]\n",
      "\t(No symbol) [0x00007FF7F26069FF]\n",
      "\t(No symbol) [0x00007FF7F261E522]\n",
      "\t(No symbol) [0x00007FF7F2606793]\n",
      "\t(No symbol) [0x00007FF7F25DCE81]\n",
      "\t(No symbol) [0x00007FF7F25DE064]\n",
      "\tGetHandleVerifier [0x00007FF7F2A14222+2873042]\n",
      "\tGetHandleVerifier [0x00007FF7F2A66590+3209792]\n",
      "\tGetHandleVerifier [0x00007FF7F2A5F3AF+3180639]\n",
      "\tGetHandleVerifier [0x00007FF7F27F5F25+652245]\n",
      "\t(No symbol) [0x00007FF7F26E8618]\n",
      "\t(No symbol) [0x00007FF7F26E47C4]\n",
      "\t(No symbol) [0x00007FF7F26E48BC]\n",
      "\t(No symbol) [0x00007FF7F26D4C33]\n",
      "\tBaseThreadInitThunk [0x00007FFFF2917614+20]\n",
      "\tRtlUserThreadStart [0x00007FFFF3D026B1+33]\n",
      "\n"
     ]
    },
    {
     "name": "stderr",
     "output_type": "stream",
     "text": [
      "\n",
      "\n",
      "preprocessing day:   0%|                                                                        | 0/31 [00:00<?, ?it/s]\u001b[A\u001b[A"
     ]
    },
    {
     "name": "stdout",
     "output_type": "stream",
     "text": [
      "다음 날짜 선택 후 크롤링 준비\n",
      "https://search.naver.com/search.naver?where=news&query=%EC%BD%94%EC%8A%A4%ED%94%BC%20%EA%B2%BD%EC%A0%9C&sm=tab_opt&sort=0&photo=0&field=0&pd=3&ds=2021.03.01&de=2021.03.01&docid=&related=0&mynews=0&office_type=0&office_section_code=0&news_office_checked=&nso=so%3Ar%2Cp%3Afrom20210301to20210301&is_sug_officeid=0\n",
      "https://search.naver.com/search.naver?where=news&sm=tab_pge&query=%EC%BD%94%EC%8A%A4%ED%94%BC%20%EA%B2%BD%EC%A0%9C&sort=0&photo=0&field=0&pd=3&ds=2021.03.01&de=2021.03.01&cluster_rank=14&mynews=0&office_type=0&office_section_code=0&news_office_checked=&nso=so:r,p:from20210301to20210301,a:all&start=11\n",
      "https://search.naver.com/search.naver?where=news&sm=tab_pge&query=%EC%BD%94%EC%8A%A4%ED%94%BC%20%EA%B2%BD%EC%A0%9C&sort=0&photo=0&field=0&pd=3&ds=2021.03.01&de=2021.03.01&cluster_rank=26&mynews=0&office_type=0&office_section_code=0&news_office_checked=&nso=so:r,p:from20210301to20210301,a:all&start=21\n",
      "크롤링 준비\n"
     ]
    },
    {
     "name": "stderr",
     "output_type": "stream",
     "text": [
      "\n",
      "\n",
      "preprocessing day:   3%|██                                                              | 1/31 [00:07<03:33,  7.12s/it]\u001b[A\u001b[A"
     ]
    },
    {
     "name": "stdout",
     "output_type": "stream",
     "text": [
      "다음날짜로 선택시작\n",
      "다음 날짜 선택 후 크롤링 준비\n",
      "https://search.naver.com/search.naver?where=news&query=%EC%BD%94%EC%8A%A4%ED%94%BC%20%EA%B2%BD%EC%A0%9C&sm=tab_opt&sort=0&photo=0&field=0&pd=3&ds=2021.03.02&de=2021.03.02&docid=&related=0&mynews=0&office_type=0&office_section_code=0&news_office_checked=&nso=so%3Ar%2Cp%3Afrom20210302to20210302&is_sug_officeid=0\n",
      "https://search.naver.com/search.naver?where=news&sm=tab_pge&query=%EC%BD%94%EC%8A%A4%ED%94%BC%20%EA%B2%BD%EC%A0%9C&sort=0&photo=0&field=0&pd=3&ds=2021.03.02&de=2021.03.02&cluster_rank=20&mynews=0&office_type=0&office_section_code=0&news_office_checked=&nso=so:r,p:from20210302to20210302,a:all&start=11\n",
      "https://search.naver.com/search.naver?where=news&sm=tab_pge&query=%EC%BD%94%EC%8A%A4%ED%94%BC%20%EA%B2%BD%EC%A0%9C&sort=0&photo=0&field=0&pd=3&ds=2021.03.02&de=2021.03.02&cluster_rank=31&mynews=0&office_type=0&office_section_code=0&news_office_checked=&nso=so:r,p:from20210302to20210302,a:all&start=21\n",
      "크롤링 준비\n"
     ]
    },
    {
     "name": "stderr",
     "output_type": "stream",
     "text": [
      "\n",
      "\n",
      "preprocessing day:   6%|████▏                                                           | 2/31 [00:14<03:25,  7.10s/it]\u001b[A\u001b[A"
     ]
    },
    {
     "name": "stdout",
     "output_type": "stream",
     "text": [
      "다음날짜로 선택시작\n",
      "다음 날짜 선택 후 크롤링 준비\n",
      "https://search.naver.com/search.naver?where=news&query=%EC%BD%94%EC%8A%A4%ED%94%BC%20%EA%B2%BD%EC%A0%9C&sm=tab_opt&sort=0&photo=0&field=0&pd=3&ds=2021.03.03&de=2021.03.03&docid=&related=0&mynews=0&office_type=0&office_section_code=0&news_office_checked=&nso=so%3Ar%2Cp%3Afrom20210303to20210303&is_sug_officeid=0\n",
      "https://search.naver.com/search.naver?where=news&sm=tab_pge&query=%EC%BD%94%EC%8A%A4%ED%94%BC%20%EA%B2%BD%EC%A0%9C&sort=0&photo=0&field=0&pd=3&ds=2021.03.03&de=2021.03.03&cluster_rank=10&mynews=0&office_type=0&office_section_code=0&news_office_checked=&nso=so:r,p:from20210303to20210303,a:all&start=11\n",
      "https://search.naver.com/search.naver?where=news&sm=tab_pge&query=%EC%BD%94%EC%8A%A4%ED%94%BC%20%EA%B2%BD%EC%A0%9C&sort=0&photo=0&field=0&pd=3&ds=2021.03.03&de=2021.03.03&cluster_rank=20&mynews=0&office_type=0&office_section_code=0&news_office_checked=&nso=so:r,p:from20210303to20210303,a:all&start=21\n",
      "크롤링 준비\n"
     ]
    },
    {
     "name": "stderr",
     "output_type": "stream",
     "text": [
      "\n",
      "\n",
      "preprocessing day:  10%|██████▏                                                         | 3/31 [00:21<03:20,  7.14s/it]\u001b[A\u001b[A"
     ]
    },
    {
     "name": "stdout",
     "output_type": "stream",
     "text": [
      "다음날짜로 선택시작\n",
      "다음 날짜 선택 후 크롤링 준비\n",
      "https://search.naver.com/search.naver?where=news&query=%EC%BD%94%EC%8A%A4%ED%94%BC%20%EA%B2%BD%EC%A0%9C&sm=tab_opt&sort=0&photo=0&field=0&pd=3&ds=2021.03.04&de=2021.03.04&docid=&related=0&mynews=0&office_type=0&office_section_code=0&news_office_checked=&nso=so%3Ar%2Cp%3Afrom20210304to20210304&is_sug_officeid=0\n",
      "https://search.naver.com/search.naver?where=news&sm=tab_pge&query=%EC%BD%94%EC%8A%A4%ED%94%BC%20%EA%B2%BD%EC%A0%9C&sort=0&photo=0&field=0&pd=3&ds=2021.03.04&de=2021.03.04&cluster_rank=10&mynews=0&office_type=0&office_section_code=0&news_office_checked=&nso=so:r,p:from20210304to20210304,a:all&start=11\n",
      "https://search.naver.com/search.naver?where=news&sm=tab_pge&query=%EC%BD%94%EC%8A%A4%ED%94%BC%20%EA%B2%BD%EC%A0%9C&sort=0&photo=0&field=0&pd=3&ds=2021.03.04&de=2021.03.04&cluster_rank=24&mynews=0&office_type=0&office_section_code=0&news_office_checked=&nso=so:r,p:from20210304to20210304,a:all&start=21\n",
      "크롤링 준비\n"
     ]
    },
    {
     "name": "stderr",
     "output_type": "stream",
     "text": [
      "\n",
      "\n",
      "preprocessing day:  13%|████████▎                                                       | 4/31 [00:28<03:16,  7.29s/it]\u001b[A\u001b[A"
     ]
    },
    {
     "name": "stdout",
     "output_type": "stream",
     "text": [
      "다음날짜로 선택시작\n",
      "다음 날짜 선택 후 크롤링 준비\n",
      "https://search.naver.com/search.naver?where=news&query=%EC%BD%94%EC%8A%A4%ED%94%BC%20%EA%B2%BD%EC%A0%9C&sm=tab_opt&sort=0&photo=0&field=0&pd=3&ds=2021.03.05&de=2021.03.05&docid=&related=0&mynews=0&office_type=0&office_section_code=0&news_office_checked=&nso=so%3Ar%2Cp%3Afrom20210305to20210305&is_sug_officeid=0\n",
      "https://search.naver.com/search.naver?where=news&sm=tab_pge&query=%EC%BD%94%EC%8A%A4%ED%94%BC%20%EA%B2%BD%EC%A0%9C&sort=0&photo=0&field=0&pd=3&ds=2021.03.05&de=2021.03.05&cluster_rank=15&mynews=0&office_type=0&office_section_code=0&news_office_checked=&nso=so:r,p:from20210305to20210305,a:all&start=11\n",
      "https://search.naver.com/search.naver?where=news&sm=tab_pge&query=%EC%BD%94%EC%8A%A4%ED%94%BC%20%EA%B2%BD%EC%A0%9C&sort=0&photo=0&field=0&pd=3&ds=2021.03.05&de=2021.03.05&cluster_rank=25&mynews=0&office_type=0&office_section_code=0&news_office_checked=&nso=so:r,p:from20210305to20210305,a:all&start=21\n",
      "크롤링 준비\n"
     ]
    },
    {
     "name": "stderr",
     "output_type": "stream",
     "text": [
      "\n",
      "\n",
      "preprocessing day:  16%|██████████▎                                                     | 5/31 [00:36<03:07,  7.23s/it]\u001b[A\u001b[A"
     ]
    },
    {
     "name": "stdout",
     "output_type": "stream",
     "text": [
      "다음날짜로 선택시작\n",
      "다음 날짜 선택 후 크롤링 준비\n",
      "https://search.naver.com/search.naver?where=news&query=%EC%BD%94%EC%8A%A4%ED%94%BC%20%EA%B2%BD%EC%A0%9C&sm=tab_opt&sort=0&photo=0&field=0&pd=3&ds=2021.03.06&de=2021.03.06&docid=&related=0&mynews=0&office_type=0&office_section_code=0&news_office_checked=&nso=so%3Ar%2Cp%3Afrom20210306to20210306&is_sug_officeid=0\n",
      "https://search.naver.com/search.naver?where=news&sm=tab_pge&query=%EC%BD%94%EC%8A%A4%ED%94%BC%20%EA%B2%BD%EC%A0%9C&sort=0&photo=0&field=0&pd=3&ds=2021.03.06&de=2021.03.06&cluster_rank=12&mynews=0&office_type=0&office_section_code=0&news_office_checked=&nso=so:r,p:from20210306to20210306,a:all&start=11\n",
      "https://search.naver.com/search.naver?where=news&sm=tab_pge&query=%EC%BD%94%EC%8A%A4%ED%94%BC%20%EA%B2%BD%EC%A0%9C&sort=0&photo=0&field=0&pd=3&ds=2021.03.06&de=2021.03.06&cluster_rank=12&mynews=0&office_type=0&office_section_code=0&news_office_checked=&nso=so:r,p:from20210306to20210306,a:all&start=11\n",
      "크롤링 준비\n"
     ]
    },
    {
     "name": "stderr",
     "output_type": "stream",
     "text": [
      "\n",
      "\n",
      "preprocessing day:  19%|████████████▍                                                   | 6/31 [00:42<02:55,  7.03s/it]\u001b[A\u001b[A"
     ]
    },
    {
     "name": "stdout",
     "output_type": "stream",
     "text": [
      "다음날짜로 선택시작\n",
      "다음 날짜 선택 후 크롤링 준비\n",
      "https://search.naver.com/search.naver?where=news&query=%EC%BD%94%EC%8A%A4%ED%94%BC%20%EA%B2%BD%EC%A0%9C&sm=tab_opt&sort=0&photo=0&field=0&pd=3&ds=2021.03.07&de=2021.03.07&docid=&related=0&mynews=0&office_type=0&office_section_code=0&news_office_checked=&nso=so%3Ar%2Cp%3Afrom20210307to20210307&is_sug_officeid=0\n",
      "https://search.naver.com/search.naver?where=news&sm=tab_pge&query=%EC%BD%94%EC%8A%A4%ED%94%BC%20%EA%B2%BD%EC%A0%9C&sort=0&photo=0&field=0&pd=3&ds=2021.03.07&de=2021.03.07&cluster_rank=15&mynews=0&office_type=0&office_section_code=0&news_office_checked=&nso=so:r,p:from20210307to20210307,a:all&start=11\n",
      "https://search.naver.com/search.naver?where=news&sm=tab_pge&query=%EC%BD%94%EC%8A%A4%ED%94%BC%20%EA%B2%BD%EC%A0%9C&sort=0&photo=0&field=0&pd=3&ds=2021.03.07&de=2021.03.07&cluster_rank=25&mynews=0&office_type=0&office_section_code=0&news_office_checked=&nso=so:r,p:from20210307to20210307,a:all&start=21\n",
      "크롤링 준비\n"
     ]
    },
    {
     "name": "stderr",
     "output_type": "stream",
     "text": [
      "\n",
      "\n",
      "preprocessing day:  23%|██████████████▍                                                 | 7/31 [00:49<02:50,  7.09s/it]\u001b[A\u001b[A"
     ]
    },
    {
     "name": "stdout",
     "output_type": "stream",
     "text": [
      "다음날짜로 선택시작\n",
      "다음 날짜 선택 후 크롤링 준비\n",
      "https://search.naver.com/search.naver?where=news&query=%EC%BD%94%EC%8A%A4%ED%94%BC%20%EA%B2%BD%EC%A0%9C&sm=tab_opt&sort=0&photo=0&field=0&pd=3&ds=2021.03.08&de=2021.03.08&docid=&related=0&mynews=0&office_type=0&office_section_code=0&news_office_checked=&nso=so%3Ar%2Cp%3Afrom20210308to20210308&is_sug_officeid=0\n",
      "https://search.naver.com/search.naver?where=news&sm=tab_pge&query=%EC%BD%94%EC%8A%A4%ED%94%BC%20%EA%B2%BD%EC%A0%9C&sort=0&photo=0&field=0&pd=3&ds=2021.03.08&de=2021.03.08&cluster_rank=13&mynews=0&office_type=0&office_section_code=0&news_office_checked=&nso=so:r,p:from20210308to20210308,a:all&start=11\n",
      "https://search.naver.com/search.naver?where=news&sm=tab_pge&query=%EC%BD%94%EC%8A%A4%ED%94%BC%20%EA%B2%BD%EC%A0%9C&sort=0&photo=0&field=0&pd=3&ds=2021.03.08&de=2021.03.08&cluster_rank=24&mynews=0&office_type=0&office_section_code=0&news_office_checked=&nso=so:r,p:from20210308to20210308,a:all&start=21\n",
      "크롤링 준비\n"
     ]
    },
    {
     "name": "stderr",
     "output_type": "stream",
     "text": [
      "\n",
      "\n",
      "preprocessing day:  26%|████████████████▌                                               | 8/31 [00:56<02:43,  7.09s/it]\u001b[A\u001b[A"
     ]
    },
    {
     "name": "stdout",
     "output_type": "stream",
     "text": [
      "다음날짜로 선택시작\n",
      "다음 날짜 선택 후 크롤링 준비\n",
      "https://search.naver.com/search.naver?where=news&query=%EC%BD%94%EC%8A%A4%ED%94%BC%20%EA%B2%BD%EC%A0%9C&sm=tab_opt&sort=0&photo=0&field=0&pd=3&ds=2021.03.09&de=2021.03.09&docid=&related=0&mynews=0&office_type=0&office_section_code=0&news_office_checked=&nso=so%3Ar%2Cp%3Afrom20210309to20210309&is_sug_officeid=0\n",
      "https://search.naver.com/search.naver?where=news&sm=tab_pge&query=%EC%BD%94%EC%8A%A4%ED%94%BC%20%EA%B2%BD%EC%A0%9C&sort=0&photo=0&field=0&pd=3&ds=2021.03.09&de=2021.03.09&cluster_rank=14&mynews=0&office_type=0&office_section_code=0&news_office_checked=&nso=so:r,p:from20210309to20210309,a:all&start=11\n",
      "https://search.naver.com/search.naver?where=news&sm=tab_pge&query=%EC%BD%94%EC%8A%A4%ED%94%BC%20%EA%B2%BD%EC%A0%9C&sort=0&photo=0&field=0&pd=3&ds=2021.03.09&de=2021.03.09&cluster_rank=24&mynews=0&office_type=0&office_section_code=0&news_office_checked=&nso=so:r,p:from20210309to20210309,a:all&start=21\n",
      "크롤링 준비\n"
     ]
    },
    {
     "name": "stderr",
     "output_type": "stream",
     "text": [
      "\n",
      "\n",
      "preprocessing day:  29%|██████████████████▌                                             | 9/31 [01:04<02:37,  7.15s/it]\u001b[A\u001b[A"
     ]
    },
    {
     "name": "stdout",
     "output_type": "stream",
     "text": [
      "다음날짜로 선택시작\n",
      "다음 날짜 선택 후 크롤링 준비\n",
      "https://search.naver.com/search.naver?where=news&query=%EC%BD%94%EC%8A%A4%ED%94%BC%20%EA%B2%BD%EC%A0%9C&sm=tab_opt&sort=0&photo=0&field=0&pd=3&ds=2021.03.10&de=2021.03.10&docid=&related=0&mynews=0&office_type=0&office_section_code=0&news_office_checked=&nso=so%3Ar%2Cp%3Afrom20210310to20210310&is_sug_officeid=0\n",
      "https://search.naver.com/search.naver?where=news&sm=tab_pge&query=%EC%BD%94%EC%8A%A4%ED%94%BC%20%EA%B2%BD%EC%A0%9C&sort=0&photo=0&field=0&pd=3&ds=2021.03.10&de=2021.03.10&cluster_rank=11&mynews=0&office_type=0&office_section_code=0&news_office_checked=&nso=so:r,p:from20210310to20210310,a:all&start=11\n",
      "https://search.naver.com/search.naver?where=news&sm=tab_pge&query=%EC%BD%94%EC%8A%A4%ED%94%BC%20%EA%B2%BD%EC%A0%9C&sort=0&photo=0&field=0&pd=3&ds=2021.03.10&de=2021.03.10&cluster_rank=22&mynews=0&office_type=0&office_section_code=0&news_office_checked=&nso=so:r,p:from20210310to20210310,a:all&start=21\n",
      "크롤링 준비\n"
     ]
    },
    {
     "name": "stderr",
     "output_type": "stream",
     "text": [
      "\n",
      "\n",
      "preprocessing day:  32%|████████████████████▎                                          | 10/31 [01:11<02:31,  7.23s/it]\u001b[A\u001b[A"
     ]
    },
    {
     "name": "stdout",
     "output_type": "stream",
     "text": [
      "다음날짜로 선택시작\n",
      "다음 날짜 선택 후 크롤링 준비\n",
      "https://search.naver.com/search.naver?where=news&query=%EC%BD%94%EC%8A%A4%ED%94%BC%20%EA%B2%BD%EC%A0%9C&sm=tab_opt&sort=0&photo=0&field=0&pd=3&ds=2021.03.11&de=2021.03.11&docid=&related=0&mynews=0&office_type=0&office_section_code=0&news_office_checked=&nso=so%3Ar%2Cp%3Afrom20210311to20210311&is_sug_officeid=0\n",
      "https://search.naver.com/search.naver?where=news&sm=tab_pge&query=%EC%BD%94%EC%8A%A4%ED%94%BC%20%EA%B2%BD%EC%A0%9C&sort=0&photo=0&field=0&pd=3&ds=2021.03.11&de=2021.03.11&cluster_rank=13&mynews=0&office_type=0&office_section_code=0&news_office_checked=&nso=so:r,p:from20210311to20210311,a:all&start=11\n",
      "https://search.naver.com/search.naver?where=news&sm=tab_pge&query=%EC%BD%94%EC%8A%A4%ED%94%BC%20%EA%B2%BD%EC%A0%9C&sort=0&photo=0&field=0&pd=3&ds=2021.03.11&de=2021.03.11&cluster_rank=24&mynews=0&office_type=0&office_section_code=0&news_office_checked=&nso=so:r,p:from20210311to20210311,a:all&start=21\n",
      "크롤링 준비\n"
     ]
    },
    {
     "name": "stderr",
     "output_type": "stream",
     "text": [
      "\n",
      "\n",
      "preprocessing day:  35%|██████████████████████▎                                        | 11/31 [01:18<02:23,  7.16s/it]\u001b[A\u001b[A"
     ]
    },
    {
     "name": "stdout",
     "output_type": "stream",
     "text": [
      "다음날짜로 선택시작\n",
      "다음 날짜 선택 후 크롤링 준비\n",
      "https://search.naver.com/search.naver?where=news&query=%EC%BD%94%EC%8A%A4%ED%94%BC%20%EA%B2%BD%EC%A0%9C&sm=tab_opt&sort=0&photo=0&field=0&pd=3&ds=2021.03.12&de=2021.03.12&docid=&related=0&mynews=0&office_type=0&office_section_code=0&news_office_checked=&nso=so%3Ar%2Cp%3Afrom20210312to20210312&is_sug_officeid=0\n",
      "https://search.naver.com/search.naver?where=news&sm=tab_pge&query=%EC%BD%94%EC%8A%A4%ED%94%BC%20%EA%B2%BD%EC%A0%9C&sort=0&photo=0&field=0&pd=3&ds=2021.03.12&de=2021.03.12&cluster_rank=14&mynews=0&office_type=0&office_section_code=0&news_office_checked=&nso=so:r,p:from20210312to20210312,a:all&start=11\n",
      "https://search.naver.com/search.naver?where=news&sm=tab_pge&query=%EC%BD%94%EC%8A%A4%ED%94%BC%20%EA%B2%BD%EC%A0%9C&sort=0&photo=0&field=0&pd=3&ds=2021.03.12&de=2021.03.12&cluster_rank=25&mynews=0&office_type=0&office_section_code=0&news_office_checked=&nso=so:r,p:from20210312to20210312,a:all&start=21\n",
      "크롤링 준비\n"
     ]
    },
    {
     "name": "stderr",
     "output_type": "stream",
     "text": [
      "\n",
      "\n",
      "preprocessing day:  39%|████████████████████████▍                                      | 12/31 [01:25<02:15,  7.12s/it]\u001b[A\u001b[A"
     ]
    },
    {
     "name": "stdout",
     "output_type": "stream",
     "text": [
      "다음날짜로 선택시작\n",
      "다음 날짜 선택 후 크롤링 준비\n",
      "https://search.naver.com/search.naver?where=news&query=%EC%BD%94%EC%8A%A4%ED%94%BC%20%EA%B2%BD%EC%A0%9C&sm=tab_opt&sort=0&photo=0&field=0&pd=3&ds=2021.03.13&de=2021.03.13&docid=&related=0&mynews=0&office_type=0&office_section_code=0&news_office_checked=&nso=so%3Ar%2Cp%3Afrom20210313to20210313&is_sug_officeid=0\n",
      "https://search.naver.com/search.naver?where=news&query=%EC%BD%94%EC%8A%A4%ED%94%BC%20%EA%B2%BD%EC%A0%9C&sm=tab_opt&sort=0&photo=0&field=0&pd=3&ds=2021.03.13&de=2021.03.13&docid=&related=0&mynews=0&office_type=0&office_section_code=0&news_office_checked=&nso=so%3Ar%2Cp%3Afrom20210313to20210313&is_sug_officeid=0\n",
      "크롤링 준비\n"
     ]
    },
    {
     "name": "stderr",
     "output_type": "stream",
     "text": [
      "\n",
      "\n",
      "preprocessing day:  42%|██████████████████████████▍                                    | 13/31 [01:31<02:03,  6.85s/it]\u001b[A\u001b[A"
     ]
    },
    {
     "name": "stdout",
     "output_type": "stream",
     "text": [
      "다음날짜로 선택시작\n",
      "다음 날짜 선택 후 크롤링 준비\n",
      "https://search.naver.com/search.naver?where=news&query=%EC%BD%94%EC%8A%A4%ED%94%BC%20%EA%B2%BD%EC%A0%9C&sm=tab_opt&sort=0&photo=0&field=0&pd=3&ds=2021.03.14&de=2021.03.14&docid=&related=0&mynews=0&office_type=0&office_section_code=0&news_office_checked=&nso=so%3Ar%2Cp%3Afrom20210314to20210314&is_sug_officeid=0\n",
      "https://search.naver.com/search.naver?where=news&sm=tab_pge&query=%EC%BD%94%EC%8A%A4%ED%94%BC%20%EA%B2%BD%EC%A0%9C&sort=0&photo=0&field=0&pd=3&ds=2021.03.14&de=2021.03.14&cluster_rank=15&mynews=0&office_type=0&office_section_code=0&news_office_checked=&nso=so:r,p:from20210314to20210314,a:all&start=11\n",
      "https://search.naver.com/search.naver?where=news&sm=tab_pge&query=%EC%BD%94%EC%8A%A4%ED%94%BC%20%EA%B2%BD%EC%A0%9C&sort=0&photo=0&field=0&pd=3&ds=2021.03.14&de=2021.03.14&cluster_rank=25&mynews=0&office_type=0&office_section_code=0&news_office_checked=&nso=so:r,p:from20210314to20210314,a:all&start=21\n",
      "크롤링 준비\n"
     ]
    },
    {
     "name": "stderr",
     "output_type": "stream",
     "text": [
      "\n",
      "\n",
      "preprocessing day:  45%|████████████████████████████▍                                  | 14/31 [01:39<01:57,  6.94s/it]\u001b[A\u001b[A"
     ]
    },
    {
     "name": "stdout",
     "output_type": "stream",
     "text": [
      "다음날짜로 선택시작\n",
      "다음 날짜 선택 후 크롤링 준비\n",
      "https://search.naver.com/search.naver?where=news&query=%EC%BD%94%EC%8A%A4%ED%94%BC%20%EA%B2%BD%EC%A0%9C&sm=tab_opt&sort=0&photo=0&field=0&pd=3&ds=2021.03.15&de=2021.03.15&docid=&related=0&mynews=0&office_type=0&office_section_code=0&news_office_checked=&nso=so%3Ar%2Cp%3Afrom20210315to20210315&is_sug_officeid=0\n",
      "https://search.naver.com/search.naver?where=news&sm=tab_pge&query=%EC%BD%94%EC%8A%A4%ED%94%BC%20%EA%B2%BD%EC%A0%9C&sort=0&photo=0&field=0&pd=3&ds=2021.03.15&de=2021.03.15&cluster_rank=10&mynews=0&office_type=0&office_section_code=0&news_office_checked=&nso=so:r,p:from20210315to20210315,a:all&start=11\n",
      "https://search.naver.com/search.naver?where=news&sm=tab_pge&query=%EC%BD%94%EC%8A%A4%ED%94%BC%20%EA%B2%BD%EC%A0%9C&sort=0&photo=0&field=0&pd=3&ds=2021.03.15&de=2021.03.15&cluster_rank=23&mynews=0&office_type=0&office_section_code=0&news_office_checked=&nso=so:r,p:from20210315to20210315,a:all&start=21\n",
      "크롤링 준비\n"
     ]
    },
    {
     "name": "stderr",
     "output_type": "stream",
     "text": [
      "\n",
      "\n",
      "preprocessing day:  48%|██████████████████████████████▍                                | 15/31 [01:46<01:51,  6.97s/it]\u001b[A\u001b[A"
     ]
    },
    {
     "name": "stdout",
     "output_type": "stream",
     "text": [
      "다음날짜로 선택시작\n",
      "다음 날짜 선택 후 크롤링 준비\n",
      "https://search.naver.com/search.naver?where=news&query=%EC%BD%94%EC%8A%A4%ED%94%BC%20%EA%B2%BD%EC%A0%9C&sm=tab_opt&sort=0&photo=0&field=0&pd=3&ds=2021.03.16&de=2021.03.16&docid=&related=0&mynews=0&office_type=0&office_section_code=0&news_office_checked=&nso=so%3Ar%2Cp%3Afrom20210316to20210316&is_sug_officeid=0\n",
      "https://search.naver.com/search.naver?where=news&sm=tab_pge&query=%EC%BD%94%EC%8A%A4%ED%94%BC%20%EA%B2%BD%EC%A0%9C&sort=0&photo=0&field=0&pd=3&ds=2021.03.16&de=2021.03.16&cluster_rank=19&mynews=0&office_type=0&office_section_code=0&news_office_checked=&nso=so:r,p:from20210316to20210316,a:all&start=11\n",
      "https://search.naver.com/search.naver?where=news&sm=tab_pge&query=%EC%BD%94%EC%8A%A4%ED%94%BC%20%EA%B2%BD%EC%A0%9C&sort=0&photo=0&field=0&pd=3&ds=2021.03.16&de=2021.03.16&cluster_rank=29&mynews=0&office_type=0&office_section_code=0&news_office_checked=&nso=so:r,p:from20210316to20210316,a:all&start=21\n",
      "크롤링 준비\n"
     ]
    },
    {
     "name": "stderr",
     "output_type": "stream",
     "text": [
      "\n",
      "\n",
      "preprocessing day:  52%|████████████████████████████████▌                              | 16/31 [01:53<01:45,  7.03s/it]\u001b[A\u001b[A"
     ]
    },
    {
     "name": "stdout",
     "output_type": "stream",
     "text": [
      "다음날짜로 선택시작\n",
      "다음 날짜 선택 후 크롤링 준비\n",
      "https://search.naver.com/search.naver?where=news&query=%EC%BD%94%EC%8A%A4%ED%94%BC%20%EA%B2%BD%EC%A0%9C&sm=tab_opt&sort=0&photo=0&field=0&pd=3&ds=2021.03.17&de=2021.03.17&docid=&related=0&mynews=0&office_type=0&office_section_code=0&news_office_checked=&nso=so%3Ar%2Cp%3Afrom20210317to20210317&is_sug_officeid=0\n",
      "https://search.naver.com/search.naver?where=news&sm=tab_pge&query=%EC%BD%94%EC%8A%A4%ED%94%BC%20%EA%B2%BD%EC%A0%9C&sort=0&photo=0&field=0&pd=3&ds=2021.03.17&de=2021.03.17&cluster_rank=12&mynews=0&office_type=0&office_section_code=0&news_office_checked=&nso=so:r,p:from20210317to20210317,a:all&start=11\n",
      "https://search.naver.com/search.naver?where=news&sm=tab_pge&query=%EC%BD%94%EC%8A%A4%ED%94%BC%20%EA%B2%BD%EC%A0%9C&sort=0&photo=0&field=0&pd=3&ds=2021.03.17&de=2021.03.17&cluster_rank=24&mynews=0&office_type=0&office_section_code=0&news_office_checked=&nso=so:r,p:from20210317to20210317,a:all&start=21\n",
      "크롤링 준비\n"
     ]
    },
    {
     "name": "stderr",
     "output_type": "stream",
     "text": [
      "\n",
      "\n",
      "preprocessing day:  55%|██████████████████████████████████▌                            | 17/31 [02:00<01:38,  7.04s/it]\u001b[A\u001b[A"
     ]
    },
    {
     "name": "stdout",
     "output_type": "stream",
     "text": [
      "다음날짜로 선택시작\n",
      "다음 날짜 선택 후 크롤링 준비\n",
      "https://search.naver.com/search.naver?where=news&query=%EC%BD%94%EC%8A%A4%ED%94%BC%20%EA%B2%BD%EC%A0%9C&sm=tab_opt&sort=0&photo=0&field=0&pd=3&ds=2021.03.18&de=2021.03.18&docid=&related=0&mynews=0&office_type=0&office_section_code=0&news_office_checked=&nso=so%3Ar%2Cp%3Afrom20210318to20210318&is_sug_officeid=0\n",
      "https://search.naver.com/search.naver?where=news&sm=tab_pge&query=%EC%BD%94%EC%8A%A4%ED%94%BC%20%EA%B2%BD%EC%A0%9C&sort=0&photo=0&field=0&pd=3&ds=2021.03.18&de=2021.03.18&cluster_rank=12&mynews=0&office_type=0&office_section_code=0&news_office_checked=&nso=so:r,p:from20210318to20210318,a:all&start=11\n",
      "https://search.naver.com/search.naver?where=news&sm=tab_pge&query=%EC%BD%94%EC%8A%A4%ED%94%BC%20%EA%B2%BD%EC%A0%9C&sort=0&photo=0&field=0&pd=3&ds=2021.03.18&de=2021.03.18&cluster_rank=25&mynews=0&office_type=0&office_section_code=0&news_office_checked=&nso=so:r,p:from20210318to20210318,a:all&start=21\n",
      "크롤링 준비\n"
     ]
    },
    {
     "name": "stderr",
     "output_type": "stream",
     "text": [
      "\n",
      "\n",
      "preprocessing day:  58%|████████████████████████████████████▌                          | 18/31 [02:07<01:31,  7.03s/it]\u001b[A\u001b[A"
     ]
    },
    {
     "name": "stdout",
     "output_type": "stream",
     "text": [
      "다음날짜로 선택시작\n",
      "다음 날짜 선택 후 크롤링 준비\n",
      "https://search.naver.com/search.naver?where=news&query=%EC%BD%94%EC%8A%A4%ED%94%BC%20%EA%B2%BD%EC%A0%9C&sm=tab_opt&sort=0&photo=0&field=0&pd=3&ds=2021.03.19&de=2021.03.19&docid=&related=0&mynews=0&office_type=0&office_section_code=0&news_office_checked=&nso=so%3Ar%2Cp%3Afrom20210319to20210319&is_sug_officeid=0\n",
      "https://search.naver.com/search.naver?where=news&sm=tab_pge&query=%EC%BD%94%EC%8A%A4%ED%94%BC%20%EA%B2%BD%EC%A0%9C&sort=0&photo=0&field=0&pd=3&ds=2021.03.19&de=2021.03.19&cluster_rank=12&mynews=0&office_type=0&office_section_code=0&news_office_checked=&nso=so:r,p:from20210319to20210319,a:all&start=11\n",
      "https://search.naver.com/search.naver?where=news&sm=tab_pge&query=%EC%BD%94%EC%8A%A4%ED%94%BC%20%EA%B2%BD%EC%A0%9C&sort=0&photo=0&field=0&pd=3&ds=2021.03.19&de=2021.03.19&cluster_rank=22&mynews=0&office_type=0&office_section_code=0&news_office_checked=&nso=so:r,p:from20210319to20210319,a:all&start=21\n",
      "크롤링 준비\n"
     ]
    },
    {
     "name": "stderr",
     "output_type": "stream",
     "text": [
      "\n",
      "\n",
      "preprocessing day:  61%|██████████████████████████████████████▌                        | 19/31 [02:14<01:25,  7.14s/it]\u001b[A\u001b[A"
     ]
    },
    {
     "name": "stdout",
     "output_type": "stream",
     "text": [
      "다음날짜로 선택시작\n",
      "다음 날짜 선택 후 크롤링 준비\n",
      "https://search.naver.com/search.naver?where=news&query=%EC%BD%94%EC%8A%A4%ED%94%BC%20%EA%B2%BD%EC%A0%9C&sm=tab_opt&sort=0&photo=0&field=0&pd=3&ds=2021.03.20&de=2021.03.20&docid=&related=0&mynews=0&office_type=0&office_section_code=0&news_office_checked=&nso=so%3Ar%2Cp%3Afrom20210320to20210320&is_sug_officeid=0\n",
      "https://search.naver.com/search.naver?where=news&sm=tab_pge&query=%EC%BD%94%EC%8A%A4%ED%94%BC%20%EA%B2%BD%EC%A0%9C&sort=0&photo=0&field=0&pd=3&ds=2021.03.20&de=2021.03.20&cluster_rank=10&mynews=0&office_type=0&office_section_code=0&news_office_checked=&nso=so:r,p:from20210320to20210320,a:all&start=11\n",
      "https://search.naver.com/search.naver?where=news&sm=tab_pge&query=%EC%BD%94%EC%8A%A4%ED%94%BC%20%EA%B2%BD%EC%A0%9C&sort=0&photo=0&field=0&pd=3&ds=2021.03.20&de=2021.03.20&cluster_rank=10&mynews=0&office_type=0&office_section_code=0&news_office_checked=&nso=so:r,p:from20210320to20210320,a:all&start=11\n",
      "크롤링 준비\n"
     ]
    },
    {
     "name": "stderr",
     "output_type": "stream",
     "text": [
      "\n",
      "\n",
      "preprocessing day:  65%|████████████████████████████████████████▋                      | 20/31 [02:21<01:16,  6.99s/it]\u001b[A\u001b[A"
     ]
    },
    {
     "name": "stdout",
     "output_type": "stream",
     "text": [
      "다음날짜로 선택시작\n",
      "다음 날짜 선택 후 크롤링 준비\n",
      "https://search.naver.com/search.naver?where=news&query=%EC%BD%94%EC%8A%A4%ED%94%BC%20%EA%B2%BD%EC%A0%9C&sm=tab_opt&sort=0&photo=0&field=0&pd=3&ds=2021.03.21&de=2021.03.21&docid=&related=0&mynews=0&office_type=0&office_section_code=0&news_office_checked=&nso=so%3Ar%2Cp%3Afrom20210321to20210321&is_sug_officeid=0\n",
      "https://search.naver.com/search.naver?where=news&sm=tab_pge&query=%EC%BD%94%EC%8A%A4%ED%94%BC%20%EA%B2%BD%EC%A0%9C&sort=0&photo=0&field=0&pd=3&ds=2021.03.21&de=2021.03.21&cluster_rank=18&mynews=0&office_type=0&office_section_code=0&news_office_checked=&nso=so:r,p:from20210321to20210321,a:all&start=11\n",
      "https://search.naver.com/search.naver?where=news&sm=tab_pge&query=%EC%BD%94%EC%8A%A4%ED%94%BC%20%EA%B2%BD%EC%A0%9C&sort=0&photo=0&field=0&pd=3&ds=2021.03.21&de=2021.03.21&cluster_rank=30&mynews=0&office_type=0&office_section_code=0&news_office_checked=&nso=so:r,p:from20210321to20210321,a:all&start=21\n",
      "크롤링 준비\n"
     ]
    },
    {
     "name": "stderr",
     "output_type": "stream",
     "text": [
      "\n",
      "\n",
      "preprocessing day:  68%|██████████████████████████████████████████▋                    | 21/31 [02:28<01:10,  7.00s/it]\u001b[A\u001b[A"
     ]
    },
    {
     "name": "stdout",
     "output_type": "stream",
     "text": [
      "다음날짜로 선택시작\n",
      "다음 날짜 선택 후 크롤링 준비\n",
      "https://search.naver.com/search.naver?where=news&query=%EC%BD%94%EC%8A%A4%ED%94%BC%20%EA%B2%BD%EC%A0%9C&sm=tab_opt&sort=0&photo=0&field=0&pd=3&ds=2021.03.22&de=2021.03.22&docid=&related=0&mynews=0&office_type=0&office_section_code=0&news_office_checked=&nso=so%3Ar%2Cp%3Afrom20210322to20210322&is_sug_officeid=0\n",
      "https://search.naver.com/search.naver?where=news&sm=tab_pge&query=%EC%BD%94%EC%8A%A4%ED%94%BC%20%EA%B2%BD%EC%A0%9C&sort=0&photo=0&field=0&pd=3&ds=2021.03.22&de=2021.03.22&cluster_rank=10&mynews=0&office_type=0&office_section_code=0&news_office_checked=&nso=so:r,p:from20210322to20210322,a:all&start=11\n",
      "https://search.naver.com/search.naver?where=news&sm=tab_pge&query=%EC%BD%94%EC%8A%A4%ED%94%BC%20%EA%B2%BD%EC%A0%9C&sort=0&photo=0&field=0&pd=3&ds=2021.03.22&de=2021.03.22&cluster_rank=25&mynews=0&office_type=0&office_section_code=0&news_office_checked=&nso=so:r,p:from20210322to20210322,a:all&start=21\n",
      "크롤링 준비\n"
     ]
    },
    {
     "name": "stderr",
     "output_type": "stream",
     "text": [
      "\n",
      "\n",
      "preprocessing day:  71%|████████████████████████████████████████████▋                  | 22/31 [02:35<01:03,  7.04s/it]\u001b[A\u001b[A"
     ]
    },
    {
     "name": "stdout",
     "output_type": "stream",
     "text": [
      "다음날짜로 선택시작\n",
      "다음 날짜 선택 후 크롤링 준비\n",
      "https://search.naver.com/search.naver?where=news&query=%EC%BD%94%EC%8A%A4%ED%94%BC%20%EA%B2%BD%EC%A0%9C&sm=tab_opt&sort=0&photo=0&field=0&pd=3&ds=2021.03.23&de=2021.03.23&docid=&related=0&mynews=0&office_type=0&office_section_code=0&news_office_checked=&nso=so%3Ar%2Cp%3Afrom20210323to20210323&is_sug_officeid=0\n",
      "https://search.naver.com/search.naver?where=news&sm=tab_pge&query=%EC%BD%94%EC%8A%A4%ED%94%BC%20%EA%B2%BD%EC%A0%9C&sort=0&photo=0&field=0&pd=3&ds=2021.03.23&de=2021.03.23&cluster_rank=10&mynews=0&office_type=0&office_section_code=0&news_office_checked=&nso=so:r,p:from20210323to20210323,a:all&start=11\n",
      "https://search.naver.com/search.naver?where=news&sm=tab_pge&query=%EC%BD%94%EC%8A%A4%ED%94%BC%20%EA%B2%BD%EC%A0%9C&sort=0&photo=0&field=0&pd=3&ds=2021.03.23&de=2021.03.23&cluster_rank=22&mynews=0&office_type=0&office_section_code=0&news_office_checked=&nso=so:r,p:from20210323to20210323,a:all&start=21\n",
      "크롤링 준비\n"
     ]
    },
    {
     "name": "stderr",
     "output_type": "stream",
     "text": [
      "\n",
      "\n",
      "preprocessing day:  74%|██████████████████████████████████████████████▋                | 23/31 [02:42<00:56,  7.02s/it]\u001b[A\u001b[A"
     ]
    },
    {
     "name": "stdout",
     "output_type": "stream",
     "text": [
      "다음날짜로 선택시작\n",
      "다음 날짜 선택 후 크롤링 준비\n",
      "https://search.naver.com/search.naver?where=news&query=%EC%BD%94%EC%8A%A4%ED%94%BC%20%EA%B2%BD%EC%A0%9C&sm=tab_opt&sort=0&photo=0&field=0&pd=3&ds=2021.03.24&de=2021.03.24&docid=&related=0&mynews=0&office_type=0&office_section_code=0&news_office_checked=&nso=so%3Ar%2Cp%3Afrom20210324to20210324&is_sug_officeid=0\n",
      "https://search.naver.com/search.naver?where=news&sm=tab_pge&query=%EC%BD%94%EC%8A%A4%ED%94%BC%20%EA%B2%BD%EC%A0%9C&sort=0&photo=0&field=0&pd=3&ds=2021.03.24&de=2021.03.24&cluster_rank=11&mynews=0&office_type=0&office_section_code=0&news_office_checked=&nso=so:r,p:from20210324to20210324,a:all&start=11\n",
      "https://search.naver.com/search.naver?where=news&sm=tab_pge&query=%EC%BD%94%EC%8A%A4%ED%94%BC%20%EA%B2%BD%EC%A0%9C&sort=0&photo=0&field=0&pd=3&ds=2021.03.24&de=2021.03.24&cluster_rank=21&mynews=0&office_type=0&office_section_code=0&news_office_checked=&nso=so:r,p:from20210324to20210324,a:all&start=21\n",
      "크롤링 준비\n"
     ]
    },
    {
     "name": "stderr",
     "output_type": "stream",
     "text": [
      "\n",
      "\n",
      "preprocessing day:  77%|████████████████████████████████████████████████▊              | 24/31 [02:49<00:49,  7.02s/it]\u001b[A\u001b[A"
     ]
    },
    {
     "name": "stdout",
     "output_type": "stream",
     "text": [
      "다음날짜로 선택시작\n",
      "다음 날짜 선택 후 크롤링 준비\n",
      "https://search.naver.com/search.naver?where=news&query=%EC%BD%94%EC%8A%A4%ED%94%BC%20%EA%B2%BD%EC%A0%9C&sm=tab_opt&sort=0&photo=0&field=0&pd=3&ds=2021.03.25&de=2021.03.25&docid=&related=0&mynews=0&office_type=0&office_section_code=0&news_office_checked=&nso=so%3Ar%2Cp%3Afrom20210325to20210325&is_sug_officeid=0\n",
      "https://search.naver.com/search.naver?where=news&sm=tab_pge&query=%EC%BD%94%EC%8A%A4%ED%94%BC%20%EA%B2%BD%EC%A0%9C&sort=0&photo=0&field=0&pd=3&ds=2021.03.25&de=2021.03.25&cluster_rank=10&mynews=0&office_type=0&office_section_code=0&news_office_checked=&nso=so:r,p:from20210325to20210325,a:all&start=11\n",
      "https://search.naver.com/search.naver?where=news&sm=tab_pge&query=%EC%BD%94%EC%8A%A4%ED%94%BC%20%EA%B2%BD%EC%A0%9C&sort=0&photo=0&field=0&pd=3&ds=2021.03.25&de=2021.03.25&cluster_rank=20&mynews=0&office_type=0&office_section_code=0&news_office_checked=&nso=so:r,p:from20210325to20210325,a:all&start=21\n",
      "크롤링 준비\n"
     ]
    },
    {
     "name": "stderr",
     "output_type": "stream",
     "text": [
      "\n",
      "\n",
      "preprocessing day:  81%|██████████████████████████████████████████████████▊            | 25/31 [02:56<00:42,  7.04s/it]\u001b[A\u001b[A"
     ]
    },
    {
     "name": "stdout",
     "output_type": "stream",
     "text": [
      "다음날짜로 선택시작\n",
      "다음 날짜 선택 후 크롤링 준비\n",
      "https://search.naver.com/search.naver?where=news&query=%EC%BD%94%EC%8A%A4%ED%94%BC%20%EA%B2%BD%EC%A0%9C&sm=tab_opt&sort=0&photo=0&field=0&pd=3&ds=2021.03.26&de=2021.03.26&docid=&related=0&mynews=0&office_type=0&office_section_code=0&news_office_checked=&nso=so%3Ar%2Cp%3Afrom20210326to20210326&is_sug_officeid=0\n",
      "https://search.naver.com/search.naver?where=news&sm=tab_pge&query=%EC%BD%94%EC%8A%A4%ED%94%BC%20%EA%B2%BD%EC%A0%9C&sort=0&photo=0&field=0&pd=3&ds=2021.03.26&de=2021.03.26&cluster_rank=14&mynews=0&office_type=0&office_section_code=0&news_office_checked=&nso=so:r,p:from20210326to20210326,a:all&start=11\n",
      "https://search.naver.com/search.naver?where=news&sm=tab_pge&query=%EC%BD%94%EC%8A%A4%ED%94%BC%20%EA%B2%BD%EC%A0%9C&sort=0&photo=0&field=0&pd=3&ds=2021.03.26&de=2021.03.26&cluster_rank=24&mynews=0&office_type=0&office_section_code=0&news_office_checked=&nso=so:r,p:from20210326to20210326,a:all&start=21\n",
      "크롤링 준비\n"
     ]
    },
    {
     "name": "stderr",
     "output_type": "stream",
     "text": [
      "\n",
      "\n",
      "preprocessing day:  84%|████████████████████████████████████████████████████▊          | 26/31 [03:03<00:35,  7.05s/it]\u001b[A\u001b[A"
     ]
    },
    {
     "name": "stdout",
     "output_type": "stream",
     "text": [
      "다음날짜로 선택시작\n",
      "다음 날짜 선택 후 크롤링 준비\n",
      "https://search.naver.com/search.naver?where=news&query=%EC%BD%94%EC%8A%A4%ED%94%BC%20%EA%B2%BD%EC%A0%9C&sm=tab_opt&sort=0&photo=0&field=0&pd=3&ds=2021.03.27&de=2021.03.27&docid=&related=0&mynews=0&office_type=0&office_section_code=0&news_office_checked=&nso=so%3Ar%2Cp%3Afrom20210327to20210327&is_sug_officeid=0\n",
      "https://search.naver.com/search.naver?where=news&sm=tab_pge&query=%EC%BD%94%EC%8A%A4%ED%94%BC%20%EA%B2%BD%EC%A0%9C&sort=0&photo=0&field=0&pd=3&ds=2021.03.27&de=2021.03.27&cluster_rank=10&mynews=0&office_type=0&office_section_code=0&news_office_checked=&nso=so:r,p:from20210327to20210327,a:all&start=11\n",
      "https://search.naver.com/search.naver?where=news&sm=tab_pge&query=%EC%BD%94%EC%8A%A4%ED%94%BC%20%EA%B2%BD%EC%A0%9C&sort=0&photo=0&field=0&pd=3&ds=2021.03.27&de=2021.03.27&cluster_rank=10&mynews=0&office_type=0&office_section_code=0&news_office_checked=&nso=so:r,p:from20210327to20210327,a:all&start=11\n",
      "크롤링 준비\n"
     ]
    },
    {
     "name": "stderr",
     "output_type": "stream",
     "text": [
      "\n",
      "\n",
      "preprocessing day:  87%|██████████████████████████████████████████████████████▊        | 27/31 [03:10<00:28,  7.01s/it]\u001b[A\u001b[A"
     ]
    },
    {
     "name": "stdout",
     "output_type": "stream",
     "text": [
      "다음날짜로 선택시작\n",
      "다음 날짜 선택 후 크롤링 준비\n",
      "https://search.naver.com/search.naver?where=news&query=%EC%BD%94%EC%8A%A4%ED%94%BC%20%EA%B2%BD%EC%A0%9C&sm=tab_opt&sort=0&photo=0&field=0&pd=3&ds=2021.03.28&de=2021.03.28&docid=&related=0&mynews=0&office_type=0&office_section_code=0&news_office_checked=&nso=so%3Ar%2Cp%3Afrom20210328to20210328&is_sug_officeid=0\n",
      "https://search.naver.com/search.naver?where=news&sm=tab_pge&query=%EC%BD%94%EC%8A%A4%ED%94%BC%20%EA%B2%BD%EC%A0%9C&sort=0&photo=0&field=0&pd=3&ds=2021.03.28&de=2021.03.28&cluster_rank=18&mynews=0&office_type=0&office_section_code=0&news_office_checked=&nso=so:r,p:from20210328to20210328,a:all&start=11\n",
      "https://search.naver.com/search.naver?where=news&sm=tab_pge&query=%EC%BD%94%EC%8A%A4%ED%94%BC%20%EA%B2%BD%EC%A0%9C&sort=0&photo=0&field=0&pd=3&ds=2021.03.28&de=2021.03.28&cluster_rank=32&mynews=0&office_type=0&office_section_code=0&news_office_checked=&nso=so:r,p:from20210328to20210328,a:all&start=21\n",
      "크롤링 준비\n"
     ]
    },
    {
     "name": "stderr",
     "output_type": "stream",
     "text": [
      "\n",
      "\n",
      "preprocessing day:  90%|████████████████████████████████████████████████████████▉      | 28/31 [03:17<00:21,  7.06s/it]\u001b[A\u001b[A"
     ]
    },
    {
     "name": "stdout",
     "output_type": "stream",
     "text": [
      "다음날짜로 선택시작\n",
      "다음 날짜 선택 후 크롤링 준비\n",
      "https://search.naver.com/search.naver?where=news&query=%EC%BD%94%EC%8A%A4%ED%94%BC%20%EA%B2%BD%EC%A0%9C&sm=tab_opt&sort=0&photo=0&field=0&pd=3&ds=2021.03.29&de=2021.03.29&docid=&related=0&mynews=0&office_type=0&office_section_code=0&news_office_checked=&nso=so%3Ar%2Cp%3Afrom20210329to20210329&is_sug_officeid=0\n",
      "https://search.naver.com/search.naver?where=news&sm=tab_pge&query=%EC%BD%94%EC%8A%A4%ED%94%BC%20%EA%B2%BD%EC%A0%9C&sort=0&photo=0&field=0&pd=3&ds=2021.03.29&de=2021.03.29&cluster_rank=14&mynews=0&office_type=0&office_section_code=0&news_office_checked=&nso=so:r,p:from20210329to20210329,a:all&start=11\n",
      "https://search.naver.com/search.naver?where=news&sm=tab_pge&query=%EC%BD%94%EC%8A%A4%ED%94%BC%20%EA%B2%BD%EC%A0%9C&sort=0&photo=0&field=0&pd=3&ds=2021.03.29&de=2021.03.29&cluster_rank=24&mynews=0&office_type=0&office_section_code=0&news_office_checked=&nso=so:r,p:from20210329to20210329,a:all&start=21\n",
      "크롤링 준비\n"
     ]
    },
    {
     "name": "stderr",
     "output_type": "stream",
     "text": [
      "\n",
      "\n",
      "preprocessing day:  94%|██████████████████████████████████████████████████████████▉    | 29/31 [03:24<00:14,  7.07s/it]\u001b[A\u001b[A"
     ]
    },
    {
     "name": "stdout",
     "output_type": "stream",
     "text": [
      "다음날짜로 선택시작\n",
      "다음 날짜 선택 후 크롤링 준비\n",
      "https://search.naver.com/search.naver?where=news&query=%EC%BD%94%EC%8A%A4%ED%94%BC%20%EA%B2%BD%EC%A0%9C&sm=tab_opt&sort=0&photo=0&field=0&pd=3&ds=2021.03.30&de=2021.03.30&docid=&related=0&mynews=0&office_type=0&office_section_code=0&news_office_checked=&nso=so%3Ar%2Cp%3Afrom20210330to20210330&is_sug_officeid=0\n",
      "https://search.naver.com/search.naver?where=news&sm=tab_pge&query=%EC%BD%94%EC%8A%A4%ED%94%BC%20%EA%B2%BD%EC%A0%9C&sort=0&photo=0&field=0&pd=3&ds=2021.03.30&de=2021.03.30&cluster_rank=10&mynews=0&office_type=0&office_section_code=0&news_office_checked=&nso=so:r,p:from20210330to20210330,a:all&start=11\n",
      "https://search.naver.com/search.naver?where=news&sm=tab_pge&query=%EC%BD%94%EC%8A%A4%ED%94%BC%20%EA%B2%BD%EC%A0%9C&sort=0&photo=0&field=0&pd=3&ds=2021.03.30&de=2021.03.30&cluster_rank=22&mynews=0&office_type=0&office_section_code=0&news_office_checked=&nso=so:r,p:from20210330to20210330,a:all&start=21\n",
      "크롤링 준비\n"
     ]
    },
    {
     "name": "stderr",
     "output_type": "stream",
     "text": [
      "\n",
      "\n",
      "preprocessing day:  97%|████████████████████████████████████████████████████████████▉  | 30/31 [03:31<00:07,  7.07s/it]\u001b[A\u001b[A"
     ]
    },
    {
     "name": "stdout",
     "output_type": "stream",
     "text": [
      "다음날짜로 선택시작\n",
      "다음 날짜 선택 후 크롤링 준비\n",
      "https://search.naver.com/search.naver?where=news&query=%EC%BD%94%EC%8A%A4%ED%94%BC%20%EA%B2%BD%EC%A0%9C&sm=tab_opt&sort=0&photo=0&field=0&pd=3&ds=2021.03.31&de=2021.03.31&docid=&related=0&mynews=0&office_type=0&office_section_code=0&news_office_checked=&nso=so%3Ar%2Cp%3Afrom20210331to20210331&is_sug_officeid=0\n",
      "https://search.naver.com/search.naver?where=news&sm=tab_pge&query=%EC%BD%94%EC%8A%A4%ED%94%BC%20%EA%B2%BD%EC%A0%9C&sort=0&photo=0&field=0&pd=3&ds=2021.03.31&de=2021.03.31&cluster_rank=16&mynews=0&office_type=0&office_section_code=0&news_office_checked=&nso=so:r,p:from20210331to20210331,a:all&start=11\n",
      "https://search.naver.com/search.naver?where=news&sm=tab_pge&query=%EC%BD%94%EC%8A%A4%ED%94%BC%20%EA%B2%BD%EC%A0%9C&sort=0&photo=0&field=0&pd=3&ds=2021.03.31&de=2021.03.31&cluster_rank=27&mynews=0&office_type=0&office_section_code=0&news_office_checked=&nso=so:r,p:from20210331to20210331,a:all&start=21\n",
      "크롤링 준비\n"
     ]
    },
    {
     "name": "stderr",
     "output_type": "stream",
     "text": [
      "\n",
      "\n",
      "preprocessing day: 100%|███████████████████████████████████████████████████████████████| 31/31 [03:39<00:00,  7.07s/it]\u001b[A\u001b[A\n",
      "\n",
      "preprocessing month:  25%|███████████████▎                                             | 3/12 [10:42<32:08, 214.32s/it]\u001b[A"
     ]
    },
    {
     "name": "stdout",
     "output_type": "stream",
     "text": [
      "다음날짜로 선택시작\n"
     ]
    },
    {
     "name": "stderr",
     "output_type": "stream",
     "text": [
      "\n",
      "\n",
      "preprocessing day:   0%|                                                                        | 0/31 [00:00<?, ?it/s]\u001b[A\u001b[A"
     ]
    },
    {
     "name": "stdout",
     "output_type": "stream",
     "text": [
      "다음 날짜 선택 후 크롤링 준비\n",
      "https://search.naver.com/search.naver?where=news&query=%EC%BD%94%EC%8A%A4%ED%94%BC%20%EA%B2%BD%EC%A0%9C&sm=tab_opt&sort=0&photo=0&field=0&pd=3&ds=2021.04.01&de=2021.04.01&docid=&related=0&mynews=0&office_type=0&office_section_code=0&news_office_checked=&nso=so%3Ar%2Cp%3Afrom20210401to20210401&is_sug_officeid=0\n",
      "https://search.naver.com/search.naver?where=news&sm=tab_pge&query=%EC%BD%94%EC%8A%A4%ED%94%BC%20%EA%B2%BD%EC%A0%9C&sort=0&photo=0&field=0&pd=3&ds=2021.04.01&de=2021.04.01&cluster_rank=15&mynews=0&office_type=0&office_section_code=0&news_office_checked=&nso=so:r,p:from20210401to20210401,a:all&start=11\n",
      "https://search.naver.com/search.naver?where=news&sm=tab_pge&query=%EC%BD%94%EC%8A%A4%ED%94%BC%20%EA%B2%BD%EC%A0%9C&sort=0&photo=0&field=0&pd=3&ds=2021.04.01&de=2021.04.01&cluster_rank=25&mynews=0&office_type=0&office_section_code=0&news_office_checked=&nso=so:r,p:from20210401to20210401,a:all&start=21\n",
      "크롤링 준비\n"
     ]
    },
    {
     "name": "stderr",
     "output_type": "stream",
     "text": [
      "\n",
      "\n",
      "preprocessing day:   3%|██                                                              | 1/31 [00:07<03:31,  7.06s/it]\u001b[A\u001b[A"
     ]
    },
    {
     "name": "stdout",
     "output_type": "stream",
     "text": [
      "다음날짜로 선택시작\n",
      "다음 날짜 선택 후 크롤링 준비\n",
      "https://search.naver.com/search.naver?where=news&query=%EC%BD%94%EC%8A%A4%ED%94%BC%20%EA%B2%BD%EC%A0%9C&sm=tab_opt&sort=0&photo=0&field=0&pd=3&ds=2021.04.02&de=2021.04.02&docid=&related=0&mynews=0&office_type=0&office_section_code=0&news_office_checked=&nso=so%3Ar%2Cp%3Afrom20210402to20210402&is_sug_officeid=0\n",
      "https://search.naver.com/search.naver?where=news&sm=tab_pge&query=%EC%BD%94%EC%8A%A4%ED%94%BC%20%EA%B2%BD%EC%A0%9C&sort=0&photo=0&field=0&pd=3&ds=2021.04.02&de=2021.04.02&cluster_rank=15&mynews=0&office_type=0&office_section_code=0&news_office_checked=&nso=so:r,p:from20210402to20210402,a:all&start=11\n",
      "https://search.naver.com/search.naver?where=news&sm=tab_pge&query=%EC%BD%94%EC%8A%A4%ED%94%BC%20%EA%B2%BD%EC%A0%9C&sort=0&photo=0&field=0&pd=3&ds=2021.04.02&de=2021.04.02&cluster_rank=27&mynews=0&office_type=0&office_section_code=0&news_office_checked=&nso=so:r,p:from20210402to20210402,a:all&start=21\n",
      "크롤링 준비\n"
     ]
    },
    {
     "name": "stderr",
     "output_type": "stream",
     "text": [
      "\n",
      "\n",
      "preprocessing day:   6%|████▏                                                           | 2/31 [00:14<03:24,  7.04s/it]\u001b[A\u001b[A"
     ]
    },
    {
     "name": "stdout",
     "output_type": "stream",
     "text": [
      "다음날짜로 선택시작\n",
      "다음 날짜 선택 후 크롤링 준비\n",
      "https://search.naver.com/search.naver?where=news&query=%EC%BD%94%EC%8A%A4%ED%94%BC%20%EA%B2%BD%EC%A0%9C&sm=tab_opt&sort=0&photo=0&field=0&pd=3&ds=2021.04.03&de=2021.04.03&docid=&related=0&mynews=0&office_type=0&office_section_code=0&news_office_checked=&nso=so%3Ar%2Cp%3Afrom20210403to20210403&is_sug_officeid=0\n",
      "https://search.naver.com/search.naver?where=news&sm=tab_pge&query=%EC%BD%94%EC%8A%A4%ED%94%BC%20%EA%B2%BD%EC%A0%9C&sort=0&photo=0&field=0&pd=3&ds=2021.04.03&de=2021.04.03&cluster_rank=10&mynews=0&office_type=0&office_section_code=0&news_office_checked=&nso=so:r,p:from20210403to20210403,a:all&start=11\n",
      "https://search.naver.com/search.naver?where=news&sm=tab_pge&query=%EC%BD%94%EC%8A%A4%ED%94%BC%20%EA%B2%BD%EC%A0%9C&sort=0&photo=0&field=0&pd=3&ds=2021.04.03&de=2021.04.03&cluster_rank=10&mynews=0&office_type=0&office_section_code=0&news_office_checked=&nso=so:r,p:from20210403to20210403,a:all&start=11\n",
      "크롤링 준비\n"
     ]
    },
    {
     "name": "stderr",
     "output_type": "stream",
     "text": [
      "\n",
      "\n",
      "preprocessing day:  10%|██████▏                                                         | 3/31 [00:20<03:11,  6.83s/it]\u001b[A\u001b[A"
     ]
    },
    {
     "name": "stdout",
     "output_type": "stream",
     "text": [
      "다음날짜로 선택시작\n",
      "다음 날짜 선택 후 크롤링 준비\n",
      "https://search.naver.com/search.naver?where=news&query=%EC%BD%94%EC%8A%A4%ED%94%BC%20%EA%B2%BD%EC%A0%9C&sm=tab_opt&sort=0&photo=0&field=0&pd=3&ds=2021.04.04&de=2021.04.04&docid=&related=0&mynews=0&office_type=0&office_section_code=0&news_office_checked=&nso=so%3Ar%2Cp%3Afrom20210404to20210404&is_sug_officeid=0\n",
      "https://search.naver.com/search.naver?where=news&sm=tab_pge&query=%EC%BD%94%EC%8A%A4%ED%94%BC%20%EA%B2%BD%EC%A0%9C&sort=0&photo=0&field=0&pd=3&ds=2021.04.04&de=2021.04.04&cluster_rank=17&mynews=0&office_type=0&office_section_code=0&news_office_checked=&nso=so:r,p:from20210404to20210404,a:all&start=11\n",
      "https://search.naver.com/search.naver?where=news&sm=tab_pge&query=%EC%BD%94%EC%8A%A4%ED%94%BC%20%EA%B2%BD%EC%A0%9C&sort=0&photo=0&field=0&pd=3&ds=2021.04.04&de=2021.04.04&cluster_rank=28&mynews=0&office_type=0&office_section_code=0&news_office_checked=&nso=so:r,p:from20210404to20210404,a:all&start=21\n",
      "크롤링 준비\n"
     ]
    },
    {
     "name": "stderr",
     "output_type": "stream",
     "text": [
      "\n",
      "\n",
      "preprocessing day:  13%|████████▎                                                       | 4/31 [00:27<03:06,  6.93s/it]\u001b[A\u001b[A"
     ]
    },
    {
     "name": "stdout",
     "output_type": "stream",
     "text": [
      "다음날짜로 선택시작\n",
      "다음 날짜 선택 후 크롤링 준비\n",
      "https://search.naver.com/search.naver?where=news&query=%EC%BD%94%EC%8A%A4%ED%94%BC%20%EA%B2%BD%EC%A0%9C&sm=tab_opt&sort=0&photo=0&field=0&pd=3&ds=2021.04.05&de=2021.04.05&docid=&related=0&mynews=0&office_type=0&office_section_code=0&news_office_checked=&nso=so%3Ar%2Cp%3Afrom20210405to20210405&is_sug_officeid=0\n",
      "https://search.naver.com/search.naver?where=news&sm=tab_pge&query=%EC%BD%94%EC%8A%A4%ED%94%BC%20%EA%B2%BD%EC%A0%9C&sort=0&photo=0&field=0&pd=3&ds=2021.04.05&de=2021.04.05&cluster_rank=15&mynews=0&office_type=0&office_section_code=0&news_office_checked=&nso=so:r,p:from20210405to20210405,a:all&start=11\n",
      "https://search.naver.com/search.naver?where=news&sm=tab_pge&query=%EC%BD%94%EC%8A%A4%ED%94%BC%20%EA%B2%BD%EC%A0%9C&sort=0&photo=0&field=0&pd=3&ds=2021.04.05&de=2021.04.05&cluster_rank=26&mynews=0&office_type=0&office_section_code=0&news_office_checked=&nso=so:r,p:from20210405to20210405,a:all&start=21\n",
      "크롤링 준비\n"
     ]
    },
    {
     "name": "stderr",
     "output_type": "stream",
     "text": [
      "\n",
      "\n",
      "preprocessing day:  16%|██████████▎                                                     | 5/31 [00:34<03:01,  7.00s/it]\u001b[A\u001b[A"
     ]
    },
    {
     "name": "stdout",
     "output_type": "stream",
     "text": [
      "다음날짜로 선택시작\n",
      "다음 날짜 선택 후 크롤링 준비\n",
      "https://search.naver.com/search.naver?where=news&query=%EC%BD%94%EC%8A%A4%ED%94%BC%20%EA%B2%BD%EC%A0%9C&sm=tab_opt&sort=0&photo=0&field=0&pd=3&ds=2021.04.06&de=2021.04.06&docid=&related=0&mynews=0&office_type=0&office_section_code=0&news_office_checked=&nso=so%3Ar%2Cp%3Afrom20210406to20210406&is_sug_officeid=0\n",
      "https://search.naver.com/search.naver?where=news&sm=tab_pge&query=%EC%BD%94%EC%8A%A4%ED%94%BC%20%EA%B2%BD%EC%A0%9C&sort=0&photo=0&field=0&pd=3&ds=2021.04.06&de=2021.04.06&cluster_rank=16&mynews=0&office_type=0&office_section_code=0&news_office_checked=&nso=so:r,p:from20210406to20210406,a:all&start=11\n",
      "https://search.naver.com/search.naver?where=news&sm=tab_pge&query=%EC%BD%94%EC%8A%A4%ED%94%BC%20%EA%B2%BD%EC%A0%9C&sort=0&photo=0&field=0&pd=3&ds=2021.04.06&de=2021.04.06&cluster_rank=26&mynews=0&office_type=0&office_section_code=0&news_office_checked=&nso=so:r,p:from20210406to20210406,a:all&start=21\n",
      "크롤링 준비\n"
     ]
    },
    {
     "name": "stderr",
     "output_type": "stream",
     "text": [
      "\n",
      "\n",
      "preprocessing day:  19%|████████████▍                                                   | 6/31 [00:42<02:58,  7.13s/it]\u001b[A\u001b[A"
     ]
    },
    {
     "name": "stdout",
     "output_type": "stream",
     "text": [
      "다음날짜로 선택시작\n",
      "다음 날짜 선택 후 크롤링 준비\n",
      "https://search.naver.com/search.naver?where=news&query=%EC%BD%94%EC%8A%A4%ED%94%BC%20%EA%B2%BD%EC%A0%9C&sm=tab_opt&sort=0&photo=0&field=0&pd=3&ds=2021.04.07&de=2021.04.07&docid=&related=0&mynews=0&office_type=0&office_section_code=0&news_office_checked=&nso=so%3Ar%2Cp%3Afrom20210407to20210407&is_sug_officeid=0\n",
      "https://search.naver.com/search.naver?where=news&sm=tab_pge&query=%EC%BD%94%EC%8A%A4%ED%94%BC%20%EA%B2%BD%EC%A0%9C&sort=0&photo=0&field=0&pd=3&ds=2021.04.07&de=2021.04.07&cluster_rank=19&mynews=0&office_type=0&office_section_code=0&news_office_checked=&nso=so:r,p:from20210407to20210407,a:all&start=11\n",
      "https://search.naver.com/search.naver?where=news&sm=tab_pge&query=%EC%BD%94%EC%8A%A4%ED%94%BC%20%EA%B2%BD%EC%A0%9C&sort=0&photo=0&field=0&pd=3&ds=2021.04.07&de=2021.04.07&cluster_rank=29&mynews=0&office_type=0&office_section_code=0&news_office_checked=&nso=so:r,p:from20210407to20210407,a:all&start=21\n",
      "크롤링 준비\n"
     ]
    },
    {
     "name": "stderr",
     "output_type": "stream",
     "text": [
      "\n",
      "\n",
      "preprocessing day:  23%|██████████████▍                                                 | 7/31 [00:49<02:51,  7.15s/it]\u001b[A\u001b[A"
     ]
    },
    {
     "name": "stdout",
     "output_type": "stream",
     "text": [
      "다음날짜로 선택시작\n",
      "다음 날짜 선택 후 크롤링 준비\n",
      "https://search.naver.com/search.naver?where=news&query=%EC%BD%94%EC%8A%A4%ED%94%BC%20%EA%B2%BD%EC%A0%9C&sm=tab_opt&sort=0&photo=0&field=0&pd=3&ds=2021.04.08&de=2021.04.08&docid=&related=0&mynews=0&office_type=0&office_section_code=0&news_office_checked=&nso=so%3Ar%2Cp%3Afrom20210408to20210408&is_sug_officeid=0\n",
      "https://search.naver.com/search.naver?where=news&sm=tab_pge&query=%EC%BD%94%EC%8A%A4%ED%94%BC%20%EA%B2%BD%EC%A0%9C&sort=0&photo=0&field=0&pd=3&ds=2021.04.08&de=2021.04.08&cluster_rank=21&mynews=0&office_type=0&office_section_code=0&news_office_checked=&nso=so:r,p:from20210408to20210408,a:all&start=11\n",
      "https://search.naver.com/search.naver?where=news&sm=tab_pge&query=%EC%BD%94%EC%8A%A4%ED%94%BC%20%EA%B2%BD%EC%A0%9C&sort=0&photo=0&field=0&pd=3&ds=2021.04.08&de=2021.04.08&cluster_rank=31&mynews=0&office_type=0&office_section_code=0&news_office_checked=&nso=so:r,p:from20210408to20210408,a:all&start=21\n",
      "크롤링 준비\n"
     ]
    },
    {
     "name": "stderr",
     "output_type": "stream",
     "text": [
      "\n",
      "\n",
      "preprocessing day:  26%|████████████████▌                                               | 8/31 [00:57<02:47,  7.28s/it]\u001b[A\u001b[A"
     ]
    },
    {
     "name": "stdout",
     "output_type": "stream",
     "text": [
      "다음날짜로 선택시작\n",
      "다음 날짜 선택 후 크롤링 준비\n",
      "https://search.naver.com/search.naver?where=news&query=%EC%BD%94%EC%8A%A4%ED%94%BC%20%EA%B2%BD%EC%A0%9C&sm=tab_opt&sort=0&photo=0&field=0&pd=3&ds=2021.04.09&de=2021.04.09&docid=&related=0&mynews=0&office_type=0&office_section_code=0&news_office_checked=&nso=so%3Ar%2Cp%3Afrom20210409to20210409&is_sug_officeid=0\n",
      "https://search.naver.com/search.naver?where=news&sm=tab_pge&query=%EC%BD%94%EC%8A%A4%ED%94%BC%20%EA%B2%BD%EC%A0%9C&sort=0&photo=0&field=0&pd=3&ds=2021.04.09&de=2021.04.09&cluster_rank=12&mynews=0&office_type=0&office_section_code=0&news_office_checked=&nso=so:r,p:from20210409to20210409,a:all&start=11\n",
      "https://search.naver.com/search.naver?where=news&sm=tab_pge&query=%EC%BD%94%EC%8A%A4%ED%94%BC%20%EA%B2%BD%EC%A0%9C&sort=0&photo=0&field=0&pd=3&ds=2021.04.09&de=2021.04.09&cluster_rank=22&mynews=0&office_type=0&office_section_code=0&news_office_checked=&nso=so:r,p:from20210409to20210409,a:all&start=21\n",
      "크롤링 준비\n"
     ]
    },
    {
     "name": "stderr",
     "output_type": "stream",
     "text": [
      "\n",
      "\n",
      "preprocessing day:  29%|██████████████████▌                                             | 9/31 [01:04<02:39,  7.27s/it]\u001b[A\u001b[A"
     ]
    },
    {
     "name": "stdout",
     "output_type": "stream",
     "text": [
      "다음날짜로 선택시작\n",
      "다음 날짜 선택 후 크롤링 준비\n",
      "https://search.naver.com/search.naver?where=news&query=%EC%BD%94%EC%8A%A4%ED%94%BC%20%EA%B2%BD%EC%A0%9C&sm=tab_opt&sort=0&photo=0&field=0&pd=3&ds=2021.04.10&de=2021.04.10&docid=&related=0&mynews=0&office_type=0&office_section_code=0&news_office_checked=&nso=so%3Ar%2Cp%3Afrom20210410to20210410&is_sug_officeid=0\n",
      "https://search.naver.com/search.naver?where=news&sm=tab_pge&query=%EC%BD%94%EC%8A%A4%ED%94%BC%20%EA%B2%BD%EC%A0%9C&sort=0&photo=0&field=0&pd=3&ds=2021.04.10&de=2021.04.10&cluster_rank=12&mynews=0&office_type=0&office_section_code=0&news_office_checked=&nso=so:r,p:from20210410to20210410,a:all&start=11\n",
      "https://search.naver.com/search.naver?where=news&sm=tab_pge&query=%EC%BD%94%EC%8A%A4%ED%94%BC%20%EA%B2%BD%EC%A0%9C&sort=0&photo=0&field=0&pd=3&ds=2021.04.10&de=2021.04.10&cluster_rank=12&mynews=0&office_type=0&office_section_code=0&news_office_checked=&nso=so:r,p:from20210410to20210410,a:all&start=11\n",
      "크롤링 준비\n"
     ]
    },
    {
     "name": "stderr",
     "output_type": "stream",
     "text": [
      "\n",
      "\n",
      "preprocessing day:  32%|████████████████████▎                                          | 10/31 [01:11<02:32,  7.25s/it]\u001b[A\u001b[A"
     ]
    },
    {
     "name": "stdout",
     "output_type": "stream",
     "text": [
      "다음날짜로 선택시작\n",
      "다음 날짜 선택 후 크롤링 준비\n",
      "https://search.naver.com/search.naver?where=news&query=%EC%BD%94%EC%8A%A4%ED%94%BC%20%EA%B2%BD%EC%A0%9C&sm=tab_opt&sort=0&photo=0&field=0&pd=3&ds=2021.04.11&de=2021.04.11&docid=&related=0&mynews=0&office_type=0&office_section_code=0&news_office_checked=&nso=so%3Ar%2Cp%3Afrom20210411to20210411&is_sug_officeid=0\n",
      "https://search.naver.com/search.naver?where=news&sm=tab_pge&query=%EC%BD%94%EC%8A%A4%ED%94%BC%20%EA%B2%BD%EC%A0%9C&sort=0&photo=0&field=0&pd=3&ds=2021.04.11&de=2021.04.11&cluster_rank=15&mynews=0&office_type=0&office_section_code=0&news_office_checked=&nso=so:r,p:from20210411to20210411,a:all&start=11\n",
      "https://search.naver.com/search.naver?where=news&sm=tab_pge&query=%EC%BD%94%EC%8A%A4%ED%94%BC%20%EA%B2%BD%EC%A0%9C&sort=0&photo=0&field=0&pd=3&ds=2021.04.11&de=2021.04.11&cluster_rank=26&mynews=0&office_type=0&office_section_code=0&news_office_checked=&nso=so:r,p:from20210411to20210411,a:all&start=21\n",
      "크롤링 준비\n"
     ]
    },
    {
     "name": "stderr",
     "output_type": "stream",
     "text": [
      "\n",
      "\n",
      "preprocessing day:  35%|██████████████████████▎                                        | 11/31 [01:18<02:23,  7.18s/it]\u001b[A\u001b[A"
     ]
    },
    {
     "name": "stdout",
     "output_type": "stream",
     "text": [
      "다음날짜로 선택시작\n",
      "다음 날짜 선택 후 크롤링 준비\n",
      "https://search.naver.com/search.naver?where=news&query=%EC%BD%94%EC%8A%A4%ED%94%BC%20%EA%B2%BD%EC%A0%9C&sm=tab_opt&sort=0&photo=0&field=0&pd=3&ds=2021.04.12&de=2021.04.12&docid=&related=0&mynews=0&office_type=0&office_section_code=0&news_office_checked=&nso=so%3Ar%2Cp%3Afrom20210412to20210412&is_sug_officeid=0\n",
      "https://search.naver.com/search.naver?where=news&sm=tab_pge&query=%EC%BD%94%EC%8A%A4%ED%94%BC%20%EA%B2%BD%EC%A0%9C&sort=0&photo=0&field=0&pd=3&ds=2021.04.12&de=2021.04.12&cluster_rank=10&mynews=0&office_type=0&office_section_code=0&news_office_checked=&nso=so:r,p:from20210412to20210412,a:all&start=11\n",
      "https://search.naver.com/search.naver?where=news&sm=tab_pge&query=%EC%BD%94%EC%8A%A4%ED%94%BC%20%EA%B2%BD%EC%A0%9C&sort=0&photo=0&field=0&pd=3&ds=2021.04.12&de=2021.04.12&cluster_rank=20&mynews=0&office_type=0&office_section_code=0&news_office_checked=&nso=so:r,p:from20210412to20210412,a:all&start=21\n",
      "크롤링 준비\n"
     ]
    },
    {
     "name": "stderr",
     "output_type": "stream",
     "text": [
      "\n",
      "\n",
      "preprocessing day:  39%|████████████████████████▍                                      | 12/31 [01:25<02:15,  7.12s/it]\u001b[A\u001b[A"
     ]
    },
    {
     "name": "stdout",
     "output_type": "stream",
     "text": [
      "다음날짜로 선택시작\n",
      "다음 날짜 선택 후 크롤링 준비\n",
      "https://search.naver.com/search.naver?where=news&query=%EC%BD%94%EC%8A%A4%ED%94%BC%20%EA%B2%BD%EC%A0%9C&sm=tab_opt&sort=0&photo=0&field=0&pd=3&ds=2021.04.13&de=2021.04.13&docid=&related=0&mynews=0&office_type=0&office_section_code=0&news_office_checked=&nso=so%3Ar%2Cp%3Afrom20210413to20210413&is_sug_officeid=0\n",
      "https://search.naver.com/search.naver?where=news&sm=tab_pge&query=%EC%BD%94%EC%8A%A4%ED%94%BC%20%EA%B2%BD%EC%A0%9C&sort=0&photo=0&field=0&pd=3&ds=2021.04.13&de=2021.04.13&cluster_rank=13&mynews=0&office_type=0&office_section_code=0&news_office_checked=&nso=so:r,p:from20210413to20210413,a:all&start=11\n",
      "https://search.naver.com/search.naver?where=news&sm=tab_pge&query=%EC%BD%94%EC%8A%A4%ED%94%BC%20%EA%B2%BD%EC%A0%9C&sort=0&photo=0&field=0&pd=3&ds=2021.04.13&de=2021.04.13&cluster_rank=24&mynews=0&office_type=0&office_section_code=0&news_office_checked=&nso=so:r,p:from20210413to20210413,a:all&start=21\n",
      "크롤링 준비\n"
     ]
    },
    {
     "name": "stderr",
     "output_type": "stream",
     "text": [
      "\n",
      "\n",
      "preprocessing day:  42%|██████████████████████████▍                                    | 13/31 [01:32<02:07,  7.10s/it]\u001b[A\u001b[A"
     ]
    },
    {
     "name": "stdout",
     "output_type": "stream",
     "text": [
      "다음날짜로 선택시작\n",
      "다음 날짜 선택 후 크롤링 준비\n",
      "https://search.naver.com/search.naver?where=news&query=%EC%BD%94%EC%8A%A4%ED%94%BC%20%EA%B2%BD%EC%A0%9C&sm=tab_opt&sort=0&photo=0&field=0&pd=3&ds=2021.04.14&de=2021.04.14&docid=&related=0&mynews=0&office_type=0&office_section_code=0&news_office_checked=&nso=so%3Ar%2Cp%3Afrom20210414to20210414&is_sug_officeid=0\n",
      "https://search.naver.com/search.naver?where=news&sm=tab_pge&query=%EC%BD%94%EC%8A%A4%ED%94%BC%20%EA%B2%BD%EC%A0%9C&sort=0&photo=0&field=0&pd=3&ds=2021.04.14&de=2021.04.14&cluster_rank=13&mynews=0&office_type=0&office_section_code=0&news_office_checked=&nso=so:r,p:from20210414to20210414,a:all&start=11\n",
      "https://search.naver.com/search.naver?where=news&sm=tab_pge&query=%EC%BD%94%EC%8A%A4%ED%94%BC%20%EA%B2%BD%EC%A0%9C&sort=0&photo=0&field=0&pd=3&ds=2021.04.14&de=2021.04.14&cluster_rank=27&mynews=0&office_type=0&office_section_code=0&news_office_checked=&nso=so:r,p:from20210414to20210414,a:all&start=21\n",
      "크롤링 준비\n"
     ]
    },
    {
     "name": "stderr",
     "output_type": "stream",
     "text": [
      "\n",
      "\n",
      "preprocessing day:  45%|████████████████████████████▍                                  | 14/31 [01:39<02:00,  7.10s/it]\u001b[A\u001b[A"
     ]
    },
    {
     "name": "stdout",
     "output_type": "stream",
     "text": [
      "다음날짜로 선택시작\n",
      "다음 날짜 선택 후 크롤링 준비\n",
      "https://search.naver.com/search.naver?where=news&query=%EC%BD%94%EC%8A%A4%ED%94%BC%20%EA%B2%BD%EC%A0%9C&sm=tab_opt&sort=0&photo=0&field=0&pd=3&ds=2021.04.15&de=2021.04.15&docid=&related=0&mynews=0&office_type=0&office_section_code=0&news_office_checked=&nso=so%3Ar%2Cp%3Afrom20210415to20210415&is_sug_officeid=0\n",
      "https://search.naver.com/search.naver?where=news&sm=tab_pge&query=%EC%BD%94%EC%8A%A4%ED%94%BC%20%EA%B2%BD%EC%A0%9C&sort=0&photo=0&field=0&pd=3&ds=2021.04.15&de=2021.04.15&cluster_rank=12&mynews=0&office_type=0&office_section_code=0&news_office_checked=&nso=so:r,p:from20210415to20210415,a:all&start=11\n",
      "https://search.naver.com/search.naver?where=news&sm=tab_pge&query=%EC%BD%94%EC%8A%A4%ED%94%BC%20%EA%B2%BD%EC%A0%9C&sort=0&photo=0&field=0&pd=3&ds=2021.04.15&de=2021.04.15&cluster_rank=25&mynews=0&office_type=0&office_section_code=0&news_office_checked=&nso=so:r,p:from20210415to20210415,a:all&start=21\n",
      "크롤링 준비\n"
     ]
    },
    {
     "name": "stderr",
     "output_type": "stream",
     "text": [
      "\n",
      "\n",
      "preprocessing day:  48%|██████████████████████████████▍                                | 15/31 [01:46<01:53,  7.09s/it]\u001b[A\u001b[A"
     ]
    },
    {
     "name": "stdout",
     "output_type": "stream",
     "text": [
      "다음날짜로 선택시작\n",
      "다음 날짜 선택 후 크롤링 준비\n",
      "https://search.naver.com/search.naver?where=news&query=%EC%BD%94%EC%8A%A4%ED%94%BC%20%EA%B2%BD%EC%A0%9C&sm=tab_opt&sort=0&photo=0&field=0&pd=3&ds=2021.04.16&de=2021.04.16&docid=&related=0&mynews=0&office_type=0&office_section_code=0&news_office_checked=&nso=so%3Ar%2Cp%3Afrom20210416to20210416&is_sug_officeid=0\n",
      "https://search.naver.com/search.naver?where=news&sm=tab_pge&query=%EC%BD%94%EC%8A%A4%ED%94%BC%20%EA%B2%BD%EC%A0%9C&sort=0&photo=0&field=0&pd=3&ds=2021.04.16&de=2021.04.16&cluster_rank=20&mynews=0&office_type=0&office_section_code=0&news_office_checked=&nso=so:r,p:from20210416to20210416,a:all&start=11\n",
      "https://search.naver.com/search.naver?where=news&sm=tab_pge&query=%EC%BD%94%EC%8A%A4%ED%94%BC%20%EA%B2%BD%EC%A0%9C&sort=0&photo=0&field=0&pd=3&ds=2021.04.16&de=2021.04.16&cluster_rank=31&mynews=0&office_type=0&office_section_code=0&news_office_checked=&nso=so:r,p:from20210416to20210416,a:all&start=21\n",
      "크롤링 준비\n"
     ]
    },
    {
     "name": "stderr",
     "output_type": "stream",
     "text": [
      "\n",
      "\n",
      "preprocessing day:  52%|████████████████████████████████▌                              | 16/31 [01:53<01:46,  7.07s/it]\u001b[A\u001b[A"
     ]
    },
    {
     "name": "stdout",
     "output_type": "stream",
     "text": [
      "다음날짜로 선택시작\n",
      "다음 날짜 선택 후 크롤링 준비\n",
      "https://search.naver.com/search.naver?where=news&query=%EC%BD%94%EC%8A%A4%ED%94%BC%20%EA%B2%BD%EC%A0%9C&sm=tab_opt&sort=0&photo=0&field=0&pd=3&ds=2021.04.17&de=2021.04.17&docid=&related=0&mynews=0&office_type=0&office_section_code=0&news_office_checked=&nso=so%3Ar%2Cp%3Afrom20210417to20210417&is_sug_officeid=0\n",
      "https://search.naver.com/search.naver?where=news&sm=tab_pge&query=%EC%BD%94%EC%8A%A4%ED%94%BC%20%EA%B2%BD%EC%A0%9C&sort=0&photo=0&field=0&pd=3&ds=2021.04.17&de=2021.04.17&cluster_rank=14&mynews=0&office_type=0&office_section_code=0&news_office_checked=&nso=so:r,p:from20210417to20210417,a:all&start=11\n",
      "https://search.naver.com/search.naver?where=news&sm=tab_pge&query=%EC%BD%94%EC%8A%A4%ED%94%BC%20%EA%B2%BD%EC%A0%9C&sort=0&photo=0&field=0&pd=3&ds=2021.04.17&de=2021.04.17&cluster_rank=14&mynews=0&office_type=0&office_section_code=0&news_office_checked=&nso=so:r,p:from20210417to20210417,a:all&start=11\n",
      "크롤링 준비\n"
     ]
    },
    {
     "name": "stderr",
     "output_type": "stream",
     "text": [
      "\n",
      "\n",
      "preprocessing day:  55%|██████████████████████████████████▌                            | 17/31 [02:00<01:37,  6.97s/it]\u001b[A\u001b[A"
     ]
    },
    {
     "name": "stdout",
     "output_type": "stream",
     "text": [
      "다음날짜로 선택시작\n",
      "다음 날짜 선택 후 크롤링 준비\n",
      "https://search.naver.com/search.naver?where=news&query=%EC%BD%94%EC%8A%A4%ED%94%BC%20%EA%B2%BD%EC%A0%9C&sm=tab_opt&sort=0&photo=0&field=0&pd=3&ds=2021.04.18&de=2021.04.18&docid=&related=0&mynews=0&office_type=0&office_section_code=0&news_office_checked=&nso=so%3Ar%2Cp%3Afrom20210418to20210418&is_sug_officeid=0\n",
      "https://search.naver.com/search.naver?where=news&sm=tab_pge&query=%EC%BD%94%EC%8A%A4%ED%94%BC%20%EA%B2%BD%EC%A0%9C&sort=0&photo=0&field=0&pd=3&ds=2021.04.18&de=2021.04.18&cluster_rank=21&mynews=0&office_type=0&office_section_code=0&news_office_checked=&nso=so:r,p:from20210418to20210418,a:all&start=11\n",
      "https://search.naver.com/search.naver?where=news&sm=tab_pge&query=%EC%BD%94%EC%8A%A4%ED%94%BC%20%EA%B2%BD%EC%A0%9C&sort=0&photo=0&field=0&pd=3&ds=2021.04.18&de=2021.04.18&cluster_rank=33&mynews=0&office_type=0&office_section_code=0&news_office_checked=&nso=so:r,p:from20210418to20210418,a:all&start=21\n",
      "크롤링 준비\n"
     ]
    },
    {
     "name": "stderr",
     "output_type": "stream",
     "text": [
      "\n",
      "\n",
      "preprocessing day:  58%|████████████████████████████████████▌                          | 18/31 [02:07<01:31,  7.01s/it]\u001b[A\u001b[A"
     ]
    },
    {
     "name": "stdout",
     "output_type": "stream",
     "text": [
      "다음날짜로 선택시작\n",
      "다음 날짜 선택 후 크롤링 준비\n",
      "https://search.naver.com/search.naver?where=news&query=%EC%BD%94%EC%8A%A4%ED%94%BC%20%EA%B2%BD%EC%A0%9C&sm=tab_opt&sort=0&photo=0&field=0&pd=3&ds=2021.04.19&de=2021.04.19&docid=&related=0&mynews=0&office_type=0&office_section_code=0&news_office_checked=&nso=so%3Ar%2Cp%3Afrom20210419to20210419&is_sug_officeid=0\n",
      "https://search.naver.com/search.naver?where=news&sm=tab_pge&query=%EC%BD%94%EC%8A%A4%ED%94%BC%20%EA%B2%BD%EC%A0%9C&sort=0&photo=0&field=0&pd=3&ds=2021.04.19&de=2021.04.19&cluster_rank=16&mynews=0&office_type=0&office_section_code=0&news_office_checked=&nso=so:r,p:from20210419to20210419,a:all&start=11\n",
      "https://search.naver.com/search.naver?where=news&sm=tab_pge&query=%EC%BD%94%EC%8A%A4%ED%94%BC%20%EA%B2%BD%EC%A0%9C&sort=0&photo=0&field=0&pd=3&ds=2021.04.19&de=2021.04.19&cluster_rank=26&mynews=0&office_type=0&office_section_code=0&news_office_checked=&nso=so:r,p:from20210419to20210419,a:all&start=21\n",
      "크롤링 준비\n"
     ]
    },
    {
     "name": "stderr",
     "output_type": "stream",
     "text": [
      "\n",
      "\n",
      "preprocessing day:  61%|██████████████████████████████████████▌                        | 19/31 [02:14<01:23,  7.00s/it]\u001b[A\u001b[A"
     ]
    },
    {
     "name": "stdout",
     "output_type": "stream",
     "text": [
      "다음날짜로 선택시작\n",
      "다음 날짜 선택 후 크롤링 준비\n",
      "https://search.naver.com/search.naver?where=news&query=%EC%BD%94%EC%8A%A4%ED%94%BC%20%EA%B2%BD%EC%A0%9C&sm=tab_opt&sort=0&photo=0&field=0&pd=3&ds=2021.04.20&de=2021.04.20&docid=&related=0&mynews=0&office_type=0&office_section_code=0&news_office_checked=&nso=so%3Ar%2Cp%3Afrom20210420to20210420&is_sug_officeid=0\n",
      "https://search.naver.com/search.naver?where=news&sm=tab_pge&query=%EC%BD%94%EC%8A%A4%ED%94%BC%20%EA%B2%BD%EC%A0%9C&sort=0&photo=0&field=0&pd=3&ds=2021.04.20&de=2021.04.20&cluster_rank=15&mynews=0&office_type=0&office_section_code=0&news_office_checked=&nso=so:r,p:from20210420to20210420,a:all&start=11\n",
      "https://search.naver.com/search.naver?where=news&sm=tab_pge&query=%EC%BD%94%EC%8A%A4%ED%94%BC%20%EA%B2%BD%EC%A0%9C&sort=0&photo=0&field=0&pd=3&ds=2021.04.20&de=2021.04.20&cluster_rank=27&mynews=0&office_type=0&office_section_code=0&news_office_checked=&nso=so:r,p:from20210420to20210420,a:all&start=21\n",
      "크롤링 준비\n"
     ]
    },
    {
     "name": "stderr",
     "output_type": "stream",
     "text": [
      "\n",
      "\n",
      "preprocessing day:  65%|████████████████████████████████████████▋                      | 20/31 [02:21<01:17,  7.01s/it]\u001b[A\u001b[A"
     ]
    },
    {
     "name": "stdout",
     "output_type": "stream",
     "text": [
      "다음날짜로 선택시작\n",
      "다음 날짜 선택 후 크롤링 준비\n",
      "https://search.naver.com/search.naver?where=news&query=%EC%BD%94%EC%8A%A4%ED%94%BC%20%EA%B2%BD%EC%A0%9C&sm=tab_opt&sort=0&photo=0&field=0&pd=3&ds=2021.04.21&de=2021.04.21&docid=&related=0&mynews=0&office_type=0&office_section_code=0&news_office_checked=&nso=so%3Ar%2Cp%3Afrom20210421to20210421&is_sug_officeid=0\n",
      "https://search.naver.com/search.naver?where=news&sm=tab_pge&query=%EC%BD%94%EC%8A%A4%ED%94%BC%20%EA%B2%BD%EC%A0%9C&sort=0&photo=0&field=0&pd=3&ds=2021.04.21&de=2021.04.21&cluster_rank=11&mynews=0&office_type=0&office_section_code=0&news_office_checked=&nso=so:r,p:from20210421to20210421,a:all&start=11\n",
      "https://search.naver.com/search.naver?where=news&sm=tab_pge&query=%EC%BD%94%EC%8A%A4%ED%94%BC%20%EA%B2%BD%EC%A0%9C&sort=0&photo=0&field=0&pd=3&ds=2021.04.21&de=2021.04.21&cluster_rank=22&mynews=0&office_type=0&office_section_code=0&news_office_checked=&nso=so:r,p:from20210421to20210421,a:all&start=21\n",
      "크롤링 준비\n"
     ]
    },
    {
     "name": "stderr",
     "output_type": "stream",
     "text": [
      "\n",
      "\n",
      "preprocessing day:  68%|██████████████████████████████████████████▋                    | 21/31 [02:28<01:11,  7.12s/it]\u001b[A\u001b[A"
     ]
    },
    {
     "name": "stdout",
     "output_type": "stream",
     "text": [
      "다음날짜로 선택시작\n",
      "다음 날짜 선택 후 크롤링 준비\n",
      "https://search.naver.com/search.naver?where=news&query=%EC%BD%94%EC%8A%A4%ED%94%BC%20%EA%B2%BD%EC%A0%9C&sm=tab_opt&sort=0&photo=0&field=0&pd=3&ds=2021.04.22&de=2021.04.22&docid=&related=0&mynews=0&office_type=0&office_section_code=0&news_office_checked=&nso=so%3Ar%2Cp%3Afrom20210422to20210422&is_sug_officeid=0\n",
      "https://search.naver.com/search.naver?where=news&sm=tab_pge&query=%EC%BD%94%EC%8A%A4%ED%94%BC%20%EA%B2%BD%EC%A0%9C&sort=0&photo=0&field=0&pd=3&ds=2021.04.22&de=2021.04.22&cluster_rank=11&mynews=0&office_type=0&office_section_code=0&news_office_checked=&nso=so:r,p:from20210422to20210422,a:all&start=11\n",
      "https://search.naver.com/search.naver?where=news&sm=tab_pge&query=%EC%BD%94%EC%8A%A4%ED%94%BC%20%EA%B2%BD%EC%A0%9C&sort=0&photo=0&field=0&pd=3&ds=2021.04.22&de=2021.04.22&cluster_rank=21&mynews=0&office_type=0&office_section_code=0&news_office_checked=&nso=so:r,p:from20210422to20210422,a:all&start=21\n",
      "크롤링 준비\n"
     ]
    },
    {
     "name": "stderr",
     "output_type": "stream",
     "text": [
      "\n",
      "\n",
      "preprocessing day:  71%|████████████████████████████████████████████▋                  | 22/31 [02:35<01:03,  7.10s/it]\u001b[A\u001b[A"
     ]
    },
    {
     "name": "stdout",
     "output_type": "stream",
     "text": [
      "다음날짜로 선택시작\n",
      "다음 날짜 선택 후 크롤링 준비\n",
      "https://search.naver.com/search.naver?where=news&query=%EC%BD%94%EC%8A%A4%ED%94%BC%20%EA%B2%BD%EC%A0%9C&sm=tab_opt&sort=0&photo=0&field=0&pd=3&ds=2021.04.23&de=2021.04.23&docid=&related=0&mynews=0&office_type=0&office_section_code=0&news_office_checked=&nso=so%3Ar%2Cp%3Afrom20210423to20210423&is_sug_officeid=0\n",
      "https://search.naver.com/search.naver?where=news&sm=tab_pge&query=%EC%BD%94%EC%8A%A4%ED%94%BC%20%EA%B2%BD%EC%A0%9C&sort=0&photo=0&field=0&pd=3&ds=2021.04.23&de=2021.04.23&cluster_rank=10&mynews=0&office_type=0&office_section_code=0&news_office_checked=&nso=so:r,p:from20210423to20210423,a:all&start=11\n",
      "https://search.naver.com/search.naver?where=news&sm=tab_pge&query=%EC%BD%94%EC%8A%A4%ED%94%BC%20%EA%B2%BD%EC%A0%9C&sort=0&photo=0&field=0&pd=3&ds=2021.04.23&de=2021.04.23&cluster_rank=20&mynews=0&office_type=0&office_section_code=0&news_office_checked=&nso=so:r,p:from20210423to20210423,a:all&start=21\n",
      "크롤링 준비\n"
     ]
    },
    {
     "name": "stderr",
     "output_type": "stream",
     "text": [
      "\n",
      "\n",
      "preprocessing day:  74%|██████████████████████████████████████████████▋                | 23/31 [02:43<00:56,  7.10s/it]\u001b[A\u001b[A"
     ]
    },
    {
     "name": "stdout",
     "output_type": "stream",
     "text": [
      "다음날짜로 선택시작\n",
      "다음 날짜 선택 후 크롤링 준비\n",
      "https://search.naver.com/search.naver?where=news&query=%EC%BD%94%EC%8A%A4%ED%94%BC%20%EA%B2%BD%EC%A0%9C&sm=tab_opt&sort=0&photo=0&field=0&pd=3&ds=2021.04.24&de=2021.04.24&docid=&related=0&mynews=0&office_type=0&office_section_code=0&news_office_checked=&nso=so%3Ar%2Cp%3Afrom20210424to20210424&is_sug_officeid=0\n",
      "https://search.naver.com/search.naver?where=news&sm=tab_pge&query=%EC%BD%94%EC%8A%A4%ED%94%BC%20%EA%B2%BD%EC%A0%9C&sort=0&photo=0&field=0&pd=3&ds=2021.04.24&de=2021.04.24&cluster_rank=10&mynews=0&office_type=0&office_section_code=0&news_office_checked=&nso=so:r,p:from20210424to20210424,a:all&start=11\n",
      "https://search.naver.com/search.naver?where=news&sm=tab_pge&query=%EC%BD%94%EC%8A%A4%ED%94%BC%20%EA%B2%BD%EC%A0%9C&sort=0&photo=0&field=0&pd=3&ds=2021.04.24&de=2021.04.24&cluster_rank=10&mynews=0&office_type=0&office_section_code=0&news_office_checked=&nso=so:r,p:from20210424to20210424,a:all&start=11\n",
      "크롤링 준비\n"
     ]
    },
    {
     "name": "stderr",
     "output_type": "stream",
     "text": [
      "\n",
      "\n",
      "preprocessing day:  77%|████████████████████████████████████████████████▊              | 24/31 [02:49<00:48,  6.94s/it]\u001b[A\u001b[A"
     ]
    },
    {
     "name": "stdout",
     "output_type": "stream",
     "text": [
      "다음날짜로 선택시작\n",
      "다음 날짜 선택 후 크롤링 준비\n",
      "https://search.naver.com/search.naver?where=news&query=%EC%BD%94%EC%8A%A4%ED%94%BC%20%EA%B2%BD%EC%A0%9C&sm=tab_opt&sort=0&photo=0&field=0&pd=3&ds=2021.04.25&de=2021.04.25&docid=&related=0&mynews=0&office_type=0&office_section_code=0&news_office_checked=&nso=so%3Ar%2Cp%3Afrom20210425to20210425&is_sug_officeid=0\n",
      "https://search.naver.com/search.naver?where=news&sm=tab_pge&query=%EC%BD%94%EC%8A%A4%ED%94%BC%20%EA%B2%BD%EC%A0%9C&sort=0&photo=0&field=0&pd=3&ds=2021.04.25&de=2021.04.25&cluster_rank=17&mynews=0&office_type=0&office_section_code=0&news_office_checked=&nso=so:r,p:from20210425to20210425,a:all&start=11\n",
      "https://search.naver.com/search.naver?where=news&sm=tab_pge&query=%EC%BD%94%EC%8A%A4%ED%94%BC%20%EA%B2%BD%EC%A0%9C&sort=0&photo=0&field=0&pd=3&ds=2021.04.25&de=2021.04.25&cluster_rank=28&mynews=0&office_type=0&office_section_code=0&news_office_checked=&nso=so:r,p:from20210425to20210425,a:all&start=21\n",
      "크롤링 준비\n"
     ]
    },
    {
     "name": "stderr",
     "output_type": "stream",
     "text": [
      "\n",
      "\n",
      "preprocessing day:  81%|██████████████████████████████████████████████████▊            | 25/31 [02:56<00:41,  6.96s/it]\u001b[A\u001b[A"
     ]
    },
    {
     "name": "stdout",
     "output_type": "stream",
     "text": [
      "다음날짜로 선택시작\n",
      "다음 날짜 선택 후 크롤링 준비\n",
      "https://search.naver.com/search.naver?where=news&query=%EC%BD%94%EC%8A%A4%ED%94%BC%20%EA%B2%BD%EC%A0%9C&sm=tab_opt&sort=0&photo=0&field=0&pd=3&ds=2021.04.26&de=2021.04.26&docid=&related=0&mynews=0&office_type=0&office_section_code=0&news_office_checked=&nso=so%3Ar%2Cp%3Afrom20210426to20210426&is_sug_officeid=0\n",
      "https://search.naver.com/search.naver?where=news&sm=tab_pge&query=%EC%BD%94%EC%8A%A4%ED%94%BC%20%EA%B2%BD%EC%A0%9C&sort=0&photo=0&field=0&pd=3&ds=2021.04.26&de=2021.04.26&cluster_rank=15&mynews=0&office_type=0&office_section_code=0&news_office_checked=&nso=so:r,p:from20210426to20210426,a:all&start=11\n",
      "https://search.naver.com/search.naver?where=news&sm=tab_pge&query=%EC%BD%94%EC%8A%A4%ED%94%BC%20%EA%B2%BD%EC%A0%9C&sort=0&photo=0&field=0&pd=3&ds=2021.04.26&de=2021.04.26&cluster_rank=26&mynews=0&office_type=0&office_section_code=0&news_office_checked=&nso=so:r,p:from20210426to20210426,a:all&start=21\n",
      "크롤링 준비\n"
     ]
    },
    {
     "name": "stderr",
     "output_type": "stream",
     "text": [
      "\n",
      "\n",
      "preprocessing day:  84%|████████████████████████████████████████████████████▊          | 26/31 [03:03<00:34,  6.99s/it]\u001b[A\u001b[A"
     ]
    },
    {
     "name": "stdout",
     "output_type": "stream",
     "text": [
      "다음날짜로 선택시작\n",
      "다음 날짜 선택 후 크롤링 준비\n",
      "https://search.naver.com/search.naver?where=news&query=%EC%BD%94%EC%8A%A4%ED%94%BC%20%EA%B2%BD%EC%A0%9C&sm=tab_opt&sort=0&photo=0&field=0&pd=3&ds=2021.04.27&de=2021.04.27&docid=&related=0&mynews=0&office_type=0&office_section_code=0&news_office_checked=&nso=so%3Ar%2Cp%3Afrom20210427to20210427&is_sug_officeid=0\n",
      "https://search.naver.com/search.naver?where=news&sm=tab_pge&query=%EC%BD%94%EC%8A%A4%ED%94%BC%20%EA%B2%BD%EC%A0%9C&sort=0&photo=0&field=0&pd=3&ds=2021.04.27&de=2021.04.27&cluster_rank=11&mynews=0&office_type=0&office_section_code=0&news_office_checked=&nso=so:r,p:from20210427to20210427,a:all&start=11\n",
      "https://search.naver.com/search.naver?where=news&sm=tab_pge&query=%EC%BD%94%EC%8A%A4%ED%94%BC%20%EA%B2%BD%EC%A0%9C&sort=0&photo=0&field=0&pd=3&ds=2021.04.27&de=2021.04.27&cluster_rank=21&mynews=0&office_type=0&office_section_code=0&news_office_checked=&nso=so:r,p:from20210427to20210427,a:all&start=21\n",
      "크롤링 준비\n"
     ]
    },
    {
     "name": "stderr",
     "output_type": "stream",
     "text": [
      "\n",
      "\n",
      "preprocessing day:  87%|██████████████████████████████████████████████████████▊        | 27/31 [03:10<00:28,  7.02s/it]\u001b[A\u001b[A"
     ]
    },
    {
     "name": "stdout",
     "output_type": "stream",
     "text": [
      "다음날짜로 선택시작\n",
      "다음 날짜 선택 후 크롤링 준비\n",
      "https://search.naver.com/search.naver?where=news&query=%EC%BD%94%EC%8A%A4%ED%94%BC%20%EA%B2%BD%EC%A0%9C&sm=tab_opt&sort=0&photo=0&field=0&pd=3&ds=2021.04.28&de=2021.04.28&docid=&related=0&mynews=0&office_type=0&office_section_code=0&news_office_checked=&nso=so%3Ar%2Cp%3Afrom20210428to20210428&is_sug_officeid=0\n",
      "https://search.naver.com/search.naver?where=news&sm=tab_pge&query=%EC%BD%94%EC%8A%A4%ED%94%BC%20%EA%B2%BD%EC%A0%9C&sort=0&photo=0&field=0&pd=3&ds=2021.04.28&de=2021.04.28&cluster_rank=13&mynews=0&office_type=0&office_section_code=0&news_office_checked=&nso=so:r,p:from20210428to20210428,a:all&start=11\n",
      "https://search.naver.com/search.naver?where=news&sm=tab_pge&query=%EC%BD%94%EC%8A%A4%ED%94%BC%20%EA%B2%BD%EC%A0%9C&sort=0&photo=0&field=0&pd=3&ds=2021.04.28&de=2021.04.28&cluster_rank=30&mynews=0&office_type=0&office_section_code=0&news_office_checked=&nso=so:r,p:from20210428to20210428,a:all&start=21\n",
      "크롤링 준비\n"
     ]
    },
    {
     "name": "stderr",
     "output_type": "stream",
     "text": [
      "\n",
      "\n",
      "preprocessing day:  90%|████████████████████████████████████████████████████████▉      | 28/31 [03:17<00:21,  7.03s/it]\u001b[A\u001b[A"
     ]
    },
    {
     "name": "stdout",
     "output_type": "stream",
     "text": [
      "다음날짜로 선택시작\n",
      "다음 날짜 선택 후 크롤링 준비\n",
      "https://search.naver.com/search.naver?where=news&query=%EC%BD%94%EC%8A%A4%ED%94%BC%20%EA%B2%BD%EC%A0%9C&sm=tab_opt&sort=0&photo=0&field=0&pd=3&ds=2021.04.29&de=2021.04.29&docid=&related=0&mynews=0&office_type=0&office_section_code=0&news_office_checked=&nso=so%3Ar%2Cp%3Afrom20210429to20210429&is_sug_officeid=0\n",
      "https://search.naver.com/search.naver?where=news&sm=tab_pge&query=%EC%BD%94%EC%8A%A4%ED%94%BC%20%EA%B2%BD%EC%A0%9C&sort=0&photo=0&field=0&pd=3&ds=2021.04.29&de=2021.04.29&cluster_rank=11&mynews=0&office_type=0&office_section_code=0&news_office_checked=&nso=so:r,p:from20210429to20210429,a:all&start=11\n",
      "https://search.naver.com/search.naver?where=news&sm=tab_pge&query=%EC%BD%94%EC%8A%A4%ED%94%BC%20%EA%B2%BD%EC%A0%9C&sort=0&photo=0&field=0&pd=3&ds=2021.04.29&de=2021.04.29&cluster_rank=26&mynews=0&office_type=0&office_section_code=0&news_office_checked=&nso=so:r,p:from20210429to20210429,a:all&start=21\n",
      "크롤링 준비\n"
     ]
    },
    {
     "name": "stderr",
     "output_type": "stream",
     "text": [
      "\n",
      "\n",
      "preprocessing day:  94%|██████████████████████████████████████████████████████████▉    | 29/31 [03:24<00:14,  7.03s/it]\u001b[A\u001b[A"
     ]
    },
    {
     "name": "stdout",
     "output_type": "stream",
     "text": [
      "다음날짜로 선택시작\n",
      "다음 날짜 선택 후 크롤링 준비\n",
      "https://search.naver.com/search.naver?where=news&query=%EC%BD%94%EC%8A%A4%ED%94%BC%20%EA%B2%BD%EC%A0%9C&sm=tab_opt&sort=0&photo=0&field=0&pd=3&ds=2021.04.30&de=2021.04.30&docid=&related=0&mynews=0&office_type=0&office_section_code=0&news_office_checked=&nso=so%3Ar%2Cp%3Afrom20210430to20210430&is_sug_officeid=0\n",
      "https://search.naver.com/search.naver?where=news&sm=tab_pge&query=%EC%BD%94%EC%8A%A4%ED%94%BC%20%EA%B2%BD%EC%A0%9C&sort=0&photo=0&field=0&pd=3&ds=2021.04.30&de=2021.04.30&cluster_rank=18&mynews=0&office_type=0&office_section_code=0&news_office_checked=&nso=so:r,p:from20210430to20210430,a:all&start=11\n",
      "https://search.naver.com/search.naver?where=news&sm=tab_pge&query=%EC%BD%94%EC%8A%A4%ED%94%BC%20%EA%B2%BD%EC%A0%9C&sort=0&photo=0&field=0&pd=3&ds=2021.04.30&de=2021.04.30&cluster_rank=30&mynews=0&office_type=0&office_section_code=0&news_office_checked=&nso=so:r,p:from20210430to20210430,a:all&start=21\n",
      "크롤링 준비\n"
     ]
    },
    {
     "name": "stderr",
     "output_type": "stream",
     "text": [
      "\n",
      "\n",
      "preprocessing day:  97%|████████████████████████████████████████████████████████████▉  | 30/31 [03:32<00:07,  7.05s/it]\u001b[A\u001b[A"
     ]
    },
    {
     "name": "stdout",
     "output_type": "stream",
     "text": [
      "다음날짜로 선택시작\n"
     ]
    },
    {
     "name": "stderr",
     "output_type": "stream",
     "text": [
      "\n",
      "\n",
      "preprocessing day: 100%|███████████████████████████████████████████████████████████████| 31/31 [03:33<00:00,  6.88s/it]\u001b[A\u001b[A\n",
      "\n",
      "preprocessing month:  33%|████████████████████▎                                        | 4/12 [14:16<28:31, 213.88s/it]\u001b[A"
     ]
    },
    {
     "name": "stdout",
     "output_type": "stream",
     "text": [
      "An error occurred while crawling for 2021-4-31: Message: no such element: Unable to locate element: {\"method\":\"xpath\",\"selector\":\"/html/body/div[3]/div[2]/div/div[1]/div[1]/div[2]/ul/li[2]/div/div[3]/div[2]/div[3]/div/div/div/ul/li[31]\"}\n",
      "  (Session info: headless chrome=115.0.5790.171); For documentation on this error, please visit: https://www.selenium.dev/documentation/webdriver/troubleshooting/errors#no-such-element-exception\n",
      "Stacktrace:\n",
      "Backtrace:\n",
      "\tGetHandleVerifier [0x00007FF7F2764A62+57106]\n",
      "\t(No symbol) [0x00007FF7F26DCF52]\n",
      "\t(No symbol) [0x00007FF7F25AE2CB]\n",
      "\t(No symbol) [0x00007FF7F25E786E]\n",
      "\t(No symbol) [0x00007FF7F25E795C]\n",
      "\t(No symbol) [0x00007FF7F2620477]\n",
      "\t(No symbol) [0x00007FF7F26069FF]\n",
      "\t(No symbol) [0x00007FF7F261E522]\n",
      "\t(No symbol) [0x00007FF7F2606793]\n",
      "\t(No symbol) [0x00007FF7F25DCE81]\n",
      "\t(No symbol) [0x00007FF7F25DE064]\n",
      "\tGetHandleVerifier [0x00007FF7F2A14222+2873042]\n",
      "\tGetHandleVerifier [0x00007FF7F2A66590+3209792]\n",
      "\tGetHandleVerifier [0x00007FF7F2A5F3AF+3180639]\n",
      "\tGetHandleVerifier [0x00007FF7F27F5F25+652245]\n",
      "\t(No symbol) [0x00007FF7F26E8618]\n",
      "\t(No symbol) [0x00007FF7F26E47C4]\n",
      "\t(No symbol) [0x00007FF7F26E48BC]\n",
      "\t(No symbol) [0x00007FF7F26D4C33]\n",
      "\tBaseThreadInitThunk [0x00007FFFF2917614+20]\n",
      "\tRtlUserThreadStart [0x00007FFFF3D026B1+33]\n",
      "\n"
     ]
    },
    {
     "name": "stderr",
     "output_type": "stream",
     "text": [
      "\n",
      "\n",
      "preprocessing day:   0%|                                                                        | 0/31 [00:00<?, ?it/s]\u001b[A\u001b[A"
     ]
    },
    {
     "name": "stdout",
     "output_type": "stream",
     "text": [
      "다음 날짜 선택 후 크롤링 준비\n",
      "https://search.naver.com/search.naver?where=news&query=%EC%BD%94%EC%8A%A4%ED%94%BC%20%EA%B2%BD%EC%A0%9C&sm=tab_opt&sort=0&photo=0&field=0&pd=3&ds=2021.05.01&de=2021.05.01&docid=&related=0&mynews=0&office_type=0&office_section_code=0&news_office_checked=&nso=so%3Ar%2Cp%3Afrom20210501to20210501&is_sug_officeid=0\n",
      "https://search.naver.com/search.naver?where=news&sm=tab_pge&query=%EC%BD%94%EC%8A%A4%ED%94%BC%20%EA%B2%BD%EC%A0%9C&sort=0&photo=0&field=0&pd=3&ds=2021.05.01&de=2021.05.01&cluster_rank=10&mynews=0&office_type=0&office_section_code=0&news_office_checked=&nso=so:r,p:from20210501to20210501,a:all&start=11\n",
      "https://search.naver.com/search.naver?where=news&sm=tab_pge&query=%EC%BD%94%EC%8A%A4%ED%94%BC%20%EA%B2%BD%EC%A0%9C&sort=0&photo=0&field=0&pd=3&ds=2021.05.01&de=2021.05.01&cluster_rank=10&mynews=0&office_type=0&office_section_code=0&news_office_checked=&nso=so:r,p:from20210501to20210501,a:all&start=11\n",
      "크롤링 준비\n"
     ]
    },
    {
     "name": "stderr",
     "output_type": "stream",
     "text": [
      "\n",
      "\n",
      "preprocessing day:   3%|██                                                              | 1/31 [00:06<03:24,  6.83s/it]\u001b[A\u001b[A"
     ]
    },
    {
     "name": "stdout",
     "output_type": "stream",
     "text": [
      "다음날짜로 선택시작\n",
      "다음 날짜 선택 후 크롤링 준비\n",
      "https://search.naver.com/search.naver?where=news&query=%EC%BD%94%EC%8A%A4%ED%94%BC%20%EA%B2%BD%EC%A0%9C&sm=tab_opt&sort=0&photo=0&field=0&pd=3&ds=2021.05.02&de=2021.05.02&docid=&related=0&mynews=0&office_type=0&office_section_code=0&news_office_checked=&nso=so%3Ar%2Cp%3Afrom20210502to20210502&is_sug_officeid=0\n",
      "https://search.naver.com/search.naver?where=news&sm=tab_pge&query=%EC%BD%94%EC%8A%A4%ED%94%BC%20%EA%B2%BD%EC%A0%9C&sort=0&photo=0&field=0&pd=3&ds=2021.05.02&de=2021.05.02&cluster_rank=15&mynews=0&office_type=0&office_section_code=0&news_office_checked=&nso=so:r,p:from20210502to20210502,a:all&start=11\n",
      "https://search.naver.com/search.naver?where=news&sm=tab_pge&query=%EC%BD%94%EC%8A%A4%ED%94%BC%20%EA%B2%BD%EC%A0%9C&sort=0&photo=0&field=0&pd=3&ds=2021.05.02&de=2021.05.02&cluster_rank=26&mynews=0&office_type=0&office_section_code=0&news_office_checked=&nso=so:r,p:from20210502to20210502,a:all&start=21\n",
      "크롤링 준비\n"
     ]
    },
    {
     "name": "stderr",
     "output_type": "stream",
     "text": [
      "\n",
      "\n",
      "preprocessing day:   6%|████▏                                                           | 2/31 [00:13<03:20,  6.90s/it]\u001b[A\u001b[A"
     ]
    },
    {
     "name": "stdout",
     "output_type": "stream",
     "text": [
      "다음날짜로 선택시작\n",
      "다음 날짜 선택 후 크롤링 준비\n",
      "https://search.naver.com/search.naver?where=news&query=%EC%BD%94%EC%8A%A4%ED%94%BC%20%EA%B2%BD%EC%A0%9C&sm=tab_opt&sort=0&photo=0&field=0&pd=3&ds=2021.05.03&de=2021.05.03&docid=&related=0&mynews=0&office_type=0&office_section_code=0&news_office_checked=&nso=so%3Ar%2Cp%3Afrom20210503to20210503&is_sug_officeid=0\n",
      "https://search.naver.com/search.naver?where=news&sm=tab_pge&query=%EC%BD%94%EC%8A%A4%ED%94%BC%20%EA%B2%BD%EC%A0%9C&sort=0&photo=0&field=0&pd=3&ds=2021.05.03&de=2021.05.03&cluster_rank=12&mynews=0&office_type=0&office_section_code=0&news_office_checked=&nso=so:r,p:from20210503to20210503,a:all&start=11\n",
      "https://search.naver.com/search.naver?where=news&sm=tab_pge&query=%EC%BD%94%EC%8A%A4%ED%94%BC%20%EA%B2%BD%EC%A0%9C&sort=0&photo=0&field=0&pd=3&ds=2021.05.03&de=2021.05.03&cluster_rank=22&mynews=0&office_type=0&office_section_code=0&news_office_checked=&nso=so:r,p:from20210503to20210503,a:all&start=21\n",
      "크롤링 준비\n"
     ]
    },
    {
     "name": "stderr",
     "output_type": "stream",
     "text": [
      "\n",
      "\n",
      "preprocessing day:  10%|██████▏                                                         | 3/31 [00:20<03:15,  6.97s/it]\u001b[A\u001b[A"
     ]
    },
    {
     "name": "stdout",
     "output_type": "stream",
     "text": [
      "다음날짜로 선택시작\n",
      "다음 날짜 선택 후 크롤링 준비\n",
      "https://search.naver.com/search.naver?where=news&query=%EC%BD%94%EC%8A%A4%ED%94%BC%20%EA%B2%BD%EC%A0%9C&sm=tab_opt&sort=0&photo=0&field=0&pd=3&ds=2021.05.04&de=2021.05.04&docid=&related=0&mynews=0&office_type=0&office_section_code=0&news_office_checked=&nso=so%3Ar%2Cp%3Afrom20210504to20210504&is_sug_officeid=0\n",
      "https://search.naver.com/search.naver?where=news&sm=tab_pge&query=%EC%BD%94%EC%8A%A4%ED%94%BC%20%EA%B2%BD%EC%A0%9C&sort=0&photo=0&field=0&pd=3&ds=2021.05.04&de=2021.05.04&cluster_rank=20&mynews=0&office_type=0&office_section_code=0&news_office_checked=&nso=so:r,p:from20210504to20210504,a:all&start=11\n",
      "https://search.naver.com/search.naver?where=news&sm=tab_pge&query=%EC%BD%94%EC%8A%A4%ED%94%BC%20%EA%B2%BD%EC%A0%9C&sort=0&photo=0&field=0&pd=3&ds=2021.05.04&de=2021.05.04&cluster_rank=30&mynews=0&office_type=0&office_section_code=0&news_office_checked=&nso=so:r,p:from20210504to20210504,a:all&start=21\n",
      "크롤링 준비\n"
     ]
    },
    {
     "name": "stderr",
     "output_type": "stream",
     "text": [
      "\n",
      "\n",
      "preprocessing day:  13%|████████▎                                                       | 4/31 [00:27<03:08,  6.97s/it]\u001b[A\u001b[A"
     ]
    },
    {
     "name": "stdout",
     "output_type": "stream",
     "text": [
      "다음날짜로 선택시작\n",
      "다음 날짜 선택 후 크롤링 준비\n",
      "https://search.naver.com/search.naver?where=news&query=%EC%BD%94%EC%8A%A4%ED%94%BC%20%EA%B2%BD%EC%A0%9C&sm=tab_opt&sort=0&photo=0&field=0&pd=3&ds=2021.05.05&de=2021.05.05&docid=&related=0&mynews=0&office_type=0&office_section_code=0&news_office_checked=&nso=so%3Ar%2Cp%3Afrom20210505to20210505&is_sug_officeid=0\n",
      "https://search.naver.com/search.naver?where=news&sm=tab_pge&query=%EC%BD%94%EC%8A%A4%ED%94%BC%20%EA%B2%BD%EC%A0%9C&sort=0&photo=0&field=0&pd=3&ds=2021.05.05&de=2021.05.05&cluster_rank=14&mynews=0&office_type=0&office_section_code=0&news_office_checked=&nso=so:r,p:from20210505to20210505,a:all&start=11\n",
      "https://search.naver.com/search.naver?where=news&sm=tab_pge&query=%EC%BD%94%EC%8A%A4%ED%94%BC%20%EA%B2%BD%EC%A0%9C&sort=0&photo=0&field=0&pd=3&ds=2021.05.05&de=2021.05.05&cluster_rank=24&mynews=0&office_type=0&office_section_code=0&news_office_checked=&nso=so:r,p:from20210505to20210505,a:all&start=21\n",
      "크롤링 준비\n"
     ]
    },
    {
     "name": "stderr",
     "output_type": "stream",
     "text": [
      "\n",
      "\n",
      "preprocessing day:  16%|██████████▎                                                     | 5/31 [00:34<03:01,  6.97s/it]\u001b[A\u001b[A"
     ]
    },
    {
     "name": "stdout",
     "output_type": "stream",
     "text": [
      "다음날짜로 선택시작\n",
      "다음 날짜 선택 후 크롤링 준비\n",
      "https://search.naver.com/search.naver?where=news&query=%EC%BD%94%EC%8A%A4%ED%94%BC%20%EA%B2%BD%EC%A0%9C&sm=tab_opt&sort=0&photo=0&field=0&pd=3&ds=2021.05.06&de=2021.05.06&docid=&related=0&mynews=0&office_type=0&office_section_code=0&news_office_checked=&nso=so%3Ar%2Cp%3Afrom20210506to20210506&is_sug_officeid=0\n",
      "https://search.naver.com/search.naver?where=news&sm=tab_pge&query=%EC%BD%94%EC%8A%A4%ED%94%BC%20%EA%B2%BD%EC%A0%9C&sort=0&photo=0&field=0&pd=3&ds=2021.05.06&de=2021.05.06&cluster_rank=16&mynews=0&office_type=0&office_section_code=0&news_office_checked=&nso=so:r,p:from20210506to20210506,a:all&start=11\n",
      "https://search.naver.com/search.naver?where=news&sm=tab_pge&query=%EC%BD%94%EC%8A%A4%ED%94%BC%20%EA%B2%BD%EC%A0%9C&sort=0&photo=0&field=0&pd=3&ds=2021.05.06&de=2021.05.06&cluster_rank=26&mynews=0&office_type=0&office_section_code=0&news_office_checked=&nso=so:r,p:from20210506to20210506,a:all&start=21\n",
      "크롤링 준비\n"
     ]
    },
    {
     "name": "stderr",
     "output_type": "stream",
     "text": [
      "\n",
      "\n",
      "preprocessing day:  19%|████████████▍                                                   | 6/31 [00:41<02:54,  7.00s/it]\u001b[A\u001b[A"
     ]
    },
    {
     "name": "stdout",
     "output_type": "stream",
     "text": [
      "다음날짜로 선택시작\n",
      "다음 날짜 선택 후 크롤링 준비\n",
      "https://search.naver.com/search.naver?where=news&query=%EC%BD%94%EC%8A%A4%ED%94%BC%20%EA%B2%BD%EC%A0%9C&sm=tab_opt&sort=0&photo=0&field=0&pd=3&ds=2021.05.07&de=2021.05.07&docid=&related=0&mynews=0&office_type=0&office_section_code=0&news_office_checked=&nso=so%3Ar%2Cp%3Afrom20210507to20210507&is_sug_officeid=0\n",
      "https://search.naver.com/search.naver?where=news&sm=tab_pge&query=%EC%BD%94%EC%8A%A4%ED%94%BC%20%EA%B2%BD%EC%A0%9C&sort=0&photo=0&field=0&pd=3&ds=2021.05.07&de=2021.05.07&cluster_rank=11&mynews=0&office_type=0&office_section_code=0&news_office_checked=&nso=so:r,p:from20210507to20210507,a:all&start=11\n",
      "https://search.naver.com/search.naver?where=news&sm=tab_pge&query=%EC%BD%94%EC%8A%A4%ED%94%BC%20%EA%B2%BD%EC%A0%9C&sort=0&photo=0&field=0&pd=3&ds=2021.05.07&de=2021.05.07&cluster_rank=21&mynews=0&office_type=0&office_section_code=0&news_office_checked=&nso=so:r,p:from20210507to20210507,a:all&start=21\n",
      "크롤링 준비\n"
     ]
    },
    {
     "name": "stderr",
     "output_type": "stream",
     "text": [
      "\n",
      "\n",
      "preprocessing day:  23%|██████████████▍                                                 | 7/31 [00:48<02:47,  7.00s/it]\u001b[A\u001b[A"
     ]
    },
    {
     "name": "stdout",
     "output_type": "stream",
     "text": [
      "다음날짜로 선택시작\n",
      "다음 날짜 선택 후 크롤링 준비\n",
      "https://search.naver.com/search.naver?where=news&query=%EC%BD%94%EC%8A%A4%ED%94%BC%20%EA%B2%BD%EC%A0%9C&sm=tab_opt&sort=0&photo=0&field=0&pd=3&ds=2021.05.08&de=2021.05.08&docid=&related=0&mynews=0&office_type=0&office_section_code=0&news_office_checked=&nso=so%3Ar%2Cp%3Afrom20210508to20210508&is_sug_officeid=0\n",
      "https://search.naver.com/search.naver?where=news&query=%EC%BD%94%EC%8A%A4%ED%94%BC%20%EA%B2%BD%EC%A0%9C&sm=tab_opt&sort=0&photo=0&field=0&pd=3&ds=2021.05.08&de=2021.05.08&docid=&related=0&mynews=0&office_type=0&office_section_code=0&news_office_checked=&nso=so%3Ar%2Cp%3Afrom20210508to20210508&is_sug_officeid=0\n",
      "크롤링 준비\n"
     ]
    },
    {
     "name": "stderr",
     "output_type": "stream",
     "text": [
      "\n",
      "\n",
      "preprocessing day:  26%|████████████████▌                                               | 8/31 [00:55<02:36,  6.81s/it]\u001b[A\u001b[A"
     ]
    },
    {
     "name": "stdout",
     "output_type": "stream",
     "text": [
      "다음날짜로 선택시작\n",
      "다음 날짜 선택 후 크롤링 준비\n",
      "https://search.naver.com/search.naver?where=news&query=%EC%BD%94%EC%8A%A4%ED%94%BC%20%EA%B2%BD%EC%A0%9C&sm=tab_opt&sort=0&photo=0&field=0&pd=3&ds=2021.05.09&de=2021.05.09&docid=&related=0&mynews=0&office_type=0&office_section_code=0&news_office_checked=&nso=so%3Ar%2Cp%3Afrom20210509to20210509&is_sug_officeid=0\n",
      "https://search.naver.com/search.naver?where=news&sm=tab_pge&query=%EC%BD%94%EC%8A%A4%ED%94%BC%20%EA%B2%BD%EC%A0%9C&sort=0&photo=0&field=0&pd=3&ds=2021.05.09&de=2021.05.09&cluster_rank=16&mynews=0&office_type=0&office_section_code=0&news_office_checked=&nso=so:r,p:from20210509to20210509,a:all&start=11\n",
      "https://search.naver.com/search.naver?where=news&sm=tab_pge&query=%EC%BD%94%EC%8A%A4%ED%94%BC%20%EA%B2%BD%EC%A0%9C&sort=0&photo=0&field=0&pd=3&ds=2021.05.09&de=2021.05.09&cluster_rank=26&mynews=0&office_type=0&office_section_code=0&news_office_checked=&nso=so:r,p:from20210509to20210509,a:all&start=21\n",
      "크롤링 준비\n"
     ]
    },
    {
     "name": "stderr",
     "output_type": "stream",
     "text": [
      "\n",
      "\n",
      "preprocessing day:  29%|██████████████████▌                                             | 9/31 [01:02<02:31,  6.89s/it]\u001b[A\u001b[A"
     ]
    },
    {
     "name": "stdout",
     "output_type": "stream",
     "text": [
      "다음날짜로 선택시작\n",
      "다음 날짜 선택 후 크롤링 준비\n",
      "https://search.naver.com/search.naver?where=news&query=%EC%BD%94%EC%8A%A4%ED%94%BC%20%EA%B2%BD%EC%A0%9C&sm=tab_opt&sort=0&photo=0&field=0&pd=3&ds=2021.05.10&de=2021.05.10&docid=&related=0&mynews=0&office_type=0&office_section_code=0&news_office_checked=&nso=so%3Ar%2Cp%3Afrom20210510to20210510&is_sug_officeid=0\n",
      "https://search.naver.com/search.naver?where=news&sm=tab_pge&query=%EC%BD%94%EC%8A%A4%ED%94%BC%20%EA%B2%BD%EC%A0%9C&sort=0&photo=0&field=0&pd=3&ds=2021.05.10&de=2021.05.10&cluster_rank=21&mynews=0&office_type=0&office_section_code=0&news_office_checked=&nso=so:r,p:from20210510to20210510,a:all&start=11\n",
      "https://search.naver.com/search.naver?where=news&sm=tab_pge&query=%EC%BD%94%EC%8A%A4%ED%94%BC%20%EA%B2%BD%EC%A0%9C&sort=0&photo=0&field=0&pd=3&ds=2021.05.10&de=2021.05.10&cluster_rank=31&mynews=0&office_type=0&office_section_code=0&news_office_checked=&nso=so:r,p:from20210510to20210510,a:all&start=21\n",
      "크롤링 준비\n"
     ]
    },
    {
     "name": "stderr",
     "output_type": "stream",
     "text": [
      "\n",
      "\n",
      "preprocessing day:  32%|████████████████████▎                                          | 10/31 [01:09<02:25,  6.94s/it]\u001b[A\u001b[A"
     ]
    },
    {
     "name": "stdout",
     "output_type": "stream",
     "text": [
      "다음날짜로 선택시작\n",
      "다음 날짜 선택 후 크롤링 준비\n",
      "https://search.naver.com/search.naver?where=news&query=%EC%BD%94%EC%8A%A4%ED%94%BC%20%EA%B2%BD%EC%A0%9C&sm=tab_opt&sort=0&photo=0&field=0&pd=3&ds=2021.05.11&de=2021.05.11&docid=&related=0&mynews=0&office_type=0&office_section_code=0&news_office_checked=&nso=so%3Ar%2Cp%3Afrom20210511to20210511&is_sug_officeid=0\n",
      "https://search.naver.com/search.naver?where=news&sm=tab_pge&query=%EC%BD%94%EC%8A%A4%ED%94%BC%20%EA%B2%BD%EC%A0%9C&sort=0&photo=0&field=0&pd=3&ds=2021.05.11&de=2021.05.11&cluster_rank=13&mynews=0&office_type=0&office_section_code=0&news_office_checked=&nso=so:r,p:from20210511to20210511,a:all&start=11\n",
      "https://search.naver.com/search.naver?where=news&sm=tab_pge&query=%EC%BD%94%EC%8A%A4%ED%94%BC%20%EA%B2%BD%EC%A0%9C&sort=0&photo=0&field=0&pd=3&ds=2021.05.11&de=2021.05.11&cluster_rank=23&mynews=0&office_type=0&office_section_code=0&news_office_checked=&nso=so:r,p:from20210511to20210511,a:all&start=21\n",
      "크롤링 준비\n"
     ]
    },
    {
     "name": "stderr",
     "output_type": "stream",
     "text": [
      "\n",
      "\n",
      "preprocessing day:  35%|██████████████████████▎                                        | 11/31 [01:17<02:25,  7.27s/it]\u001b[A\u001b[A"
     ]
    },
    {
     "name": "stdout",
     "output_type": "stream",
     "text": [
      "다음날짜로 선택시작\n",
      "다음 날짜 선택 후 크롤링 준비\n",
      "https://search.naver.com/search.naver?where=news&query=%EC%BD%94%EC%8A%A4%ED%94%BC%20%EA%B2%BD%EC%A0%9C&sm=tab_opt&sort=0&photo=0&field=0&pd=3&ds=2021.05.12&de=2021.05.12&docid=&related=0&mynews=0&office_type=0&office_section_code=0&news_office_checked=&nso=so%3Ar%2Cp%3Afrom20210512to20210512&is_sug_officeid=0\n",
      "https://search.naver.com/search.naver?where=news&sm=tab_pge&query=%EC%BD%94%EC%8A%A4%ED%94%BC%20%EA%B2%BD%EC%A0%9C&sort=0&photo=0&field=0&pd=3&ds=2021.05.12&de=2021.05.12&cluster_rank=14&mynews=0&office_type=0&office_section_code=0&news_office_checked=&nso=so:r,p:from20210512to20210512,a:all&start=11\n",
      "https://search.naver.com/search.naver?where=news&sm=tab_pge&query=%EC%BD%94%EC%8A%A4%ED%94%BC%20%EA%B2%BD%EC%A0%9C&sort=0&photo=0&field=0&pd=3&ds=2021.05.12&de=2021.05.12&cluster_rank=25&mynews=0&office_type=0&office_section_code=0&news_office_checked=&nso=so:r,p:from20210512to20210512,a:all&start=21\n",
      "크롤링 준비\n"
     ]
    },
    {
     "name": "stderr",
     "output_type": "stream",
     "text": [
      "\n",
      "\n",
      "preprocessing day:  39%|████████████████████████▍                                      | 12/31 [01:24<02:16,  7.19s/it]\u001b[A\u001b[A"
     ]
    },
    {
     "name": "stdout",
     "output_type": "stream",
     "text": [
      "다음날짜로 선택시작\n",
      "다음 날짜 선택 후 크롤링 준비\n",
      "https://search.naver.com/search.naver?where=news&query=%EC%BD%94%EC%8A%A4%ED%94%BC%20%EA%B2%BD%EC%A0%9C&sm=tab_opt&sort=0&photo=0&field=0&pd=3&ds=2021.05.13&de=2021.05.13&docid=&related=0&mynews=0&office_type=0&office_section_code=0&news_office_checked=&nso=so%3Ar%2Cp%3Afrom20210513to20210513&is_sug_officeid=0\n",
      "https://search.naver.com/search.naver?where=news&sm=tab_pge&query=%EC%BD%94%EC%8A%A4%ED%94%BC%20%EA%B2%BD%EC%A0%9C&sort=0&photo=0&field=0&pd=3&ds=2021.05.13&de=2021.05.13&cluster_rank=11&mynews=0&office_type=0&office_section_code=0&news_office_checked=&nso=so:r,p:from20210513to20210513,a:all&start=11\n",
      "https://search.naver.com/search.naver?where=news&sm=tab_pge&query=%EC%BD%94%EC%8A%A4%ED%94%BC%20%EA%B2%BD%EC%A0%9C&sort=0&photo=0&field=0&pd=3&ds=2021.05.13&de=2021.05.13&cluster_rank=21&mynews=0&office_type=0&office_section_code=0&news_office_checked=&nso=so:r,p:from20210513to20210513,a:all&start=21\n",
      "크롤링 준비\n"
     ]
    },
    {
     "name": "stderr",
     "output_type": "stream",
     "text": [
      "\n",
      "\n",
      "preprocessing day:  42%|██████████████████████████▍                                    | 13/31 [01:31<02:10,  7.23s/it]\u001b[A\u001b[A"
     ]
    },
    {
     "name": "stdout",
     "output_type": "stream",
     "text": [
      "다음날짜로 선택시작\n",
      "다음 날짜 선택 후 크롤링 준비\n",
      "https://search.naver.com/search.naver?where=news&query=%EC%BD%94%EC%8A%A4%ED%94%BC%20%EA%B2%BD%EC%A0%9C&sm=tab_opt&sort=0&photo=0&field=0&pd=3&ds=2021.05.14&de=2021.05.14&docid=&related=0&mynews=0&office_type=0&office_section_code=0&news_office_checked=&nso=so%3Ar%2Cp%3Afrom20210514to20210514&is_sug_officeid=0\n",
      "https://search.naver.com/search.naver?where=news&sm=tab_pge&query=%EC%BD%94%EC%8A%A4%ED%94%BC%20%EA%B2%BD%EC%A0%9C&sort=0&photo=0&field=0&pd=3&ds=2021.05.14&de=2021.05.14&cluster_rank=12&mynews=0&office_type=0&office_section_code=0&news_office_checked=&nso=so:r,p:from20210514to20210514,a:all&start=11\n",
      "https://search.naver.com/search.naver?where=news&sm=tab_pge&query=%EC%BD%94%EC%8A%A4%ED%94%BC%20%EA%B2%BD%EC%A0%9C&sort=0&photo=0&field=0&pd=3&ds=2021.05.14&de=2021.05.14&cluster_rank=22&mynews=0&office_type=0&office_section_code=0&news_office_checked=&nso=so:r,p:from20210514to20210514,a:all&start=21\n",
      "크롤링 준비\n"
     ]
    },
    {
     "name": "stderr",
     "output_type": "stream",
     "text": [
      "\n",
      "\n",
      "preprocessing day:  45%|████████████████████████████▍                                  | 14/31 [01:38<02:01,  7.16s/it]\u001b[A\u001b[A"
     ]
    },
    {
     "name": "stdout",
     "output_type": "stream",
     "text": [
      "다음날짜로 선택시작\n",
      "다음 날짜 선택 후 크롤링 준비\n",
      "https://search.naver.com/search.naver?where=news&query=%EC%BD%94%EC%8A%A4%ED%94%BC%20%EA%B2%BD%EC%A0%9C&sm=tab_opt&sort=0&photo=0&field=0&pd=3&ds=2021.05.15&de=2021.05.15&docid=&related=0&mynews=0&office_type=0&office_section_code=0&news_office_checked=&nso=so%3Ar%2Cp%3Afrom20210515to20210515&is_sug_officeid=0\n",
      "https://search.naver.com/search.naver?where=news&query=%EC%BD%94%EC%8A%A4%ED%94%BC%20%EA%B2%BD%EC%A0%9C&sm=tab_opt&sort=0&photo=0&field=0&pd=3&ds=2021.05.15&de=2021.05.15&docid=&related=0&mynews=0&office_type=0&office_section_code=0&news_office_checked=&nso=so%3Ar%2Cp%3Afrom20210515to20210515&is_sug_officeid=0\n",
      "크롤링 준비\n"
     ]
    },
    {
     "name": "stderr",
     "output_type": "stream",
     "text": [
      "\n",
      "\n",
      "preprocessing day:  48%|██████████████████████████████▍                                | 15/31 [01:45<01:51,  6.98s/it]\u001b[A\u001b[A"
     ]
    },
    {
     "name": "stdout",
     "output_type": "stream",
     "text": [
      "다음날짜로 선택시작\n",
      "다음 날짜 선택 후 크롤링 준비\n",
      "https://search.naver.com/search.naver?where=news&query=%EC%BD%94%EC%8A%A4%ED%94%BC%20%EA%B2%BD%EC%A0%9C&sm=tab_opt&sort=0&photo=0&field=0&pd=3&ds=2021.05.16&de=2021.05.16&docid=&related=0&mynews=0&office_type=0&office_section_code=0&news_office_checked=&nso=so%3Ar%2Cp%3Afrom20210516to20210516&is_sug_officeid=0\n",
      "https://search.naver.com/search.naver?where=news&sm=tab_pge&query=%EC%BD%94%EC%8A%A4%ED%94%BC%20%EA%B2%BD%EC%A0%9C&sort=0&photo=0&field=0&pd=3&ds=2021.05.16&de=2021.05.16&cluster_rank=18&mynews=0&office_type=0&office_section_code=0&news_office_checked=&nso=so:r,p:from20210516to20210516,a:all&start=11\n",
      "https://search.naver.com/search.naver?where=news&sm=tab_pge&query=%EC%BD%94%EC%8A%A4%ED%94%BC%20%EA%B2%BD%EC%A0%9C&sort=0&photo=0&field=0&pd=3&ds=2021.05.16&de=2021.05.16&cluster_rank=29&mynews=0&office_type=0&office_section_code=0&news_office_checked=&nso=so:r,p:from20210516to20210516,a:all&start=21\n",
      "크롤링 준비\n"
     ]
    },
    {
     "name": "stderr",
     "output_type": "stream",
     "text": [
      "\n",
      "\n",
      "preprocessing day:  52%|████████████████████████████████▌                              | 16/31 [01:52<01:46,  7.12s/it]\u001b[A\u001b[A"
     ]
    },
    {
     "name": "stdout",
     "output_type": "stream",
     "text": [
      "다음날짜로 선택시작\n",
      "다음 날짜 선택 후 크롤링 준비\n",
      "https://search.naver.com/search.naver?where=news&query=%EC%BD%94%EC%8A%A4%ED%94%BC%20%EA%B2%BD%EC%A0%9C&sm=tab_opt&sort=0&photo=0&field=0&pd=3&ds=2021.05.17&de=2021.05.17&docid=&related=0&mynews=0&office_type=0&office_section_code=0&news_office_checked=&nso=so%3Ar%2Cp%3Afrom20210517to20210517&is_sug_officeid=0\n",
      "https://search.naver.com/search.naver?where=news&sm=tab_pge&query=%EC%BD%94%EC%8A%A4%ED%94%BC%20%EA%B2%BD%EC%A0%9C&sort=0&photo=0&field=0&pd=3&ds=2021.05.17&de=2021.05.17&cluster_rank=19&mynews=0&office_type=0&office_section_code=0&news_office_checked=&nso=so:r,p:from20210517to20210517,a:all&start=11\n",
      "https://search.naver.com/search.naver?where=news&sm=tab_pge&query=%EC%BD%94%EC%8A%A4%ED%94%BC%20%EA%B2%BD%EC%A0%9C&sort=0&photo=0&field=0&pd=3&ds=2021.05.17&de=2021.05.17&cluster_rank=34&mynews=0&office_type=0&office_section_code=0&news_office_checked=&nso=so:r,p:from20210517to20210517,a:all&start=21\n",
      "크롤링 준비\n"
     ]
    },
    {
     "name": "stderr",
     "output_type": "stream",
     "text": [
      "\n",
      "\n",
      "preprocessing day:  55%|██████████████████████████████████▌                            | 17/31 [01:59<01:39,  7.10s/it]\u001b[A\u001b[A"
     ]
    },
    {
     "name": "stdout",
     "output_type": "stream",
     "text": [
      "다음날짜로 선택시작\n",
      "다음 날짜 선택 후 크롤링 준비\n",
      "https://search.naver.com/search.naver?where=news&query=%EC%BD%94%EC%8A%A4%ED%94%BC%20%EA%B2%BD%EC%A0%9C&sm=tab_opt&sort=0&photo=0&field=0&pd=3&ds=2021.05.18&de=2021.05.18&docid=&related=0&mynews=0&office_type=0&office_section_code=0&news_office_checked=&nso=so%3Ar%2Cp%3Afrom20210518to20210518&is_sug_officeid=0\n",
      "https://search.naver.com/search.naver?where=news&sm=tab_pge&query=%EC%BD%94%EC%8A%A4%ED%94%BC%20%EA%B2%BD%EC%A0%9C&sort=0&photo=0&field=0&pd=3&ds=2021.05.18&de=2021.05.18&cluster_rank=11&mynews=0&office_type=0&office_section_code=0&news_office_checked=&nso=so:r,p:from20210518to20210518,a:all&start=11\n",
      "https://search.naver.com/search.naver?where=news&sm=tab_pge&query=%EC%BD%94%EC%8A%A4%ED%94%BC%20%EA%B2%BD%EC%A0%9C&sort=0&photo=0&field=0&pd=3&ds=2021.05.18&de=2021.05.18&cluster_rank=28&mynews=0&office_type=0&office_section_code=0&news_office_checked=&nso=so:r,p:from20210518to20210518,a:all&start=21\n",
      "크롤링 준비\n"
     ]
    },
    {
     "name": "stderr",
     "output_type": "stream",
     "text": [
      "\n",
      "\n",
      "preprocessing day:  58%|████████████████████████████████████▌                          | 18/31 [02:06<01:31,  7.08s/it]\u001b[A\u001b[A"
     ]
    },
    {
     "name": "stdout",
     "output_type": "stream",
     "text": [
      "다음날짜로 선택시작\n",
      "다음 날짜 선택 후 크롤링 준비\n",
      "https://search.naver.com/search.naver?where=news&query=%EC%BD%94%EC%8A%A4%ED%94%BC%20%EA%B2%BD%EC%A0%9C&sm=tab_opt&sort=0&photo=0&field=0&pd=3&ds=2021.05.19&de=2021.05.19&docid=&related=0&mynews=0&office_type=0&office_section_code=0&news_office_checked=&nso=so%3Ar%2Cp%3Afrom20210519to20210519&is_sug_officeid=0\n",
      "https://search.naver.com/search.naver?where=news&sm=tab_pge&query=%EC%BD%94%EC%8A%A4%ED%94%BC%20%EA%B2%BD%EC%A0%9C&sort=0&photo=0&field=0&pd=3&ds=2021.05.19&de=2021.05.19&cluster_rank=12&mynews=0&office_type=0&office_section_code=0&news_office_checked=&nso=so:r,p:from20210519to20210519,a:all&start=11\n",
      "https://search.naver.com/search.naver?where=news&sm=tab_pge&query=%EC%BD%94%EC%8A%A4%ED%94%BC%20%EA%B2%BD%EC%A0%9C&sort=0&photo=0&field=0&pd=3&ds=2021.05.19&de=2021.05.19&cluster_rank=12&mynews=0&office_type=0&office_section_code=0&news_office_checked=&nso=so:r,p:from20210519to20210519,a:all&start=11\n",
      "크롤링 준비\n"
     ]
    },
    {
     "name": "stderr",
     "output_type": "stream",
     "text": [
      "\n",
      "\n",
      "preprocessing day:  61%|██████████████████████████████████████▌                        | 19/31 [02:13<01:23,  6.94s/it]\u001b[A\u001b[A"
     ]
    },
    {
     "name": "stdout",
     "output_type": "stream",
     "text": [
      "다음날짜로 선택시작\n",
      "다음 날짜 선택 후 크롤링 준비\n",
      "https://search.naver.com/search.naver?where=news&query=%EC%BD%94%EC%8A%A4%ED%94%BC%20%EA%B2%BD%EC%A0%9C&sm=tab_opt&sort=0&photo=0&field=0&pd=3&ds=2021.05.20&de=2021.05.20&docid=&related=0&mynews=0&office_type=0&office_section_code=0&news_office_checked=&nso=so%3Ar%2Cp%3Afrom20210520to20210520&is_sug_officeid=0\n",
      "https://search.naver.com/search.naver?where=news&sm=tab_pge&query=%EC%BD%94%EC%8A%A4%ED%94%BC%20%EA%B2%BD%EC%A0%9C&sort=0&photo=0&field=0&pd=3&ds=2021.05.20&de=2021.05.20&cluster_rank=24&mynews=0&office_type=0&office_section_code=0&news_office_checked=&nso=so:r,p:from20210520to20210520,a:all&start=11\n",
      "https://search.naver.com/search.naver?where=news&sm=tab_pge&query=%EC%BD%94%EC%8A%A4%ED%94%BC%20%EA%B2%BD%EC%A0%9C&sort=0&photo=0&field=0&pd=3&ds=2021.05.20&de=2021.05.20&cluster_rank=34&mynews=0&office_type=0&office_section_code=0&news_office_checked=&nso=so:r,p:from20210520to20210520,a:all&start=21\n",
      "크롤링 준비\n"
     ]
    },
    {
     "name": "stderr",
     "output_type": "stream",
     "text": [
      "\n",
      "\n",
      "preprocessing day:  65%|████████████████████████████████████████▋                      | 20/31 [02:20<01:16,  6.94s/it]\u001b[A\u001b[A"
     ]
    },
    {
     "name": "stdout",
     "output_type": "stream",
     "text": [
      "다음날짜로 선택시작\n",
      "다음 날짜 선택 후 크롤링 준비\n",
      "https://search.naver.com/search.naver?where=news&query=%EC%BD%94%EC%8A%A4%ED%94%BC%20%EA%B2%BD%EC%A0%9C&sm=tab_opt&sort=0&photo=0&field=0&pd=3&ds=2021.05.21&de=2021.05.21&docid=&related=0&mynews=0&office_type=0&office_section_code=0&news_office_checked=&nso=so%3Ar%2Cp%3Afrom20210521to20210521&is_sug_officeid=0\n",
      "https://search.naver.com/search.naver?where=news&sm=tab_pge&query=%EC%BD%94%EC%8A%A4%ED%94%BC%20%EA%B2%BD%EC%A0%9C&sort=0&photo=0&field=0&pd=3&ds=2021.05.21&de=2021.05.21&cluster_rank=10&mynews=0&office_type=0&office_section_code=0&news_office_checked=&nso=so:r,p:from20210521to20210521,a:all&start=11\n",
      "https://search.naver.com/search.naver?where=news&sm=tab_pge&query=%EC%BD%94%EC%8A%A4%ED%94%BC%20%EA%B2%BD%EC%A0%9C&sort=0&photo=0&field=0&pd=3&ds=2021.05.21&de=2021.05.21&cluster_rank=20&mynews=0&office_type=0&office_section_code=0&news_office_checked=&nso=so:r,p:from20210521to20210521,a:all&start=21\n",
      "크롤링 준비\n"
     ]
    },
    {
     "name": "stderr",
     "output_type": "stream",
     "text": [
      "\n",
      "\n",
      "preprocessing day:  68%|██████████████████████████████████████████▋                    | 21/31 [02:27<01:09,  6.95s/it]\u001b[A\u001b[A"
     ]
    },
    {
     "name": "stdout",
     "output_type": "stream",
     "text": [
      "다음날짜로 선택시작\n",
      "다음 날짜 선택 후 크롤링 준비\n",
      "https://search.naver.com/search.naver?where=news&query=%EC%BD%94%EC%8A%A4%ED%94%BC%20%EA%B2%BD%EC%A0%9C&sm=tab_opt&sort=0&photo=0&field=0&pd=3&ds=2021.05.22&de=2021.05.22&docid=&related=0&mynews=0&office_type=0&office_section_code=0&news_office_checked=&nso=so%3Ar%2Cp%3Afrom20210522to20210522&is_sug_officeid=0\n",
      "https://search.naver.com/search.naver?where=news&sm=tab_pge&query=%EC%BD%94%EC%8A%A4%ED%94%BC%20%EA%B2%BD%EC%A0%9C&sort=0&photo=0&field=0&pd=3&ds=2021.05.22&de=2021.05.22&cluster_rank=10&mynews=0&office_type=0&office_section_code=0&news_office_checked=&nso=so:r,p:from20210522to20210522,a:all&start=11\n",
      "https://search.naver.com/search.naver?where=news&sm=tab_pge&query=%EC%BD%94%EC%8A%A4%ED%94%BC%20%EA%B2%BD%EC%A0%9C&sort=0&photo=0&field=0&pd=3&ds=2021.05.22&de=2021.05.22&cluster_rank=10&mynews=0&office_type=0&office_section_code=0&news_office_checked=&nso=so:r,p:from20210522to20210522,a:all&start=11\n",
      "크롤링 준비\n"
     ]
    },
    {
     "name": "stderr",
     "output_type": "stream",
     "text": [
      "\n",
      "\n",
      "preprocessing day:  71%|████████████████████████████████████████████▋                  | 22/31 [02:34<01:01,  6.88s/it]\u001b[A\u001b[A"
     ]
    },
    {
     "name": "stdout",
     "output_type": "stream",
     "text": [
      "다음날짜로 선택시작\n",
      "다음 날짜 선택 후 크롤링 준비\n",
      "https://search.naver.com/search.naver?where=news&query=%EC%BD%94%EC%8A%A4%ED%94%BC%20%EA%B2%BD%EC%A0%9C&sm=tab_opt&sort=0&photo=0&field=0&pd=3&ds=2021.05.23&de=2021.05.23&docid=&related=0&mynews=0&office_type=0&office_section_code=0&news_office_checked=&nso=so%3Ar%2Cp%3Afrom20210523to20210523&is_sug_officeid=0\n",
      "https://search.naver.com/search.naver?where=news&sm=tab_pge&query=%EC%BD%94%EC%8A%A4%ED%94%BC%20%EA%B2%BD%EC%A0%9C&sort=0&photo=0&field=0&pd=3&ds=2021.05.23&de=2021.05.23&cluster_rank=21&mynews=0&office_type=0&office_section_code=0&news_office_checked=&nso=so:r,p:from20210523to20210523,a:all&start=11\n",
      "https://search.naver.com/search.naver?where=news&sm=tab_pge&query=%EC%BD%94%EC%8A%A4%ED%94%BC%20%EA%B2%BD%EC%A0%9C&sort=0&photo=0&field=0&pd=3&ds=2021.05.23&de=2021.05.23&cluster_rank=35&mynews=0&office_type=0&office_section_code=0&news_office_checked=&nso=so:r,p:from20210523to20210523,a:all&start=21\n",
      "크롤링 준비\n"
     ]
    },
    {
     "name": "stderr",
     "output_type": "stream",
     "text": [
      "\n",
      "\n",
      "preprocessing day:  74%|██████████████████████████████████████████████▋                | 23/31 [02:41<00:55,  6.93s/it]\u001b[A\u001b[A"
     ]
    },
    {
     "name": "stdout",
     "output_type": "stream",
     "text": [
      "다음날짜로 선택시작\n",
      "다음 날짜 선택 후 크롤링 준비\n",
      "https://search.naver.com/search.naver?where=news&query=%EC%BD%94%EC%8A%A4%ED%94%BC%20%EA%B2%BD%EC%A0%9C&sm=tab_opt&sort=0&photo=0&field=0&pd=3&ds=2021.05.24&de=2021.05.24&docid=&related=0&mynews=0&office_type=0&office_section_code=0&news_office_checked=&nso=so%3Ar%2Cp%3Afrom20210524to20210524&is_sug_officeid=0\n",
      "https://search.naver.com/search.naver?where=news&sm=tab_pge&query=%EC%BD%94%EC%8A%A4%ED%94%BC%20%EA%B2%BD%EC%A0%9C&sort=0&photo=0&field=0&pd=3&ds=2021.05.24&de=2021.05.24&cluster_rank=14&mynews=0&office_type=0&office_section_code=0&news_office_checked=&nso=so:r,p:from20210524to20210524,a:all&start=11\n",
      "https://search.naver.com/search.naver?where=news&sm=tab_pge&query=%EC%BD%94%EC%8A%A4%ED%94%BC%20%EA%B2%BD%EC%A0%9C&sort=0&photo=0&field=0&pd=3&ds=2021.05.24&de=2021.05.24&cluster_rank=25&mynews=0&office_type=0&office_section_code=0&news_office_checked=&nso=so:r,p:from20210524to20210524,a:all&start=21\n",
      "크롤링 준비\n"
     ]
    },
    {
     "name": "stderr",
     "output_type": "stream",
     "text": [
      "\n",
      "\n",
      "preprocessing day:  77%|████████████████████████████████████████████████▊              | 24/31 [02:48<00:48,  6.96s/it]\u001b[A\u001b[A"
     ]
    },
    {
     "name": "stdout",
     "output_type": "stream",
     "text": [
      "다음날짜로 선택시작\n",
      "다음 날짜 선택 후 크롤링 준비\n",
      "https://search.naver.com/search.naver?where=news&query=%EC%BD%94%EC%8A%A4%ED%94%BC%20%EA%B2%BD%EC%A0%9C&sm=tab_opt&sort=0&photo=0&field=0&pd=3&ds=2021.05.25&de=2021.05.25&docid=&related=0&mynews=0&office_type=0&office_section_code=0&news_office_checked=&nso=so%3Ar%2Cp%3Afrom20210525to20210525&is_sug_officeid=0\n",
      "https://search.naver.com/search.naver?where=news&sm=tab_pge&query=%EC%BD%94%EC%8A%A4%ED%94%BC%20%EA%B2%BD%EC%A0%9C&sort=0&photo=0&field=0&pd=3&ds=2021.05.25&de=2021.05.25&cluster_rank=20&mynews=0&office_type=0&office_section_code=0&news_office_checked=&nso=so:r,p:from20210525to20210525,a:all&start=11\n",
      "https://search.naver.com/search.naver?where=news&sm=tab_pge&query=%EC%BD%94%EC%8A%A4%ED%94%BC%20%EA%B2%BD%EC%A0%9C&sort=0&photo=0&field=0&pd=3&ds=2021.05.25&de=2021.05.25&cluster_rank=30&mynews=0&office_type=0&office_section_code=0&news_office_checked=&nso=so:r,p:from20210525to20210525,a:all&start=21\n",
      "크롤링 준비\n"
     ]
    },
    {
     "name": "stderr",
     "output_type": "stream",
     "text": [
      "\n",
      "\n",
      "preprocessing day:  81%|██████████████████████████████████████████████████▊            | 25/31 [02:55<00:42,  7.05s/it]\u001b[A\u001b[A"
     ]
    },
    {
     "name": "stdout",
     "output_type": "stream",
     "text": [
      "다음날짜로 선택시작\n",
      "다음 날짜 선택 후 크롤링 준비\n",
      "https://search.naver.com/search.naver?where=news&query=%EC%BD%94%EC%8A%A4%ED%94%BC%20%EA%B2%BD%EC%A0%9C&sm=tab_opt&sort=0&photo=0&field=0&pd=3&ds=2021.05.26&de=2021.05.26&docid=&related=0&mynews=0&office_type=0&office_section_code=0&news_office_checked=&nso=so%3Ar%2Cp%3Afrom20210526to20210526&is_sug_officeid=0\n",
      "https://search.naver.com/search.naver?where=news&sm=tab_pge&query=%EC%BD%94%EC%8A%A4%ED%94%BC%20%EA%B2%BD%EC%A0%9C&sort=0&photo=0&field=0&pd=3&ds=2021.05.26&de=2021.05.26&cluster_rank=12&mynews=0&office_type=0&office_section_code=0&news_office_checked=&nso=so:r,p:from20210526to20210526,a:all&start=11\n",
      "https://search.naver.com/search.naver?where=news&sm=tab_pge&query=%EC%BD%94%EC%8A%A4%ED%94%BC%20%EA%B2%BD%EC%A0%9C&sort=0&photo=0&field=0&pd=3&ds=2021.05.26&de=2021.05.26&cluster_rank=22&mynews=0&office_type=0&office_section_code=0&news_office_checked=&nso=so:r,p:from20210526to20210526,a:all&start=21\n",
      "크롤링 준비\n"
     ]
    },
    {
     "name": "stderr",
     "output_type": "stream",
     "text": [
      "\n",
      "\n",
      "preprocessing day:  84%|████████████████████████████████████████████████████▊          | 26/31 [03:02<00:35,  7.06s/it]\u001b[A\u001b[A"
     ]
    },
    {
     "name": "stdout",
     "output_type": "stream",
     "text": [
      "다음날짜로 선택시작\n",
      "다음 날짜 선택 후 크롤링 준비\n",
      "https://search.naver.com/search.naver?where=news&query=%EC%BD%94%EC%8A%A4%ED%94%BC%20%EA%B2%BD%EC%A0%9C&sm=tab_opt&sort=0&photo=0&field=0&pd=3&ds=2021.05.27&de=2021.05.27&docid=&related=0&mynews=0&office_type=0&office_section_code=0&news_office_checked=&nso=so%3Ar%2Cp%3Afrom20210527to20210527&is_sug_officeid=0\n",
      "https://search.naver.com/search.naver?where=news&sm=tab_pge&query=%EC%BD%94%EC%8A%A4%ED%94%BC%20%EA%B2%BD%EC%A0%9C&sort=0&photo=0&field=0&pd=3&ds=2021.05.27&de=2021.05.27&cluster_rank=13&mynews=0&office_type=0&office_section_code=0&news_office_checked=&nso=so:r,p:from20210527to20210527,a:all&start=11\n",
      "https://search.naver.com/search.naver?where=news&sm=tab_pge&query=%EC%BD%94%EC%8A%A4%ED%94%BC%20%EA%B2%BD%EC%A0%9C&sort=0&photo=0&field=0&pd=3&ds=2021.05.27&de=2021.05.27&cluster_rank=23&mynews=0&office_type=0&office_section_code=0&news_office_checked=&nso=so:r,p:from20210527to20210527,a:all&start=21\n",
      "크롤링 준비\n"
     ]
    },
    {
     "name": "stderr",
     "output_type": "stream",
     "text": [
      "\n",
      "\n",
      "preprocessing day:  87%|██████████████████████████████████████████████████████▊        | 27/31 [03:09<00:28,  7.04s/it]\u001b[A\u001b[A"
     ]
    },
    {
     "name": "stdout",
     "output_type": "stream",
     "text": [
      "다음날짜로 선택시작\n",
      "다음 날짜 선택 후 크롤링 준비\n",
      "https://search.naver.com/search.naver?where=news&query=%EC%BD%94%EC%8A%A4%ED%94%BC%20%EA%B2%BD%EC%A0%9C&sm=tab_opt&sort=0&photo=0&field=0&pd=3&ds=2021.05.28&de=2021.05.28&docid=&related=0&mynews=0&office_type=0&office_section_code=0&news_office_checked=&nso=so%3Ar%2Cp%3Afrom20210528to20210528&is_sug_officeid=0\n",
      "https://search.naver.com/search.naver?where=news&sm=tab_pge&query=%EC%BD%94%EC%8A%A4%ED%94%BC%20%EA%B2%BD%EC%A0%9C&sort=0&photo=0&field=0&pd=3&ds=2021.05.28&de=2021.05.28&cluster_rank=10&mynews=0&office_type=0&office_section_code=0&news_office_checked=&nso=so:r,p:from20210528to20210528,a:all&start=11\n",
      "https://search.naver.com/search.naver?where=news&sm=tab_pge&query=%EC%BD%94%EC%8A%A4%ED%94%BC%20%EA%B2%BD%EC%A0%9C&sort=0&photo=0&field=0&pd=3&ds=2021.05.28&de=2021.05.28&cluster_rank=21&mynews=0&office_type=0&office_section_code=0&news_office_checked=&nso=so:r,p:from20210528to20210528,a:all&start=21\n",
      "크롤링 준비\n"
     ]
    },
    {
     "name": "stderr",
     "output_type": "stream",
     "text": [
      "\n",
      "\n",
      "preprocessing day:  90%|████████████████████████████████████████████████████████▉      | 28/31 [03:16<00:21,  7.07s/it]\u001b[A\u001b[A"
     ]
    },
    {
     "name": "stdout",
     "output_type": "stream",
     "text": [
      "다음날짜로 선택시작\n",
      "다음 날짜 선택 후 크롤링 준비\n",
      "https://search.naver.com/search.naver?where=news&query=%EC%BD%94%EC%8A%A4%ED%94%BC%20%EA%B2%BD%EC%A0%9C&sm=tab_opt&sort=0&photo=0&field=0&pd=3&ds=2021.05.29&de=2021.05.29&docid=&related=0&mynews=0&office_type=0&office_section_code=0&news_office_checked=&nso=so%3Ar%2Cp%3Afrom20210529to20210529&is_sug_officeid=0\n",
      "https://search.naver.com/search.naver?where=news&query=%EC%BD%94%EC%8A%A4%ED%94%BC%20%EA%B2%BD%EC%A0%9C&sm=tab_opt&sort=0&photo=0&field=0&pd=3&ds=2021.05.29&de=2021.05.29&docid=&related=0&mynews=0&office_type=0&office_section_code=0&news_office_checked=&nso=so%3Ar%2Cp%3Afrom20210529to20210529&is_sug_officeid=0\n",
      "크롤링 준비\n"
     ]
    },
    {
     "name": "stderr",
     "output_type": "stream",
     "text": [
      "\n",
      "\n",
      "preprocessing day:  94%|██████████████████████████████████████████████████████████▉    | 29/31 [03:22<00:13,  6.82s/it]\u001b[A\u001b[A"
     ]
    },
    {
     "name": "stdout",
     "output_type": "stream",
     "text": [
      "다음날짜로 선택시작\n",
      "다음 날짜 선택 후 크롤링 준비\n",
      "https://search.naver.com/search.naver?where=news&query=%EC%BD%94%EC%8A%A4%ED%94%BC%20%EA%B2%BD%EC%A0%9C&sm=tab_opt&sort=0&photo=0&field=0&pd=3&ds=2021.05.30&de=2021.05.30&docid=&related=0&mynews=0&office_type=0&office_section_code=0&news_office_checked=&nso=so%3Ar%2Cp%3Afrom20210530to20210530&is_sug_officeid=0\n",
      "https://search.naver.com/search.naver?where=news&sm=tab_pge&query=%EC%BD%94%EC%8A%A4%ED%94%BC%20%EA%B2%BD%EC%A0%9C&sort=0&photo=0&field=0&pd=3&ds=2021.05.30&de=2021.05.30&cluster_rank=13&mynews=0&office_type=0&office_section_code=0&news_office_checked=&nso=so:r,p:from20210530to20210530,a:all&start=11\n",
      "https://search.naver.com/search.naver?where=news&sm=tab_pge&query=%EC%BD%94%EC%8A%A4%ED%94%BC%20%EA%B2%BD%EC%A0%9C&sort=0&photo=0&field=0&pd=3&ds=2021.05.30&de=2021.05.30&cluster_rank=23&mynews=0&office_type=0&office_section_code=0&news_office_checked=&nso=so:r,p:from20210530to20210530,a:all&start=21\n",
      "크롤링 준비\n"
     ]
    },
    {
     "name": "stderr",
     "output_type": "stream",
     "text": [
      "\n",
      "\n",
      "preprocessing day:  97%|████████████████████████████████████████████████████████████▉  | 30/31 [03:29<00:06,  6.91s/it]\u001b[A\u001b[A"
     ]
    },
    {
     "name": "stdout",
     "output_type": "stream",
     "text": [
      "다음날짜로 선택시작\n",
      "다음 날짜 선택 후 크롤링 준비\n",
      "https://search.naver.com/search.naver?where=news&query=%EC%BD%94%EC%8A%A4%ED%94%BC%20%EA%B2%BD%EC%A0%9C&sm=tab_opt&sort=0&photo=0&field=0&pd=3&ds=2021.05.31&de=2021.05.31&docid=&related=0&mynews=0&office_type=0&office_section_code=0&news_office_checked=&nso=so%3Ar%2Cp%3Afrom20210531to20210531&is_sug_officeid=0\n",
      "https://search.naver.com/search.naver?where=news&sm=tab_pge&query=%EC%BD%94%EC%8A%A4%ED%94%BC%20%EA%B2%BD%EC%A0%9C&sort=0&photo=0&field=0&pd=3&ds=2021.05.31&de=2021.05.31&cluster_rank=17&mynews=0&office_type=0&office_section_code=0&news_office_checked=&nso=so:r,p:from20210531to20210531,a:all&start=11\n",
      "https://search.naver.com/search.naver?where=news&sm=tab_pge&query=%EC%BD%94%EC%8A%A4%ED%94%BC%20%EA%B2%BD%EC%A0%9C&sort=0&photo=0&field=0&pd=3&ds=2021.05.31&de=2021.05.31&cluster_rank=27&mynews=0&office_type=0&office_section_code=0&news_office_checked=&nso=so:r,p:from20210531to20210531,a:all&start=21\n",
      "크롤링 준비\n"
     ]
    },
    {
     "name": "stderr",
     "output_type": "stream",
     "text": [
      "\n",
      "\n",
      "preprocessing day: 100%|███████████████████████████████████████████████████████████████| 31/31 [03:37<00:00,  7.01s/it]\u001b[A\u001b[A\n",
      "\n",
      "preprocessing month:  42%|█████████████████████████▍                                   | 5/12 [17:53<25:05, 215.12s/it]\u001b[A"
     ]
    },
    {
     "name": "stdout",
     "output_type": "stream",
     "text": [
      "다음날짜로 선택시작\n"
     ]
    },
    {
     "name": "stderr",
     "output_type": "stream",
     "text": [
      "\n",
      "\n",
      "preprocessing day:   0%|                                                                        | 0/31 [00:00<?, ?it/s]\u001b[A\u001b[A"
     ]
    },
    {
     "name": "stdout",
     "output_type": "stream",
     "text": [
      "다음 날짜 선택 후 크롤링 준비\n",
      "https://search.naver.com/search.naver?where=news&query=%EC%BD%94%EC%8A%A4%ED%94%BC%20%EA%B2%BD%EC%A0%9C&sm=tab_opt&sort=0&photo=0&field=0&pd=3&ds=2021.06.01&de=2021.06.01&docid=&related=0&mynews=0&office_type=0&office_section_code=0&news_office_checked=&nso=so%3Ar%2Cp%3Afrom20210601to20210601&is_sug_officeid=0\n",
      "https://search.naver.com/search.naver?where=news&sm=tab_pge&query=%EC%BD%94%EC%8A%A4%ED%94%BC%20%EA%B2%BD%EC%A0%9C&sort=0&photo=0&field=0&pd=3&ds=2021.06.01&de=2021.06.01&cluster_rank=13&mynews=0&office_type=0&office_section_code=0&news_office_checked=&nso=so:r,p:from20210601to20210601,a:all&start=11\n",
      "https://search.naver.com/search.naver?where=news&sm=tab_pge&query=%EC%BD%94%EC%8A%A4%ED%94%BC%20%EA%B2%BD%EC%A0%9C&sort=0&photo=0&field=0&pd=3&ds=2021.06.01&de=2021.06.01&cluster_rank=23&mynews=0&office_type=0&office_section_code=0&news_office_checked=&nso=so:r,p:from20210601to20210601,a:all&start=21\n",
      "크롤링 준비\n"
     ]
    },
    {
     "name": "stderr",
     "output_type": "stream",
     "text": [
      "\n",
      "\n",
      "preprocessing day:   3%|██                                                              | 1/31 [00:07<03:32,  7.07s/it]\u001b[A\u001b[A"
     ]
    },
    {
     "name": "stdout",
     "output_type": "stream",
     "text": [
      "다음날짜로 선택시작\n",
      "다음 날짜 선택 후 크롤링 준비\n",
      "https://search.naver.com/search.naver?where=news&query=%EC%BD%94%EC%8A%A4%ED%94%BC%20%EA%B2%BD%EC%A0%9C&sm=tab_opt&sort=0&photo=0&field=0&pd=3&ds=2021.06.02&de=2021.06.02&docid=&related=0&mynews=0&office_type=0&office_section_code=0&news_office_checked=&nso=so%3Ar%2Cp%3Afrom20210602to20210602&is_sug_officeid=0\n",
      "https://search.naver.com/search.naver?where=news&sm=tab_pge&query=%EC%BD%94%EC%8A%A4%ED%94%BC%20%EA%B2%BD%EC%A0%9C&sort=0&photo=0&field=0&pd=3&ds=2021.06.02&de=2021.06.02&cluster_rank=10&mynews=0&office_type=0&office_section_code=0&news_office_checked=&nso=so:r,p:from20210602to20210602,a:all&start=11\n",
      "https://search.naver.com/search.naver?where=news&sm=tab_pge&query=%EC%BD%94%EC%8A%A4%ED%94%BC%20%EA%B2%BD%EC%A0%9C&sort=0&photo=0&field=0&pd=3&ds=2021.06.02&de=2021.06.02&cluster_rank=20&mynews=0&office_type=0&office_section_code=0&news_office_checked=&nso=so:r,p:from20210602to20210602,a:all&start=21\n",
      "크롤링 준비\n"
     ]
    },
    {
     "name": "stderr",
     "output_type": "stream",
     "text": [
      "\n",
      "\n",
      "preprocessing day:   6%|████▏                                                           | 2/31 [00:14<03:23,  7.01s/it]\u001b[A\u001b[A"
     ]
    },
    {
     "name": "stdout",
     "output_type": "stream",
     "text": [
      "다음날짜로 선택시작\n",
      "다음 날짜 선택 후 크롤링 준비\n",
      "https://search.naver.com/search.naver?where=news&query=%EC%BD%94%EC%8A%A4%ED%94%BC%20%EA%B2%BD%EC%A0%9C&sm=tab_opt&sort=0&photo=0&field=0&pd=3&ds=2021.06.03&de=2021.06.03&docid=&related=0&mynews=0&office_type=0&office_section_code=0&news_office_checked=&nso=so%3Ar%2Cp%3Afrom20210603to20210603&is_sug_officeid=0\n",
      "https://search.naver.com/search.naver?where=news&sm=tab_pge&query=%EC%BD%94%EC%8A%A4%ED%94%BC%20%EA%B2%BD%EC%A0%9C&sort=0&photo=0&field=0&pd=3&ds=2021.06.03&de=2021.06.03&cluster_rank=12&mynews=0&office_type=0&office_section_code=0&news_office_checked=&nso=so:r,p:from20210603to20210603,a:all&start=11\n",
      "https://search.naver.com/search.naver?where=news&sm=tab_pge&query=%EC%BD%94%EC%8A%A4%ED%94%BC%20%EA%B2%BD%EC%A0%9C&sort=0&photo=0&field=0&pd=3&ds=2021.06.03&de=2021.06.03&cluster_rank=22&mynews=0&office_type=0&office_section_code=0&news_office_checked=&nso=so:r,p:from20210603to20210603,a:all&start=21\n",
      "크롤링 준비\n"
     ]
    },
    {
     "name": "stderr",
     "output_type": "stream",
     "text": [
      "\n",
      "\n",
      "preprocessing day:  10%|██████▏                                                         | 3/31 [00:21<03:19,  7.11s/it]\u001b[A\u001b[A"
     ]
    },
    {
     "name": "stdout",
     "output_type": "stream",
     "text": [
      "다음날짜로 선택시작\n",
      "다음 날짜 선택 후 크롤링 준비\n",
      "https://search.naver.com/search.naver?where=news&query=%EC%BD%94%EC%8A%A4%ED%94%BC%20%EA%B2%BD%EC%A0%9C&sm=tab_opt&sort=0&photo=0&field=0&pd=3&ds=2021.06.04&de=2021.06.04&docid=&related=0&mynews=0&office_type=0&office_section_code=0&news_office_checked=&nso=so%3Ar%2Cp%3Afrom20210604to20210604&is_sug_officeid=0\n",
      "https://search.naver.com/search.naver?where=news&sm=tab_pge&query=%EC%BD%94%EC%8A%A4%ED%94%BC%20%EA%B2%BD%EC%A0%9C&sort=0&photo=0&field=0&pd=3&ds=2021.06.04&de=2021.06.04&cluster_rank=12&mynews=0&office_type=0&office_section_code=0&news_office_checked=&nso=so:r,p:from20210604to20210604,a:all&start=11\n",
      "https://search.naver.com/search.naver?where=news&sm=tab_pge&query=%EC%BD%94%EC%8A%A4%ED%94%BC%20%EA%B2%BD%EC%A0%9C&sort=0&photo=0&field=0&pd=3&ds=2021.06.04&de=2021.06.04&cluster_rank=22&mynews=0&office_type=0&office_section_code=0&news_office_checked=&nso=so:r,p:from20210604to20210604,a:all&start=21\n",
      "크롤링 준비\n"
     ]
    },
    {
     "name": "stderr",
     "output_type": "stream",
     "text": [
      "\n",
      "\n",
      "preprocessing day:  13%|████████▎                                                       | 4/31 [00:28<03:12,  7.13s/it]\u001b[A\u001b[A"
     ]
    },
    {
     "name": "stdout",
     "output_type": "stream",
     "text": [
      "다음날짜로 선택시작\n",
      "다음 날짜 선택 후 크롤링 준비\n",
      "https://search.naver.com/search.naver?where=news&query=%EC%BD%94%EC%8A%A4%ED%94%BC%20%EA%B2%BD%EC%A0%9C&sm=tab_opt&sort=0&photo=0&field=0&pd=3&ds=2021.06.05&de=2021.06.05&docid=&related=0&mynews=0&office_type=0&office_section_code=0&news_office_checked=&nso=so%3Ar%2Cp%3Afrom20210605to20210605&is_sug_officeid=0\n",
      "https://search.naver.com/search.naver?where=news&sm=tab_pge&query=%EC%BD%94%EC%8A%A4%ED%94%BC%20%EA%B2%BD%EC%A0%9C&sort=0&photo=0&field=0&pd=3&ds=2021.06.05&de=2021.06.05&cluster_rank=11&mynews=0&office_type=0&office_section_code=0&news_office_checked=&nso=so:r,p:from20210605to20210605,a:all&start=11\n",
      "https://search.naver.com/search.naver?where=news&sm=tab_pge&query=%EC%BD%94%EC%8A%A4%ED%94%BC%20%EA%B2%BD%EC%A0%9C&sort=0&photo=0&field=0&pd=3&ds=2021.06.05&de=2021.06.05&cluster_rank=11&mynews=0&office_type=0&office_section_code=0&news_office_checked=&nso=so:r,p:from20210605to20210605,a:all&start=11\n",
      "크롤링 준비\n"
     ]
    },
    {
     "name": "stderr",
     "output_type": "stream",
     "text": [
      "\n",
      "\n",
      "preprocessing day:  16%|██████████▎                                                     | 5/31 [00:35<03:06,  7.19s/it]\u001b[A\u001b[A"
     ]
    },
    {
     "name": "stdout",
     "output_type": "stream",
     "text": [
      "다음날짜로 선택시작\n",
      "다음 날짜 선택 후 크롤링 준비\n",
      "https://search.naver.com/search.naver?where=news&query=%EC%BD%94%EC%8A%A4%ED%94%BC%20%EA%B2%BD%EC%A0%9C&sm=tab_opt&sort=0&photo=0&field=0&pd=3&ds=2021.06.06&de=2021.06.06&docid=&related=0&mynews=0&office_type=0&office_section_code=0&news_office_checked=&nso=so%3Ar%2Cp%3Afrom20210606to20210606&is_sug_officeid=0\n",
      "https://search.naver.com/search.naver?where=news&sm=tab_pge&query=%EC%BD%94%EC%8A%A4%ED%94%BC%20%EA%B2%BD%EC%A0%9C&sort=0&photo=0&field=0&pd=3&ds=2021.06.06&de=2021.06.06&cluster_rank=18&mynews=0&office_type=0&office_section_code=0&news_office_checked=&nso=so:r,p:from20210606to20210606,a:all&start=11\n",
      "https://search.naver.com/search.naver?where=news&sm=tab_pge&query=%EC%BD%94%EC%8A%A4%ED%94%BC%20%EA%B2%BD%EC%A0%9C&sort=0&photo=0&field=0&pd=3&ds=2021.06.06&de=2021.06.06&cluster_rank=30&mynews=0&office_type=0&office_section_code=0&news_office_checked=&nso=so:r,p:from20210606to20210606,a:all&start=21\n",
      "크롤링 준비\n"
     ]
    },
    {
     "name": "stderr",
     "output_type": "stream",
     "text": [
      "\n",
      "\n",
      "preprocessing day:  19%|████████████▍                                                   | 6/31 [00:42<02:58,  7.13s/it]\u001b[A\u001b[A"
     ]
    },
    {
     "name": "stdout",
     "output_type": "stream",
     "text": [
      "다음날짜로 선택시작\n",
      "다음 날짜 선택 후 크롤링 준비\n",
      "https://search.naver.com/search.naver?where=news&query=%EC%BD%94%EC%8A%A4%ED%94%BC%20%EA%B2%BD%EC%A0%9C&sm=tab_opt&sort=0&photo=0&field=0&pd=3&ds=2021.06.07&de=2021.06.07&docid=&related=0&mynews=0&office_type=0&office_section_code=0&news_office_checked=&nso=so%3Ar%2Cp%3Afrom20210607to20210607&is_sug_officeid=0\n",
      "https://search.naver.com/search.naver?where=news&sm=tab_pge&query=%EC%BD%94%EC%8A%A4%ED%94%BC%20%EA%B2%BD%EC%A0%9C&sort=0&photo=0&field=0&pd=3&ds=2021.06.07&de=2021.06.07&cluster_rank=14&mynews=0&office_type=0&office_section_code=0&news_office_checked=&nso=so:r,p:from20210607to20210607,a:all&start=11\n",
      "https://search.naver.com/search.naver?where=news&sm=tab_pge&query=%EC%BD%94%EC%8A%A4%ED%94%BC%20%EA%B2%BD%EC%A0%9C&sort=0&photo=0&field=0&pd=3&ds=2021.06.07&de=2021.06.07&cluster_rank=26&mynews=0&office_type=0&office_section_code=0&news_office_checked=&nso=so:r,p:from20210607to20210607,a:all&start=21\n",
      "크롤링 준비\n"
     ]
    },
    {
     "name": "stderr",
     "output_type": "stream",
     "text": [
      "\n",
      "\n",
      "preprocessing day:  23%|██████████████▍                                                 | 7/31 [00:49<02:50,  7.11s/it]\u001b[A\u001b[A"
     ]
    },
    {
     "name": "stdout",
     "output_type": "stream",
     "text": [
      "다음날짜로 선택시작\n",
      "다음 날짜 선택 후 크롤링 준비\n",
      "https://search.naver.com/search.naver?where=news&query=%EC%BD%94%EC%8A%A4%ED%94%BC%20%EA%B2%BD%EC%A0%9C&sm=tab_opt&sort=0&photo=0&field=0&pd=3&ds=2021.06.08&de=2021.06.08&docid=&related=0&mynews=0&office_type=0&office_section_code=0&news_office_checked=&nso=so%3Ar%2Cp%3Afrom20210608to20210608&is_sug_officeid=0\n",
      "https://search.naver.com/search.naver?where=news&sm=tab_pge&query=%EC%BD%94%EC%8A%A4%ED%94%BC%20%EA%B2%BD%EC%A0%9C&sort=0&photo=0&field=0&pd=3&ds=2021.06.08&de=2021.06.08&cluster_rank=13&mynews=0&office_type=0&office_section_code=0&news_office_checked=&nso=so:r,p:from20210608to20210608,a:all&start=11\n",
      "https://search.naver.com/search.naver?where=news&sm=tab_pge&query=%EC%BD%94%EC%8A%A4%ED%94%BC%20%EA%B2%BD%EC%A0%9C&sort=0&photo=0&field=0&pd=3&ds=2021.06.08&de=2021.06.08&cluster_rank=26&mynews=0&office_type=0&office_section_code=0&news_office_checked=&nso=so:r,p:from20210608to20210608,a:all&start=21\n",
      "크롤링 준비\n"
     ]
    },
    {
     "name": "stderr",
     "output_type": "stream",
     "text": [
      "\n",
      "\n",
      "preprocessing day:  26%|████████████████▌                                               | 8/31 [00:56<02:42,  7.08s/it]\u001b[A\u001b[A"
     ]
    },
    {
     "name": "stdout",
     "output_type": "stream",
     "text": [
      "다음날짜로 선택시작\n",
      "다음 날짜 선택 후 크롤링 준비\n",
      "https://search.naver.com/search.naver?where=news&query=%EC%BD%94%EC%8A%A4%ED%94%BC%20%EA%B2%BD%EC%A0%9C&sm=tab_opt&sort=0&photo=0&field=0&pd=3&ds=2021.06.09&de=2021.06.09&docid=&related=0&mynews=0&office_type=0&office_section_code=0&news_office_checked=&nso=so%3Ar%2Cp%3Afrom20210609to20210609&is_sug_officeid=0\n",
      "https://search.naver.com/search.naver?where=news&sm=tab_pge&query=%EC%BD%94%EC%8A%A4%ED%94%BC%20%EA%B2%BD%EC%A0%9C&sort=0&photo=0&field=0&pd=3&ds=2021.06.09&de=2021.06.09&cluster_rank=12&mynews=0&office_type=0&office_section_code=0&news_office_checked=&nso=so:r,p:from20210609to20210609,a:all&start=11\n",
      "https://search.naver.com/search.naver?where=news&sm=tab_pge&query=%EC%BD%94%EC%8A%A4%ED%94%BC%20%EA%B2%BD%EC%A0%9C&sort=0&photo=0&field=0&pd=3&ds=2021.06.09&de=2021.06.09&cluster_rank=28&mynews=0&office_type=0&office_section_code=0&news_office_checked=&nso=so:r,p:from20210609to20210609,a:all&start=21\n",
      "크롤링 준비\n"
     ]
    },
    {
     "name": "stderr",
     "output_type": "stream",
     "text": [
      "\n",
      "\n",
      "preprocessing day:  29%|██████████████████▌                                             | 9/31 [01:04<02:37,  7.14s/it]\u001b[A\u001b[A"
     ]
    },
    {
     "name": "stdout",
     "output_type": "stream",
     "text": [
      "다음날짜로 선택시작\n",
      "다음 날짜 선택 후 크롤링 준비\n",
      "https://search.naver.com/search.naver?where=news&query=%EC%BD%94%EC%8A%A4%ED%94%BC%20%EA%B2%BD%EC%A0%9C&sm=tab_opt&sort=0&photo=0&field=0&pd=3&ds=2021.06.10&de=2021.06.10&docid=&related=0&mynews=0&office_type=0&office_section_code=0&news_office_checked=&nso=so%3Ar%2Cp%3Afrom20210610to20210610&is_sug_officeid=0\n",
      "https://search.naver.com/search.naver?where=news&sm=tab_pge&query=%EC%BD%94%EC%8A%A4%ED%94%BC%20%EA%B2%BD%EC%A0%9C&sort=0&photo=0&field=0&pd=3&ds=2021.06.10&de=2021.06.10&cluster_rank=10&mynews=0&office_type=0&office_section_code=0&news_office_checked=&nso=so:r,p:from20210610to20210610,a:all&start=11\n",
      "https://search.naver.com/search.naver?where=news&sm=tab_pge&query=%EC%BD%94%EC%8A%A4%ED%94%BC%20%EA%B2%BD%EC%A0%9C&sort=0&photo=0&field=0&pd=3&ds=2021.06.10&de=2021.06.10&cluster_rank=22&mynews=0&office_type=0&office_section_code=0&news_office_checked=&nso=so:r,p:from20210610to20210610,a:all&start=21\n",
      "크롤링 준비\n"
     ]
    },
    {
     "name": "stderr",
     "output_type": "stream",
     "text": [
      "\n",
      "\n",
      "preprocessing day:  32%|████████████████████▎                                          | 10/31 [01:11<02:30,  7.17s/it]\u001b[A\u001b[A"
     ]
    },
    {
     "name": "stdout",
     "output_type": "stream",
     "text": [
      "다음날짜로 선택시작\n",
      "다음 날짜 선택 후 크롤링 준비\n",
      "https://search.naver.com/search.naver?where=news&query=%EC%BD%94%EC%8A%A4%ED%94%BC%20%EA%B2%BD%EC%A0%9C&sm=tab_opt&sort=0&photo=0&field=0&pd=3&ds=2021.06.11&de=2021.06.11&docid=&related=0&mynews=0&office_type=0&office_section_code=0&news_office_checked=&nso=so%3Ar%2Cp%3Afrom20210611to20210611&is_sug_officeid=0\n",
      "https://search.naver.com/search.naver?where=news&sm=tab_pge&query=%EC%BD%94%EC%8A%A4%ED%94%BC%20%EA%B2%BD%EC%A0%9C&sort=0&photo=0&field=0&pd=3&ds=2021.06.11&de=2021.06.11&cluster_rank=10&mynews=0&office_type=0&office_section_code=0&news_office_checked=&nso=so:r,p:from20210611to20210611,a:all&start=11\n",
      "https://search.naver.com/search.naver?where=news&sm=tab_pge&query=%EC%BD%94%EC%8A%A4%ED%94%BC%20%EA%B2%BD%EC%A0%9C&sort=0&photo=0&field=0&pd=3&ds=2021.06.11&de=2021.06.11&cluster_rank=20&mynews=0&office_type=0&office_section_code=0&news_office_checked=&nso=so:r,p:from20210611to20210611,a:all&start=21\n",
      "크롤링 준비\n"
     ]
    },
    {
     "name": "stderr",
     "output_type": "stream",
     "text": [
      "\n",
      "\n",
      "preprocessing day:  35%|██████████████████████▎                                        | 11/31 [01:18<02:22,  7.15s/it]\u001b[A\u001b[A"
     ]
    },
    {
     "name": "stdout",
     "output_type": "stream",
     "text": [
      "다음날짜로 선택시작\n",
      "다음 날짜 선택 후 크롤링 준비\n",
      "https://search.naver.com/search.naver?where=news&query=%EC%BD%94%EC%8A%A4%ED%94%BC%20%EA%B2%BD%EC%A0%9C&sm=tab_opt&sort=0&photo=0&field=0&pd=3&ds=2021.06.12&de=2021.06.12&docid=&related=0&mynews=0&office_type=0&office_section_code=0&news_office_checked=&nso=so%3Ar%2Cp%3Afrom20210612to20210612&is_sug_officeid=0\n",
      "https://search.naver.com/search.naver?where=news&sm=tab_pge&query=%EC%BD%94%EC%8A%A4%ED%94%BC%20%EA%B2%BD%EC%A0%9C&sort=0&photo=0&field=0&pd=3&ds=2021.06.12&de=2021.06.12&cluster_rank=10&mynews=0&office_type=0&office_section_code=0&news_office_checked=&nso=so:r,p:from20210612to20210612,a:all&start=11\n",
      "https://search.naver.com/search.naver?where=news&sm=tab_pge&query=%EC%BD%94%EC%8A%A4%ED%94%BC%20%EA%B2%BD%EC%A0%9C&sort=0&photo=0&field=0&pd=3&ds=2021.06.12&de=2021.06.12&cluster_rank=10&mynews=0&office_type=0&office_section_code=0&news_office_checked=&nso=so:r,p:from20210612to20210612,a:all&start=11\n",
      "크롤링 준비\n"
     ]
    },
    {
     "name": "stderr",
     "output_type": "stream",
     "text": [
      "\n",
      "\n",
      "preprocessing day:  39%|████████████████████████▍                                      | 12/31 [01:25<02:12,  6.98s/it]\u001b[A\u001b[A"
     ]
    },
    {
     "name": "stdout",
     "output_type": "stream",
     "text": [
      "다음날짜로 선택시작\n",
      "다음 날짜 선택 후 크롤링 준비\n",
      "https://search.naver.com/search.naver?where=news&query=%EC%BD%94%EC%8A%A4%ED%94%BC%20%EA%B2%BD%EC%A0%9C&sm=tab_opt&sort=0&photo=0&field=0&pd=3&ds=2021.06.13&de=2021.06.13&docid=&related=0&mynews=0&office_type=0&office_section_code=0&news_office_checked=&nso=so%3Ar%2Cp%3Afrom20210613to20210613&is_sug_officeid=0\n",
      "https://search.naver.com/search.naver?where=news&sm=tab_pge&query=%EC%BD%94%EC%8A%A4%ED%94%BC%20%EA%B2%BD%EC%A0%9C&sort=0&photo=0&field=0&pd=3&ds=2021.06.13&de=2021.06.13&cluster_rank=11&mynews=0&office_type=0&office_section_code=0&news_office_checked=&nso=so:r,p:from20210613to20210613,a:all&start=11\n",
      "https://search.naver.com/search.naver?where=news&sm=tab_pge&query=%EC%BD%94%EC%8A%A4%ED%94%BC%20%EA%B2%BD%EC%A0%9C&sort=0&photo=0&field=0&pd=3&ds=2021.06.13&de=2021.06.13&cluster_rank=27&mynews=0&office_type=0&office_section_code=0&news_office_checked=&nso=so:r,p:from20210613to20210613,a:all&start=21\n",
      "크롤링 준비\n"
     ]
    },
    {
     "name": "stderr",
     "output_type": "stream",
     "text": [
      "\n",
      "\n",
      "preprocessing day:  42%|██████████████████████████▍                                    | 13/31 [01:32<02:05,  7.00s/it]\u001b[A\u001b[A"
     ]
    },
    {
     "name": "stdout",
     "output_type": "stream",
     "text": [
      "다음날짜로 선택시작\n",
      "다음 날짜 선택 후 크롤링 준비\n",
      "https://search.naver.com/search.naver?where=news&query=%EC%BD%94%EC%8A%A4%ED%94%BC%20%EA%B2%BD%EC%A0%9C&sm=tab_opt&sort=0&photo=0&field=0&pd=3&ds=2021.06.14&de=2021.06.14&docid=&related=0&mynews=0&office_type=0&office_section_code=0&news_office_checked=&nso=so%3Ar%2Cp%3Afrom20210614to20210614&is_sug_officeid=0\n",
      "https://search.naver.com/search.naver?where=news&sm=tab_pge&query=%EC%BD%94%EC%8A%A4%ED%94%BC%20%EA%B2%BD%EC%A0%9C&sort=0&photo=0&field=0&pd=3&ds=2021.06.14&de=2021.06.14&cluster_rank=11&mynews=0&office_type=0&office_section_code=0&news_office_checked=&nso=so:r,p:from20210614to20210614,a:all&start=11\n",
      "https://search.naver.com/search.naver?where=news&sm=tab_pge&query=%EC%BD%94%EC%8A%A4%ED%94%BC%20%EA%B2%BD%EC%A0%9C&sort=0&photo=0&field=0&pd=3&ds=2021.06.14&de=2021.06.14&cluster_rank=24&mynews=0&office_type=0&office_section_code=0&news_office_checked=&nso=so:r,p:from20210614to20210614,a:all&start=21\n",
      "크롤링 준비\n"
     ]
    },
    {
     "name": "stderr",
     "output_type": "stream",
     "text": [
      "\n",
      "\n",
      "preprocessing day:  45%|████████████████████████████▍                                  | 14/31 [01:39<01:59,  7.02s/it]\u001b[A\u001b[A"
     ]
    },
    {
     "name": "stdout",
     "output_type": "stream",
     "text": [
      "다음날짜로 선택시작\n",
      "다음 날짜 선택 후 크롤링 준비\n",
      "https://search.naver.com/search.naver?where=news&query=%EC%BD%94%EC%8A%A4%ED%94%BC%20%EA%B2%BD%EC%A0%9C&sm=tab_opt&sort=0&photo=0&field=0&pd=3&ds=2021.06.15&de=2021.06.15&docid=&related=0&mynews=0&office_type=0&office_section_code=0&news_office_checked=&nso=so%3Ar%2Cp%3Afrom20210615to20210615&is_sug_officeid=0\n",
      "https://search.naver.com/search.naver?where=news&sm=tab_pge&query=%EC%BD%94%EC%8A%A4%ED%94%BC%20%EA%B2%BD%EC%A0%9C&sort=0&photo=0&field=0&pd=3&ds=2021.06.15&de=2021.06.15&cluster_rank=12&mynews=0&office_type=0&office_section_code=0&news_office_checked=&nso=so:r,p:from20210615to20210615,a:all&start=11\n",
      "https://search.naver.com/search.naver?where=news&sm=tab_pge&query=%EC%BD%94%EC%8A%A4%ED%94%BC%20%EA%B2%BD%EC%A0%9C&sort=0&photo=0&field=0&pd=3&ds=2021.06.15&de=2021.06.15&cluster_rank=22&mynews=0&office_type=0&office_section_code=0&news_office_checked=&nso=so:r,p:from20210615to20210615,a:all&start=21\n",
      "크롤링 준비\n"
     ]
    },
    {
     "name": "stderr",
     "output_type": "stream",
     "text": [
      "\n",
      "\n",
      "preprocessing day:  48%|██████████████████████████████▍                                | 15/31 [01:46<01:52,  7.02s/it]\u001b[A\u001b[A"
     ]
    },
    {
     "name": "stdout",
     "output_type": "stream",
     "text": [
      "다음날짜로 선택시작\n",
      "다음 날짜 선택 후 크롤링 준비\n",
      "https://search.naver.com/search.naver?where=news&query=%EC%BD%94%EC%8A%A4%ED%94%BC%20%EA%B2%BD%EC%A0%9C&sm=tab_opt&sort=0&photo=0&field=0&pd=3&ds=2021.06.16&de=2021.06.16&docid=&related=0&mynews=0&office_type=0&office_section_code=0&news_office_checked=&nso=so%3Ar%2Cp%3Afrom20210616to20210616&is_sug_officeid=0\n",
      "https://search.naver.com/search.naver?where=news&sm=tab_pge&query=%EC%BD%94%EC%8A%A4%ED%94%BC%20%EA%B2%BD%EC%A0%9C&sort=0&photo=0&field=0&pd=3&ds=2021.06.16&de=2021.06.16&cluster_rank=20&mynews=0&office_type=0&office_section_code=0&news_office_checked=&nso=so:r,p:from20210616to20210616,a:all&start=11\n",
      "https://search.naver.com/search.naver?where=news&sm=tab_pge&query=%EC%BD%94%EC%8A%A4%ED%94%BC%20%EA%B2%BD%EC%A0%9C&sort=0&photo=0&field=0&pd=3&ds=2021.06.16&de=2021.06.16&cluster_rank=31&mynews=0&office_type=0&office_section_code=0&news_office_checked=&nso=so:r,p:from20210616to20210616,a:all&start=21\n",
      "크롤링 준비\n"
     ]
    },
    {
     "name": "stderr",
     "output_type": "stream",
     "text": [
      "\n",
      "\n",
      "preprocessing day:  52%|████████████████████████████████▌                              | 16/31 [01:53<01:45,  7.03s/it]\u001b[A\u001b[A"
     ]
    },
    {
     "name": "stdout",
     "output_type": "stream",
     "text": [
      "다음날짜로 선택시작\n",
      "다음 날짜 선택 후 크롤링 준비\n",
      "https://search.naver.com/search.naver?where=news&query=%EC%BD%94%EC%8A%A4%ED%94%BC%20%EA%B2%BD%EC%A0%9C&sm=tab_opt&sort=0&photo=0&field=0&pd=3&ds=2021.06.17&de=2021.06.17&docid=&related=0&mynews=0&office_type=0&office_section_code=0&news_office_checked=&nso=so%3Ar%2Cp%3Afrom20210617to20210617&is_sug_officeid=0\n",
      "https://search.naver.com/search.naver?where=news&sm=tab_pge&query=%EC%BD%94%EC%8A%A4%ED%94%BC%20%EA%B2%BD%EC%A0%9C&sort=0&photo=0&field=0&pd=3&ds=2021.06.17&de=2021.06.17&cluster_rank=15&mynews=0&office_type=0&office_section_code=0&news_office_checked=&nso=so:r,p:from20210617to20210617,a:all&start=11\n",
      "https://search.naver.com/search.naver?where=news&sm=tab_pge&query=%EC%BD%94%EC%8A%A4%ED%94%BC%20%EA%B2%BD%EC%A0%9C&sort=0&photo=0&field=0&pd=3&ds=2021.06.17&de=2021.06.17&cluster_rank=27&mynews=0&office_type=0&office_section_code=0&news_office_checked=&nso=so:r,p:from20210617to20210617,a:all&start=21\n",
      "크롤링 준비\n"
     ]
    },
    {
     "name": "stderr",
     "output_type": "stream",
     "text": [
      "\n",
      "\n",
      "preprocessing day:  55%|██████████████████████████████████▌                            | 17/31 [02:00<01:38,  7.02s/it]\u001b[A\u001b[A"
     ]
    },
    {
     "name": "stdout",
     "output_type": "stream",
     "text": [
      "다음날짜로 선택시작\n",
      "다음 날짜 선택 후 크롤링 준비\n",
      "https://search.naver.com/search.naver?where=news&query=%EC%BD%94%EC%8A%A4%ED%94%BC%20%EA%B2%BD%EC%A0%9C&sm=tab_opt&sort=0&photo=0&field=0&pd=3&ds=2021.06.18&de=2021.06.18&docid=&related=0&mynews=0&office_type=0&office_section_code=0&news_office_checked=&nso=so%3Ar%2Cp%3Afrom20210618to20210618&is_sug_officeid=0\n",
      "https://search.naver.com/search.naver?where=news&sm=tab_pge&query=%EC%BD%94%EC%8A%A4%ED%94%BC%20%EA%B2%BD%EC%A0%9C&sort=0&photo=0&field=0&pd=3&ds=2021.06.18&de=2021.06.18&cluster_rank=13&mynews=0&office_type=0&office_section_code=0&news_office_checked=&nso=so:r,p:from20210618to20210618,a:all&start=11\n",
      "https://search.naver.com/search.naver?where=news&sm=tab_pge&query=%EC%BD%94%EC%8A%A4%ED%94%BC%20%EA%B2%BD%EC%A0%9C&sort=0&photo=0&field=0&pd=3&ds=2021.06.18&de=2021.06.18&cluster_rank=23&mynews=0&office_type=0&office_section_code=0&news_office_checked=&nso=so:r,p:from20210618to20210618,a:all&start=21\n",
      "크롤링 준비\n"
     ]
    },
    {
     "name": "stderr",
     "output_type": "stream",
     "text": [
      "\n",
      "\n",
      "preprocessing day:  58%|████████████████████████████████████▌                          | 18/31 [02:07<01:31,  7.01s/it]\u001b[A\u001b[A"
     ]
    },
    {
     "name": "stdout",
     "output_type": "stream",
     "text": [
      "다음날짜로 선택시작\n",
      "다음 날짜 선택 후 크롤링 준비\n",
      "https://search.naver.com/search.naver?where=news&query=%EC%BD%94%EC%8A%A4%ED%94%BC%20%EA%B2%BD%EC%A0%9C&sm=tab_opt&sort=0&photo=0&field=0&pd=3&ds=2021.06.19&de=2021.06.19&docid=&related=0&mynews=0&office_type=0&office_section_code=0&news_office_checked=&nso=so%3Ar%2Cp%3Afrom20210619to20210619&is_sug_officeid=0\n",
      "https://search.naver.com/search.naver?where=news&sm=tab_pge&query=%EC%BD%94%EC%8A%A4%ED%94%BC%20%EA%B2%BD%EC%A0%9C&sort=0&photo=0&field=0&pd=3&ds=2021.06.19&de=2021.06.19&cluster_rank=10&mynews=0&office_type=0&office_section_code=0&news_office_checked=&nso=so:r,p:from20210619to20210619,a:all&start=11\n",
      "https://search.naver.com/search.naver?where=news&sm=tab_pge&query=%EC%BD%94%EC%8A%A4%ED%94%BC%20%EA%B2%BD%EC%A0%9C&sort=0&photo=0&field=0&pd=3&ds=2021.06.19&de=2021.06.19&cluster_rank=10&mynews=0&office_type=0&office_section_code=0&news_office_checked=&nso=so:r,p:from20210619to20210619,a:all&start=11\n",
      "크롤링 준비\n"
     ]
    },
    {
     "name": "stderr",
     "output_type": "stream",
     "text": [
      "\n",
      "\n",
      "preprocessing day:  61%|██████████████████████████████████████▌                        | 19/31 [02:13<01:22,  6.89s/it]\u001b[A\u001b[A"
     ]
    },
    {
     "name": "stdout",
     "output_type": "stream",
     "text": [
      "다음날짜로 선택시작\n",
      "다음 날짜 선택 후 크롤링 준비\n",
      "https://search.naver.com/search.naver?where=news&query=%EC%BD%94%EC%8A%A4%ED%94%BC%20%EA%B2%BD%EC%A0%9C&sm=tab_opt&sort=0&photo=0&field=0&pd=3&ds=2021.06.20&de=2021.06.20&docid=&related=0&mynews=0&office_type=0&office_section_code=0&news_office_checked=&nso=so%3Ar%2Cp%3Afrom20210620to20210620&is_sug_officeid=0\n",
      "https://search.naver.com/search.naver?where=news&sm=tab_pge&query=%EC%BD%94%EC%8A%A4%ED%94%BC%20%EA%B2%BD%EC%A0%9C&sort=0&photo=0&field=0&pd=3&ds=2021.06.20&de=2021.06.20&cluster_rank=13&mynews=0&office_type=0&office_section_code=0&news_office_checked=&nso=so:r,p:from20210620to20210620,a:all&start=11\n",
      "https://search.naver.com/search.naver?where=news&sm=tab_pge&query=%EC%BD%94%EC%8A%A4%ED%94%BC%20%EA%B2%BD%EC%A0%9C&sort=0&photo=0&field=0&pd=3&ds=2021.06.20&de=2021.06.20&cluster_rank=25&mynews=0&office_type=0&office_section_code=0&news_office_checked=&nso=so:r,p:from20210620to20210620,a:all&start=21\n",
      "크롤링 준비\n"
     ]
    },
    {
     "name": "stderr",
     "output_type": "stream",
     "text": [
      "\n",
      "\n",
      "preprocessing day:  65%|████████████████████████████████████████▋                      | 20/31 [02:20<01:16,  6.95s/it]\u001b[A\u001b[A"
     ]
    },
    {
     "name": "stdout",
     "output_type": "stream",
     "text": [
      "다음날짜로 선택시작\n",
      "다음 날짜 선택 후 크롤링 준비\n",
      "https://search.naver.com/search.naver?where=news&query=%EC%BD%94%EC%8A%A4%ED%94%BC%20%EA%B2%BD%EC%A0%9C&sm=tab_opt&sort=0&photo=0&field=0&pd=3&ds=2021.06.21&de=2021.06.21&docid=&related=0&mynews=0&office_type=0&office_section_code=0&news_office_checked=&nso=so%3Ar%2Cp%3Afrom20210621to20210621&is_sug_officeid=0\n",
      "https://search.naver.com/search.naver?where=news&sm=tab_pge&query=%EC%BD%94%EC%8A%A4%ED%94%BC%20%EA%B2%BD%EC%A0%9C&sort=0&photo=0&field=0&pd=3&ds=2021.06.21&de=2021.06.21&cluster_rank=13&mynews=0&office_type=0&office_section_code=0&news_office_checked=&nso=so:r,p:from20210621to20210621,a:all&start=11\n",
      "https://search.naver.com/search.naver?where=news&sm=tab_pge&query=%EC%BD%94%EC%8A%A4%ED%94%BC%20%EA%B2%BD%EC%A0%9C&sort=0&photo=0&field=0&pd=3&ds=2021.06.21&de=2021.06.21&cluster_rank=23&mynews=0&office_type=0&office_section_code=0&news_office_checked=&nso=so:r,p:from20210621to20210621,a:all&start=21\n",
      "크롤링 준비\n"
     ]
    },
    {
     "name": "stderr",
     "output_type": "stream",
     "text": [
      "\n",
      "\n",
      "preprocessing day:  68%|██████████████████████████████████████████▋                    | 21/31 [02:28<01:11,  7.13s/it]\u001b[A\u001b[A"
     ]
    },
    {
     "name": "stdout",
     "output_type": "stream",
     "text": [
      "다음날짜로 선택시작\n",
      "다음 날짜 선택 후 크롤링 준비\n",
      "https://search.naver.com/search.naver?where=news&query=%EC%BD%94%EC%8A%A4%ED%94%BC%20%EA%B2%BD%EC%A0%9C&sm=tab_opt&sort=0&photo=0&field=0&pd=3&ds=2021.06.22&de=2021.06.22&docid=&related=0&mynews=0&office_type=0&office_section_code=0&news_office_checked=&nso=so%3Ar%2Cp%3Afrom20210622to20210622&is_sug_officeid=0\n",
      "https://search.naver.com/search.naver?where=news&sm=tab_pge&query=%EC%BD%94%EC%8A%A4%ED%94%BC%20%EA%B2%BD%EC%A0%9C&sort=0&photo=0&field=0&pd=3&ds=2021.06.22&de=2021.06.22&cluster_rank=10&mynews=0&office_type=0&office_section_code=0&news_office_checked=&nso=so:r,p:from20210622to20210622,a:all&start=11\n",
      "https://search.naver.com/search.naver?where=news&sm=tab_pge&query=%EC%BD%94%EC%8A%A4%ED%94%BC%20%EA%B2%BD%EC%A0%9C&sort=0&photo=0&field=0&pd=3&ds=2021.06.22&de=2021.06.22&cluster_rank=21&mynews=0&office_type=0&office_section_code=0&news_office_checked=&nso=so:r,p:from20210622to20210622,a:all&start=21\n",
      "크롤링 준비\n"
     ]
    },
    {
     "name": "stderr",
     "output_type": "stream",
     "text": [
      "\n",
      "\n",
      "preprocessing day:  71%|████████████████████████████████████████████▋                  | 22/31 [02:35<01:04,  7.11s/it]\u001b[A\u001b[A"
     ]
    },
    {
     "name": "stdout",
     "output_type": "stream",
     "text": [
      "다음날짜로 선택시작\n",
      "다음 날짜 선택 후 크롤링 준비\n",
      "https://search.naver.com/search.naver?where=news&query=%EC%BD%94%EC%8A%A4%ED%94%BC%20%EA%B2%BD%EC%A0%9C&sm=tab_opt&sort=0&photo=0&field=0&pd=3&ds=2021.06.23&de=2021.06.23&docid=&related=0&mynews=0&office_type=0&office_section_code=0&news_office_checked=&nso=so%3Ar%2Cp%3Afrom20210623to20210623&is_sug_officeid=0\n",
      "https://search.naver.com/search.naver?where=news&sm=tab_pge&query=%EC%BD%94%EC%8A%A4%ED%94%BC%20%EA%B2%BD%EC%A0%9C&sort=0&photo=0&field=0&pd=3&ds=2021.06.23&de=2021.06.23&cluster_rank=16&mynews=0&office_type=0&office_section_code=0&news_office_checked=&nso=so:r,p:from20210623to20210623,a:all&start=11\n",
      "https://search.naver.com/search.naver?where=news&sm=tab_pge&query=%EC%BD%94%EC%8A%A4%ED%94%BC%20%EA%B2%BD%EC%A0%9C&sort=0&photo=0&field=0&pd=3&ds=2021.06.23&de=2021.06.23&cluster_rank=28&mynews=0&office_type=0&office_section_code=0&news_office_checked=&nso=so:r,p:from20210623to20210623,a:all&start=21\n",
      "크롤링 준비\n"
     ]
    },
    {
     "name": "stderr",
     "output_type": "stream",
     "text": [
      "\n",
      "\n",
      "preprocessing day:  74%|██████████████████████████████████████████████▋                | 23/31 [02:42<00:56,  7.11s/it]\u001b[A\u001b[A"
     ]
    },
    {
     "name": "stdout",
     "output_type": "stream",
     "text": [
      "다음날짜로 선택시작\n",
      "다음 날짜 선택 후 크롤링 준비\n",
      "https://search.naver.com/search.naver?where=news&query=%EC%BD%94%EC%8A%A4%ED%94%BC%20%EA%B2%BD%EC%A0%9C&sm=tab_opt&sort=0&photo=0&field=0&pd=3&ds=2021.06.24&de=2021.06.24&docid=&related=0&mynews=0&office_type=0&office_section_code=0&news_office_checked=&nso=so%3Ar%2Cp%3Afrom20210624to20210624&is_sug_officeid=0\n",
      "https://search.naver.com/search.naver?where=news&sm=tab_pge&query=%EC%BD%94%EC%8A%A4%ED%94%BC%20%EA%B2%BD%EC%A0%9C&sort=0&photo=0&field=0&pd=3&ds=2021.06.24&de=2021.06.24&cluster_rank=15&mynews=0&office_type=0&office_section_code=0&news_office_checked=&nso=so:r,p:from20210624to20210624,a:all&start=11\n",
      "https://search.naver.com/search.naver?where=news&sm=tab_pge&query=%EC%BD%94%EC%8A%A4%ED%94%BC%20%EA%B2%BD%EC%A0%9C&sort=0&photo=0&field=0&pd=3&ds=2021.06.24&de=2021.06.24&cluster_rank=27&mynews=0&office_type=0&office_section_code=0&news_office_checked=&nso=so:r,p:from20210624to20210624,a:all&start=21\n",
      "크롤링 준비\n"
     ]
    },
    {
     "name": "stderr",
     "output_type": "stream",
     "text": [
      "\n",
      "\n",
      "preprocessing day:  77%|████████████████████████████████████████████████▊              | 24/31 [02:50<00:50,  7.24s/it]\u001b[A\u001b[A"
     ]
    },
    {
     "name": "stdout",
     "output_type": "stream",
     "text": [
      "다음날짜로 선택시작\n",
      "다음 날짜 선택 후 크롤링 준비\n",
      "https://search.naver.com/search.naver?where=news&query=%EC%BD%94%EC%8A%A4%ED%94%BC%20%EA%B2%BD%EC%A0%9C&sm=tab_opt&sort=0&photo=0&field=0&pd=3&ds=2021.06.25&de=2021.06.25&docid=&related=0&mynews=0&office_type=0&office_section_code=0&news_office_checked=&nso=so%3Ar%2Cp%3Afrom20210625to20210625&is_sug_officeid=0\n",
      "https://search.naver.com/search.naver?where=news&sm=tab_pge&query=%EC%BD%94%EC%8A%A4%ED%94%BC%20%EA%B2%BD%EC%A0%9C&sort=0&photo=0&field=0&pd=3&ds=2021.06.25&de=2021.06.25&cluster_rank=12&mynews=0&office_type=0&office_section_code=0&news_office_checked=&nso=so:r,p:from20210625to20210625,a:all&start=11\n",
      "https://search.naver.com/search.naver?where=news&sm=tab_pge&query=%EC%BD%94%EC%8A%A4%ED%94%BC%20%EA%B2%BD%EC%A0%9C&sort=0&photo=0&field=0&pd=3&ds=2021.06.25&de=2021.06.25&cluster_rank=22&mynews=0&office_type=0&office_section_code=0&news_office_checked=&nso=so:r,p:from20210625to20210625,a:all&start=21\n",
      "크롤링 준비\n"
     ]
    },
    {
     "name": "stderr",
     "output_type": "stream",
     "text": [
      "\n",
      "\n",
      "preprocessing day:  81%|██████████████████████████████████████████████████▊            | 25/31 [02:57<00:42,  7.17s/it]\u001b[A\u001b[A"
     ]
    },
    {
     "name": "stdout",
     "output_type": "stream",
     "text": [
      "다음날짜로 선택시작\n",
      "다음 날짜 선택 후 크롤링 준비\n",
      "https://search.naver.com/search.naver?where=news&query=%EC%BD%94%EC%8A%A4%ED%94%BC%20%EA%B2%BD%EC%A0%9C&sm=tab_opt&sort=0&photo=0&field=0&pd=3&ds=2021.06.26&de=2021.06.26&docid=&related=0&mynews=0&office_type=0&office_section_code=0&news_office_checked=&nso=so%3Ar%2Cp%3Afrom20210626to20210626&is_sug_officeid=0\n",
      "https://search.naver.com/search.naver?where=news&sm=tab_pge&query=%EC%BD%94%EC%8A%A4%ED%94%BC%20%EA%B2%BD%EC%A0%9C&sort=0&photo=0&field=0&pd=3&ds=2021.06.26&de=2021.06.26&cluster_rank=10&mynews=0&office_type=0&office_section_code=0&news_office_checked=&nso=so:r,p:from20210626to20210626,a:all&start=11\n",
      "https://search.naver.com/search.naver?where=news&sm=tab_pge&query=%EC%BD%94%EC%8A%A4%ED%94%BC%20%EA%B2%BD%EC%A0%9C&sort=0&photo=0&field=0&pd=3&ds=2021.06.26&de=2021.06.26&cluster_rank=20&mynews=0&office_type=0&office_section_code=0&news_office_checked=&nso=so:r,p:from20210626to20210626,a:all&start=21\n",
      "크롤링 준비\n"
     ]
    },
    {
     "name": "stderr",
     "output_type": "stream",
     "text": [
      "\n",
      "\n",
      "preprocessing day:  84%|████████████████████████████████████████████████████▊          | 26/31 [03:04<00:35,  7.11s/it]\u001b[A\u001b[A"
     ]
    },
    {
     "name": "stdout",
     "output_type": "stream",
     "text": [
      "다음날짜로 선택시작\n",
      "다음 날짜 선택 후 크롤링 준비\n",
      "https://search.naver.com/search.naver?where=news&query=%EC%BD%94%EC%8A%A4%ED%94%BC%20%EA%B2%BD%EC%A0%9C&sm=tab_opt&sort=0&photo=0&field=0&pd=3&ds=2021.06.27&de=2021.06.27&docid=&related=0&mynews=0&office_type=0&office_section_code=0&news_office_checked=&nso=so%3Ar%2Cp%3Afrom20210627to20210627&is_sug_officeid=0\n",
      "https://search.naver.com/search.naver?where=news&sm=tab_pge&query=%EC%BD%94%EC%8A%A4%ED%94%BC%20%EA%B2%BD%EC%A0%9C&sort=0&photo=0&field=0&pd=3&ds=2021.06.27&de=2021.06.27&cluster_rank=12&mynews=0&office_type=0&office_section_code=0&news_office_checked=&nso=so:r,p:from20210627to20210627,a:all&start=11\n",
      "https://search.naver.com/search.naver?where=news&sm=tab_pge&query=%EC%BD%94%EC%8A%A4%ED%94%BC%20%EA%B2%BD%EC%A0%9C&sort=0&photo=0&field=0&pd=3&ds=2021.06.27&de=2021.06.27&cluster_rank=23&mynews=0&office_type=0&office_section_code=0&news_office_checked=&nso=so:r,p:from20210627to20210627,a:all&start=21\n",
      "크롤링 준비\n"
     ]
    },
    {
     "name": "stderr",
     "output_type": "stream",
     "text": [
      "\n",
      "\n",
      "preprocessing day:  87%|██████████████████████████████████████████████████████▊        | 27/31 [03:11<00:28,  7.07s/it]\u001b[A\u001b[A"
     ]
    },
    {
     "name": "stdout",
     "output_type": "stream",
     "text": [
      "다음날짜로 선택시작\n",
      "다음 날짜 선택 후 크롤링 준비\n",
      "https://search.naver.com/search.naver?where=news&query=%EC%BD%94%EC%8A%A4%ED%94%BC%20%EA%B2%BD%EC%A0%9C&sm=tab_opt&sort=0&photo=0&field=0&pd=3&ds=2021.06.28&de=2021.06.28&docid=&related=0&mynews=0&office_type=0&office_section_code=0&news_office_checked=&nso=so%3Ar%2Cp%3Afrom20210628to20210628&is_sug_officeid=0\n",
      "https://search.naver.com/search.naver?where=news&sm=tab_pge&query=%EC%BD%94%EC%8A%A4%ED%94%BC%20%EA%B2%BD%EC%A0%9C&sort=0&photo=0&field=0&pd=3&ds=2021.06.28&de=2021.06.28&cluster_rank=12&mynews=0&office_type=0&office_section_code=0&news_office_checked=&nso=so:r,p:from20210628to20210628,a:all&start=11\n",
      "https://search.naver.com/search.naver?where=news&sm=tab_pge&query=%EC%BD%94%EC%8A%A4%ED%94%BC%20%EA%B2%BD%EC%A0%9C&sort=0&photo=0&field=0&pd=3&ds=2021.06.28&de=2021.06.28&cluster_rank=22&mynews=0&office_type=0&office_section_code=0&news_office_checked=&nso=so:r,p:from20210628to20210628,a:all&start=21\n",
      "크롤링 준비\n"
     ]
    },
    {
     "name": "stderr",
     "output_type": "stream",
     "text": [
      "\n",
      "\n",
      "preprocessing day:  90%|████████████████████████████████████████████████████████▉      | 28/31 [03:18<00:21,  7.07s/it]\u001b[A\u001b[A"
     ]
    },
    {
     "name": "stdout",
     "output_type": "stream",
     "text": [
      "다음날짜로 선택시작\n",
      "다음 날짜 선택 후 크롤링 준비\n",
      "https://search.naver.com/search.naver?where=news&query=%EC%BD%94%EC%8A%A4%ED%94%BC%20%EA%B2%BD%EC%A0%9C&sm=tab_opt&sort=0&photo=0&field=0&pd=3&ds=2021.06.29&de=2021.06.29&docid=&related=0&mynews=0&office_type=0&office_section_code=0&news_office_checked=&nso=so%3Ar%2Cp%3Afrom20210629to20210629&is_sug_officeid=0\n",
      "https://search.naver.com/search.naver?where=news&sm=tab_pge&query=%EC%BD%94%EC%8A%A4%ED%94%BC%20%EA%B2%BD%EC%A0%9C&sort=0&photo=0&field=0&pd=3&ds=2021.06.29&de=2021.06.29&cluster_rank=11&mynews=0&office_type=0&office_section_code=0&news_office_checked=&nso=so:r,p:from20210629to20210629,a:all&start=11\n",
      "https://search.naver.com/search.naver?where=news&sm=tab_pge&query=%EC%BD%94%EC%8A%A4%ED%94%BC%20%EA%B2%BD%EC%A0%9C&sort=0&photo=0&field=0&pd=3&ds=2021.06.29&de=2021.06.29&cluster_rank=21&mynews=0&office_type=0&office_section_code=0&news_office_checked=&nso=so:r,p:from20210629to20210629,a:all&start=21\n",
      "크롤링 준비\n"
     ]
    },
    {
     "name": "stderr",
     "output_type": "stream",
     "text": [
      "\n",
      "\n",
      "preprocessing day:  94%|██████████████████████████████████████████████████████████▉    | 29/31 [03:25<00:14,  7.13s/it]\u001b[A\u001b[A"
     ]
    },
    {
     "name": "stdout",
     "output_type": "stream",
     "text": [
      "다음날짜로 선택시작\n",
      "다음 날짜 선택 후 크롤링 준비\n",
      "https://search.naver.com/search.naver?where=news&query=%EC%BD%94%EC%8A%A4%ED%94%BC%20%EA%B2%BD%EC%A0%9C&sm=tab_opt&sort=0&photo=0&field=0&pd=3&ds=2021.06.30&de=2021.06.30&docid=&related=0&mynews=0&office_type=0&office_section_code=0&news_office_checked=&nso=so%3Ar%2Cp%3Afrom20210630to20210630&is_sug_officeid=0\n",
      "https://search.naver.com/search.naver?where=news&sm=tab_pge&query=%EC%BD%94%EC%8A%A4%ED%94%BC%20%EA%B2%BD%EC%A0%9C&sort=0&photo=0&field=0&pd=3&ds=2021.06.30&de=2021.06.30&cluster_rank=15&mynews=0&office_type=0&office_section_code=0&news_office_checked=&nso=so:r,p:from20210630to20210630,a:all&start=11\n",
      "https://search.naver.com/search.naver?where=news&sm=tab_pge&query=%EC%BD%94%EC%8A%A4%ED%94%BC%20%EA%B2%BD%EC%A0%9C&sort=0&photo=0&field=0&pd=3&ds=2021.06.30&de=2021.06.30&cluster_rank=26&mynews=0&office_type=0&office_section_code=0&news_office_checked=&nso=so:r,p:from20210630to20210630,a:all&start=21\n",
      "크롤링 준비\n"
     ]
    },
    {
     "name": "stderr",
     "output_type": "stream",
     "text": [
      "\n",
      "\n",
      "preprocessing day:  97%|████████████████████████████████████████████████████████████▉  | 30/31 [03:32<00:07,  7.21s/it]\u001b[A\u001b[A"
     ]
    },
    {
     "name": "stdout",
     "output_type": "stream",
     "text": [
      "다음날짜로 선택시작\n"
     ]
    },
    {
     "name": "stderr",
     "output_type": "stream",
     "text": [
      "\n",
      "\n",
      "preprocessing day: 100%|███████████████████████████████████████████████████████████████| 31/31 [03:34<00:00,  6.90s/it]\u001b[A\u001b[A\n",
      "\n",
      "preprocessing month:  50%|██████████████████████████████▌                              | 6/12 [21:27<21:28, 214.75s/it]\u001b[A"
     ]
    },
    {
     "name": "stdout",
     "output_type": "stream",
     "text": [
      "An error occurred while crawling for 2021-6-31: Message: no such element: Unable to locate element: {\"method\":\"xpath\",\"selector\":\"/html/body/div[3]/div[2]/div/div[1]/div[1]/div[2]/ul/li[2]/div/div[3]/div[2]/div[3]/div/div/div/ul/li[31]\"}\n",
      "  (Session info: headless chrome=115.0.5790.171); For documentation on this error, please visit: https://www.selenium.dev/documentation/webdriver/troubleshooting/errors#no-such-element-exception\n",
      "Stacktrace:\n",
      "Backtrace:\n",
      "\tGetHandleVerifier [0x00007FF7F2764A62+57106]\n",
      "\t(No symbol) [0x00007FF7F26DCF52]\n",
      "\t(No symbol) [0x00007FF7F25AE2CB]\n",
      "\t(No symbol) [0x00007FF7F25E786E]\n",
      "\t(No symbol) [0x00007FF7F25E795C]\n",
      "\t(No symbol) [0x00007FF7F2620477]\n",
      "\t(No symbol) [0x00007FF7F26069FF]\n",
      "\t(No symbol) [0x00007FF7F261E522]\n",
      "\t(No symbol) [0x00007FF7F2606793]\n",
      "\t(No symbol) [0x00007FF7F25DCE81]\n",
      "\t(No symbol) [0x00007FF7F25DE064]\n",
      "\tGetHandleVerifier [0x00007FF7F2A14222+2873042]\n",
      "\tGetHandleVerifier [0x00007FF7F2A66590+3209792]\n",
      "\tGetHandleVerifier [0x00007FF7F2A5F3AF+3180639]\n",
      "\tGetHandleVerifier [0x00007FF7F27F5F25+652245]\n",
      "\t(No symbol) [0x00007FF7F26E8618]\n",
      "\t(No symbol) [0x00007FF7F26E47C4]\n",
      "\t(No symbol) [0x00007FF7F26E48BC]\n",
      "\t(No symbol) [0x00007FF7F26D4C33]\n",
      "\tBaseThreadInitThunk [0x00007FFFF2917614+20]\n",
      "\tRtlUserThreadStart [0x00007FFFF3D026B1+33]\n",
      "\n"
     ]
    },
    {
     "name": "stderr",
     "output_type": "stream",
     "text": [
      "\n",
      "\n",
      "preprocessing day:   0%|                                                                        | 0/31 [00:00<?, ?it/s]\u001b[A\u001b[A"
     ]
    },
    {
     "name": "stdout",
     "output_type": "stream",
     "text": [
      "다음 날짜 선택 후 크롤링 준비\n",
      "https://search.naver.com/search.naver?where=news&query=%EC%BD%94%EC%8A%A4%ED%94%BC%20%EA%B2%BD%EC%A0%9C&sm=tab_opt&sort=0&photo=0&field=0&pd=3&ds=2021.07.01&de=2021.07.01&docid=&related=0&mynews=0&office_type=0&office_section_code=0&news_office_checked=&nso=so%3Ar%2Cp%3Afrom20210701to20210701&is_sug_officeid=0\n",
      "https://search.naver.com/search.naver?where=news&sm=tab_pge&query=%EC%BD%94%EC%8A%A4%ED%94%BC%20%EA%B2%BD%EC%A0%9C&sort=0&photo=0&field=0&pd=3&ds=2021.07.01&de=2021.07.01&cluster_rank=13&mynews=0&office_type=0&office_section_code=0&news_office_checked=&nso=so:r,p:from20210701to20210701,a:all&start=11\n",
      "https://search.naver.com/search.naver?where=news&sm=tab_pge&query=%EC%BD%94%EC%8A%A4%ED%94%BC%20%EA%B2%BD%EC%A0%9C&sort=0&photo=0&field=0&pd=3&ds=2021.07.01&de=2021.07.01&cluster_rank=23&mynews=0&office_type=0&office_section_code=0&news_office_checked=&nso=so:r,p:from20210701to20210701,a:all&start=21\n",
      "크롤링 준비\n"
     ]
    },
    {
     "name": "stderr",
     "output_type": "stream",
     "text": [
      "\n",
      "\n",
      "preprocessing day:   3%|██                                                              | 1/31 [00:07<03:46,  7.56s/it]\u001b[A\u001b[A"
     ]
    },
    {
     "name": "stdout",
     "output_type": "stream",
     "text": [
      "다음날짜로 선택시작\n",
      "다음 날짜 선택 후 크롤링 준비\n",
      "https://search.naver.com/search.naver?where=news&query=%EC%BD%94%EC%8A%A4%ED%94%BC%20%EA%B2%BD%EC%A0%9C&sm=tab_opt&sort=0&photo=0&field=0&pd=3&ds=2021.07.02&de=2021.07.02&docid=&related=0&mynews=0&office_type=0&office_section_code=0&news_office_checked=&nso=so%3Ar%2Cp%3Afrom20210702to20210702&is_sug_officeid=0\n",
      "https://search.naver.com/search.naver?where=news&sm=tab_pge&query=%EC%BD%94%EC%8A%A4%ED%94%BC%20%EA%B2%BD%EC%A0%9C&sort=0&photo=0&field=0&pd=3&ds=2021.07.02&de=2021.07.02&cluster_rank=11&mynews=0&office_type=0&office_section_code=0&news_office_checked=&nso=so:r,p:from20210702to20210702,a:all&start=11\n",
      "https://search.naver.com/search.naver?where=news&sm=tab_pge&query=%EC%BD%94%EC%8A%A4%ED%94%BC%20%EA%B2%BD%EC%A0%9C&sort=0&photo=0&field=0&pd=3&ds=2021.07.02&de=2021.07.02&cluster_rank=21&mynews=0&office_type=0&office_section_code=0&news_office_checked=&nso=so:r,p:from20210702to20210702,a:all&start=21\n",
      "크롤링 준비\n"
     ]
    },
    {
     "name": "stderr",
     "output_type": "stream",
     "text": [
      "\n",
      "\n",
      "preprocessing day:   6%|████▏                                                           | 2/31 [00:14<03:34,  7.40s/it]\u001b[A\u001b[A"
     ]
    },
    {
     "name": "stdout",
     "output_type": "stream",
     "text": [
      "다음날짜로 선택시작\n",
      "다음 날짜 선택 후 크롤링 준비\n",
      "https://search.naver.com/search.naver?where=news&query=%EC%BD%94%EC%8A%A4%ED%94%BC%20%EA%B2%BD%EC%A0%9C&sm=tab_opt&sort=0&photo=0&field=0&pd=3&ds=2021.07.03&de=2021.07.03&docid=&related=0&mynews=0&office_type=0&office_section_code=0&news_office_checked=&nso=so%3Ar%2Cp%3Afrom20210703to20210703&is_sug_officeid=0\n",
      "https://search.naver.com/search.naver?where=news&sm=tab_pge&query=%EC%BD%94%EC%8A%A4%ED%94%BC%20%EA%B2%BD%EC%A0%9C&sort=0&photo=0&field=0&pd=3&ds=2021.07.03&de=2021.07.03&cluster_rank=10&mynews=0&office_type=0&office_section_code=0&news_office_checked=&nso=so:r,p:from20210703to20210703,a:all&start=11\n",
      "https://search.naver.com/search.naver?where=news&sm=tab_pge&query=%EC%BD%94%EC%8A%A4%ED%94%BC%20%EA%B2%BD%EC%A0%9C&sort=0&photo=0&field=0&pd=3&ds=2021.07.03&de=2021.07.03&cluster_rank=10&mynews=0&office_type=0&office_section_code=0&news_office_checked=&nso=so:r,p:from20210703to20210703,a:all&start=11\n",
      "크롤링 준비\n"
     ]
    },
    {
     "name": "stderr",
     "output_type": "stream",
     "text": [
      "\n",
      "\n",
      "preprocessing day:  10%|██████▏                                                         | 3/31 [00:21<03:22,  7.22s/it]\u001b[A\u001b[A"
     ]
    },
    {
     "name": "stdout",
     "output_type": "stream",
     "text": [
      "다음날짜로 선택시작\n",
      "다음 날짜 선택 후 크롤링 준비\n",
      "https://search.naver.com/search.naver?where=news&query=%EC%BD%94%EC%8A%A4%ED%94%BC%20%EA%B2%BD%EC%A0%9C&sm=tab_opt&sort=0&photo=0&field=0&pd=3&ds=2021.07.04&de=2021.07.04&docid=&related=0&mynews=0&office_type=0&office_section_code=0&news_office_checked=&nso=so%3Ar%2Cp%3Afrom20210704to20210704&is_sug_officeid=0\n",
      "https://search.naver.com/search.naver?where=news&sm=tab_pge&query=%EC%BD%94%EC%8A%A4%ED%94%BC%20%EA%B2%BD%EC%A0%9C&sort=0&photo=0&field=0&pd=3&ds=2021.07.04&de=2021.07.04&cluster_rank=18&mynews=0&office_type=0&office_section_code=0&news_office_checked=&nso=so:r,p:from20210704to20210704,a:all&start=11\n",
      "https://search.naver.com/search.naver?where=news&sm=tab_pge&query=%EC%BD%94%EC%8A%A4%ED%94%BC%20%EA%B2%BD%EC%A0%9C&sort=0&photo=0&field=0&pd=3&ds=2021.07.04&de=2021.07.04&cluster_rank=28&mynews=0&office_type=0&office_section_code=0&news_office_checked=&nso=so:r,p:from20210704to20210704,a:all&start=21\n",
      "크롤링 준비\n"
     ]
    },
    {
     "name": "stderr",
     "output_type": "stream",
     "text": [
      "\n",
      "\n",
      "preprocessing day:  13%|████████▎                                                       | 4/31 [00:28<03:14,  7.19s/it]\u001b[A\u001b[A"
     ]
    },
    {
     "name": "stdout",
     "output_type": "stream",
     "text": [
      "다음날짜로 선택시작\n",
      "다음 날짜 선택 후 크롤링 준비\n",
      "https://search.naver.com/search.naver?where=news&query=%EC%BD%94%EC%8A%A4%ED%94%BC%20%EA%B2%BD%EC%A0%9C&sm=tab_opt&sort=0&photo=0&field=0&pd=3&ds=2021.07.05&de=2021.07.05&docid=&related=0&mynews=0&office_type=0&office_section_code=0&news_office_checked=&nso=so%3Ar%2Cp%3Afrom20210705to20210705&is_sug_officeid=0\n",
      "https://search.naver.com/search.naver?where=news&sm=tab_pge&query=%EC%BD%94%EC%8A%A4%ED%94%BC%20%EA%B2%BD%EC%A0%9C&sort=0&photo=0&field=0&pd=3&ds=2021.07.05&de=2021.07.05&cluster_rank=16&mynews=0&office_type=0&office_section_code=0&news_office_checked=&nso=so:r,p:from20210705to20210705,a:all&start=11\n",
      "https://search.naver.com/search.naver?where=news&sm=tab_pge&query=%EC%BD%94%EC%8A%A4%ED%94%BC%20%EA%B2%BD%EC%A0%9C&sort=0&photo=0&field=0&pd=3&ds=2021.07.05&de=2021.07.05&cluster_rank=30&mynews=0&office_type=0&office_section_code=0&news_office_checked=&nso=so:r,p:from20210705to20210705,a:all&start=21\n",
      "크롤링 준비\n"
     ]
    },
    {
     "name": "stderr",
     "output_type": "stream",
     "text": [
      "\n",
      "\n",
      "preprocessing day:  16%|██████████▎                                                     | 5/31 [00:35<03:04,  7.11s/it]\u001b[A\u001b[A"
     ]
    },
    {
     "name": "stdout",
     "output_type": "stream",
     "text": [
      "다음날짜로 선택시작\n",
      "다음 날짜 선택 후 크롤링 준비\n",
      "https://search.naver.com/search.naver?where=news&query=%EC%BD%94%EC%8A%A4%ED%94%BC%20%EA%B2%BD%EC%A0%9C&sm=tab_opt&sort=0&photo=0&field=0&pd=3&ds=2021.07.06&de=2021.07.06&docid=&related=0&mynews=0&office_type=0&office_section_code=0&news_office_checked=&nso=so%3Ar%2Cp%3Afrom20210706to20210706&is_sug_officeid=0\n",
      "https://search.naver.com/search.naver?where=news&sm=tab_pge&query=%EC%BD%94%EC%8A%A4%ED%94%BC%20%EA%B2%BD%EC%A0%9C&sort=0&photo=0&field=0&pd=3&ds=2021.07.06&de=2021.07.06&cluster_rank=23&mynews=0&office_type=0&office_section_code=0&news_office_checked=&nso=so:r,p:from20210706to20210706,a:all&start=11\n",
      "https://search.naver.com/search.naver?where=news&sm=tab_pge&query=%EC%BD%94%EC%8A%A4%ED%94%BC%20%EA%B2%BD%EC%A0%9C&sort=0&photo=0&field=0&pd=3&ds=2021.07.06&de=2021.07.06&cluster_rank=34&mynews=0&office_type=0&office_section_code=0&news_office_checked=&nso=so:r,p:from20210706to20210706,a:all&start=21\n",
      "크롤링 준비\n"
     ]
    },
    {
     "name": "stderr",
     "output_type": "stream",
     "text": [
      "\n",
      "\n",
      "preprocessing day:  19%|████████████▍                                                   | 6/31 [00:43<02:57,  7.10s/it]\u001b[A\u001b[A"
     ]
    },
    {
     "name": "stdout",
     "output_type": "stream",
     "text": [
      "다음날짜로 선택시작\n",
      "다음 날짜 선택 후 크롤링 준비\n",
      "https://search.naver.com/search.naver?where=news&query=%EC%BD%94%EC%8A%A4%ED%94%BC%20%EA%B2%BD%EC%A0%9C&sm=tab_opt&sort=0&photo=0&field=0&pd=3&ds=2021.07.07&de=2021.07.07&docid=&related=0&mynews=0&office_type=0&office_section_code=0&news_office_checked=&nso=so%3Ar%2Cp%3Afrom20210707to20210707&is_sug_officeid=0\n",
      "https://search.naver.com/search.naver?where=news&sm=tab_pge&query=%EC%BD%94%EC%8A%A4%ED%94%BC%20%EA%B2%BD%EC%A0%9C&sort=0&photo=0&field=0&pd=3&ds=2021.07.07&de=2021.07.07&cluster_rank=16&mynews=0&office_type=0&office_section_code=0&news_office_checked=&nso=so:r,p:from20210707to20210707,a:all&start=11\n",
      "https://search.naver.com/search.naver?where=news&sm=tab_pge&query=%EC%BD%94%EC%8A%A4%ED%94%BC%20%EA%B2%BD%EC%A0%9C&sort=0&photo=0&field=0&pd=3&ds=2021.07.07&de=2021.07.07&cluster_rank=26&mynews=0&office_type=0&office_section_code=0&news_office_checked=&nso=so:r,p:from20210707to20210707,a:all&start=21\n",
      "크롤링 준비\n"
     ]
    },
    {
     "name": "stderr",
     "output_type": "stream",
     "text": [
      "\n",
      "\n",
      "preprocessing day:  23%|██████████████▍                                                 | 7/31 [00:50<02:50,  7.09s/it]\u001b[A\u001b[A"
     ]
    },
    {
     "name": "stdout",
     "output_type": "stream",
     "text": [
      "다음날짜로 선택시작\n",
      "다음 날짜 선택 후 크롤링 준비\n",
      "https://search.naver.com/search.naver?where=news&query=%EC%BD%94%EC%8A%A4%ED%94%BC%20%EA%B2%BD%EC%A0%9C&sm=tab_opt&sort=0&photo=0&field=0&pd=3&ds=2021.07.08&de=2021.07.08&docid=&related=0&mynews=0&office_type=0&office_section_code=0&news_office_checked=&nso=so%3Ar%2Cp%3Afrom20210708to20210708&is_sug_officeid=0\n",
      "https://search.naver.com/search.naver?where=news&sm=tab_pge&query=%EC%BD%94%EC%8A%A4%ED%94%BC%20%EA%B2%BD%EC%A0%9C&sort=0&photo=0&field=0&pd=3&ds=2021.07.08&de=2021.07.08&cluster_rank=10&mynews=0&office_type=0&office_section_code=0&news_office_checked=&nso=so:r,p:from20210708to20210708,a:all&start=11\n",
      "https://search.naver.com/search.naver?where=news&sm=tab_pge&query=%EC%BD%94%EC%8A%A4%ED%94%BC%20%EA%B2%BD%EC%A0%9C&sort=0&photo=0&field=0&pd=3&ds=2021.07.08&de=2021.07.08&cluster_rank=22&mynews=0&office_type=0&office_section_code=0&news_office_checked=&nso=so:r,p:from20210708to20210708,a:all&start=21\n",
      "크롤링 준비\n"
     ]
    },
    {
     "name": "stderr",
     "output_type": "stream",
     "text": [
      "\n",
      "\n",
      "preprocessing day:  26%|████████████████▌                                               | 8/31 [00:57<02:43,  7.09s/it]\u001b[A\u001b[A"
     ]
    },
    {
     "name": "stdout",
     "output_type": "stream",
     "text": [
      "다음날짜로 선택시작\n",
      "다음 날짜 선택 후 크롤링 준비\n",
      "https://search.naver.com/search.naver?where=news&query=%EC%BD%94%EC%8A%A4%ED%94%BC%20%EA%B2%BD%EC%A0%9C&sm=tab_opt&sort=0&photo=0&field=0&pd=3&ds=2021.07.09&de=2021.07.09&docid=&related=0&mynews=0&office_type=0&office_section_code=0&news_office_checked=&nso=so%3Ar%2Cp%3Afrom20210709to20210709&is_sug_officeid=0\n",
      "https://search.naver.com/search.naver?where=news&sm=tab_pge&query=%EC%BD%94%EC%8A%A4%ED%94%BC%20%EA%B2%BD%EC%A0%9C&sort=0&photo=0&field=0&pd=3&ds=2021.07.09&de=2021.07.09&cluster_rank=14&mynews=0&office_type=0&office_section_code=0&news_office_checked=&nso=so:r,p:from20210709to20210709,a:all&start=11\n",
      "https://search.naver.com/search.naver?where=news&sm=tab_pge&query=%EC%BD%94%EC%8A%A4%ED%94%BC%20%EA%B2%BD%EC%A0%9C&sort=0&photo=0&field=0&pd=3&ds=2021.07.09&de=2021.07.09&cluster_rank=24&mynews=0&office_type=0&office_section_code=0&news_office_checked=&nso=so:r,p:from20210709to20210709,a:all&start=21\n",
      "크롤링 준비\n"
     ]
    },
    {
     "name": "stderr",
     "output_type": "stream",
     "text": [
      "\n",
      "\n",
      "preprocessing day:  29%|██████████████████▌                                             | 9/31 [01:04<02:36,  7.11s/it]\u001b[A\u001b[A"
     ]
    },
    {
     "name": "stdout",
     "output_type": "stream",
     "text": [
      "다음날짜로 선택시작\n",
      "다음 날짜 선택 후 크롤링 준비\n",
      "https://search.naver.com/search.naver?where=news&query=%EC%BD%94%EC%8A%A4%ED%94%BC%20%EA%B2%BD%EC%A0%9C&sm=tab_opt&sort=0&photo=0&field=0&pd=3&ds=2021.07.10&de=2021.07.10&docid=&related=0&mynews=0&office_type=0&office_section_code=0&news_office_checked=&nso=so%3Ar%2Cp%3Afrom20210710to20210710&is_sug_officeid=0\n",
      "https://search.naver.com/search.naver?where=news&sm=tab_pge&query=%EC%BD%94%EC%8A%A4%ED%94%BC%20%EA%B2%BD%EC%A0%9C&sort=0&photo=0&field=0&pd=3&ds=2021.07.10&de=2021.07.10&cluster_rank=10&mynews=0&office_type=0&office_section_code=0&news_office_checked=&nso=so:r,p:from20210710to20210710,a:all&start=11\n",
      "https://search.naver.com/search.naver?where=news&sm=tab_pge&query=%EC%BD%94%EC%8A%A4%ED%94%BC%20%EA%B2%BD%EC%A0%9C&sort=0&photo=0&field=0&pd=3&ds=2021.07.10&de=2021.07.10&cluster_rank=10&mynews=0&office_type=0&office_section_code=0&news_office_checked=&nso=so:r,p:from20210710to20210710,a:all&start=11\n",
      "크롤링 준비\n"
     ]
    },
    {
     "name": "stderr",
     "output_type": "stream",
     "text": [
      "\n",
      "\n",
      "preprocessing day:  32%|████████████████████▎                                          | 10/31 [01:11<02:27,  7.02s/it]\u001b[A\u001b[A"
     ]
    },
    {
     "name": "stdout",
     "output_type": "stream",
     "text": [
      "다음날짜로 선택시작\n",
      "다음 날짜 선택 후 크롤링 준비\n",
      "https://search.naver.com/search.naver?where=news&query=%EC%BD%94%EC%8A%A4%ED%94%BC%20%EA%B2%BD%EC%A0%9C&sm=tab_opt&sort=0&photo=0&field=0&pd=3&ds=2021.07.11&de=2021.07.11&docid=&related=0&mynews=0&office_type=0&office_section_code=0&news_office_checked=&nso=so%3Ar%2Cp%3Afrom20210711to20210711&is_sug_officeid=0\n",
      "https://search.naver.com/search.naver?where=news&sm=tab_pge&query=%EC%BD%94%EC%8A%A4%ED%94%BC%20%EA%B2%BD%EC%A0%9C&sort=0&photo=0&field=0&pd=3&ds=2021.07.11&de=2021.07.11&cluster_rank=16&mynews=0&office_type=0&office_section_code=0&news_office_checked=&nso=so:r,p:from20210711to20210711,a:all&start=11\n",
      "https://search.naver.com/search.naver?where=news&sm=tab_pge&query=%EC%BD%94%EC%8A%A4%ED%94%BC%20%EA%B2%BD%EC%A0%9C&sort=0&photo=0&field=0&pd=3&ds=2021.07.11&de=2021.07.11&cluster_rank=29&mynews=0&office_type=0&office_section_code=0&news_office_checked=&nso=so:r,p:from20210711to20210711,a:all&start=21\n",
      "크롤링 준비\n"
     ]
    },
    {
     "name": "stderr",
     "output_type": "stream",
     "text": [
      "\n",
      "\n",
      "preprocessing day:  35%|██████████████████████▎                                        | 11/31 [01:18<02:21,  7.08s/it]\u001b[A\u001b[A"
     ]
    },
    {
     "name": "stdout",
     "output_type": "stream",
     "text": [
      "다음날짜로 선택시작\n",
      "다음 날짜 선택 후 크롤링 준비\n",
      "https://search.naver.com/search.naver?where=news&query=%EC%BD%94%EC%8A%A4%ED%94%BC%20%EA%B2%BD%EC%A0%9C&sm=tab_opt&sort=0&photo=0&field=0&pd=3&ds=2021.07.12&de=2021.07.12&docid=&related=0&mynews=0&office_type=0&office_section_code=0&news_office_checked=&nso=so%3Ar%2Cp%3Afrom20210712to20210712&is_sug_officeid=0\n",
      "https://search.naver.com/search.naver?where=news&sm=tab_pge&query=%EC%BD%94%EC%8A%A4%ED%94%BC%20%EA%B2%BD%EC%A0%9C&sort=0&photo=0&field=0&pd=3&ds=2021.07.12&de=2021.07.12&cluster_rank=10&mynews=0&office_type=0&office_section_code=0&news_office_checked=&nso=so:r,p:from20210712to20210712,a:all&start=11\n",
      "https://search.naver.com/search.naver?where=news&sm=tab_pge&query=%EC%BD%94%EC%8A%A4%ED%94%BC%20%EA%B2%BD%EC%A0%9C&sort=0&photo=0&field=0&pd=3&ds=2021.07.12&de=2021.07.12&cluster_rank=20&mynews=0&office_type=0&office_section_code=0&news_office_checked=&nso=so:r,p:from20210712to20210712,a:all&start=21\n",
      "크롤링 준비\n"
     ]
    },
    {
     "name": "stderr",
     "output_type": "stream",
     "text": [
      "\n",
      "\n",
      "preprocessing day:  39%|████████████████████████▍                                      | 12/31 [01:25<02:13,  7.05s/it]\u001b[A\u001b[A"
     ]
    },
    {
     "name": "stdout",
     "output_type": "stream",
     "text": [
      "다음날짜로 선택시작\n",
      "다음 날짜 선택 후 크롤링 준비\n",
      "https://search.naver.com/search.naver?where=news&query=%EC%BD%94%EC%8A%A4%ED%94%BC%20%EA%B2%BD%EC%A0%9C&sm=tab_opt&sort=0&photo=0&field=0&pd=3&ds=2021.07.13&de=2021.07.13&docid=&related=0&mynews=0&office_type=0&office_section_code=0&news_office_checked=&nso=so%3Ar%2Cp%3Afrom20210713to20210713&is_sug_officeid=0\n",
      "https://search.naver.com/search.naver?where=news&sm=tab_pge&query=%EC%BD%94%EC%8A%A4%ED%94%BC%20%EA%B2%BD%EC%A0%9C&sort=0&photo=0&field=0&pd=3&ds=2021.07.13&de=2021.07.13&cluster_rank=12&mynews=0&office_type=0&office_section_code=0&news_office_checked=&nso=so:r,p:from20210713to20210713,a:all&start=11\n",
      "https://search.naver.com/search.naver?where=news&sm=tab_pge&query=%EC%BD%94%EC%8A%A4%ED%94%BC%20%EA%B2%BD%EC%A0%9C&sort=0&photo=0&field=0&pd=3&ds=2021.07.13&de=2021.07.13&cluster_rank=25&mynews=0&office_type=0&office_section_code=0&news_office_checked=&nso=so:r,p:from20210713to20210713,a:all&start=21\n",
      "크롤링 준비\n"
     ]
    },
    {
     "name": "stderr",
     "output_type": "stream",
     "text": [
      "\n",
      "\n",
      "preprocessing day:  42%|██████████████████████████▍                                    | 13/31 [01:32<02:07,  7.10s/it]\u001b[A\u001b[A"
     ]
    },
    {
     "name": "stdout",
     "output_type": "stream",
     "text": [
      "다음날짜로 선택시작\n",
      "다음 날짜 선택 후 크롤링 준비\n",
      "https://search.naver.com/search.naver?where=news&query=%EC%BD%94%EC%8A%A4%ED%94%BC%20%EA%B2%BD%EC%A0%9C&sm=tab_opt&sort=0&photo=0&field=0&pd=3&ds=2021.07.14&de=2021.07.14&docid=&related=0&mynews=0&office_type=0&office_section_code=0&news_office_checked=&nso=so%3Ar%2Cp%3Afrom20210714to20210714&is_sug_officeid=0\n",
      "https://search.naver.com/search.naver?where=news&sm=tab_pge&query=%EC%BD%94%EC%8A%A4%ED%94%BC%20%EA%B2%BD%EC%A0%9C&sort=0&photo=0&field=0&pd=3&ds=2021.07.14&de=2021.07.14&cluster_rank=16&mynews=0&office_type=0&office_section_code=0&news_office_checked=&nso=so:r,p:from20210714to20210714,a:all&start=11\n",
      "https://search.naver.com/search.naver?where=news&sm=tab_pge&query=%EC%BD%94%EC%8A%A4%ED%94%BC%20%EA%B2%BD%EC%A0%9C&sort=0&photo=0&field=0&pd=3&ds=2021.07.14&de=2021.07.14&cluster_rank=29&mynews=0&office_type=0&office_section_code=0&news_office_checked=&nso=so:r,p:from20210714to20210714,a:all&start=21\n",
      "크롤링 준비\n"
     ]
    },
    {
     "name": "stderr",
     "output_type": "stream",
     "text": [
      "\n",
      "\n",
      "preprocessing day:  45%|████████████████████████████▍                                  | 14/31 [01:39<02:00,  7.07s/it]\u001b[A\u001b[A"
     ]
    },
    {
     "name": "stdout",
     "output_type": "stream",
     "text": [
      "다음날짜로 선택시작\n",
      "다음 날짜 선택 후 크롤링 준비\n",
      "https://search.naver.com/search.naver?where=news&query=%EC%BD%94%EC%8A%A4%ED%94%BC%20%EA%B2%BD%EC%A0%9C&sm=tab_opt&sort=0&photo=0&field=0&pd=3&ds=2021.07.15&de=2021.07.15&docid=&related=0&mynews=0&office_type=0&office_section_code=0&news_office_checked=&nso=so%3Ar%2Cp%3Afrom20210715to20210715&is_sug_officeid=0\n",
      "https://search.naver.com/search.naver?where=news&sm=tab_pge&query=%EC%BD%94%EC%8A%A4%ED%94%BC%20%EA%B2%BD%EC%A0%9C&sort=0&photo=0&field=0&pd=3&ds=2021.07.15&de=2021.07.15&cluster_rank=10&mynews=0&office_type=0&office_section_code=0&news_office_checked=&nso=so:r,p:from20210715to20210715,a:all&start=11\n",
      "https://search.naver.com/search.naver?where=news&sm=tab_pge&query=%EC%BD%94%EC%8A%A4%ED%94%BC%20%EA%B2%BD%EC%A0%9C&sort=0&photo=0&field=0&pd=3&ds=2021.07.15&de=2021.07.15&cluster_rank=21&mynews=0&office_type=0&office_section_code=0&news_office_checked=&nso=so:r,p:from20210715to20210715,a:all&start=21\n",
      "크롤링 준비\n"
     ]
    },
    {
     "name": "stderr",
     "output_type": "stream",
     "text": [
      "\n",
      "\n",
      "preprocessing day:  48%|██████████████████████████████▍                                | 15/31 [01:46<01:54,  7.15s/it]\u001b[A\u001b[A"
     ]
    },
    {
     "name": "stdout",
     "output_type": "stream",
     "text": [
      "다음날짜로 선택시작\n",
      "다음 날짜 선택 후 크롤링 준비\n",
      "https://search.naver.com/search.naver?where=news&query=%EC%BD%94%EC%8A%A4%ED%94%BC%20%EA%B2%BD%EC%A0%9C&sm=tab_opt&sort=0&photo=0&field=0&pd=3&ds=2021.07.16&de=2021.07.16&docid=&related=0&mynews=0&office_type=0&office_section_code=0&news_office_checked=&nso=so%3Ar%2Cp%3Afrom20210716to20210716&is_sug_officeid=0\n",
      "https://search.naver.com/search.naver?where=news&sm=tab_pge&query=%EC%BD%94%EC%8A%A4%ED%94%BC%20%EA%B2%BD%EC%A0%9C&sort=0&photo=0&field=0&pd=3&ds=2021.07.16&de=2021.07.16&cluster_rank=10&mynews=0&office_type=0&office_section_code=0&news_office_checked=&nso=so:r,p:from20210716to20210716,a:all&start=11\n",
      "https://search.naver.com/search.naver?where=news&sm=tab_pge&query=%EC%BD%94%EC%8A%A4%ED%94%BC%20%EA%B2%BD%EC%A0%9C&sort=0&photo=0&field=0&pd=3&ds=2021.07.16&de=2021.07.16&cluster_rank=21&mynews=0&office_type=0&office_section_code=0&news_office_checked=&nso=so:r,p:from20210716to20210716,a:all&start=21\n",
      "크롤링 준비\n"
     ]
    },
    {
     "name": "stderr",
     "output_type": "stream",
     "text": [
      "\n",
      "\n",
      "preprocessing day:  52%|████████████████████████████████▌                              | 16/31 [01:54<01:48,  7.23s/it]\u001b[A\u001b[A"
     ]
    },
    {
     "name": "stdout",
     "output_type": "stream",
     "text": [
      "다음날짜로 선택시작\n",
      "다음 날짜 선택 후 크롤링 준비\n",
      "https://search.naver.com/search.naver?where=news&query=%EC%BD%94%EC%8A%A4%ED%94%BC%20%EA%B2%BD%EC%A0%9C&sm=tab_opt&sort=0&photo=0&field=0&pd=3&ds=2021.07.17&de=2021.07.17&docid=&related=0&mynews=0&office_type=0&office_section_code=0&news_office_checked=&nso=so%3Ar%2Cp%3Afrom20210717to20210717&is_sug_officeid=0\n",
      "https://search.naver.com/search.naver?where=news&query=%EC%BD%94%EC%8A%A4%ED%94%BC%20%EA%B2%BD%EC%A0%9C&sm=tab_opt&sort=0&photo=0&field=0&pd=3&ds=2021.07.17&de=2021.07.17&docid=&related=0&mynews=0&office_type=0&office_section_code=0&news_office_checked=&nso=so%3Ar%2Cp%3Afrom20210717to20210717&is_sug_officeid=0\n",
      "크롤링 준비\n"
     ]
    },
    {
     "name": "stderr",
     "output_type": "stream",
     "text": [
      "\n",
      "\n",
      "preprocessing day:  55%|██████████████████████████████████▌                            | 17/31 [02:00<01:37,  6.93s/it]\u001b[A\u001b[A"
     ]
    },
    {
     "name": "stdout",
     "output_type": "stream",
     "text": [
      "다음날짜로 선택시작\n",
      "다음 날짜 선택 후 크롤링 준비\n",
      "https://search.naver.com/search.naver?where=news&query=%EC%BD%94%EC%8A%A4%ED%94%BC%20%EA%B2%BD%EC%A0%9C&sm=tab_opt&sort=0&photo=0&field=0&pd=3&ds=2021.07.18&de=2021.07.18&docid=&related=0&mynews=0&office_type=0&office_section_code=0&news_office_checked=&nso=so%3Ar%2Cp%3Afrom20210718to20210718&is_sug_officeid=0\n",
      "https://search.naver.com/search.naver?where=news&sm=tab_pge&query=%EC%BD%94%EC%8A%A4%ED%94%BC%20%EA%B2%BD%EC%A0%9C&sort=0&photo=0&field=0&pd=3&ds=2021.07.18&de=2021.07.18&cluster_rank=13&mynews=0&office_type=0&office_section_code=0&news_office_checked=&nso=so:r,p:from20210718to20210718,a:all&start=11\n",
      "https://search.naver.com/search.naver?where=news&sm=tab_pge&query=%EC%BD%94%EC%8A%A4%ED%94%BC%20%EA%B2%BD%EC%A0%9C&sort=0&photo=0&field=0&pd=3&ds=2021.07.18&de=2021.07.18&cluster_rank=24&mynews=0&office_type=0&office_section_code=0&news_office_checked=&nso=so:r,p:from20210718to20210718,a:all&start=21\n",
      "크롤링 준비\n"
     ]
    },
    {
     "name": "stderr",
     "output_type": "stream",
     "text": [
      "\n",
      "\n",
      "preprocessing day:  58%|████████████████████████████████████▌                          | 18/31 [02:07<01:30,  6.95s/it]\u001b[A\u001b[A"
     ]
    },
    {
     "name": "stdout",
     "output_type": "stream",
     "text": [
      "다음날짜로 선택시작\n",
      "다음 날짜 선택 후 크롤링 준비\n",
      "https://search.naver.com/search.naver?where=news&query=%EC%BD%94%EC%8A%A4%ED%94%BC%20%EA%B2%BD%EC%A0%9C&sm=tab_opt&sort=0&photo=0&field=0&pd=3&ds=2021.07.19&de=2021.07.19&docid=&related=0&mynews=0&office_type=0&office_section_code=0&news_office_checked=&nso=so%3Ar%2Cp%3Afrom20210719to20210719&is_sug_officeid=0\n",
      "https://search.naver.com/search.naver?where=news&sm=tab_pge&query=%EC%BD%94%EC%8A%A4%ED%94%BC%20%EA%B2%BD%EC%A0%9C&sort=0&photo=0&field=0&pd=3&ds=2021.07.19&de=2021.07.19&cluster_rank=10&mynews=0&office_type=0&office_section_code=0&news_office_checked=&nso=so:r,p:from20210719to20210719,a:all&start=11\n",
      "https://search.naver.com/search.naver?where=news&sm=tab_pge&query=%EC%BD%94%EC%8A%A4%ED%94%BC%20%EA%B2%BD%EC%A0%9C&sort=0&photo=0&field=0&pd=3&ds=2021.07.19&de=2021.07.19&cluster_rank=21&mynews=0&office_type=0&office_section_code=0&news_office_checked=&nso=so:r,p:from20210719to20210719,a:all&start=21\n",
      "크롤링 준비\n"
     ]
    },
    {
     "name": "stderr",
     "output_type": "stream",
     "text": [
      "\n",
      "\n",
      "preprocessing day:  61%|██████████████████████████████████████▌                        | 19/31 [02:15<01:27,  7.25s/it]\u001b[A\u001b[A"
     ]
    },
    {
     "name": "stdout",
     "output_type": "stream",
     "text": [
      "다음날짜로 선택시작\n",
      "다음 날짜 선택 후 크롤링 준비\n",
      "https://search.naver.com/search.naver?where=news&query=%EC%BD%94%EC%8A%A4%ED%94%BC%20%EA%B2%BD%EC%A0%9C&sm=tab_opt&sort=0&photo=0&field=0&pd=3&ds=2021.07.20&de=2021.07.20&docid=&related=0&mynews=0&office_type=0&office_section_code=0&news_office_checked=&nso=so%3Ar%2Cp%3Afrom20210720to20210720&is_sug_officeid=0\n",
      "https://search.naver.com/search.naver?where=news&sm=tab_pge&query=%EC%BD%94%EC%8A%A4%ED%94%BC%20%EA%B2%BD%EC%A0%9C&sort=0&photo=0&field=0&pd=3&ds=2021.07.20&de=2021.07.20&cluster_rank=19&mynews=0&office_type=0&office_section_code=0&news_office_checked=&nso=so:r,p:from20210720to20210720,a:all&start=11\n",
      "https://search.naver.com/search.naver?where=news&sm=tab_pge&query=%EC%BD%94%EC%8A%A4%ED%94%BC%20%EA%B2%BD%EC%A0%9C&sort=0&photo=0&field=0&pd=3&ds=2021.07.20&de=2021.07.20&cluster_rank=29&mynews=0&office_type=0&office_section_code=0&news_office_checked=&nso=so:r,p:from20210720to20210720,a:all&start=21\n",
      "크롤링 준비\n"
     ]
    },
    {
     "name": "stderr",
     "output_type": "stream",
     "text": [
      "\n",
      "\n",
      "preprocessing day:  65%|████████████████████████████████████████▋                      | 20/31 [02:23<01:20,  7.33s/it]\u001b[A\u001b[A"
     ]
    },
    {
     "name": "stdout",
     "output_type": "stream",
     "text": [
      "다음날짜로 선택시작\n",
      "다음 날짜 선택 후 크롤링 준비\n",
      "https://search.naver.com/search.naver?where=news&query=%EC%BD%94%EC%8A%A4%ED%94%BC%20%EA%B2%BD%EC%A0%9C&sm=tab_opt&sort=0&photo=0&field=0&pd=3&ds=2021.07.21&de=2021.07.21&docid=&related=0&mynews=0&office_type=0&office_section_code=0&news_office_checked=&nso=so%3Ar%2Cp%3Afrom20210721to20210721&is_sug_officeid=0\n",
      "https://search.naver.com/search.naver?where=news&sm=tab_pge&query=%EC%BD%94%EC%8A%A4%ED%94%BC%20%EA%B2%BD%EC%A0%9C&sort=0&photo=0&field=0&pd=3&ds=2021.07.21&de=2021.07.21&cluster_rank=10&mynews=0&office_type=0&office_section_code=0&news_office_checked=&nso=so:r,p:from20210721to20210721,a:all&start=11\n",
      "https://search.naver.com/search.naver?where=news&sm=tab_pge&query=%EC%BD%94%EC%8A%A4%ED%94%BC%20%EA%B2%BD%EC%A0%9C&sort=0&photo=0&field=0&pd=3&ds=2021.07.21&de=2021.07.21&cluster_rank=21&mynews=0&office_type=0&office_section_code=0&news_office_checked=&nso=so:r,p:from20210721to20210721,a:all&start=21\n",
      "크롤링 준비\n"
     ]
    },
    {
     "name": "stderr",
     "output_type": "stream",
     "text": [
      "\n",
      "\n",
      "preprocessing day:  68%|██████████████████████████████████████████▋                    | 21/31 [02:31<01:16,  7.65s/it]\u001b[A\u001b[A"
     ]
    },
    {
     "name": "stdout",
     "output_type": "stream",
     "text": [
      "다음날짜로 선택시작\n",
      "다음 날짜 선택 후 크롤링 준비\n",
      "https://search.naver.com/search.naver?where=news&query=%EC%BD%94%EC%8A%A4%ED%94%BC%20%EA%B2%BD%EC%A0%9C&sm=tab_opt&sort=0&photo=0&field=0&pd=3&ds=2021.07.22&de=2021.07.22&docid=&related=0&mynews=0&office_type=0&office_section_code=0&news_office_checked=&nso=so%3Ar%2Cp%3Afrom20210722to20210722&is_sug_officeid=0\n",
      "https://search.naver.com/search.naver?where=news&sm=tab_pge&query=%EC%BD%94%EC%8A%A4%ED%94%BC%20%EA%B2%BD%EC%A0%9C&sort=0&photo=0&field=0&pd=3&ds=2021.07.22&de=2021.07.22&cluster_rank=12&mynews=0&office_type=0&office_section_code=0&news_office_checked=&nso=so:r,p:from20210722to20210722,a:all&start=11\n",
      "https://search.naver.com/search.naver?where=news&sm=tab_pge&query=%EC%BD%94%EC%8A%A4%ED%94%BC%20%EA%B2%BD%EC%A0%9C&sort=0&photo=0&field=0&pd=3&ds=2021.07.22&de=2021.07.22&cluster_rank=23&mynews=0&office_type=0&office_section_code=0&news_office_checked=&nso=so:r,p:from20210722to20210722,a:all&start=21\n",
      "크롤링 준비\n"
     ]
    },
    {
     "name": "stderr",
     "output_type": "stream",
     "text": [
      "\n",
      "\n",
      "preprocessing day:  71%|████████████████████████████████████████████▋                  | 22/31 [02:39<01:08,  7.62s/it]\u001b[A\u001b[A"
     ]
    },
    {
     "name": "stdout",
     "output_type": "stream",
     "text": [
      "다음날짜로 선택시작\n",
      "다음 날짜 선택 후 크롤링 준비\n",
      "https://search.naver.com/search.naver?where=news&query=%EC%BD%94%EC%8A%A4%ED%94%BC%20%EA%B2%BD%EC%A0%9C&sm=tab_opt&sort=0&photo=0&field=0&pd=3&ds=2021.07.23&de=2021.07.23&docid=&related=0&mynews=0&office_type=0&office_section_code=0&news_office_checked=&nso=so%3Ar%2Cp%3Afrom20210723to20210723&is_sug_officeid=0\n",
      "https://search.naver.com/search.naver?where=news&sm=tab_pge&query=%EC%BD%94%EC%8A%A4%ED%94%BC%20%EA%B2%BD%EC%A0%9C&sort=0&photo=0&field=0&pd=3&ds=2021.07.23&de=2021.07.23&cluster_rank=13&mynews=0&office_type=0&office_section_code=0&news_office_checked=&nso=so:r,p:from20210723to20210723,a:all&start=11\n",
      "https://search.naver.com/search.naver?where=news&sm=tab_pge&query=%EC%BD%94%EC%8A%A4%ED%94%BC%20%EA%B2%BD%EC%A0%9C&sort=0&photo=0&field=0&pd=3&ds=2021.07.23&de=2021.07.23&cluster_rank=23&mynews=0&office_type=0&office_section_code=0&news_office_checked=&nso=so:r,p:from20210723to20210723,a:all&start=21\n",
      "크롤링 준비\n"
     ]
    },
    {
     "name": "stderr",
     "output_type": "stream",
     "text": [
      "\n",
      "\n",
      "preprocessing day:  74%|██████████████████████████████████████████████▋                | 23/31 [02:46<01:00,  7.55s/it]\u001b[A\u001b[A"
     ]
    },
    {
     "name": "stdout",
     "output_type": "stream",
     "text": [
      "다음날짜로 선택시작\n",
      "다음 날짜 선택 후 크롤링 준비\n",
      "https://search.naver.com/search.naver?where=news&query=%EC%BD%94%EC%8A%A4%ED%94%BC%20%EA%B2%BD%EC%A0%9C&sm=tab_opt&sort=0&photo=0&field=0&pd=3&ds=2021.07.24&de=2021.07.24&docid=&related=0&mynews=0&office_type=0&office_section_code=0&news_office_checked=&nso=so%3Ar%2Cp%3Afrom20210724to20210724&is_sug_officeid=0\n",
      "https://search.naver.com/search.naver?where=news&query=%EC%BD%94%EC%8A%A4%ED%94%BC%20%EA%B2%BD%EC%A0%9C&sm=tab_opt&sort=0&photo=0&field=0&pd=3&ds=2021.07.24&de=2021.07.24&docid=&related=0&mynews=0&office_type=0&office_section_code=0&news_office_checked=&nso=so%3Ar%2Cp%3Afrom20210724to20210724&is_sug_officeid=0\n",
      "크롤링 준비\n"
     ]
    },
    {
     "name": "stderr",
     "output_type": "stream",
     "text": [
      "\n",
      "\n",
      "preprocessing day:  77%|████████████████████████████████████████████████▊              | 24/31 [02:52<00:50,  7.17s/it]\u001b[A\u001b[A"
     ]
    },
    {
     "name": "stdout",
     "output_type": "stream",
     "text": [
      "다음날짜로 선택시작\n",
      "다음 날짜 선택 후 크롤링 준비\n",
      "https://search.naver.com/search.naver?where=news&query=%EC%BD%94%EC%8A%A4%ED%94%BC%20%EA%B2%BD%EC%A0%9C&sm=tab_opt&sort=0&photo=0&field=0&pd=3&ds=2021.07.25&de=2021.07.25&docid=&related=0&mynews=0&office_type=0&office_section_code=0&news_office_checked=&nso=so%3Ar%2Cp%3Afrom20210725to20210725&is_sug_officeid=0\n",
      "https://search.naver.com/search.naver?where=news&sm=tab_pge&query=%EC%BD%94%EC%8A%A4%ED%94%BC%20%EA%B2%BD%EC%A0%9C&sort=0&photo=0&field=0&pd=3&ds=2021.07.25&de=2021.07.25&cluster_rank=11&mynews=0&office_type=0&office_section_code=0&news_office_checked=&nso=so:r,p:from20210725to20210725,a:all&start=11\n",
      "https://search.naver.com/search.naver?where=news&sm=tab_pge&query=%EC%BD%94%EC%8A%A4%ED%94%BC%20%EA%B2%BD%EC%A0%9C&sort=0&photo=0&field=0&pd=3&ds=2021.07.25&de=2021.07.25&cluster_rank=22&mynews=0&office_type=0&office_section_code=0&news_office_checked=&nso=so:r,p:from20210725to20210725,a:all&start=21\n",
      "크롤링 준비\n"
     ]
    },
    {
     "name": "stderr",
     "output_type": "stream",
     "text": [
      "\n",
      "\n",
      "preprocessing day:  81%|██████████████████████████████████████████████████▊            | 25/31 [03:00<00:43,  7.33s/it]\u001b[A\u001b[A"
     ]
    },
    {
     "name": "stdout",
     "output_type": "stream",
     "text": [
      "다음날짜로 선택시작\n",
      "다음 날짜 선택 후 크롤링 준비\n",
      "https://search.naver.com/search.naver?where=news&query=%EC%BD%94%EC%8A%A4%ED%94%BC%20%EA%B2%BD%EC%A0%9C&sm=tab_opt&sort=0&photo=0&field=0&pd=3&ds=2021.07.26&de=2021.07.26&docid=&related=0&mynews=0&office_type=0&office_section_code=0&news_office_checked=&nso=so%3Ar%2Cp%3Afrom20210726to20210726&is_sug_officeid=0\n",
      "https://search.naver.com/search.naver?where=news&sm=tab_pge&query=%EC%BD%94%EC%8A%A4%ED%94%BC%20%EA%B2%BD%EC%A0%9C&sort=0&photo=0&field=0&pd=3&ds=2021.07.26&de=2021.07.26&cluster_rank=17&mynews=0&office_type=0&office_section_code=0&news_office_checked=&nso=so:r,p:from20210726to20210726,a:all&start=11\n",
      "https://search.naver.com/search.naver?where=news&sm=tab_pge&query=%EC%BD%94%EC%8A%A4%ED%94%BC%20%EA%B2%BD%EC%A0%9C&sort=0&photo=0&field=0&pd=3&ds=2021.07.26&de=2021.07.26&cluster_rank=27&mynews=0&office_type=0&office_section_code=0&news_office_checked=&nso=so:r,p:from20210726to20210726,a:all&start=21\n",
      "크롤링 준비\n"
     ]
    },
    {
     "name": "stderr",
     "output_type": "stream",
     "text": [
      "\n",
      "\n",
      "preprocessing day:  84%|████████████████████████████████████████████████████▊          | 26/31 [03:08<00:37,  7.44s/it]\u001b[A\u001b[A"
     ]
    },
    {
     "name": "stdout",
     "output_type": "stream",
     "text": [
      "다음날짜로 선택시작\n",
      "다음 날짜 선택 후 크롤링 준비\n",
      "https://search.naver.com/search.naver?where=news&query=%EC%BD%94%EC%8A%A4%ED%94%BC%20%EA%B2%BD%EC%A0%9C&sm=tab_opt&sort=0&photo=0&field=0&pd=3&ds=2021.07.27&de=2021.07.27&docid=&related=0&mynews=0&office_type=0&office_section_code=0&news_office_checked=&nso=so%3Ar%2Cp%3Afrom20210727to20210727&is_sug_officeid=0\n",
      "https://search.naver.com/search.naver?where=news&sm=tab_pge&query=%EC%BD%94%EC%8A%A4%ED%94%BC%20%EA%B2%BD%EC%A0%9C&sort=0&photo=0&field=0&pd=3&ds=2021.07.27&de=2021.07.27&cluster_rank=10&mynews=0&office_type=0&office_section_code=0&news_office_checked=&nso=so:r,p:from20210727to20210727,a:all&start=11\n",
      "https://search.naver.com/search.naver?where=news&sm=tab_pge&query=%EC%BD%94%EC%8A%A4%ED%94%BC%20%EA%B2%BD%EC%A0%9C&sort=0&photo=0&field=0&pd=3&ds=2021.07.27&de=2021.07.27&cluster_rank=24&mynews=0&office_type=0&office_section_code=0&news_office_checked=&nso=so:r,p:from20210727to20210727,a:all&start=21\n",
      "크롤링 준비\n"
     ]
    },
    {
     "name": "stderr",
     "output_type": "stream",
     "text": [
      "\n",
      "\n",
      "preprocessing day:  87%|██████████████████████████████████████████████████████▊        | 27/31 [03:15<00:29,  7.49s/it]\u001b[A\u001b[A"
     ]
    },
    {
     "name": "stdout",
     "output_type": "stream",
     "text": [
      "다음날짜로 선택시작\n",
      "다음 날짜 선택 후 크롤링 준비\n",
      "https://search.naver.com/search.naver?where=news&query=%EC%BD%94%EC%8A%A4%ED%94%BC%20%EA%B2%BD%EC%A0%9C&sm=tab_opt&sort=0&photo=0&field=0&pd=3&ds=2021.07.28&de=2021.07.28&docid=&related=0&mynews=0&office_type=0&office_section_code=0&news_office_checked=&nso=so%3Ar%2Cp%3Afrom20210728to20210728&is_sug_officeid=0\n",
      "https://search.naver.com/search.naver?where=news&sm=tab_pge&query=%EC%BD%94%EC%8A%A4%ED%94%BC%20%EA%B2%BD%EC%A0%9C&sort=0&photo=0&field=0&pd=3&ds=2021.07.28&de=2021.07.28&cluster_rank=11&mynews=0&office_type=0&office_section_code=0&news_office_checked=&nso=so:r,p:from20210728to20210728,a:all&start=11\n",
      "https://search.naver.com/search.naver?where=news&sm=tab_pge&query=%EC%BD%94%EC%8A%A4%ED%94%BC%20%EA%B2%BD%EC%A0%9C&sort=0&photo=0&field=0&pd=3&ds=2021.07.28&de=2021.07.28&cluster_rank=23&mynews=0&office_type=0&office_section_code=0&news_office_checked=&nso=so:r,p:from20210728to20210728,a:all&start=21\n",
      "크롤링 준비\n"
     ]
    },
    {
     "name": "stderr",
     "output_type": "stream",
     "text": [
      "\n",
      "\n",
      "preprocessing day:  90%|████████████████████████████████████████████████████████▉      | 28/31 [03:23<00:22,  7.45s/it]\u001b[A\u001b[A"
     ]
    },
    {
     "name": "stdout",
     "output_type": "stream",
     "text": [
      "다음날짜로 선택시작\n",
      "다음 날짜 선택 후 크롤링 준비\n",
      "https://search.naver.com/search.naver?where=news&query=%EC%BD%94%EC%8A%A4%ED%94%BC%20%EA%B2%BD%EC%A0%9C&sm=tab_opt&sort=0&photo=0&field=0&pd=3&ds=2021.07.29&de=2021.07.29&docid=&related=0&mynews=0&office_type=0&office_section_code=0&news_office_checked=&nso=so%3Ar%2Cp%3Afrom20210729to20210729&is_sug_officeid=0\n",
      "https://search.naver.com/search.naver?where=news&sm=tab_pge&query=%EC%BD%94%EC%8A%A4%ED%94%BC%20%EA%B2%BD%EC%A0%9C&sort=0&photo=0&field=0&pd=3&ds=2021.07.29&de=2021.07.29&cluster_rank=10&mynews=0&office_type=0&office_section_code=0&news_office_checked=&nso=so:r,p:from20210729to20210729,a:all&start=11\n",
      "https://search.naver.com/search.naver?where=news&sm=tab_pge&query=%EC%BD%94%EC%8A%A4%ED%94%BC%20%EA%B2%BD%EC%A0%9C&sort=0&photo=0&field=0&pd=3&ds=2021.07.29&de=2021.07.29&cluster_rank=20&mynews=0&office_type=0&office_section_code=0&news_office_checked=&nso=so:r,p:from20210729to20210729,a:all&start=21\n",
      "크롤링 준비\n"
     ]
    },
    {
     "name": "stderr",
     "output_type": "stream",
     "text": [
      "\n",
      "\n",
      "preprocessing day:  94%|██████████████████████████████████████████████████████████▉    | 29/31 [03:31<00:15,  7.78s/it]\u001b[A\u001b[A"
     ]
    },
    {
     "name": "stdout",
     "output_type": "stream",
     "text": [
      "다음날짜로 선택시작\n",
      "다음 날짜 선택 후 크롤링 준비\n",
      "https://search.naver.com/search.naver?where=news&query=%EC%BD%94%EC%8A%A4%ED%94%BC%20%EA%B2%BD%EC%A0%9C&sm=tab_opt&sort=0&photo=0&field=0&pd=3&ds=2021.07.30&de=2021.07.30&docid=&related=0&mynews=0&office_type=0&office_section_code=0&news_office_checked=&nso=so%3Ar%2Cp%3Afrom20210730to20210730&is_sug_officeid=0\n",
      "https://search.naver.com/search.naver?where=news&sm=tab_pge&query=%EC%BD%94%EC%8A%A4%ED%94%BC%20%EA%B2%BD%EC%A0%9C&sort=0&photo=0&field=0&pd=3&ds=2021.07.30&de=2021.07.30&cluster_rank=11&mynews=0&office_type=0&office_section_code=0&news_office_checked=&nso=so:r,p:from20210730to20210730,a:all&start=11\n",
      "https://search.naver.com/search.naver?where=news&sm=tab_pge&query=%EC%BD%94%EC%8A%A4%ED%94%BC%20%EA%B2%BD%EC%A0%9C&sort=0&photo=0&field=0&pd=3&ds=2021.07.30&de=2021.07.30&cluster_rank=24&mynews=0&office_type=0&office_section_code=0&news_office_checked=&nso=so:r,p:from20210730to20210730,a:all&start=21\n",
      "크롤링 준비\n"
     ]
    },
    {
     "name": "stderr",
     "output_type": "stream",
     "text": [
      "\n",
      "\n",
      "preprocessing day:  97%|████████████████████████████████████████████████████████████▉  | 30/31 [03:39<00:07,  7.80s/it]\u001b[A\u001b[A"
     ]
    },
    {
     "name": "stdout",
     "output_type": "stream",
     "text": [
      "다음날짜로 선택시작\n",
      "다음 날짜 선택 후 크롤링 준비\n",
      "https://search.naver.com/search.naver?where=news&query=%EC%BD%94%EC%8A%A4%ED%94%BC%20%EA%B2%BD%EC%A0%9C&sm=tab_opt&sort=0&photo=0&field=0&pd=3&ds=2021.07.31&de=2021.07.31&docid=&related=0&mynews=0&office_type=0&office_section_code=0&news_office_checked=&nso=so%3Ar%2Cp%3Afrom20210731to20210731&is_sug_officeid=0\n",
      "https://search.naver.com/search.naver?where=news&query=%EC%BD%94%EC%8A%A4%ED%94%BC%20%EA%B2%BD%EC%A0%9C&sm=tab_opt&sort=0&photo=0&field=0&pd=3&ds=2021.07.31&de=2021.07.31&docid=&related=0&mynews=0&office_type=0&office_section_code=0&news_office_checked=&nso=so%3Ar%2Cp%3Afrom20210731to20210731&is_sug_officeid=0\n",
      "크롤링 준비\n"
     ]
    },
    {
     "name": "stderr",
     "output_type": "stream",
     "text": [
      "\n",
      "\n",
      "preprocessing day: 100%|███████████████████████████████████████████████████████████████| 31/31 [03:46<00:00,  7.30s/it]\u001b[A\u001b[A\n",
      "\n",
      "preprocessing month:  58%|███████████████████████████████████▌                         | 7/12 [25:13<18:12, 218.49s/it]\u001b[A"
     ]
    },
    {
     "name": "stdout",
     "output_type": "stream",
     "text": [
      "다음날짜로 선택시작\n"
     ]
    },
    {
     "name": "stderr",
     "output_type": "stream",
     "text": [
      "\n",
      "\n",
      "preprocessing day:   0%|                                                                        | 0/31 [00:00<?, ?it/s]\u001b[A\u001b[A"
     ]
    },
    {
     "name": "stdout",
     "output_type": "stream",
     "text": [
      "다음 날짜 선택 후 크롤링 준비\n",
      "https://search.naver.com/search.naver?where=news&query=%EC%BD%94%EC%8A%A4%ED%94%BC%20%EA%B2%BD%EC%A0%9C&sm=tab_opt&sort=0&photo=0&field=0&pd=3&ds=2021.08.01&de=2021.08.01&docid=&related=0&mynews=0&office_type=0&office_section_code=0&news_office_checked=&nso=so%3Ar%2Cp%3Afrom20210801to20210801&is_sug_officeid=0\n",
      "https://search.naver.com/search.naver?where=news&sm=tab_pge&query=%EC%BD%94%EC%8A%A4%ED%94%BC%20%EA%B2%BD%EC%A0%9C&sort=0&photo=0&field=0&pd=3&ds=2021.08.01&de=2021.08.01&cluster_rank=18&mynews=0&office_type=0&office_section_code=0&news_office_checked=&nso=so:r,p:from20210801to20210801,a:all&start=11\n",
      "https://search.naver.com/search.naver?where=news&sm=tab_pge&query=%EC%BD%94%EC%8A%A4%ED%94%BC%20%EA%B2%BD%EC%A0%9C&sort=0&photo=0&field=0&pd=3&ds=2021.08.01&de=2021.08.01&cluster_rank=29&mynews=0&office_type=0&office_section_code=0&news_office_checked=&nso=so:r,p:from20210801to20210801,a:all&start=21\n",
      "크롤링 준비\n"
     ]
    },
    {
     "name": "stderr",
     "output_type": "stream",
     "text": [
      "\n",
      "\n",
      "preprocessing day:   3%|██                                                              | 1/31 [00:07<03:39,  7.33s/it]\u001b[A\u001b[A"
     ]
    },
    {
     "name": "stdout",
     "output_type": "stream",
     "text": [
      "다음날짜로 선택시작\n",
      "다음 날짜 선택 후 크롤링 준비\n",
      "https://search.naver.com/search.naver?where=news&query=%EC%BD%94%EC%8A%A4%ED%94%BC%20%EA%B2%BD%EC%A0%9C&sm=tab_opt&sort=0&photo=0&field=0&pd=3&ds=2021.08.02&de=2021.08.02&docid=&related=0&mynews=0&office_type=0&office_section_code=0&news_office_checked=&nso=so%3Ar%2Cp%3Afrom20210802to20210802&is_sug_officeid=0\n",
      "https://search.naver.com/search.naver?where=news&sm=tab_pge&query=%EC%BD%94%EC%8A%A4%ED%94%BC%20%EA%B2%BD%EC%A0%9C&sort=0&photo=0&field=0&pd=3&ds=2021.08.02&de=2021.08.02&cluster_rank=10&mynews=0&office_type=0&office_section_code=0&news_office_checked=&nso=so:r,p:from20210802to20210802,a:all&start=11\n",
      "https://search.naver.com/search.naver?where=news&sm=tab_pge&query=%EC%BD%94%EC%8A%A4%ED%94%BC%20%EA%B2%BD%EC%A0%9C&sort=0&photo=0&field=0&pd=3&ds=2021.08.02&de=2021.08.02&cluster_rank=21&mynews=0&office_type=0&office_section_code=0&news_office_checked=&nso=so:r,p:from20210802to20210802,a:all&start=21\n",
      "크롤링 준비\n"
     ]
    },
    {
     "name": "stderr",
     "output_type": "stream",
     "text": [
      "\n",
      "\n",
      "preprocessing day:   6%|████▏                                                           | 2/31 [00:14<03:32,  7.33s/it]\u001b[A\u001b[A"
     ]
    },
    {
     "name": "stdout",
     "output_type": "stream",
     "text": [
      "다음날짜로 선택시작\n",
      "다음 날짜 선택 후 크롤링 준비\n",
      "https://search.naver.com/search.naver?where=news&query=%EC%BD%94%EC%8A%A4%ED%94%BC%20%EA%B2%BD%EC%A0%9C&sm=tab_opt&sort=0&photo=0&field=0&pd=3&ds=2021.08.03&de=2021.08.03&docid=&related=0&mynews=0&office_type=0&office_section_code=0&news_office_checked=&nso=so%3Ar%2Cp%3Afrom20210803to20210803&is_sug_officeid=0\n",
      "https://search.naver.com/search.naver?where=news&sm=tab_pge&query=%EC%BD%94%EC%8A%A4%ED%94%BC%20%EA%B2%BD%EC%A0%9C&sort=0&photo=0&field=0&pd=3&ds=2021.08.03&de=2021.08.03&cluster_rank=11&mynews=0&office_type=0&office_section_code=0&news_office_checked=&nso=so:r,p:from20210803to20210803,a:all&start=11\n",
      "https://search.naver.com/search.naver?where=news&sm=tab_pge&query=%EC%BD%94%EC%8A%A4%ED%94%BC%20%EA%B2%BD%EC%A0%9C&sort=0&photo=0&field=0&pd=3&ds=2021.08.03&de=2021.08.03&cluster_rank=22&mynews=0&office_type=0&office_section_code=0&news_office_checked=&nso=so:r,p:from20210803to20210803,a:all&start=21\n",
      "크롤링 준비\n"
     ]
    },
    {
     "name": "stderr",
     "output_type": "stream",
     "text": [
      "\n",
      "\n",
      "preprocessing day:  10%|██████▏                                                         | 3/31 [00:21<03:24,  7.31s/it]\u001b[A\u001b[A"
     ]
    },
    {
     "name": "stdout",
     "output_type": "stream",
     "text": [
      "다음날짜로 선택시작\n",
      "다음 날짜 선택 후 크롤링 준비\n",
      "https://search.naver.com/search.naver?where=news&query=%EC%BD%94%EC%8A%A4%ED%94%BC%20%EA%B2%BD%EC%A0%9C&sm=tab_opt&sort=0&photo=0&field=0&pd=3&ds=2021.08.04&de=2021.08.04&docid=&related=0&mynews=0&office_type=0&office_section_code=0&news_office_checked=&nso=so%3Ar%2Cp%3Afrom20210804to20210804&is_sug_officeid=0\n",
      "https://search.naver.com/search.naver?where=news&sm=tab_pge&query=%EC%BD%94%EC%8A%A4%ED%94%BC%20%EA%B2%BD%EC%A0%9C&sort=0&photo=0&field=0&pd=3&ds=2021.08.04&de=2021.08.04&cluster_rank=11&mynews=0&office_type=0&office_section_code=0&news_office_checked=&nso=so:r,p:from20210804to20210804,a:all&start=11\n",
      "https://search.naver.com/search.naver?where=news&sm=tab_pge&query=%EC%BD%94%EC%8A%A4%ED%94%BC%20%EA%B2%BD%EC%A0%9C&sort=0&photo=0&field=0&pd=3&ds=2021.08.04&de=2021.08.04&cluster_rank=22&mynews=0&office_type=0&office_section_code=0&news_office_checked=&nso=so:r,p:from20210804to20210804,a:all&start=21\n",
      "크롤링 준비\n"
     ]
    },
    {
     "name": "stderr",
     "output_type": "stream",
     "text": [
      "\n",
      "\n",
      "preprocessing day:  13%|████████▎                                                       | 4/31 [00:29<03:17,  7.32s/it]\u001b[A\u001b[A"
     ]
    },
    {
     "name": "stdout",
     "output_type": "stream",
     "text": [
      "다음날짜로 선택시작\n",
      "다음 날짜 선택 후 크롤링 준비\n",
      "https://search.naver.com/search.naver?where=news&query=%EC%BD%94%EC%8A%A4%ED%94%BC%20%EA%B2%BD%EC%A0%9C&sm=tab_opt&sort=0&photo=0&field=0&pd=3&ds=2021.08.05&de=2021.08.05&docid=&related=0&mynews=0&office_type=0&office_section_code=0&news_office_checked=&nso=so%3Ar%2Cp%3Afrom20210805to20210805&is_sug_officeid=0\n",
      "https://search.naver.com/search.naver?where=news&sm=tab_pge&query=%EC%BD%94%EC%8A%A4%ED%94%BC%20%EA%B2%BD%EC%A0%9C&sort=0&photo=0&field=0&pd=3&ds=2021.08.05&de=2021.08.05&cluster_rank=14&mynews=0&office_type=0&office_section_code=0&news_office_checked=&nso=so:r,p:from20210805to20210805,a:all&start=11\n",
      "https://search.naver.com/search.naver?where=news&sm=tab_pge&query=%EC%BD%94%EC%8A%A4%ED%94%BC%20%EA%B2%BD%EC%A0%9C&sort=0&photo=0&field=0&pd=3&ds=2021.08.05&de=2021.08.05&cluster_rank=25&mynews=0&office_type=0&office_section_code=0&news_office_checked=&nso=so:r,p:from20210805to20210805,a:all&start=21\n",
      "크롤링 준비\n"
     ]
    },
    {
     "name": "stderr",
     "output_type": "stream",
     "text": [
      "\n",
      "\n",
      "preprocessing day:  16%|██████████▎                                                     | 5/31 [00:38<03:24,  7.88s/it]\u001b[A\u001b[A"
     ]
    },
    {
     "name": "stdout",
     "output_type": "stream",
     "text": [
      "다음날짜로 선택시작\n",
      "다음 날짜 선택 후 크롤링 준비\n",
      "https://search.naver.com/search.naver?where=news&query=%EC%BD%94%EC%8A%A4%ED%94%BC%20%EA%B2%BD%EC%A0%9C&sm=tab_opt&sort=0&photo=0&field=0&pd=3&ds=2021.08.06&de=2021.08.06&docid=&related=0&mynews=0&office_type=0&office_section_code=0&news_office_checked=&nso=so%3Ar%2Cp%3Afrom20210806to20210806&is_sug_officeid=0\n",
      "https://search.naver.com/search.naver?where=news&sm=tab_pge&query=%EC%BD%94%EC%8A%A4%ED%94%BC%20%EA%B2%BD%EC%A0%9C&sort=0&photo=0&field=0&pd=3&ds=2021.08.06&de=2021.08.06&cluster_rank=12&mynews=0&office_type=0&office_section_code=0&news_office_checked=&nso=so:r,p:from20210806to20210806,a:all&start=11\n",
      "https://search.naver.com/search.naver?where=news&sm=tab_pge&query=%EC%BD%94%EC%8A%A4%ED%94%BC%20%EA%B2%BD%EC%A0%9C&sort=0&photo=0&field=0&pd=3&ds=2021.08.06&de=2021.08.06&cluster_rank=23&mynews=0&office_type=0&office_section_code=0&news_office_checked=&nso=so:r,p:from20210806to20210806,a:all&start=21\n",
      "크롤링 준비\n"
     ]
    },
    {
     "name": "stderr",
     "output_type": "stream",
     "text": [
      "\n",
      "\n",
      "preprocessing day:  19%|████████████▍                                                   | 6/31 [00:45<03:13,  7.74s/it]\u001b[A\u001b[A"
     ]
    },
    {
     "name": "stdout",
     "output_type": "stream",
     "text": [
      "다음날짜로 선택시작\n",
      "다음 날짜 선택 후 크롤링 준비\n",
      "https://search.naver.com/search.naver?where=news&query=%EC%BD%94%EC%8A%A4%ED%94%BC%20%EA%B2%BD%EC%A0%9C&sm=tab_opt&sort=0&photo=0&field=0&pd=3&ds=2021.08.07&de=2021.08.07&docid=&related=0&mynews=0&office_type=0&office_section_code=0&news_office_checked=&nso=so%3Ar%2Cp%3Afrom20210807to20210807&is_sug_officeid=0\n",
      "https://search.naver.com/search.naver?where=news&query=%EC%BD%94%EC%8A%A4%ED%94%BC%20%EA%B2%BD%EC%A0%9C&sm=tab_opt&sort=0&photo=0&field=0&pd=3&ds=2021.08.07&de=2021.08.07&docid=&related=0&mynews=0&office_type=0&office_section_code=0&news_office_checked=&nso=so%3Ar%2Cp%3Afrom20210807to20210807&is_sug_officeid=0\n",
      "크롤링 준비\n"
     ]
    },
    {
     "name": "stderr",
     "output_type": "stream",
     "text": [
      "\n",
      "\n",
      "preprocessing day:  23%|██████████████▍                                                 | 7/31 [00:52<03:00,  7.51s/it]\u001b[A\u001b[A"
     ]
    },
    {
     "name": "stdout",
     "output_type": "stream",
     "text": [
      "다음날짜로 선택시작\n",
      "다음 날짜 선택 후 크롤링 준비\n",
      "https://search.naver.com/search.naver?where=news&query=%EC%BD%94%EC%8A%A4%ED%94%BC%20%EA%B2%BD%EC%A0%9C&sm=tab_opt&sort=0&photo=0&field=0&pd=3&ds=2021.08.08&de=2021.08.08&docid=&related=0&mynews=0&office_type=0&office_section_code=0&news_office_checked=&nso=so%3Ar%2Cp%3Afrom20210808to20210808&is_sug_officeid=0\n",
      "https://search.naver.com/search.naver?where=news&sm=tab_pge&query=%EC%BD%94%EC%8A%A4%ED%94%BC%20%EA%B2%BD%EC%A0%9C&sort=0&photo=0&field=0&pd=3&ds=2021.08.08&de=2021.08.08&cluster_rank=12&mynews=0&office_type=0&office_section_code=0&news_office_checked=&nso=so:r,p:from20210808to20210808,a:all&start=11\n",
      "https://search.naver.com/search.naver?where=news&sm=tab_pge&query=%EC%BD%94%EC%8A%A4%ED%94%BC%20%EA%B2%BD%EC%A0%9C&sort=0&photo=0&field=0&pd=3&ds=2021.08.08&de=2021.08.08&cluster_rank=22&mynews=0&office_type=0&office_section_code=0&news_office_checked=&nso=so:r,p:from20210808to20210808,a:all&start=21\n",
      "크롤링 준비\n"
     ]
    },
    {
     "name": "stderr",
     "output_type": "stream",
     "text": [
      "\n",
      "\n",
      "preprocessing day:  26%|████████████████▌                                               | 8/31 [01:00<02:55,  7.61s/it]\u001b[A\u001b[A"
     ]
    },
    {
     "name": "stdout",
     "output_type": "stream",
     "text": [
      "다음날짜로 선택시작\n",
      "다음 날짜 선택 후 크롤링 준비\n",
      "https://search.naver.com/search.naver?where=news&query=%EC%BD%94%EC%8A%A4%ED%94%BC%20%EA%B2%BD%EC%A0%9C&sm=tab_opt&sort=0&photo=0&field=0&pd=3&ds=2021.08.09&de=2021.08.09&docid=&related=0&mynews=0&office_type=0&office_section_code=0&news_office_checked=&nso=so%3Ar%2Cp%3Afrom20210809to20210809&is_sug_officeid=0\n",
      "https://search.naver.com/search.naver?where=news&sm=tab_pge&query=%EC%BD%94%EC%8A%A4%ED%94%BC%20%EA%B2%BD%EC%A0%9C&sort=0&photo=0&field=0&pd=3&ds=2021.08.09&de=2021.08.09&cluster_rank=10&mynews=0&office_type=0&office_section_code=0&news_office_checked=&nso=so:r,p:from20210809to20210809,a:all&start=11\n",
      "https://search.naver.com/search.naver?where=news&sm=tab_pge&query=%EC%BD%94%EC%8A%A4%ED%94%BC%20%EA%B2%BD%EC%A0%9C&sort=0&photo=0&field=0&pd=3&ds=2021.08.09&de=2021.08.09&cluster_rank=24&mynews=0&office_type=0&office_section_code=0&news_office_checked=&nso=so:r,p:from20210809to20210809,a:all&start=21\n",
      "크롤링 준비\n"
     ]
    },
    {
     "name": "stderr",
     "output_type": "stream",
     "text": [
      "\n",
      "\n",
      "preprocessing day:  29%|██████████████████▌                                             | 9/31 [01:08<02:48,  7.64s/it]\u001b[A\u001b[A"
     ]
    },
    {
     "name": "stdout",
     "output_type": "stream",
     "text": [
      "다음날짜로 선택시작\n",
      "다음 날짜 선택 후 크롤링 준비\n",
      "https://search.naver.com/search.naver?where=news&query=%EC%BD%94%EC%8A%A4%ED%94%BC%20%EA%B2%BD%EC%A0%9C&sm=tab_opt&sort=0&photo=0&field=0&pd=3&ds=2021.08.10&de=2021.08.10&docid=&related=0&mynews=0&office_type=0&office_section_code=0&news_office_checked=&nso=so%3Ar%2Cp%3Afrom20210810to20210810&is_sug_officeid=0\n",
      "https://search.naver.com/search.naver?where=news&sm=tab_pge&query=%EC%BD%94%EC%8A%A4%ED%94%BC%20%EA%B2%BD%EC%A0%9C&sort=0&photo=0&field=0&pd=3&ds=2021.08.10&de=2021.08.10&cluster_rank=12&mynews=0&office_type=0&office_section_code=0&news_office_checked=&nso=so:r,p:from20210810to20210810,a:all&start=11\n",
      "https://search.naver.com/search.naver?where=news&sm=tab_pge&query=%EC%BD%94%EC%8A%A4%ED%94%BC%20%EA%B2%BD%EC%A0%9C&sort=0&photo=0&field=0&pd=3&ds=2021.08.10&de=2021.08.10&cluster_rank=25&mynews=0&office_type=0&office_section_code=0&news_office_checked=&nso=so:r,p:from20210810to20210810,a:all&start=21\n",
      "크롤링 준비\n"
     ]
    },
    {
     "name": "stderr",
     "output_type": "stream",
     "text": [
      "\n",
      "\n",
      "preprocessing day:  32%|████████████████████▎                                          | 10/31 [01:15<02:40,  7.63s/it]\u001b[A\u001b[A"
     ]
    },
    {
     "name": "stdout",
     "output_type": "stream",
     "text": [
      "다음날짜로 선택시작\n",
      "다음 날짜 선택 후 크롤링 준비\n",
      "https://search.naver.com/search.naver?where=news&query=%EC%BD%94%EC%8A%A4%ED%94%BC%20%EA%B2%BD%EC%A0%9C&sm=tab_opt&sort=0&photo=0&field=0&pd=3&ds=2021.08.11&de=2021.08.11&docid=&related=0&mynews=0&office_type=0&office_section_code=0&news_office_checked=&nso=so%3Ar%2Cp%3Afrom20210811to20210811&is_sug_officeid=0\n",
      "https://search.naver.com/search.naver?where=news&sm=tab_pge&query=%EC%BD%94%EC%8A%A4%ED%94%BC%20%EA%B2%BD%EC%A0%9C&sort=0&photo=0&field=0&pd=3&ds=2021.08.11&de=2021.08.11&cluster_rank=14&mynews=0&office_type=0&office_section_code=0&news_office_checked=&nso=so:r,p:from20210811to20210811,a:all&start=11\n",
      "https://search.naver.com/search.naver?where=news&sm=tab_pge&query=%EC%BD%94%EC%8A%A4%ED%94%BC%20%EA%B2%BD%EC%A0%9C&sort=0&photo=0&field=0&pd=3&ds=2021.08.11&de=2021.08.11&cluster_rank=24&mynews=0&office_type=0&office_section_code=0&news_office_checked=&nso=so:r,p:from20210811to20210811,a:all&start=21\n",
      "크롤링 준비\n"
     ]
    },
    {
     "name": "stderr",
     "output_type": "stream",
     "text": [
      "\n",
      "\n",
      "preprocessing day:  35%|██████████████████████▎                                        | 11/31 [01:22<02:29,  7.48s/it]\u001b[A\u001b[A"
     ]
    },
    {
     "name": "stdout",
     "output_type": "stream",
     "text": [
      "다음날짜로 선택시작\n",
      "다음 날짜 선택 후 크롤링 준비\n",
      "https://search.naver.com/search.naver?where=news&query=%EC%BD%94%EC%8A%A4%ED%94%BC%20%EA%B2%BD%EC%A0%9C&sm=tab_opt&sort=0&photo=0&field=0&pd=3&ds=2021.08.12&de=2021.08.12&docid=&related=0&mynews=0&office_type=0&office_section_code=0&news_office_checked=&nso=so%3Ar%2Cp%3Afrom20210812to20210812&is_sug_officeid=0\n",
      "https://search.naver.com/search.naver?where=news&sm=tab_pge&query=%EC%BD%94%EC%8A%A4%ED%94%BC%20%EA%B2%BD%EC%A0%9C&sort=0&photo=0&field=0&pd=3&ds=2021.08.12&de=2021.08.12&cluster_rank=10&mynews=0&office_type=0&office_section_code=0&news_office_checked=&nso=so:r,p:from20210812to20210812,a:all&start=11\n",
      "https://search.naver.com/search.naver?where=news&sm=tab_pge&query=%EC%BD%94%EC%8A%A4%ED%94%BC%20%EA%B2%BD%EC%A0%9C&sort=0&photo=0&field=0&pd=3&ds=2021.08.12&de=2021.08.12&cluster_rank=21&mynews=0&office_type=0&office_section_code=0&news_office_checked=&nso=so:r,p:from20210812to20210812,a:all&start=21\n",
      "크롤링 준비\n"
     ]
    },
    {
     "name": "stderr",
     "output_type": "stream",
     "text": [
      "\n",
      "\n",
      "preprocessing day:  39%|████████████████████████▍                                      | 12/31 [01:30<02:20,  7.39s/it]\u001b[A\u001b[A"
     ]
    },
    {
     "name": "stdout",
     "output_type": "stream",
     "text": [
      "다음날짜로 선택시작\n",
      "다음 날짜 선택 후 크롤링 준비\n",
      "https://search.naver.com/search.naver?where=news&query=%EC%BD%94%EC%8A%A4%ED%94%BC%20%EA%B2%BD%EC%A0%9C&sm=tab_opt&sort=0&photo=0&field=0&pd=3&ds=2021.08.13&de=2021.08.13&docid=&related=0&mynews=0&office_type=0&office_section_code=0&news_office_checked=&nso=so%3Ar%2Cp%3Afrom20210813to20210813&is_sug_officeid=0\n",
      "https://search.naver.com/search.naver?where=news&sm=tab_pge&query=%EC%BD%94%EC%8A%A4%ED%94%BC%20%EA%B2%BD%EC%A0%9C&sort=0&photo=0&field=0&pd=3&ds=2021.08.13&de=2021.08.13&cluster_rank=11&mynews=0&office_type=0&office_section_code=0&news_office_checked=&nso=so:r,p:from20210813to20210813,a:all&start=11\n",
      "https://search.naver.com/search.naver?where=news&sm=tab_pge&query=%EC%BD%94%EC%8A%A4%ED%94%BC%20%EA%B2%BD%EC%A0%9C&sort=0&photo=0&field=0&pd=3&ds=2021.08.13&de=2021.08.13&cluster_rank=23&mynews=0&office_type=0&office_section_code=0&news_office_checked=&nso=so:r,p:from20210813to20210813,a:all&start=21\n",
      "크롤링 준비\n"
     ]
    },
    {
     "name": "stderr",
     "output_type": "stream",
     "text": [
      "\n",
      "\n",
      "preprocessing day:  42%|██████████████████████████▍                                    | 13/31 [01:37<02:11,  7.32s/it]\u001b[A\u001b[A"
     ]
    },
    {
     "name": "stdout",
     "output_type": "stream",
     "text": [
      "다음날짜로 선택시작\n",
      "다음 날짜 선택 후 크롤링 준비\n",
      "https://search.naver.com/search.naver?where=news&query=%EC%BD%94%EC%8A%A4%ED%94%BC%20%EA%B2%BD%EC%A0%9C&sm=tab_opt&sort=0&photo=0&field=0&pd=3&ds=2021.08.14&de=2021.08.14&docid=&related=0&mynews=0&office_type=0&office_section_code=0&news_office_checked=&nso=so%3Ar%2Cp%3Afrom20210814to20210814&is_sug_officeid=0\n",
      "https://search.naver.com/search.naver?where=news&query=%EC%BD%94%EC%8A%A4%ED%94%BC%20%EA%B2%BD%EC%A0%9C&sm=tab_opt&sort=0&photo=0&field=0&pd=3&ds=2021.08.14&de=2021.08.14&docid=&related=0&mynews=0&office_type=0&office_section_code=0&news_office_checked=&nso=so%3Ar%2Cp%3Afrom20210814to20210814&is_sug_officeid=0\n",
      "크롤링 준비\n"
     ]
    },
    {
     "name": "stderr",
     "output_type": "stream",
     "text": [
      "\n",
      "\n",
      "preprocessing day:  45%|████████████████████████████▍                                  | 14/31 [01:43<01:58,  6.98s/it]\u001b[A\u001b[A"
     ]
    },
    {
     "name": "stdout",
     "output_type": "stream",
     "text": [
      "다음날짜로 선택시작\n",
      "다음 날짜 선택 후 크롤링 준비\n",
      "https://search.naver.com/search.naver?where=news&query=%EC%BD%94%EC%8A%A4%ED%94%BC%20%EA%B2%BD%EC%A0%9C&sm=tab_opt&sort=0&photo=0&field=0&pd=3&ds=2021.08.15&de=2021.08.15&docid=&related=0&mynews=0&office_type=0&office_section_code=0&news_office_checked=&nso=so%3Ar%2Cp%3Afrom20210815to20210815&is_sug_officeid=0\n",
      "https://search.naver.com/search.naver?where=news&sm=tab_pge&query=%EC%BD%94%EC%8A%A4%ED%94%BC%20%EA%B2%BD%EC%A0%9C&sort=0&photo=0&field=0&pd=3&ds=2021.08.15&de=2021.08.15&cluster_rank=11&mynews=0&office_type=0&office_section_code=0&news_office_checked=&nso=so:r,p:from20210815to20210815,a:all&start=11\n",
      "https://search.naver.com/search.naver?where=news&sm=tab_pge&query=%EC%BD%94%EC%8A%A4%ED%94%BC%20%EA%B2%BD%EC%A0%9C&sort=0&photo=0&field=0&pd=3&ds=2021.08.15&de=2021.08.15&cluster_rank=11&mynews=0&office_type=0&office_section_code=0&news_office_checked=&nso=so:r,p:from20210815to20210815,a:all&start=11\n",
      "크롤링 준비\n"
     ]
    },
    {
     "name": "stderr",
     "output_type": "stream",
     "text": [
      "\n",
      "\n",
      "preprocessing day:  48%|██████████████████████████████▍                                | 15/31 [01:50<01:51,  6.97s/it]\u001b[A\u001b[A"
     ]
    },
    {
     "name": "stdout",
     "output_type": "stream",
     "text": [
      "다음날짜로 선택시작\n",
      "다음 날짜 선택 후 크롤링 준비\n",
      "https://search.naver.com/search.naver?where=news&query=%EC%BD%94%EC%8A%A4%ED%94%BC%20%EA%B2%BD%EC%A0%9C&sm=tab_opt&sort=0&photo=0&field=0&pd=3&ds=2021.08.16&de=2021.08.16&docid=&related=0&mynews=0&office_type=0&office_section_code=0&news_office_checked=&nso=so%3Ar%2Cp%3Afrom20210816to20210816&is_sug_officeid=0\n",
      "https://search.naver.com/search.naver?where=news&sm=tab_pge&query=%EC%BD%94%EC%8A%A4%ED%94%BC%20%EA%B2%BD%EC%A0%9C&sort=0&photo=0&field=0&pd=3&ds=2021.08.16&de=2021.08.16&cluster_rank=10&mynews=0&office_type=0&office_section_code=0&news_office_checked=&nso=so:r,p:from20210816to20210816,a:all&start=11\n",
      "https://search.naver.com/search.naver?where=news&sm=tab_pge&query=%EC%BD%94%EC%8A%A4%ED%94%BC%20%EA%B2%BD%EC%A0%9C&sort=0&photo=0&field=0&pd=3&ds=2021.08.16&de=2021.08.16&cluster_rank=20&mynews=0&office_type=0&office_section_code=0&news_office_checked=&nso=so:r,p:from20210816to20210816,a:all&start=21\n",
      "크롤링 준비\n"
     ]
    },
    {
     "name": "stderr",
     "output_type": "stream",
     "text": [
      "\n",
      "\n",
      "preprocessing day:  52%|████████████████████████████████▌                              | 16/31 [01:57<01:44,  6.97s/it]\u001b[A\u001b[A"
     ]
    },
    {
     "name": "stdout",
     "output_type": "stream",
     "text": [
      "다음날짜로 선택시작\n",
      "다음 날짜 선택 후 크롤링 준비\n",
      "https://search.naver.com/search.naver?where=news&query=%EC%BD%94%EC%8A%A4%ED%94%BC%20%EA%B2%BD%EC%A0%9C&sm=tab_opt&sort=0&photo=0&field=0&pd=3&ds=2021.08.17&de=2021.08.17&docid=&related=0&mynews=0&office_type=0&office_section_code=0&news_office_checked=&nso=so%3Ar%2Cp%3Afrom20210817to20210817&is_sug_officeid=0\n",
      "https://search.naver.com/search.naver?where=news&sm=tab_pge&query=%EC%BD%94%EC%8A%A4%ED%94%BC%20%EA%B2%BD%EC%A0%9C&sort=0&photo=0&field=0&pd=3&ds=2021.08.17&de=2021.08.17&cluster_rank=20&mynews=0&office_type=0&office_section_code=0&news_office_checked=&nso=so:r,p:from20210817to20210817,a:all&start=11\n",
      "https://search.naver.com/search.naver?where=news&sm=tab_pge&query=%EC%BD%94%EC%8A%A4%ED%94%BC%20%EA%B2%BD%EC%A0%9C&sort=0&photo=0&field=0&pd=3&ds=2021.08.17&de=2021.08.17&cluster_rank=32&mynews=0&office_type=0&office_section_code=0&news_office_checked=&nso=so:r,p:from20210817to20210817,a:all&start=21\n",
      "크롤링 준비\n"
     ]
    },
    {
     "name": "stderr",
     "output_type": "stream",
     "text": [
      "\n",
      "\n",
      "preprocessing day:  55%|██████████████████████████████████▌                            | 17/31 [02:04<01:37,  6.99s/it]\u001b[A\u001b[A"
     ]
    },
    {
     "name": "stdout",
     "output_type": "stream",
     "text": [
      "다음날짜로 선택시작\n",
      "다음 날짜 선택 후 크롤링 준비\n",
      "https://search.naver.com/search.naver?where=news&query=%EC%BD%94%EC%8A%A4%ED%94%BC%20%EA%B2%BD%EC%A0%9C&sm=tab_opt&sort=0&photo=0&field=0&pd=3&ds=2021.08.18&de=2021.08.18&docid=&related=0&mynews=0&office_type=0&office_section_code=0&news_office_checked=&nso=so%3Ar%2Cp%3Afrom20210818to20210818&is_sug_officeid=0\n",
      "https://search.naver.com/search.naver?where=news&sm=tab_pge&query=%EC%BD%94%EC%8A%A4%ED%94%BC%20%EA%B2%BD%EC%A0%9C&sort=0&photo=0&field=0&pd=3&ds=2021.08.18&de=2021.08.18&cluster_rank=16&mynews=0&office_type=0&office_section_code=0&news_office_checked=&nso=so:r,p:from20210818to20210818,a:all&start=11\n",
      "https://search.naver.com/search.naver?where=news&sm=tab_pge&query=%EC%BD%94%EC%8A%A4%ED%94%BC%20%EA%B2%BD%EC%A0%9C&sort=0&photo=0&field=0&pd=3&ds=2021.08.18&de=2021.08.18&cluster_rank=26&mynews=0&office_type=0&office_section_code=0&news_office_checked=&nso=so:r,p:from20210818to20210818,a:all&start=21\n",
      "크롤링 준비\n"
     ]
    },
    {
     "name": "stderr",
     "output_type": "stream",
     "text": [
      "\n",
      "\n",
      "preprocessing day:  58%|████████████████████████████████████▌                          | 18/31 [02:11<01:31,  7.01s/it]\u001b[A\u001b[A"
     ]
    },
    {
     "name": "stdout",
     "output_type": "stream",
     "text": [
      "다음날짜로 선택시작\n",
      "다음 날짜 선택 후 크롤링 준비\n",
      "https://search.naver.com/search.naver?where=news&query=%EC%BD%94%EC%8A%A4%ED%94%BC%20%EA%B2%BD%EC%A0%9C&sm=tab_opt&sort=0&photo=0&field=0&pd=3&ds=2021.08.19&de=2021.08.19&docid=&related=0&mynews=0&office_type=0&office_section_code=0&news_office_checked=&nso=so%3Ar%2Cp%3Afrom20210819to20210819&is_sug_officeid=0\n",
      "https://search.naver.com/search.naver?where=news&sm=tab_pge&query=%EC%BD%94%EC%8A%A4%ED%94%BC%20%EA%B2%BD%EC%A0%9C&sort=0&photo=0&field=0&pd=3&ds=2021.08.19&de=2021.08.19&cluster_rank=18&mynews=0&office_type=0&office_section_code=0&news_office_checked=&nso=so:r,p:from20210819to20210819,a:all&start=11\n",
      "https://search.naver.com/search.naver?where=news&sm=tab_pge&query=%EC%BD%94%EC%8A%A4%ED%94%BC%20%EA%B2%BD%EC%A0%9C&sort=0&photo=0&field=0&pd=3&ds=2021.08.19&de=2021.08.19&cluster_rank=29&mynews=0&office_type=0&office_section_code=0&news_office_checked=&nso=so:r,p:from20210819to20210819,a:all&start=21\n",
      "크롤링 준비\n"
     ]
    },
    {
     "name": "stderr",
     "output_type": "stream",
     "text": [
      "\n",
      "\n",
      "preprocessing day:  61%|██████████████████████████████████████▌                        | 19/31 [02:18<01:25,  7.11s/it]\u001b[A\u001b[A"
     ]
    },
    {
     "name": "stdout",
     "output_type": "stream",
     "text": [
      "다음날짜로 선택시작\n",
      "다음 날짜 선택 후 크롤링 준비\n",
      "https://search.naver.com/search.naver?where=news&query=%EC%BD%94%EC%8A%A4%ED%94%BC%20%EA%B2%BD%EC%A0%9C&sm=tab_opt&sort=0&photo=0&field=0&pd=3&ds=2021.08.20&de=2021.08.20&docid=&related=0&mynews=0&office_type=0&office_section_code=0&news_office_checked=&nso=so%3Ar%2Cp%3Afrom20210820to20210820&is_sug_officeid=0\n",
      "https://search.naver.com/search.naver?where=news&sm=tab_pge&query=%EC%BD%94%EC%8A%A4%ED%94%BC%20%EA%B2%BD%EC%A0%9C&sort=0&photo=0&field=0&pd=3&ds=2021.08.20&de=2021.08.20&cluster_rank=12&mynews=0&office_type=0&office_section_code=0&news_office_checked=&nso=so:r,p:from20210820to20210820,a:all&start=11\n",
      "https://search.naver.com/search.naver?where=news&sm=tab_pge&query=%EC%BD%94%EC%8A%A4%ED%94%BC%20%EA%B2%BD%EC%A0%9C&sort=0&photo=0&field=0&pd=3&ds=2021.08.20&de=2021.08.20&cluster_rank=22&mynews=0&office_type=0&office_section_code=0&news_office_checked=&nso=so:r,p:from20210820to20210820,a:all&start=21\n",
      "크롤링 준비\n"
     ]
    },
    {
     "name": "stderr",
     "output_type": "stream",
     "text": [
      "\n",
      "\n",
      "preprocessing day:  65%|████████████████████████████████████████▋                      | 20/31 [02:26<01:18,  7.13s/it]\u001b[A\u001b[A"
     ]
    },
    {
     "name": "stdout",
     "output_type": "stream",
     "text": [
      "다음날짜로 선택시작\n",
      "다음 날짜 선택 후 크롤링 준비\n",
      "https://search.naver.com/search.naver?where=news&query=%EC%BD%94%EC%8A%A4%ED%94%BC%20%EA%B2%BD%EC%A0%9C&sm=tab_opt&sort=0&photo=0&field=0&pd=3&ds=2021.08.21&de=2021.08.21&docid=&related=0&mynews=0&office_type=0&office_section_code=0&news_office_checked=&nso=so%3Ar%2Cp%3Afrom20210821to20210821&is_sug_officeid=0\n",
      "https://search.naver.com/search.naver?where=news&sm=tab_pge&query=%EC%BD%94%EC%8A%A4%ED%94%BC%20%EA%B2%BD%EC%A0%9C&sort=0&photo=0&field=0&pd=3&ds=2021.08.21&de=2021.08.21&cluster_rank=17&mynews=0&office_type=0&office_section_code=0&news_office_checked=&nso=so:r,p:from20210821to20210821,a:all&start=11\n",
      "https://search.naver.com/search.naver?where=news&sm=tab_pge&query=%EC%BD%94%EC%8A%A4%ED%94%BC%20%EA%B2%BD%EC%A0%9C&sort=0&photo=0&field=0&pd=3&ds=2021.08.21&de=2021.08.21&cluster_rank=17&mynews=0&office_type=0&office_section_code=0&news_office_checked=&nso=so:r,p:from20210821to20210821,a:all&start=11\n",
      "크롤링 준비\n"
     ]
    },
    {
     "name": "stderr",
     "output_type": "stream",
     "text": [
      "\n",
      "\n",
      "preprocessing day:  68%|██████████████████████████████████████████▋                    | 21/31 [02:32<01:10,  7.05s/it]\u001b[A\u001b[A"
     ]
    },
    {
     "name": "stdout",
     "output_type": "stream",
     "text": [
      "다음날짜로 선택시작\n",
      "다음 날짜 선택 후 크롤링 준비\n",
      "https://search.naver.com/search.naver?where=news&query=%EC%BD%94%EC%8A%A4%ED%94%BC%20%EA%B2%BD%EC%A0%9C&sm=tab_opt&sort=0&photo=0&field=0&pd=3&ds=2021.08.22&de=2021.08.22&docid=&related=0&mynews=0&office_type=0&office_section_code=0&news_office_checked=&nso=so%3Ar%2Cp%3Afrom20210822to20210822&is_sug_officeid=0\n",
      "https://search.naver.com/search.naver?where=news&sm=tab_pge&query=%EC%BD%94%EC%8A%A4%ED%94%BC%20%EA%B2%BD%EC%A0%9C&sort=0&photo=0&field=0&pd=3&ds=2021.08.22&de=2021.08.22&cluster_rank=19&mynews=0&office_type=0&office_section_code=0&news_office_checked=&nso=so:r,p:from20210822to20210822,a:all&start=11\n",
      "https://search.naver.com/search.naver?where=news&sm=tab_pge&query=%EC%BD%94%EC%8A%A4%ED%94%BC%20%EA%B2%BD%EC%A0%9C&sort=0&photo=0&field=0&pd=3&ds=2021.08.22&de=2021.08.22&cluster_rank=29&mynews=0&office_type=0&office_section_code=0&news_office_checked=&nso=so:r,p:from20210822to20210822,a:all&start=21\n",
      "크롤링 준비\n"
     ]
    },
    {
     "name": "stderr",
     "output_type": "stream",
     "text": [
      "\n",
      "\n",
      "preprocessing day:  71%|████████████████████████████████████████████▋                  | 22/31 [02:39<01:03,  7.07s/it]\u001b[A\u001b[A"
     ]
    },
    {
     "name": "stdout",
     "output_type": "stream",
     "text": [
      "다음날짜로 선택시작\n",
      "다음 날짜 선택 후 크롤링 준비\n",
      "https://search.naver.com/search.naver?where=news&query=%EC%BD%94%EC%8A%A4%ED%94%BC%20%EA%B2%BD%EC%A0%9C&sm=tab_opt&sort=0&photo=0&field=0&pd=3&ds=2021.08.23&de=2021.08.23&docid=&related=0&mynews=0&office_type=0&office_section_code=0&news_office_checked=&nso=so%3Ar%2Cp%3Afrom20210823to20210823&is_sug_officeid=0\n",
      "https://search.naver.com/search.naver?where=news&sm=tab_pge&query=%EC%BD%94%EC%8A%A4%ED%94%BC%20%EA%B2%BD%EC%A0%9C&sort=0&photo=0&field=0&pd=3&ds=2021.08.23&de=2021.08.23&cluster_rank=15&mynews=0&office_type=0&office_section_code=0&news_office_checked=&nso=so:r,p:from20210823to20210823,a:all&start=11\n",
      "https://search.naver.com/search.naver?where=news&sm=tab_pge&query=%EC%BD%94%EC%8A%A4%ED%94%BC%20%EA%B2%BD%EC%A0%9C&sort=0&photo=0&field=0&pd=3&ds=2021.08.23&de=2021.08.23&cluster_rank=26&mynews=0&office_type=0&office_section_code=0&news_office_checked=&nso=so:r,p:from20210823to20210823,a:all&start=21\n",
      "크롤링 준비\n"
     ]
    },
    {
     "name": "stderr",
     "output_type": "stream",
     "text": [
      "\n",
      "\n",
      "preprocessing day:  74%|██████████████████████████████████████████████▋                | 23/31 [02:46<00:56,  7.05s/it]\u001b[A\u001b[A"
     ]
    },
    {
     "name": "stdout",
     "output_type": "stream",
     "text": [
      "다음날짜로 선택시작\n",
      "다음 날짜 선택 후 크롤링 준비\n",
      "https://search.naver.com/search.naver?where=news&query=%EC%BD%94%EC%8A%A4%ED%94%BC%20%EA%B2%BD%EC%A0%9C&sm=tab_opt&sort=0&photo=0&field=0&pd=3&ds=2021.08.24&de=2021.08.24&docid=&related=0&mynews=0&office_type=0&office_section_code=0&news_office_checked=&nso=so%3Ar%2Cp%3Afrom20210824to20210824&is_sug_officeid=0\n",
      "https://search.naver.com/search.naver?where=news&sm=tab_pge&query=%EC%BD%94%EC%8A%A4%ED%94%BC%20%EA%B2%BD%EC%A0%9C&sort=0&photo=0&field=0&pd=3&ds=2021.08.24&de=2021.08.24&cluster_rank=12&mynews=0&office_type=0&office_section_code=0&news_office_checked=&nso=so:r,p:from20210824to20210824,a:all&start=11\n",
      "https://search.naver.com/search.naver?where=news&sm=tab_pge&query=%EC%BD%94%EC%8A%A4%ED%94%BC%20%EA%B2%BD%EC%A0%9C&sort=0&photo=0&field=0&pd=3&ds=2021.08.24&de=2021.08.24&cluster_rank=24&mynews=0&office_type=0&office_section_code=0&news_office_checked=&nso=so:r,p:from20210824to20210824,a:all&start=21\n",
      "크롤링 준비\n"
     ]
    },
    {
     "name": "stderr",
     "output_type": "stream",
     "text": [
      "\n",
      "\n",
      "preprocessing day:  77%|████████████████████████████████████████████████▊              | 24/31 [02:54<00:49,  7.04s/it]\u001b[A\u001b[A"
     ]
    },
    {
     "name": "stdout",
     "output_type": "stream",
     "text": [
      "다음날짜로 선택시작\n",
      "다음 날짜 선택 후 크롤링 준비\n",
      "https://search.naver.com/search.naver?where=news&query=%EC%BD%94%EC%8A%A4%ED%94%BC%20%EA%B2%BD%EC%A0%9C&sm=tab_opt&sort=0&photo=0&field=0&pd=3&ds=2021.08.25&de=2021.08.25&docid=&related=0&mynews=0&office_type=0&office_section_code=0&news_office_checked=&nso=so%3Ar%2Cp%3Afrom20210825to20210825&is_sug_officeid=0\n",
      "https://search.naver.com/search.naver?where=news&sm=tab_pge&query=%EC%BD%94%EC%8A%A4%ED%94%BC%20%EA%B2%BD%EC%A0%9C&sort=0&photo=0&field=0&pd=3&ds=2021.08.25&de=2021.08.25&cluster_rank=12&mynews=0&office_type=0&office_section_code=0&news_office_checked=&nso=so:r,p:from20210825to20210825,a:all&start=11\n",
      "https://search.naver.com/search.naver?where=news&sm=tab_pge&query=%EC%BD%94%EC%8A%A4%ED%94%BC%20%EA%B2%BD%EC%A0%9C&sort=0&photo=0&field=0&pd=3&ds=2021.08.25&de=2021.08.25&cluster_rank=23&mynews=0&office_type=0&office_section_code=0&news_office_checked=&nso=so:r,p:from20210825to20210825,a:all&start=21\n",
      "크롤링 준비\n"
     ]
    },
    {
     "name": "stderr",
     "output_type": "stream",
     "text": [
      "\n",
      "\n",
      "preprocessing day:  81%|██████████████████████████████████████████████████▊            | 25/31 [03:00<00:42,  7.01s/it]\u001b[A\u001b[A"
     ]
    },
    {
     "name": "stdout",
     "output_type": "stream",
     "text": [
      "다음날짜로 선택시작\n",
      "다음 날짜 선택 후 크롤링 준비\n",
      "https://search.naver.com/search.naver?where=news&query=%EC%BD%94%EC%8A%A4%ED%94%BC%20%EA%B2%BD%EC%A0%9C&sm=tab_opt&sort=0&photo=0&field=0&pd=3&ds=2021.08.26&de=2021.08.26&docid=&related=0&mynews=0&office_type=0&office_section_code=0&news_office_checked=&nso=so%3Ar%2Cp%3Afrom20210826to20210826&is_sug_officeid=0\n",
      "https://search.naver.com/search.naver?where=news&sm=tab_pge&query=%EC%BD%94%EC%8A%A4%ED%94%BC%20%EA%B2%BD%EC%A0%9C&sort=0&photo=0&field=0&pd=3&ds=2021.08.26&de=2021.08.26&cluster_rank=16&mynews=0&office_type=0&office_section_code=0&news_office_checked=&nso=so:r,p:from20210826to20210826,a:all&start=11\n",
      "https://search.naver.com/search.naver?where=news&sm=tab_pge&query=%EC%BD%94%EC%8A%A4%ED%94%BC%20%EA%B2%BD%EC%A0%9C&sort=0&photo=0&field=0&pd=3&ds=2021.08.26&de=2021.08.26&cluster_rank=32&mynews=0&office_type=0&office_section_code=0&news_office_checked=&nso=so:r,p:from20210826to20210826,a:all&start=21\n",
      "크롤링 준비\n"
     ]
    },
    {
     "name": "stderr",
     "output_type": "stream",
     "text": [
      "\n",
      "\n",
      "preprocessing day:  84%|████████████████████████████████████████████████████▊          | 26/31 [03:08<00:35,  7.05s/it]\u001b[A\u001b[A"
     ]
    },
    {
     "name": "stdout",
     "output_type": "stream",
     "text": [
      "다음날짜로 선택시작\n",
      "다음 날짜 선택 후 크롤링 준비\n",
      "https://search.naver.com/search.naver?where=news&query=%EC%BD%94%EC%8A%A4%ED%94%BC%20%EA%B2%BD%EC%A0%9C&sm=tab_opt&sort=0&photo=0&field=0&pd=3&ds=2021.08.27&de=2021.08.27&docid=&related=0&mynews=0&office_type=0&office_section_code=0&news_office_checked=&nso=so%3Ar%2Cp%3Afrom20210827to20210827&is_sug_officeid=0\n",
      "https://search.naver.com/search.naver?where=news&sm=tab_pge&query=%EC%BD%94%EC%8A%A4%ED%94%BC%20%EA%B2%BD%EC%A0%9C&sort=0&photo=0&field=0&pd=3&ds=2021.08.27&de=2021.08.27&cluster_rank=11&mynews=0&office_type=0&office_section_code=0&news_office_checked=&nso=so:r,p:from20210827to20210827,a:all&start=11\n",
      "https://search.naver.com/search.naver?where=news&sm=tab_pge&query=%EC%BD%94%EC%8A%A4%ED%94%BC%20%EA%B2%BD%EC%A0%9C&sort=0&photo=0&field=0&pd=3&ds=2021.08.27&de=2021.08.27&cluster_rank=23&mynews=0&office_type=0&office_section_code=0&news_office_checked=&nso=so:r,p:from20210827to20210827,a:all&start=21\n",
      "크롤링 준비\n"
     ]
    },
    {
     "name": "stderr",
     "output_type": "stream",
     "text": [
      "\n",
      "\n",
      "preprocessing day:  87%|██████████████████████████████████████████████████████▊        | 27/31 [03:15<00:28,  7.15s/it]\u001b[A\u001b[A"
     ]
    },
    {
     "name": "stdout",
     "output_type": "stream",
     "text": [
      "다음날짜로 선택시작\n",
      "다음 날짜 선택 후 크롤링 준비\n",
      "https://search.naver.com/search.naver?where=news&query=%EC%BD%94%EC%8A%A4%ED%94%BC%20%EA%B2%BD%EC%A0%9C&sm=tab_opt&sort=0&photo=0&field=0&pd=3&ds=2021.08.28&de=2021.08.28&docid=&related=0&mynews=0&office_type=0&office_section_code=0&news_office_checked=&nso=so%3Ar%2Cp%3Afrom20210828to20210828&is_sug_officeid=0\n",
      "https://search.naver.com/search.naver?where=news&sm=tab_pge&query=%EC%BD%94%EC%8A%A4%ED%94%BC%20%EA%B2%BD%EC%A0%9C&sort=0&photo=0&field=0&pd=3&ds=2021.08.28&de=2021.08.28&cluster_rank=13&mynews=0&office_type=0&office_section_code=0&news_office_checked=&nso=so:r,p:from20210828to20210828,a:all&start=11\n",
      "https://search.naver.com/search.naver?where=news&sm=tab_pge&query=%EC%BD%94%EC%8A%A4%ED%94%BC%20%EA%B2%BD%EC%A0%9C&sort=0&photo=0&field=0&pd=3&ds=2021.08.28&de=2021.08.28&cluster_rank=13&mynews=0&office_type=0&office_section_code=0&news_office_checked=&nso=so:r,p:from20210828to20210828,a:all&start=11\n",
      "크롤링 준비\n"
     ]
    },
    {
     "name": "stderr",
     "output_type": "stream",
     "text": [
      "\n",
      "\n",
      "preprocessing day:  90%|████████████████████████████████████████████████████████▉      | 28/31 [03:22<00:21,  7.01s/it]\u001b[A\u001b[A"
     ]
    },
    {
     "name": "stdout",
     "output_type": "stream",
     "text": [
      "다음날짜로 선택시작\n",
      "다음 날짜 선택 후 크롤링 준비\n",
      "https://search.naver.com/search.naver?where=news&query=%EC%BD%94%EC%8A%A4%ED%94%BC%20%EA%B2%BD%EC%A0%9C&sm=tab_opt&sort=0&photo=0&field=0&pd=3&ds=2021.08.29&de=2021.08.29&docid=&related=0&mynews=0&office_type=0&office_section_code=0&news_office_checked=&nso=so%3Ar%2Cp%3Afrom20210829to20210829&is_sug_officeid=0\n",
      "https://search.naver.com/search.naver?where=news&sm=tab_pge&query=%EC%BD%94%EC%8A%A4%ED%94%BC%20%EA%B2%BD%EC%A0%9C&sort=0&photo=0&field=0&pd=3&ds=2021.08.29&de=2021.08.29&cluster_rank=21&mynews=0&office_type=0&office_section_code=0&news_office_checked=&nso=so:r,p:from20210829to20210829,a:all&start=11\n",
      "https://search.naver.com/search.naver?where=news&sm=tab_pge&query=%EC%BD%94%EC%8A%A4%ED%94%BC%20%EA%B2%BD%EC%A0%9C&sort=0&photo=0&field=0&pd=3&ds=2021.08.29&de=2021.08.29&cluster_rank=36&mynews=0&office_type=0&office_section_code=0&news_office_checked=&nso=so:r,p:from20210829to20210829,a:all&start=21\n",
      "크롤링 준비\n"
     ]
    },
    {
     "name": "stderr",
     "output_type": "stream",
     "text": [
      "\n",
      "\n",
      "preprocessing day:  94%|██████████████████████████████████████████████████████████▉    | 29/31 [03:29<00:14,  7.01s/it]\u001b[A\u001b[A"
     ]
    },
    {
     "name": "stdout",
     "output_type": "stream",
     "text": [
      "다음날짜로 선택시작\n",
      "다음 날짜 선택 후 크롤링 준비\n",
      "https://search.naver.com/search.naver?where=news&query=%EC%BD%94%EC%8A%A4%ED%94%BC%20%EA%B2%BD%EC%A0%9C&sm=tab_opt&sort=0&photo=0&field=0&pd=3&ds=2021.08.30&de=2021.08.30&docid=&related=0&mynews=0&office_type=0&office_section_code=0&news_office_checked=&nso=so%3Ar%2Cp%3Afrom20210830to20210830&is_sug_officeid=0\n",
      "https://search.naver.com/search.naver?where=news&sm=tab_pge&query=%EC%BD%94%EC%8A%A4%ED%94%BC%20%EA%B2%BD%EC%A0%9C&sort=0&photo=0&field=0&pd=3&ds=2021.08.30&de=2021.08.30&cluster_rank=16&mynews=0&office_type=0&office_section_code=0&news_office_checked=&nso=so:r,p:from20210830to20210830,a:all&start=11\n",
      "https://search.naver.com/search.naver?where=news&sm=tab_pge&query=%EC%BD%94%EC%8A%A4%ED%94%BC%20%EA%B2%BD%EC%A0%9C&sort=0&photo=0&field=0&pd=3&ds=2021.08.30&de=2021.08.30&cluster_rank=26&mynews=0&office_type=0&office_section_code=0&news_office_checked=&nso=so:r,p:from20210830to20210830,a:all&start=21\n",
      "크롤링 준비\n"
     ]
    },
    {
     "name": "stderr",
     "output_type": "stream",
     "text": [
      "\n",
      "\n",
      "preprocessing day:  97%|████████████████████████████████████████████████████████████▉  | 30/31 [03:36<00:07,  7.01s/it]\u001b[A\u001b[A"
     ]
    },
    {
     "name": "stdout",
     "output_type": "stream",
     "text": [
      "다음날짜로 선택시작\n",
      "다음 날짜 선택 후 크롤링 준비\n",
      "https://search.naver.com/search.naver?where=news&query=%EC%BD%94%EC%8A%A4%ED%94%BC%20%EA%B2%BD%EC%A0%9C&sm=tab_opt&sort=0&photo=0&field=0&pd=3&ds=2021.08.31&de=2021.08.31&docid=&related=0&mynews=0&office_type=0&office_section_code=0&news_office_checked=&nso=so%3Ar%2Cp%3Afrom20210831to20210831&is_sug_officeid=0\n",
      "https://search.naver.com/search.naver?where=news&sm=tab_pge&query=%EC%BD%94%EC%8A%A4%ED%94%BC%20%EA%B2%BD%EC%A0%9C&sort=0&photo=0&field=0&pd=3&ds=2021.08.31&de=2021.08.31&cluster_rank=12&mynews=0&office_type=0&office_section_code=0&news_office_checked=&nso=so:r,p:from20210831to20210831,a:all&start=11\n",
      "https://search.naver.com/search.naver?where=news&sm=tab_pge&query=%EC%BD%94%EC%8A%A4%ED%94%BC%20%EA%B2%BD%EC%A0%9C&sort=0&photo=0&field=0&pd=3&ds=2021.08.31&de=2021.08.31&cluster_rank=22&mynews=0&office_type=0&office_section_code=0&news_office_checked=&nso=so:r,p:from20210831to20210831,a:all&start=21\n",
      "크롤링 준비\n"
     ]
    },
    {
     "name": "stderr",
     "output_type": "stream",
     "text": [
      "\n",
      "\n",
      "preprocessing day: 100%|███████████████████████████████████████████████████████████████| 31/31 [03:43<00:00,  7.20s/it]\u001b[A\u001b[A\n",
      "\n",
      "preprocessing month:  67%|████████████████████████████████████████▋                    | 8/12 [28:57<14:40, 220.01s/it]\u001b[A"
     ]
    },
    {
     "name": "stdout",
     "output_type": "stream",
     "text": [
      "다음날짜로 선택시작\n"
     ]
    },
    {
     "name": "stderr",
     "output_type": "stream",
     "text": [
      "\n",
      "\n",
      "preprocessing day:   0%|                                                                        | 0/31 [00:00<?, ?it/s]\u001b[A\u001b[A"
     ]
    },
    {
     "name": "stdout",
     "output_type": "stream",
     "text": [
      "다음 날짜 선택 후 크롤링 준비\n",
      "https://search.naver.com/search.naver?where=news&query=%EC%BD%94%EC%8A%A4%ED%94%BC%20%EA%B2%BD%EC%A0%9C&sm=tab_opt&sort=0&photo=0&field=0&pd=3&ds=2021.09.01&de=2021.09.01&docid=&related=0&mynews=0&office_type=0&office_section_code=0&news_office_checked=&nso=so%3Ar%2Cp%3Afrom20210901to20210901&is_sug_officeid=0\n",
      "https://search.naver.com/search.naver?where=news&sm=tab_pge&query=%EC%BD%94%EC%8A%A4%ED%94%BC%20%EA%B2%BD%EC%A0%9C&sort=0&photo=0&field=0&pd=3&ds=2021.09.01&de=2021.09.01&cluster_rank=17&mynews=0&office_type=0&office_section_code=0&news_office_checked=&nso=so:r,p:from20210901to20210901,a:all&start=11\n",
      "https://search.naver.com/search.naver?where=news&sm=tab_pge&query=%EC%BD%94%EC%8A%A4%ED%94%BC%20%EA%B2%BD%EC%A0%9C&sort=0&photo=0&field=0&pd=3&ds=2021.09.01&de=2021.09.01&cluster_rank=27&mynews=0&office_type=0&office_section_code=0&news_office_checked=&nso=so:r,p:from20210901to20210901,a:all&start=21\n",
      "크롤링 준비\n"
     ]
    },
    {
     "name": "stderr",
     "output_type": "stream",
     "text": [
      "\n",
      "\n",
      "preprocessing day:   3%|██                                                              | 1/31 [00:07<03:30,  7.03s/it]\u001b[A\u001b[A"
     ]
    },
    {
     "name": "stdout",
     "output_type": "stream",
     "text": [
      "다음날짜로 선택시작\n",
      "다음 날짜 선택 후 크롤링 준비\n",
      "https://search.naver.com/search.naver?where=news&query=%EC%BD%94%EC%8A%A4%ED%94%BC%20%EA%B2%BD%EC%A0%9C&sm=tab_opt&sort=0&photo=0&field=0&pd=3&ds=2021.09.02&de=2021.09.02&docid=&related=0&mynews=0&office_type=0&office_section_code=0&news_office_checked=&nso=so%3Ar%2Cp%3Afrom20210902to20210902&is_sug_officeid=0\n",
      "https://search.naver.com/search.naver?where=news&sm=tab_pge&query=%EC%BD%94%EC%8A%A4%ED%94%BC%20%EA%B2%BD%EC%A0%9C&sort=0&photo=0&field=0&pd=3&ds=2021.09.02&de=2021.09.02&cluster_rank=10&mynews=0&office_type=0&office_section_code=0&news_office_checked=&nso=so:r,p:from20210902to20210902,a:all&start=11\n",
      "https://search.naver.com/search.naver?where=news&sm=tab_pge&query=%EC%BD%94%EC%8A%A4%ED%94%BC%20%EA%B2%BD%EC%A0%9C&sort=0&photo=0&field=0&pd=3&ds=2021.09.02&de=2021.09.02&cluster_rank=22&mynews=0&office_type=0&office_section_code=0&news_office_checked=&nso=so:r,p:from20210902to20210902,a:all&start=21\n",
      "크롤링 준비\n"
     ]
    },
    {
     "name": "stderr",
     "output_type": "stream",
     "text": [
      "\n",
      "\n",
      "preprocessing day:   6%|████▏                                                           | 2/31 [00:14<03:25,  7.09s/it]\u001b[A\u001b[A"
     ]
    },
    {
     "name": "stdout",
     "output_type": "stream",
     "text": [
      "다음날짜로 선택시작\n",
      "다음 날짜 선택 후 크롤링 준비\n",
      "https://search.naver.com/search.naver?where=news&query=%EC%BD%94%EC%8A%A4%ED%94%BC%20%EA%B2%BD%EC%A0%9C&sm=tab_opt&sort=0&photo=0&field=0&pd=3&ds=2021.09.03&de=2021.09.03&docid=&related=0&mynews=0&office_type=0&office_section_code=0&news_office_checked=&nso=so%3Ar%2Cp%3Afrom20210903to20210903&is_sug_officeid=0\n",
      "https://search.naver.com/search.naver?where=news&sm=tab_pge&query=%EC%BD%94%EC%8A%A4%ED%94%BC%20%EA%B2%BD%EC%A0%9C&sort=0&photo=0&field=0&pd=3&ds=2021.09.03&de=2021.09.03&cluster_rank=10&mynews=0&office_type=0&office_section_code=0&news_office_checked=&nso=so:r,p:from20210903to20210903,a:all&start=11\n",
      "https://search.naver.com/search.naver?where=news&sm=tab_pge&query=%EC%BD%94%EC%8A%A4%ED%94%BC%20%EA%B2%BD%EC%A0%9C&sort=0&photo=0&field=0&pd=3&ds=2021.09.03&de=2021.09.03&cluster_rank=22&mynews=0&office_type=0&office_section_code=0&news_office_checked=&nso=so:r,p:from20210903to20210903,a:all&start=21\n",
      "크롤링 준비\n"
     ]
    },
    {
     "name": "stderr",
     "output_type": "stream",
     "text": [
      "\n",
      "\n",
      "preprocessing day:  10%|██████▏                                                         | 3/31 [00:21<03:20,  7.15s/it]\u001b[A\u001b[A"
     ]
    },
    {
     "name": "stdout",
     "output_type": "stream",
     "text": [
      "다음날짜로 선택시작\n",
      "다음 날짜 선택 후 크롤링 준비\n",
      "https://search.naver.com/search.naver?where=news&query=%EC%BD%94%EC%8A%A4%ED%94%BC%20%EA%B2%BD%EC%A0%9C&sm=tab_opt&sort=0&photo=0&field=0&pd=3&ds=2021.09.04&de=2021.09.04&docid=&related=0&mynews=0&office_type=0&office_section_code=0&news_office_checked=&nso=so%3Ar%2Cp%3Afrom20210904to20210904&is_sug_officeid=0\n",
      "https://search.naver.com/search.naver?where=news&query=%EC%BD%94%EC%8A%A4%ED%94%BC%20%EA%B2%BD%EC%A0%9C&sm=tab_opt&sort=0&photo=0&field=0&pd=3&ds=2021.09.04&de=2021.09.04&docid=&related=0&mynews=0&office_type=0&office_section_code=0&news_office_checked=&nso=so%3Ar%2Cp%3Afrom20210904to20210904&is_sug_officeid=0\n",
      "크롤링 준비\n"
     ]
    },
    {
     "name": "stderr",
     "output_type": "stream",
     "text": [
      "\n",
      "\n",
      "preprocessing day:  13%|████████▎                                                       | 4/31 [00:27<03:02,  6.78s/it]\u001b[A\u001b[A"
     ]
    },
    {
     "name": "stdout",
     "output_type": "stream",
     "text": [
      "다음날짜로 선택시작\n",
      "다음 날짜 선택 후 크롤링 준비\n",
      "https://search.naver.com/search.naver?where=news&query=%EC%BD%94%EC%8A%A4%ED%94%BC%20%EA%B2%BD%EC%A0%9C&sm=tab_opt&sort=0&photo=0&field=0&pd=3&ds=2021.09.05&de=2021.09.05&docid=&related=0&mynews=0&office_type=0&office_section_code=0&news_office_checked=&nso=so%3Ar%2Cp%3Afrom20210905to20210905&is_sug_officeid=0\n",
      "https://search.naver.com/search.naver?where=news&sm=tab_pge&query=%EC%BD%94%EC%8A%A4%ED%94%BC%20%EA%B2%BD%EC%A0%9C&sort=0&photo=0&field=0&pd=3&ds=2021.09.05&de=2021.09.05&cluster_rank=12&mynews=0&office_type=0&office_section_code=0&news_office_checked=&nso=so:r,p:from20210905to20210905,a:all&start=11\n",
      "https://search.naver.com/search.naver?where=news&sm=tab_pge&query=%EC%BD%94%EC%8A%A4%ED%94%BC%20%EA%B2%BD%EC%A0%9C&sort=0&photo=0&field=0&pd=3&ds=2021.09.05&de=2021.09.05&cluster_rank=22&mynews=0&office_type=0&office_section_code=0&news_office_checked=&nso=so:r,p:from20210905to20210905,a:all&start=21\n",
      "크롤링 준비\n"
     ]
    },
    {
     "name": "stderr",
     "output_type": "stream",
     "text": [
      "\n",
      "\n",
      "preprocessing day:  16%|██████████▎                                                     | 5/31 [00:35<03:02,  7.03s/it]\u001b[A\u001b[A"
     ]
    },
    {
     "name": "stdout",
     "output_type": "stream",
     "text": [
      "다음날짜로 선택시작\n",
      "다음 날짜 선택 후 크롤링 준비\n",
      "https://search.naver.com/search.naver?where=news&query=%EC%BD%94%EC%8A%A4%ED%94%BC%20%EA%B2%BD%EC%A0%9C&sm=tab_opt&sort=0&photo=0&field=0&pd=3&ds=2021.09.06&de=2021.09.06&docid=&related=0&mynews=0&office_type=0&office_section_code=0&news_office_checked=&nso=so%3Ar%2Cp%3Afrom20210906to20210906&is_sug_officeid=0\n",
      "https://search.naver.com/search.naver?where=news&sm=tab_pge&query=%EC%BD%94%EC%8A%A4%ED%94%BC%20%EA%B2%BD%EC%A0%9C&sort=0&photo=0&field=0&pd=3&ds=2021.09.06&de=2021.09.06&cluster_rank=13&mynews=0&office_type=0&office_section_code=0&news_office_checked=&nso=so:r,p:from20210906to20210906,a:all&start=11\n",
      "https://search.naver.com/search.naver?where=news&sm=tab_pge&query=%EC%BD%94%EC%8A%A4%ED%94%BC%20%EA%B2%BD%EC%A0%9C&sort=0&photo=0&field=0&pd=3&ds=2021.09.06&de=2021.09.06&cluster_rank=23&mynews=0&office_type=0&office_section_code=0&news_office_checked=&nso=so:r,p:from20210906to20210906,a:all&start=21\n",
      "크롤링 준비\n"
     ]
    },
    {
     "name": "stderr",
     "output_type": "stream",
     "text": [
      "\n",
      "\n",
      "preprocessing day:  19%|████████████▍                                                   | 6/31 [00:42<02:57,  7.08s/it]\u001b[A\u001b[A"
     ]
    },
    {
     "name": "stdout",
     "output_type": "stream",
     "text": [
      "다음날짜로 선택시작\n",
      "다음 날짜 선택 후 크롤링 준비\n",
      "https://search.naver.com/search.naver?where=news&query=%EC%BD%94%EC%8A%A4%ED%94%BC%20%EA%B2%BD%EC%A0%9C&sm=tab_opt&sort=0&photo=0&field=0&pd=3&ds=2021.09.07&de=2021.09.07&docid=&related=0&mynews=0&office_type=0&office_section_code=0&news_office_checked=&nso=so%3Ar%2Cp%3Afrom20210907to20210907&is_sug_officeid=0\n",
      "https://search.naver.com/search.naver?where=news&sm=tab_pge&query=%EC%BD%94%EC%8A%A4%ED%94%BC%20%EA%B2%BD%EC%A0%9C&sort=0&photo=0&field=0&pd=3&ds=2021.09.07&de=2021.09.07&cluster_rank=11&mynews=0&office_type=0&office_section_code=0&news_office_checked=&nso=so:r,p:from20210907to20210907,a:all&start=11\n",
      "https://search.naver.com/search.naver?where=news&sm=tab_pge&query=%EC%BD%94%EC%8A%A4%ED%94%BC%20%EA%B2%BD%EC%A0%9C&sort=0&photo=0&field=0&pd=3&ds=2021.09.07&de=2021.09.07&cluster_rank=23&mynews=0&office_type=0&office_section_code=0&news_office_checked=&nso=so:r,p:from20210907to20210907,a:all&start=21\n",
      "크롤링 준비\n"
     ]
    },
    {
     "name": "stderr",
     "output_type": "stream",
     "text": [
      "\n",
      "\n",
      "preprocessing day:  23%|██████████████▍                                                 | 7/31 [00:49<02:49,  7.07s/it]\u001b[A\u001b[A"
     ]
    },
    {
     "name": "stdout",
     "output_type": "stream",
     "text": [
      "다음날짜로 선택시작\n",
      "다음 날짜 선택 후 크롤링 준비\n",
      "https://search.naver.com/search.naver?where=news&query=%EC%BD%94%EC%8A%A4%ED%94%BC%20%EA%B2%BD%EC%A0%9C&sm=tab_opt&sort=0&photo=0&field=0&pd=3&ds=2021.09.08&de=2021.09.08&docid=&related=0&mynews=0&office_type=0&office_section_code=0&news_office_checked=&nso=so%3Ar%2Cp%3Afrom20210908to20210908&is_sug_officeid=0\n",
      "https://search.naver.com/search.naver?where=news&sm=tab_pge&query=%EC%BD%94%EC%8A%A4%ED%94%BC%20%EA%B2%BD%EC%A0%9C&sort=0&photo=0&field=0&pd=3&ds=2021.09.08&de=2021.09.08&cluster_rank=18&mynews=0&office_type=0&office_section_code=0&news_office_checked=&nso=so:r,p:from20210908to20210908,a:all&start=11\n",
      "https://search.naver.com/search.naver?where=news&sm=tab_pge&query=%EC%BD%94%EC%8A%A4%ED%94%BC%20%EA%B2%BD%EC%A0%9C&sort=0&photo=0&field=0&pd=3&ds=2021.09.08&de=2021.09.08&cluster_rank=28&mynews=0&office_type=0&office_section_code=0&news_office_checked=&nso=so:r,p:from20210908to20210908,a:all&start=21\n",
      "크롤링 준비\n"
     ]
    },
    {
     "name": "stderr",
     "output_type": "stream",
     "text": [
      "\n",
      "\n",
      "preprocessing day:  26%|████████████████▌                                               | 8/31 [00:56<02:42,  7.04s/it]\u001b[A\u001b[A"
     ]
    },
    {
     "name": "stdout",
     "output_type": "stream",
     "text": [
      "다음날짜로 선택시작\n",
      "다음 날짜 선택 후 크롤링 준비\n",
      "https://search.naver.com/search.naver?where=news&query=%EC%BD%94%EC%8A%A4%ED%94%BC%20%EA%B2%BD%EC%A0%9C&sm=tab_opt&sort=0&photo=0&field=0&pd=3&ds=2021.09.09&de=2021.09.09&docid=&related=0&mynews=0&office_type=0&office_section_code=0&news_office_checked=&nso=so%3Ar%2Cp%3Afrom20210909to20210909&is_sug_officeid=0\n",
      "https://search.naver.com/search.naver?where=news&sm=tab_pge&query=%EC%BD%94%EC%8A%A4%ED%94%BC%20%EA%B2%BD%EC%A0%9C&sort=0&photo=0&field=0&pd=3&ds=2021.09.09&de=2021.09.09&cluster_rank=11&mynews=0&office_type=0&office_section_code=0&news_office_checked=&nso=so:r,p:from20210909to20210909,a:all&start=11\n",
      "https://search.naver.com/search.naver?where=news&sm=tab_pge&query=%EC%BD%94%EC%8A%A4%ED%94%BC%20%EA%B2%BD%EC%A0%9C&sort=0&photo=0&field=0&pd=3&ds=2021.09.09&de=2021.09.09&cluster_rank=22&mynews=0&office_type=0&office_section_code=0&news_office_checked=&nso=so:r,p:from20210909to20210909,a:all&start=21\n",
      "크롤링 준비\n"
     ]
    },
    {
     "name": "stderr",
     "output_type": "stream",
     "text": [
      "\n",
      "\n",
      "preprocessing day:  29%|██████████████████▌                                             | 9/31 [01:03<02:35,  7.06s/it]\u001b[A\u001b[A"
     ]
    },
    {
     "name": "stdout",
     "output_type": "stream",
     "text": [
      "다음날짜로 선택시작\n",
      "다음 날짜 선택 후 크롤링 준비\n",
      "https://search.naver.com/search.naver?where=news&query=%EC%BD%94%EC%8A%A4%ED%94%BC%20%EA%B2%BD%EC%A0%9C&sm=tab_opt&sort=0&photo=0&field=0&pd=3&ds=2021.09.10&de=2021.09.10&docid=&related=0&mynews=0&office_type=0&office_section_code=0&news_office_checked=&nso=so%3Ar%2Cp%3Afrom20210910to20210910&is_sug_officeid=0\n",
      "https://search.naver.com/search.naver?where=news&sm=tab_pge&query=%EC%BD%94%EC%8A%A4%ED%94%BC%20%EA%B2%BD%EC%A0%9C&sort=0&photo=0&field=0&pd=3&ds=2021.09.10&de=2021.09.10&cluster_rank=14&mynews=0&office_type=0&office_section_code=0&news_office_checked=&nso=so:r,p:from20210910to20210910,a:all&start=11\n",
      "https://search.naver.com/search.naver?where=news&sm=tab_pge&query=%EC%BD%94%EC%8A%A4%ED%94%BC%20%EA%B2%BD%EC%A0%9C&sort=0&photo=0&field=0&pd=3&ds=2021.09.10&de=2021.09.10&cluster_rank=25&mynews=0&office_type=0&office_section_code=0&news_office_checked=&nso=so:r,p:from20210910to20210910,a:all&start=21\n",
      "크롤링 준비\n"
     ]
    },
    {
     "name": "stderr",
     "output_type": "stream",
     "text": [
      "\n",
      "\n",
      "preprocessing day:  32%|████████████████████▎                                          | 10/31 [01:10<02:28,  7.07s/it]\u001b[A\u001b[A"
     ]
    },
    {
     "name": "stdout",
     "output_type": "stream",
     "text": [
      "다음날짜로 선택시작\n",
      "다음 날짜 선택 후 크롤링 준비\n",
      "https://search.naver.com/search.naver?where=news&query=%EC%BD%94%EC%8A%A4%ED%94%BC%20%EA%B2%BD%EC%A0%9C&sm=tab_opt&sort=0&photo=0&field=0&pd=3&ds=2021.09.11&de=2021.09.11&docid=&related=0&mynews=0&office_type=0&office_section_code=0&news_office_checked=&nso=so%3Ar%2Cp%3Afrom20210911to20210911&is_sug_officeid=0\n",
      "https://search.naver.com/search.naver?where=news&query=%EC%BD%94%EC%8A%A4%ED%94%BC%20%EA%B2%BD%EC%A0%9C&sm=tab_opt&sort=0&photo=0&field=0&pd=3&ds=2021.09.11&de=2021.09.11&docid=&related=0&mynews=0&office_type=0&office_section_code=0&news_office_checked=&nso=so%3Ar%2Cp%3Afrom20210911to20210911&is_sug_officeid=0\n",
      "크롤링 준비\n"
     ]
    },
    {
     "name": "stderr",
     "output_type": "stream",
     "text": [
      "\n",
      "\n",
      "preprocessing day:  35%|██████████████████████▎                                        | 11/31 [01:16<02:16,  6.81s/it]\u001b[A\u001b[A"
     ]
    },
    {
     "name": "stdout",
     "output_type": "stream",
     "text": [
      "다음날짜로 선택시작\n",
      "다음 날짜 선택 후 크롤링 준비\n",
      "https://search.naver.com/search.naver?where=news&query=%EC%BD%94%EC%8A%A4%ED%94%BC%20%EA%B2%BD%EC%A0%9C&sm=tab_opt&sort=0&photo=0&field=0&pd=3&ds=2021.09.12&de=2021.09.12&docid=&related=0&mynews=0&office_type=0&office_section_code=0&news_office_checked=&nso=so%3Ar%2Cp%3Afrom20210912to20210912&is_sug_officeid=0\n",
      "https://search.naver.com/search.naver?where=news&sm=tab_pge&query=%EC%BD%94%EC%8A%A4%ED%94%BC%20%EA%B2%BD%EC%A0%9C&sort=0&photo=0&field=0&pd=3&ds=2021.09.12&de=2021.09.12&cluster_rank=14&mynews=0&office_type=0&office_section_code=0&news_office_checked=&nso=so:r,p:from20210912to20210912,a:all&start=11\n",
      "https://search.naver.com/search.naver?where=news&sm=tab_pge&query=%EC%BD%94%EC%8A%A4%ED%94%BC%20%EA%B2%BD%EC%A0%9C&sort=0&photo=0&field=0&pd=3&ds=2021.09.12&de=2021.09.12&cluster_rank=30&mynews=0&office_type=0&office_section_code=0&news_office_checked=&nso=so:r,p:from20210912to20210912,a:all&start=21\n",
      "크롤링 준비\n"
     ]
    },
    {
     "name": "stderr",
     "output_type": "stream",
     "text": [
      "\n",
      "\n",
      "preprocessing day:  39%|████████████████████████▍                                      | 12/31 [01:23<02:10,  6.88s/it]\u001b[A\u001b[A"
     ]
    },
    {
     "name": "stdout",
     "output_type": "stream",
     "text": [
      "다음날짜로 선택시작\n",
      "다음 날짜 선택 후 크롤링 준비\n",
      "https://search.naver.com/search.naver?where=news&query=%EC%BD%94%EC%8A%A4%ED%94%BC%20%EA%B2%BD%EC%A0%9C&sm=tab_opt&sort=0&photo=0&field=0&pd=3&ds=2021.09.13&de=2021.09.13&docid=&related=0&mynews=0&office_type=0&office_section_code=0&news_office_checked=&nso=so%3Ar%2Cp%3Afrom20210913to20210913&is_sug_officeid=0\n",
      "https://search.naver.com/search.naver?where=news&sm=tab_pge&query=%EC%BD%94%EC%8A%A4%ED%94%BC%20%EA%B2%BD%EC%A0%9C&sort=0&photo=0&field=0&pd=3&ds=2021.09.13&de=2021.09.13&cluster_rank=14&mynews=0&office_type=0&office_section_code=0&news_office_checked=&nso=so:r,p:from20210913to20210913,a:all&start=11\n",
      "https://search.naver.com/search.naver?where=news&sm=tab_pge&query=%EC%BD%94%EC%8A%A4%ED%94%BC%20%EA%B2%BD%EC%A0%9C&sort=0&photo=0&field=0&pd=3&ds=2021.09.13&de=2021.09.13&cluster_rank=24&mynews=0&office_type=0&office_section_code=0&news_office_checked=&nso=so:r,p:from20210913to20210913,a:all&start=21\n",
      "크롤링 준비\n"
     ]
    },
    {
     "name": "stderr",
     "output_type": "stream",
     "text": [
      "\n",
      "\n",
      "preprocessing day:  42%|██████████████████████████▍                                    | 13/31 [01:30<02:04,  6.94s/it]\u001b[A\u001b[A"
     ]
    },
    {
     "name": "stdout",
     "output_type": "stream",
     "text": [
      "다음날짜로 선택시작\n",
      "다음 날짜 선택 후 크롤링 준비\n",
      "https://search.naver.com/search.naver?where=news&query=%EC%BD%94%EC%8A%A4%ED%94%BC%20%EA%B2%BD%EC%A0%9C&sm=tab_opt&sort=0&photo=0&field=0&pd=3&ds=2021.09.14&de=2021.09.14&docid=&related=0&mynews=0&office_type=0&office_section_code=0&news_office_checked=&nso=so%3Ar%2Cp%3Afrom20210914to20210914&is_sug_officeid=0\n",
      "https://search.naver.com/search.naver?where=news&sm=tab_pge&query=%EC%BD%94%EC%8A%A4%ED%94%BC%20%EA%B2%BD%EC%A0%9C&sort=0&photo=0&field=0&pd=3&ds=2021.09.14&de=2021.09.14&cluster_rank=15&mynews=0&office_type=0&office_section_code=0&news_office_checked=&nso=so:r,p:from20210914to20210914,a:all&start=11\n",
      "https://search.naver.com/search.naver?where=news&sm=tab_pge&query=%EC%BD%94%EC%8A%A4%ED%94%BC%20%EA%B2%BD%EC%A0%9C&sort=0&photo=0&field=0&pd=3&ds=2021.09.14&de=2021.09.14&cluster_rank=33&mynews=0&office_type=0&office_section_code=0&news_office_checked=&nso=so:r,p:from20210914to20210914,a:all&start=21\n",
      "크롤링 준비\n"
     ]
    },
    {
     "name": "stderr",
     "output_type": "stream",
     "text": [
      "\n",
      "\n",
      "preprocessing day:  45%|████████████████████████████▍                                  | 14/31 [01:38<02:00,  7.10s/it]\u001b[A\u001b[A"
     ]
    },
    {
     "name": "stdout",
     "output_type": "stream",
     "text": [
      "다음날짜로 선택시작\n",
      "다음 날짜 선택 후 크롤링 준비\n",
      "https://search.naver.com/search.naver?where=news&query=%EC%BD%94%EC%8A%A4%ED%94%BC%20%EA%B2%BD%EC%A0%9C&sm=tab_opt&sort=0&photo=0&field=0&pd=3&ds=2021.09.15&de=2021.09.15&docid=&related=0&mynews=0&office_type=0&office_section_code=0&news_office_checked=&nso=so%3Ar%2Cp%3Afrom20210915to20210915&is_sug_officeid=0\n",
      "https://search.naver.com/search.naver?where=news&sm=tab_pge&query=%EC%BD%94%EC%8A%A4%ED%94%BC%20%EA%B2%BD%EC%A0%9C&sort=0&photo=0&field=0&pd=3&ds=2021.09.15&de=2021.09.15&cluster_rank=16&mynews=0&office_type=0&office_section_code=0&news_office_checked=&nso=so:r,p:from20210915to20210915,a:all&start=11\n",
      "https://search.naver.com/search.naver?where=news&sm=tab_pge&query=%EC%BD%94%EC%8A%A4%ED%94%BC%20%EA%B2%BD%EC%A0%9C&sort=0&photo=0&field=0&pd=3&ds=2021.09.15&de=2021.09.15&cluster_rank=26&mynews=0&office_type=0&office_section_code=0&news_office_checked=&nso=so:r,p:from20210915to20210915,a:all&start=21\n",
      "크롤링 준비\n"
     ]
    },
    {
     "name": "stderr",
     "output_type": "stream",
     "text": [
      "\n",
      "\n",
      "preprocessing day:  48%|██████████████████████████████▍                                | 15/31 [01:45<01:54,  7.17s/it]\u001b[A\u001b[A"
     ]
    },
    {
     "name": "stdout",
     "output_type": "stream",
     "text": [
      "다음날짜로 선택시작\n",
      "다음 날짜 선택 후 크롤링 준비\n",
      "https://search.naver.com/search.naver?where=news&query=%EC%BD%94%EC%8A%A4%ED%94%BC%20%EA%B2%BD%EC%A0%9C&sm=tab_opt&sort=0&photo=0&field=0&pd=3&ds=2021.09.16&de=2021.09.16&docid=&related=0&mynews=0&office_type=0&office_section_code=0&news_office_checked=&nso=so%3Ar%2Cp%3Afrom20210916to20210916&is_sug_officeid=0\n",
      "https://search.naver.com/search.naver?where=news&sm=tab_pge&query=%EC%BD%94%EC%8A%A4%ED%94%BC%20%EA%B2%BD%EC%A0%9C&sort=0&photo=0&field=0&pd=3&ds=2021.09.16&de=2021.09.16&cluster_rank=15&mynews=0&office_type=0&office_section_code=0&news_office_checked=&nso=so:r,p:from20210916to20210916,a:all&start=11\n",
      "https://search.naver.com/search.naver?where=news&sm=tab_pge&query=%EC%BD%94%EC%8A%A4%ED%94%BC%20%EA%B2%BD%EC%A0%9C&sort=0&photo=0&field=0&pd=3&ds=2021.09.16&de=2021.09.16&cluster_rank=25&mynews=0&office_type=0&office_section_code=0&news_office_checked=&nso=so:r,p:from20210916to20210916,a:all&start=21\n",
      "크롤링 준비\n"
     ]
    },
    {
     "name": "stderr",
     "output_type": "stream",
     "text": [
      "\n",
      "\n",
      "preprocessing day:  52%|████████████████████████████████▌                              | 16/31 [01:52<01:46,  7.12s/it]\u001b[A\u001b[A"
     ]
    },
    {
     "name": "stdout",
     "output_type": "stream",
     "text": [
      "다음날짜로 선택시작\n",
      "다음 날짜 선택 후 크롤링 준비\n",
      "https://search.naver.com/search.naver?where=news&query=%EC%BD%94%EC%8A%A4%ED%94%BC%20%EA%B2%BD%EC%A0%9C&sm=tab_opt&sort=0&photo=0&field=0&pd=3&ds=2021.09.17&de=2021.09.17&docid=&related=0&mynews=0&office_type=0&office_section_code=0&news_office_checked=&nso=so%3Ar%2Cp%3Afrom20210917to20210917&is_sug_officeid=0\n",
      "https://search.naver.com/search.naver?where=news&sm=tab_pge&query=%EC%BD%94%EC%8A%A4%ED%94%BC%20%EA%B2%BD%EC%A0%9C&sort=0&photo=0&field=0&pd=3&ds=2021.09.17&de=2021.09.17&cluster_rank=10&mynews=0&office_type=0&office_section_code=0&news_office_checked=&nso=so:r,p:from20210917to20210917,a:all&start=11\n",
      "https://search.naver.com/search.naver?where=news&sm=tab_pge&query=%EC%BD%94%EC%8A%A4%ED%94%BC%20%EA%B2%BD%EC%A0%9C&sort=0&photo=0&field=0&pd=3&ds=2021.09.17&de=2021.09.17&cluster_rank=21&mynews=0&office_type=0&office_section_code=0&news_office_checked=&nso=so:r,p:from20210917to20210917,a:all&start=21\n",
      "크롤링 준비\n"
     ]
    },
    {
     "name": "stderr",
     "output_type": "stream",
     "text": [
      "\n",
      "\n",
      "preprocessing day:  55%|██████████████████████████████████▌                            | 17/31 [01:59<01:39,  7.11s/it]\u001b[A\u001b[A"
     ]
    },
    {
     "name": "stdout",
     "output_type": "stream",
     "text": [
      "다음날짜로 선택시작\n",
      "다음 날짜 선택 후 크롤링 준비\n",
      "https://search.naver.com/search.naver?where=news&query=%EC%BD%94%EC%8A%A4%ED%94%BC%20%EA%B2%BD%EC%A0%9C&sm=tab_opt&sort=0&photo=0&field=0&pd=3&ds=2021.09.18&de=2021.09.18&docid=&related=0&mynews=0&office_type=0&office_section_code=0&news_office_checked=&nso=so%3Ar%2Cp%3Afrom20210918to20210918&is_sug_officeid=0\n",
      "https://search.naver.com/search.naver?where=news&query=%EC%BD%94%EC%8A%A4%ED%94%BC%20%EA%B2%BD%EC%A0%9C&sm=tab_opt&sort=0&photo=0&field=0&pd=3&ds=2021.09.18&de=2021.09.18&docid=&related=0&mynews=0&office_type=0&office_section_code=0&news_office_checked=&nso=so%3Ar%2Cp%3Afrom20210918to20210918&is_sug_officeid=0\n",
      "크롤링 준비\n"
     ]
    },
    {
     "name": "stderr",
     "output_type": "stream",
     "text": [
      "\n",
      "\n",
      "preprocessing day:  58%|████████████████████████████████████▌                          | 18/31 [02:05<01:28,  6.84s/it]\u001b[A\u001b[A"
     ]
    },
    {
     "name": "stdout",
     "output_type": "stream",
     "text": [
      "다음날짜로 선택시작\n",
      "다음 날짜 선택 후 크롤링 준비\n",
      "https://search.naver.com/search.naver?where=news&query=%EC%BD%94%EC%8A%A4%ED%94%BC%20%EA%B2%BD%EC%A0%9C&sm=tab_opt&sort=0&photo=0&field=0&pd=3&ds=2021.09.19&de=2021.09.19&docid=&related=0&mynews=0&office_type=0&office_section_code=0&news_office_checked=&nso=so%3Ar%2Cp%3Afrom20210919to20210919&is_sug_officeid=0\n",
      "https://search.naver.com/search.naver?where=news&sm=tab_pge&query=%EC%BD%94%EC%8A%A4%ED%94%BC%20%EA%B2%BD%EC%A0%9C&sort=0&photo=0&field=0&pd=3&ds=2021.09.19&de=2021.09.19&cluster_rank=10&mynews=0&office_type=0&office_section_code=0&news_office_checked=&nso=so:r,p:from20210919to20210919,a:all&start=11\n",
      "https://search.naver.com/search.naver?where=news&sm=tab_pge&query=%EC%BD%94%EC%8A%A4%ED%94%BC%20%EA%B2%BD%EC%A0%9C&sort=0&photo=0&field=0&pd=3&ds=2021.09.19&de=2021.09.19&cluster_rank=20&mynews=0&office_type=0&office_section_code=0&news_office_checked=&nso=so:r,p:from20210919to20210919,a:all&start=21\n",
      "크롤링 준비\n"
     ]
    },
    {
     "name": "stderr",
     "output_type": "stream",
     "text": [
      "\n",
      "\n",
      "preprocessing day:  61%|██████████████████████████████████████▌                        | 19/31 [02:13<01:23,  6.96s/it]\u001b[A\u001b[A"
     ]
    },
    {
     "name": "stdout",
     "output_type": "stream",
     "text": [
      "다음날짜로 선택시작\n",
      "다음 날짜 선택 후 크롤링 준비\n",
      "https://search.naver.com/search.naver?where=news&query=%EC%BD%94%EC%8A%A4%ED%94%BC%20%EA%B2%BD%EC%A0%9C&sm=tab_opt&sort=0&photo=0&field=0&pd=3&ds=2021.09.20&de=2021.09.20&docid=&related=0&mynews=0&office_type=0&office_section_code=0&news_office_checked=&nso=so%3Ar%2Cp%3Afrom20210920to20210920&is_sug_officeid=0\n",
      "https://search.naver.com/search.naver?where=news&query=%EC%BD%94%EC%8A%A4%ED%94%BC%20%EA%B2%BD%EC%A0%9C&sm=tab_opt&sort=0&photo=0&field=0&pd=3&ds=2021.09.20&de=2021.09.20&docid=&related=0&mynews=0&office_type=0&office_section_code=0&news_office_checked=&nso=so%3Ar%2Cp%3Afrom20210920to20210920&is_sug_officeid=0\n",
      "크롤링 준비\n"
     ]
    },
    {
     "name": "stderr",
     "output_type": "stream",
     "text": [
      "\n",
      "\n",
      "preprocessing day:  65%|████████████████████████████████████████▋                      | 20/31 [02:19<01:14,  6.80s/it]\u001b[A\u001b[A"
     ]
    },
    {
     "name": "stdout",
     "output_type": "stream",
     "text": [
      "다음날짜로 선택시작\n",
      "다음 날짜 선택 후 크롤링 준비\n",
      "https://search.naver.com/search.naver?where=news&query=%EC%BD%94%EC%8A%A4%ED%94%BC%20%EA%B2%BD%EC%A0%9C&sm=tab_opt&sort=0&photo=0&field=0&pd=3&ds=2021.09.21&de=2021.09.21&docid=&related=0&mynews=0&office_type=0&office_section_code=0&news_office_checked=&nso=so%3Ar%2Cp%3Afrom20210921to20210921&is_sug_officeid=0\n",
      "https://search.naver.com/search.naver?where=news&sm=tab_pge&query=%EC%BD%94%EC%8A%A4%ED%94%BC%20%EA%B2%BD%EC%A0%9C&sort=0&photo=0&field=0&pd=3&ds=2021.09.21&de=2021.09.21&cluster_rank=10&mynews=0&office_type=0&office_section_code=0&news_office_checked=&nso=so:r,p:from20210921to20210921,a:all&start=11\n",
      "https://search.naver.com/search.naver?where=news&sm=tab_pge&query=%EC%BD%94%EC%8A%A4%ED%94%BC%20%EA%B2%BD%EC%A0%9C&sort=0&photo=0&field=0&pd=3&ds=2021.09.21&de=2021.09.21&cluster_rank=10&mynews=0&office_type=0&office_section_code=0&news_office_checked=&nso=so:r,p:from20210921to20210921,a:all&start=11\n",
      "크롤링 준비\n"
     ]
    },
    {
     "name": "stderr",
     "output_type": "stream",
     "text": [
      "\n",
      "\n",
      "preprocessing day:  68%|██████████████████████████████████████████▋                    | 21/31 [02:26<01:07,  6.77s/it]\u001b[A\u001b[A"
     ]
    },
    {
     "name": "stdout",
     "output_type": "stream",
     "text": [
      "다음날짜로 선택시작\n",
      "다음 날짜 선택 후 크롤링 준비\n",
      "https://search.naver.com/search.naver?where=news&query=%EC%BD%94%EC%8A%A4%ED%94%BC%20%EA%B2%BD%EC%A0%9C&sm=tab_opt&sort=0&photo=0&field=0&pd=3&ds=2021.09.22&de=2021.09.22&docid=&related=0&mynews=0&office_type=0&office_section_code=0&news_office_checked=&nso=so%3Ar%2Cp%3Afrom20210922to20210922&is_sug_officeid=0\n",
      "https://search.naver.com/search.naver?where=news&sm=tab_pge&query=%EC%BD%94%EC%8A%A4%ED%94%BC%20%EA%B2%BD%EC%A0%9C&sort=0&photo=0&field=0&pd=3&ds=2021.09.22&de=2021.09.22&cluster_rank=14&mynews=0&office_type=0&office_section_code=0&news_office_checked=&nso=so:r,p:from20210922to20210922,a:all&start=11\n",
      "https://search.naver.com/search.naver?where=news&sm=tab_pge&query=%EC%BD%94%EC%8A%A4%ED%94%BC%20%EA%B2%BD%EC%A0%9C&sort=0&photo=0&field=0&pd=3&ds=2021.09.22&de=2021.09.22&cluster_rank=26&mynews=0&office_type=0&office_section_code=0&news_office_checked=&nso=so:r,p:from20210922to20210922,a:all&start=21\n",
      "크롤링 준비\n"
     ]
    },
    {
     "name": "stderr",
     "output_type": "stream",
     "text": [
      "\n",
      "\n",
      "preprocessing day:  71%|████████████████████████████████████████████▋                  | 22/31 [02:33<01:01,  6.88s/it]\u001b[A\u001b[A"
     ]
    },
    {
     "name": "stdout",
     "output_type": "stream",
     "text": [
      "다음날짜로 선택시작\n",
      "다음 날짜 선택 후 크롤링 준비\n",
      "https://search.naver.com/search.naver?where=news&query=%EC%BD%94%EC%8A%A4%ED%94%BC%20%EA%B2%BD%EC%A0%9C&sm=tab_opt&sort=0&photo=0&field=0&pd=3&ds=2021.09.23&de=2021.09.23&docid=&related=0&mynews=0&office_type=0&office_section_code=0&news_office_checked=&nso=so%3Ar%2Cp%3Afrom20210923to20210923&is_sug_officeid=0\n",
      "https://search.naver.com/search.naver?where=news&sm=tab_pge&query=%EC%BD%94%EC%8A%A4%ED%94%BC%20%EA%B2%BD%EC%A0%9C&sort=0&photo=0&field=0&pd=3&ds=2021.09.23&de=2021.09.23&cluster_rank=14&mynews=0&office_type=0&office_section_code=0&news_office_checked=&nso=so:r,p:from20210923to20210923,a:all&start=11\n",
      "https://search.naver.com/search.naver?where=news&sm=tab_pge&query=%EC%BD%94%EC%8A%A4%ED%94%BC%20%EA%B2%BD%EC%A0%9C&sort=0&photo=0&field=0&pd=3&ds=2021.09.23&de=2021.09.23&cluster_rank=27&mynews=0&office_type=0&office_section_code=0&news_office_checked=&nso=so:r,p:from20210923to20210923,a:all&start=21\n",
      "크롤링 준비\n"
     ]
    },
    {
     "name": "stderr",
     "output_type": "stream",
     "text": [
      "\n",
      "\n",
      "preprocessing day:  74%|██████████████████████████████████████████████▋                | 23/31 [02:40<00:56,  7.09s/it]\u001b[A\u001b[A"
     ]
    },
    {
     "name": "stdout",
     "output_type": "stream",
     "text": [
      "다음날짜로 선택시작\n",
      "다음 날짜 선택 후 크롤링 준비\n",
      "https://search.naver.com/search.naver?where=news&query=%EC%BD%94%EC%8A%A4%ED%94%BC%20%EA%B2%BD%EC%A0%9C&sm=tab_opt&sort=0&photo=0&field=0&pd=3&ds=2021.09.24&de=2021.09.24&docid=&related=0&mynews=0&office_type=0&office_section_code=0&news_office_checked=&nso=so%3Ar%2Cp%3Afrom20210924to20210924&is_sug_officeid=0\n",
      "https://search.naver.com/search.naver?where=news&sm=tab_pge&query=%EC%BD%94%EC%8A%A4%ED%94%BC%20%EA%B2%BD%EC%A0%9C&sort=0&photo=0&field=0&pd=3&ds=2021.09.24&de=2021.09.24&cluster_rank=12&mynews=0&office_type=0&office_section_code=0&news_office_checked=&nso=so:r,p:from20210924to20210924,a:all&start=11\n",
      "https://search.naver.com/search.naver?where=news&sm=tab_pge&query=%EC%BD%94%EC%8A%A4%ED%94%BC%20%EA%B2%BD%EC%A0%9C&sort=0&photo=0&field=0&pd=3&ds=2021.09.24&de=2021.09.24&cluster_rank=22&mynews=0&office_type=0&office_section_code=0&news_office_checked=&nso=so:r,p:from20210924to20210924,a:all&start=21\n",
      "크롤링 준비\n"
     ]
    },
    {
     "name": "stderr",
     "output_type": "stream",
     "text": [
      "\n",
      "\n",
      "preprocessing day:  77%|████████████████████████████████████████████████▊              | 24/31 [02:48<00:50,  7.21s/it]\u001b[A\u001b[A"
     ]
    },
    {
     "name": "stdout",
     "output_type": "stream",
     "text": [
      "다음날짜로 선택시작\n",
      "다음 날짜 선택 후 크롤링 준비\n",
      "https://search.naver.com/search.naver?where=news&query=%EC%BD%94%EC%8A%A4%ED%94%BC%20%EA%B2%BD%EC%A0%9C&sm=tab_opt&sort=0&photo=0&field=0&pd=3&ds=2021.09.25&de=2021.09.25&docid=&related=0&mynews=0&office_type=0&office_section_code=0&news_office_checked=&nso=so%3Ar%2Cp%3Afrom20210925to20210925&is_sug_officeid=0\n",
      "https://search.naver.com/search.naver?where=news&query=%EC%BD%94%EC%8A%A4%ED%94%BC%20%EA%B2%BD%EC%A0%9C&sm=tab_opt&sort=0&photo=0&field=0&pd=3&ds=2021.09.25&de=2021.09.25&docid=&related=0&mynews=0&office_type=0&office_section_code=0&news_office_checked=&nso=so%3Ar%2Cp%3Afrom20210925to20210925&is_sug_officeid=0\n",
      "크롤링 준비\n"
     ]
    },
    {
     "name": "stderr",
     "output_type": "stream",
     "text": [
      "\n",
      "\n",
      "preprocessing day:  81%|██████████████████████████████████████████████████▊            | 25/31 [02:54<00:41,  6.92s/it]\u001b[A\u001b[A"
     ]
    },
    {
     "name": "stdout",
     "output_type": "stream",
     "text": [
      "다음날짜로 선택시작\n",
      "다음 날짜 선택 후 크롤링 준비\n",
      "https://search.naver.com/search.naver?where=news&query=%EC%BD%94%EC%8A%A4%ED%94%BC%20%EA%B2%BD%EC%A0%9C&sm=tab_opt&sort=0&photo=0&field=0&pd=3&ds=2021.09.26&de=2021.09.26&docid=&related=0&mynews=0&office_type=0&office_section_code=0&news_office_checked=&nso=so%3Ar%2Cp%3Afrom20210926to20210926&is_sug_officeid=0\n",
      "https://search.naver.com/search.naver?where=news&sm=tab_pge&query=%EC%BD%94%EC%8A%A4%ED%94%BC%20%EA%B2%BD%EC%A0%9C&sort=0&photo=0&field=0&pd=3&ds=2021.09.26&de=2021.09.26&cluster_rank=10&mynews=0&office_type=0&office_section_code=0&news_office_checked=&nso=so:r,p:from20210926to20210926,a:all&start=11\n",
      "https://search.naver.com/search.naver?where=news&sm=tab_pge&query=%EC%BD%94%EC%8A%A4%ED%94%BC%20%EA%B2%BD%EC%A0%9C&sort=0&photo=0&field=0&pd=3&ds=2021.09.26&de=2021.09.26&cluster_rank=10&mynews=0&office_type=0&office_section_code=0&news_office_checked=&nso=so:r,p:from20210926to20210926,a:all&start=11\n",
      "크롤링 준비\n"
     ]
    },
    {
     "name": "stderr",
     "output_type": "stream",
     "text": [
      "\n",
      "\n",
      "preprocessing day:  84%|████████████████████████████████████████████████████▊          | 26/31 [03:01<00:34,  6.84s/it]\u001b[A\u001b[A"
     ]
    },
    {
     "name": "stdout",
     "output_type": "stream",
     "text": [
      "다음날짜로 선택시작\n",
      "다음 날짜 선택 후 크롤링 준비\n",
      "https://search.naver.com/search.naver?where=news&query=%EC%BD%94%EC%8A%A4%ED%94%BC%20%EA%B2%BD%EC%A0%9C&sm=tab_opt&sort=0&photo=0&field=0&pd=3&ds=2021.09.27&de=2021.09.27&docid=&related=0&mynews=0&office_type=0&office_section_code=0&news_office_checked=&nso=so%3Ar%2Cp%3Afrom20210927to20210927&is_sug_officeid=0\n",
      "https://search.naver.com/search.naver?where=news&sm=tab_pge&query=%EC%BD%94%EC%8A%A4%ED%94%BC%20%EA%B2%BD%EC%A0%9C&sort=0&photo=0&field=0&pd=3&ds=2021.09.27&de=2021.09.27&cluster_rank=13&mynews=0&office_type=0&office_section_code=0&news_office_checked=&nso=so:r,p:from20210927to20210927,a:all&start=11\n",
      "https://search.naver.com/search.naver?where=news&sm=tab_pge&query=%EC%BD%94%EC%8A%A4%ED%94%BC%20%EA%B2%BD%EC%A0%9C&sort=0&photo=0&field=0&pd=3&ds=2021.09.27&de=2021.09.27&cluster_rank=24&mynews=0&office_type=0&office_section_code=0&news_office_checked=&nso=so:r,p:from20210927to20210927,a:all&start=21\n",
      "크롤링 준비\n"
     ]
    },
    {
     "name": "stderr",
     "output_type": "stream",
     "text": [
      "\n",
      "\n",
      "preprocessing day:  87%|██████████████████████████████████████████████████████▊        | 27/31 [03:08<00:27,  7.00s/it]\u001b[A\u001b[A"
     ]
    },
    {
     "name": "stdout",
     "output_type": "stream",
     "text": [
      "다음날짜로 선택시작\n",
      "다음 날짜 선택 후 크롤링 준비\n",
      "https://search.naver.com/search.naver?where=news&query=%EC%BD%94%EC%8A%A4%ED%94%BC%20%EA%B2%BD%EC%A0%9C&sm=tab_opt&sort=0&photo=0&field=0&pd=3&ds=2021.09.28&de=2021.09.28&docid=&related=0&mynews=0&office_type=0&office_section_code=0&news_office_checked=&nso=so%3Ar%2Cp%3Afrom20210928to20210928&is_sug_officeid=0\n",
      "https://search.naver.com/search.naver?where=news&sm=tab_pge&query=%EC%BD%94%EC%8A%A4%ED%94%BC%20%EA%B2%BD%EC%A0%9C&sort=0&photo=0&field=0&pd=3&ds=2021.09.28&de=2021.09.28&cluster_rank=12&mynews=0&office_type=0&office_section_code=0&news_office_checked=&nso=so:r,p:from20210928to20210928,a:all&start=11\n",
      "https://search.naver.com/search.naver?where=news&sm=tab_pge&query=%EC%BD%94%EC%8A%A4%ED%94%BC%20%EA%B2%BD%EC%A0%9C&sort=0&photo=0&field=0&pd=3&ds=2021.09.28&de=2021.09.28&cluster_rank=22&mynews=0&office_type=0&office_section_code=0&news_office_checked=&nso=so:r,p:from20210928to20210928,a:all&start=21\n",
      "크롤링 준비\n"
     ]
    },
    {
     "name": "stderr",
     "output_type": "stream",
     "text": [
      "\n",
      "\n",
      "preprocessing day:  90%|████████████████████████████████████████████████████████▉      | 28/31 [03:16<00:21,  7.08s/it]\u001b[A\u001b[A"
     ]
    },
    {
     "name": "stdout",
     "output_type": "stream",
     "text": [
      "다음날짜로 선택시작\n",
      "다음 날짜 선택 후 크롤링 준비\n",
      "https://search.naver.com/search.naver?where=news&query=%EC%BD%94%EC%8A%A4%ED%94%BC%20%EA%B2%BD%EC%A0%9C&sm=tab_opt&sort=0&photo=0&field=0&pd=3&ds=2021.09.29&de=2021.09.29&docid=&related=0&mynews=0&office_type=0&office_section_code=0&news_office_checked=&nso=so%3Ar%2Cp%3Afrom20210929to20210929&is_sug_officeid=0\n",
      "https://search.naver.com/search.naver?where=news&sm=tab_pge&query=%EC%BD%94%EC%8A%A4%ED%94%BC%20%EA%B2%BD%EC%A0%9C&sort=0&photo=0&field=0&pd=3&ds=2021.09.29&de=2021.09.29&cluster_rank=11&mynews=0&office_type=0&office_section_code=0&news_office_checked=&nso=so:r,p:from20210929to20210929,a:all&start=11\n",
      "https://search.naver.com/search.naver?where=news&sm=tab_pge&query=%EC%BD%94%EC%8A%A4%ED%94%BC%20%EA%B2%BD%EC%A0%9C&sort=0&photo=0&field=0&pd=3&ds=2021.09.29&de=2021.09.29&cluster_rank=21&mynews=0&office_type=0&office_section_code=0&news_office_checked=&nso=so:r,p:from20210929to20210929,a:all&start=21\n",
      "크롤링 준비\n"
     ]
    },
    {
     "name": "stderr",
     "output_type": "stream",
     "text": [
      "\n",
      "\n",
      "preprocessing day:  94%|██████████████████████████████████████████████████████████▉    | 29/31 [03:23<00:14,  7.12s/it]\u001b[A\u001b[A"
     ]
    },
    {
     "name": "stdout",
     "output_type": "stream",
     "text": [
      "다음날짜로 선택시작\n",
      "다음 날짜 선택 후 크롤링 준비\n",
      "https://search.naver.com/search.naver?where=news&query=%EC%BD%94%EC%8A%A4%ED%94%BC%20%EA%B2%BD%EC%A0%9C&sm=tab_opt&sort=0&photo=0&field=0&pd=3&ds=2021.09.30&de=2021.09.30&docid=&related=0&mynews=0&office_type=0&office_section_code=0&news_office_checked=&nso=so%3Ar%2Cp%3Afrom20210930to20210930&is_sug_officeid=0\n",
      "https://search.naver.com/search.naver?where=news&sm=tab_pge&query=%EC%BD%94%EC%8A%A4%ED%94%BC%20%EA%B2%BD%EC%A0%9C&sort=0&photo=0&field=0&pd=3&ds=2021.09.30&de=2021.09.30&cluster_rank=10&mynews=0&office_type=0&office_section_code=0&news_office_checked=&nso=so:r,p:from20210930to20210930,a:all&start=11\n",
      "https://search.naver.com/search.naver?where=news&sm=tab_pge&query=%EC%BD%94%EC%8A%A4%ED%94%BC%20%EA%B2%BD%EC%A0%9C&sort=0&photo=0&field=0&pd=3&ds=2021.09.30&de=2021.09.30&cluster_rank=21&mynews=0&office_type=0&office_section_code=0&news_office_checked=&nso=so:r,p:from20210930to20210930,a:all&start=21\n",
      "크롤링 준비\n"
     ]
    },
    {
     "name": "stderr",
     "output_type": "stream",
     "text": [
      "\n",
      "\n",
      "preprocessing day:  97%|████████████████████████████████████████████████████████████▉  | 30/31 [03:30<00:07,  7.13s/it]\u001b[A\u001b[A"
     ]
    },
    {
     "name": "stdout",
     "output_type": "stream",
     "text": [
      "다음날짜로 선택시작\n"
     ]
    },
    {
     "name": "stderr",
     "output_type": "stream",
     "text": [
      "\n",
      "\n",
      "preprocessing day: 100%|███████████████████████████████████████████████████████████████| 31/31 [03:31<00:00,  6.82s/it]\u001b[A\u001b[A\n",
      "\n",
      "preprocessing month:  75%|█████████████████████████████████████████████▊               | 9/12 [32:28<10:52, 217.37s/it]\u001b[A"
     ]
    },
    {
     "name": "stdout",
     "output_type": "stream",
     "text": [
      "An error occurred while crawling for 2021-9-31: Message: no such element: Unable to locate element: {\"method\":\"xpath\",\"selector\":\"/html/body/div[3]/div[2]/div/div[1]/div[1]/div[2]/ul/li[2]/div/div[3]/div[2]/div[3]/div/div/div/ul/li[31]\"}\n",
      "  (Session info: headless chrome=115.0.5790.171); For documentation on this error, please visit: https://www.selenium.dev/documentation/webdriver/troubleshooting/errors#no-such-element-exception\n",
      "Stacktrace:\n",
      "Backtrace:\n",
      "\tGetHandleVerifier [0x00007FF7F2764A62+57106]\n",
      "\t(No symbol) [0x00007FF7F26DCF52]\n",
      "\t(No symbol) [0x00007FF7F25AE2CB]\n",
      "\t(No symbol) [0x00007FF7F25E786E]\n",
      "\t(No symbol) [0x00007FF7F25E795C]\n",
      "\t(No symbol) [0x00007FF7F2620477]\n",
      "\t(No symbol) [0x00007FF7F26069FF]\n",
      "\t(No symbol) [0x00007FF7F261E522]\n",
      "\t(No symbol) [0x00007FF7F2606793]\n",
      "\t(No symbol) [0x00007FF7F25DCE81]\n",
      "\t(No symbol) [0x00007FF7F25DE064]\n",
      "\tGetHandleVerifier [0x00007FF7F2A14222+2873042]\n",
      "\tGetHandleVerifier [0x00007FF7F2A66590+3209792]\n",
      "\tGetHandleVerifier [0x00007FF7F2A5F3AF+3180639]\n",
      "\tGetHandleVerifier [0x00007FF7F27F5F25+652245]\n",
      "\t(No symbol) [0x00007FF7F26E8618]\n",
      "\t(No symbol) [0x00007FF7F26E47C4]\n",
      "\t(No symbol) [0x00007FF7F26E48BC]\n",
      "\t(No symbol) [0x00007FF7F26D4C33]\n",
      "\tBaseThreadInitThunk [0x00007FFFF2917614+20]\n",
      "\tRtlUserThreadStart [0x00007FFFF3D026B1+33]\n",
      "\n"
     ]
    },
    {
     "name": "stderr",
     "output_type": "stream",
     "text": [
      "\n",
      "\n",
      "preprocessing day:   0%|                                                                        | 0/31 [00:00<?, ?it/s]\u001b[A\u001b[A"
     ]
    },
    {
     "name": "stdout",
     "output_type": "stream",
     "text": [
      "다음 날짜 선택 후 크롤링 준비\n",
      "https://search.naver.com/search.naver?where=news&query=%EC%BD%94%EC%8A%A4%ED%94%BC%20%EA%B2%BD%EC%A0%9C&sm=tab_opt&sort=0&photo=0&field=0&pd=3&ds=2021.10.01&de=2021.10.01&docid=&related=0&mynews=0&office_type=0&office_section_code=0&news_office_checked=&nso=so%3Ar%2Cp%3Afrom20211001to20211001&is_sug_officeid=0\n",
      "https://search.naver.com/search.naver?where=news&sm=tab_pge&query=%EC%BD%94%EC%8A%A4%ED%94%BC%20%EA%B2%BD%EC%A0%9C&sort=0&photo=0&field=0&pd=3&ds=2021.10.01&de=2021.10.01&cluster_rank=12&mynews=0&office_type=0&office_section_code=0&news_office_checked=&nso=so:r,p:from20211001to20211001,a:all&start=11\n",
      "https://search.naver.com/search.naver?where=news&sm=tab_pge&query=%EC%BD%94%EC%8A%A4%ED%94%BC%20%EA%B2%BD%EC%A0%9C&sort=0&photo=0&field=0&pd=3&ds=2021.10.01&de=2021.10.01&cluster_rank=24&mynews=0&office_type=0&office_section_code=0&news_office_checked=&nso=so:r,p:from20211001to20211001,a:all&start=21\n",
      "크롤링 준비\n"
     ]
    },
    {
     "name": "stderr",
     "output_type": "stream",
     "text": [
      "\n",
      "\n",
      "preprocessing day:   3%|██                                                              | 1/31 [00:07<03:47,  7.59s/it]\u001b[A\u001b[A"
     ]
    },
    {
     "name": "stdout",
     "output_type": "stream",
     "text": [
      "다음날짜로 선택시작\n",
      "다음 날짜 선택 후 크롤링 준비\n",
      "https://search.naver.com/search.naver?where=news&query=%EC%BD%94%EC%8A%A4%ED%94%BC%20%EA%B2%BD%EC%A0%9C&sm=tab_opt&sort=0&photo=0&field=0&pd=3&ds=2021.10.02&de=2021.10.02&docid=&related=0&mynews=0&office_type=0&office_section_code=0&news_office_checked=&nso=so%3Ar%2Cp%3Afrom20211002to20211002&is_sug_officeid=0\n",
      "https://search.naver.com/search.naver?where=news&query=%EC%BD%94%EC%8A%A4%ED%94%BC%20%EA%B2%BD%EC%A0%9C&sm=tab_opt&sort=0&photo=0&field=0&pd=3&ds=2021.10.02&de=2021.10.02&docid=&related=0&mynews=0&office_type=0&office_section_code=0&news_office_checked=&nso=so%3Ar%2Cp%3Afrom20211002to20211002&is_sug_officeid=0\n",
      "크롤링 준비\n"
     ]
    },
    {
     "name": "stderr",
     "output_type": "stream",
     "text": [
      "\n",
      "\n",
      "preprocessing day:   6%|████▏                                                           | 2/31 [00:13<03:16,  6.77s/it]\u001b[A\u001b[A"
     ]
    },
    {
     "name": "stdout",
     "output_type": "stream",
     "text": [
      "다음날짜로 선택시작\n",
      "다음 날짜 선택 후 크롤링 준비\n",
      "https://search.naver.com/search.naver?where=news&query=%EC%BD%94%EC%8A%A4%ED%94%BC%20%EA%B2%BD%EC%A0%9C&sm=tab_opt&sort=0&photo=0&field=0&pd=3&ds=2021.10.03&de=2021.10.03&docid=&related=0&mynews=0&office_type=0&office_section_code=0&news_office_checked=&nso=so%3Ar%2Cp%3Afrom20211003to20211003&is_sug_officeid=0\n",
      "https://search.naver.com/search.naver?where=news&sm=tab_pge&query=%EC%BD%94%EC%8A%A4%ED%94%BC%20%EA%B2%BD%EC%A0%9C&sort=0&photo=0&field=0&pd=3&ds=2021.10.03&de=2021.10.03&cluster_rank=11&mynews=0&office_type=0&office_section_code=0&news_office_checked=&nso=so:r,p:from20211003to20211003,a:all&start=11\n",
      "https://search.naver.com/search.naver?where=news&sm=tab_pge&query=%EC%BD%94%EC%8A%A4%ED%94%BC%20%EA%B2%BD%EC%A0%9C&sort=0&photo=0&field=0&pd=3&ds=2021.10.03&de=2021.10.03&cluster_rank=11&mynews=0&office_type=0&office_section_code=0&news_office_checked=&nso=so:r,p:from20211003to20211003,a:all&start=11\n",
      "크롤링 준비\n"
     ]
    },
    {
     "name": "stderr",
     "output_type": "stream",
     "text": [
      "\n",
      "\n",
      "preprocessing day:  10%|██████▏                                                         | 3/31 [00:20<03:12,  6.86s/it]\u001b[A\u001b[A"
     ]
    },
    {
     "name": "stdout",
     "output_type": "stream",
     "text": [
      "다음날짜로 선택시작\n",
      "다음 날짜 선택 후 크롤링 준비\n",
      "https://search.naver.com/search.naver?where=news&query=%EC%BD%94%EC%8A%A4%ED%94%BC%20%EA%B2%BD%EC%A0%9C&sm=tab_opt&sort=0&photo=0&field=0&pd=3&ds=2021.10.04&de=2021.10.04&docid=&related=0&mynews=0&office_type=0&office_section_code=0&news_office_checked=&nso=so%3Ar%2Cp%3Afrom20211004to20211004&is_sug_officeid=0\n",
      "https://search.naver.com/search.naver?where=news&sm=tab_pge&query=%EC%BD%94%EC%8A%A4%ED%94%BC%20%EA%B2%BD%EC%A0%9C&sort=0&photo=0&field=0&pd=3&ds=2021.10.04&de=2021.10.04&cluster_rank=10&mynews=0&office_type=0&office_section_code=0&news_office_checked=&nso=so:r,p:from20211004to20211004,a:all&start=11\n",
      "https://search.naver.com/search.naver?where=news&sm=tab_pge&query=%EC%BD%94%EC%8A%A4%ED%94%BC%20%EA%B2%BD%EC%A0%9C&sort=0&photo=0&field=0&pd=3&ds=2021.10.04&de=2021.10.04&cluster_rank=21&mynews=0&office_type=0&office_section_code=0&news_office_checked=&nso=so:r,p:from20211004to20211004,a:all&start=21\n",
      "크롤링 준비\n"
     ]
    },
    {
     "name": "stderr",
     "output_type": "stream",
     "text": [
      "\n",
      "\n",
      "preprocessing day:  13%|████████▎                                                       | 4/31 [00:27<03:07,  6.94s/it]\u001b[A\u001b[A"
     ]
    },
    {
     "name": "stdout",
     "output_type": "stream",
     "text": [
      "다음날짜로 선택시작\n",
      "다음 날짜 선택 후 크롤링 준비\n",
      "https://search.naver.com/search.naver?where=news&query=%EC%BD%94%EC%8A%A4%ED%94%BC%20%EA%B2%BD%EC%A0%9C&sm=tab_opt&sort=0&photo=0&field=0&pd=3&ds=2021.10.05&de=2021.10.05&docid=&related=0&mynews=0&office_type=0&office_section_code=0&news_office_checked=&nso=so%3Ar%2Cp%3Afrom20211005to20211005&is_sug_officeid=0\n",
      "https://search.naver.com/search.naver?where=news&sm=tab_pge&query=%EC%BD%94%EC%8A%A4%ED%94%BC%20%EA%B2%BD%EC%A0%9C&sort=0&photo=0&field=0&pd=3&ds=2021.10.05&de=2021.10.05&cluster_rank=13&mynews=0&office_type=0&office_section_code=0&news_office_checked=&nso=so:r,p:from20211005to20211005,a:all&start=11\n",
      "https://search.naver.com/search.naver?where=news&sm=tab_pge&query=%EC%BD%94%EC%8A%A4%ED%94%BC%20%EA%B2%BD%EC%A0%9C&sort=0&photo=0&field=0&pd=3&ds=2021.10.05&de=2021.10.05&cluster_rank=25&mynews=0&office_type=0&office_section_code=0&news_office_checked=&nso=so:r,p:from20211005to20211005,a:all&start=21\n",
      "크롤링 준비\n"
     ]
    },
    {
     "name": "stderr",
     "output_type": "stream",
     "text": [
      "\n",
      "\n",
      "preprocessing day:  16%|██████████▎                                                     | 5/31 [00:34<03:01,  6.98s/it]\u001b[A\u001b[A"
     ]
    },
    {
     "name": "stdout",
     "output_type": "stream",
     "text": [
      "다음날짜로 선택시작\n",
      "다음 날짜 선택 후 크롤링 준비\n",
      "https://search.naver.com/search.naver?where=news&query=%EC%BD%94%EC%8A%A4%ED%94%BC%20%EA%B2%BD%EC%A0%9C&sm=tab_opt&sort=0&photo=0&field=0&pd=3&ds=2021.10.06&de=2021.10.06&docid=&related=0&mynews=0&office_type=0&office_section_code=0&news_office_checked=&nso=so%3Ar%2Cp%3Afrom20211006to20211006&is_sug_officeid=0\n",
      "https://search.naver.com/search.naver?where=news&sm=tab_pge&query=%EC%BD%94%EC%8A%A4%ED%94%BC%20%EA%B2%BD%EC%A0%9C&sort=0&photo=0&field=0&pd=3&ds=2021.10.06&de=2021.10.06&cluster_rank=11&mynews=0&office_type=0&office_section_code=0&news_office_checked=&nso=so:r,p:from20211006to20211006,a:all&start=11\n",
      "https://search.naver.com/search.naver?where=news&sm=tab_pge&query=%EC%BD%94%EC%8A%A4%ED%94%BC%20%EA%B2%BD%EC%A0%9C&sort=0&photo=0&field=0&pd=3&ds=2021.10.06&de=2021.10.06&cluster_rank=21&mynews=0&office_type=0&office_section_code=0&news_office_checked=&nso=so:r,p:from20211006to20211006,a:all&start=21\n",
      "크롤링 준비\n"
     ]
    },
    {
     "name": "stderr",
     "output_type": "stream",
     "text": [
      "\n",
      "\n",
      "preprocessing day:  19%|████████████▍                                                   | 6/31 [00:41<02:55,  7.00s/it]\u001b[A\u001b[A"
     ]
    },
    {
     "name": "stdout",
     "output_type": "stream",
     "text": [
      "다음날짜로 선택시작\n",
      "다음 날짜 선택 후 크롤링 준비\n",
      "https://search.naver.com/search.naver?where=news&query=%EC%BD%94%EC%8A%A4%ED%94%BC%20%EA%B2%BD%EC%A0%9C&sm=tab_opt&sort=0&photo=0&field=0&pd=3&ds=2021.10.07&de=2021.10.07&docid=&related=0&mynews=0&office_type=0&office_section_code=0&news_office_checked=&nso=so%3Ar%2Cp%3Afrom20211007to20211007&is_sug_officeid=0\n",
      "https://search.naver.com/search.naver?where=news&sm=tab_pge&query=%EC%BD%94%EC%8A%A4%ED%94%BC%20%EA%B2%BD%EC%A0%9C&sort=0&photo=0&field=0&pd=3&ds=2021.10.07&de=2021.10.07&cluster_rank=15&mynews=0&office_type=0&office_section_code=0&news_office_checked=&nso=so:r,p:from20211007to20211007,a:all&start=11\n",
      "https://search.naver.com/search.naver?where=news&sm=tab_pge&query=%EC%BD%94%EC%8A%A4%ED%94%BC%20%EA%B2%BD%EC%A0%9C&sort=0&photo=0&field=0&pd=3&ds=2021.10.07&de=2021.10.07&cluster_rank=30&mynews=0&office_type=0&office_section_code=0&news_office_checked=&nso=so:r,p:from20211007to20211007,a:all&start=21\n",
      "크롤링 준비\n"
     ]
    },
    {
     "name": "stderr",
     "output_type": "stream",
     "text": [
      "\n",
      "\n",
      "preprocessing day:  23%|██████████████▍                                                 | 7/31 [00:48<02:48,  7.01s/it]\u001b[A\u001b[A"
     ]
    },
    {
     "name": "stdout",
     "output_type": "stream",
     "text": [
      "다음날짜로 선택시작\n",
      "다음 날짜 선택 후 크롤링 준비\n",
      "https://search.naver.com/search.naver?where=news&query=%EC%BD%94%EC%8A%A4%ED%94%BC%20%EA%B2%BD%EC%A0%9C&sm=tab_opt&sort=0&photo=0&field=0&pd=3&ds=2021.10.08&de=2021.10.08&docid=&related=0&mynews=0&office_type=0&office_section_code=0&news_office_checked=&nso=so%3Ar%2Cp%3Afrom20211008to20211008&is_sug_officeid=0\n",
      "https://search.naver.com/search.naver?where=news&sm=tab_pge&query=%EC%BD%94%EC%8A%A4%ED%94%BC%20%EA%B2%BD%EC%A0%9C&sort=0&photo=0&field=0&pd=3&ds=2021.10.08&de=2021.10.08&cluster_rank=11&mynews=0&office_type=0&office_section_code=0&news_office_checked=&nso=so:r,p:from20211008to20211008,a:all&start=11\n",
      "https://search.naver.com/search.naver?where=news&sm=tab_pge&query=%EC%BD%94%EC%8A%A4%ED%94%BC%20%EA%B2%BD%EC%A0%9C&sort=0&photo=0&field=0&pd=3&ds=2021.10.08&de=2021.10.08&cluster_rank=28&mynews=0&office_type=0&office_section_code=0&news_office_checked=&nso=so:r,p:from20211008to20211008,a:all&start=21\n",
      "크롤링 준비\n"
     ]
    },
    {
     "name": "stderr",
     "output_type": "stream",
     "text": [
      "\n",
      "\n",
      "preprocessing day:  26%|████████████████▌                                               | 8/31 [00:55<02:41,  7.01s/it]\u001b[A\u001b[A"
     ]
    },
    {
     "name": "stdout",
     "output_type": "stream",
     "text": [
      "다음날짜로 선택시작\n",
      "다음 날짜 선택 후 크롤링 준비\n",
      "https://search.naver.com/search.naver?where=news&query=%EC%BD%94%EC%8A%A4%ED%94%BC%20%EA%B2%BD%EC%A0%9C&sm=tab_opt&sort=0&photo=0&field=0&pd=3&ds=2021.10.09&de=2021.10.09&docid=&related=0&mynews=0&office_type=0&office_section_code=0&news_office_checked=&nso=so%3Ar%2Cp%3Afrom20211009to20211009&is_sug_officeid=0\n",
      "https://search.naver.com/search.naver?where=news&sm=tab_pge&query=%EC%BD%94%EC%8A%A4%ED%94%BC%20%EA%B2%BD%EC%A0%9C&sort=0&photo=0&field=0&pd=3&ds=2021.10.09&de=2021.10.09&cluster_rank=10&mynews=0&office_type=0&office_section_code=0&news_office_checked=&nso=so:r,p:from20211009to20211009,a:all&start=11\n",
      "https://search.naver.com/search.naver?where=news&sm=tab_pge&query=%EC%BD%94%EC%8A%A4%ED%94%BC%20%EA%B2%BD%EC%A0%9C&sort=0&photo=0&field=0&pd=3&ds=2021.10.09&de=2021.10.09&cluster_rank=10&mynews=0&office_type=0&office_section_code=0&news_office_checked=&nso=so:r,p:from20211009to20211009,a:all&start=11\n",
      "크롤링 준비\n"
     ]
    },
    {
     "name": "stderr",
     "output_type": "stream",
     "text": [
      "\n",
      "\n",
      "preprocessing day:  29%|██████████████████▌                                             | 9/31 [01:02<02:31,  6.88s/it]\u001b[A\u001b[A"
     ]
    },
    {
     "name": "stdout",
     "output_type": "stream",
     "text": [
      "다음날짜로 선택시작\n",
      "다음 날짜 선택 후 크롤링 준비\n",
      "https://search.naver.com/search.naver?where=news&query=%EC%BD%94%EC%8A%A4%ED%94%BC%20%EA%B2%BD%EC%A0%9C&sm=tab_opt&sort=0&photo=0&field=0&pd=3&ds=2021.10.10&de=2021.10.10&docid=&related=0&mynews=0&office_type=0&office_section_code=0&news_office_checked=&nso=so%3Ar%2Cp%3Afrom20211010to20211010&is_sug_officeid=0\n",
      "https://search.naver.com/search.naver?where=news&sm=tab_pge&query=%EC%BD%94%EC%8A%A4%ED%94%BC%20%EA%B2%BD%EC%A0%9C&sort=0&photo=0&field=0&pd=3&ds=2021.10.10&de=2021.10.10&cluster_rank=16&mynews=0&office_type=0&office_section_code=0&news_office_checked=&nso=so:r,p:from20211010to20211010,a:all&start=11\n",
      "https://search.naver.com/search.naver?where=news&sm=tab_pge&query=%EC%BD%94%EC%8A%A4%ED%94%BC%20%EA%B2%BD%EC%A0%9C&sort=0&photo=0&field=0&pd=3&ds=2021.10.10&de=2021.10.10&cluster_rank=27&mynews=0&office_type=0&office_section_code=0&news_office_checked=&nso=so:r,p:from20211010to20211010,a:all&start=21\n",
      "크롤링 준비\n"
     ]
    },
    {
     "name": "stderr",
     "output_type": "stream",
     "text": [
      "\n",
      "\n",
      "preprocessing day:  32%|████████████████████▎                                          | 10/31 [01:09<02:25,  6.94s/it]\u001b[A\u001b[A"
     ]
    },
    {
     "name": "stdout",
     "output_type": "stream",
     "text": [
      "다음날짜로 선택시작\n",
      "다음 날짜 선택 후 크롤링 준비\n",
      "https://search.naver.com/search.naver?where=news&query=%EC%BD%94%EC%8A%A4%ED%94%BC%20%EA%B2%BD%EC%A0%9C&sm=tab_opt&sort=0&photo=0&field=0&pd=3&ds=2021.10.11&de=2021.10.11&docid=&related=0&mynews=0&office_type=0&office_section_code=0&news_office_checked=&nso=so%3Ar%2Cp%3Afrom20211011to20211011&is_sug_officeid=0\n",
      "https://search.naver.com/search.naver?where=news&sm=tab_pge&query=%EC%BD%94%EC%8A%A4%ED%94%BC%20%EA%B2%BD%EC%A0%9C&sort=0&photo=0&field=0&pd=3&ds=2021.10.11&de=2021.10.11&cluster_rank=14&mynews=0&office_type=0&office_section_code=0&news_office_checked=&nso=so:r,p:from20211011to20211011,a:all&start=11\n",
      "https://search.naver.com/search.naver?where=news&sm=tab_pge&query=%EC%BD%94%EC%8A%A4%ED%94%BC%20%EA%B2%BD%EC%A0%9C&sort=0&photo=0&field=0&pd=3&ds=2021.10.11&de=2021.10.11&cluster_rank=25&mynews=0&office_type=0&office_section_code=0&news_office_checked=&nso=so:r,p:from20211011to20211011,a:all&start=21\n",
      "크롤링 준비\n"
     ]
    },
    {
     "name": "stderr",
     "output_type": "stream",
     "text": [
      "\n",
      "\n",
      "preprocessing day:  35%|██████████████████████▎                                        | 11/31 [01:16<02:19,  6.96s/it]\u001b[A\u001b[A"
     ]
    },
    {
     "name": "stdout",
     "output_type": "stream",
     "text": [
      "다음날짜로 선택시작\n",
      "다음 날짜 선택 후 크롤링 준비\n",
      "https://search.naver.com/search.naver?where=news&query=%EC%BD%94%EC%8A%A4%ED%94%BC%20%EA%B2%BD%EC%A0%9C&sm=tab_opt&sort=0&photo=0&field=0&pd=3&ds=2021.10.12&de=2021.10.12&docid=&related=0&mynews=0&office_type=0&office_section_code=0&news_office_checked=&nso=so%3Ar%2Cp%3Afrom20211012to20211012&is_sug_officeid=0\n",
      "https://search.naver.com/search.naver?where=news&sm=tab_pge&query=%EC%BD%94%EC%8A%A4%ED%94%BC%20%EA%B2%BD%EC%A0%9C&sort=0&photo=0&field=0&pd=3&ds=2021.10.12&de=2021.10.12&cluster_rank=15&mynews=0&office_type=0&office_section_code=0&news_office_checked=&nso=so:r,p:from20211012to20211012,a:all&start=11\n",
      "https://search.naver.com/search.naver?where=news&sm=tab_pge&query=%EC%BD%94%EC%8A%A4%ED%94%BC%20%EA%B2%BD%EC%A0%9C&sort=0&photo=0&field=0&pd=3&ds=2021.10.12&de=2021.10.12&cluster_rank=25&mynews=0&office_type=0&office_section_code=0&news_office_checked=&nso=so:r,p:from20211012to20211012,a:all&start=21\n",
      "크롤링 준비\n"
     ]
    },
    {
     "name": "stderr",
     "output_type": "stream",
     "text": [
      "\n",
      "\n",
      "preprocessing day:  39%|████████████████████████▍                                      | 12/31 [01:23<02:13,  7.01s/it]\u001b[A\u001b[A"
     ]
    },
    {
     "name": "stdout",
     "output_type": "stream",
     "text": [
      "다음날짜로 선택시작\n",
      "다음 날짜 선택 후 크롤링 준비\n",
      "https://search.naver.com/search.naver?where=news&query=%EC%BD%94%EC%8A%A4%ED%94%BC%20%EA%B2%BD%EC%A0%9C&sm=tab_opt&sort=0&photo=0&field=0&pd=3&ds=2021.10.13&de=2021.10.13&docid=&related=0&mynews=0&office_type=0&office_section_code=0&news_office_checked=&nso=so%3Ar%2Cp%3Afrom20211013to20211013&is_sug_officeid=0\n",
      "https://search.naver.com/search.naver?where=news&sm=tab_pge&query=%EC%BD%94%EC%8A%A4%ED%94%BC%20%EA%B2%BD%EC%A0%9C&sort=0&photo=0&field=0&pd=3&ds=2021.10.13&de=2021.10.13&cluster_rank=16&mynews=0&office_type=0&office_section_code=0&news_office_checked=&nso=so:r,p:from20211013to20211013,a:all&start=11\n",
      "https://search.naver.com/search.naver?where=news&sm=tab_pge&query=%EC%BD%94%EC%8A%A4%ED%94%BC%20%EA%B2%BD%EC%A0%9C&sort=0&photo=0&field=0&pd=3&ds=2021.10.13&de=2021.10.13&cluster_rank=26&mynews=0&office_type=0&office_section_code=0&news_office_checked=&nso=so:r,p:from20211013to20211013,a:all&start=21\n",
      "크롤링 준비\n"
     ]
    },
    {
     "name": "stderr",
     "output_type": "stream",
     "text": [
      "\n",
      "\n",
      "preprocessing day:  42%|██████████████████████████▍                                    | 13/31 [01:30<02:06,  7.00s/it]\u001b[A\u001b[A"
     ]
    },
    {
     "name": "stdout",
     "output_type": "stream",
     "text": [
      "다음날짜로 선택시작\n",
      "다음 날짜 선택 후 크롤링 준비\n",
      "https://search.naver.com/search.naver?where=news&query=%EC%BD%94%EC%8A%A4%ED%94%BC%20%EA%B2%BD%EC%A0%9C&sm=tab_opt&sort=0&photo=0&field=0&pd=3&ds=2021.10.14&de=2021.10.14&docid=&related=0&mynews=0&office_type=0&office_section_code=0&news_office_checked=&nso=so%3Ar%2Cp%3Afrom20211014to20211014&is_sug_officeid=0\n",
      "https://search.naver.com/search.naver?where=news&sm=tab_pge&query=%EC%BD%94%EC%8A%A4%ED%94%BC%20%EA%B2%BD%EC%A0%9C&sort=0&photo=0&field=0&pd=3&ds=2021.10.14&de=2021.10.14&cluster_rank=10&mynews=0&office_type=0&office_section_code=0&news_office_checked=&nso=so:r,p:from20211014to20211014,a:all&start=11\n",
      "https://search.naver.com/search.naver?where=news&sm=tab_pge&query=%EC%BD%94%EC%8A%A4%ED%94%BC%20%EA%B2%BD%EC%A0%9C&sort=0&photo=0&field=0&pd=3&ds=2021.10.14&de=2021.10.14&cluster_rank=27&mynews=0&office_type=0&office_section_code=0&news_office_checked=&nso=so:r,p:from20211014to20211014,a:all&start=21\n",
      "크롤링 준비\n"
     ]
    },
    {
     "name": "stderr",
     "output_type": "stream",
     "text": [
      "\n",
      "\n",
      "preprocessing day:  45%|████████████████████████████▍                                  | 14/31 [01:37<01:59,  7.02s/it]\u001b[A\u001b[A"
     ]
    },
    {
     "name": "stdout",
     "output_type": "stream",
     "text": [
      "다음날짜로 선택시작\n",
      "다음 날짜 선택 후 크롤링 준비\n",
      "https://search.naver.com/search.naver?where=news&query=%EC%BD%94%EC%8A%A4%ED%94%BC%20%EA%B2%BD%EC%A0%9C&sm=tab_opt&sort=0&photo=0&field=0&pd=3&ds=2021.10.15&de=2021.10.15&docid=&related=0&mynews=0&office_type=0&office_section_code=0&news_office_checked=&nso=so%3Ar%2Cp%3Afrom20211015to20211015&is_sug_officeid=0\n",
      "https://search.naver.com/search.naver?where=news&sm=tab_pge&query=%EC%BD%94%EC%8A%A4%ED%94%BC%20%EA%B2%BD%EC%A0%9C&sort=0&photo=0&field=0&pd=3&ds=2021.10.15&de=2021.10.15&cluster_rank=14&mynews=0&office_type=0&office_section_code=0&news_office_checked=&nso=so:r,p:from20211015to20211015,a:all&start=11\n",
      "https://search.naver.com/search.naver?where=news&sm=tab_pge&query=%EC%BD%94%EC%8A%A4%ED%94%BC%20%EA%B2%BD%EC%A0%9C&sort=0&photo=0&field=0&pd=3&ds=2021.10.15&de=2021.10.15&cluster_rank=24&mynews=0&office_type=0&office_section_code=0&news_office_checked=&nso=so:r,p:from20211015to20211015,a:all&start=21\n",
      "크롤링 준비\n"
     ]
    },
    {
     "name": "stderr",
     "output_type": "stream",
     "text": [
      "\n",
      "\n",
      "preprocessing day:  48%|██████████████████████████████▍                                | 15/31 [01:44<01:52,  7.01s/it]\u001b[A\u001b[A"
     ]
    },
    {
     "name": "stdout",
     "output_type": "stream",
     "text": [
      "다음날짜로 선택시작\n",
      "다음 날짜 선택 후 크롤링 준비\n",
      "https://search.naver.com/search.naver?where=news&query=%EC%BD%94%EC%8A%A4%ED%94%BC%20%EA%B2%BD%EC%A0%9C&sm=tab_opt&sort=0&photo=0&field=0&pd=3&ds=2021.10.16&de=2021.10.16&docid=&related=0&mynews=0&office_type=0&office_section_code=0&news_office_checked=&nso=so%3Ar%2Cp%3Afrom20211016to20211016&is_sug_officeid=0\n",
      "https://search.naver.com/search.naver?where=news&query=%EC%BD%94%EC%8A%A4%ED%94%BC%20%EA%B2%BD%EC%A0%9C&sm=tab_opt&sort=0&photo=0&field=0&pd=3&ds=2021.10.16&de=2021.10.16&docid=&related=0&mynews=0&office_type=0&office_section_code=0&news_office_checked=&nso=so%3Ar%2Cp%3Afrom20211016to20211016&is_sug_officeid=0\n",
      "크롤링 준비\n"
     ]
    },
    {
     "name": "stderr",
     "output_type": "stream",
     "text": [
      "\n",
      "\n",
      "preprocessing day:  52%|████████████████████████████████▌                              | 16/31 [01:51<01:41,  6.78s/it]\u001b[A\u001b[A"
     ]
    },
    {
     "name": "stdout",
     "output_type": "stream",
     "text": [
      "다음날짜로 선택시작\n",
      "다음 날짜 선택 후 크롤링 준비\n",
      "https://search.naver.com/search.naver?where=news&query=%EC%BD%94%EC%8A%A4%ED%94%BC%20%EA%B2%BD%EC%A0%9C&sm=tab_opt&sort=0&photo=0&field=0&pd=3&ds=2021.10.17&de=2021.10.17&docid=&related=0&mynews=0&office_type=0&office_section_code=0&news_office_checked=&nso=so%3Ar%2Cp%3Afrom20211017to20211017&is_sug_officeid=0\n",
      "https://search.naver.com/search.naver?where=news&sm=tab_pge&query=%EC%BD%94%EC%8A%A4%ED%94%BC%20%EA%B2%BD%EC%A0%9C&sort=0&photo=0&field=0&pd=3&ds=2021.10.17&de=2021.10.17&cluster_rank=16&mynews=0&office_type=0&office_section_code=0&news_office_checked=&nso=so:r,p:from20211017to20211017,a:all&start=11\n",
      "https://search.naver.com/search.naver?where=news&sm=tab_pge&query=%EC%BD%94%EC%8A%A4%ED%94%BC%20%EA%B2%BD%EC%A0%9C&sort=0&photo=0&field=0&pd=3&ds=2021.10.17&de=2021.10.17&cluster_rank=29&mynews=0&office_type=0&office_section_code=0&news_office_checked=&nso=so:r,p:from20211017to20211017,a:all&start=21\n",
      "크롤링 준비\n"
     ]
    },
    {
     "name": "stderr",
     "output_type": "stream",
     "text": [
      "\n",
      "\n",
      "preprocessing day:  55%|██████████████████████████████████▌                            | 17/31 [01:58<01:35,  6.85s/it]\u001b[A\u001b[A"
     ]
    },
    {
     "name": "stdout",
     "output_type": "stream",
     "text": [
      "다음날짜로 선택시작\n",
      "다음 날짜 선택 후 크롤링 준비\n",
      "https://search.naver.com/search.naver?where=news&query=%EC%BD%94%EC%8A%A4%ED%94%BC%20%EA%B2%BD%EC%A0%9C&sm=tab_opt&sort=0&photo=0&field=0&pd=3&ds=2021.10.18&de=2021.10.18&docid=&related=0&mynews=0&office_type=0&office_section_code=0&news_office_checked=&nso=so%3Ar%2Cp%3Afrom20211018to20211018&is_sug_officeid=0\n",
      "https://search.naver.com/search.naver?where=news&sm=tab_pge&query=%EC%BD%94%EC%8A%A4%ED%94%BC%20%EA%B2%BD%EC%A0%9C&sort=0&photo=0&field=0&pd=3&ds=2021.10.18&de=2021.10.18&cluster_rank=17&mynews=0&office_type=0&office_section_code=0&news_office_checked=&nso=so:r,p:from20211018to20211018,a:all&start=11\n",
      "https://search.naver.com/search.naver?where=news&sm=tab_pge&query=%EC%BD%94%EC%8A%A4%ED%94%BC%20%EA%B2%BD%EC%A0%9C&sort=0&photo=0&field=0&pd=3&ds=2021.10.18&de=2021.10.18&cluster_rank=30&mynews=0&office_type=0&office_section_code=0&news_office_checked=&nso=so:r,p:from20211018to20211018,a:all&start=21\n",
      "크롤링 준비\n"
     ]
    },
    {
     "name": "stderr",
     "output_type": "stream",
     "text": [
      "\n",
      "\n",
      "preprocessing day:  58%|████████████████████████████████████▌                          | 18/31 [02:04<01:29,  6.88s/it]\u001b[A\u001b[A"
     ]
    },
    {
     "name": "stdout",
     "output_type": "stream",
     "text": [
      "다음날짜로 선택시작\n",
      "다음 날짜 선택 후 크롤링 준비\n",
      "https://search.naver.com/search.naver?where=news&query=%EC%BD%94%EC%8A%A4%ED%94%BC%20%EA%B2%BD%EC%A0%9C&sm=tab_opt&sort=0&photo=0&field=0&pd=3&ds=2021.10.19&de=2021.10.19&docid=&related=0&mynews=0&office_type=0&office_section_code=0&news_office_checked=&nso=so%3Ar%2Cp%3Afrom20211019to20211019&is_sug_officeid=0\n",
      "https://search.naver.com/search.naver?where=news&sm=tab_pge&query=%EC%BD%94%EC%8A%A4%ED%94%BC%20%EA%B2%BD%EC%A0%9C&sort=0&photo=0&field=0&pd=3&ds=2021.10.19&de=2021.10.19&cluster_rank=18&mynews=0&office_type=0&office_section_code=0&news_office_checked=&nso=so:r,p:from20211019to20211019,a:all&start=11\n",
      "https://search.naver.com/search.naver?where=news&sm=tab_pge&query=%EC%BD%94%EC%8A%A4%ED%94%BC%20%EA%B2%BD%EC%A0%9C&sort=0&photo=0&field=0&pd=3&ds=2021.10.19&de=2021.10.19&cluster_rank=29&mynews=0&office_type=0&office_section_code=0&news_office_checked=&nso=so:r,p:from20211019to20211019,a:all&start=21\n",
      "크롤링 준비\n"
     ]
    },
    {
     "name": "stderr",
     "output_type": "stream",
     "text": [
      "\n",
      "\n",
      "preprocessing day:  61%|██████████████████████████████████████▌                        | 19/31 [02:12<01:23,  6.94s/it]\u001b[A\u001b[A"
     ]
    },
    {
     "name": "stdout",
     "output_type": "stream",
     "text": [
      "다음날짜로 선택시작\n",
      "다음 날짜 선택 후 크롤링 준비\n",
      "https://search.naver.com/search.naver?where=news&query=%EC%BD%94%EC%8A%A4%ED%94%BC%20%EA%B2%BD%EC%A0%9C&sm=tab_opt&sort=0&photo=0&field=0&pd=3&ds=2021.10.20&de=2021.10.20&docid=&related=0&mynews=0&office_type=0&office_section_code=0&news_office_checked=&nso=so%3Ar%2Cp%3Afrom20211020to20211020&is_sug_officeid=0\n",
      "https://search.naver.com/search.naver?where=news&sm=tab_pge&query=%EC%BD%94%EC%8A%A4%ED%94%BC%20%EA%B2%BD%EC%A0%9C&sort=0&photo=0&field=0&pd=3&ds=2021.10.20&de=2021.10.20&cluster_rank=16&mynews=0&office_type=0&office_section_code=0&news_office_checked=&nso=so:r,p:from20211020to20211020,a:all&start=11\n",
      "https://search.naver.com/search.naver?where=news&sm=tab_pge&query=%EC%BD%94%EC%8A%A4%ED%94%BC%20%EA%B2%BD%EC%A0%9C&sort=0&photo=0&field=0&pd=3&ds=2021.10.20&de=2021.10.20&cluster_rank=26&mynews=0&office_type=0&office_section_code=0&news_office_checked=&nso=so:r,p:from20211020to20211020,a:all&start=21\n",
      "크롤링 준비\n"
     ]
    },
    {
     "name": "stderr",
     "output_type": "stream",
     "text": [
      "\n",
      "\n",
      "preprocessing day:  65%|████████████████████████████████████████▋                      | 20/31 [02:19<01:16,  6.97s/it]\u001b[A\u001b[A"
     ]
    },
    {
     "name": "stdout",
     "output_type": "stream",
     "text": [
      "다음날짜로 선택시작\n",
      "다음 날짜 선택 후 크롤링 준비\n",
      "https://search.naver.com/search.naver?where=news&query=%EC%BD%94%EC%8A%A4%ED%94%BC%20%EA%B2%BD%EC%A0%9C&sm=tab_opt&sort=0&photo=0&field=0&pd=3&ds=2021.10.21&de=2021.10.21&docid=&related=0&mynews=0&office_type=0&office_section_code=0&news_office_checked=&nso=so%3Ar%2Cp%3Afrom20211021to20211021&is_sug_officeid=0\n",
      "https://search.naver.com/search.naver?where=news&sm=tab_pge&query=%EC%BD%94%EC%8A%A4%ED%94%BC%20%EA%B2%BD%EC%A0%9C&sort=0&photo=0&field=0&pd=3&ds=2021.10.21&de=2021.10.21&cluster_rank=12&mynews=0&office_type=0&office_section_code=0&news_office_checked=&nso=so:r,p:from20211021to20211021,a:all&start=11\n",
      "https://search.naver.com/search.naver?where=news&sm=tab_pge&query=%EC%BD%94%EC%8A%A4%ED%94%BC%20%EA%B2%BD%EC%A0%9C&sort=0&photo=0&field=0&pd=3&ds=2021.10.21&de=2021.10.21&cluster_rank=26&mynews=0&office_type=0&office_section_code=0&news_office_checked=&nso=so:r,p:from20211021to20211021,a:all&start=21\n",
      "크롤링 준비\n"
     ]
    },
    {
     "name": "stderr",
     "output_type": "stream",
     "text": [
      "\n",
      "\n",
      "preprocessing day:  68%|██████████████████████████████████████████▋                    | 21/31 [02:26<01:10,  7.03s/it]\u001b[A\u001b[A"
     ]
    },
    {
     "name": "stdout",
     "output_type": "stream",
     "text": [
      "다음날짜로 선택시작\n",
      "다음 날짜 선택 후 크롤링 준비\n",
      "https://search.naver.com/search.naver?where=news&query=%EC%BD%94%EC%8A%A4%ED%94%BC%20%EA%B2%BD%EC%A0%9C&sm=tab_opt&sort=0&photo=0&field=0&pd=3&ds=2021.10.22&de=2021.10.22&docid=&related=0&mynews=0&office_type=0&office_section_code=0&news_office_checked=&nso=so%3Ar%2Cp%3Afrom20211022to20211022&is_sug_officeid=0\n",
      "https://search.naver.com/search.naver?where=news&sm=tab_pge&query=%EC%BD%94%EC%8A%A4%ED%94%BC%20%EA%B2%BD%EC%A0%9C&sort=0&photo=0&field=0&pd=3&ds=2021.10.22&de=2021.10.22&cluster_rank=12&mynews=0&office_type=0&office_section_code=0&news_office_checked=&nso=so:r,p:from20211022to20211022,a:all&start=11\n",
      "https://search.naver.com/search.naver?where=news&sm=tab_pge&query=%EC%BD%94%EC%8A%A4%ED%94%BC%20%EA%B2%BD%EC%A0%9C&sort=0&photo=0&field=0&pd=3&ds=2021.10.22&de=2021.10.22&cluster_rank=24&mynews=0&office_type=0&office_section_code=0&news_office_checked=&nso=so:r,p:from20211022to20211022,a:all&start=21\n",
      "크롤링 준비\n"
     ]
    },
    {
     "name": "stderr",
     "output_type": "stream",
     "text": [
      "\n",
      "\n",
      "preprocessing day:  71%|████████████████████████████████████████████▋                  | 22/31 [02:33<01:04,  7.17s/it]\u001b[A\u001b[A"
     ]
    },
    {
     "name": "stdout",
     "output_type": "stream",
     "text": [
      "다음날짜로 선택시작\n",
      "다음 날짜 선택 후 크롤링 준비\n",
      "https://search.naver.com/search.naver?where=news&query=%EC%BD%94%EC%8A%A4%ED%94%BC%20%EA%B2%BD%EC%A0%9C&sm=tab_opt&sort=0&photo=0&field=0&pd=3&ds=2021.10.23&de=2021.10.23&docid=&related=0&mynews=0&office_type=0&office_section_code=0&news_office_checked=&nso=so%3Ar%2Cp%3Afrom20211023to20211023&is_sug_officeid=0\n",
      "https://search.naver.com/search.naver?where=news&sm=tab_pge&query=%EC%BD%94%EC%8A%A4%ED%94%BC%20%EA%B2%BD%EC%A0%9C&sort=0&photo=0&field=0&pd=3&ds=2021.10.23&de=2021.10.23&cluster_rank=14&mynews=0&office_type=0&office_section_code=0&news_office_checked=&nso=so:r,p:from20211023to20211023,a:all&start=11\n",
      "https://search.naver.com/search.naver?where=news&sm=tab_pge&query=%EC%BD%94%EC%8A%A4%ED%94%BC%20%EA%B2%BD%EC%A0%9C&sort=0&photo=0&field=0&pd=3&ds=2021.10.23&de=2021.10.23&cluster_rank=14&mynews=0&office_type=0&office_section_code=0&news_office_checked=&nso=so:r,p:from20211023to20211023,a:all&start=11\n",
      "크롤링 준비\n"
     ]
    },
    {
     "name": "stderr",
     "output_type": "stream",
     "text": [
      "\n",
      "\n",
      "preprocessing day:  74%|██████████████████████████████████████████████▋                | 23/31 [02:40<00:56,  7.02s/it]\u001b[A\u001b[A"
     ]
    },
    {
     "name": "stdout",
     "output_type": "stream",
     "text": [
      "다음날짜로 선택시작\n",
      "다음 날짜 선택 후 크롤링 준비\n",
      "https://search.naver.com/search.naver?where=news&query=%EC%BD%94%EC%8A%A4%ED%94%BC%20%EA%B2%BD%EC%A0%9C&sm=tab_opt&sort=0&photo=0&field=0&pd=3&ds=2021.10.24&de=2021.10.24&docid=&related=0&mynews=0&office_type=0&office_section_code=0&news_office_checked=&nso=so%3Ar%2Cp%3Afrom20211024to20211024&is_sug_officeid=0\n",
      "https://search.naver.com/search.naver?where=news&sm=tab_pge&query=%EC%BD%94%EC%8A%A4%ED%94%BC%20%EA%B2%BD%EC%A0%9C&sort=0&photo=0&field=0&pd=3&ds=2021.10.24&de=2021.10.24&cluster_rank=12&mynews=0&office_type=0&office_section_code=0&news_office_checked=&nso=so:r,p:from20211024to20211024,a:all&start=11\n",
      "https://search.naver.com/search.naver?where=news&sm=tab_pge&query=%EC%BD%94%EC%8A%A4%ED%94%BC%20%EA%B2%BD%EC%A0%9C&sort=0&photo=0&field=0&pd=3&ds=2021.10.24&de=2021.10.24&cluster_rank=22&mynews=0&office_type=0&office_section_code=0&news_office_checked=&nso=so:r,p:from20211024to20211024,a:all&start=21\n",
      "크롤링 준비\n"
     ]
    },
    {
     "name": "stderr",
     "output_type": "stream",
     "text": [
      "\n",
      "\n",
      "preprocessing day:  77%|████████████████████████████████████████████████▊              | 24/31 [02:47<00:49,  7.02s/it]\u001b[A\u001b[A"
     ]
    },
    {
     "name": "stdout",
     "output_type": "stream",
     "text": [
      "다음날짜로 선택시작\n",
      "다음 날짜 선택 후 크롤링 준비\n",
      "https://search.naver.com/search.naver?where=news&query=%EC%BD%94%EC%8A%A4%ED%94%BC%20%EA%B2%BD%EC%A0%9C&sm=tab_opt&sort=0&photo=0&field=0&pd=3&ds=2021.10.25&de=2021.10.25&docid=&related=0&mynews=0&office_type=0&office_section_code=0&news_office_checked=&nso=so%3Ar%2Cp%3Afrom20211025to20211025&is_sug_officeid=0\n",
      "https://search.naver.com/search.naver?where=news&sm=tab_pge&query=%EC%BD%94%EC%8A%A4%ED%94%BC%20%EA%B2%BD%EC%A0%9C&sort=0&photo=0&field=0&pd=3&ds=2021.10.25&de=2021.10.25&cluster_rank=10&mynews=0&office_type=0&office_section_code=0&news_office_checked=&nso=so:r,p:from20211025to20211025,a:all&start=11\n",
      "https://search.naver.com/search.naver?where=news&sm=tab_pge&query=%EC%BD%94%EC%8A%A4%ED%94%BC%20%EA%B2%BD%EC%A0%9C&sort=0&photo=0&field=0&pd=3&ds=2021.10.25&de=2021.10.25&cluster_rank=21&mynews=0&office_type=0&office_section_code=0&news_office_checked=&nso=so:r,p:from20211025to20211025,a:all&start=21\n",
      "크롤링 준비\n"
     ]
    },
    {
     "name": "stderr",
     "output_type": "stream",
     "text": [
      "\n",
      "\n",
      "preprocessing day:  81%|██████████████████████████████████████████████████▊            | 25/31 [02:54<00:42,  7.06s/it]\u001b[A\u001b[A"
     ]
    },
    {
     "name": "stdout",
     "output_type": "stream",
     "text": [
      "다음날짜로 선택시작\n",
      "다음 날짜 선택 후 크롤링 준비\n",
      "https://search.naver.com/search.naver?where=news&query=%EC%BD%94%EC%8A%A4%ED%94%BC%20%EA%B2%BD%EC%A0%9C&sm=tab_opt&sort=0&photo=0&field=0&pd=3&ds=2021.10.26&de=2021.10.26&docid=&related=0&mynews=0&office_type=0&office_section_code=0&news_office_checked=&nso=so%3Ar%2Cp%3Afrom20211026to20211026&is_sug_officeid=0\n",
      "https://search.naver.com/search.naver?where=news&sm=tab_pge&query=%EC%BD%94%EC%8A%A4%ED%94%BC%20%EA%B2%BD%EC%A0%9C&sort=0&photo=0&field=0&pd=3&ds=2021.10.26&de=2021.10.26&cluster_rank=10&mynews=0&office_type=0&office_section_code=0&news_office_checked=&nso=so:r,p:from20211026to20211026,a:all&start=11\n",
      "https://search.naver.com/search.naver?where=news&sm=tab_pge&query=%EC%BD%94%EC%8A%A4%ED%94%BC%20%EA%B2%BD%EC%A0%9C&sort=0&photo=0&field=0&pd=3&ds=2021.10.26&de=2021.10.26&cluster_rank=22&mynews=0&office_type=0&office_section_code=0&news_office_checked=&nso=so:r,p:from20211026to20211026,a:all&start=21\n",
      "크롤링 준비\n"
     ]
    },
    {
     "name": "stderr",
     "output_type": "stream",
     "text": [
      "\n",
      "\n",
      "preprocessing day:  84%|████████████████████████████████████████████████████▊          | 26/31 [03:01<00:35,  7.08s/it]\u001b[A\u001b[A"
     ]
    },
    {
     "name": "stdout",
     "output_type": "stream",
     "text": [
      "다음날짜로 선택시작\n",
      "다음 날짜 선택 후 크롤링 준비\n",
      "https://search.naver.com/search.naver?where=news&query=%EC%BD%94%EC%8A%A4%ED%94%BC%20%EA%B2%BD%EC%A0%9C&sm=tab_opt&sort=0&photo=0&field=0&pd=3&ds=2021.10.27&de=2021.10.27&docid=&related=0&mynews=0&office_type=0&office_section_code=0&news_office_checked=&nso=so%3Ar%2Cp%3Afrom20211027to20211027&is_sug_officeid=0\n",
      "https://search.naver.com/search.naver?where=news&sm=tab_pge&query=%EC%BD%94%EC%8A%A4%ED%94%BC%20%EA%B2%BD%EC%A0%9C&sort=0&photo=0&field=0&pd=3&ds=2021.10.27&de=2021.10.27&cluster_rank=11&mynews=0&office_type=0&office_section_code=0&news_office_checked=&nso=so:r,p:from20211027to20211027,a:all&start=11\n",
      "https://search.naver.com/search.naver?where=news&sm=tab_pge&query=%EC%BD%94%EC%8A%A4%ED%94%BC%20%EA%B2%BD%EC%A0%9C&sort=0&photo=0&field=0&pd=3&ds=2021.10.27&de=2021.10.27&cluster_rank=25&mynews=0&office_type=0&office_section_code=0&news_office_checked=&nso=so:r,p:from20211027to20211027,a:all&start=21\n",
      "크롤링 준비\n"
     ]
    },
    {
     "name": "stderr",
     "output_type": "stream",
     "text": [
      "\n",
      "\n",
      "preprocessing day:  87%|██████████████████████████████████████████████████████▊        | 27/31 [03:08<00:28,  7.12s/it]\u001b[A\u001b[A"
     ]
    },
    {
     "name": "stdout",
     "output_type": "stream",
     "text": [
      "다음날짜로 선택시작\n",
      "다음 날짜 선택 후 크롤링 준비\n",
      "https://search.naver.com/search.naver?where=news&query=%EC%BD%94%EC%8A%A4%ED%94%BC%20%EA%B2%BD%EC%A0%9C&sm=tab_opt&sort=0&photo=0&field=0&pd=3&ds=2021.10.28&de=2021.10.28&docid=&related=0&mynews=0&office_type=0&office_section_code=0&news_office_checked=&nso=so%3Ar%2Cp%3Afrom20211028to20211028&is_sug_officeid=0\n",
      "https://search.naver.com/search.naver?where=news&sm=tab_pge&query=%EC%BD%94%EC%8A%A4%ED%94%BC%20%EA%B2%BD%EC%A0%9C&sort=0&photo=0&field=0&pd=3&ds=2021.10.28&de=2021.10.28&cluster_rank=10&mynews=0&office_type=0&office_section_code=0&news_office_checked=&nso=so:r,p:from20211028to20211028,a:all&start=11\n",
      "https://search.naver.com/search.naver?where=news&sm=tab_pge&query=%EC%BD%94%EC%8A%A4%ED%94%BC%20%EA%B2%BD%EC%A0%9C&sort=0&photo=0&field=0&pd=3&ds=2021.10.28&de=2021.10.28&cluster_rank=20&mynews=0&office_type=0&office_section_code=0&news_office_checked=&nso=so:r,p:from20211028to20211028,a:all&start=21\n",
      "크롤링 준비\n"
     ]
    },
    {
     "name": "stderr",
     "output_type": "stream",
     "text": [
      "\n",
      "\n",
      "preprocessing day:  90%|████████████████████████████████████████████████████████▉      | 28/31 [03:16<00:21,  7.13s/it]\u001b[A\u001b[A"
     ]
    },
    {
     "name": "stdout",
     "output_type": "stream",
     "text": [
      "다음날짜로 선택시작\n",
      "다음 날짜 선택 후 크롤링 준비\n",
      "https://search.naver.com/search.naver?where=news&query=%EC%BD%94%EC%8A%A4%ED%94%BC%20%EA%B2%BD%EC%A0%9C&sm=tab_opt&sort=0&photo=0&field=0&pd=3&ds=2021.10.29&de=2021.10.29&docid=&related=0&mynews=0&office_type=0&office_section_code=0&news_office_checked=&nso=so%3Ar%2Cp%3Afrom20211029to20211029&is_sug_officeid=0\n",
      "https://search.naver.com/search.naver?where=news&sm=tab_pge&query=%EC%BD%94%EC%8A%A4%ED%94%BC%20%EA%B2%BD%EC%A0%9C&sort=0&photo=0&field=0&pd=3&ds=2021.10.29&de=2021.10.29&cluster_rank=12&mynews=0&office_type=0&office_section_code=0&news_office_checked=&nso=so:r,p:from20211029to20211029,a:all&start=11\n",
      "https://search.naver.com/search.naver?where=news&sm=tab_pge&query=%EC%BD%94%EC%8A%A4%ED%94%BC%20%EA%B2%BD%EC%A0%9C&sort=0&photo=0&field=0&pd=3&ds=2021.10.29&de=2021.10.29&cluster_rank=23&mynews=0&office_type=0&office_section_code=0&news_office_checked=&nso=so:r,p:from20211029to20211029,a:all&start=21\n",
      "크롤링 준비\n"
     ]
    },
    {
     "name": "stderr",
     "output_type": "stream",
     "text": [
      "\n",
      "\n",
      "preprocessing day:  94%|██████████████████████████████████████████████████████████▉    | 29/31 [03:23<00:14,  7.09s/it]\u001b[A\u001b[A"
     ]
    },
    {
     "name": "stdout",
     "output_type": "stream",
     "text": [
      "다음날짜로 선택시작\n",
      "다음 날짜 선택 후 크롤링 준비\n",
      "https://search.naver.com/search.naver?where=news&query=%EC%BD%94%EC%8A%A4%ED%94%BC%20%EA%B2%BD%EC%A0%9C&sm=tab_opt&sort=0&photo=0&field=0&pd=3&ds=2021.10.30&de=2021.10.30&docid=&related=0&mynews=0&office_type=0&office_section_code=0&news_office_checked=&nso=so%3Ar%2Cp%3Afrom20211030to20211030&is_sug_officeid=0\n",
      "https://search.naver.com/search.naver?where=news&query=%EC%BD%94%EC%8A%A4%ED%94%BC%20%EA%B2%BD%EC%A0%9C&sm=tab_opt&sort=0&photo=0&field=0&pd=3&ds=2021.10.30&de=2021.10.30&docid=&related=0&mynews=0&office_type=0&office_section_code=0&news_office_checked=&nso=so%3Ar%2Cp%3Afrom20211030to20211030&is_sug_officeid=0\n",
      "크롤링 준비\n"
     ]
    },
    {
     "name": "stderr",
     "output_type": "stream",
     "text": [
      "\n",
      "\n",
      "preprocessing day:  97%|████████████████████████████████████████████████████████████▉  | 30/31 [03:29<00:06,  6.90s/it]\u001b[A\u001b[A"
     ]
    },
    {
     "name": "stdout",
     "output_type": "stream",
     "text": [
      "다음날짜로 선택시작\n",
      "다음 날짜 선택 후 크롤링 준비\n",
      "https://search.naver.com/search.naver?where=news&query=%EC%BD%94%EC%8A%A4%ED%94%BC%20%EA%B2%BD%EC%A0%9C&sm=tab_opt&sort=0&photo=0&field=0&pd=3&ds=2021.10.31&de=2021.10.31&docid=&related=0&mynews=0&office_type=0&office_section_code=0&news_office_checked=&nso=so%3Ar%2Cp%3Afrom20211031to20211031&is_sug_officeid=0\n",
      "https://search.naver.com/search.naver?where=news&sm=tab_pge&query=%EC%BD%94%EC%8A%A4%ED%94%BC%20%EA%B2%BD%EC%A0%9C&sort=0&photo=0&field=0&pd=3&ds=2021.10.31&de=2021.10.31&cluster_rank=17&mynews=0&office_type=0&office_section_code=0&news_office_checked=&nso=so:r,p:from20211031to20211031,a:all&start=11\n",
      "https://search.naver.com/search.naver?where=news&sm=tab_pge&query=%EC%BD%94%EC%8A%A4%ED%94%BC%20%EA%B2%BD%EC%A0%9C&sort=0&photo=0&field=0&pd=3&ds=2021.10.31&de=2021.10.31&cluster_rank=33&mynews=0&office_type=0&office_section_code=0&news_office_checked=&nso=so:r,p:from20211031to20211031,a:all&start=21\n",
      "크롤링 준비\n"
     ]
    },
    {
     "name": "stderr",
     "output_type": "stream",
     "text": [
      "\n",
      "\n",
      "preprocessing day: 100%|███████████████████████████████████████████████████████████████| 31/31 [03:36<00:00,  6.99s/it]\u001b[A\u001b[A\n",
      "\n",
      "preprocessing month:  83%|██████████████████████████████████████████████████          | 10/12 [36:05<07:14, 217.19s/it]\u001b[A"
     ]
    },
    {
     "name": "stdout",
     "output_type": "stream",
     "text": [
      "다음날짜로 선택시작\n"
     ]
    },
    {
     "name": "stderr",
     "output_type": "stream",
     "text": [
      "\n",
      "\n",
      "preprocessing day:   0%|                                                                                                                                             | 0/31 [00:00<?, ?it/s]\u001b[A\u001b[A"
     ]
    },
    {
     "name": "stdout",
     "output_type": "stream",
     "text": [
      "다음 날짜 선택 후 크롤링 준비\n",
      "https://search.naver.com/search.naver?where=news&query=%EC%BD%94%EC%8A%A4%ED%94%BC%20%EA%B2%BD%EC%A0%9C&sm=tab_opt&sort=0&photo=0&field=0&pd=3&ds=2021.11.01&de=2021.11.01&docid=&related=0&mynews=0&office_type=0&office_section_code=0&news_office_checked=&nso=so%3Ar%2Cp%3Afrom20211101to20211101&is_sug_officeid=0\n",
      "https://search.naver.com/search.naver?where=news&sm=tab_pge&query=%EC%BD%94%EC%8A%A4%ED%94%BC%20%EA%B2%BD%EC%A0%9C&sort=0&photo=0&field=0&pd=3&ds=2021.11.01&de=2021.11.01&cluster_rank=11&mynews=0&office_type=0&office_section_code=0&news_office_checked=&nso=so:r,p:from20211101to20211101,a:all&start=11\n",
      "https://search.naver.com/search.naver?where=news&sm=tab_pge&query=%EC%BD%94%EC%8A%A4%ED%94%BC%20%EA%B2%BD%EC%A0%9C&sort=0&photo=0&field=0&pd=3&ds=2021.11.01&de=2021.11.01&cluster_rank=22&mynews=0&office_type=0&office_section_code=0&news_office_checked=&nso=so:r,p:from20211101to20211101,a:all&start=21\n",
      "크롤링 준비\n"
     ]
    },
    {
     "name": "stderr",
     "output_type": "stream",
     "text": [
      "\n",
      "\n",
      "preprocessing day:   3%|████▎                                                                                                                                | 1/31 [00:07<03:37,  7.27s/it]\u001b[A\u001b[A"
     ]
    },
    {
     "name": "stdout",
     "output_type": "stream",
     "text": [
      "다음날짜로 선택시작\n",
      "다음 날짜 선택 후 크롤링 준비\n",
      "https://search.naver.com/search.naver?where=news&query=%EC%BD%94%EC%8A%A4%ED%94%BC%20%EA%B2%BD%EC%A0%9C&sm=tab_opt&sort=0&photo=0&field=0&pd=3&ds=2021.11.02&de=2021.11.02&docid=&related=0&mynews=0&office_type=0&office_section_code=0&news_office_checked=&nso=so%3Ar%2Cp%3Afrom20211102to20211102&is_sug_officeid=0\n",
      "https://search.naver.com/search.naver?where=news&sm=tab_pge&query=%EC%BD%94%EC%8A%A4%ED%94%BC%20%EA%B2%BD%EC%A0%9C&sort=0&photo=0&field=0&pd=3&ds=2021.11.02&de=2021.11.02&cluster_rank=13&mynews=0&office_type=0&office_section_code=0&news_office_checked=&nso=so:r,p:from20211102to20211102,a:all&start=11\n",
      "https://search.naver.com/search.naver?where=news&sm=tab_pge&query=%EC%BD%94%EC%8A%A4%ED%94%BC%20%EA%B2%BD%EC%A0%9C&sort=0&photo=0&field=0&pd=3&ds=2021.11.02&de=2021.11.02&cluster_rank=29&mynews=0&office_type=0&office_section_code=0&news_office_checked=&nso=so:r,p:from20211102to20211102,a:all&start=21\n",
      "크롤링 준비\n"
     ]
    },
    {
     "name": "stderr",
     "output_type": "stream",
     "text": [
      "\n",
      "\n",
      "preprocessing day:   6%|████████▌                                                                                                                            | 2/31 [00:14<03:26,  7.11s/it]\u001b[A\u001b[A"
     ]
    },
    {
     "name": "stdout",
     "output_type": "stream",
     "text": [
      "다음날짜로 선택시작\n",
      "다음 날짜 선택 후 크롤링 준비\n",
      "https://search.naver.com/search.naver?where=news&query=%EC%BD%94%EC%8A%A4%ED%94%BC%20%EA%B2%BD%EC%A0%9C&sm=tab_opt&sort=0&photo=0&field=0&pd=3&ds=2021.11.03&de=2021.11.03&docid=&related=0&mynews=0&office_type=0&office_section_code=0&news_office_checked=&nso=so%3Ar%2Cp%3Afrom20211103to20211103&is_sug_officeid=0\n",
      "https://search.naver.com/search.naver?where=news&sm=tab_pge&query=%EC%BD%94%EC%8A%A4%ED%94%BC%20%EA%B2%BD%EC%A0%9C&sort=0&photo=0&field=0&pd=3&ds=2021.11.03&de=2021.11.03&cluster_rank=17&mynews=0&office_type=0&office_section_code=0&news_office_checked=&nso=so:r,p:from20211103to20211103,a:all&start=11\n",
      "https://search.naver.com/search.naver?where=news&sm=tab_pge&query=%EC%BD%94%EC%8A%A4%ED%94%BC%20%EA%B2%BD%EC%A0%9C&sort=0&photo=0&field=0&pd=3&ds=2021.11.03&de=2021.11.03&cluster_rank=27&mynews=0&office_type=0&office_section_code=0&news_office_checked=&nso=so:r,p:from20211103to20211103,a:all&start=21\n",
      "크롤링 준비\n"
     ]
    },
    {
     "name": "stderr",
     "output_type": "stream",
     "text": [
      "\n",
      "\n",
      "preprocessing day:  10%|████████████▊                                                                                                                        | 3/31 [00:21<03:16,  7.03s/it]\u001b[A\u001b[A"
     ]
    },
    {
     "name": "stdout",
     "output_type": "stream",
     "text": [
      "다음날짜로 선택시작\n",
      "다음 날짜 선택 후 크롤링 준비\n",
      "https://search.naver.com/search.naver?where=news&query=%EC%BD%94%EC%8A%A4%ED%94%BC%20%EA%B2%BD%EC%A0%9C&sm=tab_opt&sort=0&photo=0&field=0&pd=3&ds=2021.11.04&de=2021.11.04&docid=&related=0&mynews=0&office_type=0&office_section_code=0&news_office_checked=&nso=so%3Ar%2Cp%3Afrom20211104to20211104&is_sug_officeid=0\n",
      "https://search.naver.com/search.naver?where=news&sm=tab_pge&query=%EC%BD%94%EC%8A%A4%ED%94%BC%20%EA%B2%BD%EC%A0%9C&sort=0&photo=0&field=0&pd=3&ds=2021.11.04&de=2021.11.04&cluster_rank=12&mynews=0&office_type=0&office_section_code=0&news_office_checked=&nso=so:r,p:from20211104to20211104,a:all&start=11\n",
      "https://search.naver.com/search.naver?where=news&sm=tab_pge&query=%EC%BD%94%EC%8A%A4%ED%94%BC%20%EA%B2%BD%EC%A0%9C&sort=0&photo=0&field=0&pd=3&ds=2021.11.04&de=2021.11.04&cluster_rank=22&mynews=0&office_type=0&office_section_code=0&news_office_checked=&nso=so:r,p:from20211104to20211104,a:all&start=21\n",
      "크롤링 준비\n"
     ]
    },
    {
     "name": "stderr",
     "output_type": "stream",
     "text": [
      "\n",
      "\n",
      "preprocessing day:  13%|█████████████████▏                                                                                                                   | 4/31 [00:28<03:10,  7.06s/it]\u001b[A\u001b[A"
     ]
    },
    {
     "name": "stdout",
     "output_type": "stream",
     "text": [
      "다음날짜로 선택시작\n",
      "다음 날짜 선택 후 크롤링 준비\n",
      "https://search.naver.com/search.naver?where=news&query=%EC%BD%94%EC%8A%A4%ED%94%BC%20%EA%B2%BD%EC%A0%9C&sm=tab_opt&sort=0&photo=0&field=0&pd=3&ds=2021.11.05&de=2021.11.05&docid=&related=0&mynews=0&office_type=0&office_section_code=0&news_office_checked=&nso=so%3Ar%2Cp%3Afrom20211105to20211105&is_sug_officeid=0\n",
      "https://search.naver.com/search.naver?where=news&sm=tab_pge&query=%EC%BD%94%EC%8A%A4%ED%94%BC%20%EA%B2%BD%EC%A0%9C&sort=0&photo=0&field=0&pd=3&ds=2021.11.05&de=2021.11.05&cluster_rank=10&mynews=0&office_type=0&office_section_code=0&news_office_checked=&nso=so:r,p:from20211105to20211105,a:all&start=11\n",
      "https://search.naver.com/search.naver?where=news&sm=tab_pge&query=%EC%BD%94%EC%8A%A4%ED%94%BC%20%EA%B2%BD%EC%A0%9C&sort=0&photo=0&field=0&pd=3&ds=2021.11.05&de=2021.11.05&cluster_rank=21&mynews=0&office_type=0&office_section_code=0&news_office_checked=&nso=so:r,p:from20211105to20211105,a:all&start=21\n",
      "크롤링 준비\n"
     ]
    },
    {
     "name": "stderr",
     "output_type": "stream",
     "text": [
      "\n",
      "\n",
      "preprocessing day:  16%|█████████████████████▍                                                                                                               | 5/31 [00:35<03:03,  7.07s/it]\u001b[A\u001b[A"
     ]
    },
    {
     "name": "stdout",
     "output_type": "stream",
     "text": [
      "다음날짜로 선택시작\n",
      "다음 날짜 선택 후 크롤링 준비\n",
      "https://search.naver.com/search.naver?where=news&query=%EC%BD%94%EC%8A%A4%ED%94%BC%20%EA%B2%BD%EC%A0%9C&sm=tab_opt&sort=0&photo=0&field=0&pd=3&ds=2021.11.06&de=2021.11.06&docid=&related=0&mynews=0&office_type=0&office_section_code=0&news_office_checked=&nso=so%3Ar%2Cp%3Afrom20211106to20211106&is_sug_officeid=0\n",
      "https://search.naver.com/search.naver?where=news&sm=tab_pge&query=%EC%BD%94%EC%8A%A4%ED%94%BC%20%EA%B2%BD%EC%A0%9C&sort=0&photo=0&field=0&pd=3&ds=2021.11.06&de=2021.11.06&cluster_rank=10&mynews=0&office_type=0&office_section_code=0&news_office_checked=&nso=so:r,p:from20211106to20211106,a:all&start=11\n",
      "https://search.naver.com/search.naver?where=news&sm=tab_pge&query=%EC%BD%94%EC%8A%A4%ED%94%BC%20%EA%B2%BD%EC%A0%9C&sort=0&photo=0&field=0&pd=3&ds=2021.11.06&de=2021.11.06&cluster_rank=10&mynews=0&office_type=0&office_section_code=0&news_office_checked=&nso=so:r,p:from20211106to20211106,a:all&start=11\n",
      "크롤링 준비\n"
     ]
    },
    {
     "name": "stderr",
     "output_type": "stream",
     "text": [
      "\n",
      "\n",
      "preprocessing day:  19%|█████████████████████████▋                                                                                                           | 6/31 [00:42<02:52,  6.92s/it]\u001b[A\u001b[A"
     ]
    },
    {
     "name": "stdout",
     "output_type": "stream",
     "text": [
      "다음날짜로 선택시작\n",
      "다음 날짜 선택 후 크롤링 준비\n",
      "https://search.naver.com/search.naver?where=news&query=%EC%BD%94%EC%8A%A4%ED%94%BC%20%EA%B2%BD%EC%A0%9C&sm=tab_opt&sort=0&photo=0&field=0&pd=3&ds=2021.11.07&de=2021.11.07&docid=&related=0&mynews=0&office_type=0&office_section_code=0&news_office_checked=&nso=so%3Ar%2Cp%3Afrom20211107to20211107&is_sug_officeid=0\n",
      "https://search.naver.com/search.naver?where=news&sm=tab_pge&query=%EC%BD%94%EC%8A%A4%ED%94%BC%20%EA%B2%BD%EC%A0%9C&sort=0&photo=0&field=0&pd=3&ds=2021.11.07&de=2021.11.07&cluster_rank=12&mynews=0&office_type=0&office_section_code=0&news_office_checked=&nso=so:r,p:from20211107to20211107,a:all&start=11\n",
      "https://search.naver.com/search.naver?where=news&sm=tab_pge&query=%EC%BD%94%EC%8A%A4%ED%94%BC%20%EA%B2%BD%EC%A0%9C&sort=0&photo=0&field=0&pd=3&ds=2021.11.07&de=2021.11.07&cluster_rank=12&mynews=0&office_type=0&office_section_code=0&news_office_checked=&nso=so:r,p:from20211107to20211107,a:all&start=11\n",
      "크롤링 준비\n"
     ]
    },
    {
     "name": "stderr",
     "output_type": "stream",
     "text": [
      "\n",
      "\n",
      "preprocessing day:  23%|██████████████████████████████                                                                                                       | 7/31 [00:50<02:55,  7.31s/it]\u001b[A\u001b[A"
     ]
    },
    {
     "name": "stdout",
     "output_type": "stream",
     "text": [
      "다음날짜로 선택시작\n",
      "다음 날짜 선택 후 크롤링 준비\n",
      "https://search.naver.com/search.naver?where=news&query=%EC%BD%94%EC%8A%A4%ED%94%BC%20%EA%B2%BD%EC%A0%9C&sm=tab_opt&sort=0&photo=0&field=0&pd=3&ds=2021.11.08&de=2021.11.08&docid=&related=0&mynews=0&office_type=0&office_section_code=0&news_office_checked=&nso=so%3Ar%2Cp%3Afrom20211108to20211108&is_sug_officeid=0\n",
      "https://search.naver.com/search.naver?where=news&sm=tab_pge&query=%EC%BD%94%EC%8A%A4%ED%94%BC%20%EA%B2%BD%EC%A0%9C&sort=0&photo=0&field=0&pd=3&ds=2021.11.08&de=2021.11.08&cluster_rank=15&mynews=0&office_type=0&office_section_code=0&news_office_checked=&nso=so:r,p:from20211108to20211108,a:all&start=11\n",
      "https://search.naver.com/search.naver?where=news&sm=tab_pge&query=%EC%BD%94%EC%8A%A4%ED%94%BC%20%EA%B2%BD%EC%A0%9C&sort=0&photo=0&field=0&pd=3&ds=2021.11.08&de=2021.11.08&cluster_rank=25&mynews=0&office_type=0&office_section_code=0&news_office_checked=&nso=so:r,p:from20211108to20211108,a:all&start=21\n",
      "크롤링 준비\n"
     ]
    },
    {
     "name": "stderr",
     "output_type": "stream",
     "text": [
      "\n",
      "\n",
      "preprocessing day:  26%|██████████████████████████████████▎                                                                                                  | 8/31 [00:58<02:53,  7.55s/it]\u001b[A\u001b[A"
     ]
    },
    {
     "name": "stdout",
     "output_type": "stream",
     "text": [
      "다음날짜로 선택시작\n",
      "다음 날짜 선택 후 크롤링 준비\n",
      "https://search.naver.com/search.naver?where=news&query=%EC%BD%94%EC%8A%A4%ED%94%BC%20%EA%B2%BD%EC%A0%9C&sm=tab_opt&sort=0&photo=0&field=0&pd=3&ds=2021.11.09&de=2021.11.09&docid=&related=0&mynews=0&office_type=0&office_section_code=0&news_office_checked=&nso=so%3Ar%2Cp%3Afrom20211109to20211109&is_sug_officeid=0\n",
      "https://search.naver.com/search.naver?where=news&sm=tab_pge&query=%EC%BD%94%EC%8A%A4%ED%94%BC%20%EA%B2%BD%EC%A0%9C&sort=0&photo=0&field=0&pd=3&ds=2021.11.09&de=2021.11.09&cluster_rank=11&mynews=0&office_type=0&office_section_code=0&news_office_checked=&nso=so:r,p:from20211109to20211109,a:all&start=11\n",
      "https://search.naver.com/search.naver?where=news&sm=tab_pge&query=%EC%BD%94%EC%8A%A4%ED%94%BC%20%EA%B2%BD%EC%A0%9C&sort=0&photo=0&field=0&pd=3&ds=2021.11.09&de=2021.11.09&cluster_rank=21&mynews=0&office_type=0&office_section_code=0&news_office_checked=&nso=so:r,p:from20211109to20211109,a:all&start=21\n",
      "크롤링 준비\n"
     ]
    },
    {
     "name": "stderr",
     "output_type": "stream",
     "text": [
      "\n",
      "\n",
      "preprocessing day:  29%|██████████████████████████████████████▌                                                                                              | 9/31 [01:06<02:48,  7.67s/it]\u001b[A\u001b[A"
     ]
    },
    {
     "name": "stdout",
     "output_type": "stream",
     "text": [
      "다음날짜로 선택시작\n",
      "다음 날짜 선택 후 크롤링 준비\n",
      "https://search.naver.com/search.naver?where=news&query=%EC%BD%94%EC%8A%A4%ED%94%BC%20%EA%B2%BD%EC%A0%9C&sm=tab_opt&sort=0&photo=0&field=0&pd=3&ds=2021.11.10&de=2021.11.10&docid=&related=0&mynews=0&office_type=0&office_section_code=0&news_office_checked=&nso=so%3Ar%2Cp%3Afrom20211110to20211110&is_sug_officeid=0\n",
      "https://search.naver.com/search.naver?where=news&sm=tab_pge&query=%EC%BD%94%EC%8A%A4%ED%94%BC%20%EA%B2%BD%EC%A0%9C&sort=0&photo=0&field=0&pd=3&ds=2021.11.10&de=2021.11.10&cluster_rank=11&mynews=0&office_type=0&office_section_code=0&news_office_checked=&nso=so:r,p:from20211110to20211110,a:all&start=11\n",
      "https://search.naver.com/search.naver?where=news&sm=tab_pge&query=%EC%BD%94%EC%8A%A4%ED%94%BC%20%EA%B2%BD%EC%A0%9C&sort=0&photo=0&field=0&pd=3&ds=2021.11.10&de=2021.11.10&cluster_rank=21&mynews=0&office_type=0&office_section_code=0&news_office_checked=&nso=so:r,p:from20211110to20211110,a:all&start=21\n",
      "크롤링 준비\n"
     ]
    },
    {
     "name": "stderr",
     "output_type": "stream",
     "text": [
      "\n",
      "\n",
      "preprocessing day:  32%|██████████████████████████████████████████▌                                                                                         | 10/31 [01:14<02:42,  7.74s/it]\u001b[A\u001b[A"
     ]
    },
    {
     "name": "stdout",
     "output_type": "stream",
     "text": [
      "다음날짜로 선택시작\n",
      "다음 날짜 선택 후 크롤링 준비\n",
      "https://search.naver.com/search.naver?where=news&query=%EC%BD%94%EC%8A%A4%ED%94%BC%20%EA%B2%BD%EC%A0%9C&sm=tab_opt&sort=0&photo=0&field=0&pd=3&ds=2021.11.11&de=2021.11.11&docid=&related=0&mynews=0&office_type=0&office_section_code=0&news_office_checked=&nso=so%3Ar%2Cp%3Afrom20211111to20211111&is_sug_officeid=0\n",
      "https://search.naver.com/search.naver?where=news&sm=tab_pge&query=%EC%BD%94%EC%8A%A4%ED%94%BC%20%EA%B2%BD%EC%A0%9C&sort=0&photo=0&field=0&pd=3&ds=2021.11.11&de=2021.11.11&cluster_rank=12&mynews=0&office_type=0&office_section_code=0&news_office_checked=&nso=so:r,p:from20211111to20211111,a:all&start=11\n",
      "https://search.naver.com/search.naver?where=news&sm=tab_pge&query=%EC%BD%94%EC%8A%A4%ED%94%BC%20%EA%B2%BD%EC%A0%9C&sort=0&photo=0&field=0&pd=3&ds=2021.11.11&de=2021.11.11&cluster_rank=22&mynews=0&office_type=0&office_section_code=0&news_office_checked=&nso=so:r,p:from20211111to20211111,a:all&start=21\n",
      "크롤링 준비\n"
     ]
    },
    {
     "name": "stderr",
     "output_type": "stream",
     "text": [
      "\n",
      "\n",
      "preprocessing day:  35%|██████████████████████████████████████████████▊                                                                                     | 11/31 [01:21<02:32,  7.64s/it]\u001b[A\u001b[A"
     ]
    },
    {
     "name": "stdout",
     "output_type": "stream",
     "text": [
      "다음날짜로 선택시작\n",
      "다음 날짜 선택 후 크롤링 준비\n",
      "https://search.naver.com/search.naver?where=news&query=%EC%BD%94%EC%8A%A4%ED%94%BC%20%EA%B2%BD%EC%A0%9C&sm=tab_opt&sort=0&photo=0&field=0&pd=3&ds=2021.11.12&de=2021.11.12&docid=&related=0&mynews=0&office_type=0&office_section_code=0&news_office_checked=&nso=so%3Ar%2Cp%3Afrom20211112to20211112&is_sug_officeid=0\n",
      "https://search.naver.com/search.naver?where=news&sm=tab_pge&query=%EC%BD%94%EC%8A%A4%ED%94%BC%20%EA%B2%BD%EC%A0%9C&sort=0&photo=0&field=0&pd=3&ds=2021.11.12&de=2021.11.12&cluster_rank=11&mynews=0&office_type=0&office_section_code=0&news_office_checked=&nso=so:r,p:from20211112to20211112,a:all&start=11\n",
      "https://search.naver.com/search.naver?where=news&sm=tab_pge&query=%EC%BD%94%EC%8A%A4%ED%94%BC%20%EA%B2%BD%EC%A0%9C&sort=0&photo=0&field=0&pd=3&ds=2021.11.12&de=2021.11.12&cluster_rank=22&mynews=0&office_type=0&office_section_code=0&news_office_checked=&nso=so:r,p:from20211112to20211112,a:all&start=21\n",
      "크롤링 준비\n"
     ]
    },
    {
     "name": "stderr",
     "output_type": "stream",
     "text": [
      "\n",
      "\n",
      "preprocessing day:  39%|███████████████████████████████████████████████████                                                                                 | 12/31 [01:28<02:24,  7.59s/it]\u001b[A\u001b[A"
     ]
    },
    {
     "name": "stdout",
     "output_type": "stream",
     "text": [
      "다음날짜로 선택시작\n",
      "다음 날짜 선택 후 크롤링 준비\n",
      "https://search.naver.com/search.naver?where=news&query=%EC%BD%94%EC%8A%A4%ED%94%BC%20%EA%B2%BD%EC%A0%9C&sm=tab_opt&sort=0&photo=0&field=0&pd=3&ds=2021.11.13&de=2021.11.13&docid=&related=0&mynews=0&office_type=0&office_section_code=0&news_office_checked=&nso=so%3Ar%2Cp%3Afrom20211113to20211113&is_sug_officeid=0\n",
      "https://search.naver.com/search.naver?where=news&query=%EC%BD%94%EC%8A%A4%ED%94%BC%20%EA%B2%BD%EC%A0%9C&sm=tab_opt&sort=0&photo=0&field=0&pd=3&ds=2021.11.13&de=2021.11.13&docid=&related=0&mynews=0&office_type=0&office_section_code=0&news_office_checked=&nso=so%3Ar%2Cp%3Afrom20211113to20211113&is_sug_officeid=0\n",
      "크롤링 준비\n"
     ]
    },
    {
     "name": "stderr",
     "output_type": "stream",
     "text": [
      "\n",
      "\n",
      "preprocessing day:  42%|███████████████████████████████████████████████████████▎                                                                            | 13/31 [01:35<02:09,  7.19s/it]\u001b[A\u001b[A"
     ]
    },
    {
     "name": "stdout",
     "output_type": "stream",
     "text": [
      "다음날짜로 선택시작\n",
      "다음 날짜 선택 후 크롤링 준비\n",
      "https://search.naver.com/search.naver?where=news&query=%EC%BD%94%EC%8A%A4%ED%94%BC%20%EA%B2%BD%EC%A0%9C&sm=tab_opt&sort=0&photo=0&field=0&pd=3&ds=2021.11.14&de=2021.11.14&docid=&related=0&mynews=0&office_type=0&office_section_code=0&news_office_checked=&nso=so%3Ar%2Cp%3Afrom20211114to20211114&is_sug_officeid=0\n",
      "https://search.naver.com/search.naver?where=news&sm=tab_pge&query=%EC%BD%94%EC%8A%A4%ED%94%BC%20%EA%B2%BD%EC%A0%9C&sort=0&photo=0&field=0&pd=3&ds=2021.11.14&de=2021.11.14&cluster_rank=21&mynews=0&office_type=0&office_section_code=0&news_office_checked=&nso=so:r,p:from20211114to20211114,a:all&start=11\n",
      "https://search.naver.com/search.naver?where=news&sm=tab_pge&query=%EC%BD%94%EC%8A%A4%ED%94%BC%20%EA%B2%BD%EC%A0%9C&sort=0&photo=0&field=0&pd=3&ds=2021.11.14&de=2021.11.14&cluster_rank=31&mynews=0&office_type=0&office_section_code=0&news_office_checked=&nso=so:r,p:from20211114to20211114,a:all&start=21\n",
      "크롤링 준비\n"
     ]
    },
    {
     "name": "stderr",
     "output_type": "stream",
     "text": [
      "\n",
      "\n",
      "preprocessing day:  45%|███████████████████████████████████████████████████████████▌                                                                        | 14/31 [01:42<02:03,  7.28s/it]\u001b[A\u001b[A"
     ]
    },
    {
     "name": "stdout",
     "output_type": "stream",
     "text": [
      "다음날짜로 선택시작\n",
      "다음 날짜 선택 후 크롤링 준비\n",
      "https://search.naver.com/search.naver?where=news&query=%EC%BD%94%EC%8A%A4%ED%94%BC%20%EA%B2%BD%EC%A0%9C&sm=tab_opt&sort=0&photo=0&field=0&pd=3&ds=2021.11.15&de=2021.11.15&docid=&related=0&mynews=0&office_type=0&office_section_code=0&news_office_checked=&nso=so%3Ar%2Cp%3Afrom20211115to20211115&is_sug_officeid=0\n",
      "https://search.naver.com/search.naver?where=news&sm=tab_pge&query=%EC%BD%94%EC%8A%A4%ED%94%BC%20%EA%B2%BD%EC%A0%9C&sort=0&photo=0&field=0&pd=3&ds=2021.11.15&de=2021.11.15&cluster_rank=15&mynews=0&office_type=0&office_section_code=0&news_office_checked=&nso=so:r,p:from20211115to20211115,a:all&start=11\n",
      "https://search.naver.com/search.naver?where=news&sm=tab_pge&query=%EC%BD%94%EC%8A%A4%ED%94%BC%20%EA%B2%BD%EC%A0%9C&sort=0&photo=0&field=0&pd=3&ds=2021.11.15&de=2021.11.15&cluster_rank=25&mynews=0&office_type=0&office_section_code=0&news_office_checked=&nso=so:r,p:from20211115to20211115,a:all&start=21\n",
      "크롤링 준비\n"
     ]
    },
    {
     "name": "stderr",
     "output_type": "stream",
     "text": [
      "\n",
      "\n",
      "preprocessing day:  48%|███████████████████████████████████████████████████████████████▊                                                                    | 15/31 [01:49<01:56,  7.27s/it]\u001b[A\u001b[A"
     ]
    },
    {
     "name": "stdout",
     "output_type": "stream",
     "text": [
      "다음날짜로 선택시작\n",
      "다음 날짜 선택 후 크롤링 준비\n",
      "https://search.naver.com/search.naver?where=news&query=%EC%BD%94%EC%8A%A4%ED%94%BC%20%EA%B2%BD%EC%A0%9C&sm=tab_opt&sort=0&photo=0&field=0&pd=3&ds=2021.11.16&de=2021.11.16&docid=&related=0&mynews=0&office_type=0&office_section_code=0&news_office_checked=&nso=so%3Ar%2Cp%3Afrom20211116to20211116&is_sug_officeid=0\n",
      "https://search.naver.com/search.naver?where=news&sm=tab_pge&query=%EC%BD%94%EC%8A%A4%ED%94%BC%20%EA%B2%BD%EC%A0%9C&sort=0&photo=0&field=0&pd=3&ds=2021.11.16&de=2021.11.16&cluster_rank=12&mynews=0&office_type=0&office_section_code=0&news_office_checked=&nso=so:r,p:from20211116to20211116,a:all&start=11\n",
      "https://search.naver.com/search.naver?where=news&sm=tab_pge&query=%EC%BD%94%EC%8A%A4%ED%94%BC%20%EA%B2%BD%EC%A0%9C&sort=0&photo=0&field=0&pd=3&ds=2021.11.16&de=2021.11.16&cluster_rank=24&mynews=0&office_type=0&office_section_code=0&news_office_checked=&nso=so:r,p:from20211116to20211116,a:all&start=21\n",
      "크롤링 준비\n"
     ]
    },
    {
     "name": "stderr",
     "output_type": "stream",
     "text": [
      "\n",
      "\n",
      "preprocessing day:  52%|████████████████████████████████████████████████████████████████████▏                                                               | 16/31 [01:57<01:49,  7.27s/it]\u001b[A\u001b[A"
     ]
    },
    {
     "name": "stdout",
     "output_type": "stream",
     "text": [
      "다음날짜로 선택시작\n",
      "다음 날짜 선택 후 크롤링 준비\n",
      "https://search.naver.com/search.naver?where=news&query=%EC%BD%94%EC%8A%A4%ED%94%BC%20%EA%B2%BD%EC%A0%9C&sm=tab_opt&sort=0&photo=0&field=0&pd=3&ds=2021.11.17&de=2021.11.17&docid=&related=0&mynews=0&office_type=0&office_section_code=0&news_office_checked=&nso=so%3Ar%2Cp%3Afrom20211117to20211117&is_sug_officeid=0\n",
      "https://search.naver.com/search.naver?where=news&sm=tab_pge&query=%EC%BD%94%EC%8A%A4%ED%94%BC%20%EA%B2%BD%EC%A0%9C&sort=0&photo=0&field=0&pd=3&ds=2021.11.17&de=2021.11.17&cluster_rank=15&mynews=0&office_type=0&office_section_code=0&news_office_checked=&nso=so:r,p:from20211117to20211117,a:all&start=11\n",
      "https://search.naver.com/search.naver?where=news&sm=tab_pge&query=%EC%BD%94%EC%8A%A4%ED%94%BC%20%EA%B2%BD%EC%A0%9C&sort=0&photo=0&field=0&pd=3&ds=2021.11.17&de=2021.11.17&cluster_rank=30&mynews=0&office_type=0&office_section_code=0&news_office_checked=&nso=so:r,p:from20211117to20211117,a:all&start=21\n",
      "크롤링 준비\n"
     ]
    },
    {
     "name": "stderr",
     "output_type": "stream",
     "text": [
      "\n",
      "\n",
      "preprocessing day:  55%|████████████████████████████████████████████████████████████████████████▍                                                           | 17/31 [02:04<01:42,  7.33s/it]\u001b[A\u001b[A"
     ]
    },
    {
     "name": "stdout",
     "output_type": "stream",
     "text": [
      "다음날짜로 선택시작\n",
      "다음 날짜 선택 후 크롤링 준비\n",
      "https://search.naver.com/search.naver?where=news&query=%EC%BD%94%EC%8A%A4%ED%94%BC%20%EA%B2%BD%EC%A0%9C&sm=tab_opt&sort=0&photo=0&field=0&pd=3&ds=2021.11.18&de=2021.11.18&docid=&related=0&mynews=0&office_type=0&office_section_code=0&news_office_checked=&nso=so%3Ar%2Cp%3Afrom20211118to20211118&is_sug_officeid=0\n",
      "https://search.naver.com/search.naver?where=news&sm=tab_pge&query=%EC%BD%94%EC%8A%A4%ED%94%BC%20%EA%B2%BD%EC%A0%9C&sort=0&photo=0&field=0&pd=3&ds=2021.11.18&de=2021.11.18&cluster_rank=12&mynews=0&office_type=0&office_section_code=0&news_office_checked=&nso=so:r,p:from20211118to20211118,a:all&start=11\n",
      "https://search.naver.com/search.naver?where=news&sm=tab_pge&query=%EC%BD%94%EC%8A%A4%ED%94%BC%20%EA%B2%BD%EC%A0%9C&sort=0&photo=0&field=0&pd=3&ds=2021.11.18&de=2021.11.18&cluster_rank=22&mynews=0&office_type=0&office_section_code=0&news_office_checked=&nso=so:r,p:from20211118to20211118,a:all&start=21\n",
      "크롤링 준비\n"
     ]
    },
    {
     "name": "stderr",
     "output_type": "stream",
     "text": [
      "\n",
      "\n",
      "preprocessing day:  58%|████████████████████████████████████████████████████████████████████████████▋                                                       | 18/31 [02:11<01:35,  7.32s/it]\u001b[A\u001b[A"
     ]
    },
    {
     "name": "stdout",
     "output_type": "stream",
     "text": [
      "다음날짜로 선택시작\n",
      "다음 날짜 선택 후 크롤링 준비\n",
      "https://search.naver.com/search.naver?where=news&query=%EC%BD%94%EC%8A%A4%ED%94%BC%20%EA%B2%BD%EC%A0%9C&sm=tab_opt&sort=0&photo=0&field=0&pd=3&ds=2021.11.19&de=2021.11.19&docid=&related=0&mynews=0&office_type=0&office_section_code=0&news_office_checked=&nso=so%3Ar%2Cp%3Afrom20211119to20211119&is_sug_officeid=0\n",
      "https://search.naver.com/search.naver?where=news&sm=tab_pge&query=%EC%BD%94%EC%8A%A4%ED%94%BC%20%EA%B2%BD%EC%A0%9C&sort=0&photo=0&field=0&pd=3&ds=2021.11.19&de=2021.11.19&cluster_rank=11&mynews=0&office_type=0&office_section_code=0&news_office_checked=&nso=so:r,p:from20211119to20211119,a:all&start=11\n",
      "https://search.naver.com/search.naver?where=news&sm=tab_pge&query=%EC%BD%94%EC%8A%A4%ED%94%BC%20%EA%B2%BD%EC%A0%9C&sort=0&photo=0&field=0&pd=3&ds=2021.11.19&de=2021.11.19&cluster_rank=21&mynews=0&office_type=0&office_section_code=0&news_office_checked=&nso=so:r,p:from20211119to20211119,a:all&start=21\n",
      "크롤링 준비\n"
     ]
    },
    {
     "name": "stderr",
     "output_type": "stream",
     "text": [
      "\n",
      "\n",
      "preprocessing day:  61%|████████████████████████████████████████████████████████████████████████████████▉                                                   | 19/31 [02:19<01:27,  7.28s/it]\u001b[A\u001b[A"
     ]
    },
    {
     "name": "stdout",
     "output_type": "stream",
     "text": [
      "다음날짜로 선택시작\n",
      "다음 날짜 선택 후 크롤링 준비\n",
      "https://search.naver.com/search.naver?where=news&query=%EC%BD%94%EC%8A%A4%ED%94%BC%20%EA%B2%BD%EC%A0%9C&sm=tab_opt&sort=0&photo=0&field=0&pd=3&ds=2021.11.20&de=2021.11.20&docid=&related=0&mynews=0&office_type=0&office_section_code=0&news_office_checked=&nso=so%3Ar%2Cp%3Afrom20211120to20211120&is_sug_officeid=0\n",
      "https://search.naver.com/search.naver?where=news&query=%EC%BD%94%EC%8A%A4%ED%94%BC%20%EA%B2%BD%EC%A0%9C&sm=tab_opt&sort=0&photo=0&field=0&pd=3&ds=2021.11.20&de=2021.11.20&docid=&related=0&mynews=0&office_type=0&office_section_code=0&news_office_checked=&nso=so%3Ar%2Cp%3Afrom20211120to20211120&is_sug_officeid=0\n",
      "크롤링 준비\n"
     ]
    },
    {
     "name": "stderr",
     "output_type": "stream",
     "text": [
      "\n",
      "\n",
      "preprocessing day:  65%|█████████████████████████████████████████████████████████████████████████████████████▏                                              | 20/31 [02:25<01:16,  6.98s/it]\u001b[A\u001b[A"
     ]
    },
    {
     "name": "stdout",
     "output_type": "stream",
     "text": [
      "다음날짜로 선택시작\n",
      "다음 날짜 선택 후 크롤링 준비\n",
      "https://search.naver.com/search.naver?where=news&query=%EC%BD%94%EC%8A%A4%ED%94%BC%20%EA%B2%BD%EC%A0%9C&sm=tab_opt&sort=0&photo=0&field=0&pd=3&ds=2021.11.21&de=2021.11.21&docid=&related=0&mynews=0&office_type=0&office_section_code=0&news_office_checked=&nso=so%3Ar%2Cp%3Afrom20211121to20211121&is_sug_officeid=0\n",
      "https://search.naver.com/search.naver?where=news&sm=tab_pge&query=%EC%BD%94%EC%8A%A4%ED%94%BC%20%EA%B2%BD%EC%A0%9C&sort=0&photo=0&field=0&pd=3&ds=2021.11.21&de=2021.11.21&cluster_rank=11&mynews=0&office_type=0&office_section_code=0&news_office_checked=&nso=so:r,p:from20211121to20211121,a:all&start=11\n",
      "https://search.naver.com/search.naver?where=news&sm=tab_pge&query=%EC%BD%94%EC%8A%A4%ED%94%BC%20%EA%B2%BD%EC%A0%9C&sort=0&photo=0&field=0&pd=3&ds=2021.11.21&de=2021.11.21&cluster_rank=21&mynews=0&office_type=0&office_section_code=0&news_office_checked=&nso=so:r,p:from20211121to20211121,a:all&start=21\n",
      "크롤링 준비\n"
     ]
    },
    {
     "name": "stderr",
     "output_type": "stream",
     "text": [
      "\n",
      "\n",
      "preprocessing day:  68%|█████████████████████████████████████████████████████████████████████████████████████████▍                                          | 21/31 [02:33<01:12,  7.21s/it]\u001b[A\u001b[A"
     ]
    },
    {
     "name": "stdout",
     "output_type": "stream",
     "text": [
      "다음날짜로 선택시작\n",
      "다음 날짜 선택 후 크롤링 준비\n",
      "https://search.naver.com/search.naver?where=news&query=%EC%BD%94%EC%8A%A4%ED%94%BC%20%EA%B2%BD%EC%A0%9C&sm=tab_opt&sort=0&photo=0&field=0&pd=3&ds=2021.11.22&de=2021.11.22&docid=&related=0&mynews=0&office_type=0&office_section_code=0&news_office_checked=&nso=so%3Ar%2Cp%3Afrom20211122to20211122&is_sug_officeid=0\n",
      "https://search.naver.com/search.naver?where=news&sm=tab_pge&query=%EC%BD%94%EC%8A%A4%ED%94%BC%20%EA%B2%BD%EC%A0%9C&sort=0&photo=0&field=0&pd=3&ds=2021.11.22&de=2021.11.22&cluster_rank=12&mynews=0&office_type=0&office_section_code=0&news_office_checked=&nso=so:r,p:from20211122to20211122,a:all&start=11\n",
      "https://search.naver.com/search.naver?where=news&sm=tab_pge&query=%EC%BD%94%EC%8A%A4%ED%94%BC%20%EA%B2%BD%EC%A0%9C&sort=0&photo=0&field=0&pd=3&ds=2021.11.22&de=2021.11.22&cluster_rank=22&mynews=0&office_type=0&office_section_code=0&news_office_checked=&nso=so:r,p:from20211122to20211122,a:all&start=21\n",
      "크롤링 준비\n"
     ]
    },
    {
     "name": "stderr",
     "output_type": "stream",
     "text": [
      "\n",
      "\n",
      "preprocessing day:  71%|█████████████████████████████████████████████████████████████████████████████████████████████▋                                      | 22/31 [02:40<01:05,  7.29s/it]\u001b[A\u001b[A"
     ]
    },
    {
     "name": "stdout",
     "output_type": "stream",
     "text": [
      "다음날짜로 선택시작\n",
      "다음 날짜 선택 후 크롤링 준비\n",
      "https://search.naver.com/search.naver?where=news&query=%EC%BD%94%EC%8A%A4%ED%94%BC%20%EA%B2%BD%EC%A0%9C&sm=tab_opt&sort=0&photo=0&field=0&pd=3&ds=2021.11.23&de=2021.11.23&docid=&related=0&mynews=0&office_type=0&office_section_code=0&news_office_checked=&nso=so%3Ar%2Cp%3Afrom20211123to20211123&is_sug_officeid=0\n",
      "https://search.naver.com/search.naver?where=news&sm=tab_pge&query=%EC%BD%94%EC%8A%A4%ED%94%BC%20%EA%B2%BD%EC%A0%9C&sort=0&photo=0&field=0&pd=3&ds=2021.11.23&de=2021.11.23&cluster_rank=10&mynews=0&office_type=0&office_section_code=0&news_office_checked=&nso=so:r,p:from20211123to20211123,a:all&start=11\n",
      "https://search.naver.com/search.naver?where=news&sm=tab_pge&query=%EC%BD%94%EC%8A%A4%ED%94%BC%20%EA%B2%BD%EC%A0%9C&sort=0&photo=0&field=0&pd=3&ds=2021.11.23&de=2021.11.23&cluster_rank=31&mynews=0&office_type=0&office_section_code=0&news_office_checked=&nso=so:r,p:from20211123to20211123,a:all&start=21\n",
      "크롤링 준비\n"
     ]
    },
    {
     "name": "stderr",
     "output_type": "stream",
     "text": [
      "\n",
      "\n",
      "preprocessing day:  74%|█████████████████████████████████████████████████████████████████████████████████████████████████▉                                  | 23/31 [02:48<00:58,  7.37s/it]\u001b[A\u001b[A"
     ]
    },
    {
     "name": "stdout",
     "output_type": "stream",
     "text": [
      "다음날짜로 선택시작\n",
      "다음 날짜 선택 후 크롤링 준비\n",
      "https://search.naver.com/search.naver?where=news&query=%EC%BD%94%EC%8A%A4%ED%94%BC%20%EA%B2%BD%EC%A0%9C&sm=tab_opt&sort=0&photo=0&field=0&pd=3&ds=2021.11.24&de=2021.11.24&docid=&related=0&mynews=0&office_type=0&office_section_code=0&news_office_checked=&nso=so%3Ar%2Cp%3Afrom20211124to20211124&is_sug_officeid=0\n",
      "https://search.naver.com/search.naver?where=news&sm=tab_pge&query=%EC%BD%94%EC%8A%A4%ED%94%BC%20%EA%B2%BD%EC%A0%9C&sort=0&photo=0&field=0&pd=3&ds=2021.11.24&de=2021.11.24&cluster_rank=28&mynews=0&office_type=0&office_section_code=0&news_office_checked=&nso=so:r,p:from20211124to20211124,a:all&start=11\n",
      "https://search.naver.com/search.naver?where=news&sm=tab_pge&query=%EC%BD%94%EC%8A%A4%ED%94%BC%20%EA%B2%BD%EC%A0%9C&sort=0&photo=0&field=0&pd=3&ds=2021.11.24&de=2021.11.24&cluster_rank=38&mynews=0&office_type=0&office_section_code=0&news_office_checked=&nso=so:r,p:from20211124to20211124,a:all&start=21\n",
      "크롤링 준비\n"
     ]
    },
    {
     "name": "stderr",
     "output_type": "stream",
     "text": [
      "\n",
      "\n",
      "preprocessing day:  77%|██████████████████████████████████████████████████████████████████████████████████████████████████████▏                             | 24/31 [02:55<00:51,  7.38s/it]\u001b[A\u001b[A"
     ]
    },
    {
     "name": "stdout",
     "output_type": "stream",
     "text": [
      "다음날짜로 선택시작\n",
      "다음 날짜 선택 후 크롤링 준비\n",
      "https://search.naver.com/search.naver?where=news&query=%EC%BD%94%EC%8A%A4%ED%94%BC%20%EA%B2%BD%EC%A0%9C&sm=tab_opt&sort=0&photo=0&field=0&pd=3&ds=2021.11.25&de=2021.11.25&docid=&related=0&mynews=0&office_type=0&office_section_code=0&news_office_checked=&nso=so%3Ar%2Cp%3Afrom20211125to20211125&is_sug_officeid=0\n",
      "https://search.naver.com/search.naver?where=news&sm=tab_pge&query=%EC%BD%94%EC%8A%A4%ED%94%BC%20%EA%B2%BD%EC%A0%9C&sort=0&photo=0&field=0&pd=3&ds=2021.11.25&de=2021.11.25&cluster_rank=10&mynews=0&office_type=0&office_section_code=0&news_office_checked=&nso=so:r,p:from20211125to20211125,a:all&start=11\n",
      "https://search.naver.com/search.naver?where=news&sm=tab_pge&query=%EC%BD%94%EC%8A%A4%ED%94%BC%20%EA%B2%BD%EC%A0%9C&sort=0&photo=0&field=0&pd=3&ds=2021.11.25&de=2021.11.25&cluster_rank=21&mynews=0&office_type=0&office_section_code=0&news_office_checked=&nso=so:r,p:from20211125to20211125,a:all&start=21\n",
      "크롤링 준비\n"
     ]
    },
    {
     "name": "stderr",
     "output_type": "stream",
     "text": [
      "\n",
      "\n",
      "preprocessing day:  81%|██████████████████████████████████████████████████████████████████████████████████████████████████████████▍                         | 25/31 [03:02<00:44,  7.36s/it]\u001b[A\u001b[A"
     ]
    },
    {
     "name": "stdout",
     "output_type": "stream",
     "text": [
      "다음날짜로 선택시작\n",
      "다음 날짜 선택 후 크롤링 준비\n",
      "https://search.naver.com/search.naver?where=news&query=%EC%BD%94%EC%8A%A4%ED%94%BC%20%EA%B2%BD%EC%A0%9C&sm=tab_opt&sort=0&photo=0&field=0&pd=3&ds=2021.11.26&de=2021.11.26&docid=&related=0&mynews=0&office_type=0&office_section_code=0&news_office_checked=&nso=so%3Ar%2Cp%3Afrom20211126to20211126&is_sug_officeid=0\n",
      "https://search.naver.com/search.naver?where=news&sm=tab_pge&query=%EC%BD%94%EC%8A%A4%ED%94%BC%20%EA%B2%BD%EC%A0%9C&sort=0&photo=0&field=0&pd=3&ds=2021.11.26&de=2021.11.26&cluster_rank=10&mynews=0&office_type=0&office_section_code=0&news_office_checked=&nso=so:r,p:from20211126to20211126,a:all&start=11\n",
      "https://search.naver.com/search.naver?where=news&sm=tab_pge&query=%EC%BD%94%EC%8A%A4%ED%94%BC%20%EA%B2%BD%EC%A0%9C&sort=0&photo=0&field=0&pd=3&ds=2021.11.26&de=2021.11.26&cluster_rank=22&mynews=0&office_type=0&office_section_code=0&news_office_checked=&nso=so:r,p:from20211126to20211126,a:all&start=21\n",
      "크롤링 준비\n"
     ]
    },
    {
     "name": "stderr",
     "output_type": "stream",
     "text": [
      "\n",
      "\n",
      "preprocessing day:  84%|██████████████████████████████████████████████████████████████████████████████████████████████████████████████▋                     | 26/31 [03:10<00:36,  7.35s/it]\u001b[A\u001b[A"
     ]
    },
    {
     "name": "stdout",
     "output_type": "stream",
     "text": [
      "다음날짜로 선택시작\n",
      "다음 날짜 선택 후 크롤링 준비\n",
      "https://search.naver.com/search.naver?where=news&query=%EC%BD%94%EC%8A%A4%ED%94%BC%20%EA%B2%BD%EC%A0%9C&sm=tab_opt&sort=0&photo=0&field=0&pd=3&ds=2021.11.27&de=2021.11.27&docid=&related=0&mynews=0&office_type=0&office_section_code=0&news_office_checked=&nso=so%3Ar%2Cp%3Afrom20211127to20211127&is_sug_officeid=0\n",
      "https://search.naver.com/search.naver?where=news&sm=tab_pge&query=%EC%BD%94%EC%8A%A4%ED%94%BC%20%EA%B2%BD%EC%A0%9C&sort=0&photo=0&field=0&pd=3&ds=2021.11.27&de=2021.11.27&cluster_rank=16&mynews=0&office_type=0&office_section_code=0&news_office_checked=&nso=so:r,p:from20211127to20211127,a:all&start=11\n",
      "https://search.naver.com/search.naver?where=news&sm=tab_pge&query=%EC%BD%94%EC%8A%A4%ED%94%BC%20%EA%B2%BD%EC%A0%9C&sort=0&photo=0&field=0&pd=3&ds=2021.11.27&de=2021.11.27&cluster_rank=16&mynews=0&office_type=0&office_section_code=0&news_office_checked=&nso=so:r,p:from20211127to20211127,a:all&start=11\n",
      "크롤링 준비\n"
     ]
    },
    {
     "name": "stderr",
     "output_type": "stream",
     "text": [
      "\n",
      "\n",
      "preprocessing day:  87%|██████████████████████████████████████████████████████████████████████████████████████████████████████████████████▉                 | 27/31 [03:17<00:29,  7.25s/it]\u001b[A\u001b[A"
     ]
    },
    {
     "name": "stdout",
     "output_type": "stream",
     "text": [
      "다음날짜로 선택시작\n",
      "다음 날짜 선택 후 크롤링 준비\n",
      "https://search.naver.com/search.naver?where=news&query=%EC%BD%94%EC%8A%A4%ED%94%BC%20%EA%B2%BD%EC%A0%9C&sm=tab_opt&sort=0&photo=0&field=0&pd=3&ds=2021.11.28&de=2021.11.28&docid=&related=0&mynews=0&office_type=0&office_section_code=0&news_office_checked=&nso=so%3Ar%2Cp%3Afrom20211128to20211128&is_sug_officeid=0\n",
      "https://search.naver.com/search.naver?where=news&sm=tab_pge&query=%EC%BD%94%EC%8A%A4%ED%94%BC%20%EA%B2%BD%EC%A0%9C&sort=0&photo=0&field=0&pd=3&ds=2021.11.28&de=2021.11.28&cluster_rank=15&mynews=0&office_type=0&office_section_code=0&news_office_checked=&nso=so:r,p:from20211128to20211128,a:all&start=11\n",
      "https://search.naver.com/search.naver?where=news&sm=tab_pge&query=%EC%BD%94%EC%8A%A4%ED%94%BC%20%EA%B2%BD%EC%A0%9C&sort=0&photo=0&field=0&pd=3&ds=2021.11.28&de=2021.11.28&cluster_rank=27&mynews=0&office_type=0&office_section_code=0&news_office_checked=&nso=so:r,p:from20211128to20211128,a:all&start=21\n",
      "크롤링 준비\n"
     ]
    },
    {
     "name": "stderr",
     "output_type": "stream",
     "text": [
      "\n",
      "\n",
      "preprocessing day:  90%|███████████████████████████████████████████████████████████████████████████████████████████████████████████████████████▏            | 28/31 [03:24<00:21,  7.26s/it]\u001b[A\u001b[A"
     ]
    },
    {
     "name": "stdout",
     "output_type": "stream",
     "text": [
      "다음날짜로 선택시작\n",
      "다음 날짜 선택 후 크롤링 준비\n",
      "https://search.naver.com/search.naver?where=news&query=%EC%BD%94%EC%8A%A4%ED%94%BC%20%EA%B2%BD%EC%A0%9C&sm=tab_opt&sort=0&photo=0&field=0&pd=3&ds=2021.11.29&de=2021.11.29&docid=&related=0&mynews=0&office_type=0&office_section_code=0&news_office_checked=&nso=so%3Ar%2Cp%3Afrom20211129to20211129&is_sug_officeid=0\n",
      "https://search.naver.com/search.naver?where=news&sm=tab_pge&query=%EC%BD%94%EC%8A%A4%ED%94%BC%20%EA%B2%BD%EC%A0%9C&sort=0&photo=0&field=0&pd=3&ds=2021.11.29&de=2021.11.29&cluster_rank=18&mynews=0&office_type=0&office_section_code=0&news_office_checked=&nso=so:r,p:from20211129to20211129,a:all&start=11\n",
      "https://search.naver.com/search.naver?where=news&sm=tab_pge&query=%EC%BD%94%EC%8A%A4%ED%94%BC%20%EA%B2%BD%EC%A0%9C&sort=0&photo=0&field=0&pd=3&ds=2021.11.29&de=2021.11.29&cluster_rank=32&mynews=0&office_type=0&office_section_code=0&news_office_checked=&nso=so:r,p:from20211129to20211129,a:all&start=21\n",
      "크롤링 준비\n"
     ]
    },
    {
     "name": "stderr",
     "output_type": "stream",
     "text": [
      "\n",
      "\n",
      "preprocessing day:  94%|███████████████████████████████████████████████████████████████████████████████████████████████████████████████████████████▍        | 29/31 [03:31<00:14,  7.23s/it]\u001b[A\u001b[A"
     ]
    },
    {
     "name": "stdout",
     "output_type": "stream",
     "text": [
      "다음날짜로 선택시작\n",
      "다음 날짜 선택 후 크롤링 준비\n",
      "https://search.naver.com/search.naver?where=news&query=%EC%BD%94%EC%8A%A4%ED%94%BC%20%EA%B2%BD%EC%A0%9C&sm=tab_opt&sort=0&photo=0&field=0&pd=3&ds=2021.11.30&de=2021.11.30&docid=&related=0&mynews=0&office_type=0&office_section_code=0&news_office_checked=&nso=so%3Ar%2Cp%3Afrom20211130to20211130&is_sug_officeid=0\n",
      "https://search.naver.com/search.naver?where=news&sm=tab_pge&query=%EC%BD%94%EC%8A%A4%ED%94%BC%20%EA%B2%BD%EC%A0%9C&sort=0&photo=0&field=0&pd=3&ds=2021.11.30&de=2021.11.30&cluster_rank=12&mynews=0&office_type=0&office_section_code=0&news_office_checked=&nso=so:r,p:from20211130to20211130,a:all&start=11\n",
      "https://search.naver.com/search.naver?where=news&sm=tab_pge&query=%EC%BD%94%EC%8A%A4%ED%94%BC%20%EA%B2%BD%EC%A0%9C&sort=0&photo=0&field=0&pd=3&ds=2021.11.30&de=2021.11.30&cluster_rank=26&mynews=0&office_type=0&office_section_code=0&news_office_checked=&nso=so:r,p:from20211130to20211130,a:all&start=21\n",
      "크롤링 준비\n"
     ]
    },
    {
     "name": "stderr",
     "output_type": "stream",
     "text": [
      "\n",
      "\n",
      "preprocessing day:  97%|███████████████████████████████████████████████████████████████████████████████████████████████████████████████████████████████▋    | 30/31 [03:38<00:07,  7.21s/it]\u001b[A\u001b[A"
     ]
    },
    {
     "name": "stdout",
     "output_type": "stream",
     "text": [
      "다음날짜로 선택시작\n"
     ]
    },
    {
     "name": "stderr",
     "output_type": "stream",
     "text": [
      "\n",
      "\n",
      "preprocessing day: 100%|████████████████████████████████████████████████████████████████████████████████████████████████████████████████████████████████████| 31/31 [03:40<00:00,  7.10s/it]\u001b[A\u001b[A\n",
      "\n",
      "preprocessing month:  92%|███████████████████████████████████████████████████████     | 11/12 [39:45<03:38, 218.07s/it]\u001b[A"
     ]
    },
    {
     "name": "stdout",
     "output_type": "stream",
     "text": [
      "An error occurred while crawling for 2021-11-31: Message: no such element: Unable to locate element: {\"method\":\"xpath\",\"selector\":\"/html/body/div[3]/div[2]/div/div[1]/div[1]/div[2]/ul/li[2]/div/div[3]/div[2]/div[3]/div/div/div/ul/li[31]\"}\n",
      "  (Session info: headless chrome=115.0.5790.171); For documentation on this error, please visit: https://www.selenium.dev/documentation/webdriver/troubleshooting/errors#no-such-element-exception\n",
      "Stacktrace:\n",
      "Backtrace:\n",
      "\tGetHandleVerifier [0x00007FF7F2764A62+57106]\n",
      "\t(No symbol) [0x00007FF7F26DCF52]\n",
      "\t(No symbol) [0x00007FF7F25AE2CB]\n",
      "\t(No symbol) [0x00007FF7F25E786E]\n",
      "\t(No symbol) [0x00007FF7F25E795C]\n",
      "\t(No symbol) [0x00007FF7F2620477]\n",
      "\t(No symbol) [0x00007FF7F26069FF]\n",
      "\t(No symbol) [0x00007FF7F261E522]\n",
      "\t(No symbol) [0x00007FF7F2606793]\n",
      "\t(No symbol) [0x00007FF7F25DCE81]\n",
      "\t(No symbol) [0x00007FF7F25DE064]\n",
      "\tGetHandleVerifier [0x00007FF7F2A14222+2873042]\n",
      "\tGetHandleVerifier [0x00007FF7F2A66590+3209792]\n",
      "\tGetHandleVerifier [0x00007FF7F2A5F3AF+3180639]\n",
      "\tGetHandleVerifier [0x00007FF7F27F5F25+652245]\n",
      "\t(No symbol) [0x00007FF7F26E8618]\n",
      "\t(No symbol) [0x00007FF7F26E47C4]\n",
      "\t(No symbol) [0x00007FF7F26E48BC]\n",
      "\t(No symbol) [0x00007FF7F26D4C33]\n",
      "\tBaseThreadInitThunk [0x00007FFFF2917614+20]\n",
      "\tRtlUserThreadStart [0x00007FFFF3D026B1+33]\n",
      "\n"
     ]
    },
    {
     "name": "stderr",
     "output_type": "stream",
     "text": [
      "\n",
      "\n",
      "preprocessing day:   0%|                                                                                                                                             | 0/31 [00:00<?, ?it/s]\u001b[A\u001b[A"
     ]
    },
    {
     "name": "stdout",
     "output_type": "stream",
     "text": [
      "다음 날짜 선택 후 크롤링 준비\n",
      "https://search.naver.com/search.naver?where=news&query=%EC%BD%94%EC%8A%A4%ED%94%BC%20%EA%B2%BD%EC%A0%9C&sm=tab_opt&sort=0&photo=0&field=0&pd=3&ds=2021.12.01&de=2021.12.01&docid=&related=0&mynews=0&office_type=0&office_section_code=0&news_office_checked=&nso=so%3Ar%2Cp%3Afrom20211201to20211201&is_sug_officeid=0\n",
      "https://search.naver.com/search.naver?where=news&sm=tab_pge&query=%EC%BD%94%EC%8A%A4%ED%94%BC%20%EA%B2%BD%EC%A0%9C&sort=0&photo=0&field=0&pd=3&ds=2021.12.01&de=2021.12.01&cluster_rank=16&mynews=0&office_type=0&office_section_code=0&news_office_checked=&nso=so:r,p:from20211201to20211201,a:all&start=11\n",
      "https://search.naver.com/search.naver?where=news&sm=tab_pge&query=%EC%BD%94%EC%8A%A4%ED%94%BC%20%EA%B2%BD%EC%A0%9C&sort=0&photo=0&field=0&pd=3&ds=2021.12.01&de=2021.12.01&cluster_rank=30&mynews=0&office_type=0&office_section_code=0&news_office_checked=&nso=so:r,p:from20211201to20211201,a:all&start=21\n",
      "크롤링 준비\n"
     ]
    },
    {
     "name": "stderr",
     "output_type": "stream",
     "text": [
      "\n",
      "\n",
      "preprocessing day:   3%|████▎                                                                                                                                | 1/31 [00:07<03:51,  7.71s/it]\u001b[A\u001b[A"
     ]
    },
    {
     "name": "stdout",
     "output_type": "stream",
     "text": [
      "다음날짜로 선택시작\n",
      "다음 날짜 선택 후 크롤링 준비\n",
      "https://search.naver.com/search.naver?where=news&query=%EC%BD%94%EC%8A%A4%ED%94%BC%20%EA%B2%BD%EC%A0%9C&sm=tab_opt&sort=0&photo=0&field=0&pd=3&ds=2021.12.02&de=2021.12.02&docid=&related=0&mynews=0&office_type=0&office_section_code=0&news_office_checked=&nso=so%3Ar%2Cp%3Afrom20211202to20211202&is_sug_officeid=0\n",
      "https://search.naver.com/search.naver?where=news&sm=tab_pge&query=%EC%BD%94%EC%8A%A4%ED%94%BC%20%EA%B2%BD%EC%A0%9C&sort=0&photo=0&field=0&pd=3&ds=2021.12.02&de=2021.12.02&cluster_rank=16&mynews=0&office_type=0&office_section_code=0&news_office_checked=&nso=so:r,p:from20211202to20211202,a:all&start=11\n",
      "https://search.naver.com/search.naver?where=news&sm=tab_pge&query=%EC%BD%94%EC%8A%A4%ED%94%BC%20%EA%B2%BD%EC%A0%9C&sort=0&photo=0&field=0&pd=3&ds=2021.12.02&de=2021.12.02&cluster_rank=27&mynews=0&office_type=0&office_section_code=0&news_office_checked=&nso=so:r,p:from20211202to20211202,a:all&start=21\n",
      "크롤링 준비\n"
     ]
    },
    {
     "name": "stderr",
     "output_type": "stream",
     "text": [
      "\n",
      "\n",
      "preprocessing day:   6%|████████▌                                                                                                                            | 2/31 [00:14<03:34,  7.40s/it]\u001b[A\u001b[A"
     ]
    },
    {
     "name": "stdout",
     "output_type": "stream",
     "text": [
      "다음날짜로 선택시작\n",
      "다음 날짜 선택 후 크롤링 준비\n",
      "https://search.naver.com/search.naver?where=news&query=%EC%BD%94%EC%8A%A4%ED%94%BC%20%EA%B2%BD%EC%A0%9C&sm=tab_opt&sort=0&photo=0&field=0&pd=3&ds=2021.12.03&de=2021.12.03&docid=&related=0&mynews=0&office_type=0&office_section_code=0&news_office_checked=&nso=so%3Ar%2Cp%3Afrom20211203to20211203&is_sug_officeid=0\n",
      "https://search.naver.com/search.naver?where=news&sm=tab_pge&query=%EC%BD%94%EC%8A%A4%ED%94%BC%20%EA%B2%BD%EC%A0%9C&sort=0&photo=0&field=0&pd=3&ds=2021.12.03&de=2021.12.03&cluster_rank=10&mynews=0&office_type=0&office_section_code=0&news_office_checked=&nso=so:r,p:from20211203to20211203,a:all&start=11\n",
      "https://search.naver.com/search.naver?where=news&sm=tab_pge&query=%EC%BD%94%EC%8A%A4%ED%94%BC%20%EA%B2%BD%EC%A0%9C&sort=0&photo=0&field=0&pd=3&ds=2021.12.03&de=2021.12.03&cluster_rank=20&mynews=0&office_type=0&office_section_code=0&news_office_checked=&nso=so:r,p:from20211203to20211203,a:all&start=21\n",
      "크롤링 준비\n"
     ]
    },
    {
     "name": "stderr",
     "output_type": "stream",
     "text": [
      "\n",
      "\n",
      "preprocessing day:  10%|████████████▊                                                                                                                        | 3/31 [00:22<03:28,  7.43s/it]\u001b[A\u001b[A"
     ]
    },
    {
     "name": "stdout",
     "output_type": "stream",
     "text": [
      "다음날짜로 선택시작\n",
      "다음 날짜 선택 후 크롤링 준비\n",
      "https://search.naver.com/search.naver?where=news&query=%EC%BD%94%EC%8A%A4%ED%94%BC%20%EA%B2%BD%EC%A0%9C&sm=tab_opt&sort=0&photo=0&field=0&pd=3&ds=2021.12.04&de=2021.12.04&docid=&related=0&mynews=0&office_type=0&office_section_code=0&news_office_checked=&nso=so%3Ar%2Cp%3Afrom20211204to20211204&is_sug_officeid=0\n",
      "https://search.naver.com/search.naver?where=news&query=%EC%BD%94%EC%8A%A4%ED%94%BC%20%EA%B2%BD%EC%A0%9C&sm=tab_opt&sort=0&photo=0&field=0&pd=3&ds=2021.12.04&de=2021.12.04&docid=&related=0&mynews=0&office_type=0&office_section_code=0&news_office_checked=&nso=so%3Ar%2Cp%3Afrom20211204to20211204&is_sug_officeid=0\n",
      "크롤링 준비\n"
     ]
    },
    {
     "name": "stderr",
     "output_type": "stream",
     "text": [
      "\n",
      "\n",
      "preprocessing day:  13%|█████████████████▏                                                                                                                   | 4/31 [00:28<03:08,  6.98s/it]\u001b[A\u001b[A"
     ]
    },
    {
     "name": "stdout",
     "output_type": "stream",
     "text": [
      "다음날짜로 선택시작\n",
      "다음 날짜 선택 후 크롤링 준비\n",
      "https://search.naver.com/search.naver?where=news&query=%EC%BD%94%EC%8A%A4%ED%94%BC%20%EA%B2%BD%EC%A0%9C&sm=tab_opt&sort=0&photo=0&field=0&pd=3&ds=2021.12.05&de=2021.12.05&docid=&related=0&mynews=0&office_type=0&office_section_code=0&news_office_checked=&nso=so%3Ar%2Cp%3Afrom20211205to20211205&is_sug_officeid=0\n",
      "https://search.naver.com/search.naver?where=news&sm=tab_pge&query=%EC%BD%94%EC%8A%A4%ED%94%BC%20%EA%B2%BD%EC%A0%9C&sort=0&photo=0&field=0&pd=3&ds=2021.12.05&de=2021.12.05&cluster_rank=10&mynews=0&office_type=0&office_section_code=0&news_office_checked=&nso=so:r,p:from20211205to20211205,a:all&start=11\n",
      "https://search.naver.com/search.naver?where=news&sm=tab_pge&query=%EC%BD%94%EC%8A%A4%ED%94%BC%20%EA%B2%BD%EC%A0%9C&sort=0&photo=0&field=0&pd=3&ds=2021.12.05&de=2021.12.05&cluster_rank=20&mynews=0&office_type=0&office_section_code=0&news_office_checked=&nso=so:r,p:from20211205to20211205,a:all&start=21\n",
      "크롤링 준비\n"
     ]
    },
    {
     "name": "stderr",
     "output_type": "stream",
     "text": [
      "\n",
      "\n",
      "preprocessing day:  16%|█████████████████████▍                                                                                                               | 5/31 [00:35<03:03,  7.05s/it]\u001b[A\u001b[A"
     ]
    },
    {
     "name": "stdout",
     "output_type": "stream",
     "text": [
      "다음날짜로 선택시작\n",
      "다음 날짜 선택 후 크롤링 준비\n",
      "https://search.naver.com/search.naver?where=news&query=%EC%BD%94%EC%8A%A4%ED%94%BC%20%EA%B2%BD%EC%A0%9C&sm=tab_opt&sort=0&photo=0&field=0&pd=3&ds=2021.12.06&de=2021.12.06&docid=&related=0&mynews=0&office_type=0&office_section_code=0&news_office_checked=&nso=so%3Ar%2Cp%3Afrom20211206to20211206&is_sug_officeid=0\n",
      "https://search.naver.com/search.naver?where=news&sm=tab_pge&query=%EC%BD%94%EC%8A%A4%ED%94%BC%20%EA%B2%BD%EC%A0%9C&sort=0&photo=0&field=0&pd=3&ds=2021.12.06&de=2021.12.06&cluster_rank=11&mynews=0&office_type=0&office_section_code=0&news_office_checked=&nso=so:r,p:from20211206to20211206,a:all&start=11\n",
      "https://search.naver.com/search.naver?where=news&sm=tab_pge&query=%EC%BD%94%EC%8A%A4%ED%94%BC%20%EA%B2%BD%EC%A0%9C&sort=0&photo=0&field=0&pd=3&ds=2021.12.06&de=2021.12.06&cluster_rank=21&mynews=0&office_type=0&office_section_code=0&news_office_checked=&nso=so:r,p:from20211206to20211206,a:all&start=21\n",
      "크롤링 준비\n"
     ]
    },
    {
     "name": "stderr",
     "output_type": "stream",
     "text": [
      "\n",
      "\n",
      "preprocessing day:  19%|█████████████████████████▋                                                                                                           | 6/31 [00:43<02:57,  7.10s/it]\u001b[A\u001b[A"
     ]
    },
    {
     "name": "stdout",
     "output_type": "stream",
     "text": [
      "다음날짜로 선택시작\n",
      "다음 날짜 선택 후 크롤링 준비\n",
      "https://search.naver.com/search.naver?where=news&query=%EC%BD%94%EC%8A%A4%ED%94%BC%20%EA%B2%BD%EC%A0%9C&sm=tab_opt&sort=0&photo=0&field=0&pd=3&ds=2021.12.07&de=2021.12.07&docid=&related=0&mynews=0&office_type=0&office_section_code=0&news_office_checked=&nso=so%3Ar%2Cp%3Afrom20211207to20211207&is_sug_officeid=0\n",
      "https://search.naver.com/search.naver?where=news&sm=tab_pge&query=%EC%BD%94%EC%8A%A4%ED%94%BC%20%EA%B2%BD%EC%A0%9C&sort=0&photo=0&field=0&pd=3&ds=2021.12.07&de=2021.12.07&cluster_rank=13&mynews=0&office_type=0&office_section_code=0&news_office_checked=&nso=so:r,p:from20211207to20211207,a:all&start=11\n",
      "https://search.naver.com/search.naver?where=news&sm=tab_pge&query=%EC%BD%94%EC%8A%A4%ED%94%BC%20%EA%B2%BD%EC%A0%9C&sort=0&photo=0&field=0&pd=3&ds=2021.12.07&de=2021.12.07&cluster_rank=28&mynews=0&office_type=0&office_section_code=0&news_office_checked=&nso=so:r,p:from20211207to20211207,a:all&start=21\n",
      "크롤링 준비\n"
     ]
    },
    {
     "name": "stderr",
     "output_type": "stream",
     "text": [
      "\n",
      "\n",
      "preprocessing day:  23%|██████████████████████████████                                                                                                       | 7/31 [00:50<02:51,  7.13s/it]\u001b[A\u001b[A"
     ]
    },
    {
     "name": "stdout",
     "output_type": "stream",
     "text": [
      "다음날짜로 선택시작\n",
      "다음 날짜 선택 후 크롤링 준비\n",
      "https://search.naver.com/search.naver?where=news&query=%EC%BD%94%EC%8A%A4%ED%94%BC%20%EA%B2%BD%EC%A0%9C&sm=tab_opt&sort=0&photo=0&field=0&pd=3&ds=2021.12.08&de=2021.12.08&docid=&related=0&mynews=0&office_type=0&office_section_code=0&news_office_checked=&nso=so%3Ar%2Cp%3Afrom20211208to20211208&is_sug_officeid=0\n",
      "https://search.naver.com/search.naver?where=news&sm=tab_pge&query=%EC%BD%94%EC%8A%A4%ED%94%BC%20%EA%B2%BD%EC%A0%9C&sort=0&photo=0&field=0&pd=3&ds=2021.12.08&de=2021.12.08&cluster_rank=13&mynews=0&office_type=0&office_section_code=0&news_office_checked=&nso=so:r,p:from20211208to20211208,a:all&start=11\n",
      "https://search.naver.com/search.naver?where=news&sm=tab_pge&query=%EC%BD%94%EC%8A%A4%ED%94%BC%20%EA%B2%BD%EC%A0%9C&sort=0&photo=0&field=0&pd=3&ds=2021.12.08&de=2021.12.08&cluster_rank=24&mynews=0&office_type=0&office_section_code=0&news_office_checked=&nso=so:r,p:from20211208to20211208,a:all&start=21\n",
      "크롤링 준비\n"
     ]
    },
    {
     "name": "stderr",
     "output_type": "stream",
     "text": [
      "\n",
      "\n",
      "preprocessing day:  26%|██████████████████████████████████▎                                                                                                  | 8/31 [00:57<02:44,  7.17s/it]\u001b[A\u001b[A"
     ]
    },
    {
     "name": "stdout",
     "output_type": "stream",
     "text": [
      "다음날짜로 선택시작\n",
      "다음 날짜 선택 후 크롤링 준비\n",
      "https://search.naver.com/search.naver?where=news&query=%EC%BD%94%EC%8A%A4%ED%94%BC%20%EA%B2%BD%EC%A0%9C&sm=tab_opt&sort=0&photo=0&field=0&pd=3&ds=2021.12.09&de=2021.12.09&docid=&related=0&mynews=0&office_type=0&office_section_code=0&news_office_checked=&nso=so%3Ar%2Cp%3Afrom20211209to20211209&is_sug_officeid=0\n",
      "https://search.naver.com/search.naver?where=news&sm=tab_pge&query=%EC%BD%94%EC%8A%A4%ED%94%BC%20%EA%B2%BD%EC%A0%9C&sort=0&photo=0&field=0&pd=3&ds=2021.12.09&de=2021.12.09&cluster_rank=12&mynews=0&office_type=0&office_section_code=0&news_office_checked=&nso=so:r,p:from20211209to20211209,a:all&start=11\n",
      "https://search.naver.com/search.naver?where=news&sm=tab_pge&query=%EC%BD%94%EC%8A%A4%ED%94%BC%20%EA%B2%BD%EC%A0%9C&sort=0&photo=0&field=0&pd=3&ds=2021.12.09&de=2021.12.09&cluster_rank=22&mynews=0&office_type=0&office_section_code=0&news_office_checked=&nso=so:r,p:from20211209to20211209,a:all&start=21\n",
      "크롤링 준비\n"
     ]
    },
    {
     "name": "stderr",
     "output_type": "stream",
     "text": [
      "\n",
      "\n",
      "preprocessing day:  29%|██████████████████████████████████████▌                                                                                              | 9/31 [01:04<02:37,  7.18s/it]\u001b[A\u001b[A"
     ]
    },
    {
     "name": "stdout",
     "output_type": "stream",
     "text": [
      "다음날짜로 선택시작\n",
      "다음 날짜 선택 후 크롤링 준비\n",
      "https://search.naver.com/search.naver?where=news&query=%EC%BD%94%EC%8A%A4%ED%94%BC%20%EA%B2%BD%EC%A0%9C&sm=tab_opt&sort=0&photo=0&field=0&pd=3&ds=2021.12.10&de=2021.12.10&docid=&related=0&mynews=0&office_type=0&office_section_code=0&news_office_checked=&nso=so%3Ar%2Cp%3Afrom20211210to20211210&is_sug_officeid=0\n",
      "https://search.naver.com/search.naver?where=news&sm=tab_pge&query=%EC%BD%94%EC%8A%A4%ED%94%BC%20%EA%B2%BD%EC%A0%9C&sort=0&photo=0&field=0&pd=3&ds=2021.12.10&de=2021.12.10&cluster_rank=17&mynews=0&office_type=0&office_section_code=0&news_office_checked=&nso=so:r,p:from20211210to20211210,a:all&start=11\n",
      "https://search.naver.com/search.naver?where=news&sm=tab_pge&query=%EC%BD%94%EC%8A%A4%ED%94%BC%20%EA%B2%BD%EC%A0%9C&sort=0&photo=0&field=0&pd=3&ds=2021.12.10&de=2021.12.10&cluster_rank=28&mynews=0&office_type=0&office_section_code=0&news_office_checked=&nso=so:r,p:from20211210to20211210,a:all&start=21\n",
      "크롤링 준비\n"
     ]
    },
    {
     "name": "stderr",
     "output_type": "stream",
     "text": [
      "\n",
      "\n",
      "preprocessing day:  32%|██████████████████████████████████████████▌                                                                                         | 10/31 [01:11<02:31,  7.19s/it]\u001b[A\u001b[A"
     ]
    },
    {
     "name": "stdout",
     "output_type": "stream",
     "text": [
      "다음날짜로 선택시작\n",
      "다음 날짜 선택 후 크롤링 준비\n",
      "https://search.naver.com/search.naver?where=news&query=%EC%BD%94%EC%8A%A4%ED%94%BC%20%EA%B2%BD%EC%A0%9C&sm=tab_opt&sort=0&photo=0&field=0&pd=3&ds=2021.12.11&de=2021.12.11&docid=&related=0&mynews=0&office_type=0&office_section_code=0&news_office_checked=&nso=so%3Ar%2Cp%3Afrom20211211to20211211&is_sug_officeid=0\n",
      "https://search.naver.com/search.naver?where=news&query=%EC%BD%94%EC%8A%A4%ED%94%BC%20%EA%B2%BD%EC%A0%9C&sm=tab_opt&sort=0&photo=0&field=0&pd=3&ds=2021.12.11&de=2021.12.11&docid=&related=0&mynews=0&office_type=0&office_section_code=0&news_office_checked=&nso=so%3Ar%2Cp%3Afrom20211211to20211211&is_sug_officeid=0\n",
      "크롤링 준비\n"
     ]
    },
    {
     "name": "stderr",
     "output_type": "stream",
     "text": [
      "\n",
      "\n",
      "preprocessing day:  35%|██████████████████████████████████████████████▊                                                                                     | 11/31 [01:18<02:18,  6.93s/it]\u001b[A\u001b[A"
     ]
    },
    {
     "name": "stdout",
     "output_type": "stream",
     "text": [
      "다음날짜로 선택시작\n",
      "다음 날짜 선택 후 크롤링 준비\n",
      "https://search.naver.com/search.naver?where=news&query=%EC%BD%94%EC%8A%A4%ED%94%BC%20%EA%B2%BD%EC%A0%9C&sm=tab_opt&sort=0&photo=0&field=0&pd=3&ds=2021.12.12&de=2021.12.12&docid=&related=0&mynews=0&office_type=0&office_section_code=0&news_office_checked=&nso=so%3Ar%2Cp%3Afrom20211212to20211212&is_sug_officeid=0\n",
      "https://search.naver.com/search.naver?where=news&sm=tab_pge&query=%EC%BD%94%EC%8A%A4%ED%94%BC%20%EA%B2%BD%EC%A0%9C&sort=0&photo=0&field=0&pd=3&ds=2021.12.12&de=2021.12.12&cluster_rank=13&mynews=0&office_type=0&office_section_code=0&news_office_checked=&nso=so:r,p:from20211212to20211212,a:all&start=11\n",
      "https://search.naver.com/search.naver?where=news&sm=tab_pge&query=%EC%BD%94%EC%8A%A4%ED%94%BC%20%EA%B2%BD%EC%A0%9C&sort=0&photo=0&field=0&pd=3&ds=2021.12.12&de=2021.12.12&cluster_rank=23&mynews=0&office_type=0&office_section_code=0&news_office_checked=&nso=so:r,p:from20211212to20211212,a:all&start=21\n",
      "크롤링 준비\n"
     ]
    },
    {
     "name": "stderr",
     "output_type": "stream",
     "text": [
      "\n",
      "\n",
      "preprocessing day:  39%|███████████████████████████████████████████████████                                                                                 | 12/31 [01:25<02:15,  7.12s/it]\u001b[A\u001b[A"
     ]
    },
    {
     "name": "stdout",
     "output_type": "stream",
     "text": [
      "다음날짜로 선택시작\n",
      "다음 날짜 선택 후 크롤링 준비\n",
      "https://search.naver.com/search.naver?where=news&query=%EC%BD%94%EC%8A%A4%ED%94%BC%20%EA%B2%BD%EC%A0%9C&sm=tab_opt&sort=0&photo=0&field=0&pd=3&ds=2021.12.13&de=2021.12.13&docid=&related=0&mynews=0&office_type=0&office_section_code=0&news_office_checked=&nso=so%3Ar%2Cp%3Afrom20211213to20211213&is_sug_officeid=0\n",
      "https://search.naver.com/search.naver?where=news&sm=tab_pge&query=%EC%BD%94%EC%8A%A4%ED%94%BC%20%EA%B2%BD%EC%A0%9C&sort=0&photo=0&field=0&pd=3&ds=2021.12.13&de=2021.12.13&cluster_rank=19&mynews=0&office_type=0&office_section_code=0&news_office_checked=&nso=so:r,p:from20211213to20211213,a:all&start=11\n",
      "https://search.naver.com/search.naver?where=news&sm=tab_pge&query=%EC%BD%94%EC%8A%A4%ED%94%BC%20%EA%B2%BD%EC%A0%9C&sort=0&photo=0&field=0&pd=3&ds=2021.12.13&de=2021.12.13&cluster_rank=29&mynews=0&office_type=0&office_section_code=0&news_office_checked=&nso=so:r,p:from20211213to20211213,a:all&start=21\n",
      "크롤링 준비\n"
     ]
    },
    {
     "name": "stderr",
     "output_type": "stream",
     "text": [
      "\n",
      "\n",
      "preprocessing day:  42%|███████████████████████████████████████████████████████▎                                                                            | 13/31 [01:33<02:10,  7.23s/it]\u001b[A\u001b[A"
     ]
    },
    {
     "name": "stdout",
     "output_type": "stream",
     "text": [
      "다음날짜로 선택시작\n",
      "다음 날짜 선택 후 크롤링 준비\n",
      "https://search.naver.com/search.naver?where=news&query=%EC%BD%94%EC%8A%A4%ED%94%BC%20%EA%B2%BD%EC%A0%9C&sm=tab_opt&sort=0&photo=0&field=0&pd=3&ds=2021.12.14&de=2021.12.14&docid=&related=0&mynews=0&office_type=0&office_section_code=0&news_office_checked=&nso=so%3Ar%2Cp%3Afrom20211214to20211214&is_sug_officeid=0\n",
      "https://search.naver.com/search.naver?where=news&sm=tab_pge&query=%EC%BD%94%EC%8A%A4%ED%94%BC%20%EA%B2%BD%EC%A0%9C&sort=0&photo=0&field=0&pd=3&ds=2021.12.14&de=2021.12.14&cluster_rank=10&mynews=0&office_type=0&office_section_code=0&news_office_checked=&nso=so:r,p:from20211214to20211214,a:all&start=11\n",
      "https://search.naver.com/search.naver?where=news&sm=tab_pge&query=%EC%BD%94%EC%8A%A4%ED%94%BC%20%EA%B2%BD%EC%A0%9C&sort=0&photo=0&field=0&pd=3&ds=2021.12.14&de=2021.12.14&cluster_rank=20&mynews=0&office_type=0&office_section_code=0&news_office_checked=&nso=so:r,p:from20211214to20211214,a:all&start=21\n",
      "크롤링 준비\n"
     ]
    },
    {
     "name": "stderr",
     "output_type": "stream",
     "text": [
      "\n",
      "\n",
      "preprocessing day:  45%|███████████████████████████████████████████████████████████▌                                                                        | 14/31 [01:40<02:04,  7.34s/it]\u001b[A\u001b[A"
     ]
    },
    {
     "name": "stdout",
     "output_type": "stream",
     "text": [
      "다음날짜로 선택시작\n",
      "다음 날짜 선택 후 크롤링 준비\n",
      "https://search.naver.com/search.naver?where=news&query=%EC%BD%94%EC%8A%A4%ED%94%BC%20%EA%B2%BD%EC%A0%9C&sm=tab_opt&sort=0&photo=0&field=0&pd=3&ds=2021.12.15&de=2021.12.15&docid=&related=0&mynews=0&office_type=0&office_section_code=0&news_office_checked=&nso=so%3Ar%2Cp%3Afrom20211215to20211215&is_sug_officeid=0\n",
      "https://search.naver.com/search.naver?where=news&sm=tab_pge&query=%EC%BD%94%EC%8A%A4%ED%94%BC%20%EA%B2%BD%EC%A0%9C&sort=0&photo=0&field=0&pd=3&ds=2021.12.15&de=2021.12.15&cluster_rank=10&mynews=0&office_type=0&office_section_code=0&news_office_checked=&nso=so:r,p:from20211215to20211215,a:all&start=11\n",
      "https://search.naver.com/search.naver?where=news&sm=tab_pge&query=%EC%BD%94%EC%8A%A4%ED%94%BC%20%EA%B2%BD%EC%A0%9C&sort=0&photo=0&field=0&pd=3&ds=2021.12.15&de=2021.12.15&cluster_rank=20&mynews=0&office_type=0&office_section_code=0&news_office_checked=&nso=so:r,p:from20211215to20211215,a:all&start=21\n",
      "크롤링 준비\n"
     ]
    },
    {
     "name": "stderr",
     "output_type": "stream",
     "text": [
      "\n",
      "\n",
      "preprocessing day:  48%|███████████████████████████████████████████████████████████████▊                                                                    | 15/31 [01:48<01:58,  7.39s/it]\u001b[A\u001b[A"
     ]
    },
    {
     "name": "stdout",
     "output_type": "stream",
     "text": [
      "다음날짜로 선택시작\n",
      "다음 날짜 선택 후 크롤링 준비\n",
      "https://search.naver.com/search.naver?where=news&query=%EC%BD%94%EC%8A%A4%ED%94%BC%20%EA%B2%BD%EC%A0%9C&sm=tab_opt&sort=0&photo=0&field=0&pd=3&ds=2021.12.16&de=2021.12.16&docid=&related=0&mynews=0&office_type=0&office_section_code=0&news_office_checked=&nso=so%3Ar%2Cp%3Afrom20211216to20211216&is_sug_officeid=0\n",
      "https://search.naver.com/search.naver?where=news&sm=tab_pge&query=%EC%BD%94%EC%8A%A4%ED%94%BC%20%EA%B2%BD%EC%A0%9C&sort=0&photo=0&field=0&pd=3&ds=2021.12.16&de=2021.12.16&cluster_rank=11&mynews=0&office_type=0&office_section_code=0&news_office_checked=&nso=so:r,p:from20211216to20211216,a:all&start=11\n",
      "https://search.naver.com/search.naver?where=news&sm=tab_pge&query=%EC%BD%94%EC%8A%A4%ED%94%BC%20%EA%B2%BD%EC%A0%9C&sort=0&photo=0&field=0&pd=3&ds=2021.12.16&de=2021.12.16&cluster_rank=21&mynews=0&office_type=0&office_section_code=0&news_office_checked=&nso=so:r,p:from20211216to20211216,a:all&start=21\n",
      "크롤링 준비\n"
     ]
    },
    {
     "name": "stderr",
     "output_type": "stream",
     "text": [
      "\n",
      "\n",
      "preprocessing day:  52%|████████████████████████████████████████████████████████████████████▏                                                               | 16/31 [01:56<01:52,  7.52s/it]\u001b[A\u001b[A"
     ]
    },
    {
     "name": "stdout",
     "output_type": "stream",
     "text": [
      "다음날짜로 선택시작\n",
      "다음 날짜 선택 후 크롤링 준비\n",
      "https://search.naver.com/search.naver?where=news&query=%EC%BD%94%EC%8A%A4%ED%94%BC%20%EA%B2%BD%EC%A0%9C&sm=tab_opt&sort=0&photo=0&field=0&pd=3&ds=2021.12.17&de=2021.12.17&docid=&related=0&mynews=0&office_type=0&office_section_code=0&news_office_checked=&nso=so%3Ar%2Cp%3Afrom20211217to20211217&is_sug_officeid=0\n",
      "https://search.naver.com/search.naver?where=news&sm=tab_pge&query=%EC%BD%94%EC%8A%A4%ED%94%BC%20%EA%B2%BD%EC%A0%9C&sort=0&photo=0&field=0&pd=3&ds=2021.12.17&de=2021.12.17&cluster_rank=10&mynews=0&office_type=0&office_section_code=0&news_office_checked=&nso=so:r,p:from20211217to20211217,a:all&start=11\n",
      "https://search.naver.com/search.naver?where=news&sm=tab_pge&query=%EC%BD%94%EC%8A%A4%ED%94%BC%20%EA%B2%BD%EC%A0%9C&sort=0&photo=0&field=0&pd=3&ds=2021.12.17&de=2021.12.17&cluster_rank=20&mynews=0&office_type=0&office_section_code=0&news_office_checked=&nso=so:r,p:from20211217to20211217,a:all&start=21\n",
      "크롤링 준비\n"
     ]
    },
    {
     "name": "stderr",
     "output_type": "stream",
     "text": [
      "\n",
      "\n",
      "preprocessing day:  55%|████████████████████████████████████████████████████████████████████████▍                                                           | 17/31 [02:03<01:43,  7.36s/it]\u001b[A\u001b[A"
     ]
    },
    {
     "name": "stdout",
     "output_type": "stream",
     "text": [
      "다음날짜로 선택시작\n",
      "다음 날짜 선택 후 크롤링 준비\n",
      "https://search.naver.com/search.naver?where=news&query=%EC%BD%94%EC%8A%A4%ED%94%BC%20%EA%B2%BD%EC%A0%9C&sm=tab_opt&sort=0&photo=0&field=0&pd=3&ds=2021.12.18&de=2021.12.18&docid=&related=0&mynews=0&office_type=0&office_section_code=0&news_office_checked=&nso=so%3Ar%2Cp%3Afrom20211218to20211218&is_sug_officeid=0\n",
      "https://search.naver.com/search.naver?where=news&query=%EC%BD%94%EC%8A%A4%ED%94%BC%20%EA%B2%BD%EC%A0%9C&sm=tab_opt&sort=0&photo=0&field=0&pd=3&ds=2021.12.18&de=2021.12.18&docid=&related=0&mynews=0&office_type=0&office_section_code=0&news_office_checked=&nso=so%3Ar%2Cp%3Afrom20211218to20211218&is_sug_officeid=0\n",
      "크롤링 준비\n"
     ]
    },
    {
     "name": "stderr",
     "output_type": "stream",
     "text": [
      "\n",
      "\n",
      "preprocessing day:  58%|████████████████████████████████████████████████████████████████████████████▋                                                       | 18/31 [02:09<01:31,  7.03s/it]\u001b[A\u001b[A"
     ]
    },
    {
     "name": "stdout",
     "output_type": "stream",
     "text": [
      "다음날짜로 선택시작\n",
      "다음 날짜 선택 후 크롤링 준비\n",
      "https://search.naver.com/search.naver?where=news&query=%EC%BD%94%EC%8A%A4%ED%94%BC%20%EA%B2%BD%EC%A0%9C&sm=tab_opt&sort=0&photo=0&field=0&pd=3&ds=2021.12.19&de=2021.12.19&docid=&related=0&mynews=0&office_type=0&office_section_code=0&news_office_checked=&nso=so%3Ar%2Cp%3Afrom20211219to20211219&is_sug_officeid=0\n",
      "https://search.naver.com/search.naver?where=news&sm=tab_pge&query=%EC%BD%94%EC%8A%A4%ED%94%BC%20%EA%B2%BD%EC%A0%9C&sort=0&photo=0&field=0&pd=3&ds=2021.12.19&de=2021.12.19&cluster_rank=13&mynews=0&office_type=0&office_section_code=0&news_office_checked=&nso=so:r,p:from20211219to20211219,a:all&start=11\n",
      "https://search.naver.com/search.naver?where=news&sm=tab_pge&query=%EC%BD%94%EC%8A%A4%ED%94%BC%20%EA%B2%BD%EC%A0%9C&sort=0&photo=0&field=0&pd=3&ds=2021.12.19&de=2021.12.19&cluster_rank=13&mynews=0&office_type=0&office_section_code=0&news_office_checked=&nso=so:r,p:from20211219to20211219,a:all&start=11\n",
      "크롤링 준비\n"
     ]
    },
    {
     "name": "stderr",
     "output_type": "stream",
     "text": [
      "\n",
      "\n",
      "preprocessing day:  61%|████████████████████████████████████████████████████████████████████████████████▉                                                   | 19/31 [02:16<01:23,  6.98s/it]\u001b[A\u001b[A"
     ]
    },
    {
     "name": "stdout",
     "output_type": "stream",
     "text": [
      "다음날짜로 선택시작\n",
      "다음 날짜 선택 후 크롤링 준비\n",
      "https://search.naver.com/search.naver?where=news&query=%EC%BD%94%EC%8A%A4%ED%94%BC%20%EA%B2%BD%EC%A0%9C&sm=tab_opt&sort=0&photo=0&field=0&pd=3&ds=2021.12.20&de=2021.12.20&docid=&related=0&mynews=0&office_type=0&office_section_code=0&news_office_checked=&nso=so%3Ar%2Cp%3Afrom20211220to20211220&is_sug_officeid=0\n",
      "https://search.naver.com/search.naver?where=news&sm=tab_pge&query=%EC%BD%94%EC%8A%A4%ED%94%BC%20%EA%B2%BD%EC%A0%9C&sort=0&photo=0&field=0&pd=3&ds=2021.12.20&de=2021.12.20&cluster_rank=10&mynews=0&office_type=0&office_section_code=0&news_office_checked=&nso=so:r,p:from20211220to20211220,a:all&start=11\n",
      "https://search.naver.com/search.naver?where=news&sm=tab_pge&query=%EC%BD%94%EC%8A%A4%ED%94%BC%20%EA%B2%BD%EC%A0%9C&sort=0&photo=0&field=0&pd=3&ds=2021.12.20&de=2021.12.20&cluster_rank=20&mynews=0&office_type=0&office_section_code=0&news_office_checked=&nso=so:r,p:from20211220to20211220,a:all&start=21\n",
      "크롤링 준비\n"
     ]
    },
    {
     "name": "stderr",
     "output_type": "stream",
     "text": [
      "\n",
      "\n",
      "preprocessing day:  65%|█████████████████████████████████████████████████████████████████████████████████████▏                                              | 20/31 [02:23<01:16,  7.00s/it]\u001b[A\u001b[A"
     ]
    },
    {
     "name": "stdout",
     "output_type": "stream",
     "text": [
      "다음날짜로 선택시작\n",
      "다음 날짜 선택 후 크롤링 준비\n",
      "https://search.naver.com/search.naver?where=news&query=%EC%BD%94%EC%8A%A4%ED%94%BC%20%EA%B2%BD%EC%A0%9C&sm=tab_opt&sort=0&photo=0&field=0&pd=3&ds=2021.12.21&de=2021.12.21&docid=&related=0&mynews=0&office_type=0&office_section_code=0&news_office_checked=&nso=so%3Ar%2Cp%3Afrom20211221to20211221&is_sug_officeid=0\n",
      "https://search.naver.com/search.naver?where=news&sm=tab_pge&query=%EC%BD%94%EC%8A%A4%ED%94%BC%20%EA%B2%BD%EC%A0%9C&sort=0&photo=0&field=0&pd=3&ds=2021.12.21&de=2021.12.21&cluster_rank=12&mynews=0&office_type=0&office_section_code=0&news_office_checked=&nso=so:r,p:from20211221to20211221,a:all&start=11\n",
      "https://search.naver.com/search.naver?where=news&sm=tab_pge&query=%EC%BD%94%EC%8A%A4%ED%94%BC%20%EA%B2%BD%EC%A0%9C&sort=0&photo=0&field=0&pd=3&ds=2021.12.21&de=2021.12.21&cluster_rank=22&mynews=0&office_type=0&office_section_code=0&news_office_checked=&nso=so:r,p:from20211221to20211221,a:all&start=21\n",
      "크롤링 준비\n"
     ]
    },
    {
     "name": "stderr",
     "output_type": "stream",
     "text": [
      "\n",
      "\n",
      "preprocessing day:  68%|█████████████████████████████████████████████████████████████████████████████████████████▍                                          | 21/31 [02:30<01:11,  7.11s/it]\u001b[A\u001b[A"
     ]
    },
    {
     "name": "stdout",
     "output_type": "stream",
     "text": [
      "다음날짜로 선택시작\n",
      "다음 날짜 선택 후 크롤링 준비\n",
      "https://search.naver.com/search.naver?where=news&query=%EC%BD%94%EC%8A%A4%ED%94%BC%20%EA%B2%BD%EC%A0%9C&sm=tab_opt&sort=0&photo=0&field=0&pd=3&ds=2021.12.22&de=2021.12.22&docid=&related=0&mynews=0&office_type=0&office_section_code=0&news_office_checked=&nso=so%3Ar%2Cp%3Afrom20211222to20211222&is_sug_officeid=0\n",
      "https://search.naver.com/search.naver?where=news&sm=tab_pge&query=%EC%BD%94%EC%8A%A4%ED%94%BC%20%EA%B2%BD%EC%A0%9C&sort=0&photo=0&field=0&pd=3&ds=2021.12.22&de=2021.12.22&cluster_rank=11&mynews=0&office_type=0&office_section_code=0&news_office_checked=&nso=so:r,p:from20211222to20211222,a:all&start=11\n",
      "https://search.naver.com/search.naver?where=news&sm=tab_pge&query=%EC%BD%94%EC%8A%A4%ED%94%BC%20%EA%B2%BD%EC%A0%9C&sort=0&photo=0&field=0&pd=3&ds=2021.12.22&de=2021.12.22&cluster_rank=22&mynews=0&office_type=0&office_section_code=0&news_office_checked=&nso=so:r,p:from20211222to20211222,a:all&start=21\n",
      "크롤링 준비\n"
     ]
    },
    {
     "name": "stderr",
     "output_type": "stream",
     "text": [
      "\n",
      "\n",
      "preprocessing day:  71%|█████████████████████████████████████████████████████████████████████████████████████████████▋                                      | 22/31 [02:38<01:05,  7.23s/it]\u001b[A\u001b[A"
     ]
    },
    {
     "name": "stdout",
     "output_type": "stream",
     "text": [
      "다음날짜로 선택시작\n",
      "다음 날짜 선택 후 크롤링 준비\n",
      "https://search.naver.com/search.naver?where=news&query=%EC%BD%94%EC%8A%A4%ED%94%BC%20%EA%B2%BD%EC%A0%9C&sm=tab_opt&sort=0&photo=0&field=0&pd=3&ds=2021.12.23&de=2021.12.23&docid=&related=0&mynews=0&office_type=0&office_section_code=0&news_office_checked=&nso=so%3Ar%2Cp%3Afrom20211223to20211223&is_sug_officeid=0\n",
      "https://search.naver.com/search.naver?where=news&sm=tab_pge&query=%EC%BD%94%EC%8A%A4%ED%94%BC%20%EA%B2%BD%EC%A0%9C&sort=0&photo=0&field=0&pd=3&ds=2021.12.23&de=2021.12.23&cluster_rank=16&mynews=0&office_type=0&office_section_code=0&news_office_checked=&nso=so:r,p:from20211223to20211223,a:all&start=11\n",
      "https://search.naver.com/search.naver?where=news&sm=tab_pge&query=%EC%BD%94%EC%8A%A4%ED%94%BC%20%EA%B2%BD%EC%A0%9C&sort=0&photo=0&field=0&pd=3&ds=2021.12.23&de=2021.12.23&cluster_rank=26&mynews=0&office_type=0&office_section_code=0&news_office_checked=&nso=so:r,p:from20211223to20211223,a:all&start=21\n",
      "크롤링 준비\n"
     ]
    },
    {
     "name": "stderr",
     "output_type": "stream",
     "text": [
      "\n",
      "\n",
      "preprocessing day:  74%|█████████████████████████████████████████████████████████████████████████████████████████████████▉                                  | 23/31 [02:45<00:57,  7.23s/it]\u001b[A\u001b[A"
     ]
    },
    {
     "name": "stdout",
     "output_type": "stream",
     "text": [
      "다음날짜로 선택시작\n",
      "다음 날짜 선택 후 크롤링 준비\n",
      "https://search.naver.com/search.naver?where=news&query=%EC%BD%94%EC%8A%A4%ED%94%BC%20%EA%B2%BD%EC%A0%9C&sm=tab_opt&sort=0&photo=0&field=0&pd=3&ds=2021.12.24&de=2021.12.24&docid=&related=0&mynews=0&office_type=0&office_section_code=0&news_office_checked=&nso=so%3Ar%2Cp%3Afrom20211224to20211224&is_sug_officeid=0\n",
      "https://search.naver.com/search.naver?where=news&sm=tab_pge&query=%EC%BD%94%EC%8A%A4%ED%94%BC%20%EA%B2%BD%EC%A0%9C&sort=0&photo=0&field=0&pd=3&ds=2021.12.24&de=2021.12.24&cluster_rank=13&mynews=0&office_type=0&office_section_code=0&news_office_checked=&nso=so:r,p:from20211224to20211224,a:all&start=11\n",
      "https://search.naver.com/search.naver?where=news&sm=tab_pge&query=%EC%BD%94%EC%8A%A4%ED%94%BC%20%EA%B2%BD%EC%A0%9C&sort=0&photo=0&field=0&pd=3&ds=2021.12.24&de=2021.12.24&cluster_rank=23&mynews=0&office_type=0&office_section_code=0&news_office_checked=&nso=so:r,p:from20211224to20211224,a:all&start=21\n",
      "크롤링 준비\n"
     ]
    },
    {
     "name": "stderr",
     "output_type": "stream",
     "text": [
      "\n",
      "\n",
      "preprocessing day:  77%|██████████████████████████████████████████████████████████████████████████████████████████████████████▏                             | 24/31 [02:52<00:50,  7.20s/it]\u001b[A\u001b[A"
     ]
    },
    {
     "name": "stdout",
     "output_type": "stream",
     "text": [
      "다음날짜로 선택시작\n",
      "다음 날짜 선택 후 크롤링 준비\n",
      "https://search.naver.com/search.naver?where=news&query=%EC%BD%94%EC%8A%A4%ED%94%BC%20%EA%B2%BD%EC%A0%9C&sm=tab_opt&sort=0&photo=0&field=0&pd=3&ds=2021.12.25&de=2021.12.25&docid=&related=0&mynews=0&office_type=0&office_section_code=0&news_office_checked=&nso=so%3Ar%2Cp%3Afrom20211225to20211225&is_sug_officeid=0\n",
      "https://search.naver.com/search.naver?where=news&sm=tab_pge&query=%EC%BD%94%EC%8A%A4%ED%94%BC%20%EA%B2%BD%EC%A0%9C&sort=0&photo=0&field=0&pd=3&ds=2021.12.25&de=2021.12.25&cluster_rank=26&mynews=0&office_type=0&office_section_code=0&news_office_checked=&nso=so:r,p:from20211225to20211225,a:all&start=11\n",
      "https://search.naver.com/search.naver?where=news&sm=tab_pge&query=%EC%BD%94%EC%8A%A4%ED%94%BC%20%EA%B2%BD%EC%A0%9C&sort=0&photo=0&field=0&pd=3&ds=2021.12.25&de=2021.12.25&cluster_rank=41&mynews=0&office_type=0&office_section_code=0&news_office_checked=&nso=so:r,p:from20211225to20211225,a:all&start=21\n",
      "크롤링 준비\n"
     ]
    },
    {
     "name": "stderr",
     "output_type": "stream",
     "text": [
      "\n",
      "\n",
      "preprocessing day:  81%|██████████████████████████████████████████████████████████████████████████████████████████████████████████▍                         | 25/31 [02:59<00:43,  7.18s/it]\u001b[A\u001b[A"
     ]
    },
    {
     "name": "stdout",
     "output_type": "stream",
     "text": [
      "다음날짜로 선택시작\n",
      "다음 날짜 선택 후 크롤링 준비\n",
      "https://search.naver.com/search.naver?where=news&query=%EC%BD%94%EC%8A%A4%ED%94%BC%20%EA%B2%BD%EC%A0%9C&sm=tab_opt&sort=0&photo=0&field=0&pd=3&ds=2021.12.26&de=2021.12.26&docid=&related=0&mynews=0&office_type=0&office_section_code=0&news_office_checked=&nso=so%3Ar%2Cp%3Afrom20211226to20211226&is_sug_officeid=0\n",
      "https://search.naver.com/search.naver?where=news&sm=tab_pge&query=%EC%BD%94%EC%8A%A4%ED%94%BC%20%EA%B2%BD%EC%A0%9C&sort=0&photo=0&field=0&pd=3&ds=2021.12.26&de=2021.12.26&cluster_rank=21&mynews=0&office_type=0&office_section_code=0&news_office_checked=&nso=so:r,p:from20211226to20211226,a:all&start=11\n",
      "https://search.naver.com/search.naver?where=news&sm=tab_pge&query=%EC%BD%94%EC%8A%A4%ED%94%BC%20%EA%B2%BD%EC%A0%9C&sort=0&photo=0&field=0&pd=3&ds=2021.12.26&de=2021.12.26&cluster_rank=37&mynews=0&office_type=0&office_section_code=0&news_office_checked=&nso=so:r,p:from20211226to20211226,a:all&start=21\n",
      "크롤링 준비\n"
     ]
    },
    {
     "name": "stderr",
     "output_type": "stream",
     "text": [
      "\n",
      "\n",
      "preprocessing day:  84%|██████████████████████████████████████████████████████████████████████████████████████████████████████████████▋                     | 26/31 [03:07<00:36,  7.28s/it]\u001b[A\u001b[A"
     ]
    },
    {
     "name": "stdout",
     "output_type": "stream",
     "text": [
      "다음날짜로 선택시작\n",
      "다음 날짜 선택 후 크롤링 준비\n",
      "https://search.naver.com/search.naver?where=news&query=%EC%BD%94%EC%8A%A4%ED%94%BC%20%EA%B2%BD%EC%A0%9C&sm=tab_opt&sort=0&photo=0&field=0&pd=3&ds=2021.12.27&de=2021.12.27&docid=&related=0&mynews=0&office_type=0&office_section_code=0&news_office_checked=&nso=so%3Ar%2Cp%3Afrom20211227to20211227&is_sug_officeid=0\n",
      "https://search.naver.com/search.naver?where=news&sm=tab_pge&query=%EC%BD%94%EC%8A%A4%ED%94%BC%20%EA%B2%BD%EC%A0%9C&sort=0&photo=0&field=0&pd=3&ds=2021.12.27&de=2021.12.27&cluster_rank=12&mynews=0&office_type=0&office_section_code=0&news_office_checked=&nso=so:r,p:from20211227to20211227,a:all&start=11\n",
      "https://search.naver.com/search.naver?where=news&sm=tab_pge&query=%EC%BD%94%EC%8A%A4%ED%94%BC%20%EA%B2%BD%EC%A0%9C&sort=0&photo=0&field=0&pd=3&ds=2021.12.27&de=2021.12.27&cluster_rank=26&mynews=0&office_type=0&office_section_code=0&news_office_checked=&nso=so:r,p:from20211227to20211227,a:all&start=21\n",
      "크롤링 준비\n"
     ]
    },
    {
     "name": "stderr",
     "output_type": "stream",
     "text": [
      "\n",
      "\n",
      "preprocessing day:  87%|██████████████████████████████████████████████████████████████████████████████████████████████████████████████████▉                 | 27/31 [03:14<00:28,  7.22s/it]\u001b[A\u001b[A"
     ]
    },
    {
     "name": "stdout",
     "output_type": "stream",
     "text": [
      "다음날짜로 선택시작\n",
      "다음 날짜 선택 후 크롤링 준비\n",
      "https://search.naver.com/search.naver?where=news&query=%EC%BD%94%EC%8A%A4%ED%94%BC%20%EA%B2%BD%EC%A0%9C&sm=tab_opt&sort=0&photo=0&field=0&pd=3&ds=2021.12.28&de=2021.12.28&docid=&related=0&mynews=0&office_type=0&office_section_code=0&news_office_checked=&nso=so%3Ar%2Cp%3Afrom20211228to20211228&is_sug_officeid=0\n",
      "https://search.naver.com/search.naver?where=news&sm=tab_pge&query=%EC%BD%94%EC%8A%A4%ED%94%BC%20%EA%B2%BD%EC%A0%9C&sort=0&photo=0&field=0&pd=3&ds=2021.12.28&de=2021.12.28&cluster_rank=15&mynews=0&office_type=0&office_section_code=0&news_office_checked=&nso=so:r,p:from20211228to20211228,a:all&start=11\n",
      "https://search.naver.com/search.naver?where=news&sm=tab_pge&query=%EC%BD%94%EC%8A%A4%ED%94%BC%20%EA%B2%BD%EC%A0%9C&sort=0&photo=0&field=0&pd=3&ds=2021.12.28&de=2021.12.28&cluster_rank=26&mynews=0&office_type=0&office_section_code=0&news_office_checked=&nso=so:r,p:from20211228to20211228,a:all&start=21\n",
      "크롤링 준비\n"
     ]
    },
    {
     "name": "stderr",
     "output_type": "stream",
     "text": [
      "\n",
      "\n",
      "preprocessing day:  90%|███████████████████████████████████████████████████████████████████████████████████████████████████████████████████████▏            | 28/31 [03:21<00:21,  7.23s/it]\u001b[A\u001b[A"
     ]
    },
    {
     "name": "stdout",
     "output_type": "stream",
     "text": [
      "다음날짜로 선택시작\n",
      "다음 날짜 선택 후 크롤링 준비\n",
      "https://search.naver.com/search.naver?where=news&query=%EC%BD%94%EC%8A%A4%ED%94%BC%20%EA%B2%BD%EC%A0%9C&sm=tab_opt&sort=0&photo=0&field=0&pd=3&ds=2021.12.29&de=2021.12.29&docid=&related=0&mynews=0&office_type=0&office_section_code=0&news_office_checked=&nso=so%3Ar%2Cp%3Afrom20211229to20211229&is_sug_officeid=0\n",
      "https://search.naver.com/search.naver?where=news&sm=tab_pge&query=%EC%BD%94%EC%8A%A4%ED%94%BC%20%EA%B2%BD%EC%A0%9C&sort=0&photo=0&field=0&pd=3&ds=2021.12.29&de=2021.12.29&cluster_rank=11&mynews=0&office_type=0&office_section_code=0&news_office_checked=&nso=so:r,p:from20211229to20211229,a:all&start=11\n",
      "https://search.naver.com/search.naver?where=news&sm=tab_pge&query=%EC%BD%94%EC%8A%A4%ED%94%BC%20%EA%B2%BD%EC%A0%9C&sort=0&photo=0&field=0&pd=3&ds=2021.12.29&de=2021.12.29&cluster_rank=21&mynews=0&office_type=0&office_section_code=0&news_office_checked=&nso=so:r,p:from20211229to20211229,a:all&start=21\n",
      "크롤링 준비\n"
     ]
    },
    {
     "name": "stderr",
     "output_type": "stream",
     "text": [
      "\n",
      "\n",
      "preprocessing day:  94%|███████████████████████████████████████████████████████████████████████████████████████████████████████████████████████████▍        | 29/31 [03:28<00:14,  7.24s/it]\u001b[A\u001b[A"
     ]
    },
    {
     "name": "stdout",
     "output_type": "stream",
     "text": [
      "다음날짜로 선택시작\n",
      "다음 날짜 선택 후 크롤링 준비\n",
      "https://search.naver.com/search.naver?where=news&query=%EC%BD%94%EC%8A%A4%ED%94%BC%20%EA%B2%BD%EC%A0%9C&sm=tab_opt&sort=0&photo=0&field=0&pd=3&ds=2021.12.30&de=2021.12.30&docid=&related=0&mynews=0&office_type=0&office_section_code=0&news_office_checked=&nso=so%3Ar%2Cp%3Afrom20211230to20211230&is_sug_officeid=0\n",
      "https://search.naver.com/search.naver?where=news&sm=tab_pge&query=%EC%BD%94%EC%8A%A4%ED%94%BC%20%EA%B2%BD%EC%A0%9C&sort=0&photo=0&field=0&pd=3&ds=2021.12.30&de=2021.12.30&cluster_rank=18&mynews=0&office_type=0&office_section_code=0&news_office_checked=&nso=so:r,p:from20211230to20211230,a:all&start=11\n",
      "https://search.naver.com/search.naver?where=news&sm=tab_pge&query=%EC%BD%94%EC%8A%A4%ED%94%BC%20%EA%B2%BD%EC%A0%9C&sort=0&photo=0&field=0&pd=3&ds=2021.12.30&de=2021.12.30&cluster_rank=29&mynews=0&office_type=0&office_section_code=0&news_office_checked=&nso=so:r,p:from20211230to20211230,a:all&start=21\n",
      "크롤링 준비\n"
     ]
    },
    {
     "name": "stderr",
     "output_type": "stream",
     "text": [
      "\n",
      "\n",
      "preprocessing day:  97%|███████████████████████████████████████████████████████████████████████████████████████████████████████████████████████████████▋    | 30/31 [03:36<00:07,  7.28s/it]\u001b[A\u001b[A"
     ]
    },
    {
     "name": "stdout",
     "output_type": "stream",
     "text": [
      "다음날짜로 선택시작\n",
      "다음 날짜 선택 후 크롤링 준비\n",
      "https://search.naver.com/search.naver?where=news&query=%EC%BD%94%EC%8A%A4%ED%94%BC%20%EA%B2%BD%EC%A0%9C&sm=tab_opt&sort=0&photo=0&field=0&pd=3&ds=2021.12.31&de=2021.12.31&docid=&related=0&mynews=0&office_type=0&office_section_code=0&news_office_checked=&nso=so%3Ar%2Cp%3Afrom20211231to20211231&is_sug_officeid=0\n",
      "https://search.naver.com/search.naver?where=news&sm=tab_pge&query=%EC%BD%94%EC%8A%A4%ED%94%BC%20%EA%B2%BD%EC%A0%9C&sort=0&photo=0&field=0&pd=3&ds=2021.12.31&de=2021.12.31&cluster_rank=15&mynews=0&office_type=0&office_section_code=0&news_office_checked=&nso=so:r,p:from20211231to20211231,a:all&start=11\n",
      "https://search.naver.com/search.naver?where=news&sm=tab_pge&query=%EC%BD%94%EC%8A%A4%ED%94%BC%20%EA%B2%BD%EC%A0%9C&sort=0&photo=0&field=0&pd=3&ds=2021.12.31&de=2021.12.31&cluster_rank=25&mynews=0&office_type=0&office_section_code=0&news_office_checked=&nso=so:r,p:from20211231to20211231,a:all&start=21\n",
      "크롤링 준비\n"
     ]
    },
    {
     "name": "stderr",
     "output_type": "stream",
     "text": [
      "\n",
      "\n",
      "preprocessing day: 100%|████████████████████████████████████████████████████████████████████████████████████████████████████████████████████████████████████| 31/31 [03:43<00:00,  7.21s/it]\u001b[A\u001b[A\n",
      "\n",
      "preprocessing month: 100%|████████████████████████████████████████████████████████████| 12/12 [43:29<00:00, 217.42s/it]\u001b[A\n",
      "preprocessing year: 100%|██████████████████████████████████████████████████████████████| 1/1 [43:29<00:00, 2609.04s/it]"
     ]
    },
    {
     "name": "stdout",
     "output_type": "stream",
     "text": [
      "다음날짜로 선택시작\n"
     ]
    },
    {
     "name": "stderr",
     "output_type": "stream",
     "text": [
      "\n"
     ]
    }
   ],
   "source": [
    "#크롤링을 시작해볼까요~\n",
    "from selenium import webdriver\n",
    "from selenium.webdriver.common.keys import Keys\n",
    "\n",
    "driver = webdriver.Chrome(options=options)                 # 크롬 드라이버 객체 생성\n",
    "\n",
    "#코스피 경제로 검색\n",
    "driver.get('https://search.naver.com/search.naver?sm=tab_hty.top&where=news&query=%EC%BD%94%EC%8A%A4%ED%94%BC+%EA%B2%BD%EC%A0%9C&oquery=%EC%BD%94%EC%8A%A4%ED%94%BC+%EA%B2%BD%EC%A0%9C&tqi=iLNSydp0J1ZssAwye%2FNssssssWl-222265&nso=so%3Ar%2Cp%3Aall')\n",
    "\n",
    "print(\"- 접속한 웹 사이트의 제목:\", driver.title) # 접속한 URL의 제목 출력\n",
    "\n",
    "# 옵션 클릭.\n",
    "elem_option = driver.find_element(By.XPATH,'/html/body/div[3]/div[2]/div/div[1]/div[1]/div[1]/div/div[2]/a').click()\n",
    "# # 직접입력 클릭.\n",
    "time.sleep(3)\n",
    "elem_input = driver.find_element(By.XPATH,'/html/body/div[3]/div[2]/div/div[1]/div[1]/div[2]/ul/li[2]/div/div[1]/a[9]')\n",
    "driver.execute_script(\"arguments[0].click();\", elem_input)\n",
    "naver_news_link = []\n",
    "#for 문으로 원하는 범위 설정하기\n",
    "#너무 많이 하면 오래걸리고 중간에 네트워크가 불안정하면 끊길 수 있어요!\n",
    "for year in tqdm(range(2021,2022),desc='preprocessing year'):\n",
    "    for month in tqdm(range(1,13),desc='preprocessing month'):\n",
    "        for day in tqdm(range(1,32),desc='preprocessing day'):\n",
    "            try:\n",
    "                res = select_date_naver_news(year=year,month=month,day=day)\n",
    "            except Exception as e: #오류 발생시 일단 넘어가고 왜 오류인지 출력해주기\n",
    "                print(f\"An error occurred while crawling for {year}-{month}-{day}: {e}\")"
   ]
  },
  {
   "cell_type": "code",
   "execution_count": 61,
   "metadata": {
    "colab": {
     "base_uri": "https://localhost:8080/"
    },
    "id": "-0ITJLRtwgXK",
    "outputId": "4b2cb552-788a-474c-e35d-ab98ed0dfa87"
   },
   "outputs": [
    {
     "data": {
      "text/plain": [
       "[['증권사 리서치센터장들 “새해 증시, 코스피 평균 2075~2590”',\n",
       "  '[2023 증시 전망] 경기침체 본격화 ‘상저하고’…코스피 1940~2800',\n",
       "  \"고강도 긴축에 힘 못 쓴 코스피...올해도 '흐림'\",\n",
       "  '[2023 주식투자 가이드] 올해 증시 원톱 株인공은 ‘반도체’…코스피 예상 최...',\n",
       "  '코스피 2년 연속 하락 장은 없었다…美中에 기대 걸어볼까 [투자360]',\n",
       "  \"美 경제 침체 '주목'…中 각종 親시장 정책에 '희망'\",\n",
       "  '연말 3% 하락한 코스피 새해는? “경기침체·중국 코로나 확산으로 변동성 커...',\n",
       "  '[2023 증시전망] 새해부터 꽉 막힌 코스피…‘상저하고’ 전망 우세',\n",
       "  \"[마켓 2023] ② '상저하고' 기대되는 코스피...반도체가 반등 주도\",\n",
       "  '동력 잃은 코스피, ‘MSCI 편입‘으로 토끼의 해 3000 ’폴짝‘ 반등할까',\n",
       "  \"[마켓 2023] ② '상저하고' 기대되는 코스피...반도체가 반등 주도\",\n",
       "  '[2023 대전망] <1>\"굿모닝 2023\"...한국경제 \\'세계로 미래로\\' 힘찬 날개짓',\n",
       "  \"'반지'를 사면…개미의 上上은 현실이 된다\",\n",
       "  \"외국인, 한국·대만 주식 팔고 '이곳' 주식 샀다\",\n",
       "  '다시 만난 ‘자낳세’…“월급만으로 살 수 없단 생각엔 변함 없어”',\n",
       "  \"올해 최선의 재테크는 '빚 갚기'…현 금리선 이 상품 주목하라\",\n",
       "  \"바닥 찍은 증시, 변동성 파고 온다… 하반기 반등까진 '험로'\",\n",
       "  \"[증시 풍향계] 계묘년 '약세론' 우세 속 '1월 효과' 기대\",\n",
       "  '\"올 서울 집값 최대 5% 더 하락… ‘대출규제 완화’ 가장 시급\" [2023 신년기...',\n",
       "  \"[주간증시전망]'1월 효과' 나타날까…美 고용지표 주목\",\n",
       "  '코스피, 새해 첫 거래일에도 하락...지난해 부진 극복할까?',\n",
       "  \"코스피 올해 2062~2634 전망…'삼천피'는 여전히 깜깜\",\n",
       "  '코스피는 2년 연속 떨어진 적 없다…그러니 올해 오른다?',\n",
       "  '코스피, 2년 연속 하락場 없었다',\n",
       "  '[마감시황]코스피, 기관 매물 출회로 하락마감',\n",
       "  \"[뉴스외전 경제 '쏙'] 올해 주식은 '상저하고'?\",\n",
       "  '‘전강후약’ 코스피, 0.48% 하락한 2225.67 마감',\n",
       "  '계묘년 첫 거래일 코스피 상승…손병두 \"코리아 디스카운트 해소 전념\"',\n",
       "  '“코스피 26개 업종, 20% 하락… 경기 침체 우려 선반영”',\n",
       "  '[ET] 중국 ‘요우커’가 다시 온다…“코스피 상단 2850” 이유는?',\n",
       "  '[포토타임] 尹 대통령 2023 경제계 신년인사회 참석',\n",
       "  '‘전강후약’ 코스피, 0.48% 하락한 2225.67 마감',\n",
       "  '계묘년 첫 거래일 코스피 상승…손병두 \"코리아 디스카운트 해소 전념\"',\n",
       "  '“코스피 26개 업종, 20% 하락… 경기 침체 우려 선반영”',\n",
       "  '[ET] 중국 ‘요우커’가 다시 온다…“코스피 상단 2850” 이유는?',\n",
       "  '[종합] 새해 첫 개장일, 코스피 2248.60 상승세 출발…개인·기관 쌍끌이',\n",
       "  '[한방에 정리! 알쏭달쏭 경제용어19] 얼어붙은 주식시장…어떤 펀드에 투자해...',\n",
       "  '[새해경제 시나리오②] 박스권 코스피 상반기가 고비, 삼성전자 SK하이닉스 L...',\n",
       "  '[굿모닝 증시]연초 코스피 불확실성 확대…기업실적·금리인상 경계',\n",
       "  '코스피, 새해 첫 거래일 2249.95로 거래 시작…상승 출발',\n",
       "  \"코스피, 기관 '팔자'에 4거래일 연속 하락…2210대 마감\",\n",
       "  '[굿모닝증시]유럽증시 강세… 코스피 상승 출발 후 등락 전망',\n",
       "  '코스피 2개월여만에 장중 2200선 붕괴',\n",
       "  \"[뉴스외전 경제 '쏙'] '빚투자 털기'‥예외는 없다?\",\n",
       "  '코스피, 낙폭 줄여 0.3% 하락…2218.68 마감',\n",
       "  '[마감시황] 코스피, 기관 순매도세에 2200선 마감',\n",
       "  '코스피 장중 하락폭 줄여 2200선 지켜, 코스닥은 4거래일 만에 반등',\n",
       "  '코스피, 초반 급락 회복하며 약보합…2210선 마감',\n",
       "  '코스피 장중 2200 붕괴… 벽두부터 ‘변동성 장세’ 이어지나',\n",
       "  \"'100분 토론', 2023 대한민국 경제 대전망\",\n",
       "  '코스피, 2230.98로 거래 시작…상승 출발',\n",
       "  '코스피 장중 하락폭 줄여 2200선 지켜, 코스닥은 4거래일 만에 반등',\n",
       "  '[오늘의 주목주] 코스피 중국 기대 삼성전기 오르고, 코스닥 알테오젠 내려',\n",
       "  '장 중 2200선 내준 코스피...기댈 곳 없는 국내 수급',\n",
       "  \"[개장시황] 코스피, 장초반 혼조세…외인 '매도세' 개인 '매수세'\",\n",
       "  '\"코스피, 이달 상단 2,400선서 제약받을 것\"<키움證>',\n",
       "  '[황병극의 파인앤썰] 경제한파는 예고편…올해 빙하기 온다',\n",
       "  '코스피, 초반 급락 회복하며 약보합…2210선 마감',\n",
       "  '[시황] 코스피, 2%대 급락하며 장중 2200선 붕괴',\n",
       "  '[시황] 코스피, 기관·외인 매도에 하락...2200선 위협',\n",
       "  '컬리, 코스피 상장 취소…\"향후 재추진\"',\n",
       "  '한 때 몸값 4조였는데...코스피 상장 연기한 컬리, 무슨 일이?',\n",
       "  'IPO 한파에 결국…마켓컬리, 코스피 상장 미룬다',\n",
       "  '컬리, 결국 코스피 상장 철회..\"투자심리위축 탓, 다시 추진할 것\"',\n",
       "  '\\'테슬라 쇼크\\'에도 날아오른 코스피…\"반등 올라타기엔 아직\"',\n",
       "  '테슬라·애플 휘청…2200선 위협받는 코스피 [증시 개장 전 꼭 알아야 할 5가...',\n",
       "  '‘1월 효과’ 위에 R공포…코스피 장중 2200 붕괴',\n",
       "  '[뉴있저] 경기 침체에 인플레 지속...새해 경제 전망은?',\n",
       "  \"코스피, 반도체 투톱 '쌍끌이'…1.68% 오른 2,250대 마감\",\n",
       "  \"'삼중고' 코스피 바닥 머지 않았다…주식 비중확대는 '아직'\",\n",
       "  '코스피, 2205.98로 거래 시작…하락 출발',\n",
       "  \"[경제읽기] 애플·테슬라 급락에 뉴욕증시 '출렁'…코스피 여파는?\",\n",
       "  '[뉴스외전 경제 \\'쏙\\'] 규제 전면적 완화‥\"부동산 규제 카드, 너무 빨리 포기...',\n",
       "  '[전문가 스팟 진단] ‘코스피 2200선 위협’…저점과 디테일 투자전략은?',\n",
       "  \"코스피, 외인 '사자세' 힘입어 반등…2255선 마감\",\n",
       "  '코스피, 장중 2%대 급락세 이후 낙폭 축소 마감…코스닥 상승',\n",
       "  '[시황] 코스피, 12.70p(0.57%) 내린 2205.98 출발',\n",
       "  '[신년특집]2023 코스피 전망',\n",
       "  \"['퇴근길' 한눈에 훑는 뉴스] 코스피, 급반등으로 2250대 회복...환율 소폭 상...\",\n",
       "  '[주목! 오늘의 국내증시] 경기침체 우려 충분히 반영, 코스피 2220선 이하는 ...',\n",
       "  '코스피, 외인 대량 매수에 소폭 상승…2,260대 마감(종합)',\n",
       "  '환율은 떨어지는데 코스피는 왜 안 오를까',\n",
       "  '민주 “尹정부 경제라인 경질해야”...경제·안보 투트랙 강공',\n",
       "  '野 \"尹 경제팀, MB시대 유물 답습…전원 경질해야\"',\n",
       "  '[마감시황] 코스피, 외인 매수에 2260선 회복…금융주 급등',\n",
       "  '마켓컬리 코스피 상장 연기…\"최적 시점에 재추진\"',\n",
       "  '박종학 대표 \"올해 코스피 3000 어려워…고금리 대응 가치株 주목\"',\n",
       "  '컬리 코스피 상장 취소…주식시장 한파에 유통업계도 휘청',\n",
       "  '[종합] 코스피, 외국인 순매수에 상승 출발',\n",
       "  '유안타證 \"코스피 밸류 부담 완화…증시 부진 반전 기대\"',\n",
       "  '코스피, 외인 매수에 지켜낸 2,260선…美 훈풍 영향',\n",
       "  '코스피, 장 초반 강세…2270선 두드려',\n",
       "  '민주 \"尹정부 경제팀 경질해야…사후약방문, 모든 경제지표 추락\"',\n",
       "  \"'돌아온 외인'...코스피 2264선 상승\",\n",
       "  '[사설] 경제 활력·기업 성장 없이 코스피 3000 회복 어렵다',\n",
       "  '[뉴스외전 경제 \\'쏙\\'] \"금리 인하 언급한 FOMC 위원은 한명도 없었다\"',\n",
       "  '[속보] [시황] 코스피, 12.22p(0.54%) 오른 2268.20 출발',\n",
       "  '코스피, 2280선 찍고 2260선서 마감… 외인 매수에도 강보합',\n",
       "  '코스피, 2200선 붕괴…증안펀드 등판할까',\n",
       "  '[개장시황] 코스피 소폭 상승 출발…장 초반 2270선 강보합세',\n",
       "  '관제펀드 ‘뉴딜’ 2년, 코스피보다 더 떨어져',\n",
       "  '[뉴있저] 시민이 묻고 전문가가 답하는 올해 경제 전망은?',\n",
       "  '코스피, 원화 강세 속 2289선 상승',\n",
       "  '코스피, 외인·기관 쌍끌이 매수에 1% 상승 마감',\n",
       "  '\"꺾이고, 또 꺾이고\"…암울한 어닝시즌, 코스피 대응전략은',\n",
       "  '코스피, 2253.40으로 거래 시작…하락 출발',\n",
       "  '[시황] 코스피, 단기매매 정리 물량에 밀려 약세',\n",
       "  '코스피, 외인·기관 순매수 속 상승세…2,270선 안착 시도',\n",
       "  '박종학 베어링운용 대표 \"상반기 외국인 자금 순유입...코스피 3000은 어려워...',\n",
       "  \"'공매도 접고 은행 영업시간' 꺼낸 김주현 금융위원장 [사자경제]\",\n",
       "  \"'공매도 접고 은행 영업시간' 꺼낸 김주현 금융위원장 [사자경제]\",\n",
       "  '드물지 않은 장기 박스권 장세',\n",
       "  \"'4조→1조' 기업가치 추락에 멈춘 컬리, 상장 열차 재출발은\",\n",
       "  '최악 성적표에 감산 기대감 커져…주가 되레 뛴 삼전',\n",
       "  '금융시장-연착륙 가능성 속 경기둔화 우려 커져[특별기고]',\n",
       "  '증시전망-글로벌 경기 따라 ‘느린 회복’ 가능성[특별기고]',\n",
       "  '[3분증시] 뉴욕증시, 민간 고용 호조에 하락…다우 1.02%↓',\n",
       "  '‘NO 한국’ 불매운동 된서리…中 리오프닝株 ‘고진감래’ [차이나리스크]',\n",
       "  '[돈가뭄 2023-⑤] 증시 침체 심화로 개미들 ‘비명’ 곡소리',\n",
       "  '방산주 급락에도 이유있는 ‘매수’의견',\n",
       "  '시민이 묻고 전문가가 답하는 올해 경제 전망은?',\n",
       "  '[주간증시전망] “코스피상단 2350 전망…4분기 실적발표 주목”',\n",
       "  \"[한證막] 코스피, 대기업 반도체 세액공제 확대 소식에 '활짝'\",\n",
       "  '대기업도 \\'해고바람\\'.... \"2023년 무슨 사업 접을까?\"',\n",
       "  '지난해는 네옴시티, 올해는 UAE 1경원?…다시 들썩이는 중동 개발株',\n",
       "  '\"컬리도 변했다\"…상장 행보에 등 돌린 충성고객',\n",
       "  '[이주의 유통人] \"韓이커머스 상장 1호 향한다\" 안준형 오아시스 대표',\n",
       "  '“올해 주식투자 ‘이 때’ 놓치면 땅치고 후회…증시 바닥 잡아라” [신화의...',\n",
       "  '[다음주 증시 전망] 4분기 실적시즌 개막…개별 종목장세 전망',\n",
       "  '시장은 공포에 떠는데 ‘공포지수(VIX)’는 왜 덤덤할까? [투자뉴스 뒤풀이]',\n",
       "  '반등 안 보이는 코스피, 매물 출회·4분기 실적 부담 [주간전망]',\n",
       "  '[주간증시전망] 삼성전자 어닝쇼크에도 外人 매수에 상승한 코스피...4분기 실...',\n",
       "  \"코스피 하루 거래대금, 3년 만에 최저···산업 부진 전망에 투심 '꽁꽁'\",\n",
       "  '한국경제 빨간불?…KDI \"수출·제조업 부진으로 경기 둔화 가시화\"',\n",
       "  '[증시 전망] 한국거래소·금융투자업계, 코스피 상승...미국 뉴욕증시, 다우존...',\n",
       "  '\\'따따상\\' 대박 꿈 꾸시나요?…\"이젠 추억된다는데\" [코주부]',\n",
       "  '침체우려에 짓눌린 증시',\n",
       "  '‘버는 투자’보다 ‘지키는 투자’가 중요한 때',\n",
       "  '[이주의 주식시장] 중국발 코로나 여파 관련주 강세...두바이 10년간 1경 투자...',\n",
       "  '레고랜드 나비효과…‘금융위 입’ 6개월 공석 속사정[최훈길의뒷담화]',\n",
       "  '[주간증시전망]4분기 실적 주목…\"차별화 장세 예상\"',\n",
       "  \"실적 발표 시즌인데…줄줄이 '어닝쇼크' 우려 확산\",\n",
       "  '[주간증시전망]막 오른 어닝시즌…\"박스권 개별株 대응\"',\n",
       "  '‘버는 투자’보다 ‘지키는 투자’가 중요한 때',\n",
       "  '[이주의 주식시장] 중국발 코로나 여파 관련주 강세...두바이 10년간 1경 투자...',\n",
       "  '레고랜드 나비효과…‘금융위 입’ 6개월 공석 속사정[최훈길의뒷담화]',\n",
       "  \"새해 지수 상승률 '톱'…훈풍 기대감 키우는 은행주\",\n",
       "  '尹 \"수출로 위기 돌파\" 예고했지만···정작 수출이 위기 딜레마',\n",
       "  '[이번주 증시] 주 초반 긍정적 흐름 예상...2300선 회복 여부 주목',\n",
       "  '[주간증시전망] 실적시즌 개막 \\'종목별 차별화\\' …\"한은 금리인상 등 주목\"',\n",
       "  \"코스피, 2350선 마감…외인·기관 '사자'에 대형주 급등\",\n",
       "  '실적악화 先반영, 美경제 연착륙 기대감…코스피 단숨에 2350선 회복',\n",
       "  \"[강원경제 이슈체크] '지붕 뚫고 금리킥' 가계 대출 줄이고 예금 늘렸다\",\n",
       "  '다시 논란이 된 공매도...한투연 \"작년 10월 금지했다면 코스피 3천 갔을 것\"',\n",
       "  '\"코스피 봄 의외로 빨리 올것\" \\'상고하저\\' 소수의견 재조명',\n",
       "  '새해에도 ‘잿빛’ 경제 전망 外 [한강로 경제브리핑]',\n",
       "  '외국인 1조8000억 ‘폭풍 순매수’ 코스피 연초 5% 급등',\n",
       "  '미증시 랠리+中 국경개방, 아증시 일제 상승…코스피 2.28%↑',\n",
       "  '“상반기 마이너스 경제성장 가능성, 하반기엔 회복 신호 포착될 것”',\n",
       "  '1월 코스피 \\'안갯속\\'…\"R공포ㆍ어닝쇼크 줄줄이, 호재가 없다\"',\n",
       "  '“상반기 마이너스 경제성장 가능성, 하반기엔 회복 신호 포착될 것”',\n",
       "  '\"이번주 코스피 2230~2350P…美소비자물가·금통위 주목\"',\n",
       "  '1월 코스피 \\'안갯속\\'…\"R공포ㆍ어닝쇼크 줄줄이, 호재가 없다\"',\n",
       "  '코스피, 2315.87로 거래 시작…상승 출발',\n",
       "  '코스피 포함 아시아 증시 일제히 상승, 환율 1240원대로 하락',\n",
       "  '[장중시황] \"물가 잡힌다\" 코스피, 2% 오르며 2330선 강하게 돌파',\n",
       "  '[시황] 코스피, 외인·기관 쌍끌이 매수에 새해 첫 2300선 돌파',\n",
       "  '[굿모닝경제] 기준금리 0.25%p 인상 유력...美 소비자물가지수 주목',\n",
       "  \"[개장시황] '인플레 완화 기대감' 코스피 2300선 강하게 돌파…성장주 강세\",\n",
       "  \"[마감시황] 코스피, 외인·기관 쌍끌이에 2.6% 급등…삼성전자 '6만전자' 회복\",\n",
       "  '中 경제 회복으로 코스피 훈풍…실적 악화 선반영돼 [이종우 증시 맥짚기]',\n",
       "  '은행 희망퇴직 러시… 미국발 훈풍에 코스피 ↑ 환율 ↓ [한강로 경제브리핑]',\n",
       "  '코스피, 장 초반 보합권서 거래…LG엔솔·LG화학 3%대 강세',\n",
       "  '파월 단속에도…코스피, 단기 상승 기대되는 이유',\n",
       "  '[마감시황] 코스피, 외국인·기관 순매수세에 2거래일 연속 2350선 마감',\n",
       "  '원·달러 환율 1100원+외국자금 10조+코스피 3000, 연내 `한국판 골디락스 장...',\n",
       "  '코스피 2,350선 강보합 마감…환율 장중 1230원대 진입',\n",
       "  '[굿모닝증시]美 파월 연설 경계 … 코스피 하락 출발 예상',\n",
       "  '[오후 시황] 코스피·코스닥 하락 전환…中 단기비자 발급 중단 영향',\n",
       "  \"코스피, 개인 '팔자'에 하락 전환...2340선\",\n",
       "  '코스피, 기관·외인 순매수에 2,350대 보합 마감',\n",
       "  '[굿모닝증시]美 파월 연설 경계 … 코스피 하락 출발 예상',\n",
       "  '[오후 시황] 코스피·코스닥 하락 전환…中 단기비자 발급 중단 영향',\n",
       "  \"코스피, 개인 '팔자'에 하락 전환...2340선\",\n",
       "  \"[뉴스외전 경제 '쏙'] 연준이 바뀌었나‥시장의 혼자 생각이었나?\",\n",
       "  '코스피, 5거래일 연속 상승…2351.31 마감',\n",
       "  '[개장시황] 하락출발한 코스피, 이내 상승전환',\n",
       "  '[10대 경제 희망키워드⑧퀀텀점프]코리아디스카운트 해소…주주환원·지배구조...',\n",
       "  '[시황] 코스피, 2.15포인트(-0.09%) 내린 2348.04 출발',\n",
       "  \"LG에너지솔루션 · 삼성SDI '상승 출발'...코스피 '장초반 보합권'\",\n",
       "  '외국인·기관 순매수세에 코스피·코스닥 상승마감',\n",
       "  '작년 코스피 25% 떨어질 때…가치주 펀드 빛났다',\n",
       "  \"코스피, 산타는 안 왔지만 까치는 온다?…'1월 효과' 기대감↑\",\n",
       "  '[개장시황] 파월 원칙론에도 ‘꿋꿋’…코스피 상승출발',\n",
       "  \"코스피 돌아온 외국인…'반·금·플' 담았다\",\n",
       "  '\"올해 코스피 타겟 2610 상저하고 …반도체·기계·친환경 주목\"',\n",
       "  \"韓 주식 팔고 채권 담는 외국인…증권시장, 6년 만에 '순유출' [한강로 경제브...\",\n",
       "  '[마감시황] 코스피, 美 인플레 둔화 기대감에 외국인·기관 순매수세로 강보합...',\n",
       "  '코스피보다 나은 코스닥?… 2%대 육박 강세 보이며 700선 회복',\n",
       "  \"코스피, 막판 힘냈다...SK이노베이션 · 한화솔루션 · 효성첨단소재 '껑충'\",\n",
       "  '[개장시황] 상승 출발한 코스피…美 증시 개별 종목 강세 영향',\n",
       "  \"코스피, 막판 힘냈다...SK이노베이션 · 한화솔루션 · 효성첨단소재 '껑충'\",\n",
       "  '코스피, 0.78% 상승 출발…CPI 기대·연준 매파 발언 소화',\n",
       "  '[개장시황] 코스피, 12.74포인트(0.54%) 오른 2364.05 출발',\n",
       "  \"코스피 · 코스닥 '상승 출발'...삼성전자 · SK하이닉스 '장초반 강세'\",\n",
       "  '킹달러 꺾였나…환율 1200원 아래로 내려갈 가능성은?',\n",
       "  \"뜻밖의 '1월 효과'…외인, 1.8조원 쓸어담았다\",\n",
       "  '“대통령 순방만 하면 대형 수주?”...기대감 커지는 방산株',\n",
       "  '[마켓ING]외국인 매수세는 언제까지 지속될까',\n",
       "  \"전기 팔면 팔수록 손해였는데…'눈덩이 적자' 한전의 반격 [안재광의 대기만성...\",\n",
       "  '[전문]이재명 \"30조 긴급 민생계획…국가 비상경제회의 제안\"',\n",
       "  '코스피, 대형주에 밀린 중소형주…1월 효과 승자는',\n",
       "  '[어제장 오늘장] \"오를 것\" vs \"빠질 수도\"…확신과 경계로 분리된 코스피',\n",
       "  \"[오전 시황] 외인·개인 '사자'에 코스피 강세…2360선\",\n",
       "  '손병두 거래소 이사장 \"코스피 왕따는 주주홀대 탓…올해는 바꿉니다\"',\n",
       "  \"코스피, 인플레 완화 기대감에 이레 연속 '방긋'…2360선 마감\",\n",
       "  '코스피, 2376.72로 거래 시작…상승 출발',\n",
       "  \"[마감시황] 코스피 2360선 마감…외국인 '순매수' 기관 '순매도'\",\n",
       "  '코스피, 미국 물가 발표 앞두고 2370선 급등 출발 후 조정',\n",
       "  '코스피, 인플레 완화 기대감 속 2360선 강보합',\n",
       "  \"[마감시황] 코스피 2360선 마감…외국인 '순매수' 기관 '순매도'\",\n",
       "  '코스피, 미국 물가 발표 앞두고 2370선 급등 출발 후 조정',\n",
       "  '코스피, 인플레 완화 기대감 속 2360선 강보합',\n",
       "  '[개장시황] 코스피, 뉴욕증시 상승 마감에 소폭 상승 출발',\n",
       "  '[오늘의 투자전략] “코스피, 0.7% 내외 상승 출발 후 ‘전기차·신재생’ 견...',\n",
       "  '코스피, 강세 출발 후 상승폭 축소… 코스닥은 하락반전',\n",
       "  \"코스피, 외인 '사자세' 힘입어 일주일 연속 상승…2365선 마감\",\n",
       "  '[시황] 코스피, 17.19p(0.73%) 오른 2376.72 출발',\n",
       "  \"코스피 · 코스닥 '상승 출발'...시총 상위주 '장초반 강세'\",\n",
       "  '추경호 \"외인투자자 등록의무 폐지…외환시장 새벽 2시 연장\"(종합)',\n",
       "  '인플레이션 둔화 신호탄?…꺾인 美 CPI, 코스피 영향은',\n",
       "  '[마켓ING]금리인상 마무리? 코스피 8일 연속 상승',\n",
       "  '기준금리 0.25%p 인상할 듯…코스피 상승세 이어갈까 [증시 개장 전 꼭 알아야...',\n",
       "  '美 물가둔화에 코스피 상승출발...2400선 탈환 시도',\n",
       "  '[오전 시황] 코스피 2400선 돌파 시도…美물가상승세 둔화에 투자 심리 개선',\n",
       "  '코스피, 美 CPI 둔화에 상승 출발…2380선',\n",
       "  '슬슬 오르는 코스피, 이젠 저가매수 할 때? \"아직 아니다\" (feat. 강영현) [경...',\n",
       "  '코스피, 8거래일째 상승…0.89% 오른 2,386.09 마감',\n",
       "  '[마감시황]코스피, CPI 효과에 1% 가까이 오르며 상승마감',\n",
       "  '코스피, 美 물가 우려 완화에 0.9% 상승 마감…주간 4.20%↑',\n",
       "  '코스피, 2377.34로 거래 시작…상승 출발',\n",
       "  '코스피, 美물가둔화 호재에 2386선 상승 마감',\n",
       "  '[개장시황] 코스피, 美 CPI 둔화에 오름세',\n",
       "  \"[개장시황] 미국 CPI 상승률 소식에 코스피 상승…기관·외국인 '사자'\",\n",
       "  '다음주 코스피 2300~2420 전망, 물가하락과 금리인상 불확실성 엇갈려',\n",
       "  '[美 CPI 하락] 시장은 경제 연착륙 기대 vs. 연준은 그래도 금리인상…이제부...',\n",
       "  \"[여의도Q] 일개 사모펀드가 일깨운 불합리한 경제구조 '은행 중심'\",\n",
       "  \"코스피 '상승 출발'...삼성전자 · LG화학 · 현대차 '장초반 강세'\",\n",
       "  '[주간증시] 상승세 꺾인 美 CPI…코스피 2,400선 코앞',\n",
       "  '한국은행, 7번 연속 금리 인상...\"올해 성장률 1.7% 밑돌 듯\"',\n",
       "  '[다음주 증시 전망] 美 FOMC 앞두고 다시 눈치보기…코스피 2300~2420 사이 횡...',\n",
       "  '[토끼랠리 진짜 오나②]원화 가치 상승 본격화되나',\n",
       "  '\"尹대통령이 간다\" 기대감 폭발…5일 만에 20% 뛴 종목',\n",
       "  \"새해들어 환율·주식 시장 훈풍…'반짝 상승' 신중론도\",\n",
       "  '증권가, 금리 인상 사이클 종료 무게… \"이젠 부작용 걱정할 때\"',\n",
       "  '‘금리보다 물가’…7연속 기준금리 인상에 영끌족 ‘비명’',\n",
       "  '배당·정책 기대감 키운 은행株...금융펀드 수익률 ‘훨훨’',\n",
       "  '[종목현미경] 호텔신라, 올해만 6곳 증권사가 목표가 상향…\"실적 개선 기대\"',\n",
       "  '[주간증시전망] CPI 환호속 우려… 경기둔화·FOMC 경계감에 박스피 전망',\n",
       "  \"요즘 직장인 관심사 뭐길래…'이 주식'에 돈뭉치 쏟아졌다 [윤현주의 主食이 ...\",\n",
       "  '[뉴스분석] 고물가에 한·미 금리 차 여전, 긴축 페달 언제 뗄지 고심',\n",
       "  '[종목현미경] 호텔신라, 올해만 6곳 증권사가 목표가 상향…\"실적 개선 기대\"',\n",
       "  '[주간증시전망] CPI 환호속 우려… 경기둔화·FOMC 경계감에 박스피 전망',\n",
       "  '코스피 상장사, 자사주 취득·처분 공시 19% 증가',\n",
       "  '외국인, 올들어 코스피 2조8천억원 순매수…개인은 하락에 베팅',\n",
       "  '[이번주 증시] 실적 발표 앞둔 코스피, 개별 테마·종목 장세 전망',\n",
       "  '외인은 사고 개인은 팔고…상승장 초입? 단기상승? 코스피 어디로 갈까 [선데...',\n",
       "  '“이번주 코스피 2300~2420”…물가하락 vs FOMC 힘겨루기 전망 [투자360]',\n",
       "  \"코스피, 8일 연속 '우상향'했지만…무엇이 지수 상승 '발목' 잡을까\",\n",
       "  '[주간증시전망] 코스피 2300~2420선…미국 물가·4분기 실적 주목',\n",
       "  '[인터뷰] \"거시경제 변곡점은 1Q 말\"...이경수 메리츠증권 리서치센터장',\n",
       "  '[주간 증시 전망] 한국거래소, 지난주 코스피 상승...미국 임금상승률 둔화 소...',\n",
       "  '[주간증시전망]물가 안도·FOMC 경계 혼재…박스권 예상',\n",
       "  '홍콩증시, 새해 수익률 1등…\"아직도 싸다, 조정 시 매수\"',\n",
       "  '[주간증시전망]방향성 없는 종목장세 이어질 듯',\n",
       "  '돌아온 외인…올 들어 2조8839억 매수',\n",
       "  '15년째 문턱 못넘은 선진 지수… 정부 더 적극적으로 나서야 [김기석의 자본시...',\n",
       "  '\\'테슬라\\' 쪽박인데 또 매입…\"미·중 말고 여기 사세요\" [코주부]',\n",
       "  '[주간증시전망] 4분기 실적 시즌... 안도랠리 끝나고 ‘어닝쇼크’ 우려',\n",
       "  '언젠가부터 컬리가 컬리 같지 않다',\n",
       "  \"금리인상 멈추면 '전·반·차' 달린다…회복장 견인 기대\",\n",
       "  '“야근왕 자본시장감독국”…긴장하는 증권사[최훈길의뒷담화]',\n",
       "  '中 경기회복 기대감에 한미증시 위험도 하락 [붐앤쇼크]',\n",
       "  '\"코스피 2,500선 상승 어렵다…리스크 관리 집중해야\"',\n",
       "  '코스피 9일 연속 상승…2400선 턱밑서 마감',\n",
       "  '기업 실적 악화 예고에도… 코스피 반짝 상승곡선 왜?',\n",
       "  '코스피 한 달만에 장중 2400 넘어서',\n",
       "  '한달만에 2400 찍은 코스피 … \"추가 상승 1분기 실적에 달렸다\"',\n",
       "  '코스피, 연초 9일째 거침없는 랠리…\"실적·경기가 변수\"(종합)',\n",
       "  \"코스피 2400 돌파 시도 vs '불편한 진실' 마주친다 [증시 개장 전 꼭 알아야 ...\",\n",
       "  '코스피, 2년 5개월 만에 9거래일 연속 상승',\n",
       "  '코스피 9거래일 상승에 2400 육박...환율은 9개월래 최저',\n",
       "  '\"코스피 이번주 2330~2430P…숨고르기 장세 돌입\"',\n",
       "  '작년 꼴찌 코스피 ‘새해 반전 드라마’',\n",
       "  '돌아온 개인…코스피, 상승 출발하며 2390 회복',\n",
       "  '유럽 겨울 녹인 때 이른 봄바람…한국 경제에도 훈풍 됐다',\n",
       "  '[굿모닝증시]美 증시 강세에 코스피 상승 출발 전망',\n",
       "  '증권가 \"금리 인상 종료 유력\"…코스피 향방은',\n",
       "  '순풍에 돛단 코스피…\"바닥 확인하고 우상향 흐름\"',\n",
       "  '코스피, 호재 업고 9일째 상승세',\n",
       "  '코스피, 저가매수세 유입 힘입어 2400선 돌파 눈앞',\n",
       "  \"[마감시황] 코스피, 외국인·기관 동반 매수세에 상승… 개인 홀로 '팔자'\",\n",
       "  '코스피, 개인 매수 힘입어 2390선 회복… 코스닥도 상승',\n",
       "  '코스피, 10거래일 연속 상승 실패..기관 매도세 [fn마감시황]',\n",
       "  '폭풍매수 외국인…코스피 10곳 중 7곳 지분율 끌어올려',\n",
       "  \"2400 넘기 어렵네…코스피 랠리 '일단 멈춤'\",\n",
       "  '\"코스피, 상반기 2600선 회복…반락보다 추가 반등 무게\"',\n",
       "  '코스피 차익실현 매물에 박스권 장세 전망 [증시 개장 전 꼭 알아야 할 5가지...',\n",
       "  '장중 2400선 넘어선 코스피… 훈풍 이어질까 [한강로 경제브리핑]',\n",
       "  '코스피, 2300선으로 후퇴하며 숨 고르기… 외인·기관 ‘팔자’',\n",
       "  '외국인 투자자, 정말 주식 ‘초고수’일까?[서영빈의 데이터경제]',\n",
       "  '코스피 상승 출발…쌍방울, 김성태 전 회장 입국에 강세 [개장시황]',\n",
       "  '10거래일만에 하락한 코스피···2379.39 마감',\n",
       "  '코스피, 기관 매도세에 0.85% 내린 2379.39 마감',\n",
       "  '2400 턱 못 넘은 코스피...\"차익 실현 물량에 박스권\" [fn오전시황]',\n",
       "  '코스피 상승 출발…쌍방울, 김성태 전 회장 입국에 강세 [개장시황]',\n",
       "  '차익매물 출회에 코스피 2400선 문턱서 숨고르기',\n",
       "  '10거래일만에 하락한 코스피···2379.39 마감',\n",
       "  '[장중시황] 코스피, 기관·외인 매도세에 0.86% 하락 2379선',\n",
       "  '코스피, 소폭 하락 출발…원/달러 환율은 강보합권(종합)',\n",
       "  \"10거래일 만에 숨고르기…기관 '팔자'에 코스피 하락\",\n",
       "  \"[개장시황] 코스피, 0.07% 하락 2398선…외인·기관 '팔자'\",\n",
       "  \"코스피, 외인 '팔자' 전환에도…2400선 회복\",\n",
       "  \"[마감시황]'숨고르기' 코스피, 이틀 연속 약보합…2360선 후퇴\",\n",
       "  '기관 순매도에 코스피 하락 마감…삼전·SK하이닉스에 집중 포화',\n",
       "  '코스피 쓸어담은 외국인…무엇 담았나 봤더니',\n",
       "  '[장중시황] 코스피, 오후에도 하락세…기관·외인 순매도에 2363선',\n",
       "  \"[마감 시황] 기관 '팔자'에 코스피 2360선 후퇴\",\n",
       "  '[마감시황] 코스피, 0.5% 하락…기관 매도에 2360선 털썩',\n",
       "  '코스피 바닥 찍었나…증권가 시선은 하반기로',\n",
       "  '코스피, 외인·기관 매도세에 약보합…2360선 마감',\n",
       "  '글로벌 경제 악화에 상장 포기했지만… 非식품 강화하고 물류 투자 나선 ‘컬...',\n",
       "  '코스피, 2380.36으로 거래 시작…상승 출발',\n",
       "  '코스피, 2380.36으로 거래 시작…상승 출발',\n",
       "  '숨고르기 들어간 코스피, 상승세 지속될까',\n",
       "  '코스피 0.65% 하락 출발…日 경제지표 타격·BOJ 대기',\n",
       "  '코스피, 금융주 실적 부진에 이틀연속 하락',\n",
       "  \"[개장시황] 코스피, 상승 출발 뒤 하락…외인·기관 '팔자'에 약세\",\n",
       "  \"코스피, 기관·외인 매도에 2,360선 후퇴...삼성전자 '6만 전자' 버티기\",\n",
       "  '\"코스피, 중장기 관점서 매력적…단기적 조정 가능성 있어\"<현대차證>',\n",
       "  '[시황] 코스피, 0.97포인트(0.04%) 오른 2308.36 출발',\n",
       "  '\"코스피, 상반기 중 2,600선 반등할 것…반락 가능성은 작아\"<유진투자證>',\n",
       "  \"코스피, 상승 출발 후 '약세 전환'...LG화학 · 삼성SDI '장초반 강세'\",\n",
       "  '코스피, 외인 순매수 속 반등 성공…2,380대로 마감(종합)',\n",
       "  '새해 외국인이 가장 많이 사들인 코스피 업종은 ‘이것’',\n",
       "  '[개장시황] 外人 매수에도 흔들리는 코스피…2360대서 약보합',\n",
       "  '외인 순매수에 반등한 코스피…2380대로 마감',\n",
       "  '상승세 주춤해진 코스피…\"더 간다\" vs \"내릴 때 됐다\"',\n",
       "  \"[어제장 오늘장] '어려운 2400' 벽 만난 코스피, 이틀 연속 약세\",\n",
       "  '코스피 소폭↓‥휴마시스 2% 강세',\n",
       "  \"[개장시황] 코스피, 0.12% 하락 2365선…개인·기관 '팔자'\",\n",
       "  '[마감시황] 하락출발했던 코스피, 외국인 순매수에 상승마감',\n",
       "  \"코스피, 외인 '사자세' 힘입어 반등…2380선 마감\",\n",
       "  '코스피, 0.51% 상승한 2,380대 강보합세 마감',\n",
       "  \"코스피, 외인 '사자세' 힘입어 반등…2380선 마감\",\n",
       "  '[오전 시황] 코스피 2370선 진입하며 강세 전환…외국인 순매수 지속',\n",
       "  '[종합] 코스피, 美 연준 긴축 우려 재부상에 0.04% 하락 출발...2367.42',\n",
       "  '[굿모닝 증시]美 경기 우려, 매파 발언…코스피 하락 출발 예상',\n",
       "  '코스피, 2354.56으로 거래 시작…하락 출발',\n",
       "  \"새해 밝자 주가 상승, 이유는?…2023년 이끌 주도주 '에로배우' (정철진 경제...\",\n",
       "  '코스피, 0.3%대 하락 출발…美연준 긴축 우려 재부상',\n",
       "  '[M-커버스토리] 연초부터 2300선 넘어선 코스피…전문가들 \"기대감 과해\"',\n",
       "  '코스피 외국인 매수세로 3거래일 만에 반등, 코스닥은 이틀 연속 상승',\n",
       "  '[마켓뷰] 설 연휴 앞두고 증시 상승… 코스피, 2395.26 마감',\n",
       "  '코스피, 2,380대서 강보합세…연휴 앞두고 상승폭 제한적(종합)',\n",
       "  '차익실현 매물 출회 vs 외국인 순매수 기대…코스피 보합권 출발 전망 [증시 ...',\n",
       "  \"연휴 앞두고 코스피·코스닥 '기분 좋은 마감'\",\n",
       "  '코스피, 외인 매수로 2,390대 상승 마감',\n",
       "  '[마감시황] 코스피, 설연휴 앞두고 외국인 매수세 유입에 상승 마감',\n",
       "  '코스피, 2380.00으로 거래 시작…상승 전환',\n",
       "  '코스피, 설 연휴 앞두고 2390선 회복 마감',\n",
       "  '코스피, 3일 만에 상승 마감…원화 강세에 환율 5.3원↓',\n",
       "  \"거래부진 속, 코스피 올랐다...SK하이닉스 · LG에너지솔루션 · 삼성SDI '상...\",\n",
       "  '코스피, 3일 만에 상승 마감…원화 강세에 환율 5.3원↓',\n",
       "  \"코스피, 설 연휴 앞두고 상승 출발… 2390선 '터치'\",\n",
       "  '[개장시황] 국내증시 장초반 상승세… 외국인은 코스피, 개인은 코스닥 순매수',\n",
       "  \"거래부진 속, 코스피 올랐다...SK하이닉스 · LG에너지솔루션 · 삼성SDI '상...\",\n",
       "  '[시황] 코스피, 설 연휴 앞두고 눈치보기 장세...2380선 등락',\n",
       "  '[시황] 코스피, 0.34p(0.01%) 내린 2380.00 출발',\n",
       "  '[베타 모닝브리핑] 뉴욕증시, 긴축 우려에 하락...경제지표 빠른 둔화가 문제',\n",
       "  \"코스피 '상승 출발'...삼성전자 · SK하이닉스 '장초반 강세'\",\n",
       "  \"13년 만의 '호가' 변경, 거래소·공매도 세력만 좋은 일? [사자경제]\",\n",
       "  \"배당확대 훈풍 탄 은행주…반값에 '줍줍' 해볼까\",\n",
       "  '‘닥터둠’ 김영익의 대반전... “올해 코스피 밀릴때마다 사라” [매부리TV]',\n",
       "  '[주간증시전망] “코스피 상단 2450 전망…美 빅테크주 실적 결과 주목”',\n",
       "  '[사설] 환율·물가 일시적 안정, 경제 연착륙 신호로 착각하면 안 된다',\n",
       "  \"[한證막] 外人 '사자' 소폭 상승…UAE·마스크 해제 관련株 '들썩'\",\n",
       "  \"'디커플링' 한·미 증시, 달러약세 수혜주 포트폴리오 관심↑\",\n",
       "  '“삼성전자에 물린 개미, 1분기에 고생 끝 행복 시작” [자이앤트TV]',\n",
       "  '[다음주 증시 전망] 명절 이후 中 리오프닝에 관심 집중',\n",
       "  '토끼털 뒤집어쓴 영봉 오르면 지혜와 행운 두 토끼 잡을까[전승훈 기자의 아트...',\n",
       "  '연초부터 변동성 심화되는 증시…불확실성 증대',\n",
       "  '중동 순방 효과에도 얼어붙은 투심… 1월 셋째주 Market',\n",
       "  '[설 이후 증시 전망] 원화 힘 세지자 외국인 투자 귀환, 연초 ‘토끼 랠리’ ...',\n",
       "  '2023년 증시 강세장 출발…올들어 코스피 7% 상승',\n",
       "  '[새해 이것 투자할까②]코스피 3종목만 고른다면',\n",
       "  '올핸 코스피 3000?…김칫국 마시지 마세요 [근면한 월급]',\n",
       "  '설 연휴 보낸 코스피, 전망치 최고 2450선…\"韓·美 성장주 실적 주목\" [주간...',\n",
       "  '[증권소식] 증권사 CMA, 저축은행 파킹통장에 밀려/리츠, 주가 최근 상승세/올...',\n",
       "  \"예상밖 '상승' 코스피, 실적시즌 발목 잡을까\",\n",
       "  '[주간증시전망] 연휴 이후 코로나 확산·美 경제지표 발표 주목',\n",
       "  \"폭락한 주식·코인·부동산…저금리 관성이 불러온 '자산 몰락'\",\n",
       "  '‘빅’일까 ‘베이비’일까…설 이후 주식시장 최대 변수는?',\n",
       "  '\"아빠가 주식으로 다 날렸대요\"…자녀 세뱃돈 투자 폭망, 올해는',\n",
       "  '\"아빠가 주식으로 다 날렸대요\"…자녀 세뱃돈 투자 폭망, 올해는',\n",
       "  '세뱃돈 어디 투자하지…어린이펀드로 절세 노려볼까',\n",
       "  '반도체 대신 \\'이것\\'…\"지금 사도 2년간 돈 번다는데\" [코주부]',\n",
       "  '[이번주 증시] 설 연휴 속 정부정책 관심↑…눈치보기 장세 전망',\n",
       "  '[고수의 픽] 2년 내리막 삼성전자·하이닉스…“바닥 나왔다, 2년 반등 온다”',\n",
       "  '[펀드와치] 中 리오프닝 기대에 여행·화장품株 ↑',\n",
       "  \"계묘년 증시 '강세장' 출발…삼성전자 11%, SK하이닉스 16% '축포'\",\n",
       "  \"“세뱃돈 어디갔어” 어린이펀드, 1년 수익률 '부진'\",\n",
       "  '완화되는 유동성 공포, 증권주 최악의 상황 지나는 중',\n",
       "  '[주간증시전망]설 연휴 이후 증시…정부정책·중 리오프닝에 관심 집중',\n",
       "  '새해 들어 7% 뛴 코스피…투자심리 살아나나',\n",
       "  '‘토끼 랠리’ 한숨 고른 코스피…‘반도체·2차전지’ 주목',\n",
       "  '코스피 2400선 근접…\"설 끝나면 FOMC·실적이 변수\"',\n",
       "  \"[김기성의 경제분석] 새해 소망, '흉년에 부자 난다'\",\n",
       "  '[연휴 이후 증시 전망] 정부 정책·中 리오프닝·美 경제지표 발표 ‘집중’',\n",
       "  '코스피 1월 7.1% 올라···설 연휴 이후 주가 흐름은',\n",
       "  '시장과 연준·한은, 통화정책 방향 둘러싼 ‘줄다리기’ 언제까지?',\n",
       "  \"[뉴스'까'페] 개미가 궁금해하는 줍줍신호는 '이것'\",\n",
       "  '“스트레스 없이 연 10%”…저절로 굴러가는 주식투자 비결은 [자이앤트TV]',\n",
       "  '[설 연휴 투자전략] 세뱃돈으로 어디 투자할까…실적개선·中 수혜주 주목',\n",
       "  '50% 뛰었던 방산주, 올해는 -6.8%…호시절 갔다? 증권가 전망은',\n",
       "  \"[설 연휴 투자전략] '호재 넘치는데 저평가' 홍콩 주식 사볼까\",\n",
       "  '새뱃돈 쟁여둘 어린이펀드…수익률 상위는?',\n",
       "  \"[마켓Q] 정부, '코리아디스카운트' 해소 안간힘...공매도 앞 작아져 회의론\",\n",
       "  '대장동,쌍방울 사건을 통해 이재명이 이낙연을 제친 이유가 나왔다',\n",
       "  '연초 기대 밖 선전 주식시장 설 이후에도?, 가치주로 투자범위 좁혀라',\n",
       "  '[계묘년 재테크上] 금리 정점 다가오는데···맞춤형 투자전략은',\n",
       "  '얼지 않는 유럽의 겨울 江‧‧‧가스 위기 감소→세계 경기침체 완충',\n",
       "  \"얼어붙은 IPO 시장, 조단위 '오아시스'가 투심 녹일까\",\n",
       "  '[자본시장 톺아보기] 증권사 PB \"새해 반등한 국내증시, 1분기 조정 올 수도\"',\n",
       "  '[주간 증시 전망] 실적·지표 영향 증대…코스피 2330~2450',\n",
       "  '[주간증시전망]올해 첫 FOMC·실적…눈치보는 코스피',\n",
       "  \"코스피 '1월 랠리' 의 마무리는?…韓·美 증시 '디커플링' 속 실적시즌 '부담...\",\n",
       "  '실적시즌 변동성 확대 가능성... 中 코로나·美 경제지표 주목 [주간 증시 전...',\n",
       "  '상승 폭 키운 코스피…설 연휴 이후 변수는',\n",
       "  '연휴 마친 코스피…美 훈풍 이어간다',\n",
       "  '코스피 ‘상고하저’로 태세전환… 2분기 ‘골디락스’ 낙관론까지',\n",
       "  '증권가 \"올해 코스피 하단 2000~2100…설 지나면 \\'中 코로나\\' 주목해야\"',\n",
       "  \"[아주경제 오늘의 뉴스 종합] 설 연휴 끝나자마자 '역대급 한파'...정부, 비상...\",\n",
       "  '[주간증시전망] 밸류 부담 높아진 코스피…\"한 템포 쉬어갈 때\"',\n",
       "  '[주간증시전망]실적발표·FOMC 예의주시…경계감 확대',\n",
       "  \"설 이후 증시, 훈풍 부나…'비둘기 FOMC' 기대감에 나스닥 급등\",\n",
       "  \"새해 들어 주식시장 '훈풍'…투자 적기일까?\",\n",
       "  '[주간증시전망]코로나·실적시즌…겹겹 변수에 살얼음 증시',\n",
       "  '가치주 쓸어담는 외국인…\"2월에도 계속\"',\n",
       "  '하이투자증권 \"2023년 상고하저…1월 반등 이어져\"',\n",
       "  \"'MSCI지수 편입 기대' 카카오페이, 수급 탄력 받을까\",\n",
       "  '힘잃은 강달러...환율 하락 수혜 업종은',\n",
       "  '서학개미 주식 대신 채권 ETF 산다',\n",
       "  'IPO 한파에 11번가·케이뱅크 주요기업 상장철회·연기 잇달아',\n",
       "  '올해만 벌써 5조 샀다…외국인 코스피 폭풍매수 언제까지 이어질까',\n",
       "  '외국인, 새해 5조 순매수…\"코스피 과속상승 우려도\"',\n",
       "  '\"코스피, 곧 과매수 구간 진입 가능성…기술적 저항\"',\n",
       "  \"코스피, 외인 '사자세' 힘입어 사흘 연속 상승\",\n",
       "  '코스피 낙관론 `솔솔`…\"상단은 2600선\" [증시프리즘]',\n",
       "  '[실전재테크]숨고르는 코스피, 1분기 실적에 달렸다',\n",
       "  '코스피, 연휴 뒤에도 훈풍 불까… “2400 돌파 가능성”',\n",
       "  '이게 얼마 만이냐?…코스피, 단순에 2400선 돌파',\n",
       "  '코스피, 2426.58로 거래 시작…상승 출발',\n",
       "  '기준점 높아진 코스피…실적·FOMC에 눈치보기 예상',\n",
       "  '[개장시황] 코스피, 연휴 글로벌 증시 반영 후 산뜻한 출발',\n",
       "  '\"美 증시, 설 연휴 간 상승세…코스피 추격 매수 최대한 자제\"<대신證>',\n",
       "  \"코스피, 외인 '사자세' 힘입어 사흘 연속 상승\",\n",
       "  \"코스피, 기관·외인 매수에 2,420선 안착...삼성전자·하이닉스 '강세'\",\n",
       "  \"코스피 '상승 출발'...삼성전자 · SK하이닉스 '장초반 강세'\",\n",
       "  \"[주간증시전망] 코스피, 실적 발표 속 박스권···FOMC '주목'\",\n",
       "  '검찰, 빗썸 관계사 횡령·배임 혐의 강종현 구속영장',\n",
       "  \"[숫자로 본 경제] 현대차 100원 단위로 사고판다…호가 단위 '촘촘'\",\n",
       "  '[연합뉴스 이 시각 헤드라인] - 18:00',\n",
       "  '[자사주의 함정]①매입은 1조 증가…소각은 4%대 불과',\n",
       "  '[굿모닝증시]실적 우려에도 낙폭 줄인 美 증시…\"코스피 상승 출발\"',\n",
       "  '현대차 실적 주목…코스피 박스권 장세 전망 [증시 개장 전 꼭 알아야 할 5가...',\n",
       "  '[뉴스라이브] 공공요금 인상·코스피지수 반등...연초 경제 상황은?',\n",
       "  \"외국인 투자 '봇물'…코스피 2500선 코앞\",\n",
       "  \"[마감시황] 코스피 개인 '팔자'에도 외인·기관 '사자'… 2460선 상승 마감\",\n",
       "  '‘30조원 추경’ 요구 본격화한 野…금융당국 압박에 은행권 대출금리 속속 인...',\n",
       "  '코스피, 外人 매수에 1.7% 반등…中 경제도 기대',\n",
       "  '코스피, 2460선 돌파…2차전지·자동차주 상승 견인',\n",
       "  \"예상 외 '1월 효과', 코스피 랠리 관건은\",\n",
       "  '코스피, 반도체주 강세에 상승…2468선 마감',\n",
       "  '코스피, 2436.18로 거래 시작…상승 출발',\n",
       "  \"[뉴스외전 경제 '쏙'] 난방비·대중교통‥서민 경제 '쇼크'\",\n",
       "  '코스피, 외인·기관 매수에 2460선 회복…\"테슬라 덕분\"',\n",
       "  '코스피, 0.2%대 상승 출발…BOC 금리 인상 중단 주목',\n",
       "  \"[김대호의 경제읽기] 정부, 취약계층 '난방비' 대책 마련…실효성은?\",\n",
       "  \"[굿모닝경제] 외국인 '매수' 행렬에 코스피 과열 우려...기업 실적 속속 발표\",\n",
       "  '[과민반응 코스피] 증권가 \"리스크 관리 우선… 분기별 대응전략 달리해야\"',\n",
       "  '[개장시황] 코스피, 뉴욕증시 하락에도 외국인 순매수로 상승세',\n",
       "  '[전화연결] 지난해 4분기 한국 경제 역성장…2년 6개월 만',\n",
       "  '코스피, 7.62p(0.31%) 오른 2436.19 출발',\n",
       "  '코스피 2500 탈환하나…급등에 조정론도 확산',\n",
       "  \"코스피, '외인' 업고 5거래일 달렸다…2500벽은 못 넘어\",\n",
       "  '\"외국인 폭풍매수 고맙다\"… 코스피, 美·中·日증시 압도',\n",
       "  '코스피, 외국인 ‘사자세’에 2470선 등락…삼성전자 7개월 만에 6만4000원대',\n",
       "  '[굿모닝증시]코스피, 0.5% 상승 출발 후 제한적 등락 전망',\n",
       "  \"코스피, 올해 11% 올랐는데…개인 원픽은 '곱버스'\",\n",
       "  '코스피, 5거래일 연속 상승…2484.02 마감',\n",
       "  '[마감시황] 코스피, 외인·기관 순매수세로 2480선에 상승 마감',\n",
       "  '코스피, 2474.52로 거래 시작…상승 출발',\n",
       "  '[시황] 코스피, ‘외인 vs 기관 공방’ 장초반 혼조세…2470선 등락',\n",
       "  '[마감시황] 코스피, 외인·기관 순매수세로 2480선에 상승 마감',\n",
       "  '코스피, 2474.52로 거래 시작…상승 출발',\n",
       "  \"[뉴스외전 경제 '쏙'] 미국 경제 '깜짝 선방'내용을 뜯어보니..\",\n",
       "  '여의도 증권가의 보기드문 반성문? \"긴축 장기화 놓쳤다\" (feat. 김학균) [경...',\n",
       "  '[시황] 코스피, ‘외인 vs 기관 공방’ 장초반 혼조세…2470선 등락',\n",
       "  \"외국인 18일째 코스피 '토끼랠리' 주도, 과거 외국인 연속 매수 때 주가는\",\n",
       "  '\"전 세계 시장 강세 코스피도 2,500 가능…추세적 반등은 글쎄\"',\n",
       "  '코스피 외국인 순매수에 힘입어 장중 2490선 넘어서, 코스닥도 강보합',\n",
       "  \"코스피, 개인·기관 매수에 2,470선 안착...삼성전자 1%대 '오름'\",\n",
       "  '[시황] 코스피, 5.87p(0.24%) 오른 2474.52 출발',\n",
       "  '[투자전략] “코스피 급락 안 온다”…애널리스트가 진단한 3가지 이유',\n",
       "  \"[주간증시전망] 코스피 2500 바짝… '고점' 우려 시장 지배하나\",\n",
       "  '[주간증시전망] “코스피 상단 2530 전망…美 FOMC 발표 주목”',\n",
       "  '\"어느덧 10만원 눈 앞\"…SK하이닉스, 올해만 20% 오른 이유',\n",
       "  '“증시 반등 신호는 이것”…40년 경력 ‘슈퍼개미’가 찍은 종목은 [자이앤트...',\n",
       "  '승진 탈락하자 \"연봉 3배 줄게\" 中의 유혹…1000억짜리 기술 빼돌렸다',\n",
       "  \"[월드리포트] 턱 밑까지 찬 미 '부채한도'…우리나라는 안전할까\",\n",
       "  '초저금리·양적완화가 낳은 건 ‘거품’',\n",
       "  \"中에 반도체 기술 넘긴 韓기업 직원···이유가 '승진 탈락'\",\n",
       "  '[증권소식] 작년 채권결제대금 전년비 5.1% 감소/글로벌 CEO 46% \"올해 M&A 추...',\n",
       "  '[증권소식] 작년 채권결제대금 전년비 5.1% 감소/글로벌 CEO 46% \"올해 M&A 추...',\n",
       "  \"[주간증시전망] 올해 첫 FOMC 결과 '베이비 스텝' 복귀 전망\",\n",
       "  '[주간증시전망] “코스피 2500 탈환할까”... 올해 첫 FOMC 예정',\n",
       "  '[증시 풍향계] 7조 산 외국인의 힘…코스피 2,500 넘어서나',\n",
       "  '[주간 증시 전망] 새해 첫 FOMC 경계심리 확대…코스피 2400~2530',\n",
       "  \"코스피 11% 끌어올린 '바이 코리아'... 시험대에 오른다\",\n",
       "  '6.8조 쓸어담은 외국인…코스피, 상승률 2년만에 최고',\n",
       "  \"[주간증시전망]연준 '베이비스텝' 기대감에 뛴 코스피, 검증 시간 온다\",\n",
       "  '\"주식·채권 늘리고 부동산 관망\" 재테크전문가 총출동 비법 전수',\n",
       "  '\"공매도 전면 재개해야\" vs \"시기상조\"…논란 커지는 이유',\n",
       "  '무인·자동화 등 로봇 기술 집중투자… 한달 수익률 20% [이런 펀드 어때요?]',\n",
       "  '안갯속 올해 국내 경기···정부는 ‘낙관론’, 민간은 ‘글쎄’',\n",
       "  \"인플레 완화·환율 하락에 외국인 '7조 폭풍매수'…토끼랠리 이어질까\",\n",
       "  '무인·자동화 등 로봇 기술 집중투자… 한달 수익률 20% [이런 펀드 어때요?]',\n",
       "  '\"연초에 주식이 오를 줄이야\"…새해 재테크 전략은',\n",
       "  '[주간증시전망]FOMC 입김 세질까…2400선 박스권 예상',\n",
       "  '삼전·네카오에 물렸다면? …“수면제 먹고 2~3년 푹 자라” [자이앤트TV]',\n",
       "  '안갯속 올해 국내 경기···정부는 ‘낙관론’, 민간은 ‘글쎄’',\n",
       "  '테슬라 33% 폭등 … 한미 증시 이번주에도 달릴까',\n",
       "  '비관론 일색이던 세계 경기, 낙관론 ‘솔솔’',\n",
       "  'ESG 최하등급 상장사 17배 폭증…\"기업현실 고려 안해\" 아우성',\n",
       "  '\"올해 마지막 저점\" … 2월 조정 장세 전망 속 주목해야 할 \\'이 업종\\'',\n",
       "  '코스피, 차익매물 여파 6일만에 하락…2,450선 턱걸이 마감(종합)',\n",
       "  '[마켓뷰] 코스피, 1.3% 하락… 기관 매도에 2450선 턱걸이',\n",
       "  '코스피 \\'예상밖 선전\\' 이끈 외국인…\"강한 순매수 계속된다\"',\n",
       "  '뚫기 힘든 코스피 2500선…\"올해 첫 슈퍼위크 주목해야\"',\n",
       "  '[마감시황] 코스피, 차익실현 심리에 밀려 1%대 급락',\n",
       "  '[마켓ING]뚫기 쉽지 않은 저항선, 코스피 조정 시작?',\n",
       "  '\"이번주 코스피 변동성 장세…2400~2550선 등락\"',\n",
       "  \"[뉴스외전 경제 '쏙'] 'AI 테마주 급등'‥주의점은?\",\n",
       "  '[오전 시황] 코스피, 2460선 약세…FOMC 앞두고 관망세 작용하나',\n",
       "  '한국투자 \"1월 코스피 상승세 부담, 숨고르기 예상\"',\n",
       "  '[오전 시황] 코스피, 2460선 약세…FOMC 앞두고 관망세 작용하나',\n",
       "  '한국투자 \"1월 코스피 상승세 부담, 숨고르기 예상\"',\n",
       "  '[오늘의 투자전략] “코스피, 경기침체 우려 속 제한적 등락 전망”',\n",
       "  '코스피, 기관 매도에 엿새만에 하락… 2450선대로 밀려',\n",
       "  '코스피, 장 초반 혼조… 2480선 박스권 등락',\n",
       "  \"코스피 이달에만 11% 상승 '룰루랄라'…계속 오를까\",\n",
       "  '코스피, 기관매도에 6거래일만 하락…2450 턱걸이',\n",
       "  \"[시황] 코스피, FOMC 앞둔 주간 '강보합'출발… 변동성 유의해야\",\n",
       "  '이번주 코스피, FOMC 앞두고 2,500선 안착 시도...주간 증시 전망은',\n",
       "  '[오늘의 증시] 대형주 하락에 코스피 2450대로 밀려…\"AI주 여전히 강세\"',\n",
       "  '형은 날고 아우는 뛰고…코스피와 코스닥 [주식공부방]',\n",
       "  \"외인 '팔자'에 코스피 1% 하락…2,420대 마감\",\n",
       "  \"[뉴스외전 경제 '쏙'] 삼성전자 반도체 영업이익 급감‥왜?\",\n",
       "  \"[마감 시황] 美FOMC 경계감·삼전 '어닝쇼크'에 코스피 2420선 후퇴\",\n",
       "  '[마켓ING]기대는 실망으로…코스피 2420선까지 후퇴',\n",
       "  '코스피, 외인 매도량 늘며 낙폭 확대…삼성전자 3%대↓',\n",
       "  \"반도체·금융·자동차株 '싹쓸이'...外人 코스피 유입 지속될까\",\n",
       "  \"코스피, 외인 '팔자' 전환 이틀 연속 하락…2425선 마감\",\n",
       "  \"[마감시황] 코스피, 美FOMC·삼성전자 '어닝쇼크'에 하락마감…외국인 '팔자'\",\n",
       "  '\"중국 양회 호재 남았다\" VS \"코스피 2180까지 밀릴수도\"',\n",
       "  '은행주 상승 1위 JB금융지주…코스피200 되자마자 공매도 타깃',\n",
       "  '코스피, 2449.92로 거래 시작…하락 출발',\n",
       "  \"반도체·금융·자동차株 '싹쓸이'...外人 코스피 유입 지속될까\",\n",
       "  '한달새 10% 오른 코스피, 2200선서 바닥 다졌다 [이종우 증시 맥짚기]',\n",
       "  \"코스피, 외인 '팔자' 전환 이틀 연속 하락…2425선 마감\",\n",
       "  \"[마감시황] 코스피, 美FOMC·삼성전자 '어닝쇼크'에 하락마감…외국인 '팔자'\",\n",
       "  '[개장시황] 코스피, 美FOMC 앞두고 하락출발…\"삼성전자 감산여부 주목 필요\"',\n",
       "  \"선행지수 6개월 연속↓…강해진 '경기침체' 신호(종합)\",\n",
       "  '반도체 한파…삼성전자 감산 여부 주목 [증시 개장 전 꼭 알아야 할 5가지]',\n",
       "  '‘깜깜이 배당’ 개선…주식 배당금 확정 뒤 기준일 정해진다',\n",
       "  \"코스피, 개인·외국인 '사자'에 상승…시총상위주 '훈풍'\",\n",
       "  '코스피, 외인·개인 ‘사자’에 강세…삼성전자 2%대↑',\n",
       "  \"코스피, 개인·외인 동반 '매수세' 상승… 0.74% 오른 2443선\",\n",
       "  \"외국인 컴백 코스피 상승 랠리…2월엔 '글쎄'\",\n",
       "  '증권가 \"2월 랠리 속 속도 조절\"…코스피 2,250∼2,580 예상',\n",
       "  '[개장시황] 코스피, 개인·외인 매수…0.69% 오른 2441선',\n",
       "  '[오늘의 투자전략] 코스피, 개별 실적 따라 차별화 장세 전망',\n",
       "  '낙관론 vs 비관론 팽팽…2월 코스피 일단 관망',\n",
       "  '코스피, 개인·외인 매수에 1% 상승…2449.80 마감',\n",
       "  '코스피, 美 FOMC 앞두고 상승 출발…2440선 돌파',\n",
       "  \"외국인들, 1월에 'K-주식' 폭풍 매수…코스피 '불꽃 랠리'\",\n",
       "  '코스피 외국인 순매수에 3일 만에 반등, 코스닥은 2일 연속 상승',\n",
       "  '코스피, 2500선 눈앞…상승 기조 지속될까',\n",
       "  '코스피, 2,440대 상승 출발',\n",
       "  '코스피, 외인 저가매수세 유입에 사흘만 반등',\n",
       "  '코스피, 개인·외인 매수에 2,450선...삼성전자, 1%대 후반까지 반등',\n",
       "  \"外人 매수, 코스피 '활짝'...SK하이닉스·기아·삼성SDI·SK이노베이션 '급등...\",\n",
       "  '[아주증시포커스] 은행주 상승 1위 JB금융지주…코스피200 되자마자 공매도 타...',\n",
       "  '광주·전남, 경험 못한 복합경제위기 오나',\n",
       "  '[시황] 코스피, 20.95p(0.86%) 오른 2446.03 출발',\n",
       "  '올해 경제 어떻게 될까··· 전문가에게 물어봤더니',\n",
       "  '美 FOMC 결과에 국내도 환호...코스피 1%대 오름세',\n",
       "  '[마감시황]코스피, 美 FOMC 안도에 2460선 상승 마감',\n",
       "  '코스피, 美 FOMC 비둘기 여파에 상승 출발',\n",
       "  '반도체株 주목…코스피 상승 출발 전망 [증시 개장 전 꼭 알아야 할 5가지]',\n",
       "  \"[뉴스외전 경제 '쏙'] 파월 '물가하락' 발언‥증시에 봄 오나?\",\n",
       "  '코스피, FOMC ‘베이비스텝’에 1%대 강세 출발…2476선',\n",
       "  \"파월 '디스인플레이션' 언급에 증시 환호... 코스피 1.31% 상승 출발\",\n",
       "  '추경호 \"시장 불확실성 다소 해소\"…코스피 상승 출발',\n",
       "  '[오후시황] FOMC 호재에 2470까지 오른 코스피',\n",
       "  '[오후시황] FOMC 호재에 2470까지 오른 코스피',\n",
       "  '당국 ‘절차 문제’ 제기 속 차기 회장 인선 예정대로 이어가는 우리금융 [한...',\n",
       "  '[마켓ING]美 FOMC에 환호…코스피 2470선 회복',\n",
       "  \"컬리, 기업가치 절반으로 '뚝'… 코스피 상장 안갯속\",\n",
       "  '[마감시황] FOMC에 환호했지만 2480 저항선 못 뚫은 코스피…2468 마감',\n",
       "  '파월이 날린 비둘기에 국내증시 훈풍불까…코스피, 2450선 거래',\n",
       "  \"코스피, FOMC 결과에 국내도 '환호'…2,460대로 상승 마감\",\n",
       "  '원·달러환율, 11원 내린 1220.3원 마감…코스피 피봇 기대감에 강세',\n",
       "  '[시황] 코스피, 32.14p(1.31%) 오른 2481.94 출발',\n",
       "  '美 연준 \"디스인플레이션\" 한 마디에…코스피도 \\'불상승\\'',\n",
       "  \"[뉴스외전 경제 '쏙'] 외국인, 왜 코스피 사들이나?\",\n",
       "  '다음주 코스피 2410~2540 전망, 주요국 통화정책 주식 시장에 긍정적',\n",
       "  '코스피, 외국인 매수에 0.47% 오른 2480.40 마감',\n",
       "  '한투증권 \"2월 코스피 2,350∼2,550…주식시장 전망 긍정적\"',\n",
       "  \"코스피, 외인 '사자세'에 사흘 연속 상승\",\n",
       "  '[김대호의 경제읽기] 뉴욕증시 혼조세…메타 급등·나스닥 3.25%↑',\n",
       "  \"[마감시황] 코스피, 2480선 가까스로 턱걸이… 외인 사흘째 '사자' 견인\",\n",
       "  \"코스피, 기관 매도 2,460선 약보합...삼성전자 '6만 선' 유지\",\n",
       "  '[오늘의 주목주] 코스피 네이버 상승, 코스닥 위메이드 13%대 급등',\n",
       "  \"코스피 '하락 출발'...시총 상위주 '장초반 혼조'\",\n",
       "  \"코스피, 기관 매도 2,460선 약보합...삼성전자 '6만 선' 유지\",\n",
       "  '[전화연결]올해 한국 경제성장률 1.5% 전망…경기위축 가팔라져',\n",
       "  '[개장시황] 코스피, 2.34포인트(0.09%) 내린 2466.54 출발',\n",
       "  \"코스피 '하락 출발'...시총 상위주 '장초반 혼조'\",\n",
       "  \"'실수'서 찾았다…1분기 깜짝 수익률 안겨줄 종목들\",\n",
       "  '빚투할 때 유의하세요...신용융자 미수란 [주경야독]',\n",
       "  '“인플레 완화 시작”…연준 ‘베이비스텝’',\n",
       "  '지난달 외국인 순매수 역대 3위…왜 우리 주식 살까?',\n",
       "  \"[어제장 오늘장] '굿바이 파월 효과'…FOMC에도 국내증시 강세\",\n",
       "  '\"디스인플레\" 11번 외친 파월..기준금리 올렸지만 시장은 반색했다',\n",
       "  '[다음주 증시 전망] 美 54년 만의 최저 실업률…코스피 상승세도 꺾이나',\n",
       "  \"[한證막] 코스피, FOMC·메타 호재에 '방긋'…전주比 0.1%↓\",\n",
       "  '파월의 금리인상이 적절했는지 챗GPT에게 물었더니…대답은?',\n",
       "  '금리 인상 속도조절한 연준…이번달 한은 선택은?',\n",
       "  \"'1·3대책에도 미지근' 부동산 시장 속 반등한 건설주…훈풍 이어갈까\",\n",
       "  '외국인 매수로 K주식에 다시 훈풍 불까 [재테크_금융]',\n",
       "  '“테슬라 미래에 베팅한다면…전기차 짝꿍 반도체주 사라” [자이앤트TV]',\n",
       "  '[편집장 레터] ‘출산율 최저치 찍고 반등할까’ YES or NO?',\n",
       "  '[주간증시전망] 주요국 통화정책 변화·중국 턴어라운드 기대…2410~2540포인...',\n",
       "  \"'난방비 폭탄'에 친구는 울었지만…내 주식은 웃었다 [코주부]\",\n",
       "  '지난달 외국인 순매수 역대 3위…왜 우리 주식 살까?',\n",
       "  '2월 첫째 주, 한경 마켓PRO가 주목한 종목과 이슈는? [위클리 리뷰]',\n",
       "  '“인생 한방” 악마의 유혹… 투전판으로 전락한 ‘밈’주식',\n",
       "  '[주간증시전망] 주요국 통화정책 변화·중국 턴어라운드 기대…2410~2540포인...',\n",
       "  '[주간증시전망] 완화 중인 통화정책·中 턴어라운드 주식시장 훈풍',\n",
       "  '[증시 풍향계] 코스피, 급등후 숨고르기…2,400대 박스권',\n",
       "  \"우리 경제에 작용하는 '윤석열 리스크' 없애려면 [우석훈 쓴소리 곧은소리]\",\n",
       "  '[주간증시전망] 美 FOMC 우려 넘긴 코스피…“환호하기엔 일러”',\n",
       "  '[주간증시전망]숨고르기 나선 코스피…2500선 뚫을까',\n",
       "  '수출 최악인데 코스피는 2500 돌파 눈앞…두 변수, 동행 깼다',\n",
       "  '[주간증시전망]코스피 다시 2500선 고지전, 저항선 뚫을까',\n",
       "  '금리 인상 마무리·中리오프닝 기대감↑... 코스피 상승 탄력받나',\n",
       "  '[주간 증시 전망] 美 긴축 마무리 기대감...코스피 2410~2540',\n",
       "  '한국투자증권 \"2월 코스피 2,350∼2,550…주식시장 전망 긍정적\"',\n",
       "  '[주간증시전망] 코스피 2410~2540선…FOMC·中 리오프닝 기대감',\n",
       "  '물린 내 주식, AI에 맡겨볼까…수익률 뚜껑 열어보니',\n",
       "  '“이 세력은 주가가 내린다고 보나?”...다시 날뛰는 공매도',\n",
       "  \"[일문일답]토큰증권, '자본시장법'에 따라 제도권 수용\",\n",
       "  \"'악재'라더니…LG엔솔 우리사주 버티기 나선 이유는 [코주부]\",\n",
       "  '美긴축 마무리 움직임 훈풍, 기업 실적전망 하향은 변수 [주간 증시 전망]',\n",
       "  '강달러 주춤에 랠리 연장되나…\"높아진 밸류에이션은 부담\" [주간전망]',\n",
       "  '[이번주 증시] FOMC에 안도한 증시, 상승세 이어질까',\n",
       "  '“잠자던 돈 깨어나나”…은행 ‘핵심예금’ 줄고 회전율 반등[머니뭐니]',\n",
       "  '[주간증시전망]금리·중국 악재 일부 해소…\"상승구간 지속\"',\n",
       "  '‘바닥 밑 지하실’ 기업 실적…짙어진 경기 침체 공포',\n",
       "  '\"올해 코스피 전망치 2800으로 상향\"',\n",
       "  '\"하반기 갈수록 불확실성 해소…코스피 2800 간다\"',\n",
       "  '[마감시황]코스피, 외국인·기관 매물 출회로 하락마감',\n",
       "  \"[주간 증시 전망] 美 '예상 밖' 1월 고용지표…코스피 상승세 찬물\",\n",
       "  \"'긴축 종료 3일 천하'... 환율 23원↑, 코스피 1.4%↓\",\n",
       "  '\"코스피, 이번주 2420~2520P…경계감 속 변동성 장세\"',\n",
       "  '\"예상 밖 美 고용 호조\"…코스피 상승세에 찬물',\n",
       "  '[미리보는 증시재료] 주요국 통화정책·中경제회복 기대감↑...코스피 상승랠...',\n",
       "  '[오늘의 주목주] 코스피 네이버 하락, 코스닥 에코프로 6%대 급등',\n",
       "  '[이번주 증시 전망] 주요국 통화정책 변화·中 부양 정책 기대감…코스피 241...',\n",
       "  \"코스피, 외인·기관 '팔자세'에 나흘만 1.7% 하락\",\n",
       "  '[개장시황] 코스피, 기관·외인 순매도에 소폭 약세',\n",
       "  \"'디스인플레' 신흥국 증시 탄력…주중 코스피 2500(?)\",\n",
       "  '[증시 풍향계] 코스피, 급등후 숨고르기…2,400대 박스권',\n",
       "  '[속보] [시황] 코스피, 18.58포인트(-0.75%) 내린 2461.82 출발',\n",
       "  \"코스피 · 코스닥 '하락 출발'...시총 상위주 '장초반 약세'\",\n",
       "  \"[주간증시전망] 코스피, 美 연준 '피벗' 기대감↑···추가 상승 지속\",\n",
       "  '챗GPT에 물었다… “올해 증시 어떻게 될까?”',\n",
       "  '한발 먼저 쓸어담는 슈퍼리치 “예금 채권보다 이것 담았다”',\n",
       "  '[연합뉴스 이 시각 헤드라인] - 18:00',\n",
       "  '‘깜짝 랠리’ 코스피 2800선 가나… \"단기 조정 불가피\"',\n",
       "  '반도체株 흔들…코스피 약보합 출발 전망 [증시 개장 전 꼭 알아야 할 5가지]',\n",
       "  '코스피 900종목 평균주가 4만원 깨졌다',\n",
       "  '美 긴축완화 임박?…코스피보다 코스닥에 주목할 때 [이종우 증시 맥짚기]',\n",
       "  '[뉴스외전 경제 \\'쏙\\'] \"미분양 아파트, 숫자보다는 속도가 빨라\"',\n",
       "  '[마감시황] 코스피, 외국인·기관 이탈에도 개인 매수세에 상승 마감',\n",
       "  \"'2800 vs 2500' 증권사 올해 코스피 전망 팽팽\",\n",
       "  '연초 랠리에 코스피 밴드 수정하는 증권사…\"2800까지 간다\"',\n",
       "  '[인터뷰] 서강대 교수 김영익 \"코스피 상반기 2700 가능, 주식비중 늘려야\"',\n",
       "  \"코스피 힘냈다...SK하이닉스 · LG화학 · SKC '급등', 조선주 '급락'\",\n",
       "  '[개장시황] 코스피, 뉴욕증시 하락 마감에도 개인 순매수로 장초반 강세',\n",
       "  \"코스피 힘냈다...SK하이닉스 · LG화학 · SKC '급등', 조선주 '급락'\",\n",
       "  \"코스피, 개미 '사자세' 힘입어 반등…2451선 마감\",\n",
       "  '[시황] 코스피, 1.95p(0.08%) 오른 2440.14 출발',\n",
       "  \"코스피 '하락 출발'...삼성전자 · SK하이닉스는 '장초반 강세'\",\n",
       "  '금리 멈춰도 증시는 ‘우울’…FOMO 경계',\n",
       "  '32년 \\'보해맨\\' 윤효현씨 퇴임 \"좋은 술 만드는 한 \\'보해의 봄날\\' 다시 올 것\"',\n",
       "  '어닝 쇼크 LG디스플레이…지금이 바닥일까',\n",
       "  \"[세종의 눈] 외환 시장 개방, '트라우마' 넘어서야\",\n",
       "  \"반등장서 돈 빼는 투자자들…국내 주식형 펀드 '썰물'\",\n",
       "  '혁신기업 담은 KEDI 30, 코스피 4% 오를때 11% 뛰어',\n",
       "  'AI가 투자하니, 코스피 폭락때도 9% 수익률',\n",
       "  \"'챗GPT' 날갯짓에 네이버·삼성전자 웃었다…코스피 2500선 턱 밑으로\",\n",
       "  '파월 발언에 아증시는 혼조, 닛케이 0.74%↓-코스피 0.82%↑',\n",
       "  '코스피, 외국인 매수세에 1.30% 상승',\n",
       "  '[종합] 코스피, 개인ㆍ외국인 ‘사자’에 장 초반 0.8%대 상승세',\n",
       "  '[시황] 코스피, 美 증시반등 효과에 강세',\n",
       "  '코스피, 긴축중단 기대감에 이틀 연속 상승…2483선 마감',\n",
       "  '코스피, 장 초반 상승 2470대 올라…개인·외인투자자 매수세',\n",
       "  '생큐 파월?…코스피 소폭 상승 출발 전망 [증시 개장 전 꼭 알아야 할 5가지]',\n",
       "  '[종합] 코스피, 개인ㆍ외국인 ‘사자’에 장 초반 0.8%대 상승세',\n",
       "  '[시황] 코스피, 美 증시반등 효과에 강세',\n",
       "  '[오늘의 투자전략] “코스피 상승 출발 예상…파월 발언 이후 외국인 투심 주...',\n",
       "  \"[마감시황] 코스피 1%대 급등세, 美 증시발 훈풍에 외인·기관 '쌍끌이'\",\n",
       "  '코스피, 긴축중단 기대감에 이틀 연속 상승…2483선 마감',\n",
       "  '코스피, 장 초반 상승 2470대 올라…개인·외인투자자 매수세',\n",
       "  '[개장시황] 코스피 17.71포인트(0.72%) 오른 2469.42',\n",
       "  \"수주 뱃고동 '조선주', 동학개미들은 왜 손사래를 칠까 [사자경제]\",\n",
       "  '[마켓ING]파월 발언에 안도한 증시',\n",
       "  '미국주식 주간거래 할 수 있는 증권사 늘어난다... 24시간 거래도 가능',\n",
       "  '코스피, 2,480대 약보합 마감…환율 1,260.4원(종합)',\n",
       "  '\"코스피 연말에 2800 간다\"...골드만삭스, 韓 증시 주목',\n",
       "  '코스피 10% 오를 때 두 배로 뛴 엔터株…“올해 더 간다”',\n",
       "  '파월 발언 뒤늦게 소화, 아증시 일제 하락…코스피 0.46%↓',\n",
       "  '[시황] 코스피, 2480선 약보합 마감…코스닥 0.59% 상승',\n",
       "  \"코스피 2,480대서 '숨고르기'…코스닥은 소폭 상승\",\n",
       "  \"[뉴스외전 경제 '쏙'] 'AI 검색 전쟁' 본격화‥승자는?\",\n",
       "  '장밋빛 고용지표에 되살아난 금리 불안…우리 증시엔 어떤 영향? (정철진 경제...',\n",
       "  '코스피 하락폭 줄여 약보합 마감, 코스닥은 외국인 매수세에 3일째 올라',\n",
       "  '코스피, 연준 매파 발언 우려에 하락…2481선 마감',\n",
       "  '코스피, 연준 매파 발언 우려에 하락…2481선 마감',\n",
       "  '원-달러 환율, 두달 만에 다시 1260원대 진입...코스피, 기관 대량 매도에 약...',\n",
       "  \"중국증시, 경제성장률 상향 · 코로나 진정 속 '장중 강세'\",\n",
       "  '[시황] 코스피, 美연준 매파적 발언에 하락...2470선 공방',\n",
       "  '[개장시황] 코스피, 12.98p(0.52%) 내린 2470.66 출발',\n",
       "  '[증시] 코스피, 2,480대 약보합 마감…기관 순매도 상위 종목은 삼성전자·엔...',\n",
       "  \"코스피 · 코스닥 '하락 출발'...시총 상위주 '장초반 약세'\",\n",
       "  \"금리부담에 1월 가계대출 '뚝'…18년 만에 가장 큰 폭 감소\",\n",
       "  '\"펀드통한 간접투자 전성시대 돌아온다\" [대한민국 펀드대상]',\n",
       "  '지난해 유니콘기업 7개 탄생… 총 22개사 ‘역대 최다’',\n",
       "  \"코스피, 기관·외인 팔자세에 '하락'…시총상위株 '약세'\",\n",
       "  \"[어제장 오늘장] 코스피 내리고, 코스닥 오르고…'조정인 듯, 아닌 듯'\",\n",
       "  '코스피 ‘2500돌파’ 위한 3가지 포인트',\n",
       "  '[굿모닝 증시]\"기업 신용도 하방 압력…코스피 소폭 하락 출발 예상\"',\n",
       "  '[시황] 코스피, 기관 매도에 2470선 아래로…코스닥은 1%대 하락 마감',\n",
       "  '“코스피, 2019년과 유사하지만 삼전·SK하닉 이익 전망 달라...2550 돌파 중...',\n",
       "  '[시론] 한국경제의 좋은소식 나쁜소식',\n",
       "  \"코스피, 기관 '팔자세'에 이틀 연속 하락…2469선 마감\",\n",
       "  '다음주 코스피 2450~2580 전망, 중국 경기부양 기대감 속 상승세 지속',\n",
       "  '코스피, 기관·외인 순매도에 하락세…2,460선까지 밀려나',\n",
       "  '코스피, 기관·외인 순매도에 하락세…2,460선까지 밀려나',\n",
       "  '코스피, 외인 순매수에 낙폭 축소…2480대 약보합 마감',\n",
       "  '[개장시황] 코스피, 10.87p(0.44%) 내린 2470.65 출발',\n",
       "  \"코스피 · 코스닥 '하락 출발'...외국인 · 기관 '장초반 매도'\",\n",
       "  '[주간증시]긴축 공포에 코스피 ‘털썩’…“단기 매수 유효”',\n",
       "  '[마켓ING]에스엠 경영권 분쟁, 불붙은 엔터株',\n",
       "  \"삼바·네이버·LG엔솔…'해자' 깊게 판 종목 찾아볼까\",\n",
       "  '작년 국세수입 3년 만에 결손…부동산 불황에 양도세 4.5조↓',\n",
       "  '국내 기업 실적 악화에 신용등급 하방 압력↑ [증시 개장 전 꼭 알아야 할 5가...',\n",
       "  '\"보톡스 1심 승소\"...메디톡스 \\'주가 껑충\\' vs 대웅제약 \\'추락\\'',\n",
       "  '[단독]이재명, ‘경제위기상황판’ 설치…민생으로 이슈 전환',\n",
       "  '[주간증시전망] “코스피 상단 2580 전망…美 물가지표 안정 낙관론 우세”',\n",
       "  '[한證막] 코스피, 美 긴축 장기화 우려에 전주比 0.4%↓',\n",
       "  '염승환 “1980년 디스인플레이션 시기 나스닥 60% 상승”',\n",
       "  \"시장에 다시 번진 '긴축 긴장'…1월 美물가 주목\",\n",
       "  '\"상저하고 전망, 틀린 이유는…\" 한 증권사 애널의 고백 [심성미의 증시 돋보...',\n",
       "  '[한주간 중기 이슈] 작년 韓 유니콘기업 22개사',\n",
       "  '[이주의 주식시장] 챗GPT·AI 챗봇 관련주 강세...오피란제린 주사제 관련주 ...',\n",
       "  \"[증권상품 풍향계] 미국 장기채 레버리지 ETF 출시 '눈길'\",\n",
       "  '[주간증시전망] 美 CPI 발표 앞둔 국내 증시… 낙관적 시각이 필요한 때',\n",
       "  '[주간증시전망]美 CPI 발표 앞둔 코스피…2500선 뚫을까',\n",
       "  '[주간증시전망] ‘디스인플레이션’ 덕에 버틴 코스피… 1월 美 CPI 주목',\n",
       "  '\"이번 주 낙관론이 코스피 달군다\"…최대 2580선 거론 [주간전망]',\n",
       "  '“증시 오름폭 탄력… 이번 주 코스피 최고 2580 낙관”',\n",
       "  '[주간증시전망] 코스피 2500선 돌파 앞두고 업종별 순환매 장세',\n",
       "  '[아주경제 오늘의 뉴스 종합] 하이브, SM 인수한다지만… 아직 카카오와 전쟁...',\n",
       "  '선진지수 편입 위해 외환시장 개방… 성공땐 500억弗 유입 [MSCI·WGBI 지수 ...',\n",
       "  '[서평] 김영익 교수 \"BIG WAVE\"…“준비된 위기는 기회다”',\n",
       "  '정보기술株, 삼성전자 덕에 반등…금융권 \"더 오른다\"',\n",
       "  '美 1월 물가 상승률 최대변수... 완화폭 크지 않을땐 악재될듯 [주간 증시 전...',\n",
       "  '“‘US 인베스팅 챔피언십’ 우승자들 일제히 ‘매수’로 돌아서”',\n",
       "  \"[스타트업TMI] '역대 최다' K-유니콘 22개···한국 10위\",\n",
       "  '[주간증시전망]미국 소비자물가 주목…\"시장 해석이 중요\"',\n",
       "  '1월 美 소비자 물가지수에 쏠린 눈…증시 낙관론 이어질까?',\n",
       "  \"ETF 순위 지각변동 오나… 1위 삼성자산운용 '조마조마'\",\n",
       "  '[증시 풍향계] 외국인 자금 유입… \"순환매 장세 지속\"',\n",
       "  '자사주 올들어 1.3兆 소각 계획… \"미소각 비중 높을수록 기업가치 낮아져\"',\n",
       "  '고개 드는 리츠…\"배당 수익률 집중해 투자해야\"',\n",
       "  '[서평] 김영익 교수 \"BIG WAVE\"…“준비된 위기는 기회다”',\n",
       "  '[이번주 증시] 美 물가 안정 여부가 관건...수급은 긍정적',\n",
       "  '[시황종합] 코스피, 0.69% 하락한 2452선 마감…美 CPI 앞두고 관망',\n",
       "  \"코스피, 기관 '팔자'에 하락…2450대로 약보합\",\n",
       "  '코스피, 2,450대 약보합 마감…관망세 속 기관 대거 매도(종합)',\n",
       "  '[마감시황]코스피, 기관 매도에 하락…2450선 마감',\n",
       "  \"[어제장 오늘장] 넘을 수 없는 '2500의 벽'?…진퇴 거듭하는 코스피\",\n",
       "  '美 1월 CPI 발표 앞두고 원달러 환율 급등…코스피 하락',\n",
       "  '코스피, 미국 물가 발표 앞두고 촉각···2450대 약보합 마감',\n",
       "  '[코스피 마감]긴축 장기화 우려 속 美CPI 경계…0.69% 하락',\n",
       "  '코스피, 2450대 마감...원-달러 환율 1,277.3원',\n",
       "  '[오후시황] 고조된 금리 불확실성…코스피 2440선까지 ‘털썩’',\n",
       "  '[코스피 마감]긴축 장기화 우려 속 美CPI 경계…0.69% 하락',\n",
       "  '코스피, 2450대 마감...원-달러 환율 1,277.3원',\n",
       "  '[오후시황] 고조된 금리 불확실성…코스피 2440선까지 ‘털썩’',\n",
       "  '[오전시황] 美 물가지표에 쏠린 시장의 눈…코스피 2460선 공방',\n",
       "  '[뉴스외전 경제 \\'쏙\\'] \"한국은행, 하반기 기준금리 한 번 낮출 가능성 있어\"',\n",
       "  \"코스피, 기관 '팔자'에 하락…2450대 약보합 마감\",\n",
       "  '코스피, 기관 매도에 약세 출발',\n",
       "  '美 CPI 둔화에 낙관 전망…코스피, 박스권 돌파 노린다',\n",
       "  '[굿모닝증시]美 증시 기술주 중심 약세… 코스피 약보합 출발 전망',\n",
       "  '다가오는 3월 지수 정기변경…\"코스피 중형주 편입에 주목\"',\n",
       "  '기로에 선 코스피, 박스권 장세 예상 [이종우 증시 맥짚기]',\n",
       "  '원·달러 환율 변동성 주목…코스피 소폭 상승 출발 전망 [증시 개장 전 꼭 알...',\n",
       "  '美와 커플링 코스피, 2월엔 달라졌다',\n",
       "  '코스피, 외인·기관 매수세에 상승 출발',\n",
       "  \"[마감시황] 코스피, 美CPI 발표 앞두고 관망세…기관 '사자'에 지수 상승 견인\",\n",
       "  '[굿모닝증시]코스피, 美 CPI 앞두고 관망…종목별 차별화',\n",
       "  \"[뉴스외전 경제 '쏙'] 미국 경기침체 없다? '무착륙 시나리오' 주목\",\n",
       "  '코스피 기관·외국인 매수에 4거래일 만에 반등, 코스닥 이틀 연속 상승',\n",
       "  '코스피, 美물가 발표 앞두고 강보합 반등…2474선 마감',\n",
       "  \"[시황] 코스피, 전종목 강세 띠며 상승 출발…외인·기관 '팔자'\",\n",
       "  '[개장시황] 코스피, 18.63포인트(0.76%) 오른 2471.33 출발',\n",
       "  '고개 드는 낙관론…기술주 사도 될까',\n",
       "  \"컬리 이어 오아시스 상장 철회…'꽁꽁' 얼어붙은 새벽배송 시장\",\n",
       "  '\"마스크 벗자 제대로 날았다\"…올해만 20% 오른 종목',\n",
       "  '尹 우려처럼, 은행은 진짜로 돈잔치?[궁즉답]',\n",
       "  '`인플레 둔화` 베팅…\"불확실성 여전\" [증시프리즘]',\n",
       "  \"'벌써 8조원'…외국인 순매수 약발 언제까지\",\n",
       "  \"[어제장 오늘장] 2400대 '뫼비우스의 띠'…박스권 돌고 돈다\",\n",
       "  '시장도 놀란 美 고용 호조, 금리인하 기대감에 찬물 끼얹다',\n",
       "  '\"中 리오프닝 수혜 집중…철강·운송·조선주 살 때\"',\n",
       "  '기업 이익 쪼그라드는데 ‘코스피 2800’…무엇을 봤나',\n",
       "  '[마감시황]코스피, 2420선까지 후퇴…위험 선호 위축',\n",
       "  \"국내 증시도 혼조, 코스피↓·코스닥↑…2차전지株 '활짝'\",\n",
       "  '\"올해 코스피 2800간다\" 근거 둘…韓증시 흔들 뇌관은 \\'이것\\'',\n",
       "  '[코스피 마감]긴축 장기화 우려 확산…2420선 후퇴',\n",
       "  '[뉴스외전 경제 \\'쏙\\'] \"미국 긴축 조기 종료 기대감 확실히 깨져\"',\n",
       "  '코스피, 1.5% 하락 마감…2,420대로 밀려',\n",
       "  \"[마감시황] 국내증시, 美 물가에 '화들짝'… 코스피 1.5% 이상 급락\",\n",
       "  '코스피, 美 CPI 둔화에도 약세 출발',\n",
       "  '[오늘의 투자전략] 코스피, 0.1% 내외 상승 후 제한 전망…“2500돌파 어려워...',\n",
       "  '[오늘의 투자전략] 코스피, 0.1% 내외 상승 후 제한 전망…“2500돌파 어려워...',\n",
       "  '아시아 증시 끌어내린 미국물가… 외인·기관 매도에 코스피 2440선 후퇴',\n",
       "  '\"미국 물가, 죽지 않아!\"‧‧‧코스피 2430선도 \\'쨍그랑\\'',\n",
       "  '코스피, 원화 약세 심화로 하루만 하락…2427선 마감',\n",
       "  '코스피, 외인·기관 순매수에 상승 마감…환율, 7.9원 하락',\n",
       "  '[개장시황] 코스피, 7.45p(0.30%) 오른 2473.09 출발',\n",
       "  \"코스피 · 코스닥 '상승 출발'...삼성전자 · SK하이닉스 '장초반 강세'\",\n",
       "  \"ETF 90兆 시대…올해 금리형·채권형 순자산 '쑥'\",\n",
       "  \"[단독] 韓 대표 편의점 'CU' 홈페이지도 털렸다...中 해커조직 위협 현실화\",\n",
       "  '예상보다 높은 CPI...\"디스인플레 유지, 금리인하는 아직\"',\n",
       "  '한은 \"쳇GPT 경제분석 유용\"',\n",
       "  \"코스피, 기관·외인 동반 매수에 '상승'…2차전지株 '강세'\",\n",
       "  '코스피, 2% 가까이 상승 마감…2,470대(종합)',\n",
       "  '코스피, 1.96% 오른 2475.48 마감...美 경기 연착륙 기대감',\n",
       "  '[개장시황] 코스피 기관매수 속 2450대서 보합…환율 상승세 지속',\n",
       "  '너무 올랐나…코스피 공매도 이달 21% 늘었다',\n",
       "  '중 제외 아증시 일제 상승, 코스피 2% 급등…최대상승률',\n",
       "  '[시황] 코스피, 외인·기관 동반 매집에 2% 급등…2475.48 마감',\n",
       "  '[뉴스외전 경제 \\'쏙\\'] \"연준, 금리 3번 이상 올릴 것이란 전망 나와\"',\n",
       "  '경기 연착륙 기대…코스피 2500 `정조준` [증시프리즘]',\n",
       "  '경기 연착륙 기대감으로 물가 지표 부담 덜어낸 코스피…2차전지 강세',\n",
       "  '2% 가까이 오른 코스피···전기차 기대감에 기아·현대·LG엔솔 일제히 상승',\n",
       "  '“코스피 추가 조정 있지만 저점은 높아질 것” 전망',\n",
       "  '[마감시황] 코스피, 기관·외인 매수에 2%대 급등해 2470선 마감',\n",
       "  '코스피, 기관-외인 쌍끌이 매수 2% 가까이 상승',\n",
       "  '하루만에 코스피 시장 돌아온 외국인…\"중국 리오프닝 가시화가 변수\"',\n",
       "  \"코스피, 美 증시 반등에 '빨간불'…2% 가까이 상승 마감\",\n",
       "  '코스피, 美증시 훈풍·기관 매수세에 상승 출발',\n",
       "  '[포토] 미국發 희소식… 코스피 1.96% 상승 마감',\n",
       "  '[종합] 美 강한 소매판매에도 코스피·코스닥 1%대 상승률…2452.95',\n",
       "  \"뜨거운 美 경제…다시 '빅스텝' 밟나\",\n",
       "  '환율 급등 1,300원대 육박...코스피 0.98%↓',\n",
       "  '[마감시황] 코스피 1% 가까이 하락…환율 1300원 턱밑까지 올라',\n",
       "  \"주가 하락, 환율 상승…그래도 코스피 '줍줍'하는 외국인 속내는?\",\n",
       "  '코스피, 기관 순매도에 하락…환율 장중 1300원 돌파',\n",
       "  '外人 코스피 폭풍 매수 주춤…\"中 리오프닝에 달렸다\"',\n",
       "  '코스피, 0.9% 하락 출발…美 PPI 소화',\n",
       "  '코스피, 美 증시 급락 여파에 하락…2451선 마감',\n",
       "  '코스피, 1% 하락 마감…美 연준 추가 긴축 우려',\n",
       "  '다음주 코스피 2410~2540 전망, 미국 긴축 불확실성 속 단기 조정 지속',\n",
       "  '코스피, 美 증시 급락 여파에 하락…2451선 마감',\n",
       "  \"[전화연결] 한국 경제 '우려'에서 '둔화'로…정부 첫 공식 진단\",\n",
       "  '[개장시황] 코스피, 27.82p(1.12%) 내린 2447.66 출발',\n",
       "  \"코스피 '하락 출발'...삼성전자 · LG에너지솔루션 '장초반 약세'\",\n",
       "  '금융위, ESG 공시 의무화 일정 세분화 검토',\n",
       "  '되살아난 인플레 공포…환율 장중 1300원 재돌파',\n",
       "  '美 긴축 장기화 우려에 환율 급등...1,300원대 육박',\n",
       "  \"고물가에 다시 고개든 '美 금리 빅스텝'…금융시장 '출렁'\",\n",
       "  \"인플레와 전쟁서 3연타 맞자…Fed 매파들 '빅스텝' 군불때기\",\n",
       "  '\"2200선 추락\" vs \"곧 반등\"…美인플레 우려, 韓증시 두 시각',\n",
       "  '美中서 ‘꿍짝’ 맞으면…올해 말 코스피 2800 간다 [자이앤트TV]',\n",
       "  '[주간증시전망] “코스피 상단 2540 전망…연준 긴축강도 강화 우려”',\n",
       "  '[한證막] 코스피, 美 긴축 우려에 전주比 0.7%↓',\n",
       "  '2023년 세계경제 전망은 어둡지만 동남아 경제는 밝은 이유 [고영경의 아세안...',\n",
       "  '서민들 어쩌나…점점 커지는 살림살이 비관론',\n",
       "  '“과거 낙폭과대주 10개 중 7개는 상승… 지금은 바이오주 투자할 시기”',\n",
       "  '사모 명가들의 공모펀드 출전…주식형 펀드 부활 이끌까',\n",
       "  \"은행株, 尹 '은행 때리기'에 추풍낙엽…외국인 BYE\",\n",
       "  'ESG 공시, 삼성도 영향권…김소영 “제도 전반 정비할 것”',\n",
       "  \"'보톡스' 맞고 급락한 대웅제약, 개미는 오히려 '빚투' 늘렸다\",\n",
       "  '[주간증시전망] 시장은 긍정적인 방향으로… 조정 시 매수 대응 필요',\n",
       "  '코스피, 강달러 속 단기 조정 지속…주목해야 할 업종은? [주간전망]',\n",
       "  '오락가락 경제 전망... \"그래서 주식, 지금 사도 되나요?\" [내돈내산]',\n",
       "  '[증시 풍향계] 23일 금통위 주목… 숨죽이는 코스피',\n",
       "  '올해 증시자금 60조 늘고 외국인 순매수 10조 육박...코스피 2,450대로 마감',\n",
       "  '코스피200 추종 안정적…AI 기법 활용으로 추가 수익도 [이런 펀드 어때요?]',\n",
       "  \"[SR주간브리핑] '한국 경제 둔화 국면', 우려감↑…예금 감소, 주식 투자 증가\",\n",
       "  \"돌아온 강달러 … 외국인 '폭풍매수' 멈췄다\",\n",
       "  '[새벽배송 \\'여명\\' 언제쯤②] \"샛별처럼 떴는데\" 투자 매력 왜 떨어졌나',\n",
       "  '연초 한국 증시서 10조 쏟은 외국인…들썩이는 달러값이 변수',\n",
       "  \"챗GPT가 불러온 '인공지능 전성시대', AI 주식투자 주의할 점은\",\n",
       "  '[주간증시전망]미 연준 긴축 강해질까…단기 조정 가능성',\n",
       "  '연초 한국 증시서 10조 쏟은 외국인…들썩이는 달러값이 변수',\n",
       "  '1분기 실적 눈높이 낮추고 엔터·플랫폼주 관심 가져볼만',\n",
       "  '\"뮤직카우, 저작권 조각 투자로 美 진출…문화금융 아이콘 되겠다\"',\n",
       "  '中 리오프닝 수혜주 옥석 가려라...경기민감주, 소비주 주목',\n",
       "  '증권·부동산 위축에 자산세수 1년새 10조570억원 줄어',\n",
       "  '[이번주 증시] 달러 강세로 증시 부담↑…단기조정 예상',\n",
       "  '강달러에 지수 조정 가능성... 23일 기준금리 향방도 변수 [주간 증시 전망]',\n",
       "  \"챗GPT가 불러온 '인공지능 전성시대', AI 주식투자 주의할 점은\",\n",
       "  '정부 압박에 크게 흔들린 4대 금융지주 주가, 배당주 매력은 여전해',\n",
       "  '코스피, 2,430대로 내려…장 초반 외인·기관 매도(종합)',\n",
       "  \"[뉴스외전 경제 '쏙'] 코스피 '박스권' 언제쯤 벗어날까?\",\n",
       "  '\"코스피, 이번주 2400~2500P…FOMC 의사록·금통위 주목\"',\n",
       "  '코스피, 강보합 마감…中 리오프닝 모멘텀 기대',\n",
       "  '[아주경제 오늘의 뉴스 종합] 우크라 5시간 머문 美 바이든, 5억 달러 군사 지...',\n",
       "  '[이번주 증시 전망] 2450선 횡보하는 코스피…\"2월 CPI 발표 전까지 박스피 이...',\n",
       "  '[마감시황] 코스피 강보합 종료…환율은 4거래일만에 하락',\n",
       "  '[굿모닝증시]코스피 상승 출발 예상…매물 소화',\n",
       "  '주춤하는 코스피…다시 급증한 공매도',\n",
       "  \"연준 빅스텝 '고개'…나침반 잃은 코스피 [증시프리즘]\",\n",
       "  \"연준 빅스텝 '고개'…나침반 잃은 코스피 [증시프리즘]\",\n",
       "  \"코스피 '오락가락'…이번 주 금통위 '촉각'\",\n",
       "  '[개장시황] 外人도 매도…코스피 2430대로 내려, 환율은 1290원대 등락',\n",
       "  '새해 코스피 10% 밀어올렸는데…외국인 원화약세에 ‘주춤’',\n",
       "  '[강원경제 이슈체크] 한국 엥겔지수 상승폭 1위…소득 낮을수록 늘어나는 식비...',\n",
       "  \"[시황] 코스피, 상승출발 후 하락전환 '혼조세'\",\n",
       "  '코스피, 외국인·기관 매도에 약세 출발',\n",
       "  '한국경제TV 와우넷 파트너 이헌상, \"불타기 시작하는 바닥에 투자할 때\"',\n",
       "  '코스피, 中 증시 강세에 상승 반등…2455선 마감',\n",
       "  'LG엔솔 LG화학 3%, 삼성SDI 1.56%↓2차전지주 약세...코스피지수, 강보합 마감',\n",
       "  '코스닥, 석 달째 코스피 앞섰다…중소형株 강세 언제까지?',\n",
       "  '코스피, 2,450대 강보합 마감…환율 1,295.9원(종합)',\n",
       "  '코스피 시총변화 살펴보니…반도체·이차전지 뜨네',\n",
       "  '[마켓뷰] 코스피, 상승 마감… 중국 양회 기대감에 화학·철강株 강세',\n",
       "  '다시 고개 드는 ‘킹 달러’… 외국인 코스피 매수세 주춤',\n",
       "  '[개장시황] 美 휴장 속 코스피 약보합세…환율은 상승출발',\n",
       "  '금통위·양회 앞두고 숨죽인 코스피, 2450대 마감',\n",
       "  '코스피, 약보합 출발‥네이버·카카오 동반 약세',\n",
       "  '[3분증시] 코스피, 중국 재개방 기대 등에 강보합 마감 外',\n",
       "  '[마감시황] 코스피, 별 다른 매수 주체 없이 상승 마감',\n",
       "  \"[어제장 오늘장] '숨 고르는 코스피, 뛰는 코스닥'…금리 결정 앞두고 관망세\",\n",
       "  '[오전시황] 박스권 갇힌 코스피…2460선 공방',\n",
       "  '[마감시황] 코스피, 별 다른 매수 주체 없이 상승 마감',\n",
       "  \"강달러 기조에 환율 1290원 후반…코스피 '혼조세'\",\n",
       "  '[굿모닝증시]美 연체율에 긴장…\"코스피 하락 출발 전망\"',\n",
       "  '[장중시황] 코스피 2460선 등락…\"긴축 우려에 투심 위축\"',\n",
       "  '코스피, 美긴축 관망세 속 강보합…2458선 마감',\n",
       "  '野, \\'워 룸\\' 표방 경제위기대응센터 출범…李 \"민생 혹한기, 위기 극복에 최선...',\n",
       "  '[증시] 코스피, 2,450대 강보합 마감…기관 순매도 상위 종목은 삼성전자·카...',\n",
       "  \"민주, 경제위기대응센터 출범...'文 일자리상황판' 닮은 위기상황판 '눈길'\",\n",
       "  '금리 공포 부활?…파고 휩싸인 코스피 [증시 개장 전 꼭 알아야 할 5가지]',\n",
       "  '코스피, 미국 증시 급락에 하락 출발…환율 1,300원 넘어(종합)',\n",
       "  '미국발 긴축 우려에 코스피 1.7% 하락…환율 1,300원대 재진입',\n",
       "  '코스피, 2430선 붕괴…원·달러 환율 1300원 돌파',\n",
       "  '[마감시황]코스피, 美 증시 쇼크에 1.7% 하락…2410선 후퇴',\n",
       "  '[마켓ING]양호한 경제지표가 오히려 증시 악재…\"긴축약화 꺾이는중\"',\n",
       "  \"아증시 일제 하락, 한국 코스피 1.68%↓ '최대 낙폭'\",\n",
       "  '되살아난 금리 공포…코스피 1.7% 하락하며 2420선 내줘',\n",
       "  \"코스피, 인플레이션 불안에 약세…2410선 '털썩'\",\n",
       "  '연준 긴축 강화 우려에 원·달러 두달만에 1300선 돌파···코스피 1.7% 급락...',\n",
       "  \"아증시 일제 하락, 한국 코스피 1.68%↓ '최대 낙폭'\",\n",
       "  '[어제장 오늘장] 2400에 발 묶인 코스피…코스닥은 \"연준 겁 안 나\"',\n",
       "  '코스피, 美긴축 공포 속 1%대 하락 출발…2430선',\n",
       "  '되살아난 금리 공포…코스피 1.7% 하락하며 2420선 내줘',\n",
       "  '코스피, 긴축 공포에 1.68% 하락…2417.68 마감',\n",
       "  '코스피·코스닥 2%가까이 동반 급락…환율 1300원대 마감',\n",
       "  \"코스피, 인플레이션 불안에 약세…2410선 '털썩'\",\n",
       "  '연준 긴축 강화 우려에 원·달러 두달만에 1300선 돌파···코스피 1.7% 급락...',\n",
       "  ...],\n",
       " ['2023.01.01.',\n",
       "  '2023.01.01.',\n",
       "  '2023.01.01.',\n",
       "  '2023.01.01.',\n",
       "  '2023.01.01.',\n",
       "  '2023.01.01.',\n",
       "  '2023.01.01.',\n",
       "  '2023.01.01.',\n",
       "  '2023.01.01.',\n",
       "  '2023.01.01.',\n",
       "  '2023.01.01.',\n",
       "  '2023.01.01.',\n",
       "  'A15면 1단',\n",
       "  '2023.01.01.',\n",
       "  '2023.01.01.',\n",
       "  '2023.01.01.',\n",
       "  '2023.01.01.',\n",
       "  '13면 1단',\n",
       "  '2023.01.01.',\n",
       "  '2023.01.01.',\n",
       "  '2023.01.02.',\n",
       "  'A9면 3단',\n",
       "  '2023.01.02.',\n",
       "  '2023.01.02.',\n",
       "  '16면 1단',\n",
       "  '2023.01.02.',\n",
       "  '2023.01.02.',\n",
       "  '2023.01.02.',\n",
       "  '2023.01.02.',\n",
       "  '2023.01.02.',\n",
       "  '2023.01.02.',\n",
       "  '2023.01.02.',\n",
       "  '2023.01.02.',\n",
       "  '2023.01.02.',\n",
       "  '2023.01.02.',\n",
       "  '2023.01.02.',\n",
       "  'A25면 1단',\n",
       "  '2023.01.02.',\n",
       "  '2023.01.02.',\n",
       "  '2023.01.02.',\n",
       "  '2023.01.03.',\n",
       "  '2023.01.03.',\n",
       "  '2023.01.03.',\n",
       "  '2023.01.03.',\n",
       "  '2023.01.03.',\n",
       "  '2023.01.03.',\n",
       "  '2023.01.03.',\n",
       "  '2023.01.03.',\n",
       "  'A16면 1단',\n",
       "  '2023.01.03.',\n",
       "  '2023.01.03.',\n",
       "  '2023.01.03.',\n",
       "  '2023.01.03.',\n",
       "  '2023.01.03.',\n",
       "  '2023.01.03.',\n",
       "  '2023.01.03.',\n",
       "  '2023.01.03.',\n",
       "  '2023.01.03.',\n",
       "  '2023.01.03.',\n",
       "  '2023.01.03.',\n",
       "  '2023.01.04.',\n",
       "  '2023.01.04.',\n",
       "  '2023.01.04.',\n",
       "  '2023.01.04.',\n",
       "  'A16면 TOP',\n",
       "  '2023.01.04.',\n",
       "  '2023.01.04.',\n",
       "  'E1면 1단',\n",
       "  '2023.01.04.',\n",
       "  '2023.01.04.',\n",
       "  '2023.01.04.',\n",
       "  '2023.01.04.',\n",
       "  '2023.01.04.',\n",
       "  '2023.01.04.',\n",
       "  '2023.01.04.',\n",
       "  '2023.01.04.',\n",
       "  '2023.01.04.',\n",
       "  '2023.01.04.',\n",
       "  '2023.01.04.',\n",
       "  '2023.01.04.',\n",
       "  '2023.01.05.',\n",
       "  '2023.01.05.',\n",
       "  '2023.01.05.',\n",
       "  '2023.01.05.',\n",
       "  '2023.01.05.',\n",
       "  '2023.01.05.',\n",
       "  '2023.01.05.',\n",
       "  '2023.01.05.',\n",
       "  '2023.01.05.',\n",
       "  '2023.01.05.',\n",
       "  '2023.01.05.',\n",
       "  '2023.01.05.',\n",
       "  '2023.01.05.',\n",
       "  '2023.01.05.',\n",
       "  'A31면 1단',\n",
       "  '2023.01.05.',\n",
       "  '2023.01.05.',\n",
       "  '2023.01.05.',\n",
       "  '2023.01.05.',\n",
       "  '2023.01.05.',\n",
       "  '2023.01.06.',\n",
       "  '2023.01.06.',\n",
       "  '2023.01.06.',\n",
       "  '2023.01.06.',\n",
       "  'A17면 2단',\n",
       "  '2023.01.06.',\n",
       "  '2023.01.06.',\n",
       "  '2023.01.06.',\n",
       "  '2023.01.06.',\n",
       "  '2023.01.06.',\n",
       "  '2023.01.06.',\n",
       "  '2023.01.06.',\n",
       "  '2023.01.06.',\n",
       "  '14면 9단',\n",
       "  '2023.01.06.',\n",
       "  '2023.01.06.',\n",
       "  '2023.01.06.',\n",
       "  '2023.01.06.',\n",
       "  '2023.01.06.',\n",
       "  '2023.01.06.',\n",
       "  '2023.01.07.',\n",
       "  '2023.01.07.',\n",
       "  '2023.01.07.',\n",
       "  '2023.01.07.',\n",
       "  '2023.01.07.',\n",
       "  '2023.01.07.',\n",
       "  '2023.01.07.',\n",
       "  '2023.01.07.',\n",
       "  '2023.01.07.',\n",
       "  '2023.01.07.',\n",
       "  '2023.01.08.',\n",
       "  '2023.01.08.',\n",
       "  '2023.01.08.',\n",
       "  '2023.01.08.',\n",
       "  '2023.01.08.',\n",
       "  '2023.01.08.',\n",
       "  'A20면 1단',\n",
       "  '2023.01.08.',\n",
       "  '17면 -1단',\n",
       "  '2023.01.08.',\n",
       "  '2023.01.08.',\n",
       "  '2023.01.08.',\n",
       "  'A18면 1단',\n",
       "  '2023.01.08.',\n",
       "  '17면 -1단',\n",
       "  '2023.01.08.',\n",
       "  '2023.01.08.',\n",
       "  '2023.01.08.',\n",
       "  '2023.01.08.',\n",
       "  '2023.01.08.',\n",
       "  '2023.01.09.',\n",
       "  'A2면 1단',\n",
       "  '2023.01.09.',\n",
       "  '7면 1단',\n",
       "  '2023.01.09.',\n",
       "  '2023.01.09.',\n",
       "  'A17면 1단',\n",
       "  '2023.01.09.',\n",
       "  '2023.01.09.',\n",
       "  'B1면 1단',\n",
       "  '2023.01.09.',\n",
       "  '2023.01.09.',\n",
       "  '2023.01.09.',\n",
       "  '2023.01.09.',\n",
       "  '2023.01.09.',\n",
       "  '2023.01.09.',\n",
       "  '2023.01.09.',\n",
       "  '2023.01.09.',\n",
       "  '2023.01.09.',\n",
       "  '2023.01.09.',\n",
       "  '2023.01.10.',\n",
       "  '2023.01.10.',\n",
       "  '2023.01.10.',\n",
       "  'A16면 TOP',\n",
       "  '2023.01.10.',\n",
       "  '2023.01.10.',\n",
       "  '2023.01.10.',\n",
       "  '2023.01.10.',\n",
       "  '2023.01.10.',\n",
       "  '2023.01.10.',\n",
       "  '2023.01.10.',\n",
       "  '2023.01.10.',\n",
       "  '2023.01.10.',\n",
       "  '2023.01.10.',\n",
       "  '2023.01.10.',\n",
       "  '2023.01.10.',\n",
       "  '2023.01.10.',\n",
       "  '2023.01.10.',\n",
       "  '2023.01.10.',\n",
       "  '2023.01.10.',\n",
       "  '2023.01.11.',\n",
       "  'A20면 1단',\n",
       "  '2023.01.11.',\n",
       "  '2023.01.11.',\n",
       "  '2023.01.11.',\n",
       "  'A3면 TOP',\n",
       "  '2023.01.11.',\n",
       "  '2023.01.11.',\n",
       "  '2023.01.11.',\n",
       "  '2023.01.11.',\n",
       "  '2023.01.11.',\n",
       "  '2023.01.11.',\n",
       "  '2023.01.11.',\n",
       "  '2023.01.11.',\n",
       "  '2023.01.11.',\n",
       "  '2023.01.11.',\n",
       "  'A19면 1단',\n",
       "  '2023.01.11.',\n",
       "  '2023.01.11.',\n",
       "  '2023.01.11.',\n",
       "  '2023.01.12.',\n",
       "  'A16면 TOP',\n",
       "  '2023.01.12.',\n",
       "  '2023.01.12.',\n",
       "  '2023.01.12.',\n",
       "  '2023.01.12.',\n",
       "  '2023.01.12.',\n",
       "  '2023.01.12.',\n",
       "  '2023.01.12.',\n",
       "  '2023.01.12.',\n",
       "  '2023.01.12.',\n",
       "  '2023.01.12.',\n",
       "  '2023.01.12.',\n",
       "  '2023.01.12.',\n",
       "  '2023.01.12.',\n",
       "  '2023.01.12.',\n",
       "  '2023.01.12.',\n",
       "  '2023.01.12.',\n",
       "  '2023.01.12.',\n",
       "  '2023.01.12.',\n",
       "  '2023.01.13.',\n",
       "  '2023.01.13.',\n",
       "  '2023.01.13.',\n",
       "  '2023.01.13.',\n",
       "  '2023.01.13.',\n",
       "  '2023.01.13.',\n",
       "  '2023.01.13.',\n",
       "  '2023.01.13.',\n",
       "  '2023.01.13.',\n",
       "  '2023.01.13.',\n",
       "  '2023.01.13.',\n",
       "  '2023.01.13.',\n",
       "  '2023.01.13.',\n",
       "  '2023.01.13.',\n",
       "  '2023.01.13.',\n",
       "  '2023.01.13.',\n",
       "  '2023.01.13.',\n",
       "  '2023.01.13.',\n",
       "  '2023.01.13.',\n",
       "  '2023.01.13.',\n",
       "  '2023.01.14.',\n",
       "  '2023.01.14.',\n",
       "  '2023.01.14.',\n",
       "  '2023.01.14.',\n",
       "  '2023.01.14.',\n",
       "  '2023.01.14.',\n",
       "  '2023.01.14.',\n",
       "  '2023.01.14.',\n",
       "  '2023.01.14.',\n",
       "  '2023.01.14.',\n",
       "  'T3면 1단',\n",
       "  '2023.01.14.',\n",
       "  '2023.01.14.',\n",
       "  '2023.01.15.',\n",
       "  '2023.01.15.',\n",
       "  '2023.01.15.',\n",
       "  '2023.01.15.',\n",
       "  '2023.01.15.',\n",
       "  '26면 1단',\n",
       "  '2023.01.15.',\n",
       "  '2023.01.15.',\n",
       "  '2023.01.15.',\n",
       "  '2023.01.15.',\n",
       "  'A18면 1단',\n",
       "  '2023.01.15.',\n",
       "  '2023.01.15.',\n",
       "  'A16면 1단',\n",
       "  '2023.01.15.',\n",
       "  '8면 1단',\n",
       "  '2023.01.15.',\n",
       "  '2023.01.15.',\n",
       "  '2023.01.15.',\n",
       "  '2023.01.15.',\n",
       "  '2023.01.16.',\n",
       "  '2023.01.16.',\n",
       "  'A17면 1단',\n",
       "  '2023.01.16.',\n",
       "  '2023.01.16.',\n",
       "  'A17면 TOP',\n",
       "  '2023.01.16.',\n",
       "  '2023.01.16.',\n",
       "  '2023.01.16.',\n",
       "  'B6면 1단',\n",
       "  '15면 TOP',\n",
       "  '2023.01.16.',\n",
       "  '2023.01.16.',\n",
       "  '2023.01.16.',\n",
       "  '2023.01.16.',\n",
       "  '2023.01.16.',\n",
       "  '2023.01.16.',\n",
       "  '2023.01.16.',\n",
       "  '2023.01.16.',\n",
       "  '2023.01.16.',\n",
       "  '2023.01.17.',\n",
       "  '2023.01.17.',\n",
       "  'A18면 1단',\n",
       "  '2023.01.17.',\n",
       "  '2023.01.17.',\n",
       "  '2023.01.17.',\n",
       "  '2023.01.17.',\n",
       "  '2023.01.17.',\n",
       "  '2023.01.17.',\n",
       "  '2023.01.17.',\n",
       "  '2023.01.17.',\n",
       "  '2023.01.17.',\n",
       "  '2023.01.17.',\n",
       "  '2023.01.17.',\n",
       "  '2023.01.17.',\n",
       "  '2023.01.17.',\n",
       "  '2023.01.17.',\n",
       "  '2023.01.17.',\n",
       "  '2023.01.17.',\n",
       "  '2023.01.17.',\n",
       "  '2023.01.18.',\n",
       "  '2023.01.18.',\n",
       "  'A16면 2단',\n",
       "  '2023.01.18.',\n",
       "  '2023.01.18.',\n",
       "  '2023.01.18.',\n",
       "  '2023.01.18.',\n",
       "  '2023.01.18.',\n",
       "  '2023.01.18.',\n",
       "  '2023.01.18.',\n",
       "  '2023.01.18.',\n",
       "  '2023.01.18.',\n",
       "  '2023.01.18.',\n",
       "  '2023.01.18.',\n",
       "  '2023.01.18.',\n",
       "  '2023.01.18.',\n",
       "  '2023.01.18.',\n",
       "  '2023.01.18.',\n",
       "  '2023.01.18.',\n",
       "  '2023.01.18.',\n",
       "  '2023.01.19.',\n",
       "  '2023.01.19.',\n",
       "  '2023.01.19.',\n",
       "  '2023.01.19.',\n",
       "  'A18면 TOP',\n",
       "  '2023.01.19.',\n",
       "  '2023.01.19.',\n",
       "  '2023.01.19.',\n",
       "  '2023.01.19.',\n",
       "  '2023.01.19.',\n",
       "  '2023.01.19.',\n",
       "  '2023.01.19.',\n",
       "  '2023.01.19.',\n",
       "  '2023.01.19.',\n",
       "  '2023.01.19.',\n",
       "  '2023.01.19.',\n",
       "  '2023.01.19.',\n",
       "  '2023.01.19.',\n",
       "  '2023.01.19.',\n",
       "  '2023.01.19.',\n",
       "  '2023.01.20.',\n",
       "  '2023.01.20.',\n",
       "  '2023.01.20.',\n",
       "  '2023.01.20.',\n",
       "  '2023.01.20.',\n",
       "  '2023.01.20.',\n",
       "  '2023.01.20.',\n",
       "  '2023.01.20.',\n",
       "  '2023.01.20.',\n",
       "  '2023.01.20.',\n",
       "  '2023.01.20.',\n",
       "  '2023.01.20.',\n",
       "  '2023.01.20.',\n",
       "  '2023.01.20.',\n",
       "  '2023.01.20.',\n",
       "  '2023.01.20.',\n",
       "  '2023.01.20.',\n",
       "  '2023.01.20.',\n",
       "  '2023.01.20.',\n",
       "  'A15면 TOP',\n",
       "  '2023.01.21.',\n",
       "  '2023.01.21.',\n",
       "  'A23면 1단',\n",
       "  '2023.01.21.',\n",
       "  '2023.01.21.',\n",
       "  '2023.01.21.',\n",
       "  '2023.01.21.',\n",
       "  '2023.01.21.',\n",
       "  'A24면 TOP',\n",
       "  '2023.01.21.',\n",
       "  'T7면 1단',\n",
       "  '2023.01.22.',\n",
       "  '2023.01.22.',\n",
       "  '2023.01.22.',\n",
       "  '2023.01.22.',\n",
       "  '2023.01.22.',\n",
       "  '2023.01.22.',\n",
       "  '2023.01.22.',\n",
       "  '2023.01.22.',\n",
       "  '2023.01.22.',\n",
       "  '2023.01.22.',\n",
       "  '2023.01.22.',\n",
       "  '2023.01.22.',\n",
       "  '2023.01.22.',\n",
       "  '2023.01.22.',\n",
       "  '2023.01.22.',\n",
       "  '2023.01.22.',\n",
       "  '2023.01.22.',\n",
       "  '2023.01.22.',\n",
       "  '2023.01.22.',\n",
       "  '2023.01.22.',\n",
       "  '2023.01.23.',\n",
       "  '2023.01.23.',\n",
       "  '2023.01.23.',\n",
       "  '2023.01.23.',\n",
       "  '2023.01.23.',\n",
       "  '2023.01.23.',\n",
       "  '2023.01.23.',\n",
       "  '2023.01.23.',\n",
       "  '2023.01.23.',\n",
       "  '2023.01.23.',\n",
       "  '27면 1단',\n",
       "  '2023.01.23.',\n",
       "  '2023.01.23.',\n",
       "  '2023.01.23.',\n",
       "  '2023.01.23.',\n",
       "  '2023.01.23.',\n",
       "  '2023.01.23.',\n",
       "  '2023.01.23.',\n",
       "  '2023.01.23.',\n",
       "  '2023.01.23.',\n",
       "  '2023.01.24.',\n",
       "  '4면 1단',\n",
       "  '2023.01.24.',\n",
       "  '27면 1단',\n",
       "  '2023.01.24.',\n",
       "  '13면 1단',\n",
       "  '2023.01.24.',\n",
       "  '2023.01.24.',\n",
       "  '2023.01.24.',\n",
       "  '2023.01.24.',\n",
       "  '2023.01.24.',\n",
       "  '2023.01.24.',\n",
       "  '2023.01.24.',\n",
       "  '2023.01.24.',\n",
       "  'A19면 1단',\n",
       "  '2023.01.24.',\n",
       "  '2023.01.24.',\n",
       "  '2023.01.24.',\n",
       "  '2023.01.24.',\n",
       "  '2023.01.24.',\n",
       "  '2023.01.25.',\n",
       "  '2023.01.25.',\n",
       "  '2023.01.25.',\n",
       "  '2023.01.25.',\n",
       "  '2023.01.25.',\n",
       "  '8면 TOP',\n",
       "  '2023.01.25.',\n",
       "  '16면 1단',\n",
       "  '2023.01.25.',\n",
       "  '2023.01.25.',\n",
       "  '2023.01.25.',\n",
       "  '2023.01.25.',\n",
       "  '2023.01.25.',\n",
       "  '2023.01.25.',\n",
       "  '2023.01.25.',\n",
       "  '2023.01.25.',\n",
       "  '2023.01.25.',\n",
       "  '2023.01.25.',\n",
       "  '2023.01.25.',\n",
       "  '1면 1단',\n",
       "  '2023.01.26.',\n",
       "  '2023.01.26.',\n",
       "  '2023.01.26.',\n",
       "  '2023.01.26.',\n",
       "  '2023.01.26.',\n",
       "  '2023.01.26.',\n",
       "  '2023.01.26.',\n",
       "  '2023.01.26.',\n",
       "  '2023.01.26.',\n",
       "  '2023.01.26.',\n",
       "  '2023.01.26.',\n",
       "  '2023.01.26.',\n",
       "  '2023.01.26.',\n",
       "  '2023.01.26.',\n",
       "  '2023.01.26.',\n",
       "  '2023.01.26.',\n",
       "  '2023.01.26.',\n",
       "  '2023.01.26.',\n",
       "  '2023.01.26.',\n",
       "  '2023.01.26.',\n",
       "  '2023.01.27.',\n",
       "  '2023.01.27.',\n",
       "  'A3면 1단',\n",
       "  '2023.01.27.',\n",
       "  '2023.01.27.',\n",
       "  '2023.01.27.',\n",
       "  '2023.01.27.',\n",
       "  '2023.01.27.',\n",
       "  '2023.01.27.',\n",
       "  '2023.01.27.',\n",
       "  '2023.01.27.',\n",
       "  '2023.01.27.',\n",
       "  '2023.01.27.',\n",
       "  '2023.01.27.',\n",
       "  '2023.01.27.',\n",
       "  '2023.01.27.',\n",
       "  '2023.01.27.',\n",
       "  '2023.01.27.',\n",
       "  '2023.01.27.',\n",
       "  '2023.01.27.',\n",
       "  '2023.01.28.',\n",
       "  '2023.01.28.',\n",
       "  '2023.01.28.',\n",
       "  '2023.01.28.',\n",
       "  '2023.01.28.',\n",
       "  '2023.01.28.',\n",
       "  '2023.01.28.',\n",
       "  'T21면 TOP',\n",
       "  '2023.01.28.',\n",
       "  '2023.01.28.',\n",
       "  '2023.01.28.',\n",
       "  '2023.01.28.',\n",
       "  '2023.01.29.',\n",
       "  '2023.01.29.',\n",
       "  '2023.01.29.',\n",
       "  '12면 1단',\n",
       "  '2023.01.29.',\n",
       "  '2023.01.29.',\n",
       "  'A19면 3단',\n",
       "  '2023.01.29.',\n",
       "  'A11면 1단',\n",
       "  '2023.01.29.',\n",
       "  'A3면 1단',\n",
       "  '2023.01.29.',\n",
       "  '14면 1단',\n",
       "  '2023.01.29.',\n",
       "  '2023.01.29.',\n",
       "  '2023.01.29.',\n",
       "  '2023.01.29.',\n",
       "  '2023.01.29.',\n",
       "  'A20면 1단',\n",
       "  '2023.01.29.',\n",
       "  '2023.01.30.',\n",
       "  '2023.01.30.',\n",
       "  '2023.01.30.',\n",
       "  '2023.01.30.',\n",
       "  '2023.01.30.',\n",
       "  '2023.01.30.',\n",
       "  '2023.01.30.',\n",
       "  '2023.01.30.',\n",
       "  '2023.01.30.',\n",
       "  '2023.01.30.',\n",
       "  '2023.01.30.',\n",
       "  '2023.01.30.',\n",
       "  '2023.01.30.',\n",
       "  '2023.01.30.',\n",
       "  '2023.01.30.',\n",
       "  '2023.01.30.',\n",
       "  '2023.01.30.',\n",
       "  '2023.01.30.',\n",
       "  '2023.01.30.',\n",
       "  '2023.01.30.',\n",
       "  '2023.01.31.',\n",
       "  '2023.01.31.',\n",
       "  '2023.01.31.',\n",
       "  '2023.01.31.',\n",
       "  '2023.01.31.',\n",
       "  '2023.01.31.',\n",
       "  '2023.01.31.',\n",
       "  '2023.01.31.',\n",
       "  '2023.01.31.',\n",
       "  '19면 TOP',\n",
       "  '2023.01.31.',\n",
       "  '2023.01.31.',\n",
       "  '2023.01.31.',\n",
       "  '2023.01.31.',\n",
       "  '2023.01.31.',\n",
       "  '2023.01.31.',\n",
       "  '2023.01.31.',\n",
       "  '4면 TOP',\n",
       "  '2023.01.31.',\n",
       "  '2023.01.31.',\n",
       "  '2023.02.01.',\n",
       "  '2023.02.01.',\n",
       "  '2023.02.01.',\n",
       "  '2023.02.01.',\n",
       "  '2023.02.01.',\n",
       "  '2023.02.01.',\n",
       "  '2023.02.01.',\n",
       "  '14면 TOP',\n",
       "  '2023.02.01.',\n",
       "  '2023.02.01.',\n",
       "  '2023.02.01.',\n",
       "  '2023.02.01.',\n",
       "  '2023.02.01.',\n",
       "  '2023.02.01.',\n",
       "  '2023.02.01.',\n",
       "  '2023.02.01.',\n",
       "  '2023.02.01.',\n",
       "  '2023.02.01.',\n",
       "  '2023.02.01.',\n",
       "  '2023.02.01.',\n",
       "  '2023.02.02.',\n",
       "  '2023.02.02.',\n",
       "  '2023.02.02.',\n",
       "  '2023.02.02.',\n",
       "  '2023.02.02.',\n",
       "  '2023.02.02.',\n",
       "  '2023.02.02.',\n",
       "  '2023.02.02.',\n",
       "  '2023.02.02.',\n",
       "  '2023.02.02.',\n",
       "  '2023.02.02.',\n",
       "  '2023.02.02.',\n",
       "  '2023.02.02.',\n",
       "  '2023.02.02.',\n",
       "  '2023.02.02.',\n",
       "  '2023.02.02.',\n",
       "  '2023.02.02.',\n",
       "  '2023.02.02.',\n",
       "  '2023.02.02.',\n",
       "  '2023.02.02.',\n",
       "  '2023.02.03.',\n",
       "  '2023.02.03.',\n",
       "  '2023.02.03.',\n",
       "  '2023.02.03.',\n",
       "  '2023.02.03.',\n",
       "  '2023.02.03.',\n",
       "  '2023.02.03.',\n",
       "  '2023.02.03.',\n",
       "  '2023.02.03.',\n",
       "  '2023.02.03.',\n",
       "  '2023.02.03.',\n",
       "  '2023.02.03.',\n",
       "  '2023.02.03.',\n",
       "  '2023.02.03.',\n",
       "  'A15면 TOP',\n",
       "  '2023.02.03.',\n",
       "  '2023.02.03.',\n",
       "  '1면 1단',\n",
       "  '2023.02.03.',\n",
       "  '2023.02.03.',\n",
       "  '2023.02.04.',\n",
       "  '2023.02.04.',\n",
       "  '2023.02.04.',\n",
       "  '2023.02.04.',\n",
       "  '2023.02.04.',\n",
       "  '2023.02.04.',\n",
       "  '2023.02.04.',\n",
       "  '2023.02.04.',\n",
       "  '2023.02.04.',\n",
       "  '2023.02.04.',\n",
       "  '2023.02.04.',\n",
       "  '2023.02.04.',\n",
       "  '4면 TOP',\n",
       "  '2023.02.04.',\n",
       "  '2023.02.04.',\n",
       "  '2023.02.05.',\n",
       "  '2023.02.05.',\n",
       "  '2023.02.05.',\n",
       "  '2023.02.05.',\n",
       "  '2023.02.05.',\n",
       "  'A16면 1단',\n",
       "  '2023.02.05.',\n",
       "  '27면 1단',\n",
       "  '2023.02.05.',\n",
       "  '2023.02.05.',\n",
       "  '2023.02.05.',\n",
       "  '2023.02.05.',\n",
       "  '2023.02.05.',\n",
       "  '2023.02.05.',\n",
       "  '14면 1단',\n",
       "  '2023.02.05.',\n",
       "  '2023.02.05.',\n",
       "  '2023.02.05.',\n",
       "  '2023.02.05.',\n",
       "  '2023.02.05.',\n",
       "  'A19면 1단',\n",
       "  '2023.02.06.',\n",
       "  '2023.02.06.',\n",
       "  '2023.02.06.',\n",
       "  '2023.02.06.',\n",
       "  '1면 1단',\n",
       "  '2023.02.06.',\n",
       "  '2023.02.06.',\n",
       "  '2023.02.06.',\n",
       "  '2023.02.06.',\n",
       "  '2023.02.06.',\n",
       "  '2023.02.06.',\n",
       "  '2023.02.06.',\n",
       "  '2023.02.06.',\n",
       "  '2023.02.06.',\n",
       "  '2023.02.06.',\n",
       "  '2023.02.06.',\n",
       "  '2023.02.06.',\n",
       "  '2023.02.06.',\n",
       "  '2023.02.06.',\n",
       "  '13면 1단',\n",
       "  '2023.02.07.',\n",
       "  '2023.02.07.',\n",
       "  '15면 TOP',\n",
       "  '2023.02.07.',\n",
       "  '2023.02.07.',\n",
       "  '2023.02.07.',\n",
       "  '2023.02.07.',\n",
       "  '2023.02.07.',\n",
       "  '2023.02.07.',\n",
       "  '2023.02.07.',\n",
       "  '2023.02.07.',\n",
       "  '2023.02.07.',\n",
       "  '2023.02.07.',\n",
       "  '2023.02.07.',\n",
       "  '2023.02.07.',\n",
       "  '2023.02.07.',\n",
       "  '2023.02.07.',\n",
       "  '2023.02.07.',\n",
       "  'A16면 5단',\n",
       "  'A2면 1단',\n",
       "  '2023.02.08.',\n",
       "  'A1면 1단',\n",
       "  '2023.02.08.',\n",
       "  '2023.02.08.',\n",
       "  '2023.02.08.',\n",
       "  '2023.02.08.',\n",
       "  '2023.02.08.',\n",
       "  '2023.02.08.',\n",
       "  '2023.02.08.',\n",
       "  '2023.02.08.',\n",
       "  '2023.02.08.',\n",
       "  '2023.02.08.',\n",
       "  '2023.02.08.',\n",
       "  '2023.02.08.',\n",
       "  '2023.02.08.',\n",
       "  '2023.02.08.',\n",
       "  '2023.02.08.',\n",
       "  '2023.02.08.',\n",
       "  'B5면 1단',\n",
       "  '2023.02.09.',\n",
       "  '15면 1단',\n",
       "  '2023.02.09.',\n",
       "  '14면 TOP',\n",
       "  '2023.02.09.',\n",
       "  '2023.02.09.',\n",
       "  '2023.02.09.',\n",
       "  '2023.02.09.',\n",
       "  '2023.02.09.',\n",
       "  '2023.02.09.',\n",
       "  '2023.02.09.',\n",
       "  '2023.02.09.',\n",
       "  '2023.02.09.',\n",
       "  '2023.02.09.',\n",
       "  '2023.02.09.',\n",
       "  '2023.02.09.',\n",
       "  '2023.02.09.',\n",
       "  '2023.02.09.',\n",
       "  '2023.02.09.',\n",
       "  '2023.02.09.',\n",
       "  '2023.02.10.',\n",
       "  '2023.02.10.',\n",
       "  '14면 TOP',\n",
       "  '2023.02.10.',\n",
       "  '2023.02.10.',\n",
       "  '2023.02.10.',\n",
       "  '2023.02.10.',\n",
       "  '2023.02.10.',\n",
       "  '2023.02.10.',\n",
       "  '2023.02.10.',\n",
       "  '2023.02.10.',\n",
       "  '2023.02.10.',\n",
       "  '2023.02.10.',\n",
       "  '2023.02.10.',\n",
       "  '2023.02.10.',\n",
       "  '2023.02.10.',\n",
       "  'A15면 TOP',\n",
       "  '2023.02.10.',\n",
       "  '2023.02.10.',\n",
       "  '2023.02.10.',\n",
       "  '2023.02.11.',\n",
       "  '2023.02.11.',\n",
       "  '2023.02.11.',\n",
       "  '2023.02.11.',\n",
       "  '2023.02.11.',\n",
       "  '2023.02.11.',\n",
       "  '2023.02.11.',\n",
       "  '2023.02.11.',\n",
       "  '2023.02.11.',\n",
       "  '2023.02.11.',\n",
       "  'A16면 1단',\n",
       "  '2023.02.12.',\n",
       "  '2023.02.12.',\n",
       "  '2023.02.12.',\n",
       "  '2023.02.12.',\n",
       "  '2023.02.12.',\n",
       "  '2023.02.12.',\n",
       "  '3면 1단',\n",
       "  '2023.02.12.',\n",
       "  '2023.02.12.',\n",
       "  '2023.02.12.',\n",
       "  '2023.02.12.',\n",
       "  '2023.02.12.',\n",
       "  '27면 1단',\n",
       "  '2023.02.12.',\n",
       "  '2023.02.12.',\n",
       "  '15면 1단',\n",
       "  '2023.02.12.',\n",
       "  '2023.02.12.',\n",
       "  '2023.02.12.',\n",
       "  '2023.02.13.',\n",
       "  '2023.02.13.',\n",
       "  '2023.02.13.',\n",
       "  '2023.02.13.',\n",
       "  '2023.02.13.',\n",
       "  '2023.02.13.',\n",
       "  '2023.02.13.',\n",
       "  '2023.02.13.',\n",
       "  '2023.02.13.',\n",
       "  '2023.02.13.',\n",
       "  '2023.02.13.',\n",
       "  '2023.02.13.',\n",
       "  '2023.02.13.',\n",
       "  '2023.02.13.',\n",
       "  '2023.02.13.',\n",
       "  '2023.02.13.',\n",
       "  '2023.02.13.',\n",
       "  '2023.02.13.',\n",
       "  '2023.02.13.',\n",
       "  '2023.02.13.',\n",
       "  '2023.02.14.',\n",
       "  '2023.02.14.',\n",
       "  '15면 TOP',\n",
       "  '2023.02.14.',\n",
       "  '2023.02.14.',\n",
       "  '2023.02.14.',\n",
       "  '2023.02.14.',\n",
       "  '2023.02.14.',\n",
       "  '2023.02.14.',\n",
       "  '2023.02.14.',\n",
       "  '2023.02.14.',\n",
       "  '2023.02.14.',\n",
       "  '2023.02.14.',\n",
       "  '2023.02.14.',\n",
       "  '2023.02.14.',\n",
       "  '2023.02.14.',\n",
       "  'A16면 TOP',\n",
       "  '2023.02.14.',\n",
       "  '2023.02.14.',\n",
       "  '2023.02.14.',\n",
       "  '5면 1단',\n",
       "  '2023.02.15.',\n",
       "  '2023.02.15.',\n",
       "  '2023.02.15.',\n",
       "  '2023.02.15.',\n",
       "  '2023.02.15.',\n",
       "  '2023.02.15.',\n",
       "  '2023.02.15.',\n",
       "  '2023.02.15.',\n",
       "  '2023.02.15.',\n",
       "  '2023.02.15.',\n",
       "  '2023.02.15.',\n",
       "  '2023.02.15.',\n",
       "  '2023.02.15.',\n",
       "  '2023.02.15.',\n",
       "  '2023.02.15.',\n",
       "  '2023.02.15.',\n",
       "  'A16면 TOP',\n",
       "  '2023.02.15.',\n",
       "  '2023.02.15.',\n",
       "  '2023.02.16.',\n",
       "  '2023.02.16.',\n",
       "  '2023.02.16.',\n",
       "  '2023.02.16.',\n",
       "  '2023.02.16.',\n",
       "  'A18면 TOP',\n",
       "  '2023.02.16.',\n",
       "  '2023.02.16.',\n",
       "  '2023.02.16.',\n",
       "  '2023.02.16.',\n",
       "  '2023.02.16.',\n",
       "  '2023.02.16.',\n",
       "  '2023.02.16.',\n",
       "  '2023.02.16.',\n",
       "  '2023.02.16.',\n",
       "  '2023.02.16.',\n",
       "  '2023.02.16.',\n",
       "  '2023.02.16.',\n",
       "  '17면 1단',\n",
       "  '2023.02.16.',\n",
       "  'A1면 1단',\n",
       "  '2023.02.17.',\n",
       "  '2023.02.17.',\n",
       "  '2023.02.17.',\n",
       "  '2023.02.17.',\n",
       "  '2023.02.17.',\n",
       "  '2023.02.17.',\n",
       "  '2023.02.17.',\n",
       "  '2023.02.17.',\n",
       "  '2023.02.17.',\n",
       "  '2023.02.17.',\n",
       "  '2023.02.17.',\n",
       "  '2023.02.17.',\n",
       "  '2023.02.17.',\n",
       "  '2023.02.17.',\n",
       "  '1면 9단',\n",
       "  '2023.02.17.',\n",
       "  '2023.02.17.',\n",
       "  '2023.02.17.',\n",
       "  'A3면 1단',\n",
       "  '2023.02.18.',\n",
       "  '2023.02.18.',\n",
       "  '2023.02.18.',\n",
       "  '2023.02.18.',\n",
       "  '2023.02.18.',\n",
       "  '2023.02.18.',\n",
       "  '2023.02.18.',\n",
       "  '2023.02.18.',\n",
       "  '2023.02.18.',\n",
       "  '2023.02.18.',\n",
       "  '2023.02.18.',\n",
       "  '2023.02.19.',\n",
       "  '15면 TOP',\n",
       "  '2023.02.19.',\n",
       "  '15면 1단',\n",
       "  '2023.02.19.',\n",
       "  '2023.02.19.',\n",
       "  '14면 1단',\n",
       "  '2023.02.19.',\n",
       "  '2023.02.19.',\n",
       "  'A19면 TOP',\n",
       "  '2023.02.19.',\n",
       "  '2023.02.19.',\n",
       "  'B3면 TOP',\n",
       "  '2023.02.19.',\n",
       "  'A12면 1단',\n",
       "  '2023.02.19.',\n",
       "  '2023.02.19.',\n",
       "  '2023.02.19.',\n",
       "  '2023.02.19.',\n",
       "  '14면 1단',\n",
       "  '2023.02.20.',\n",
       "  '2023.02.20.',\n",
       "  '2023.02.20.',\n",
       "  '2023.02.20.',\n",
       "  '2023.02.20.',\n",
       "  '2023.02.20.',\n",
       "  '2023.02.20.',\n",
       "  '2023.02.20.',\n",
       "  '2023.02.20.',\n",
       "  '2023.02.20.',\n",
       "  '2023.02.20.',\n",
       "  '2023.02.20.',\n",
       "  '2023.02.20.',\n",
       "  'E2면 1단',\n",
       "  '2023.02.20.',\n",
       "  '7면 1단',\n",
       "  '2023.02.20.',\n",
       "  '2023.02.20.',\n",
       "  '2023.02.20.',\n",
       "  '2023.02.20.',\n",
       "  'A16면 TOP',\n",
       "  '2023.02.21.',\n",
       "  '2023.02.21.',\n",
       "  '2023.02.21.',\n",
       "  '2023.02.21.',\n",
       "  'B6면 1단',\n",
       "  '2023.02.21.',\n",
       "  '2023.02.21.',\n",
       "  '2023.02.21.',\n",
       "  '2023.02.21.',\n",
       "  '2023.02.21.',\n",
       "  '2023.02.21.',\n",
       "  '2023.02.21.',\n",
       "  '2023.02.21.',\n",
       "  '2023.02.21.',\n",
       "  '2023.02.21.',\n",
       "  '2023.02.21.',\n",
       "  '2023.02.21.',\n",
       "  '2023.02.21.',\n",
       "  '2023.02.21.',\n",
       "  '2023.02.22.',\n",
       "  '2023.02.22.',\n",
       "  '2023.02.22.',\n",
       "  '2023.02.22.',\n",
       "  '2023.02.22.',\n",
       "  '2023.02.22.',\n",
       "  '2023.02.22.',\n",
       "  '2023.02.22.',\n",
       "  '2023.02.22.',\n",
       "  '2023.02.22.',\n",
       "  '2023.02.22.',\n",
       "  '2023.02.22.',\n",
       "  '2023.02.22.',\n",
       "  '2023.02.22.',\n",
       "  '2023.02.22.',\n",
       "  '2023.02.22.',\n",
       "  '2023.02.22.',\n",
       "  '2023.02.22.',\n",
       "  ...]]"
      ]
     },
     "execution_count": 61,
     "metadata": {},
     "output_type": "execute_result"
    }
   ],
   "source": [
    "#잘 수집되었나 출력해볼까요?\n",
    "res"
   ]
  },
  {
   "cell_type": "code",
   "execution_count": 62,
   "metadata": {
    "colab": {
     "base_uri": "https://localhost:8080/",
     "height": 423
    },
    "id": "B3uTsutBwqil",
    "outputId": "46203d9d-dcee-4334-ca60-4fb36f0ee650"
   },
   "outputs": [
    {
     "data": {
      "text/html": [
       "<div>\n",
       "<style scoped>\n",
       "    .dataframe tbody tr th:only-of-type {\n",
       "        vertical-align: middle;\n",
       "    }\n",
       "\n",
       "    .dataframe tbody tr th {\n",
       "        vertical-align: top;\n",
       "    }\n",
       "\n",
       "    .dataframe thead th {\n",
       "        text-align: right;\n",
       "    }\n",
       "</style>\n",
       "<table border=\"1\" class=\"dataframe\">\n",
       "  <thead>\n",
       "    <tr style=\"text-align: right;\">\n",
       "      <th></th>\n",
       "      <th>0</th>\n",
       "      <th>1</th>\n",
       "    </tr>\n",
       "  </thead>\n",
       "  <tbody>\n",
       "    <tr>\n",
       "      <th>0</th>\n",
       "      <td>증권사 리서치센터장들 “새해 증시, 코스피 평균 2075~2590”</td>\n",
       "      <td>2023.01.01.</td>\n",
       "    </tr>\n",
       "    <tr>\n",
       "      <th>1</th>\n",
       "      <td>[2023 증시 전망] 경기침체 본격화 ‘상저하고’…코스피 1940~2800</td>\n",
       "      <td>2023.01.01.</td>\n",
       "    </tr>\n",
       "    <tr>\n",
       "      <th>2</th>\n",
       "      <td>고강도 긴축에 힘 못 쓴 코스피...올해도 '흐림'</td>\n",
       "      <td>2023.01.01.</td>\n",
       "    </tr>\n",
       "    <tr>\n",
       "      <th>3</th>\n",
       "      <td>[2023 주식투자 가이드] 올해 증시 원톱 株인공은 ‘반도체’…코스피 예상 최...</td>\n",
       "      <td>2023.01.01.</td>\n",
       "    </tr>\n",
       "    <tr>\n",
       "      <th>4</th>\n",
       "      <td>코스피 2년 연속 하락 장은 없었다…美中에 기대 걸어볼까 [투자360]</td>\n",
       "      <td>2023.01.01.</td>\n",
       "    </tr>\n",
       "    <tr>\n",
       "      <th>...</th>\n",
       "      <td>...</td>\n",
       "      <td>...</td>\n",
       "    </tr>\n",
       "    <tr>\n",
       "      <th>11815</th>\n",
       "      <td>[오늘의 브릿지경제 1면] \"임인년, 기업하기 좋은 환경으로 대한민국 경제 재...</td>\n",
       "      <td>2021.12.31.</td>\n",
       "    </tr>\n",
       "    <tr>\n",
       "      <th>11816</th>\n",
       "      <td>[경제읽기] 정부, 소상공인 손실보상금 500만 원…\"선지급·후정산\"</td>\n",
       "      <td>2021.12.31.</td>\n",
       "    </tr>\n",
       "    <tr>\n",
       "      <th>11817</th>\n",
       "      <td>2021년 대한민국은 이랬다</td>\n",
       "      <td>2021.12.31.</td>\n",
       "    </tr>\n",
       "    <tr>\n",
       "      <th>11818</th>\n",
       "      <td>[충청브리핑] 거리두기 연장 오늘 발표…사적모임 4인 ‘2주 더’</td>\n",
       "      <td>2021.12.31.</td>\n",
       "    </tr>\n",
       "    <tr>\n",
       "      <th>11819</th>\n",
       "      <td>NFT-디파이 확산에 가상자산산업법 필요성 부상</td>\n",
       "      <td>2021.12.31.</td>\n",
       "    </tr>\n",
       "  </tbody>\n",
       "</table>\n",
       "<p>11820 rows × 2 columns</p>\n",
       "</div>"
      ],
      "text/plain": [
       "                                                     0            1\n",
       "0                증권사 리서치센터장들 “새해 증시, 코스피 평균 2075~2590”  2023.01.01.\n",
       "1           [2023 증시 전망] 경기침체 본격화 ‘상저하고’…코스피 1940~2800  2023.01.01.\n",
       "2                         고강도 긴축에 힘 못 쓴 코스피...올해도 '흐림'  2023.01.01.\n",
       "3      [2023 주식투자 가이드] 올해 증시 원톱 株인공은 ‘반도체’…코스피 예상 최...  2023.01.01.\n",
       "4              코스피 2년 연속 하락 장은 없었다…美中에 기대 걸어볼까 [투자360]  2023.01.01.\n",
       "...                                                ...          ...\n",
       "11815   [오늘의 브릿지경제 1면] \"임인년, 기업하기 좋은 환경으로 대한민국 경제 재...  2021.12.31.\n",
       "11816           [경제읽기] 정부, 소상공인 손실보상금 500만 원…\"선지급·후정산\"  2021.12.31.\n",
       "11817                                  2021년 대한민국은 이랬다  2021.12.31.\n",
       "11818             [충청브리핑] 거리두기 연장 오늘 발표…사적모임 4인 ‘2주 더’  2021.12.31.\n",
       "11819                       NFT-디파이 확산에 가상자산산업법 필요성 부상  2021.12.31.\n",
       "\n",
       "[11820 rows x 2 columns]"
      ]
     },
     "execution_count": 62,
     "metadata": {},
     "output_type": "execute_result"
    }
   ],
   "source": [
    "#데이터 프레임으로 저장하기 \n",
    "df = pd.DataFrame(res)\n",
    "df=df.transpose()\n",
    "df\n"
   ]
  },
  {
   "cell_type": "code",
   "execution_count": 63,
   "metadata": {},
   "outputs": [],
   "source": [
    "#일단 csv로 저장\n",
    "df.to_csv('202101011231.csv', index=False)"
   ]
  },
  {
   "cell_type": "code",
   "execution_count": null,
   "metadata": {},
   "outputs": [],
   "source": []
  },
  {
   "cell_type": "code",
   "execution_count": null,
   "metadata": {},
   "outputs": [],
   "source": []
  },
  {
   "cell_type": "code",
   "execution_count": null,
   "metadata": {},
   "outputs": [],
   "source": [
    "#여기서 부터는 제가 코랩에서 csv 파일 불러와서 이것저것 전처리 한거에요 !\n",
    "#왜 코랩에서 했냐구요~? 주피터에서 크롤링 하고 코랩으로 전처리 해보고 있었답니다~"
   ]
  },
  {
   "cell_type": "code",
   "execution_count": null,
   "metadata": {},
   "outputs": [],
   "source": [
    "import pandas as pd"
   ]
  },
  {
   "cell_type": "code",
   "execution_count": null,
   "metadata": {},
   "outputs": [],
   "source": [
    "#실수로 연습삼아 했던 2023 년것도 섞여 들어와서 제목이 저렇습니다\n",
    "df_1 = pd.read_csv('/content/0201_1231.csv')"
   ]
  },
  {
   "cell_type": "code",
   "execution_count": null,
   "metadata": {},
   "outputs": [],
   "source": [
    "filtered_df_1 = df_1[~df_1['1'].str.contains('면')]\n",
    "filtered_df_1"
   ]
  },
  {
   "cell_type": "code",
   "execution_count": null,
   "metadata": {},
   "outputs": [],
   "source": [
    "filtered_df_1.rename(columns={'1':'Date'}, inplace=True)\n",
    "filtered_df_1.rename(columns={'0':'Title'}, inplace=True)\n",
    "filtered_df_1"
   ]
  },
  {
   "cell_type": "code",
   "execution_count": null,
   "metadata": {},
   "outputs": [],
   "source": [
    "filtered_df_1['Date'] = filtered_df_1['Date'].str.replace(r'\\.$', '')"
   ]
  },
  {
   "cell_type": "code",
   "execution_count": null,
   "metadata": {},
   "outputs": [],
   "source": [
    "filtered_df_1"
   ]
  },
  {
   "cell_type": "code",
   "execution_count": null,
   "metadata": {},
   "outputs": [],
   "source": [
    "filtered_df_1['Date'] = filtered_df_1['Date'].apply(lambda x: pd.to_datetime(str(x), format='%Y-%m-%d'))"
   ]
  },
  {
   "cell_type": "code",
   "execution_count": null,
   "metadata": {},
   "outputs": [],
   "source": [
    "filtered_df_2022 = filtered_df_1[filtered_df_1['Date'].between('2022-01-01', '2022-12-31')]"
   ]
  },
  {
   "cell_type": "code",
   "execution_count": null,
   "metadata": {},
   "outputs": [],
   "source": [
    "filtered_df_2022"
   ]
  },
  {
   "cell_type": "code",
   "execution_count": null,
   "metadata": {},
   "outputs": [],
   "source": []
  },
  {
   "cell_type": "code",
   "execution_count": null,
   "metadata": {},
   "outputs": [],
   "source": [
    "#밑에는 감성분석 코드입니다 ! "
   ]
  },
  {
   "cell_type": "code",
   "execution_count": null,
   "metadata": {
    "id": "MT64tVP2xR2K"
   },
   "outputs": [],
   "source": [
    "import json"
   ]
  },
  {
   "cell_type": "code",
   "execution_count": null,
   "metadata": {
    "id": "r6qLaJBBwqVE"
   },
   "outputs": [],
   "source": [
    "#감성 분석하려면 KNU 에서 정의해놓은 감성사전인 SentiWord_info.json를 다운받아서 이용해야해요!\n",
    "#여기서 부터는 아직 주피터 노트북코드로 변경을 안해서 코랩의 MyDrive라고 적혀있네요 하하\n",
    "try:\n",
    "    with open('/content/drive/MyDrive/최종프로젝트/SentiWord_info.json', encoding='utf-8', mode='r') as f:\n",
    "        SentiWord_info = json.load(f)\n",
    "        sentiword_dic = pd.DataFrame(SentiWord_info)\n",
    "        # DataFrame을 사용한 나머지 처리\n",
    "except json.JSONDecodeError as e:\n",
    "    print(\"JSON 디코딩 오류:\", e)\n",
    "except FileNotFoundError:\n",
    "    print(\"파일을 찾을 수 없거나 잘못된 경로입니다.\")\n",
    "except Exception as e:\n",
    "    print(\"오류가 발생했습니다:\", e)"
   ]
  },
  {
   "cell_type": "code",
   "execution_count": null,
   "metadata": {
    "colab": {
     "base_uri": "https://localhost:8080/"
    },
    "id": "UI_sKhIQxIHj",
    "outputId": "362b8452-537b-4c6a-d095-dcfdb6628e2f"
   },
   "outputs": [],
   "source": [
    "text_0 = df[0]\n",
    "text_0"
   ]
  },
  {
   "cell_type": "code",
   "execution_count": null,
   "metadata": {
    "colab": {
     "base_uri": "https://localhost:8080/"
    },
    "id": "HWA2PRPNxqwB",
    "outputId": "516a5c41-b648-4369-b271-338a1f9fdd13"
   },
   "outputs": [],
   "source": [
    "!pip3 install konlpy"
   ]
  },
  {
   "cell_type": "code",
   "execution_count": null,
   "metadata": {
    "id": "X5YrFo_Lxp_h"
   },
   "outputs": [],
   "source": [
    "\n",
    "# !apt-get update\n",
    "# !apt-get install g++ openjdk-8-jdk python-dev python3-dev\n",
    "# !pip3 install JPype1\n",
    "\n",
    "# %env JAVA_HOME \"/usr/lib/jvm/java-8-openjdk-amd64\""
   ]
  },
  {
   "cell_type": "code",
   "execution_count": null,
   "metadata": {
    "id": "2yzK_ntGxhbp"
   },
   "outputs": [],
   "source": [
    "from konlpy.tag import Okt"
   ]
  },
  {
   "cell_type": "code",
   "execution_count": null,
   "metadata": {
    "id": "LXqdsvePxZYJ"
   },
   "outputs": [],
   "source": [
    "okt=Okt()\n",
    "tokens = [okt.morphs(word) for word in text_0]\n",
    "tokens = list(map(lambda x : \" \".join(x), tokens))"
   ]
  },
  {
   "cell_type": "code",
   "execution_count": null,
   "metadata": {
    "colab": {
     "base_uri": "https://localhost:8080/"
    },
    "id": "klWg9huexcve",
    "outputId": "b93f166c-2e75-4ba9-f4aa-6eefc115566b"
   },
   "outputs": [],
   "source": [
    "tokens[:10]"
   ]
  },
  {
   "cell_type": "code",
   "execution_count": null,
   "metadata": {
    "id": "3Sn-LuDYx7Dp"
   },
   "outputs": [],
   "source": [
    "import pandas as pd\n",
    "\n",
    "df = pd.DataFrame(columns=(\"review\", \"sentiment\"))  # 제목별 극성을 저장하기 위한 데이터프레임 생성\n",
    "idx = 0                                             # 다음 제목으로 넘기기 위한 초기값\n",
    "\n",
    "for token in tokens:                                # 전체 제목에서 문장 하나씩 가져옴\n",
    "  sentiment = 0                                     # 초기 감성값 0으로 설정\n",
    "  for i in range(0, len(sentiword_dic)):            # 감성사전의 모든 단어를 하나씩 선택\n",
    "    if sentiword_dic.word[i] in token:              # 제목 문장에 감성 단어가 있는지 확인\n",
    "      sentiment += int(sentiword_dic.polarity[i])   # 감성단어가 있다면 극성값 합계를 구함.\n",
    "  df.loc[idx] = [token, sentiment]                  # 제목별 극성값을 데이터프레임으로 쌓음\n",
    "  idx += 1                                          # 다음 제목 문장으로 넘어감"
   ]
  },
  {
   "cell_type": "code",
   "execution_count": null,
   "metadata": {
    "colab": {
     "base_uri": "https://localhost:8080/",
     "height": 423
    },
    "id": "_rOlwOWqyGAj",
    "outputId": "a0a14364-73c1-4cb2-f889-4d2da7d9ca58"
   },
   "outputs": [],
   "source": [
    "df"
   ]
  },
  {
   "cell_type": "code",
   "execution_count": null,
   "metadata": {
    "id": "f67irzB3yNS3"
   },
   "outputs": [],
   "source": []
  }
 ],
 "metadata": {
  "colab": {
   "provenance": []
  },
  "kernelspec": {
   "display_name": "Python 3 (ipykernel)",
   "language": "python",
   "name": "python3"
  },
  "language_info": {
   "codemirror_mode": {
    "name": "ipython",
    "version": 3
   },
   "file_extension": ".py",
   "mimetype": "text/x-python",
   "name": "python",
   "nbconvert_exporter": "python",
   "pygments_lexer": "ipython3",
   "version": "3.9.7"
  }
 },
 "nbformat": 4,
 "nbformat_minor": 1
}
