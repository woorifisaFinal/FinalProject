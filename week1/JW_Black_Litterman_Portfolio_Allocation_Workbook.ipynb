{
  "nbformat": 4,
  "nbformat_minor": 0,
  "metadata": {
    "colab": {
      "provenance": []
    },
    "kernelspec": {
      "name": "python3",
      "display_name": "Python 3"
    },
    "language_info": {
      "name": "python"
    }
  },
  "cells": [
    {
      "cell_type": "markdown",
      "metadata": {
        "id": "view-in-github"
      },
      "source": [
        "<a href=\"https://colab.research.google.com/github/eminshall/QuantFinanceWorkbooks/blob/main/Black_Litterman_Portfolio_Allocation_Workbook.ipynb\" target=\"_parent\"><img src=\"https://colab.research.google.com/assets/colab-badge.svg\" alt=\"Open In Colab\"/></a>"
      ]
    },
    {
      "cell_type": "markdown",
      "source": [
        "# Step 1: Data Wrangle"
      ],
      "metadata": {
        "id": "Yfv4QEfGXZRy"
      }
    },
    {
      "cell_type": "code",
      "execution_count": null,
      "metadata": {
        "id": "SoA0v6R1XXoM",
        "colab": {
          "base_uri": "https://localhost:8080/"
        },
        "outputId": "be82a230-7123-4cae-a0eb-c4e637b4f590"
      },
      "outputs": [
        {
          "output_type": "stream",
          "name": "stdout",
          "text": [
            "Requirement already satisfied: yfinance in /usr/local/lib/python3.10/dist-packages (0.2.27)\n",
            "Requirement already satisfied: pandas>=1.3.0 in /usr/local/lib/python3.10/dist-packages (from yfinance) (1.5.3)\n",
            "Requirement already satisfied: numpy>=1.16.5 in /usr/local/lib/python3.10/dist-packages (from yfinance) (1.23.5)\n",
            "Requirement already satisfied: requests>=2.31 in /usr/local/lib/python3.10/dist-packages (from yfinance) (2.31.0)\n",
            "Requirement already satisfied: multitasking>=0.0.7 in /usr/local/lib/python3.10/dist-packages (from yfinance) (0.0.11)\n",
            "Requirement already satisfied: lxml>=4.9.1 in /usr/local/lib/python3.10/dist-packages (from yfinance) (4.9.3)\n",
            "Requirement already satisfied: appdirs>=1.4.4 in /usr/local/lib/python3.10/dist-packages (from yfinance) (1.4.4)\n",
            "Requirement already satisfied: pytz>=2022.5 in /usr/local/lib/python3.10/dist-packages (from yfinance) (2022.7.1)\n",
            "Requirement already satisfied: frozendict>=2.3.4 in /usr/local/lib/python3.10/dist-packages (from yfinance) (2.3.8)\n",
            "Requirement already satisfied: beautifulsoup4>=4.11.1 in /usr/local/lib/python3.10/dist-packages (from yfinance) (4.11.2)\n",
            "Requirement already satisfied: html5lib>=1.1 in /usr/local/lib/python3.10/dist-packages (from yfinance) (1.1)\n",
            "Requirement already satisfied: soupsieve>1.2 in /usr/local/lib/python3.10/dist-packages (from beautifulsoup4>=4.11.1->yfinance) (2.4.1)\n",
            "Requirement already satisfied: six>=1.9 in /usr/local/lib/python3.10/dist-packages (from html5lib>=1.1->yfinance) (1.16.0)\n",
            "Requirement already satisfied: webencodings in /usr/local/lib/python3.10/dist-packages (from html5lib>=1.1->yfinance) (0.5.1)\n",
            "Requirement already satisfied: python-dateutil>=2.8.1 in /usr/local/lib/python3.10/dist-packages (from pandas>=1.3.0->yfinance) (2.8.2)\n",
            "Requirement already satisfied: charset-normalizer<4,>=2 in /usr/local/lib/python3.10/dist-packages (from requests>=2.31->yfinance) (3.2.0)\n",
            "Requirement already satisfied: idna<4,>=2.5 in /usr/local/lib/python3.10/dist-packages (from requests>=2.31->yfinance) (3.4)\n",
            "Requirement already satisfied: urllib3<3,>=1.21.1 in /usr/local/lib/python3.10/dist-packages (from requests>=2.31->yfinance) (1.26.16)\n",
            "Requirement already satisfied: certifi>=2017.4.17 in /usr/local/lib/python3.10/dist-packages (from requests>=2.31->yfinance) (2023.7.22)\n"
          ]
        }
      ],
      "source": [
        "!pip install yfinance"
      ]
    },
    {
      "cell_type": "code",
      "source": [
        "!pip install PyPortfolioOpt"
      ],
      "metadata": {
        "id": "kBcaDsrUX1Yq",
        "colab": {
          "base_uri": "https://localhost:8080/"
        },
        "outputId": "8caeec3b-950d-45c4-fd3a-d47530405c98"
      },
      "execution_count": null,
      "outputs": [
        {
          "output_type": "stream",
          "name": "stdout",
          "text": [
            "Collecting PyPortfolioOpt\n",
            "  Downloading pyportfolioopt-1.5.5-py3-none-any.whl (61 kB)\n",
            "\u001b[?25l     \u001b[90m━━━━━━━━━━━━━━━━━━━━━━━━━━━━━━━━━━━━━━━━\u001b[0m \u001b[32m0.0/61.9 kB\u001b[0m \u001b[31m?\u001b[0m eta \u001b[36m-:--:--\u001b[0m\r\u001b[2K     \u001b[91m━━━━━━━━━━━━━━━━━━━━━━━━━━━━━━━━━━━━━━━\u001b[0m\u001b[91m╸\u001b[0m \u001b[32m61.4/61.9 kB\u001b[0m \u001b[31m1.7 MB/s\u001b[0m eta \u001b[36m0:00:01\u001b[0m\r\u001b[2K     \u001b[90m━━━━━━━━━━━━━━━━━━━━━━━━━━━━━━━━━━━━━━━━\u001b[0m \u001b[32m61.9/61.9 kB\u001b[0m \u001b[31m1.4 MB/s\u001b[0m eta \u001b[36m0:00:00\u001b[0m\n",
            "\u001b[?25hRequirement already satisfied: cvxpy<2.0.0,>=1.1.19 in /usr/local/lib/python3.10/dist-packages (from PyPortfolioOpt) (1.3.2)\n",
            "Requirement already satisfied: numpy<2.0.0,>=1.22.4 in /usr/local/lib/python3.10/dist-packages (from PyPortfolioOpt) (1.23.5)\n",
            "Requirement already satisfied: pandas>=0.19 in /usr/local/lib/python3.10/dist-packages (from PyPortfolioOpt) (1.5.3)\n",
            "Requirement already satisfied: scipy<2.0,>=1.3 in /usr/local/lib/python3.10/dist-packages (from PyPortfolioOpt) (1.10.1)\n",
            "Requirement already satisfied: osqp>=0.4.1 in /usr/local/lib/python3.10/dist-packages (from cvxpy<2.0.0,>=1.1.19->PyPortfolioOpt) (0.6.2.post8)\n",
            "Requirement already satisfied: ecos>=2 in /usr/local/lib/python3.10/dist-packages (from cvxpy<2.0.0,>=1.1.19->PyPortfolioOpt) (2.0.12)\n",
            "Requirement already satisfied: scs>=1.1.6 in /usr/local/lib/python3.10/dist-packages (from cvxpy<2.0.0,>=1.1.19->PyPortfolioOpt) (3.2.3)\n",
            "Requirement already satisfied: setuptools>65.5.1 in /usr/local/lib/python3.10/dist-packages (from cvxpy<2.0.0,>=1.1.19->PyPortfolioOpt) (67.7.2)\n",
            "Requirement already satisfied: python-dateutil>=2.8.1 in /usr/local/lib/python3.10/dist-packages (from pandas>=0.19->PyPortfolioOpt) (2.8.2)\n",
            "Requirement already satisfied: pytz>=2020.1 in /usr/local/lib/python3.10/dist-packages (from pandas>=0.19->PyPortfolioOpt) (2022.7.1)\n",
            "Requirement already satisfied: qdldl in /usr/local/lib/python3.10/dist-packages (from osqp>=0.4.1->cvxpy<2.0.0,>=1.1.19->PyPortfolioOpt) (0.1.7.post0)\n",
            "Requirement already satisfied: six>=1.5 in /usr/local/lib/python3.10/dist-packages (from python-dateutil>=2.8.1->pandas>=0.19->PyPortfolioOpt) (1.16.0)\n",
            "Installing collected packages: PyPortfolioOpt\n",
            "Successfully installed PyPortfolioOpt-1.5.5\n"
          ]
        }
      ]
    },
    {
      "cell_type": "code",
      "source": [
        "#Grab Data\n",
        "import yfinance as yf\n",
        "\n",
        "#Usual Suspects\n",
        "import pandas as pd\n",
        "import numpy as np\n",
        "import matplotlib.pyplot as plt\n",
        "import plotly.express as px\n",
        "import seaborn as sns\n",
        "\n",
        "# Use PyPortfolioOpt for Calculations\n",
        "from pypfopt import EfficientFrontier, objective_functions\n",
        "from pypfopt import black_litterman, risk_models\n",
        "from pypfopt import BlackLittermanModel, plotting\n",
        "from pypfopt import DiscreteAllocation"
      ],
      "metadata": {
        "id": "H-bhqACFXrU7"
      },
      "execution_count": null,
      "outputs": []
    },
    {
      "cell_type": "code",
      "source": [
        "#Create a Portfolio\n",
        "symbols = [\n",
        "    'AAPL',\n",
        "    'MSFT',\n",
        "    'META',\n",
        "    'AMZN',\n",
        "    'XOM',\n",
        "    'UNH',\n",
        "    'JNJ',\n",
        "    'V',\n",
        "    'HD',\n",
        "    'ABBV',\n",
        "    'KO',\n",
        "    'DIS',\n",
        "    'T',\n",
        "    'UPS',\n",
        "    'LMT',\n",
        "    'CAT',\n",
        "    'F',\n",
        "    'MAR',\n",
        "    'O',\n",
        "    'HSY'\n",
        "]"
      ],
      "metadata": {
        "id": "UR7IyoHuXsB0"
      },
      "execution_count": null,
      "outputs": []
    },
    {
      "cell_type": "code",
      "source": [
        "#Get the stock data\n",
        "portfolio = yf.download(symbols, start=\"2018-01-01\", end=\"2022-12-31\")['Adj Close']\n",
        "\n",
        "portfolio.head()"
      ],
      "metadata": {
        "id": "RyFl4TZeZAJC",
        "colab": {
          "base_uri": "https://localhost:8080/",
          "height": 406
        },
        "outputId": "d3672871-916a-44cb-876a-1c16c0c99405"
      },
      "execution_count": null,
      "outputs": [
        {
          "output_type": "stream",
          "name": "stdout",
          "text": [
            "[*********************100%***********************]  20 of 20 completed\n"
          ]
        },
        {
          "output_type": "execute_result",
          "data": {
            "text/plain": [
              "                 AAPL       ABBV       AMZN         CAT         DIS  \\\n",
              "Date                                                                  \n",
              "2018-01-02  40.831589  75.741005  59.450500  136.692078  108.726059   \n",
              "2018-01-03  40.824478  76.926262  60.209999  136.900986  109.192848   \n",
              "2018-01-04  41.014103  76.487556  60.479500  138.781128  109.144241   \n",
              "2018-01-05  41.481075  77.819046  61.457001  140.974579  108.551003   \n",
              "2018-01-08  41.326988  76.572227  62.343498  144.517242  106.994995   \n",
              "\n",
              "                    F          HD         HSY         JNJ         KO  \\\n",
              "Date                                                                   \n",
              "2018-01-02   9.644666  164.704376   99.656075  120.209465  38.256844   \n",
              "2018-01-03   9.720847  165.562805   99.238289  121.357742  38.172825   \n",
              "2018-01-04   9.888451  166.876678   99.931648  121.349144  38.710491   \n",
              "2018-01-05  10.056051  168.619858  100.411644  122.350639  38.702084   \n",
              "2018-01-08  10.017959  168.216873  101.389450  122.506096  38.643269   \n",
              "\n",
              "                   LMT         MAR        META       MSFT          O  \\\n",
              "Date                                                                   \n",
              "2018-01-02  275.557129  128.265472  181.419998  80.562050  42.884052   \n",
              "2018-01-03  277.866852  130.854736  184.669998  80.936966  42.770447   \n",
              "2018-01-04  282.633392  130.135483  184.330002  81.649300  41.846420   \n",
              "2018-01-05  285.194000  128.888794  186.850006  82.661636  41.816139   \n",
              "2018-01-08  283.879089  130.749252  188.279999  82.745987  41.869141   \n",
              "\n",
              "                    T         UNH         UPS           V        XOM  \n",
              "Date                                                                  \n",
              "2018-01-02  18.403522  203.987350  104.181763  110.172302  64.321701  \n",
              "2018-01-03  17.978531  206.127167  106.489990  111.269127  65.584969  \n",
              "2018-01-04  18.145660  207.021866  107.180779  111.682838  65.675758  \n",
              "2018-01-05  18.212513  210.969498  107.509308  114.357559  65.622810  \n",
              "2018-01-08  18.265039  207.307800  108.815033  114.819374  65.917824  "
            ],
            "text/html": [
              "\n",
              "\n",
              "  <div id=\"df-938db854-2fe9-49b8-a33b-b6a4e83601e3\">\n",
              "    <div class=\"colab-df-container\">\n",
              "      <div>\n",
              "<style scoped>\n",
              "    .dataframe tbody tr th:only-of-type {\n",
              "        vertical-align: middle;\n",
              "    }\n",
              "\n",
              "    .dataframe tbody tr th {\n",
              "        vertical-align: top;\n",
              "    }\n",
              "\n",
              "    .dataframe thead th {\n",
              "        text-align: right;\n",
              "    }\n",
              "</style>\n",
              "<table border=\"1\" class=\"dataframe\">\n",
              "  <thead>\n",
              "    <tr style=\"text-align: right;\">\n",
              "      <th></th>\n",
              "      <th>AAPL</th>\n",
              "      <th>ABBV</th>\n",
              "      <th>AMZN</th>\n",
              "      <th>CAT</th>\n",
              "      <th>DIS</th>\n",
              "      <th>F</th>\n",
              "      <th>HD</th>\n",
              "      <th>HSY</th>\n",
              "      <th>JNJ</th>\n",
              "      <th>KO</th>\n",
              "      <th>LMT</th>\n",
              "      <th>MAR</th>\n",
              "      <th>META</th>\n",
              "      <th>MSFT</th>\n",
              "      <th>O</th>\n",
              "      <th>T</th>\n",
              "      <th>UNH</th>\n",
              "      <th>UPS</th>\n",
              "      <th>V</th>\n",
              "      <th>XOM</th>\n",
              "    </tr>\n",
              "    <tr>\n",
              "      <th>Date</th>\n",
              "      <th></th>\n",
              "      <th></th>\n",
              "      <th></th>\n",
              "      <th></th>\n",
              "      <th></th>\n",
              "      <th></th>\n",
              "      <th></th>\n",
              "      <th></th>\n",
              "      <th></th>\n",
              "      <th></th>\n",
              "      <th></th>\n",
              "      <th></th>\n",
              "      <th></th>\n",
              "      <th></th>\n",
              "      <th></th>\n",
              "      <th></th>\n",
              "      <th></th>\n",
              "      <th></th>\n",
              "      <th></th>\n",
              "      <th></th>\n",
              "    </tr>\n",
              "  </thead>\n",
              "  <tbody>\n",
              "    <tr>\n",
              "      <th>2018-01-02</th>\n",
              "      <td>40.831589</td>\n",
              "      <td>75.741005</td>\n",
              "      <td>59.450500</td>\n",
              "      <td>136.692078</td>\n",
              "      <td>108.726059</td>\n",
              "      <td>9.644666</td>\n",
              "      <td>164.704376</td>\n",
              "      <td>99.656075</td>\n",
              "      <td>120.209465</td>\n",
              "      <td>38.256844</td>\n",
              "      <td>275.557129</td>\n",
              "      <td>128.265472</td>\n",
              "      <td>181.419998</td>\n",
              "      <td>80.562050</td>\n",
              "      <td>42.884052</td>\n",
              "      <td>18.403522</td>\n",
              "      <td>203.987350</td>\n",
              "      <td>104.181763</td>\n",
              "      <td>110.172302</td>\n",
              "      <td>64.321701</td>\n",
              "    </tr>\n",
              "    <tr>\n",
              "      <th>2018-01-03</th>\n",
              "      <td>40.824478</td>\n",
              "      <td>76.926262</td>\n",
              "      <td>60.209999</td>\n",
              "      <td>136.900986</td>\n",
              "      <td>109.192848</td>\n",
              "      <td>9.720847</td>\n",
              "      <td>165.562805</td>\n",
              "      <td>99.238289</td>\n",
              "      <td>121.357742</td>\n",
              "      <td>38.172825</td>\n",
              "      <td>277.866852</td>\n",
              "      <td>130.854736</td>\n",
              "      <td>184.669998</td>\n",
              "      <td>80.936966</td>\n",
              "      <td>42.770447</td>\n",
              "      <td>17.978531</td>\n",
              "      <td>206.127167</td>\n",
              "      <td>106.489990</td>\n",
              "      <td>111.269127</td>\n",
              "      <td>65.584969</td>\n",
              "    </tr>\n",
              "    <tr>\n",
              "      <th>2018-01-04</th>\n",
              "      <td>41.014103</td>\n",
              "      <td>76.487556</td>\n",
              "      <td>60.479500</td>\n",
              "      <td>138.781128</td>\n",
              "      <td>109.144241</td>\n",
              "      <td>9.888451</td>\n",
              "      <td>166.876678</td>\n",
              "      <td>99.931648</td>\n",
              "      <td>121.349144</td>\n",
              "      <td>38.710491</td>\n",
              "      <td>282.633392</td>\n",
              "      <td>130.135483</td>\n",
              "      <td>184.330002</td>\n",
              "      <td>81.649300</td>\n",
              "      <td>41.846420</td>\n",
              "      <td>18.145660</td>\n",
              "      <td>207.021866</td>\n",
              "      <td>107.180779</td>\n",
              "      <td>111.682838</td>\n",
              "      <td>65.675758</td>\n",
              "    </tr>\n",
              "    <tr>\n",
              "      <th>2018-01-05</th>\n",
              "      <td>41.481075</td>\n",
              "      <td>77.819046</td>\n",
              "      <td>61.457001</td>\n",
              "      <td>140.974579</td>\n",
              "      <td>108.551003</td>\n",
              "      <td>10.056051</td>\n",
              "      <td>168.619858</td>\n",
              "      <td>100.411644</td>\n",
              "      <td>122.350639</td>\n",
              "      <td>38.702084</td>\n",
              "      <td>285.194000</td>\n",
              "      <td>128.888794</td>\n",
              "      <td>186.850006</td>\n",
              "      <td>82.661636</td>\n",
              "      <td>41.816139</td>\n",
              "      <td>18.212513</td>\n",
              "      <td>210.969498</td>\n",
              "      <td>107.509308</td>\n",
              "      <td>114.357559</td>\n",
              "      <td>65.622810</td>\n",
              "    </tr>\n",
              "    <tr>\n",
              "      <th>2018-01-08</th>\n",
              "      <td>41.326988</td>\n",
              "      <td>76.572227</td>\n",
              "      <td>62.343498</td>\n",
              "      <td>144.517242</td>\n",
              "      <td>106.994995</td>\n",
              "      <td>10.017959</td>\n",
              "      <td>168.216873</td>\n",
              "      <td>101.389450</td>\n",
              "      <td>122.506096</td>\n",
              "      <td>38.643269</td>\n",
              "      <td>283.879089</td>\n",
              "      <td>130.749252</td>\n",
              "      <td>188.279999</td>\n",
              "      <td>82.745987</td>\n",
              "      <td>41.869141</td>\n",
              "      <td>18.265039</td>\n",
              "      <td>207.307800</td>\n",
              "      <td>108.815033</td>\n",
              "      <td>114.819374</td>\n",
              "      <td>65.917824</td>\n",
              "    </tr>\n",
              "  </tbody>\n",
              "</table>\n",
              "</div>\n",
              "      <button class=\"colab-df-convert\" onclick=\"convertToInteractive('df-938db854-2fe9-49b8-a33b-b6a4e83601e3')\"\n",
              "              title=\"Convert this dataframe to an interactive table.\"\n",
              "              style=\"display:none;\">\n",
              "\n",
              "  <svg xmlns=\"http://www.w3.org/2000/svg\" height=\"24px\"viewBox=\"0 0 24 24\"\n",
              "       width=\"24px\">\n",
              "    <path d=\"M0 0h24v24H0V0z\" fill=\"none\"/>\n",
              "    <path d=\"M18.56 5.44l.94 2.06.94-2.06 2.06-.94-2.06-.94-.94-2.06-.94 2.06-2.06.94zm-11 1L8.5 8.5l.94-2.06 2.06-.94-2.06-.94L8.5 2.5l-.94 2.06-2.06.94zm10 10l.94 2.06.94-2.06 2.06-.94-2.06-.94-.94-2.06-.94 2.06-2.06.94z\"/><path d=\"M17.41 7.96l-1.37-1.37c-.4-.4-.92-.59-1.43-.59-.52 0-1.04.2-1.43.59L10.3 9.45l-7.72 7.72c-.78.78-.78 2.05 0 2.83L4 21.41c.39.39.9.59 1.41.59.51 0 1.02-.2 1.41-.59l7.78-7.78 2.81-2.81c.8-.78.8-2.07 0-2.86zM5.41 20L4 18.59l7.72-7.72 1.47 1.35L5.41 20z\"/>\n",
              "  </svg>\n",
              "      </button>\n",
              "\n",
              "\n",
              "\n",
              "    <div id=\"df-8e20822f-5806-4864-a358-093972e6d661\">\n",
              "      <button class=\"colab-df-quickchart\" onclick=\"quickchart('df-8e20822f-5806-4864-a358-093972e6d661')\"\n",
              "              title=\"Suggest charts.\"\n",
              "              style=\"display:none;\">\n",
              "\n",
              "<svg xmlns=\"http://www.w3.org/2000/svg\" height=\"24px\"viewBox=\"0 0 24 24\"\n",
              "     width=\"24px\">\n",
              "    <g>\n",
              "        <path d=\"M19 3H5c-1.1 0-2 .9-2 2v14c0 1.1.9 2 2 2h14c1.1 0 2-.9 2-2V5c0-1.1-.9-2-2-2zM9 17H7v-7h2v7zm4 0h-2V7h2v10zm4 0h-2v-4h2v4z\"/>\n",
              "    </g>\n",
              "</svg>\n",
              "      </button>\n",
              "    </div>\n",
              "\n",
              "<style>\n",
              "  .colab-df-quickchart {\n",
              "    background-color: #E8F0FE;\n",
              "    border: none;\n",
              "    border-radius: 50%;\n",
              "    cursor: pointer;\n",
              "    display: none;\n",
              "    fill: #1967D2;\n",
              "    height: 32px;\n",
              "    padding: 0 0 0 0;\n",
              "    width: 32px;\n",
              "  }\n",
              "\n",
              "  .colab-df-quickchart:hover {\n",
              "    background-color: #E2EBFA;\n",
              "    box-shadow: 0px 1px 2px rgba(60, 64, 67, 0.3), 0px 1px 3px 1px rgba(60, 64, 67, 0.15);\n",
              "    fill: #174EA6;\n",
              "  }\n",
              "\n",
              "  [theme=dark] .colab-df-quickchart {\n",
              "    background-color: #3B4455;\n",
              "    fill: #D2E3FC;\n",
              "  }\n",
              "\n",
              "  [theme=dark] .colab-df-quickchart:hover {\n",
              "    background-color: #434B5C;\n",
              "    box-shadow: 0px 1px 3px 1px rgba(0, 0, 0, 0.15);\n",
              "    filter: drop-shadow(0px 1px 2px rgba(0, 0, 0, 0.3));\n",
              "    fill: #FFFFFF;\n",
              "  }\n",
              "</style>\n",
              "\n",
              "    <script>\n",
              "      async function quickchart(key) {\n",
              "        const containerElement = document.querySelector('#' + key);\n",
              "        const charts = await google.colab.kernel.invokeFunction(\n",
              "            'suggestCharts', [key], {});\n",
              "      }\n",
              "    </script>\n",
              "\n",
              "      <script>\n",
              "\n",
              "function displayQuickchartButton(domScope) {\n",
              "  let quickchartButtonEl =\n",
              "    domScope.querySelector('#df-8e20822f-5806-4864-a358-093972e6d661 button.colab-df-quickchart');\n",
              "  quickchartButtonEl.style.display =\n",
              "    google.colab.kernel.accessAllowed ? 'block' : 'none';\n",
              "}\n",
              "\n",
              "        displayQuickchartButton(document);\n",
              "      </script>\n",
              "      <style>\n",
              "    .colab-df-container {\n",
              "      display:flex;\n",
              "      flex-wrap:wrap;\n",
              "      gap: 12px;\n",
              "    }\n",
              "\n",
              "    .colab-df-convert {\n",
              "      background-color: #E8F0FE;\n",
              "      border: none;\n",
              "      border-radius: 50%;\n",
              "      cursor: pointer;\n",
              "      display: none;\n",
              "      fill: #1967D2;\n",
              "      height: 32px;\n",
              "      padding: 0 0 0 0;\n",
              "      width: 32px;\n",
              "    }\n",
              "\n",
              "    .colab-df-convert:hover {\n",
              "      background-color: #E2EBFA;\n",
              "      box-shadow: 0px 1px 2px rgba(60, 64, 67, 0.3), 0px 1px 3px 1px rgba(60, 64, 67, 0.15);\n",
              "      fill: #174EA6;\n",
              "    }\n",
              "\n",
              "    [theme=dark] .colab-df-convert {\n",
              "      background-color: #3B4455;\n",
              "      fill: #D2E3FC;\n",
              "    }\n",
              "\n",
              "    [theme=dark] .colab-df-convert:hover {\n",
              "      background-color: #434B5C;\n",
              "      box-shadow: 0px 1px 3px 1px rgba(0, 0, 0, 0.15);\n",
              "      filter: drop-shadow(0px 1px 2px rgba(0, 0, 0, 0.3));\n",
              "      fill: #FFFFFF;\n",
              "    }\n",
              "  </style>\n",
              "\n",
              "      <script>\n",
              "        const buttonEl =\n",
              "          document.querySelector('#df-938db854-2fe9-49b8-a33b-b6a4e83601e3 button.colab-df-convert');\n",
              "        buttonEl.style.display =\n",
              "          google.colab.kernel.accessAllowed ? 'block' : 'none';\n",
              "\n",
              "        async function convertToInteractive(key) {\n",
              "          const element = document.querySelector('#df-938db854-2fe9-49b8-a33b-b6a4e83601e3');\n",
              "          const dataTable =\n",
              "            await google.colab.kernel.invokeFunction('convertToInteractive',\n",
              "                                                     [key], {});\n",
              "          if (!dataTable) return;\n",
              "\n",
              "          const docLinkHtml = 'Like what you see? Visit the ' +\n",
              "            '<a target=\"_blank\" href=https://colab.research.google.com/notebooks/data_table.ipynb>data table notebook</a>'\n",
              "            + ' to learn more about interactive tables.';\n",
              "          element.innerHTML = '';\n",
              "          dataTable['output_type'] = 'display_data';\n",
              "          await google.colab.output.renderOutput(dataTable, element);\n",
              "          const docLink = document.createElement('div');\n",
              "          docLink.innerHTML = docLinkHtml;\n",
              "          element.appendChild(docLink);\n",
              "        }\n",
              "      </script>\n",
              "    </div>\n",
              "  </div>\n"
            ]
          },
          "metadata": {},
          "execution_count": 6
        }
      ]
    },
    {
      "cell_type": "code",
      "source": [
        "#SP500 ETF Benchmark\n",
        "market_prices = yf.download(\"SPY\", start='2018-01-01', end='2022-12-31')[\"Adj Close\"]\n",
        "market_prices.head()"
      ],
      "metadata": {
        "id": "Gpw7nM0pZlY2",
        "colab": {
          "base_uri": "https://localhost:8080/"
        },
        "outputId": "7c1f6a2c-ff29-41f9-b843-fccfabf7466c"
      },
      "execution_count": null,
      "outputs": [
        {
          "output_type": "stream",
          "name": "stdout",
          "text": [
            "\r[*********************100%***********************]  1 of 1 completed\n"
          ]
        },
        {
          "output_type": "execute_result",
          "data": {
            "text/plain": [
              "Date\n",
              "2018-01-02    244.918686\n",
              "2018-01-03    246.467819\n",
              "2018-01-04    247.506607\n",
              "2018-01-05    249.156021\n",
              "2018-01-08    249.611633\n",
              "Name: Adj Close, dtype: float64"
            ]
          },
          "metadata": {},
          "execution_count": 7
        }
      ]
    },
    {
      "cell_type": "code",
      "source": [
        "#Grap Market Capitalization for each stock in portfolio\n",
        "mcaps = {}\n",
        "for t in symbols:\n",
        "    stock = yf.Ticker(t)\n",
        "    mcaps[t] = stock.info[\"marketCap\"]\n",
        "mcaps"
      ],
      "metadata": {
        "id": "ZbRVIUFEaOL7",
        "colab": {
          "base_uri": "https://localhost:8080/"
        },
        "outputId": "746f42fd-1ddf-4d72-ac4d-c715d3d20bcc"
      },
      "execution_count": null,
      "outputs": [
        {
          "output_type": "execute_result",
          "data": {
            "text/plain": [
              "{'AAPL': 2799236808704,\n",
              " 'MSFT': 2401142571008,\n",
              " 'META': 783529017344,\n",
              " 'AMZN': 1421680967680,\n",
              " 'XOM': 445212983296,\n",
              " 'UNH': 468756004864,\n",
              " 'JNJ': 447423348736,\n",
              " 'V': 502991126528,\n",
              " 'HD': 331172151296,\n",
              " 'ABBV': 267184095232,\n",
              " 'KO': 263453392896,\n",
              " 'DIS': 167673053184,\n",
              " 'T': 101301329920,\n",
              " 'UPS': 154925858816,\n",
              " 'LMT': 113336541184,\n",
              " 'CAT': 146549325824,\n",
              " 'F': 48649363456,\n",
              " 'MAR': 63215935488,\n",
              " 'O': 39578722304,\n",
              " 'HSY': 45742452736}"
            ]
          },
          "metadata": {},
          "execution_count": 8
        }
      ]
    },
    {
      "cell_type": "markdown",
      "source": [
        "## Step 2: Getting Priors"
      ],
      "metadata": {
        "id": "smsoScFQbFqC"
      }
    },
    {
      "cell_type": "code",
      "source": [
        "#Calculate Sigma and Delta to get implied market returns\n",
        "#Ledoit-Wolf is a particular form of shrinkage, where the shrinkage coefficient is computed using O?\n",
        "S = risk_models.CovarianceShrinkage(portfolio).ledoit_wolf()\n",
        "\n",
        "delta = black_litterman.market_implied_risk_aversion(market_prices)\n",
        "delta"
      ],
      "metadata": {
        "id": "AzrW5UgUbQl-",
        "colab": {
          "base_uri": "https://localhost:8080/"
        },
        "outputId": "f797d95b-6471-4584-adac-3e6ac23e1fcf"
      },
      "execution_count": null,
      "outputs": [
        {
          "output_type": "execute_result",
          "data": {
            "text/plain": [
              "1.9618067215749169"
            ]
          },
          "metadata": {},
          "execution_count": 9
        }
      ]
    },
    {
      "cell_type": "code",
      "source": [
        "#Visualize the Covariant Correlation  (Shirnkage)\n",
        "sns.heatmap(S.corr(), cmap='coolwarm')"
      ],
      "metadata": {
        "id": "BR_xBSBLbWuA",
        "colab": {
          "base_uri": "https://localhost:8080/",
          "height": 481
        },
        "outputId": "22052ddb-4f22-4b5b-a49a-e2527857ad1d"
      },
      "execution_count": null,
      "outputs": [
        {
          "output_type": "execute_result",
          "data": {
            "text/plain": [
              "<Axes: >"
            ]
          },
          "metadata": {},
          "execution_count": 10
        },
        {
          "output_type": "display_data",
          "data": {
            "text/plain": [
              "<Figure size 640x480 with 2 Axes>"
            ],
            "image/png": "[encoded data removed]"
          },
          "metadata": {}
        }
      ]
    },
    {
      "cell_type": "code",
      "source": [
        "market_prior = black_litterman.market_implied_prior_returns(mcaps, delta, S)\n",
        "market_prior\n",
        "'''\n",
        "implied_prior_returns\n",
        "시장 가중치에 의해 내포된 수익률의 사전 추정치를 계산합니다.\n",
        "즉, 시장 포트폴리오의 위험에 대한 각 자산의 기여를 고려할 때,\n",
        "우리는 얼마나 보상받을 것으로 예상합니까? '''\n",
        "\n",
        "'''mcaps: 모든 자산의 시가총액\n",
        "delta: 위험 회피 파라미터\n",
        "S: 자산 수익률의 공분산 행렬'''"
      ],
      "metadata": {
        "id": "5p9zO2KYb9sL",
        "colab": {
          "base_uri": "https://localhost:8080/"
        },
        "outputId": "3a4af31f-ff7a-4399-a294-394cc0ff9f8e"
      },
      "execution_count": null,
      "outputs": [
        {
          "output_type": "execute_result",
          "data": {
            "text/plain": [
              "AAPL    0.168035\n",
              "ABBV    0.086282\n",
              "AMZN    0.158599\n",
              "CAT     0.109038\n",
              "DIS     0.117570\n",
              "F       0.119668\n",
              "HD      0.119138\n",
              "HSY     0.067394\n",
              "JNJ     0.073558\n",
              "KO      0.076406\n",
              "LMT     0.080331\n",
              "MAR     0.119604\n",
              "META    0.171254\n",
              "MSFT    0.159448\n",
              "O       0.092353\n",
              "T       0.077413\n",
              "UNH     0.109256\n",
              "UPS     0.104523\n",
              "V       0.130820\n",
              "XOM     0.096807\n",
              "dtype: float64"
            ]
          },
          "metadata": {},
          "execution_count": 11
        }
      ]
    },
    {
      "cell_type": "code",
      "source": [
        "#What am I looking at here?\n",
        "market_prior.plot.barh(figsize=(10,5));"
      ],
      "metadata": {
        "id": "tosbjeC3b5_x",
        "colab": {
          "base_uri": "https://localhost:8080/",
          "height": 344
        },
        "outputId": "f91e7327-2c3c-488a-fd2a-28c1784605b3"
      },
      "execution_count": null,
      "outputs": [
        {
          "output_type": "display_data",
          "data": {
            "text/plain": [
              "<Figure size 1000x500 with 1 Axes>"
            ],
            "image/png": "[encoded data removed]"
          },
          "metadata": {}
        }
      ]
    },
    {
      "cell_type": "markdown",
      "source": [
        "## Step 3: Integrating Views"
      ],
      "metadata": {
        "id": "-sgZKN8UcjES"
      }
    },
    {
      "cell_type": "code",
      "source": [
        "#You don't have to provide views on all the assets (random now,\n",
        "# you know what areyou views on this stock and where do you think it's going to move )\n",
        "'''views = 투자자가 가지고 있는 전망 정도로 생각\n",
        "필요시 input을 변경해가며 모델 최적화된 결과 도출'''\n",
        "\n",
        "viewdict = {\n",
        "    'AAPL':0.10,\n",
        "    'MSFT':0.10,\n",
        "    'META':0.05,\n",
        "    'AMZN':0.30,\n",
        "    'XOM':0.02,\n",
        "    'UNH':0.01,\n",
        "    'JNJ':0.15,\n",
        "    'V':0.09,\n",
        "    'HD':0.16,\n",
        "    'ABBV':0.07,\n",
        "    'KO':0.01,\n",
        "    'DIS':-0.23, #negative\n",
        "    'T':0.16,\n",
        "    'UPS':0.10,\n",
        "    'LMT':-0.09,\n",
        "    'CAT':0.30,\n",
        "    'F':0.16,\n",
        "    'MAR':-0.08,\n",
        "    'O':0.30,\n",
        "    'HSY':-0.26\n",
        "}\n",
        "\n",
        "bl = BlackLittermanModel(S, pi=market_prior, absolute_views=viewdict)\n",
        "'''\n",
        "BlackLittermanModel\n",
        "pi=\"market\"인 경우, 시장 점유율을 계산합니다(시장 점유율_이전)\n",
        "통과됨).\n",
        "absolute_views=자산의 부분 집합에 대한 K개의 절대 뷰 모음,'''\n"
      ],
      "metadata": {
        "id": "xaP8KbHRcmGt"
      },
      "execution_count": null,
      "outputs": []
    },
    {
      "cell_type": "markdown",
      "source": [
        "### Creating Confidences\n",
        "\n",
        "we can calculate the uncertainty matrix directly by specifying 1 standard deviation confidence intervals, i.e bounds which we think will contain the true return 68% of the time. This may be easier than coming up with somewhat arbitrary percentage confidences"
      ],
      "metadata": {
        "id": "HfpeHf92eEk4"
      }
    },
    {
      "cell_type": "code",
      "source": [
        "intervals = [\n",
        "    (0, 0.25),\n",
        "    (0.1, 0.4),\n",
        "    (-0.1, 0.15),\n",
        "    (-0.05, 0.1),\n",
        "    (0.15, 0.25),\n",
        "    (-0.1, 0),\n",
        "    (0.1, 0.2),\n",
        "    (0.08, 0.12),\n",
        "    (0.1, 0.9),\n",
        "    (0, 0.3),\n",
        "    (0, 0.25),\n",
        "    (0.1, 0.4),\n",
        "    (-0.1, 0.15),\n",
        "    (-0.05, 0.1),\n",
        "    (0.15, 0.25),\n",
        "    (-0.1, 0),\n",
        "    (0.1, 0.2),\n",
        "    (0.08, 0.12),\n",
        "    (0.1, 0.9),\n",
        "    (0, 0.3),\n",
        "]"
      ],
      "metadata": {
        "id": "xhCTO0UFeHKX"
      },
      "execution_count": null,
      "outputs": []
    },
    {
      "cell_type": "code",
      "source": [
        "variances = []\n",
        "for lb, ub in intervals:\n",
        "    sigma = (ub - lb)/2\n",
        "    variances.append(sigma ** 2)\n",
        "\n",
        "print(variances)\n",
        "omega = np.diag(variances) # a diode diagonal array"
      ],
      "metadata": {
        "id": "qAFGZWoLeKok",
        "colab": {
          "base_uri": "https://localhost:8080/"
        },
        "outputId": "e1dd2c8d-16a1-4be3-f25c-9733f015dab1"
      },
      "execution_count": null,
      "outputs": [
        {
          "output_type": "stream",
          "name": "stdout",
          "text": [
            "[0.015625, 0.022500000000000006, 0.015625, 0.0056250000000000015, 0.0025000000000000005, 0.0025000000000000005, 0.0025000000000000005, 0.00039999999999999986, 0.16000000000000003, 0.0225, 0.015625, 0.022500000000000006, 0.015625, 0.0056250000000000015, 0.0025000000000000005, 0.0025000000000000005, 0.0025000000000000005, 0.00039999999999999986, 0.16000000000000003, 0.0225]\n"
          ]
        }
      ]
    },
    {
      "cell_type": "markdown",
      "source": [
        "# Step 4: Calculate Posterior Estimate Returns"
      ],
      "metadata": {
        "id": "u4d-UFHZeW4t"
      }
    },
    {
      "cell_type": "code",
      "source": [
        "fig, ax = plt.subplots(figsize=(7,7))\n",
        "im = ax.imshow(omega)\n",
        "\n",
        "# We want to show all ticks...\n",
        "ax.set_xticks(np.arange(len(bl.tickers)))\n",
        "ax.set_yticks(np.arange(len(bl.tickers)))\n",
        "\n",
        "ax.set_xticklabels(bl.tickers)\n",
        "ax.set_yticklabels(bl.tickers)\n",
        "plt.show()"
      ],
      "metadata": {
        "id": "6_WEzrOmi9r_",
        "colab": {
          "base_uri": "https://localhost:8080/",
          "height": 599
        },
        "outputId": "d7dcc5d6-4fa7-47e9-8006-6d1f0596ed98"
      },
      "execution_count": null,
      "outputs": [
        {
          "output_type": "display_data",
          "data": {
            "text/plain": [
              "<Figure size 700x700 with 1 Axes>"
            ],
            "image/png": "[encoded data removed]"
          },
          "metadata": {}
        }
      ]
    },
    {
      "cell_type": "code",
      "source": [
        "# We are using the shortcut to automatically compute market-implied prior\n",
        "bl = BlackLittermanModel(S, pi=\"market\", market_caps=mcaps, risk_aversion=delta,\n",
        "                        absolute_views=viewdict, omega=omega)"
      ],
      "metadata": {
        "id": "bHA52TiiedzN"
      },
      "execution_count": null,
      "outputs": []
    },
    {
      "cell_type": "code",
      "source": [
        "# Posterior estimate of returns\n",
        "ret_bl = bl.bl_returns()\n",
        "ret_bl"
      ],
      "metadata": {
        "id": "jI6anCRuendS",
        "colab": {
          "base_uri": "https://localhost:8080/"
        },
        "outputId": "ccb3d097-f11e-4260-b803-ce57fd0f4d47"
      },
      "execution_count": null,
      "outputs": [
        {
          "output_type": "execute_result",
          "data": {
            "text/plain": [
              "AAPL    0.142958\n",
              "ABBV    0.063454\n",
              "AMZN    0.194544\n",
              "CAT     0.186529\n",
              "DIS     0.042496\n",
              "F       0.127907\n",
              "HD      0.091262\n",
              "HSY     0.008765\n",
              "JNJ     0.082498\n",
              "KO      0.031936\n",
              "LMT    -0.008149\n",
              "MAR    -0.064911\n",
              "META    0.136019\n",
              "MSFT    0.139842\n",
              "O       0.001687\n",
              "T       0.059209\n",
              "UNH     0.043171\n",
              "UPS     0.100444\n",
              "V       0.086349\n",
              "XOM     0.043571\n",
              "dtype: float64"
            ]
          },
          "metadata": {},
          "execution_count": 19
        }
      ]
    },
    {
      "cell_type": "code",
      "source": [
        "rets_df = pd.DataFrame([market_prior, ret_bl, pd.Series(viewdict)],\n",
        "             index=[\"Prior\", \"Posterior\", \"Views\"]).T\n",
        "rets_df"
      ],
      "metadata": {
        "id": "LuCspSuKeqgN",
        "colab": {
          "base_uri": "https://localhost:8080/",
          "height": 676
        },
        "outputId": "f98eb2cc-e0ef-4949-ef2b-073156ccf5ba"
      },
      "execution_count": null,
      "outputs": [
        {
          "output_type": "execute_result",
          "data": {
            "text/plain": [
              "         Prior  Posterior  Views\n",
              "AAPL  0.168035   0.142958   0.10\n",
              "ABBV  0.086282   0.063454   0.07\n",
              "AMZN  0.158599   0.194544   0.30\n",
              "CAT   0.109038   0.186529   0.30\n",
              "DIS   0.117570   0.042496  -0.23\n",
              "F     0.119668   0.127907   0.16\n",
              "HD    0.119138   0.091262   0.16\n",
              "HSY   0.067394   0.008765  -0.26\n",
              "JNJ   0.073558   0.082498   0.15\n",
              "KO    0.076406   0.031936   0.01\n",
              "LMT   0.080331  -0.008149  -0.09\n",
              "MAR   0.119604  -0.064911  -0.08\n",
              "META  0.171254   0.136019   0.05\n",
              "MSFT  0.159448   0.139842   0.10\n",
              "O     0.092353   0.001687   0.30\n",
              "T     0.077413   0.059209   0.16\n",
              "UNH   0.109256   0.043171   0.01\n",
              "UPS   0.104523   0.100444   0.10\n",
              "V     0.130820   0.086349   0.09\n",
              "XOM   0.096807   0.043571   0.02"
            ],
            "text/html": [
              "\n",
              "\n",
              "  <div id=\"df-37b57bdf-7206-4665-82ca-646e1188d736\">\n",
              "    <div class=\"colab-df-container\">\n",
              "      <div>\n",
              "<style scoped>\n",
              "    .dataframe tbody tr th:only-of-type {\n",
              "        vertical-align: middle;\n",
              "    }\n",
              "\n",
              "    .dataframe tbody tr th {\n",
              "        vertical-align: top;\n",
              "    }\n",
              "\n",
              "    .dataframe thead th {\n",
              "        text-align: right;\n",
              "    }\n",
              "</style>\n",
              "<table border=\"1\" class=\"dataframe\">\n",
              "  <thead>\n",
              "    <tr style=\"text-align: right;\">\n",
              "      <th></th>\n",
              "      <th>Prior</th>\n",
              "      <th>Posterior</th>\n",
              "      <th>Views</th>\n",
              "    </tr>\n",
              "  </thead>\n",
              "  <tbody>\n",
              "    <tr>\n",
              "      <th>AAPL</th>\n",
              "      <td>0.168035</td>\n",
              "      <td>0.142958</td>\n",
              "      <td>0.10</td>\n",
              "    </tr>\n",
              "    <tr>\n",
              "      <th>ABBV</th>\n",
              "      <td>0.086282</td>\n",
              "      <td>0.063454</td>\n",
              "      <td>0.07</td>\n",
              "    </tr>\n",
              "    <tr>\n",
              "      <th>AMZN</th>\n",
              "      <td>0.158599</td>\n",
              "      <td>0.194544</td>\n",
              "      <td>0.30</td>\n",
              "    </tr>\n",
              "    <tr>\n",
              "      <th>CAT</th>\n",
              "      <td>0.109038</td>\n",
              "      <td>0.186529</td>\n",
              "      <td>0.30</td>\n",
              "    </tr>\n",
              "    <tr>\n",
              "      <th>DIS</th>\n",
              "      <td>0.117570</td>\n",
              "      <td>0.042496</td>\n",
              "      <td>-0.23</td>\n",
              "    </tr>\n",
              "    <tr>\n",
              "      <th>F</th>\n",
              "      <td>0.119668</td>\n",
              "      <td>0.127907</td>\n",
              "      <td>0.16</td>\n",
              "    </tr>\n",
              "    <tr>\n",
              "      <th>HD</th>\n",
              "      <td>0.119138</td>\n",
              "      <td>0.091262</td>\n",
              "      <td>0.16</td>\n",
              "    </tr>\n",
              "    <tr>\n",
              "      <th>HSY</th>\n",
              "      <td>0.067394</td>\n",
              "      <td>0.008765</td>\n",
              "      <td>-0.26</td>\n",
              "    </tr>\n",
              "    <tr>\n",
              "      <th>JNJ</th>\n",
              "      <td>0.073558</td>\n",
              "      <td>0.082498</td>\n",
              "      <td>0.15</td>\n",
              "    </tr>\n",
              "    <tr>\n",
              "      <th>KO</th>\n",
              "      <td>0.076406</td>\n",
              "      <td>0.031936</td>\n",
              "      <td>0.01</td>\n",
              "    </tr>\n",
              "    <tr>\n",
              "      <th>LMT</th>\n",
              "      <td>0.080331</td>\n",
              "      <td>-0.008149</td>\n",
              "      <td>-0.09</td>\n",
              "    </tr>\n",
              "    <tr>\n",
              "      <th>MAR</th>\n",
              "      <td>0.119604</td>\n",
              "      <td>-0.064911</td>\n",
              "      <td>-0.08</td>\n",
              "    </tr>\n",
              "    <tr>\n",
              "      <th>META</th>\n",
              "      <td>0.171254</td>\n",
              "      <td>0.136019</td>\n",
              "      <td>0.05</td>\n",
              "    </tr>\n",
              "    <tr>\n",
              "      <th>MSFT</th>\n",
              "      <td>0.159448</td>\n",
              "      <td>0.139842</td>\n",
              "      <td>0.10</td>\n",
              "    </tr>\n",
              "    <tr>\n",
              "      <th>O</th>\n",
              "      <td>0.092353</td>\n",
              "      <td>0.001687</td>\n",
              "      <td>0.30</td>\n",
              "    </tr>\n",
              "    <tr>\n",
              "      <th>T</th>\n",
              "      <td>0.077413</td>\n",
              "      <td>0.059209</td>\n",
              "      <td>0.16</td>\n",
              "    </tr>\n",
              "    <tr>\n",
              "      <th>UNH</th>\n",
              "      <td>0.109256</td>\n",
              "      <td>0.043171</td>\n",
              "      <td>0.01</td>\n",
              "    </tr>\n",
              "    <tr>\n",
              "      <th>UPS</th>\n",
              "      <td>0.104523</td>\n",
              "      <td>0.100444</td>\n",
              "      <td>0.10</td>\n",
              "    </tr>\n",
              "    <tr>\n",
              "      <th>V</th>\n",
              "      <td>0.130820</td>\n",
              "      <td>0.086349</td>\n",
              "      <td>0.09</td>\n",
              "    </tr>\n",
              "    <tr>\n",
              "      <th>XOM</th>\n",
              "      <td>0.096807</td>\n",
              "      <td>0.043571</td>\n",
              "      <td>0.02</td>\n",
              "    </tr>\n",
              "  </tbody>\n",
              "</table>\n",
              "</div>\n",
              "      <button class=\"colab-df-convert\" onclick=\"convertToInteractive('df-37b57bdf-7206-4665-82ca-646e1188d736')\"\n",
              "              title=\"Convert this dataframe to an interactive table.\"\n",
              "              style=\"display:none;\">\n",
              "\n",
              "  <svg xmlns=\"http://www.w3.org/2000/svg\" height=\"24px\"viewBox=\"0 0 24 24\"\n",
              "       width=\"24px\">\n",
              "    <path d=\"M0 0h24v24H0V0z\" fill=\"none\"/>\n",
              "    <path d=\"M18.56 5.44l.94 2.06.94-2.06 2.06-.94-2.06-.94-.94-2.06-.94 2.06-2.06.94zm-11 1L8.5 8.5l.94-2.06 2.06-.94-2.06-.94L8.5 2.5l-.94 2.06-2.06.94zm10 10l.94 2.06.94-2.06 2.06-.94-2.06-.94-.94-2.06-.94 2.06-2.06.94z\"/><path d=\"M17.41 7.96l-1.37-1.37c-.4-.4-.92-.59-1.43-.59-.52 0-1.04.2-1.43.59L10.3 9.45l-7.72 7.72c-.78.78-.78 2.05 0 2.83L4 21.41c.39.39.9.59 1.41.59.51 0 1.02-.2 1.41-.59l7.78-7.78 2.81-2.81c.8-.78.8-2.07 0-2.86zM5.41 20L4 18.59l7.72-7.72 1.47 1.35L5.41 20z\"/>\n",
              "  </svg>\n",
              "      </button>\n",
              "\n",
              "\n",
              "\n",
              "    <div id=\"df-374a6f77-8bc9-4a88-9e24-50f5e357bdf8\">\n",
              "      <button class=\"colab-df-quickchart\" onclick=\"quickchart('df-374a6f77-8bc9-4a88-9e24-50f5e357bdf8')\"\n",
              "              title=\"Suggest charts.\"\n",
              "              style=\"display:none;\">\n",
              "\n",
              "<svg xmlns=\"http://www.w3.org/2000/svg\" height=\"24px\"viewBox=\"0 0 24 24\"\n",
              "     width=\"24px\">\n",
              "    <g>\n",
              "        <path d=\"M19 3H5c-1.1 0-2 .9-2 2v14c0 1.1.9 2 2 2h14c1.1 0 2-.9 2-2V5c0-1.1-.9-2-2-2zM9 17H7v-7h2v7zm4 0h-2V7h2v10zm4 0h-2v-4h2v4z\"/>\n",
              "    </g>\n",
              "</svg>\n",
              "      </button>\n",
              "    </div>\n",
              "\n",
              "<style>\n",
              "  .colab-df-quickchart {\n",
              "    background-color: #E8F0FE;\n",
              "    border: none;\n",
              "    border-radius: 50%;\n",
              "    cursor: pointer;\n",
              "    display: none;\n",
              "    fill: #1967D2;\n",
              "    height: 32px;\n",
              "    padding: 0 0 0 0;\n",
              "    width: 32px;\n",
              "  }\n",
              "\n",
              "  .colab-df-quickchart:hover {\n",
              "    background-color: #E2EBFA;\n",
              "    box-shadow: 0px 1px 2px rgba(60, 64, 67, 0.3), 0px 1px 3px 1px rgba(60, 64, 67, 0.15);\n",
              "    fill: #174EA6;\n",
              "  }\n",
              "\n",
              "  [theme=dark] .colab-df-quickchart {\n",
              "    background-color: #3B4455;\n",
              "    fill: #D2E3FC;\n",
              "  }\n",
              "\n",
              "  [theme=dark] .colab-df-quickchart:hover {\n",
              "    background-color: #434B5C;\n",
              "    box-shadow: 0px 1px 3px 1px rgba(0, 0, 0, 0.15);\n",
              "    filter: drop-shadow(0px 1px 2px rgba(0, 0, 0, 0.3));\n",
              "    fill: #FFFFFF;\n",
              "  }\n",
              "</style>\n",
              "\n",
              "    <script>\n",
              "      async function quickchart(key) {\n",
              "        const containerElement = document.querySelector('#' + key);\n",
              "        const charts = await google.colab.kernel.invokeFunction(\n",
              "            'suggestCharts', [key], {});\n",
              "      }\n",
              "    </script>\n",
              "\n",
              "      <script>\n",
              "\n",
              "function displayQuickchartButton(domScope) {\n",
              "  let quickchartButtonEl =\n",
              "    domScope.querySelector('#df-374a6f77-8bc9-4a88-9e24-50f5e357bdf8 button.colab-df-quickchart');\n",
              "  quickchartButtonEl.style.display =\n",
              "    google.colab.kernel.accessAllowed ? 'block' : 'none';\n",
              "}\n",
              "\n",
              "        displayQuickchartButton(document);\n",
              "      </script>\n",
              "      <style>\n",
              "    .colab-df-container {\n",
              "      display:flex;\n",
              "      flex-wrap:wrap;\n",
              "      gap: 12px;\n",
              "    }\n",
              "\n",
              "    .colab-df-convert {\n",
              "      background-color: #E8F0FE;\n",
              "      border: none;\n",
              "      border-radius: 50%;\n",
              "      cursor: pointer;\n",
              "      display: none;\n",
              "      fill: #1967D2;\n",
              "      height: 32px;\n",
              "      padding: 0 0 0 0;\n",
              "      width: 32px;\n",
              "    }\n",
              "\n",
              "    .colab-df-convert:hover {\n",
              "      background-color: #E2EBFA;\n",
              "      box-shadow: 0px 1px 2px rgba(60, 64, 67, 0.3), 0px 1px 3px 1px rgba(60, 64, 67, 0.15);\n",
              "      fill: #174EA6;\n",
              "    }\n",
              "\n",
              "    [theme=dark] .colab-df-convert {\n",
              "      background-color: #3B4455;\n",
              "      fill: #D2E3FC;\n",
              "    }\n",
              "\n",
              "    [theme=dark] .colab-df-convert:hover {\n",
              "      background-color: #434B5C;\n",
              "      box-shadow: 0px 1px 3px 1px rgba(0, 0, 0, 0.15);\n",
              "      filter: drop-shadow(0px 1px 2px rgba(0, 0, 0, 0.3));\n",
              "      fill: #FFFFFF;\n",
              "    }\n",
              "  </style>\n",
              "\n",
              "      <script>\n",
              "        const buttonEl =\n",
              "          document.querySelector('#df-37b57bdf-7206-4665-82ca-646e1188d736 button.colab-df-convert');\n",
              "        buttonEl.style.display =\n",
              "          google.colab.kernel.accessAllowed ? 'block' : 'none';\n",
              "\n",
              "        async function convertToInteractive(key) {\n",
              "          const element = document.querySelector('#df-37b57bdf-7206-4665-82ca-646e1188d736');\n",
              "          const dataTable =\n",
              "            await google.colab.kernel.invokeFunction('convertToInteractive',\n",
              "                                                     [key], {});\n",
              "          if (!dataTable) return;\n",
              "\n",
              "          const docLinkHtml = 'Like what you see? Visit the ' +\n",
              "            '<a target=\"_blank\" href=https://colab.research.google.com/notebooks/data_table.ipynb>data table notebook</a>'\n",
              "            + ' to learn more about interactive tables.';\n",
              "          element.innerHTML = '';\n",
              "          dataTable['output_type'] = 'display_data';\n",
              "          await google.colab.output.renderOutput(dataTable, element);\n",
              "          const docLink = document.createElement('div');\n",
              "          docLink.innerHTML = docLinkHtml;\n",
              "          element.appendChild(docLink);\n",
              "        }\n",
              "      </script>\n",
              "    </div>\n",
              "  </div>\n"
            ]
          },
          "metadata": {},
          "execution_count": 20
        }
      ]
    },
    {
      "cell_type": "code",
      "source": [
        "rets_df.plot.bar(figsize=(12,8));"
      ],
      "metadata": {
        "id": "5UToZvXEes7R",
        "colab": {
          "base_uri": "https://localhost:8080/",
          "height": 464
        },
        "outputId": "e7b844ff-953e-4af2-bcc3-b20ba0027260"
      },
      "execution_count": null,
      "outputs": [
        {
          "output_type": "display_data",
          "data": {
            "text/plain": [
              "<Figure size 1200x800 with 1 Axes>"
            ],
            "image/png": "[encoded data removed]"
          },
          "metadata": {}
        }
      ]
    },
    {
      "cell_type": "code",
      "source": [
        "S_bl = bl.bl_cov()\n",
        "plotting.plot_covariance(S_bl);"
      ],
      "metadata": {
        "id": "JuWGvrpQmiP5",
        "colab": {
          "base_uri": "https://localhost:8080/",
          "height": 487
        },
        "outputId": "ba6190c4-f935-4835-ae50-c4d60605f8be"
      },
      "execution_count": null,
      "outputs": [
        {
          "output_type": "display_data",
          "data": {
            "text/plain": [
              "<Figure size 640x480 with 2 Axes>"
            ],
            "image/png": "[encoded data removed]"
          },
          "metadata": {}
        }
      ]
    },
    {
      "cell_type": "markdown",
      "source": [
        "# Step 5: Portfolio Allocation"
      ],
      "metadata": {
        "id": "msWyhIHse5wB"
      }
    },
    {
      "cell_type": "code",
      "source": [
        "ef = EfficientFrontier(ret_bl, S_bl)\n",
        "ef.add_objective(objective_functions.L2_reg)\n",
        "ef.max_sharpe()\n",
        "weights = ef.clean_weights()\n",
        "weights"
      ],
      "metadata": {
        "id": "Oy7o3XGze8ki",
        "colab": {
          "base_uri": "https://localhost:8080/"
        },
        "outputId": "74dfa219-db18-4747-ae44-6476a614448c"
      },
      "execution_count": null,
      "outputs": [
        {
          "output_type": "stream",
          "name": "stderr",
          "text": [
            "/usr/local/lib/python3.10/dist-packages/pypfopt/efficient_frontier/efficient_frontier.py:259: UserWarning: max_sharpe transforms the optimization problem so additional objectives may not work as expected.\n",
            "  warnings.warn(\n"
          ]
        },
        {
          "output_type": "execute_result",
          "data": {
            "text/plain": [
              "OrderedDict([('AAPL', 0.10572),\n",
              "             ('ABBV', 0.02787),\n",
              "             ('AMZN', 0.17546),\n",
              "             ('CAT', 0.17502),\n",
              "             ('DIS', 0.0),\n",
              "             ('F', 0.08687),\n",
              "             ('HD', 0.04937),\n",
              "             ('HSY', 0.0),\n",
              "             ('JNJ', 0.06077),\n",
              "             ('KO', 0.0),\n",
              "             ('LMT', 0.0),\n",
              "             ('MAR', 0.0),\n",
              "             ('META', 0.088),\n",
              "             ('MSFT', 0.10352),\n",
              "             ('O', 0.0),\n",
              "             ('T', 0.02335),\n",
              "             ('UNH', 0.0),\n",
              "             ('UPS', 0.0654),\n",
              "             ('V', 0.03866),\n",
              "             ('XOM', 0.0)])"
            ]
          },
          "metadata": {},
          "execution_count": 23
        }
      ]
    },
    {
      "cell_type": "code",
      "source": [
        "pd.Series(weights).plot.pie(figsize=(9,9));"
      ],
      "metadata": {
        "id": "qF-W8I47fBOc",
        "colab": {
          "base_uri": "https://localhost:8080/",
          "height": 663
        },
        "outputId": "22908a8b-a29f-40bf-fdf1-b35935b177bd"
      },
      "execution_count": null,
      "outputs": [
        {
          "output_type": "display_data",
          "data": {
            "text/plain": [
              "<Figure size 900x900 with 1 Axes>"
            ],
            "image/png": "[encoded data removed]"
          },
          "metadata": {}
        }
      ]
    },
    {
      "cell_type": "code",
      "source": [
        "from pypfopt.plotting import plot_weights\n",
        "\n",
        "# Maximum Sharpe\n",
        "ef = EfficientFrontier(ret_bl, S_bl)\n",
        "ef.add_objective(objective_functions.L2_reg)\n",
        "ef.max_sharpe()\n",
        "weights = ef.clean_weights()\n",
        "\n",
        "plot_weights(weights)\n",
        "ef.portfolio_performance(verbose = True, risk_free_rate = 0.009)"
      ],
      "metadata": {
        "id": "5O0l8RkYnnjl",
        "colab": {
          "base_uri": "https://localhost:8080/",
          "height": 652
        },
        "outputId": "930e4d04-7cf9-4e43-fdf7-c626efb6fb3a"
      },
      "execution_count": null,
      "outputs": [
        {
          "output_type": "stream",
          "name": "stdout",
          "text": [
            "Expected annual return: 14.2%\n",
            "Annual volatility: 24.1%\n",
            "Sharpe Ratio: 0.51\n"
          ]
        },
        {
          "output_type": "stream",
          "name": "stderr",
          "text": [
            "/usr/local/lib/python3.10/dist-packages/pypfopt/efficient_frontier/efficient_frontier.py:259: UserWarning: max_sharpe transforms the optimization problem so additional objectives may not work as expected.\n",
            "  warnings.warn(\n",
            "/usr/local/lib/python3.10/dist-packages/pypfopt/efficient_frontier/efficient_frontier.py:441: UserWarning: The risk_free_rate provided to portfolio_performance is different to the one used by max_sharpe. Using the previous value.\n",
            "  warnings.warn(\n"
          ]
        },
        {
          "output_type": "execute_result",
          "data": {
            "text/plain": [
              "(0.1420278243143249, 0.24144286096377282, 0.5054107784642036)"
            ]
          },
          "metadata": {},
          "execution_count": 25
        },
        {
          "output_type": "display_data",
          "data": {
            "text/plain": [
              "<Figure size 640x480 with 1 Axes>"
            ],
            "image/png": "[encoded data removed]"
          },
          "metadata": {}
        }
      ]
    },
    {
      "cell_type": "code",
      "source": [
        "from pypfopt.discrete_allocation import get_latest_prices\n",
        "latest_prices = get_latest_prices(portfolio)"
      ],
      "metadata": {
        "id": "mVcqUBQnoRcp"
      },
      "execution_count": null,
      "outputs": []
    },
    {
      "cell_type": "code",
      "source": [
        "!pip install pulp"
      ],
      "metadata": {
        "colab": {
          "base_uri": "https://localhost:8080/"
        },
        "id": "iOSvILuEfyM0",
        "outputId": "b75473d7-290f-46c2-fbba-0c833085d8ac"
      },
      "execution_count": null,
      "outputs": [
        {
          "output_type": "stream",
          "name": "stdout",
          "text": [
            "Collecting pulp\n",
            "  Downloading PuLP-2.7.0-py3-none-any.whl (14.3 MB)\n",
            "\u001b[2K     \u001b[90m━━━━━━━━━━━━━━━━━━━━━━━━━━━━━━━━━━━━━━━━\u001b[0m \u001b[32m14.3/14.3 MB\u001b[0m \u001b[31m50.7 MB/s\u001b[0m eta \u001b[36m0:00:00\u001b[0m\n",
            "\u001b[?25hInstalling collected packages: pulp\n",
            "Successfully installed pulp-2.7.0\n"
          ]
        }
      ]
    },
    {
      "cell_type": "code",
      "source": [
        "da = DiscreteAllocation(weights, latest_prices=latest_prices, total_portfolio_value=15000)\n",
        "allocation, leftover = da.lp_portfolio()\n",
        "\n",
        "print(\"Discrete allocation: \", allocation)\n",
        "print(\"Funds remaining: ${:.2f}\".format(leftover))"
      ],
      "metadata": {
        "colab": {
          "base_uri": "https://localhost:8080/"
        },
        "id": "oR0wuyE1f0pV",
        "outputId": "9d947b5e-c806-4f65-f247-c18ac524addd"
      },
      "execution_count": null,
      "outputs": [
        {
          "output_type": "stream",
          "name": "stdout",
          "text": [
            "Discrete allocation:  {'AAPL': 12, 'ABBV': 3, 'AMZN': 31, 'CAT': 11, 'F': 122, 'HD': 2, 'JNJ': 5, 'META': 11, 'MSFT': 7, 'T': 19, 'UPS': 6, 'V': 3}\n",
            "Funds remaining: $5.48\n"
          ]
        }
      ]
    },
    {
      "cell_type": "code",
      "source": [],
      "metadata": {
        "id": "JbO2LL78ivRT"
      },
      "execution_count": null,
      "outputs": []
    }
  ]
}
