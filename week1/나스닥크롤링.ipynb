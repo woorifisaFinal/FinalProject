{
 "cells": [
  {
   "cell_type": "code",
   "execution_count": 1,
   "metadata": {
    "colab": {
     "base_uri": "https://localhost:8080/"
    },
    "id": "lKgr7kuwtm8h",
    "outputId": "0b9f3e2a-9ac2-4d19-bfd4-4e3b2a9063f9"
   },
   "outputs": [
    {
     "name": "stdout",
     "output_type": "stream",
     "text": [
      "Requirement already satisfied: selenium in c:\\users\\bgmun\\appdata\\local\\programs\\python\\python39\\lib\\site-packages (4.11.2)\n",
      "Requirement already satisfied: urllib3[socks]<3,>=1.26 in c:\\users\\bgmun\\appdata\\local\\programs\\python\\python39\\lib\\site-packages (from selenium) (2.0.4)\n",
      "Requirement already satisfied: trio-websocket~=0.9 in c:\\users\\bgmun\\appdata\\local\\programs\\python\\python39\\lib\\site-packages (from selenium) (0.10.3)\n",
      "Requirement already satisfied: certifi>=2021.10.8 in c:\\users\\bgmun\\appdata\\local\\programs\\python\\python39\\lib\\site-packages (from selenium) (2023.7.22)\n",
      "Requirement already satisfied: trio~=0.17 in c:\\users\\bgmun\\appdata\\local\\programs\\python\\python39\\lib\\site-packages (from selenium) (0.22.2)\n",
      "Requirement already satisfied: outcome in c:\\users\\bgmun\\appdata\\local\\programs\\python\\python39\\lib\\site-packages (from trio~=0.17->selenium) (1.2.0)\n",
      "Requirement already satisfied: cffi>=1.14 in c:\\users\\bgmun\\appdata\\local\\programs\\python\\python39\\lib\\site-packages (from trio~=0.17->selenium) (1.15.1)\n",
      "Requirement already satisfied: attrs>=20.1.0 in c:\\users\\bgmun\\appdata\\local\\programs\\python\\python39\\lib\\site-packages (from trio~=0.17->selenium) (23.1.0)\n",
      "Requirement already satisfied: sniffio in c:\\users\\bgmun\\appdata\\local\\programs\\python\\python39\\lib\\site-packages (from trio~=0.17->selenium) (1.3.0)\n",
      "Requirement already satisfied: idna in c:\\users\\bgmun\\appdata\\local\\programs\\python\\python39\\lib\\site-packages (from trio~=0.17->selenium) (3.4)\n",
      "Requirement already satisfied: sortedcontainers in c:\\users\\bgmun\\appdata\\local\\programs\\python\\python39\\lib\\site-packages (from trio~=0.17->selenium) (2.4.0)\n",
      "Requirement already satisfied: exceptiongroup>=1.0.0rc9 in c:\\users\\bgmun\\appdata\\local\\programs\\python\\python39\\lib\\site-packages (from trio~=0.17->selenium) (1.1.1)\n",
      "Requirement already satisfied: pycparser in c:\\users\\bgmun\\appdata\\local\\programs\\python\\python39\\lib\\site-packages (from cffi>=1.14->trio~=0.17->selenium) (2.21)\n",
      "Requirement already satisfied: wsproto>=0.14 in c:\\users\\bgmun\\appdata\\local\\programs\\python\\python39\\lib\\site-packages (from trio-websocket~=0.9->selenium) (1.2.0)\n",
      "Requirement already satisfied: pysocks!=1.5.7,<2.0,>=1.5.6 in c:\\users\\bgmun\\appdata\\local\\programs\\python\\python39\\lib\\site-packages (from urllib3[socks]<3,>=1.26->selenium) (1.7.1)\n",
      "Requirement already satisfied: h11<1,>=0.9.0 in c:\\users\\bgmun\\appdata\\local\\programs\\python\\python39\\lib\\site-packages (from wsproto>=0.14->trio-websocket~=0.9->selenium) (0.14.0)\n"
     ]
    },
    {
     "name": "stderr",
     "output_type": "stream",
     "text": [
      "WARNING: You are using pip version 21.2.3; however, version 23.2.1 is available.\n",
      "You should consider upgrading via the 'C:\\Users\\bgmun\\AppData\\Local\\Programs\\Python\\Python39\\python.exe -m pip install --upgrade pip' command.\n"
     ]
    }
   ],
   "source": [
    "#필요한 라이브러리들 설치\n",
    "!pip install selenium"
   ]
  },
  {
   "cell_type": "code",
   "execution_count": 2,
   "metadata": {
    "id": "Ot_zXKCHtnF3"
   },
   "outputs": [],
   "source": [
    "from selenium import webdriver\n",
    "from selenium.webdriver.common.by import By"
   ]
  },
  {
   "cell_type": "code",
   "execution_count": 3,
   "metadata": {
    "id": "wkW3yBYYx-Vc"
   },
   "outputs": [],
   "source": [
    "import selenium\n",
    "from selenium import webdriver\n",
    "from selenium.webdriver.chrome.service import Service"
   ]
  },
  {
   "cell_type": "code",
   "execution_count": 4,
   "metadata": {
    "id": "cxGLciSZwYxB"
   },
   "outputs": [],
   "source": [
    "from selenium import webdriver\n",
    "\n",
    "# chromedriver 실행 파일의 경로를 지정합니다\n",
    "executable_path = r'C:\\Users\\Admin\\Downloads\\chromedriver.exe'  # 여기에 실제 chromedriver 경로를 업데이트하세요\n",
    "\n",
    "# Chrome 옵션 설정\n",
    "options = webdriver.ChromeOptions()\n",
    "options.add_argument('--headless')\n",
    "options.add_argument('--no-sandbox')\n",
    "options.add_argument('--disable-dev-shm-usage')\n",
    "\n",
    "# Chrome을 사용하여 WebDriver 인스턴스 생성 \n",
    "# 이부분은 주피터랩 환경과 코랩환경이 조금 달라서 코랩에선 안돌아 갈거에유\n",
    "driver = webdriver.Chrome(options=options)\n"
   ]
  },
  {
   "cell_type": "code",
   "execution_count": 5,
   "metadata": {},
   "outputs": [],
   "source": [
    "#아마 코랩에서 돌리시려면 밑에거 주석처리 해제하시고 하면 될겁니덩!\n",
    "# !pip install selenium\n",
    "# !apt-get update\n",
    "# !apt install chromium-chromedriver\n",
    "# !cp /usr/lib/chromium-browser/chromedriver /usr/bin\n",
    "# service = Service(executable_path=r'/usr/bin/chromedriver')\n",
    "# options = webdriver.ChromeOptions()\n",
    "# options.add_argument('--headless')\n",
    "# options.add_argument('--no-sandbox')\n",
    "# options.add_argument('--disable-dev-shm-usage')\n",
    "# driver = webdriver.Chrome(options=options)\n",
    "# #driver.maximize_window()\n"
   ]
  },
  {
   "cell_type": "code",
   "execution_count": 6,
   "metadata": {
    "id": "daqolKnfw3_a"
   },
   "outputs": [],
   "source": [
    "import pandas as pd"
   ]
  },
  {
   "cell_type": "code",
   "execution_count": 7,
   "metadata": {
    "scrolled": true
   },
   "outputs": [
    {
     "name": "stdout",
     "output_type": "stream",
     "text": [
      "Requirement already satisfied: yfinance in c:\\users\\bgmun\\appdata\\local\\programs\\python\\python39\\lib\\site-packages (0.2.27)\n",
      "Requirement already satisfied: multitasking>=0.0.7 in c:\\users\\bgmun\\appdata\\local\\programs\\python\\python39\\lib\\site-packages (from yfinance) (0.0.11)\n",
      "Requirement already satisfied: appdirs>=1.4.4 in c:\\users\\bgmun\\appdata\\local\\programs\\python\\python39\\lib\\site-packages (from yfinance) (1.4.4)\n",
      "Requirement already satisfied: requests>=2.31 in c:\\users\\bgmun\\appdata\\local\\programs\\python\\python39\\lib\\site-packages (from yfinance) (2.31.0)\n",
      "Requirement already satisfied: frozendict>=2.3.4 in c:\\users\\bgmun\\appdata\\local\\programs\\python\\python39\\lib\\site-packages (from yfinance) (2.3.8)\n",
      "Requirement already satisfied: pytz>=2022.5 in c:\\users\\bgmun\\appdata\\local\\programs\\python\\python39\\lib\\site-packages (from yfinance) (2023.3)\n",
      "Requirement already satisfied: beautifulsoup4>=4.11.1 in c:\\users\\bgmun\\appdata\\local\\programs\\python\\python39\\lib\\site-packages (from yfinance) (4.12.2)\n",
      "Requirement already satisfied: pandas>=1.3.0 in c:\\users\\bgmun\\appdata\\local\\programs\\python\\python39\\lib\\site-packages (from yfinance) (2.0.3)\n",
      "Requirement already satisfied: lxml>=4.9.1 in c:\\users\\bgmun\\appdata\\local\\programs\\python\\python39\\lib\\site-packages (from yfinance) (4.9.3)\n",
      "Requirement already satisfied: html5lib>=1.1 in c:\\users\\bgmun\\appdata\\local\\programs\\python\\python39\\lib\\site-packages (from yfinance) (1.1)\n",
      "Requirement already satisfied: numpy>=1.16.5 in c:\\users\\bgmun\\appdata\\local\\programs\\python\\python39\\lib\\site-packages (from yfinance) (1.25.1)\n",
      "Requirement already satisfied: soupsieve>1.2 in c:\\users\\bgmun\\appdata\\local\\programs\\python\\python39\\lib\\site-packages (from beautifulsoup4>=4.11.1->yfinance) (2.4.1)\n",
      "Requirement already satisfied: webencodings in c:\\users\\bgmun\\appdata\\local\\programs\\python\\python39\\lib\\site-packages (from html5lib>=1.1->yfinance) (0.5.1)\n",
      "Requirement already satisfied: six>=1.9 in c:\\users\\bgmun\\appdata\\local\\programs\\python\\python39\\lib\\site-packages (from html5lib>=1.1->yfinance) (1.16.0)\n",
      "Requirement already satisfied: python-dateutil>=2.8.2 in c:\\users\\bgmun\\appdata\\local\\programs\\python\\python39\\lib\\site-packages (from pandas>=1.3.0->yfinance) (2.8.2)\n",
      "Requirement already satisfied: tzdata>=2022.1 in c:\\users\\bgmun\\appdata\\local\\programs\\python\\python39\\lib\\site-packages (from pandas>=1.3.0->yfinance) (2023.3)\n",
      "Requirement already satisfied: certifi>=2017.4.17 in c:\\users\\bgmun\\appdata\\local\\programs\\python\\python39\\lib\\site-packages (from requests>=2.31->yfinance) (2023.7.22)\n",
      "Requirement already satisfied: idna<4,>=2.5 in c:\\users\\bgmun\\appdata\\local\\programs\\python\\python39\\lib\\site-packages (from requests>=2.31->yfinance) (3.4)\n",
      "Requirement already satisfied: urllib3<3,>=1.21.1 in c:\\users\\bgmun\\appdata\\local\\programs\\python\\python39\\lib\\site-packages (from requests>=2.31->yfinance) (2.0.4)\n",
      "Requirement already satisfied: charset-normalizer<4,>=2 in c:\\users\\bgmun\\appdata\\local\\programs\\python\\python39\\lib\\site-packages (from requests>=2.31->yfinance) (3.2.0)\n",
      "Note: you may need to restart the kernel to use updated packages.\n"
     ]
    },
    {
     "name": "stderr",
     "output_type": "stream",
     "text": [
      "WARNING: You are using pip version 21.2.3; however, version 23.2.1 is available.\n",
      "You should consider upgrading via the 'C:\\Users\\bgmun\\AppData\\Local\\Programs\\Python\\Python39\\python.exe -m pip install --upgrade pip' command.\n"
     ]
    }
   ],
   "source": [
    "pip install yfinance"
   ]
  },
  {
   "cell_type": "code",
   "execution_count": 8,
   "metadata": {
    "id": "kn8ELoBsBVKr"
   },
   "outputs": [],
   "source": [
    "#주식데이터 불러오기 일단 그냥 불러와 봤습니다 하하 나중에 감성분석 한거랑 붙일려구요 ! \n",
    "import yfinance as yf"
   ]
  },
  {
   "cell_type": "code",
   "execution_count": 9,
   "metadata": {
    "colab": {
     "base_uri": "https://localhost:8080/"
    },
    "id": "nkPL6jv4CfLz",
    "outputId": "d510b5a0-17af-4412-fbc8-505143738747"
   },
   "outputs": [
    {
     "name": "stdout",
     "output_type": "stream",
     "text": [
      "[*********************100%***********************]  1 of 1 completed\n"
     ]
    }
   ],
   "source": [
    "data = yf.download(\"^KS11\", start=\"2018-01-01\", end=\"2023-08-01\")"
   ]
  },
  {
   "cell_type": "code",
   "execution_count": 10,
   "metadata": {
    "colab": {
     "base_uri": "https://localhost:8080/",
     "height": 455
    },
    "id": "qGGrjwokCnMK",
    "outputId": "124e6847-2ba1-48b9-b91a-26775a85f994"
   },
   "outputs": [
    {
     "data": {
      "text/html": [
       "<div>\n",
       "<style scoped>\n",
       "    .dataframe tbody tr th:only-of-type {\n",
       "        vertical-align: middle;\n",
       "    }\n",
       "\n",
       "    .dataframe tbody tr th {\n",
       "        vertical-align: top;\n",
       "    }\n",
       "\n",
       "    .dataframe thead th {\n",
       "        text-align: right;\n",
       "    }\n",
       "</style>\n",
       "<table border=\"1\" class=\"dataframe\">\n",
       "  <thead>\n",
       "    <tr style=\"text-align: right;\">\n",
       "      <th></th>\n",
       "      <th>Open</th>\n",
       "      <th>High</th>\n",
       "      <th>Low</th>\n",
       "      <th>Close</th>\n",
       "      <th>Adj Close</th>\n",
       "      <th>Volume</th>\n",
       "    </tr>\n",
       "    <tr>\n",
       "      <th>Date</th>\n",
       "      <th></th>\n",
       "      <th></th>\n",
       "      <th></th>\n",
       "      <th></th>\n",
       "      <th></th>\n",
       "      <th></th>\n",
       "    </tr>\n",
       "  </thead>\n",
       "  <tbody>\n",
       "    <tr>\n",
       "      <th>2018-01-02</th>\n",
       "      <td>2474.860107</td>\n",
       "      <td>2481.020020</td>\n",
       "      <td>2465.939941</td>\n",
       "      <td>2479.649902</td>\n",
       "      <td>2479.649902</td>\n",
       "      <td>262200</td>\n",
       "    </tr>\n",
       "    <tr>\n",
       "      <th>2018-01-03</th>\n",
       "      <td>2484.629883</td>\n",
       "      <td>2493.399902</td>\n",
       "      <td>2481.909912</td>\n",
       "      <td>2486.350098</td>\n",
       "      <td>2486.350098</td>\n",
       "      <td>331100</td>\n",
       "    </tr>\n",
       "    <tr>\n",
       "      <th>2018-01-04</th>\n",
       "      <td>2502.500000</td>\n",
       "      <td>2502.500000</td>\n",
       "      <td>2466.449951</td>\n",
       "      <td>2466.459961</td>\n",
       "      <td>2466.459961</td>\n",
       "      <td>333800</td>\n",
       "    </tr>\n",
       "    <tr>\n",
       "      <th>2018-01-05</th>\n",
       "      <td>2476.850098</td>\n",
       "      <td>2497.520020</td>\n",
       "      <td>2475.510010</td>\n",
       "      <td>2497.520020</td>\n",
       "      <td>2497.520020</td>\n",
       "      <td>308800</td>\n",
       "    </tr>\n",
       "    <tr>\n",
       "      <th>2018-01-08</th>\n",
       "      <td>2510.699951</td>\n",
       "      <td>2515.370117</td>\n",
       "      <td>2494.179932</td>\n",
       "      <td>2513.280029</td>\n",
       "      <td>2513.280029</td>\n",
       "      <td>311400</td>\n",
       "    </tr>\n",
       "    <tr>\n",
       "      <th>...</th>\n",
       "      <td>...</td>\n",
       "      <td>...</td>\n",
       "      <td>...</td>\n",
       "      <td>...</td>\n",
       "      <td>...</td>\n",
       "      <td>...</td>\n",
       "    </tr>\n",
       "    <tr>\n",
       "      <th>2023-07-25</th>\n",
       "      <td>2643.350098</td>\n",
       "      <td>2646.709961</td>\n",
       "      <td>2621.600098</td>\n",
       "      <td>2636.459961</td>\n",
       "      <td>2636.459961</td>\n",
       "      <td>721500</td>\n",
       "    </tr>\n",
       "    <tr>\n",
       "      <th>2023-07-26</th>\n",
       "      <td>2638.760010</td>\n",
       "      <td>2639.209961</td>\n",
       "      <td>2580.979980</td>\n",
       "      <td>2592.360107</td>\n",
       "      <td>2592.360107</td>\n",
       "      <td>830100</td>\n",
       "    </tr>\n",
       "    <tr>\n",
       "      <th>2023-07-27</th>\n",
       "      <td>2599.820068</td>\n",
       "      <td>2617.610107</td>\n",
       "      <td>2586.360107</td>\n",
       "      <td>2603.810059</td>\n",
       "      <td>2603.810059</td>\n",
       "      <td>591900</td>\n",
       "    </tr>\n",
       "    <tr>\n",
       "      <th>2023-07-28</th>\n",
       "      <td>2593.669922</td>\n",
       "      <td>2609.540039</td>\n",
       "      <td>2586.330078</td>\n",
       "      <td>2608.320068</td>\n",
       "      <td>2608.320068</td>\n",
       "      <td>497300</td>\n",
       "    </tr>\n",
       "    <tr>\n",
       "      <th>2023-07-31</th>\n",
       "      <td>2628.870117</td>\n",
       "      <td>2639.449951</td>\n",
       "      <td>2622.209961</td>\n",
       "      <td>2632.580078</td>\n",
       "      <td>2632.580078</td>\n",
       "      <td>454200</td>\n",
       "    </tr>\n",
       "  </tbody>\n",
       "</table>\n",
       "<p>1374 rows × 6 columns</p>\n",
       "</div>"
      ],
      "text/plain": [
       "                   Open         High          Low        Close    Adj Close  \\\n",
       "Date                                                                          \n",
       "2018-01-02  2474.860107  2481.020020  2465.939941  2479.649902  2479.649902   \n",
       "2018-01-03  2484.629883  2493.399902  2481.909912  2486.350098  2486.350098   \n",
       "2018-01-04  2502.500000  2502.500000  2466.449951  2466.459961  2466.459961   \n",
       "2018-01-05  2476.850098  2497.520020  2475.510010  2497.520020  2497.520020   \n",
       "2018-01-08  2510.699951  2515.370117  2494.179932  2513.280029  2513.280029   \n",
       "...                 ...          ...          ...          ...          ...   \n",
       "2023-07-25  2643.350098  2646.709961  2621.600098  2636.459961  2636.459961   \n",
       "2023-07-26  2638.760010  2639.209961  2580.979980  2592.360107  2592.360107   \n",
       "2023-07-27  2599.820068  2617.610107  2586.360107  2603.810059  2603.810059   \n",
       "2023-07-28  2593.669922  2609.540039  2586.330078  2608.320068  2608.320068   \n",
       "2023-07-31  2628.870117  2639.449951  2622.209961  2632.580078  2632.580078   \n",
       "\n",
       "            Volume  \n",
       "Date                \n",
       "2018-01-02  262200  \n",
       "2018-01-03  331100  \n",
       "2018-01-04  333800  \n",
       "2018-01-05  308800  \n",
       "2018-01-08  311400  \n",
       "...            ...  \n",
       "2023-07-25  721500  \n",
       "2023-07-26  830100  \n",
       "2023-07-27  591900  \n",
       "2023-07-28  497300  \n",
       "2023-07-31  454200  \n",
       "\n",
       "[1374 rows x 6 columns]"
      ]
     },
     "execution_count": 10,
     "metadata": {},
     "output_type": "execute_result"
    }
   ],
   "source": [
    "data"
   ]
  },
  {
   "cell_type": "code",
   "execution_count": 11,
   "metadata": {
    "id": "ttzo2xJqLykC"
   },
   "outputs": [],
   "source": [
    "import selenium"
   ]
  },
  {
   "cell_type": "code",
   "execution_count": 12,
   "metadata": {
    "id": "Iwm-zn3aMAC5"
   },
   "outputs": [],
   "source": [
    "import time"
   ]
  },
  {
   "cell_type": "code",
   "execution_count": 13,
   "metadata": {
    "id": "Oap7O4wDSNcz"
   },
   "outputs": [],
   "source": [
    "from bs4 import BeautifulSoup as bs"
   ]
  },
  {
   "cell_type": "code",
   "execution_count": 53,
   "metadata": {
    "colab": {
     "base_uri": "https://localhost:8080/"
    },
    "id": "uHIMnaF-RSqU",
    "outputId": "041c10a4-a5f2-48ca-e046-fae74ea9ce51"
   },
   "outputs": [
    {
     "name": "stdout",
     "output_type": "stream",
     "text": [
      "- 접속한 웹 사이트의 제목: Nasdaq - Google 검색\n",
      "https://www.google.com/search?sca_esv=556524961&sxsrf=AB5stBgpJwBxK5OF21289mfRrybowxgTZQ:1691931220832&q=Nasdaq&tbm=nws&source=lnms&sa=X&ved=2ahUKEwi_qZv71tmAAxVumVYBHaqbD-sQ0pQJegQIDBAB&biw=1536&bih=715&dpr=1.25\n"
     ]
    }
   ],
   "source": [
    "from selenium import webdriver\n",
    "from selenium.webdriver.common.keys import Keys\n",
    "\n",
    "driver = webdriver.Chrome(options=options) # 크롬 드라이버 객체 생성\n",
    "\n",
    "#Nasdaq으로 검색\n",
    "driver.get('https://www.google.com/search?sca_esv=556524961&sxsrf=AB5stBgpJwBxK5OF21289mfRrybowxgTZQ:1691931220832&q=Nasdaq&tbm=nws&source=lnms&sa=X&ved=2ahUKEwi_qZv71tmAAxVumVYBHaqbD-sQ0pQJegQIDBAB&biw=1536&bih=715&dpr=1.25')\n",
    "\n",
    "#웹사이트 잘 들어왔는지 확인하기 접속한 URL의 제목 출력\n",
    "print(\"- 접속한 웹 사이트의 제목:\", driver.title)\n",
    "# 빠른 접근은 에러가 생길 수 있어서 time.sleep 으로 한템포 쉬어갑니덩\n",
    "time.sleep(1)\n",
    "# 도구 클릭.\n",
    "elem_tool = driver.find_element(By.XPATH,'//*[@id=\"hdtb-tls\"]').click()\n",
    "time.sleep(1)\n",
    "# # 최근항목 클릭.\n",
    "elem_recent = driver.find_element(By.XPATH,'//*[@id=\"tn_1\"]/span[2]/g-popup/div[1]/div/div')\n",
    "driver.execute_script(\"arguments[0].click();\", elem_recent)\n",
    "\n",
    "# # 기간설정 클릭.\n",
    "elem_input = driver.find_element(By.XPATH,'//*[@id=\"lb\"]/div/g-menu/g-menu-item[8]/div/div/span').click()\n",
    "\n",
    "time.sleep(1)\n",
    "\n",
    "print(driver.current_url)\n",
    "naver_news_link = []"
   ]
  },
  {
   "cell_type": "code",
   "execution_count": 56,
   "metadata": {
    "id": "z0aYYJvsSaid"
   },
   "outputs": [],
   "source": [
    "naver_list= [[],[]\n",
    "            ]\n",
    "# 뉴스 데이터를 저장할 객체 선언"
   ]
  },
  {
   "cell_type": "code",
   "execution_count": 57,
   "metadata": {
    "id": "ihjxu5_uS6Af"
   },
   "outputs": [],
   "source": [
    "next_button_xpath = '//*[@id=\"pnnext\"]/span[2]' #페이지 넘기는 다음버튼 클릭 정의"
   ]
  },
  {
   "cell_type": "code",
   "execution_count": 76,
   "metadata": {
    "id": "RYHvekQBRS6u"
   },
   "outputs": [],
   "source": [
    "# 본격적 크롤링을 위한 함수 구현\n",
    "\n",
    "def select_date_naver_news(year,month,day):\n",
    "\n",
    "    '''네이버뉴스에서 원하는 날짜의 뉴스를 검색해서 네이버뉴스 링크를 리스트로 return.'''\n",
    "    def format_date(year, month, day):\n",
    "        formatted_date = f\"{month:02d}/{day:02d}/{year}\"\n",
    "        return formatted_date\n",
    "\n",
    "\n",
    "    # 시작일 설정\n",
    "    elem_year = driver.find_element(By.XPATH,'//*[@id=\"OouJcb\"]')\n",
    "    elem_year.click()\n",
    "    elem_year.send_keys(format_date(year, month, day))\n",
    "\n",
    "\n",
    "    # 끝나는 일 설정\n",
    "    elem_month = driver.find_element(By.XPATH,'//*[@id=\"rzG2be\"]')\n",
    "    elem_month.click()\n",
    "    elem_month.send_keys(format_date(year, month, day))\n",
    "\n",
    "    time.sleep(1)\n",
    "\n",
    "    #실행 클릭\n",
    "    elem_day = driver.find_element(By.XPATH,'//*[@id=\"T3kYXe\"]/g-button')\n",
    "    elem_day.click()\n",
    "  \n",
    "    print('다음 날짜 선택 후 크롤링 준비')\n",
    "#################\n",
    "    previous_url = 0\n",
    "    while True:\n",
    "\n",
    "        current_url = driver.current_url\n",
    "        print(driver.current_url)\n",
    "\n",
    "        # 3째장 도달했을때 break\n",
    "        if current_url == previous_url:\n",
    "            break\n",
    "        elif \"start=20\" in current_url:\n",
    "            break\n",
    "\n",
    "        html = driver.page_source\n",
    "        soup = bs(html, 'html.parser')\n",
    "\n",
    "        titles = soup.select('div.n0jPhd.ynAwRc.MBeuO.nDgy9d')\n",
    "        date = soup.select('div.OSrXXb.rbYSKb.LfVVr > span')\n",
    "\n",
    "        # 현재 페이지에서의 크롤링 로직 작성\n",
    "        for t,d in zip(titles, date):\n",
    "            title = t.get_text()\n",
    "            date = d.get_text()\n",
    "            naver_list[0].append(title)\n",
    "            naver_list[1].append(date)\n",
    "        previous_url = current_url\n",
    "        \n",
    "        try:\n",
    "            next_button = driver.find_element(By.XPATH, next_button_xpath)\n",
    "        except:\n",
    "            print(\"Next button not found. Exiting loop.\")\n",
    "            break        \n",
    "        \n",
    "        driver.execute_script(\"arguments[0].click();\", next_button)\n",
    "\n",
    "################\n",
    "    print('크롤링 준비')\n",
    "    # 옵션 초기화 버튼 클릭\n",
    "    driver.find_element(By.XPATH,'//*[@id=\"tn_1\"]/a').click()\n",
    "    time.sleep(3)\n",
    "\n",
    "    # 도구 클릭.\n",
    "    elem_tool = driver.find_element(By.XPATH,'//*[@id=\"hdtb-tls\"]').click()\n",
    "    time.sleep(1)\n",
    "    # # 최근항목 클릭.\n",
    "    elem_recent = driver.find_element(By.XPATH,'//*[@id=\"tn_1\"]/span[2]/g-popup/div[1]/div/div')\n",
    "    driver.execute_script(\"arguments[0].click();\", elem_recent)\n",
    "\n",
    "    # # 기간설정 클릭.\n",
    "    elem_input = driver.find_element(By.XPATH,'//*[@id=\"lb\"]/div/g-menu/g-menu-item[8]/div/div/span').click()\n",
    "    \n",
    "    time.sleep(1)\n",
    "    print('다음날짜로 선택시작')\n",
    "    return naver_list"
   ]
  },
  {
   "cell_type": "code",
   "execution_count": 77,
   "metadata": {
    "colab": {
     "base_uri": "https://localhost:8080/"
    },
    "id": "Y5nBq4_5YllP",
    "outputId": "71429450-9454-4b6f-fc06-910213c727b0"
   },
   "outputs": [
    {
     "name": "stdout",
     "output_type": "stream",
     "text": [
      "Requirement already satisfied: tqdm in c:\\users\\bgmun\\appdata\\local\\programs\\python\\python39\\lib\\site-packages (4.66.1)\n",
      "Requirement already satisfied: colorama in c:\\users\\bgmun\\appdata\\local\\programs\\python\\python39\\lib\\site-packages (from tqdm) (0.4.6)\n"
     ]
    },
    {
     "name": "stderr",
     "output_type": "stream",
     "text": [
      "WARNING: You are using pip version 21.2.3; however, version 23.2.1 is available.\n",
      "You should consider upgrading via the 'C:\\Users\\bgmun\\AppData\\Local\\Programs\\Python\\Python39\\python.exe -m pip install --upgrade pip' command.\n"
     ]
    }
   ],
   "source": [
    "#잘~ 돌아가고 있나 눈으로 보고싶다 !\n",
    "!pip install tqdm"
   ]
  },
  {
   "cell_type": "code",
   "execution_count": 78,
   "metadata": {
    "id": "BKrXN9xtwTtq"
   },
   "outputs": [],
   "source": [
    "res=[]"
   ]
  },
  {
   "cell_type": "code",
   "execution_count": 79,
   "metadata": {
    "id": "pEoEfc-RZkZA"
   },
   "outputs": [],
   "source": [
    "#잘~ 돌아가고 있나 눈으로 보고싶다 !\n",
    "from tqdm import tqdm"
   ]
  },
  {
   "cell_type": "code",
   "execution_count": 80,
   "metadata": {
    "colab": {
     "base_uri": "https://localhost:8080/"
    },
    "id": "PJqRycQWRS9X",
    "outputId": "eea07d4e-2285-4042-d5ed-0613ed402726"
   },
   "outputs": [
    {
     "name": "stdout",
     "output_type": "stream",
     "text": [
      "- 접속한 웹 사이트의 제목: Nasdaq - Google 검색\n"
     ]
    },
    {
     "name": "stderr",
     "output_type": "stream",
     "text": [
      "preprocessing year:   0%|                                                                        | 0/1 [00:00<?, ?it/s]\n",
      "preprocessing month:   0%|                                                                       | 0/1 [00:00<?, ?it/s]\u001b[A\n",
      "\n",
      "preprocessing day:   0%|                                                                         | 0/6 [00:00<?, ?it/s]\u001b[A\u001b[A"
     ]
    },
    {
     "name": "stdout",
     "output_type": "stream",
     "text": [
      "다음 날짜 선택 후 크롤링 준비\n",
      "https://www.google.com/search?q=Nasdaq&sca_esv=556524961&biw=1536&bih=715&source=lnt&tbs=cdr%3A1%2Ccd_min%3A2%2F2%2F2023%2Ccd_max%3A2%2F2%2F2023&tbm=nws\n",
      "https://www.google.com/search?q=Nasdaq&sca_esv=556524961&tbs=cdr:1,cd_min:2/2/2023,cd_max:2/2/2023&tbm=nws&ei=0-_YZIa3B4Xq1e8PhpWl2A8&start=10&sa=N&ved=2ahUKEwjG7LyL89mAAxUFdfUHHYZKCfsQ8NMDegQIARAK&biw=800&bih=600&dpr=1\n",
      "https://www.google.com/search?q=Nasdaq&sca_esv=556524961&tbs=cdr:1,cd_min:2/2/2023,cd_max:2/2/2023&tbm=nws&ei=1O_YZKroLcO8wAOOo5mACw&start=20&sa=N&ved=2ahUKEwiqoqCM89mAAxVDHnAKHY5RBrA4ChDw0wN6BAgDEAs&biw=800&bih=600&dpr=1\n",
      "크롤링 준비\n"
     ]
    },
    {
     "name": "stderr",
     "output_type": "stream",
     "text": [
      "\n",
      "\n",
      "preprocessing day:  17%|██████████▊                                                      | 1/6 [00:10<00:51, 10.35s/it]\u001b[A\u001b[A"
     ]
    },
    {
     "name": "stdout",
     "output_type": "stream",
     "text": [
      "다음날짜로 선택시작\n",
      "다음 날짜 선택 후 크롤링 준비\n",
      "https://www.google.com/search?q=Nasdaq&sca_esv=556524961&tbas=0&biw=800&bih=600&source=lnt&tbs=cdr%3A1%2Ccd_min%3A2%2F3%2F2023%2Ccd_max%3A2%2F3%2F2023&tbm=nws\n",
      "https://www.google.com/search?q=Nasdaq&sca_esv=556524961&tbas=0&tbs=cdr:1,cd_min:2/3/2023,cd_max:2/3/2023&tbm=nws&ei=3e_YZOuaHoOJ-Qaq74uQAQ&start=10&sa=N&ved=2ahUKEwir_bWQ89mAAxWDRN4KHar3AhIQ8NMDegQIAxAK&biw=800&bih=600&dpr=1\n",
      "https://www.google.com/search?q=Nasdaq&sca_esv=556524961&tbas=0&tbs=cdr:1,cd_min:2/3/2023,cd_max:2/3/2023&tbm=nws&ei=3u_YZJLoCb3X1e8Py6uqqAU&start=20&sa=N&ved=2ahUKEwiSz96Q89mAAxW9a_UHHcuVClU4ChDw0wN6BAgCEAs&biw=800&bih=600&dpr=1\n",
      "크롤링 준비\n"
     ]
    },
    {
     "name": "stderr",
     "output_type": "stream",
     "text": [
      "\n",
      "\n",
      "preprocessing day:  33%|█████████████████████▋                                           | 2/6 [00:19<00:37,  9.46s/it]\u001b[A\u001b[A"
     ]
    },
    {
     "name": "stdout",
     "output_type": "stream",
     "text": [
      "다음날짜로 선택시작\n",
      "다음 날짜 선택 후 크롤링 준비\n",
      "https://www.google.com/search?q=Nasdaq&sca_esv=556524961&tbas=0&biw=800&bih=600&source=lnt&tbs=cdr%3A1%2Ccd_min%3A2%2F4%2F2023%2Ccd_max%3A2%2F4%2F2023&tbm=nws\n",
      "Next button not found. Exiting loop.\n",
      "크롤링 준비\n"
     ]
    },
    {
     "name": "stderr",
     "output_type": "stream",
     "text": [
      "\n",
      "\n",
      "preprocessing day:  50%|████████████████████████████████▌                                | 3/6 [00:26<00:26,  8.71s/it]\u001b[A\u001b[A"
     ]
    },
    {
     "name": "stdout",
     "output_type": "stream",
     "text": [
      "다음날짜로 선택시작\n",
      "다음 날짜 선택 후 크롤링 준비\n",
      "https://www.google.com/search?q=Nasdaq&sca_esv=556524961&tbas=0&biw=800&bih=600&source=lnt&tbs=cdr%3A1%2Ccd_min%3A2%2F5%2F2023%2Ccd_max%3A2%2F5%2F2023&tbm=nws\n",
      "https://www.google.com/search?q=Nasdaq&sca_esv=556524961&tbas=0&tbs=cdr:1,cd_min:2/5/2023,cd_max:2/5/2023&tbm=nws&ei=7u_YZIfBCJfe-Qbp5p6YCA&start=10&sa=N&ved=2ahUKEwiH8K2Y89mAAxUXb94KHWmzB4MQ8NMDegQIAhAG&biw=800&bih=600&dpr=1\n",
      "Next button not found. Exiting loop.\n",
      "크롤링 준비\n"
     ]
    },
    {
     "name": "stderr",
     "output_type": "stream",
     "text": [
      "\n",
      "\n",
      "preprocessing day:  67%|███████████████████████████████████████████▎                     | 4/6 [00:35<00:17,  8.76s/it]\u001b[A\u001b[A"
     ]
    },
    {
     "name": "stdout",
     "output_type": "stream",
     "text": [
      "다음날짜로 선택시작\n",
      "다음 날짜 선택 후 크롤링 준비\n",
      "https://www.google.com/search?q=Nasdaq&sca_esv=556524961&tbas=0&biw=800&bih=600&source=lnt&tbs=cdr%3A1%2Ccd_min%3A2%2F6%2F2023%2Ccd_max%3A2%2F6%2F2023&tbm=nws\n",
      "https://www.google.com/search?q=Nasdaq&sca_esv=556524961&tbas=0&tbs=cdr:1,cd_min:2/6/2023,cd_max:2/6/2023&tbm=nws&ei=9u_YZLjnOJn4hwPr-6DADg&start=10&sa=N&ved=2ahUKEwi4usac89mAAxUZ_GEKHes9COgQ8NMDegQIAhAK&biw=800&bih=600&dpr=1\n",
      "https://www.google.com/search?q=Nasdaq&sca_esv=556524961&tbas=0&tbs=cdr:1,cd_min:2/6/2023,cd_max:2/6/2023&tbm=nws&ei=9-_YZI-NMczywQOz8IBg&start=20&sa=N&ved=2ahUKEwjP5Puc89mAAxVMeXAKHTM4AAw4ChDw0wN6BAgBEAs&biw=800&bih=600&dpr=1\n",
      "크롤링 준비\n"
     ]
    },
    {
     "name": "stderr",
     "output_type": "stream",
     "text": [
      "\n",
      "\n",
      "preprocessing day:  83%|██████████████████████████████████████████████████████▏          | 5/6 [00:45<00:09,  9.17s/it]\u001b[A\u001b[A"
     ]
    },
    {
     "name": "stdout",
     "output_type": "stream",
     "text": [
      "다음날짜로 선택시작\n",
      "다음 날짜 선택 후 크롤링 준비\n",
      "https://www.google.com/search?q=Nasdaq&sca_esv=556524961&tbas=0&biw=800&bih=600&source=lnt&tbs=cdr%3A1%2Ccd_min%3A2%2F7%2F2023%2Ccd_max%3A2%2F7%2F2023&tbm=nws\n",
      "https://www.google.com/search?q=Nasdaq&sca_esv=556524961&tbas=0&tbs=cdr:1,cd_min:2/7/2023,cd_max:2/7/2023&tbm=nws&ei=APDYZMqcNc7j1e8Pk42z0AU&start=10&sa=N&ved=2ahUKEwjKnKWh89mAAxXOcfUHHZPGDFoQ8NMDegQIAxAK&biw=800&bih=600&dpr=1\n",
      "https://www.google.com/search?q=Nasdaq&sca_esv=556524961&tbas=0&tbs=cdr:1,cd_min:2/7/2023,cd_max:2/7/2023&tbm=nws&ei=AfDYZKXxM9mn-QbuwatA&start=20&sa=N&ved=2ahUKEwjl9eCh89mAAxXZU94KHe7gCgg4ChDw0wN6BAgEEAs&biw=800&bih=600&dpr=1\n",
      "크롤링 준비\n"
     ]
    },
    {
     "name": "stderr",
     "output_type": "stream",
     "text": [
      "\n",
      "\n",
      "preprocessing day: 100%|█████████████████████████████████████████████████████████████████| 6/6 [00:55<00:00,  9.22s/it]\u001b[A\u001b[A\n",
      "\n",
      "preprocessing month: 100%|███████████████████████████████████████████████████████████████| 1/1 [00:55<00:00, 55.33s/it]\u001b[A\n",
      "preprocessing year: 100%|████████████████████████████████████████████████████████████████| 1/1 [00:55<00:00, 55.34s/it]"
     ]
    },
    {
     "name": "stdout",
     "output_type": "stream",
     "text": [
      "다음날짜로 선택시작\n"
     ]
    },
    {
     "name": "stderr",
     "output_type": "stream",
     "text": [
      "\n"
     ]
    }
   ],
   "source": [
    "#크롤링을 시작해볼까요~\n",
    "from selenium import webdriver\n",
    "from selenium.webdriver.common.keys import Keys\n",
    "\n",
    "driver = webdriver.Chrome(options=options)                 # 크롬 드라이버 객체 생성\n",
    "\n",
    "#코스피 경제로 검색\n",
    "driver.get('https://www.google.com/search?sca_esv=556524961&sxsrf=AB5stBgpJwBxK5OF21289mfRrybowxgTZQ:1691931220832&q=Nasdaq&tbm=nws&source=lnms&sa=X&ved=2ahUKEwi_qZv71tmAAxVumVYBHaqbD-sQ0pQJegQIDBAB&biw=1536&bih=715&dpr=1.25')\n",
    "\n",
    "print(\"- 접속한 웹 사이트의 제목:\", driver.title) # 접속한 URL의 제목 출력\n",
    "\n",
    "# 도구 클릭.\n",
    "elem_tool = driver.find_element(By.XPATH,'//*[@id=\"hdtb-tls\"]').click()\n",
    "time.sleep(1)\n",
    "# # 최근항목 클릭.\n",
    "elem_recent = driver.find_element(By.XPATH,'//*[@id=\"tn_1\"]/span[2]/g-popup/div[1]/div/div')\n",
    "driver.execute_script(\"arguments[0].click();\", elem_recent)\n",
    "\n",
    "# # 기간설정 클릭.\n",
    "elem_input = driver.find_element(By.XPATH,'//*[@id=\"lb\"]/div/g-menu/g-menu-item[8]/div/div/span').click()\n",
    "\n",
    "\n",
    "naver_news_link = []\n",
    "#for 문으로 원하는 범위 설정하기\n",
    "#너무 많이 하면 오래걸리고 중간에 네트워크가 불안정하면 끊길 수 있어요!\n",
    "for year in tqdm(range(2023,2024),desc='preprocessing year'):\n",
    "    for month in tqdm(range(2,3),desc='preprocessing month'):\n",
    "        for day in tqdm(range(2,8),desc='preprocessing day'):\n",
    "            try:\n",
    "                res = select_date_naver_news(year=year,month=month,day=day)\n",
    "            except Exception as e: #오류 발생시 일단 넘어가고 왜 오류인지 출력해주기\n",
    "                print(f\"An error occurred while crawling for {year}-{month}-{day}: {e}\")"
   ]
  },
  {
   "cell_type": "code",
   "execution_count": 81,
   "metadata": {
    "colab": {
     "base_uri": "https://localhost:8080/"
    },
    "id": "-0ITJLRtwgXK",
    "outputId": "4b2cb552-788a-474c-e35d-ab98ed0dfa87"
   },
   "outputs": [
    {
     "data": {
      "text/plain": [
       "[['Nasdaq Jumps 3%. Powell and Earnings Are Behind the Rally.',\n",
       "  'US STOCKS-Nasdaq soars more than 3% on Meta boost, Fed relief',\n",
       "  'Nasdaq, S&P 500 post strong gains on Fed relief, Meta surge ...',\n",
       "  'The Nasdaq Is Having Best Start to the Year Since 1975',\n",
       "  'History Suggests the Nasdaq Could Soar In 2023 -- 1 Stock ...',\n",
       "  'There is no give up in the Nasdaq. Up nearly 400 points now',\n",
       "  'Cathie Wood Says ARKK Is ‘the New Nasdaq’',\n",
       "  'Outlook on the S&P 500, Nasdaq 100, Russell 2000 and Dow ...',\n",
       "  'MakeMyTrip Limited (NASDAQ:MMYT) Q3 2023 Earnings Call Transcript',\n",
       "  'Bed Bath & Beyond Stock (NASDAQ:BBBY): The Risk is Not ...',\n",
       "  \"Can You Trust Intel CEO Pat Gelsinger's Turnaround Plan?\",\n",
       "  'Stock Market News for Feb 2, 2023',\n",
       "  'Lotus About to Be Listed on NASDAQ after Strategic Merger',\n",
       "  'The Zacks Analyst Blog Highlights Invesco QQQ, Invesco NASDAQ 100 ETF, \\nFirst Trust NASDAQ-100 Equal Weighted Index Fund, Simplify Nasdaq 100 PLUS \\nConvexity ETF and Fidelity Nasdaq Composite Index Tracking Stock',\n",
       "  'Nasdaq Enters Rare \"Power Trend\"; Here Are 3 Ways To Profit',\n",
       "  'CANADA STOCKS-TSX slips as commodity stocks fall ...',\n",
       "  'S&P 500 Breaks Out Following Nasdaq, Russell 2000',\n",
       "  'Understanding Investment Styles',\n",
       "  'Nasdaq closes 3.3% higher as investors bet rates are close to ...',\n",
       "  \"Here's Why We Think Incyte (NASDAQ:INCY) Might Deserve Your Attention Today\",\n",
       "  'U.S. stocks finish lower, but Nasdaq Composite, S&P 500 book consecutive \\nweekly advance',\n",
       "  'Nasdaq Rally Gets a Reality Check as Megacaps Miss',\n",
       "  'S&P 500, Nasdaq 100 Forecasts For The Week Ahead',\n",
       "  'Tech stocks just finished a five-week rally — the longest stretch since \\nmarket peak in November 2021',\n",
       "  'Brown Ethan Increases Position in Beyond Meat (BYND)',\n",
       "  'Nasdaq Panel Grants Helbiz’s Request for Extension to Comply with Continued \\nListing Requirements',\n",
       "  'Why Twist Bioscience Stock Is Sinking Today',\n",
       "  \"Cathie Wood hails her flagship Ark Innovation fund as 'the new Nasdaq'\",\n",
       "  'Lux Donn S. Cuts Stake in MGP Ingredients (MGPI)',\n",
       "  \"Is Intel Stock (NASDAQ:INTC) Undervalued Despite AMD's ...\",\n",
       "  'Is Editas Medicine Stock a Buy Now?',\n",
       "  \"Stock Market Investing Action Plan: Nasdaq's Best January in ...\",\n",
       "  'OpenText Rings the Opening Bell',\n",
       "  'BlackRock Increases Position in Qurate Retail Group (QRTEA)',\n",
       "  'Kinetik S.a r.l. Cuts Stake in Arrival Group (ARVL)',\n",
       "  'Should You Think About Buying Verint Systems Inc. (NASDAQ:VRNT) Now?',\n",
       "  'Why Ford Stock Jumped 16% in January',\n",
       "  'BigBear.ai (BBAI) Bounces Higher on Institutional Speculation ...',\n",
       "  'The Good News in Starbucks (SBUX) and Ford (F) Earnings',\n",
       "  'Tencent Holdings Cuts Stake in Futu Holdings (FUTU)',\n",
       "  'S&P 500, NASDAQ Composite Settle Lower Amid Rising Fed Rate Hike \\nExpectations',\n",
       "  'Cognizant Technology Solutions (CTSH) Declares $0.29 ...',\n",
       "  'Janney Montgomery Scott Initiates Coverage of Enphase ...',\n",
       "  \"Should You Still Buy the Nasdaq's Best-Performing January ...\",\n",
       "  'American Superconductor Corporation (NASDAQ:AMSC) Q3 2022 Earnings Call \\nTranscript',\n",
       "  \"Nasdaq Bear Market: 5 Special Growth Stocks You'll Regret ...\",\n",
       "  \"Has the Stock Market Hit Bottom? Here's a Better Question to ...\",\n",
       "  'Why Buying Palo Alto Networks Now Is a Genius Move',\n",
       "  'Is Thermo Fisher Scientific Stock a Buy Now?',\n",
       "  'Nasdaq Jumps 3%. Powell and Earnings Are Behind the Rally.',\n",
       "  'US STOCKS-Nasdaq soars more than 3% on Meta boost, Fed relief',\n",
       "  'Nasdaq, S&P 500 post strong gains on Fed relief, Meta surge ...',\n",
       "  'The Nasdaq Is Having Best Start to the Year Since 1975',\n",
       "  'History Suggests the Nasdaq Could Soar In 2023 -- 1 Stock ...',\n",
       "  'There is no give up in the Nasdaq. Up nearly 400 points now',\n",
       "  'Cathie Wood Says ARKK Is ‘the New Nasdaq’',\n",
       "  'Outlook on the S&P 500, Nasdaq 100, Russell 2000 and Dow ...',\n",
       "  'MakeMyTrip Limited (NASDAQ:MMYT) Q3 2023 Earnings Call Transcript',\n",
       "  'Bed Bath & Beyond Stock (NASDAQ:BBBY): The Risk is Not ...',\n",
       "  \"Can You Trust Intel CEO Pat Gelsinger's Turnaround Plan?\",\n",
       "  'Stock Market News for Feb 2, 2023',\n",
       "  'Lotus About to Be Listed on NASDAQ after Strategic Merger',\n",
       "  'The Zacks Analyst Blog Highlights Invesco QQQ, Invesco NASDAQ 100 ETF, \\nFirst Trust NASDAQ-100 Equal Weighted Index Fund, Simplify Nasdaq 100 PLUS \\nConvexity ETF and Fidelity Nasdaq Composite Index Tracking Stock',\n",
       "  'Nasdaq Enters Rare \"Power Trend\"; Here Are 3 Ways To Profit',\n",
       "  'CANADA STOCKS-TSX slips as commodity stocks fall ...',\n",
       "  'S&P 500 Breaks Out Following Nasdaq, Russell 2000',\n",
       "  'Understanding Investment Styles',\n",
       "  'Nasdaq closes 3.3% higher as investors bet rates are close to ...',\n",
       "  \"Here's Why We Think Incyte (NASDAQ:INCY) Might Deserve Your Attention Today\",\n",
       "  'U.S. stocks finish lower, but Nasdaq Composite, S&P 500 book consecutive \\nweekly advance',\n",
       "  'Nasdaq Rally Gets a Reality Check as Megacaps Miss',\n",
       "  'S&P 500, Nasdaq 100 Forecasts For The Week Ahead',\n",
       "  'Tech stocks just finished a five-week rally — the longest stretch since \\nmarket peak in November 2021',\n",
       "  'Brown Ethan Increases Position in Beyond Meat (BYND)',\n",
       "  'Nasdaq Panel Grants Helbiz’s Request for Extension to Comply with Continued \\nListing Requirements',\n",
       "  'Why Twist Bioscience Stock Is Sinking Today',\n",
       "  \"Cathie Wood hails her flagship Ark Innovation fund as 'the new Nasdaq'\",\n",
       "  'Lux Donn S. Cuts Stake in MGP Ingredients (MGPI)',\n",
       "  \"Is Intel Stock (NASDAQ:INTC) Undervalued Despite AMD's ...\",\n",
       "  'Is Editas Medicine Stock a Buy Now?',\n",
       "  \"Stock Market Investing Action Plan: Nasdaq's Best January in ...\",\n",
       "  'OpenText Rings the Opening Bell',\n",
       "  'BlackRock Increases Position in Qurate Retail Group (QRTEA)',\n",
       "  'Kinetik S.a r.l. Cuts Stake in Arrival Group (ARVL)',\n",
       "  'Should You Think About Buying Verint Systems Inc. (NASDAQ:VRNT) Now?',\n",
       "  'Why Ford Stock Jumped 16% in January',\n",
       "  'BigBear.ai (BBAI) Bounces Higher on Institutional Speculation ...',\n",
       "  'The Good News in Starbucks (SBUX) and Ford (F) Earnings',\n",
       "  'Tencent Holdings Cuts Stake in Futu Holdings (FUTU)',\n",
       "  'S&P 500, NASDAQ Composite Settle Lower Amid Rising Fed Rate Hike \\nExpectations',\n",
       "  'Cognizant Technology Solutions (CTSH) Declares $0.29 ...',\n",
       "  'Janney Montgomery Scott Initiates Coverage of Enphase ...',\n",
       "  \"Should You Still Buy the Nasdaq's Best-Performing January ...\",\n",
       "  'American Superconductor Corporation (NASDAQ:AMSC) Q3 2022 Earnings Call \\nTranscript',\n",
       "  \"Nasdaq Bear Market: 5 Special Growth Stocks You'll Regret ...\",\n",
       "  \"Has the Stock Market Hit Bottom? Here's a Better Question to ...\",\n",
       "  'Why Buying Palo Alto Networks Now Is a Genius Move',\n",
       "  'Is Thermo Fisher Scientific Stock a Buy Now?',\n",
       "  'Nasdaq Jumps 3%. Powell and Earnings Are Behind the Rally.',\n",
       "  'US STOCKS-Nasdaq soars more than 3% on Meta boost, Fed relief',\n",
       "  'Nasdaq, S&P 500 post strong gains on Fed relief, Meta surge ...',\n",
       "  'The Nasdaq Is Having Best Start to the Year Since 1975',\n",
       "  'History Suggests the Nasdaq Could Soar In 2023 -- 1 Stock ...',\n",
       "  'There is no give up in the Nasdaq. Up nearly 400 points now',\n",
       "  '3 Tech Stocks To Watch In February 2023',\n",
       "  'Cathie Wood Says ARKK Is ‘the New Nasdaq’',\n",
       "  'Outlook on the S&P 500, Nasdaq 100, Russell 2000 and Dow ...',\n",
       "  'MakeMyTrip Limited (NASDAQ:MMYT) Q3 2023 Earnings Call Transcript',\n",
       "  'Bed Bath & Beyond Stock (NASDAQ:BBBY): The Risk is Not ...',\n",
       "  \"Can You Trust Intel CEO Pat Gelsinger's Turnaround Plan?\",\n",
       "  'Stock Market News for Feb 2, 2023',\n",
       "  'Costco Continues to be the Right Stock for the Right Time',\n",
       "  'This Indicator Says the Stock Market Is Going to Have a Great ...',\n",
       "  'Lotus About to Be Listed on NASDAQ after Strategic Merger',\n",
       "  'The Zacks Analyst Blog Highlights Invesco QQQ, Invesco NASDAQ 100 ETF, \\nFirst Trust NASDAQ-100 Equal Weighted Index Fund, Simplify Nasdaq 100 PLUS \\nConvexity ETF and Fidelity Nasdaq Composite Index Tracking Stock',\n",
       "  'Old Dominion Freight Line, Inc. (NASDAQ:ODFL) Q4 2022 Earnings Call \\nTranscript',\n",
       "  'Nasdaq Enters Rare \"Power Trend\"; Here Are 3 Ways To Profit',\n",
       "  'CANADA STOCKS-TSX slips as commodity stocks fall ...',\n",
       "  'U.S. stocks finish lower, but Nasdaq Composite, S&P 500 book consecutive \\nweekly advance',\n",
       "  'S&P 500, Nasdaq 100 Forecasts For The Week Ahead',\n",
       "  'Nasdaq, S&P, Dow edge lower after unexpectedly strong jobs ...',\n",
       "  'Tech stocks just finished a five-week rally — the longest stretch since \\nmarket peak in November 2021',\n",
       "  'Nasdaq Panel Grants Helbiz’s Request for Extension to Comply with Continued \\nListing Requirements',\n",
       "  \"Cathie Wood hails her flagship Ark Innovation fund as 'the new Nasdaq'\",\n",
       "  'Why Twist Bioscience Stock Is Sinking Today',\n",
       "  'Lux Donn S. Cuts Stake in MGP Ingredients (MGPI)',\n",
       "  \"Is Intel Stock (NASDAQ:INTC) Undervalued Despite AMD's ...\",\n",
       "  'Is Editas Medicine Stock a Buy Now?',\n",
       "  'OpenText Rings the Opening Bell',\n",
       "  \"Stock Market Investing Action Plan: Nasdaq's Best January in ...\",\n",
       "  'BlackRock Increases Position in Qurate Retail Group (QRTEA)',\n",
       "  'Kinetik S.a r.l. Cuts Stake in Arrival Group (ARVL)',\n",
       "  'Should You Think About Buying Verint Systems Inc. (NASDAQ:VRNT) Now?',\n",
       "  'Why Ford Stock Jumped 16% in January',\n",
       "  'BigBear.ai (BBAI) Bounces Higher on Institutional Speculation ...',\n",
       "  'The Good News in Starbucks (SBUX) and Ford (F) Earnings',\n",
       "  'Tencent Holdings Cuts Stake in Futu Holdings (FUTU)',\n",
       "  'Altria Stock (NYSE:MO) Offers Investors Multiple Ways to Win',\n",
       "  'S&P 500, NASDAQ Composite Settle Lower Amid Rising Fed Rate Hike \\nExpectations',\n",
       "  'Loop Capital Downgrades Upstart Holdings (UPST)',\n",
       "  'Cognizant Technology Solutions (CTSH) Declares $0.29 ...',\n",
       "  'Janney Montgomery Scott Initiates Coverage of Enphase ...',\n",
       "  \"Should You Still Buy the Nasdaq's Best-Performing January ...\",\n",
       "  'American Superconductor Corporation (NASDAQ:AMSC) Q3 2022 Earnings Call \\nTranscript',\n",
       "  \"Nasdaq Bear Market: 5 Special Growth Stocks You'll Regret ...\",\n",
       "  \"Has the Stock Market Hit Bottom? Here's a Better Question to ...\",\n",
       "  'Why Buying Palo Alto Networks Now Is a Genius Move',\n",
       "  'Is Thermo Fisher Scientific Stock a Buy Now?',\n",
       "  'Nasdaq Jumps 3%. Powell and Earnings Are Behind the Rally.',\n",
       "  'US STOCKS-Nasdaq soars more than 3% on Meta boost, Fed relief',\n",
       "  'Nasdaq, S&P 500 post strong gains on Fed relief, Meta surge ...',\n",
       "  'The Nasdaq Is Having Best Start to the Year Since 1975',\n",
       "  'History Suggests the Nasdaq Could Soar In 2023 -- 1 Stock ...',\n",
       "  'There is no give up in the Nasdaq. Up nearly 400 points now',\n",
       "  '3 Tech Stocks To Watch In February 2023',\n",
       "  'Cathie Wood Says ARKK Is ‘the New Nasdaq’',\n",
       "  'Outlook on the S&P 500, Nasdaq 100, Russell 2000 and Dow ...',\n",
       "  'MakeMyTrip Limited (NASDAQ:MMYT) Q3 2023 Earnings Call Transcript',\n",
       "  'Bed Bath & Beyond Stock (NASDAQ:BBBY): The Risk is Not ...',\n",
       "  \"Can You Trust Intel CEO Pat Gelsinger's Turnaround Plan?\",\n",
       "  'Stock Market News for Feb 2, 2023',\n",
       "  'Costco Continues to be the Right Stock for the Right Time',\n",
       "  'This Indicator Says the Stock Market Is Going to Have a Great ...',\n",
       "  'Lotus About to Be Listed on NASDAQ after Strategic Merger',\n",
       "  'The Zacks Analyst Blog Highlights Invesco QQQ, Invesco NASDAQ 100 ETF, \\nFirst Trust NASDAQ-100 Equal Weighted Index Fund, Simplify Nasdaq 100 PLUS \\nConvexity ETF and Fidelity Nasdaq Composite Index Tracking Stock',\n",
       "  'Old Dominion Freight Line, Inc. (NASDAQ:ODFL) Q4 2022 Earnings Call \\nTranscript',\n",
       "  'Nasdaq Enters Rare \"Power Trend\"; Here Are 3 Ways To Profit',\n",
       "  'CANADA STOCKS-TSX slips as commodity stocks fall ...',\n",
       "  'U.S. stocks finish lower, but Nasdaq Composite, S&P 500 book consecutive \\nweekly advance',\n",
       "  'S&P 500, Nasdaq 100 Forecasts For The Week Ahead',\n",
       "  'Nasdaq, S&P, Dow edge lower after unexpectedly strong jobs ...',\n",
       "  'Tech stocks just finished a five-week rally — the longest stretch since \\nmarket peak in November 2021',\n",
       "  'Nasdaq Panel Grants Helbiz’s Request for Extension to Comply with Continued \\nListing Requirements',\n",
       "  \"Cathie Wood hails her flagship Ark Innovation fund as 'the new Nasdaq'\",\n",
       "  'Why Twist Bioscience Stock Is Sinking Today',\n",
       "  'Lux Donn S. Cuts Stake in MGP Ingredients (MGPI)',\n",
       "  \"Is Intel Stock (NASDAQ:INTC) Undervalued Despite AMD's ...\",\n",
       "  'Is Editas Medicine Stock a Buy Now?',\n",
       "  'OpenText Rings the Opening Bell',\n",
       "  \"Stock Market Investing Action Plan: Nasdaq's Best January in ...\",\n",
       "  'BlackRock Increases Position in Qurate Retail Group (QRTEA)',\n",
       "  'Kinetik S.a r.l. Cuts Stake in Arrival Group (ARVL)',\n",
       "  'Should You Think About Buying Verint Systems Inc. (NASDAQ:VRNT) Now?',\n",
       "  'Why Ford Stock Jumped 16% in January',\n",
       "  'BigBear.ai (BBAI) Bounces Higher on Institutional Speculation ...',\n",
       "  'The Good News in Starbucks (SBUX) and Ford (F) Earnings',\n",
       "  'Tencent Holdings Cuts Stake in Futu Holdings (FUTU)',\n",
       "  'Altria Stock (NYSE:MO) Offers Investors Multiple Ways to Win',\n",
       "  'S&P 500, NASDAQ Composite Settle Lower Amid Rising Fed Rate Hike \\nExpectations',\n",
       "  'Loop Capital Downgrades Upstart Holdings (UPST)',\n",
       "  'Cognizant Technology Solutions (CTSH) Declares $0.29 ...',\n",
       "  'Janney Montgomery Scott Initiates Coverage of Enphase ...',\n",
       "  \"Should You Still Buy the Nasdaq's Best-Performing January ...\",\n",
       "  'American Superconductor Corporation (NASDAQ:AMSC) Q3 2022 Earnings Call \\nTranscript',\n",
       "  \"Nasdaq Bear Market: 5 Special Growth Stocks You'll Regret ...\",\n",
       "  \"Has the Stock Market Hit Bottom? Here's a Better Question to ...\",\n",
       "  'Why Buying Palo Alto Networks Now Is a Genius Move',\n",
       "  'Is Thermo Fisher Scientific Stock a Buy Now?',\n",
       "  'Markets Week Ahead: Nasdaq 100, Dow Jones, US Dollar, Gold, Jerome Powell, \\nRBA',\n",
       "  'Best Growth Stocks To Buy Now? 3 To Watch In 2023',\n",
       "  'S&P 500 and Nasdaq 100 index technical outlook',\n",
       "  'Weekly Preview: Earnings to Watch This Week 2-5-23 (DIS ...',\n",
       "  'Is PayPal Stock a Buy?',\n",
       "  'Where Will Match Group Stock Be in 1 Year?',\n",
       "  'Why Costco Stock Rose 12% in January',\n",
       "  'Is It Too Late to Buy Twilio Stock?',\n",
       "  'Saia, Inc. (NASDAQ:SAIA) Q4 2022 Earnings Call Transcript',\n",
       "  'Where Will Altria Stock Be in 1 Year?',\n",
       "  'Why Chipotle Stock Soared Almost 19% in January',\n",
       "  'Has a New Bull Market Begun? (AAPL, AMZN, TSLA, META)',\n",
       "  'Dow Jones, Nasdaq, S&P 500 weekly preview: Stocks rally ...',\n",
       "  'BUZZ-U.S. STOCKS ON THE MOVE-Fat Brands, Spotify, Uber ...',\n",
       "  'S&P 500, Nasdaq, Dow close Monday lower as January jobs ...',\n",
       "  '5 Stocks That Can Benefit From Popular AI Like ChatGPT',\n",
       "  '2 Nasdaq-100 Stocks to Double Down on in February',\n",
       "  '3 Cheap Stocks to Buy Right Now',\n",
       "  'A Flying Motorbike Company Just Got Listed on the Nasdaq',\n",
       "  'MoffettNathanson Downgrades T-Mobile Us (TMUS)',\n",
       "  'Meta stock is killing it with stunning outperformance over FAANG, Nasdaq',\n",
       "  'Henry Schein to Ring the Nasdaq Stock Market Opening Bell',\n",
       "  'State Street Cuts Stake in Umpqua Holdings (UMPQ)',\n",
       "  \"Should You Think About Buying Papa John's International, Inc. (NASDAQ:PZZA) \\nNow?\",\n",
       "  'Will the Stock Market Crash Again Soon?',\n",
       "  'State Street Cuts Stake in Lumen Technologies (LUMN)',\n",
       "  \"Here's Why We're Not Too Worried About Denali Therapeutics' (NASDAQ:DNLI) \\nCash Burn Situation\",\n",
       "  'Emerging Markets ETFs to Stay Away From On Adani Crisis',\n",
       "  'Rothschild family plans to take its Paris-listed investment bank ...',\n",
       "  'International Paper Stock is Printing Profits Again',\n",
       "  \"Spotify's Traffic, Not Earnings is Driving the Stock Higher\",\n",
       "  'How to Invest in AI as ChatGPT Takes Tech by Storm',\n",
       "  'BlackRock Increases Position in Honeywell International (HON)',\n",
       "  '3 Nasdaq 100 Stocks to Buy Hand Over Fist in February',\n",
       "  \"Is It Time To Buy the Nasdaq's 3 Worst-Performing January ...\",\n",
       "  'Nasdaq gives it all back, trades flat',\n",
       "  'Is Biotech Immunocore About To Make A 25% Price Move?',\n",
       "  'BlackRock Increases Position in Workday (WDAY)',\n",
       "  'Nasdaq Composite Rally Starts From Important Trend Line ...',\n",
       "  'VEGOILS-Palm oil rises for third straight day on Indonesia ...',\n",
       "  'US STOCKS-S&P 500, Nasdaq edge higher on Microsoft boost; Powell comments \\neyed',\n",
       "  '3 Stocks to Consider Buying Before Earnings',\n",
       "  'Deloitte Rings the Opening Bell',\n",
       "  \"3 Revolutionary Stocks I'd Buy Right Now Without Hesitation\",\n",
       "  'Goldman Sachs Group Increases Position in Carvana (CVNA)',\n",
       "  'Tellurian woos Indian investors for its Driftwood LNG project',\n",
       "  'Algorand: Buy the Dip?',\n",
       "  'Want to Invest in ChatGPT? Then Buy Microsoft Stock',\n",
       "  \"Why Layoffs Can Actually Lift a Company's Stock Price\",\n",
       "  'Kao Min H Updates Holdings in Garmin (GRMN)',\n",
       "  'Is It Too Late to Buy Green Thumb Industries Stock?'],\n",
       " ['2023. 2. 2.',\n",
       "  '2023. 2. 2.',\n",
       "  '2023. 2. 2.',\n",
       "  '2023. 2. 2.',\n",
       "  '2023. 2. 2.',\n",
       "  '2023. 2. 2.',\n",
       "  '2023. 2. 2.',\n",
       "  '2023. 2. 2.',\n",
       "  '2023. 2. 2.',\n",
       "  '2023. 2. 2.',\n",
       "  '2023. 2. 2.',\n",
       "  '2023. 2. 2.',\n",
       "  '2023. 2. 2.',\n",
       "  '2023. 2. 2.',\n",
       "  '2023. 2. 2.',\n",
       "  '2023. 2. 2.',\n",
       "  '2023. 2. 2.',\n",
       "  '2023. 2. 2.',\n",
       "  '2023. 2. 2.',\n",
       "  '2023. 2. 2.',\n",
       "  '2023. 2. 3.',\n",
       "  '2023. 2. 3.',\n",
       "  '2023. 2. 3.',\n",
       "  '2023. 2. 3.',\n",
       "  '2023. 2. 3.',\n",
       "  '2023. 2. 3.',\n",
       "  '2023. 2. 3.',\n",
       "  '2023. 2. 3.',\n",
       "  '2023. 2. 3.',\n",
       "  '2023. 2. 3.',\n",
       "  '2023. 2. 3.',\n",
       "  '2023. 2. 3.',\n",
       "  '2023. 2. 3.',\n",
       "  '2023. 2. 3.',\n",
       "  '2023. 2. 3.',\n",
       "  '2023. 2. 3.',\n",
       "  '2023. 2. 3.',\n",
       "  '2023. 2. 3.',\n",
       "  '2023. 2. 3.',\n",
       "  '2023. 2. 3.',\n",
       "  '2023. 2. 4.',\n",
       "  '2023. 2. 4.',\n",
       "  '2023. 2. 4.',\n",
       "  '2023. 2. 4.',\n",
       "  '2023. 2. 4.',\n",
       "  '2023. 2. 4.',\n",
       "  '2023. 2. 4.',\n",
       "  '2023. 2. 4.',\n",
       "  '2023. 2. 4.',\n",
       "  '2023. 2. 2.',\n",
       "  '2023. 2. 2.',\n",
       "  '2023. 2. 2.',\n",
       "  '2023. 2. 2.',\n",
       "  '2023. 2. 2.',\n",
       "  '2023. 2. 2.',\n",
       "  '2023. 2. 2.',\n",
       "  '2023. 2. 2.',\n",
       "  '2023. 2. 2.',\n",
       "  '2023. 2. 2.',\n",
       "  '2023. 2. 2.',\n",
       "  '2023. 2. 2.',\n",
       "  '2023. 2. 2.',\n",
       "  '2023. 2. 2.',\n",
       "  '2023. 2. 2.',\n",
       "  '2023. 2. 2.',\n",
       "  '2023. 2. 2.',\n",
       "  '2023. 2. 2.',\n",
       "  '2023. 2. 2.',\n",
       "  '2023. 2. 2.',\n",
       "  '2023. 2. 3.',\n",
       "  '2023. 2. 3.',\n",
       "  '2023. 2. 3.',\n",
       "  '2023. 2. 3.',\n",
       "  '2023. 2. 3.',\n",
       "  '2023. 2. 3.',\n",
       "  '2023. 2. 3.',\n",
       "  '2023. 2. 3.',\n",
       "  '2023. 2. 3.',\n",
       "  '2023. 2. 3.',\n",
       "  '2023. 2. 3.',\n",
       "  '2023. 2. 3.',\n",
       "  '2023. 2. 3.',\n",
       "  '2023. 2. 3.',\n",
       "  '2023. 2. 3.',\n",
       "  '2023. 2. 3.',\n",
       "  '2023. 2. 3.',\n",
       "  '2023. 2. 3.',\n",
       "  '2023. 2. 3.',\n",
       "  '2023. 2. 3.',\n",
       "  '2023. 2. 4.',\n",
       "  '2023. 2. 4.',\n",
       "  '2023. 2. 4.',\n",
       "  '2023. 2. 4.',\n",
       "  '2023. 2. 4.',\n",
       "  '2023. 2. 4.',\n",
       "  '2023. 2. 4.',\n",
       "  '2023. 2. 4.',\n",
       "  '2023. 2. 4.',\n",
       "  '2023. 2. 2.',\n",
       "  '2023. 2. 2.',\n",
       "  '2023. 2. 2.',\n",
       "  '2023. 2. 2.',\n",
       "  '2023. 2. 2.',\n",
       "  '2023. 2. 2.',\n",
       "  '2023. 2. 2.',\n",
       "  '2023. 2. 2.',\n",
       "  '2023. 2. 2.',\n",
       "  '2023. 2. 2.',\n",
       "  '2023. 2. 2.',\n",
       "  '2023. 2. 2.',\n",
       "  '2023. 2. 2.',\n",
       "  '2023. 2. 2.',\n",
       "  '2023. 2. 2.',\n",
       "  '2023. 2. 2.',\n",
       "  '2023. 2. 2.',\n",
       "  '2023. 2. 2.',\n",
       "  '2023. 2. 2.',\n",
       "  '2023. 2. 2.',\n",
       "  '2023. 2. 3.',\n",
       "  '2023. 2. 3.',\n",
       "  '2023. 2. 3.',\n",
       "  '2023. 2. 3.',\n",
       "  '2023. 2. 3.',\n",
       "  '2023. 2. 3.',\n",
       "  '2023. 2. 3.',\n",
       "  '2023. 2. 3.',\n",
       "  '2023. 2. 3.',\n",
       "  '2023. 2. 3.',\n",
       "  '2023. 2. 3.',\n",
       "  '2023. 2. 3.',\n",
       "  '2023. 2. 3.',\n",
       "  '2023. 2. 3.',\n",
       "  '2023. 2. 3.',\n",
       "  '2023. 2. 3.',\n",
       "  '2023. 2. 3.',\n",
       "  '2023. 2. 3.',\n",
       "  '2023. 2. 3.',\n",
       "  '2023. 2. 3.',\n",
       "  '2023. 2. 4.',\n",
       "  '2023. 2. 4.',\n",
       "  '2023. 2. 4.',\n",
       "  '2023. 2. 4.',\n",
       "  '2023. 2. 4.',\n",
       "  '2023. 2. 4.',\n",
       "  '2023. 2. 4.',\n",
       "  '2023. 2. 4.',\n",
       "  '2023. 2. 4.',\n",
       "  '2023. 2. 4.',\n",
       "  '2023. 2. 2.',\n",
       "  '2023. 2. 2.',\n",
       "  '2023. 2. 2.',\n",
       "  '2023. 2. 2.',\n",
       "  '2023. 2. 2.',\n",
       "  '2023. 2. 2.',\n",
       "  '2023. 2. 2.',\n",
       "  '2023. 2. 2.',\n",
       "  '2023. 2. 2.',\n",
       "  '2023. 2. 2.',\n",
       "  '2023. 2. 2.',\n",
       "  '2023. 2. 2.',\n",
       "  '2023. 2. 2.',\n",
       "  '2023. 2. 2.',\n",
       "  '2023. 2. 2.',\n",
       "  '2023. 2. 2.',\n",
       "  '2023. 2. 2.',\n",
       "  '2023. 2. 2.',\n",
       "  '2023. 2. 2.',\n",
       "  '2023. 2. 2.',\n",
       "  '2023. 2. 3.',\n",
       "  '2023. 2. 3.',\n",
       "  '2023. 2. 3.',\n",
       "  '2023. 2. 3.',\n",
       "  '2023. 2. 3.',\n",
       "  '2023. 2. 3.',\n",
       "  '2023. 2. 3.',\n",
       "  '2023. 2. 3.',\n",
       "  '2023. 2. 3.',\n",
       "  '2023. 2. 3.',\n",
       "  '2023. 2. 3.',\n",
       "  '2023. 2. 3.',\n",
       "  '2023. 2. 3.',\n",
       "  '2023. 2. 3.',\n",
       "  '2023. 2. 3.',\n",
       "  '2023. 2. 3.',\n",
       "  '2023. 2. 3.',\n",
       "  '2023. 2. 3.',\n",
       "  '2023. 2. 3.',\n",
       "  '2023. 2. 3.',\n",
       "  '2023. 2. 4.',\n",
       "  '2023. 2. 4.',\n",
       "  '2023. 2. 4.',\n",
       "  '2023. 2. 4.',\n",
       "  '2023. 2. 4.',\n",
       "  '2023. 2. 4.',\n",
       "  '2023. 2. 4.',\n",
       "  '2023. 2. 4.',\n",
       "  '2023. 2. 4.',\n",
       "  '2023. 2. 4.',\n",
       "  '2023. 2. 5.',\n",
       "  '2023. 2. 5.',\n",
       "  '2023. 2. 5.',\n",
       "  '2023. 2. 5.',\n",
       "  '2023. 2. 5.',\n",
       "  '2023. 2. 5.',\n",
       "  '2023. 2. 5.',\n",
       "  '2023. 2. 5.',\n",
       "  '2023. 2. 5.',\n",
       "  '2023. 2. 5.',\n",
       "  '2023. 2. 5.',\n",
       "  '2023. 2. 6.',\n",
       "  '2023. 2. 6.',\n",
       "  '2023. 2. 6.',\n",
       "  '2023. 2. 6.',\n",
       "  '2023. 2. 6.',\n",
       "  '2023. 2. 6.',\n",
       "  '2023. 2. 6.',\n",
       "  '2023. 2. 6.',\n",
       "  '2023. 2. 6.',\n",
       "  '2023. 2. 6.',\n",
       "  '2023. 2. 6.',\n",
       "  '2023. 2. 6.',\n",
       "  '2023. 2. 6.',\n",
       "  '2023. 2. 6.',\n",
       "  '2023. 2. 6.',\n",
       "  '2023. 2. 6.',\n",
       "  '2023. 2. 6.',\n",
       "  '2023. 2. 6.',\n",
       "  '2023. 2. 6.',\n",
       "  '2023. 2. 6.',\n",
       "  '2023. 2. 7.',\n",
       "  '2023. 2. 7.',\n",
       "  '2023. 2. 7.',\n",
       "  '2023. 2. 7.',\n",
       "  '2023. 2. 7.',\n",
       "  '2023. 2. 7.',\n",
       "  '2023. 2. 7.',\n",
       "  '2023. 2. 7.',\n",
       "  '2023. 2. 7.',\n",
       "  '2023. 2. 7.',\n",
       "  '2023. 2. 7.',\n",
       "  '2023. 2. 7.',\n",
       "  '2023. 2. 7.',\n",
       "  '2023. 2. 7.',\n",
       "  '2023. 2. 7.',\n",
       "  '2023. 2. 7.',\n",
       "  '2023. 2. 7.',\n",
       "  '2023. 2. 7.',\n",
       "  '2023. 2. 7.',\n",
       "  '2023. 2. 7.']]"
      ]
     },
     "execution_count": 81,
     "metadata": {},
     "output_type": "execute_result"
    }
   ],
   "source": [
    "#잘 수집되었나 출력해볼까요?\n",
    "res"
   ]
  },
  {
   "cell_type": "code",
   "execution_count": 82,
   "metadata": {
    "colab": {
     "base_uri": "https://localhost:8080/",
     "height": 423
    },
    "id": "B3uTsutBwqil",
    "outputId": "46203d9d-dcee-4334-ca60-4fb36f0ee650"
   },
   "outputs": [
    {
     "data": {
      "text/html": [
       "<div>\n",
       "<style scoped>\n",
       "    .dataframe tbody tr th:only-of-type {\n",
       "        vertical-align: middle;\n",
       "    }\n",
       "\n",
       "    .dataframe tbody tr th {\n",
       "        vertical-align: top;\n",
       "    }\n",
       "\n",
       "    .dataframe thead th {\n",
       "        text-align: right;\n",
       "    }\n",
       "</style>\n",
       "<table border=\"1\" class=\"dataframe\">\n",
       "  <thead>\n",
       "    <tr style=\"text-align: right;\">\n",
       "      <th></th>\n",
       "      <th>0</th>\n",
       "      <th>1</th>\n",
       "    </tr>\n",
       "  </thead>\n",
       "  <tbody>\n",
       "    <tr>\n",
       "      <th>0</th>\n",
       "      <td>Nasdaq Jumps 3%. Powell and Earnings Are Behin...</td>\n",
       "      <td>2023. 2. 2.</td>\n",
       "    </tr>\n",
       "    <tr>\n",
       "      <th>1</th>\n",
       "      <td>US STOCKS-Nasdaq soars more than 3% on Meta bo...</td>\n",
       "      <td>2023. 2. 2.</td>\n",
       "    </tr>\n",
       "    <tr>\n",
       "      <th>2</th>\n",
       "      <td>Nasdaq, S&amp;P 500 post strong gains on Fed relie...</td>\n",
       "      <td>2023. 2. 2.</td>\n",
       "    </tr>\n",
       "    <tr>\n",
       "      <th>3</th>\n",
       "      <td>The Nasdaq Is Having Best Start to the Year Si...</td>\n",
       "      <td>2023. 2. 2.</td>\n",
       "    </tr>\n",
       "    <tr>\n",
       "      <th>4</th>\n",
       "      <td>History Suggests the Nasdaq Could Soar In 2023...</td>\n",
       "      <td>2023. 2. 2.</td>\n",
       "    </tr>\n",
       "    <tr>\n",
       "      <th>...</th>\n",
       "      <td>...</td>\n",
       "      <td>...</td>\n",
       "    </tr>\n",
       "    <tr>\n",
       "      <th>244</th>\n",
       "      <td>Algorand: Buy the Dip?</td>\n",
       "      <td>2023. 2. 7.</td>\n",
       "    </tr>\n",
       "    <tr>\n",
       "      <th>245</th>\n",
       "      <td>Want to Invest in ChatGPT? Then Buy Microsoft ...</td>\n",
       "      <td>2023. 2. 7.</td>\n",
       "    </tr>\n",
       "    <tr>\n",
       "      <th>246</th>\n",
       "      <td>Why Layoffs Can Actually Lift a Company's Stoc...</td>\n",
       "      <td>2023. 2. 7.</td>\n",
       "    </tr>\n",
       "    <tr>\n",
       "      <th>247</th>\n",
       "      <td>Kao Min H Updates Holdings in Garmin (GRMN)</td>\n",
       "      <td>2023. 2. 7.</td>\n",
       "    </tr>\n",
       "    <tr>\n",
       "      <th>248</th>\n",
       "      <td>Is It Too Late to Buy Green Thumb Industries S...</td>\n",
       "      <td>2023. 2. 7.</td>\n",
       "    </tr>\n",
       "  </tbody>\n",
       "</table>\n",
       "<p>249 rows × 2 columns</p>\n",
       "</div>"
      ],
      "text/plain": [
       "                                                     0            1\n",
       "0    Nasdaq Jumps 3%. Powell and Earnings Are Behin...  2023. 2. 2.\n",
       "1    US STOCKS-Nasdaq soars more than 3% on Meta bo...  2023. 2. 2.\n",
       "2    Nasdaq, S&P 500 post strong gains on Fed relie...  2023. 2. 2.\n",
       "3    The Nasdaq Is Having Best Start to the Year Si...  2023. 2. 2.\n",
       "4    History Suggests the Nasdaq Could Soar In 2023...  2023. 2. 2.\n",
       "..                                                 ...          ...\n",
       "244                             Algorand: Buy the Dip?  2023. 2. 7.\n",
       "245  Want to Invest in ChatGPT? Then Buy Microsoft ...  2023. 2. 7.\n",
       "246  Why Layoffs Can Actually Lift a Company's Stoc...  2023. 2. 7.\n",
       "247        Kao Min H Updates Holdings in Garmin (GRMN)  2023. 2. 7.\n",
       "248  Is It Too Late to Buy Green Thumb Industries S...  2023. 2. 7.\n",
       "\n",
       "[249 rows x 2 columns]"
      ]
     },
     "execution_count": 82,
     "metadata": {},
     "output_type": "execute_result"
    }
   ],
   "source": [
    "#데이터 프레임으로 저장하기 \n",
    "df = pd.DataFrame(res)\n",
    "df=df.transpose()\n",
    "df\n"
   ]
  },
  {
   "cell_type": "code",
   "execution_count": 83,
   "metadata": {},
   "outputs": [],
   "source": [
    "#일단 csv로 저장\n",
    "df.to_csv('SampleNasdaq.csv', index=False)"
   ]
  },
  {
   "cell_type": "code",
   "execution_count": null,
   "metadata": {},
   "outputs": [],
   "source": []
  },
  {
   "cell_type": "code",
   "execution_count": null,
   "metadata": {},
   "outputs": [],
   "source": []
  },
  {
   "cell_type": "code",
   "execution_count": 84,
   "metadata": {},
   "outputs": [],
   "source": [
    "#여기서 부터는 제가 코랩에서 csv 파일 불러와서 이것저것 전처리 한거에요 !\n",
    "#왜 코랩에서 했냐구요~? 주피터에서 크롤링 하고 코랩으로 전처리 해보고 있었답니다~"
   ]
  },
  {
   "cell_type": "code",
   "execution_count": 138,
   "metadata": {},
   "outputs": [],
   "source": [
    "import pandas as pd"
   ]
  },
  {
   "cell_type": "code",
   "execution_count": 139,
   "metadata": {},
   "outputs": [],
   "source": [
    "#실수로 연습삼아 했던 2023 년것도 섞여 들어와서 제목이 저렇습니다\n",
    "df_1 = pd.read_csv('C:/Users/bgmun/Downloads/SampleNasdaq.csv')"
   ]
  },
  {
   "cell_type": "code",
   "execution_count": 140,
   "metadata": {},
   "outputs": [],
   "source": [
    "# filtered_df_1 = df_1[~df_1['1'].str.contains('면')]\n",
    "# filtered_df_1\n",
    "filtered_df_1=df_1"
   ]
  },
  {
   "cell_type": "code",
   "execution_count": 141,
   "metadata": {},
   "outputs": [
    {
     "data": {
      "text/html": [
       "<div>\n",
       "<style scoped>\n",
       "    .dataframe tbody tr th:only-of-type {\n",
       "        vertical-align: middle;\n",
       "    }\n",
       "\n",
       "    .dataframe tbody tr th {\n",
       "        vertical-align: top;\n",
       "    }\n",
       "\n",
       "    .dataframe thead th {\n",
       "        text-align: right;\n",
       "    }\n",
       "</style>\n",
       "<table border=\"1\" class=\"dataframe\">\n",
       "  <thead>\n",
       "    <tr style=\"text-align: right;\">\n",
       "      <th></th>\n",
       "      <th>Title</th>\n",
       "      <th>Date</th>\n",
       "    </tr>\n",
       "  </thead>\n",
       "  <tbody>\n",
       "    <tr>\n",
       "      <th>0</th>\n",
       "      <td>Nasdaq Jumps 3%. Powell and Earnings Are Behin...</td>\n",
       "      <td>2023. 2. 2.</td>\n",
       "    </tr>\n",
       "    <tr>\n",
       "      <th>1</th>\n",
       "      <td>US STOCKS-Nasdaq soars more than 3% on Meta bo...</td>\n",
       "      <td>2023. 2. 2.</td>\n",
       "    </tr>\n",
       "    <tr>\n",
       "      <th>2</th>\n",
       "      <td>Nasdaq, S&amp;P 500 post strong gains on Fed relie...</td>\n",
       "      <td>2023. 2. 2.</td>\n",
       "    </tr>\n",
       "    <tr>\n",
       "      <th>3</th>\n",
       "      <td>The Nasdaq Is Having Best Start to the Year Si...</td>\n",
       "      <td>2023. 2. 2.</td>\n",
       "    </tr>\n",
       "    <tr>\n",
       "      <th>4</th>\n",
       "      <td>History Suggests the Nasdaq Could Soar In 2023...</td>\n",
       "      <td>2023. 2. 2.</td>\n",
       "    </tr>\n",
       "    <tr>\n",
       "      <th>...</th>\n",
       "      <td>...</td>\n",
       "      <td>...</td>\n",
       "    </tr>\n",
       "    <tr>\n",
       "      <th>244</th>\n",
       "      <td>Algorand: Buy the Dip?</td>\n",
       "      <td>2023. 2. 7.</td>\n",
       "    </tr>\n",
       "    <tr>\n",
       "      <th>245</th>\n",
       "      <td>Want to Invest in ChatGPT? Then Buy Microsoft ...</td>\n",
       "      <td>2023. 2. 7.</td>\n",
       "    </tr>\n",
       "    <tr>\n",
       "      <th>246</th>\n",
       "      <td>Why Layoffs Can Actually Lift a Company's Stoc...</td>\n",
       "      <td>2023. 2. 7.</td>\n",
       "    </tr>\n",
       "    <tr>\n",
       "      <th>247</th>\n",
       "      <td>Kao Min H Updates Holdings in Garmin (GRMN)</td>\n",
       "      <td>2023. 2. 7.</td>\n",
       "    </tr>\n",
       "    <tr>\n",
       "      <th>248</th>\n",
       "      <td>Is It Too Late to Buy Green Thumb Industries S...</td>\n",
       "      <td>2023. 2. 7.</td>\n",
       "    </tr>\n",
       "  </tbody>\n",
       "</table>\n",
       "<p>249 rows × 2 columns</p>\n",
       "</div>"
      ],
      "text/plain": [
       "                                                 Title         Date\n",
       "0    Nasdaq Jumps 3%. Powell and Earnings Are Behin...  2023. 2. 2.\n",
       "1    US STOCKS-Nasdaq soars more than 3% on Meta bo...  2023. 2. 2.\n",
       "2    Nasdaq, S&P 500 post strong gains on Fed relie...  2023. 2. 2.\n",
       "3    The Nasdaq Is Having Best Start to the Year Si...  2023. 2. 2.\n",
       "4    History Suggests the Nasdaq Could Soar In 2023...  2023. 2. 2.\n",
       "..                                                 ...          ...\n",
       "244                             Algorand: Buy the Dip?  2023. 2. 7.\n",
       "245  Want to Invest in ChatGPT? Then Buy Microsoft ...  2023. 2. 7.\n",
       "246  Why Layoffs Can Actually Lift a Company's Stoc...  2023. 2. 7.\n",
       "247        Kao Min H Updates Holdings in Garmin (GRMN)  2023. 2. 7.\n",
       "248  Is It Too Late to Buy Green Thumb Industries S...  2023. 2. 7.\n",
       "\n",
       "[249 rows x 2 columns]"
      ]
     },
     "execution_count": 141,
     "metadata": {},
     "output_type": "execute_result"
    }
   ],
   "source": [
    "filtered_df_1.rename(columns={'1':'Date'}, inplace=True)\n",
    "filtered_df_1.rename(columns={'0':'Title'}, inplace=True)\n",
    "filtered_df_1"
   ]
  },
  {
   "cell_type": "code",
   "execution_count": 153,
   "metadata": {},
   "outputs": [],
   "source": [
    "filtered_df_1['Date'] = filtered_df_1['Date'].str.rstrip('.')"
   ]
  },
  {
   "cell_type": "code",
   "execution_count": 154,
   "metadata": {},
   "outputs": [
    {
     "data": {
      "text/html": [
       "<div>\n",
       "<style scoped>\n",
       "    .dataframe tbody tr th:only-of-type {\n",
       "        vertical-align: middle;\n",
       "    }\n",
       "\n",
       "    .dataframe tbody tr th {\n",
       "        vertical-align: top;\n",
       "    }\n",
       "\n",
       "    .dataframe thead th {\n",
       "        text-align: right;\n",
       "    }\n",
       "</style>\n",
       "<table border=\"1\" class=\"dataframe\">\n",
       "  <thead>\n",
       "    <tr style=\"text-align: right;\">\n",
       "      <th></th>\n",
       "      <th>Title</th>\n",
       "      <th>Date</th>\n",
       "    </tr>\n",
       "  </thead>\n",
       "  <tbody>\n",
       "    <tr>\n",
       "      <th>0</th>\n",
       "      <td>Nasdaq Jumps 3%. Powell and Earnings Are Behin...</td>\n",
       "      <td>2023. 2. 2</td>\n",
       "    </tr>\n",
       "    <tr>\n",
       "      <th>1</th>\n",
       "      <td>US STOCKS-Nasdaq soars more than 3% on Meta bo...</td>\n",
       "      <td>2023. 2. 2</td>\n",
       "    </tr>\n",
       "    <tr>\n",
       "      <th>2</th>\n",
       "      <td>Nasdaq, S&amp;P 500 post strong gains on Fed relie...</td>\n",
       "      <td>2023. 2. 2</td>\n",
       "    </tr>\n",
       "    <tr>\n",
       "      <th>3</th>\n",
       "      <td>The Nasdaq Is Having Best Start to the Year Si...</td>\n",
       "      <td>2023. 2. 2</td>\n",
       "    </tr>\n",
       "    <tr>\n",
       "      <th>4</th>\n",
       "      <td>History Suggests the Nasdaq Could Soar In 2023...</td>\n",
       "      <td>2023. 2. 2</td>\n",
       "    </tr>\n",
       "    <tr>\n",
       "      <th>...</th>\n",
       "      <td>...</td>\n",
       "      <td>...</td>\n",
       "    </tr>\n",
       "    <tr>\n",
       "      <th>244</th>\n",
       "      <td>Algorand: Buy the Dip?</td>\n",
       "      <td>2023. 2. 7</td>\n",
       "    </tr>\n",
       "    <tr>\n",
       "      <th>245</th>\n",
       "      <td>Want to Invest in ChatGPT? Then Buy Microsoft ...</td>\n",
       "      <td>2023. 2. 7</td>\n",
       "    </tr>\n",
       "    <tr>\n",
       "      <th>246</th>\n",
       "      <td>Why Layoffs Can Actually Lift a Company's Stoc...</td>\n",
       "      <td>2023. 2. 7</td>\n",
       "    </tr>\n",
       "    <tr>\n",
       "      <th>247</th>\n",
       "      <td>Kao Min H Updates Holdings in Garmin (GRMN)</td>\n",
       "      <td>2023. 2. 7</td>\n",
       "    </tr>\n",
       "    <tr>\n",
       "      <th>248</th>\n",
       "      <td>Is It Too Late to Buy Green Thumb Industries S...</td>\n",
       "      <td>2023. 2. 7</td>\n",
       "    </tr>\n",
       "  </tbody>\n",
       "</table>\n",
       "<p>249 rows × 2 columns</p>\n",
       "</div>"
      ],
      "text/plain": [
       "                                                 Title        Date\n",
       "0    Nasdaq Jumps 3%. Powell and Earnings Are Behin...  2023. 2. 2\n",
       "1    US STOCKS-Nasdaq soars more than 3% on Meta bo...  2023. 2. 2\n",
       "2    Nasdaq, S&P 500 post strong gains on Fed relie...  2023. 2. 2\n",
       "3    The Nasdaq Is Having Best Start to the Year Si...  2023. 2. 2\n",
       "4    History Suggests the Nasdaq Could Soar In 2023...  2023. 2. 2\n",
       "..                                                 ...         ...\n",
       "244                             Algorand: Buy the Dip?  2023. 2. 7\n",
       "245  Want to Invest in ChatGPT? Then Buy Microsoft ...  2023. 2. 7\n",
       "246  Why Layoffs Can Actually Lift a Company's Stoc...  2023. 2. 7\n",
       "247        Kao Min H Updates Holdings in Garmin (GRMN)  2023. 2. 7\n",
       "248  Is It Too Late to Buy Green Thumb Industries S...  2023. 2. 7\n",
       "\n",
       "[249 rows x 2 columns]"
      ]
     },
     "execution_count": 154,
     "metadata": {},
     "output_type": "execute_result"
    }
   ],
   "source": [
    "filtered_df_1"
   ]
  },
  {
   "cell_type": "code",
   "execution_count": 160,
   "metadata": {},
   "outputs": [],
   "source": [
    "filtered_df_1['Date'] = pd.to_datetime(filtered_df_1['Date'])"
   ]
  },
  {
   "cell_type": "code",
   "execution_count": 161,
   "metadata": {},
   "outputs": [
    {
     "data": {
      "text/html": [
       "<div>\n",
       "<style scoped>\n",
       "    .dataframe tbody tr th:only-of-type {\n",
       "        vertical-align: middle;\n",
       "    }\n",
       "\n",
       "    .dataframe tbody tr th {\n",
       "        vertical-align: top;\n",
       "    }\n",
       "\n",
       "    .dataframe thead th {\n",
       "        text-align: right;\n",
       "    }\n",
       "</style>\n",
       "<table border=\"1\" class=\"dataframe\">\n",
       "  <thead>\n",
       "    <tr style=\"text-align: right;\">\n",
       "      <th></th>\n",
       "      <th>Title</th>\n",
       "      <th>Date</th>\n",
       "    </tr>\n",
       "  </thead>\n",
       "  <tbody>\n",
       "    <tr>\n",
       "      <th>0</th>\n",
       "      <td>Nasdaq Jumps 3%. Powell and Earnings Are Behin...</td>\n",
       "      <td>2023-02-02</td>\n",
       "    </tr>\n",
       "    <tr>\n",
       "      <th>1</th>\n",
       "      <td>US STOCKS-Nasdaq soars more than 3% on Meta bo...</td>\n",
       "      <td>2023-02-02</td>\n",
       "    </tr>\n",
       "    <tr>\n",
       "      <th>2</th>\n",
       "      <td>Nasdaq, S&amp;P 500 post strong gains on Fed relie...</td>\n",
       "      <td>2023-02-02</td>\n",
       "    </tr>\n",
       "    <tr>\n",
       "      <th>3</th>\n",
       "      <td>The Nasdaq Is Having Best Start to the Year Si...</td>\n",
       "      <td>2023-02-02</td>\n",
       "    </tr>\n",
       "    <tr>\n",
       "      <th>4</th>\n",
       "      <td>History Suggests the Nasdaq Could Soar In 2023...</td>\n",
       "      <td>2023-02-02</td>\n",
       "    </tr>\n",
       "    <tr>\n",
       "      <th>...</th>\n",
       "      <td>...</td>\n",
       "      <td>...</td>\n",
       "    </tr>\n",
       "    <tr>\n",
       "      <th>244</th>\n",
       "      <td>Algorand: Buy the Dip?</td>\n",
       "      <td>2023-02-07</td>\n",
       "    </tr>\n",
       "    <tr>\n",
       "      <th>245</th>\n",
       "      <td>Want to Invest in ChatGPT? Then Buy Microsoft ...</td>\n",
       "      <td>2023-02-07</td>\n",
       "    </tr>\n",
       "    <tr>\n",
       "      <th>246</th>\n",
       "      <td>Why Layoffs Can Actually Lift a Company's Stoc...</td>\n",
       "      <td>2023-02-07</td>\n",
       "    </tr>\n",
       "    <tr>\n",
       "      <th>247</th>\n",
       "      <td>Kao Min H Updates Holdings in Garmin (GRMN)</td>\n",
       "      <td>2023-02-07</td>\n",
       "    </tr>\n",
       "    <tr>\n",
       "      <th>248</th>\n",
       "      <td>Is It Too Late to Buy Green Thumb Industries S...</td>\n",
       "      <td>2023-02-07</td>\n",
       "    </tr>\n",
       "  </tbody>\n",
       "</table>\n",
       "<p>249 rows × 2 columns</p>\n",
       "</div>"
      ],
      "text/plain": [
       "                                                 Title       Date\n",
       "0    Nasdaq Jumps 3%. Powell and Earnings Are Behin... 2023-02-02\n",
       "1    US STOCKS-Nasdaq soars more than 3% on Meta bo... 2023-02-02\n",
       "2    Nasdaq, S&P 500 post strong gains on Fed relie... 2023-02-02\n",
       "3    The Nasdaq Is Having Best Start to the Year Si... 2023-02-02\n",
       "4    History Suggests the Nasdaq Could Soar In 2023... 2023-02-02\n",
       "..                                                 ...        ...\n",
       "244                             Algorand: Buy the Dip? 2023-02-07\n",
       "245  Want to Invest in ChatGPT? Then Buy Microsoft ... 2023-02-07\n",
       "246  Why Layoffs Can Actually Lift a Company's Stoc... 2023-02-07\n",
       "247        Kao Min H Updates Holdings in Garmin (GRMN) 2023-02-07\n",
       "248  Is It Too Late to Buy Green Thumb Industries S... 2023-02-07\n",
       "\n",
       "[249 rows x 2 columns]"
      ]
     },
     "execution_count": 161,
     "metadata": {},
     "output_type": "execute_result"
    }
   ],
   "source": [
    "filtered_df_1"
   ]
  },
  {
   "cell_type": "code",
   "execution_count": 162,
   "metadata": {},
   "outputs": [],
   "source": [
    "filtered_df_2022 = filtered_df_1[filtered_df_1['Date'].between('2023-02-02', '2023-02-05')]"
   ]
  },
  {
   "cell_type": "code",
   "execution_count": 163,
   "metadata": {
    "scrolled": true
   },
   "outputs": [
    {
     "data": {
      "text/html": [
       "<div>\n",
       "<style scoped>\n",
       "    .dataframe tbody tr th:only-of-type {\n",
       "        vertical-align: middle;\n",
       "    }\n",
       "\n",
       "    .dataframe tbody tr th {\n",
       "        vertical-align: top;\n",
       "    }\n",
       "\n",
       "    .dataframe thead th {\n",
       "        text-align: right;\n",
       "    }\n",
       "</style>\n",
       "<table border=\"1\" class=\"dataframe\">\n",
       "  <thead>\n",
       "    <tr style=\"text-align: right;\">\n",
       "      <th></th>\n",
       "      <th>Title</th>\n",
       "      <th>Date</th>\n",
       "    </tr>\n",
       "  </thead>\n",
       "  <tbody>\n",
       "    <tr>\n",
       "      <th>0</th>\n",
       "      <td>Nasdaq Jumps 3%. Powell and Earnings Are Behin...</td>\n",
       "      <td>2023-02-02</td>\n",
       "    </tr>\n",
       "    <tr>\n",
       "      <th>1</th>\n",
       "      <td>US STOCKS-Nasdaq soars more than 3% on Meta bo...</td>\n",
       "      <td>2023-02-02</td>\n",
       "    </tr>\n",
       "    <tr>\n",
       "      <th>2</th>\n",
       "      <td>Nasdaq, S&amp;P 500 post strong gains on Fed relie...</td>\n",
       "      <td>2023-02-02</td>\n",
       "    </tr>\n",
       "    <tr>\n",
       "      <th>3</th>\n",
       "      <td>The Nasdaq Is Having Best Start to the Year Si...</td>\n",
       "      <td>2023-02-02</td>\n",
       "    </tr>\n",
       "    <tr>\n",
       "      <th>4</th>\n",
       "      <td>History Suggests the Nasdaq Could Soar In 2023...</td>\n",
       "      <td>2023-02-02</td>\n",
       "    </tr>\n",
       "    <tr>\n",
       "      <th>...</th>\n",
       "      <td>...</td>\n",
       "      <td>...</td>\n",
       "    </tr>\n",
       "    <tr>\n",
       "      <th>204</th>\n",
       "      <td>Why Costco Stock Rose 12% in January</td>\n",
       "      <td>2023-02-05</td>\n",
       "    </tr>\n",
       "    <tr>\n",
       "      <th>205</th>\n",
       "      <td>Is It Too Late to Buy Twilio Stock?</td>\n",
       "      <td>2023-02-05</td>\n",
       "    </tr>\n",
       "    <tr>\n",
       "      <th>206</th>\n",
       "      <td>Saia, Inc. (NASDAQ:SAIA) Q4 2022 Earnings Call...</td>\n",
       "      <td>2023-02-05</td>\n",
       "    </tr>\n",
       "    <tr>\n",
       "      <th>207</th>\n",
       "      <td>Where Will Altria Stock Be in 1 Year?</td>\n",
       "      <td>2023-02-05</td>\n",
       "    </tr>\n",
       "    <tr>\n",
       "      <th>208</th>\n",
       "      <td>Why Chipotle Stock Soared Almost 19% in January</td>\n",
       "      <td>2023-02-05</td>\n",
       "    </tr>\n",
       "  </tbody>\n",
       "</table>\n",
       "<p>209 rows × 2 columns</p>\n",
       "</div>"
      ],
      "text/plain": [
       "                                                 Title       Date\n",
       "0    Nasdaq Jumps 3%. Powell and Earnings Are Behin... 2023-02-02\n",
       "1    US STOCKS-Nasdaq soars more than 3% on Meta bo... 2023-02-02\n",
       "2    Nasdaq, S&P 500 post strong gains on Fed relie... 2023-02-02\n",
       "3    The Nasdaq Is Having Best Start to the Year Si... 2023-02-02\n",
       "4    History Suggests the Nasdaq Could Soar In 2023... 2023-02-02\n",
       "..                                                 ...        ...\n",
       "204               Why Costco Stock Rose 12% in January 2023-02-05\n",
       "205                Is It Too Late to Buy Twilio Stock? 2023-02-05\n",
       "206  Saia, Inc. (NASDAQ:SAIA) Q4 2022 Earnings Call... 2023-02-05\n",
       "207              Where Will Altria Stock Be in 1 Year? 2023-02-05\n",
       "208    Why Chipotle Stock Soared Almost 19% in January 2023-02-05\n",
       "\n",
       "[209 rows x 2 columns]"
      ]
     },
     "execution_count": 163,
     "metadata": {},
     "output_type": "execute_result"
    }
   ],
   "source": [
    "filtered_df_2022"
   ]
  },
  {
   "cell_type": "code",
   "execution_count": null,
   "metadata": {},
   "outputs": [],
   "source": []
  },
  {
   "cell_type": "code",
   "execution_count": null,
   "metadata": {},
   "outputs": [],
   "source": []
  },
  {
   "cell_type": "code",
   "execution_count": null,
   "metadata": {},
   "outputs": [],
   "source": [
    "!pip install transformers"
   ]
  },
  {
   "cell_type": "code",
   "execution_count": 175,
   "metadata": {},
   "outputs": [
    {
     "name": "stdout",
     "output_type": "stream",
     "text": [
      "Collecting torch\n",
      "  Downloading torch-2.0.1-cp39-cp39-win_amd64.whl (172.4 MB)\n",
      "Collecting sympy\n",
      "  Downloading sympy-1.12-py3-none-any.whl (5.7 MB)\n",
      "Collecting networkx\n",
      "  Downloading networkx-3.1-py3-none-any.whl (2.1 MB)\n",
      "Requirement already satisfied: filelock in c:\\users\\bgmun\\appdata\\local\\programs\\python\\python39\\lib\\site-packages (from torch) (3.12.2)\n",
      "Requirement already satisfied: jinja2 in c:\\users\\bgmun\\appdata\\local\\programs\\python\\python39\\lib\\site-packages (from torch) (3.1.2)\n",
      "Requirement already satisfied: typing-extensions in c:\\users\\bgmun\\appdata\\local\\programs\\python\\python39\\lib\\site-packages (from torch) (4.6.3)\n",
      "Requirement already satisfied: MarkupSafe>=2.0 in c:\\users\\bgmun\\appdata\\local\\programs\\python\\python39\\lib\\site-packages (from jinja2->torch) (2.1.3)\n",
      "Collecting mpmath>=0.19\n",
      "  Downloading mpmath-1.3.0-py3-none-any.whl (536 kB)\n",
      "Installing collected packages: mpmath, sympy, networkx, torch\n",
      "Successfully installed mpmath-1.3.0 networkx-3.1 sympy-1.12 torch-2.0.1\n"
     ]
    },
    {
     "name": "stderr",
     "output_type": "stream",
     "text": [
      "WARNING: You are using pip version 21.2.3; however, version 23.2.1 is available.\n",
      "You should consider upgrading via the 'C:\\Users\\bgmun\\AppData\\Local\\Programs\\Python\\Python39\\python.exe -m pip install --upgrade pip' command.\n"
     ]
    }
   ],
   "source": [
    "!pip install torch\n"
   ]
  },
  {
   "cell_type": "code",
   "execution_count": 190,
   "metadata": {},
   "outputs": [],
   "source": [
    "import torch"
   ]
  },
  {
   "cell_type": "code",
   "execution_count": 186,
   "metadata": {},
   "outputs": [],
   "source": [
    "from transformers import AutoTokenizer, AutoModelForSequenceClassification\n",
    "from transformers import AutoTokenizer, AutoModelForSequenceClassification\n"
   ]
  },
  {
   "cell_type": "code",
   "execution_count": 184,
   "metadata": {},
   "outputs": [
    {
     "name": "stdout",
     "output_type": "stream",
     "text": [
      "Requirement already satisfied: transformers in c:\\users\\bgmun\\appdata\\local\\programs\\python\\python39\\lib\\site-packages (4.31.0)\n",
      "Requirement already satisfied: packaging>=20.0 in c:\\users\\bgmun\\appdata\\local\\programs\\python\\python39\\lib\\site-packages (from transformers) (23.1)\n",
      "Requirement already satisfied: pyyaml>=5.1 in c:\\users\\bgmun\\appdata\\local\\programs\\python\\python39\\lib\\site-packages (from transformers) (6.0)\n",
      "Requirement already satisfied: tqdm>=4.27 in c:\\users\\bgmun\\appdata\\local\\programs\\python\\python39\\lib\\site-packages (from transformers) (4.66.1)\n",
      "Requirement already satisfied: huggingface-hub<1.0,>=0.14.1 in c:\\users\\bgmun\\appdata\\local\\programs\\python\\python39\\lib\\site-packages (from transformers) (0.16.4)\n",
      "Requirement already satisfied: regex!=2019.12.17 in c:\\users\\bgmun\\appdata\\local\\programs\\python\\python39\\lib\\site-packages (from transformers) (2023.8.8)\n",
      "Requirement already satisfied: requests in c:\\users\\bgmun\\appdata\\local\\programs\\python\\python39\\lib\\site-packages (from transformers) (2.31.0)\n",
      "Requirement already satisfied: safetensors>=0.3.1 in c:\\users\\bgmun\\appdata\\local\\programs\\python\\python39\\lib\\site-packages (from transformers) (0.3.2)\n",
      "Requirement already satisfied: numpy>=1.17 in c:\\users\\bgmun\\appdata\\local\\programs\\python\\python39\\lib\\site-packages (from transformers) (1.25.1)\n",
      "Requirement already satisfied: filelock in c:\\users\\bgmun\\appdata\\local\\programs\\python\\python39\\lib\\site-packages (from transformers) (3.12.2)\n",
      "Requirement already satisfied: tokenizers!=0.11.3,<0.14,>=0.11.1 in c:\\users\\bgmun\\appdata\\local\\programs\\python\\python39\\lib\\site-packages (from transformers) (0.13.3)\n",
      "Requirement already satisfied: typing-extensions>=3.7.4.3 in c:\\users\\bgmun\\appdata\\local\\programs\\python\\python39\\lib\\site-packages (from huggingface-hub<1.0,>=0.14.1->transformers) (4.6.3)\n",
      "Requirement already satisfied: fsspec in c:\\users\\bgmun\\appdata\\local\\programs\\python\\python39\\lib\\site-packages (from huggingface-hub<1.0,>=0.14.1->transformers) (2023.6.0)\n",
      "Requirement already satisfied: colorama in c:\\users\\bgmun\\appdata\\local\\programs\\python\\python39\\lib\\site-packages (from tqdm>=4.27->transformers) (0.4.6)\n",
      "Requirement already satisfied: certifi>=2017.4.17 in c:\\users\\bgmun\\appdata\\local\\programs\\python\\python39\\lib\\site-packages (from requests->transformers) (2023.7.22)\n",
      "Requirement already satisfied: urllib3<3,>=1.21.1 in c:\\users\\bgmun\\appdata\\local\\programs\\python\\python39\\lib\\site-packages (from requests->transformers) (2.0.4)\n",
      "Requirement already satisfied: idna<4,>=2.5 in c:\\users\\bgmun\\appdata\\local\\programs\\python\\python39\\lib\\site-packages (from requests->transformers) (3.4)\n",
      "Requirement already satisfied: charset-normalizer<4,>=2 in c:\\users\\bgmun\\appdata\\local\\programs\\python\\python39\\lib\\site-packages (from requests->transformers) (3.2.0)\n"
     ]
    },
    {
     "name": "stderr",
     "output_type": "stream",
     "text": [
      "WARNING: You are using pip version 21.2.3; however, version 23.2.1 is available.\n",
      "You should consider upgrading via the 'C:\\Users\\bgmun\\AppData\\Local\\Programs\\Python\\Python39\\python.exe -m pip install --upgrade pip' command.\n"
     ]
    },
    {
     "name": "stdout",
     "output_type": "stream",
     "text": [
      "Requirement already satisfied: torch in c:\\users\\bgmun\\appdata\\local\\programs\\python\\python39\\lib\\site-packages (2.0.1)\n",
      "Collecting torchvision\n",
      "  Downloading torchvision-0.15.2-cp39-cp39-win_amd64.whl (1.2 MB)\n",
      "Collecting torchaudio\n",
      "  Downloading torchaudio-2.0.2-cp39-cp39-win_amd64.whl (2.1 MB)\n",
      "Requirement already satisfied: jinja2 in c:\\users\\bgmun\\appdata\\local\\programs\\python\\python39\\lib\\site-packages (from torch) (3.1.2)\n",
      "Requirement already satisfied: sympy in c:\\users\\bgmun\\appdata\\local\\programs\\python\\python39\\lib\\site-packages (from torch) (1.12)\n",
      "Requirement already satisfied: typing-extensions in c:\\users\\bgmun\\appdata\\local\\programs\\python\\python39\\lib\\site-packages (from torch) (4.6.3)\n",
      "Requirement already satisfied: filelock in c:\\users\\bgmun\\appdata\\local\\programs\\python\\python39\\lib\\site-packages (from torch) (3.12.2)\n",
      "Requirement already satisfied: networkx in c:\\users\\bgmun\\appdata\\local\\programs\\python\\python39\\lib\\site-packages (from torch) (3.1)\n",
      "Requirement already satisfied: numpy in c:\\users\\bgmun\\appdata\\local\\programs\\python\\python39\\lib\\site-packages (from torchvision) (1.25.1)\n",
      "Collecting pillow!=8.3.*,>=5.3.0\n",
      "  Downloading Pillow-10.0.0-cp39-cp39-win_amd64.whl (2.5 MB)\n",
      "Requirement already satisfied: requests in c:\\users\\bgmun\\appdata\\local\\programs\\python\\python39\\lib\\site-packages (from torchvision) (2.31.0)\n",
      "Requirement already satisfied: MarkupSafe>=2.0 in c:\\users\\bgmun\\appdata\\local\\programs\\python\\python39\\lib\\site-packages (from jinja2->torch) (2.1.3)\n",
      "Requirement already satisfied: charset-normalizer<4,>=2 in c:\\users\\bgmun\\appdata\\local\\programs\\python\\python39\\lib\\site-packages (from requests->torchvision) (3.2.0)\n",
      "Requirement already satisfied: certifi>=2017.4.17 in c:\\users\\bgmun\\appdata\\local\\programs\\python\\python39\\lib\\site-packages (from requests->torchvision) (2023.7.22)\n",
      "Requirement already satisfied: idna<4,>=2.5 in c:\\users\\bgmun\\appdata\\local\\programs\\python\\python39\\lib\\site-packages (from requests->torchvision) (3.4)\n",
      "Requirement already satisfied: urllib3<3,>=1.21.1 in c:\\users\\bgmun\\appdata\\local\\programs\\python\\python39\\lib\\site-packages (from requests->torchvision) (2.0.4)\n",
      "Requirement already satisfied: mpmath>=0.19 in c:\\users\\bgmun\\appdata\\local\\programs\\python\\python39\\lib\\site-packages (from sympy->torch) (1.3.0)\n",
      "Installing collected packages: pillow, torchvision, torchaudio\n",
      "Successfully installed pillow-10.0.0 torchaudio-2.0.2 torchvision-0.15.2\n"
     ]
    },
    {
     "name": "stderr",
     "output_type": "stream",
     "text": [
      "WARNING: You are using pip version 21.2.3; however, version 23.2.1 is available.\n",
      "You should consider upgrading via the 'C:\\Users\\bgmun\\AppData\\Local\\Programs\\Python\\Python39\\python.exe -m pip install --upgrade pip' command.\n"
     ]
    }
   ],
   "source": [
    "!pip install transformers\n",
    "!pip install torch torchvision torchaudio"
   ]
  },
  {
   "cell_type": "code",
   "execution_count": 189,
   "metadata": {},
   "outputs": [
    {
     "data": {
      "text/plain": [
       "False"
      ]
     },
     "execution_count": 189,
     "metadata": {},
     "output_type": "execute_result"
    }
   ],
   "source": [
    "torch.cuda.is_available()"
   ]
  },
  {
   "cell_type": "code",
   "execution_count": 191,
   "metadata": {},
   "outputs": [
    {
     "name": "stdout",
     "output_type": "stream",
     "text": [
      "Requirement already satisfied: torch in c:\\users\\bgmun\\appdata\\local\\programs\\python\\python39\\lib\\site-packages (2.0.1)\n",
      "Requirement already satisfied: torchvision in c:\\users\\bgmun\\appdata\\local\\programs\\python\\python39\\lib\\site-packages (0.15.2)\n",
      "Requirement already satisfied: torchaudio in c:\\users\\bgmun\\appdata\\local\\programs\\python\\python39\\lib\\site-packages (2.0.2)\n",
      "Requirement already satisfied: filelock in c:\\users\\bgmun\\appdata\\local\\programs\\python\\python39\\lib\\site-packages (from torch) (3.12.2)\n",
      "Requirement already satisfied: typing-extensions in c:\\users\\bgmun\\appdata\\local\\programs\\python\\python39\\lib\\site-packages (from torch) (4.6.3)\n",
      "Requirement already satisfied: jinja2 in c:\\users\\bgmun\\appdata\\local\\programs\\python\\python39\\lib\\site-packages (from torch) (3.1.2)\n",
      "Requirement already satisfied: sympy in c:\\users\\bgmun\\appdata\\local\\programs\\python\\python39\\lib\\site-packages (from torch) (1.12)\n",
      "Requirement already satisfied: networkx in c:\\users\\bgmun\\appdata\\local\\programs\\python\\python39\\lib\\site-packages (from torch) (3.1)\n",
      "Requirement already satisfied: numpy in c:\\users\\bgmun\\appdata\\local\\programs\\python\\python39\\lib\\site-packages (from torchvision) (1.25.1)\n",
      "Requirement already satisfied: requests in c:\\users\\bgmun\\appdata\\local\\programs\\python\\python39\\lib\\site-packages (from torchvision) (2.31.0)\n",
      "Requirement already satisfied: pillow!=8.3.*,>=5.3.0 in c:\\users\\bgmun\\appdata\\local\\programs\\python\\python39\\lib\\site-packages (from torchvision) (10.0.0)\n",
      "Requirement already satisfied: MarkupSafe>=2.0 in c:\\users\\bgmun\\appdata\\local\\programs\\python\\python39\\lib\\site-packages (from jinja2->torch) (2.1.3)\n",
      "Requirement already satisfied: urllib3<3,>=1.21.1 in c:\\users\\bgmun\\appdata\\local\\programs\\python\\python39\\lib\\site-packages (from requests->torchvision) (2.0.4)\n",
      "Requirement already satisfied: idna<4,>=2.5 in c:\\users\\bgmun\\appdata\\local\\programs\\python\\python39\\lib\\site-packages (from requests->torchvision) (3.4)\n",
      "Requirement already satisfied: charset-normalizer<4,>=2 in c:\\users\\bgmun\\appdata\\local\\programs\\python\\python39\\lib\\site-packages (from requests->torchvision) (3.2.0)\n",
      "Requirement already satisfied: certifi>=2017.4.17 in c:\\users\\bgmun\\appdata\\local\\programs\\python\\python39\\lib\\site-packages (from requests->torchvision) (2023.7.22)\n",
      "Requirement already satisfied: mpmath>=0.19 in c:\\users\\bgmun\\appdata\\local\\programs\\python\\python39\\lib\\site-packages (from sympy->torch) (1.3.0)\n"
     ]
    },
    {
     "name": "stderr",
     "output_type": "stream",
     "text": [
      "WARNING: You are using pip version 21.2.3; however, version 23.2.1 is available.\n",
      "You should consider upgrading via the 'C:\\Users\\bgmun\\AppData\\Local\\Programs\\Python\\Python39\\python.exe -m pip install --upgrade pip' command.\n"
     ]
    }
   ],
   "source": [
    "!pip3 install torch torchvision torchaudio\n"
   ]
  },
  {
   "cell_type": "code",
   "execution_count": 192,
   "metadata": {},
   "outputs": [
    {
     "ename": "ImportError",
     "evalue": "\nAutoModelForSequenceClassification requires the PyTorch library but it was not found in your environment. Checkout the instructions on the\ninstallation page: https://pytorch.org/get-started/locally/ and follow the ones that match your environment.\nPlease note that you may need to restart your runtime after installation.\n",
     "output_type": "error",
     "traceback": [
      "\u001b[1;31m---------------------------------------------------------------------------\u001b[0m",
      "\u001b[1;31mImportError\u001b[0m                               Traceback (most recent call last)",
      "Cell \u001b[1;32mIn[192], line 6\u001b[0m\n\u001b[0;32m      4\u001b[0m \u001b[38;5;28;01mimport\u001b[39;00m \u001b[38;5;21;01mtorch\u001b[39;00m\n\u001b[0;32m      5\u001b[0m tokenizer \u001b[38;5;241m=\u001b[39m AutoTokenizer\u001b[38;5;241m.\u001b[39mfrom_pretrained(\u001b[38;5;124m'\u001b[39m\u001b[38;5;124mnlptown/bert-base-multilingual-uncased-sentiment\u001b[39m\u001b[38;5;124m'\u001b[39m)\n\u001b[1;32m----> 6\u001b[0m model \u001b[38;5;241m=\u001b[39m \u001b[43mAutoModelForSequenceClassification\u001b[49m\u001b[38;5;241;43m.\u001b[39;49m\u001b[43mfrom_pretrained\u001b[49m(\u001b[38;5;124m'\u001b[39m\u001b[38;5;124mnlptown/bert-base-multilingual-uncased-sentiment\u001b[39m\u001b[38;5;124m'\u001b[39m)\n\u001b[0;32m      8\u001b[0m \u001b[38;5;66;03m# 입력: string: 감정 분석하고자 하는 문장\u001b[39;00m\n\u001b[0;32m      9\u001b[0m \u001b[38;5;66;03m# 출력: 감정 분석 결과 1~5 -> 클수록 긍정적인 문장\u001b[39;00m\n\u001b[0;32m     10\u001b[0m \u001b[38;5;28;01mdef\u001b[39;00m \u001b[38;5;21mget_sentiment\u001b[39m(string:\u001b[38;5;28mstr\u001b[39m):\n",
      "File \u001b[1;32m~\\AppData\\Local\\Programs\\Python\\Python39\\lib\\site-packages\\transformers\\utils\\import_utils.py:1039\u001b[0m, in \u001b[0;36mDummyObject.__getattribute__\u001b[1;34m(cls, key)\u001b[0m\n\u001b[0;32m   1037\u001b[0m \u001b[38;5;28;01mif\u001b[39;00m key\u001b[38;5;241m.\u001b[39mstartswith(\u001b[38;5;124m\"\u001b[39m\u001b[38;5;124m_\u001b[39m\u001b[38;5;124m\"\u001b[39m) \u001b[38;5;129;01mand\u001b[39;00m key \u001b[38;5;241m!=\u001b[39m \u001b[38;5;124m\"\u001b[39m\u001b[38;5;124m_from_config\u001b[39m\u001b[38;5;124m\"\u001b[39m:\n\u001b[0;32m   1038\u001b[0m     \u001b[38;5;28;01mreturn\u001b[39;00m \u001b[38;5;28msuper\u001b[39m()\u001b[38;5;241m.\u001b[39m\u001b[38;5;21m__getattribute__\u001b[39m(key)\n\u001b[1;32m-> 1039\u001b[0m \u001b[43mrequires_backends\u001b[49m\u001b[43m(\u001b[49m\u001b[38;5;28;43mcls\u001b[39;49m\u001b[43m,\u001b[49m\u001b[43m \u001b[49m\u001b[38;5;28;43mcls\u001b[39;49m\u001b[38;5;241;43m.\u001b[39;49m\u001b[43m_backends\u001b[49m\u001b[43m)\u001b[49m\n",
      "File \u001b[1;32m~\\AppData\\Local\\Programs\\Python\\Python39\\lib\\site-packages\\transformers\\utils\\import_utils.py:1027\u001b[0m, in \u001b[0;36mrequires_backends\u001b[1;34m(obj, backends)\u001b[0m\n\u001b[0;32m   1025\u001b[0m failed \u001b[38;5;241m=\u001b[39m [msg\u001b[38;5;241m.\u001b[39mformat(name) \u001b[38;5;28;01mfor\u001b[39;00m available, msg \u001b[38;5;129;01min\u001b[39;00m checks \u001b[38;5;28;01mif\u001b[39;00m \u001b[38;5;129;01mnot\u001b[39;00m available()]\n\u001b[0;32m   1026\u001b[0m \u001b[38;5;28;01mif\u001b[39;00m failed:\n\u001b[1;32m-> 1027\u001b[0m     \u001b[38;5;28;01mraise\u001b[39;00m \u001b[38;5;167;01mImportError\u001b[39;00m(\u001b[38;5;124m\"\u001b[39m\u001b[38;5;124m\"\u001b[39m\u001b[38;5;241m.\u001b[39mjoin(failed))\n",
      "\u001b[1;31mImportError\u001b[0m: \nAutoModelForSequenceClassification requires the PyTorch library but it was not found in your environment. Checkout the instructions on the\ninstallation page: https://pytorch.org/get-started/locally/ and follow the ones that match your environment.\nPlease note that you may need to restart your runtime after installation.\n"
     ]
    }
   ],
   "source": [
    "# 감정 분석에 쓸 도구 구성하기 입니다.\n",
    "import pandas as pd\n",
    "from transformers import AutoTokenizer, AutoModelForSequenceClassification\n",
    "import torch\n",
    "tokenizer = AutoTokenizer.from_pretrained('nlptown/bert-base-multilingual-uncased-sentiment')\n",
    "model = AutoModelForSequenceClassification.from_pretrained('nlptown/bert-base-multilingual-uncased-sentiment')\n",
    "\n",
    "# 입력: string: 감정 분석하고자 하는 문장\n",
    "# 출력: 감정 분석 결과 1~5 -> 클수록 긍정적인 문장\n",
    "def get_sentiment(string:str):\n",
    "    tokens = tokenizer.encode(string,return_tensors='pt')\n",
    "    result = model(tokens)\n",
    "    return (int(torch.argmax(result.logits)) + 1)"
   ]
  },
  {
   "cell_type": "code",
   "execution_count": 193,
   "metadata": {},
   "outputs": [],
   "source": [
    "filtered_df_2022.to_csv('DateSampleNasdaq.csv', index=False)"
   ]
  },
  {
   "cell_type": "code",
   "execution_count": null,
   "metadata": {},
   "outputs": [],
   "source": []
  },
  {
   "cell_type": "code",
   "execution_count": null,
   "metadata": {},
   "outputs": [],
   "source": []
  },
  {
   "cell_type": "code",
   "execution_count": null,
   "metadata": {},
   "outputs": [],
   "source": []
  },
  {
   "cell_type": "code",
   "execution_count": null,
   "metadata": {},
   "outputs": [],
   "source": [
    "#밑에는 감성분석 코드입니다 ! "
   ]
  },
  {
   "cell_type": "code",
   "execution_count": 168,
   "metadata": {
    "id": "MT64tVP2xR2K"
   },
   "outputs": [],
   "source": [
    "import json"
   ]
  },
  {
   "cell_type": "code",
   "execution_count": 170,
   "metadata": {
    "id": "r6qLaJBBwqVE"
   },
   "outputs": [],
   "source": [
    "#감성 분석하려면 KNU 에서 정의해놓은 감성사전인 SentiWord_info.json를 다운받아서 이용해야해요!\n",
    "#여기서 부터는 아직 주피터 노트북코드로 변경을 안해서 코랩의 MyDrive라고 적혀있네요 하하\n",
    "try:\n",
    "    with open('C:/Users/bgmun/Downloads/KnuSentiLex-master/KnuSentiLex-master/data/SentiWord_info.json', encoding='utf-8', mode='r') as f:\n",
    "        SentiWord_info = json.load(f)\n",
    "        sentiword_dic = pd.DataFrame(SentiWord_info)\n",
    "        # DataFrame을 사용한 나머지 처리\n",
    "except json.JSONDecodeError as e:\n",
    "    print(\"JSON 디코딩 오류:\", e)\n",
    "except FileNotFoundError:\n",
    "    print(\"파일을 찾을 수 없거나 잘못된 경로입니다.\")\n",
    "except Exception as e:\n",
    "    print(\"오류가 발생했습니다:\", e)"
   ]
  },
  {
   "cell_type": "code",
   "execution_count": 171,
   "metadata": {},
   "outputs": [
    {
     "data": {
      "text/html": [
       "<div>\n",
       "<style scoped>\n",
       "    .dataframe tbody tr th:only-of-type {\n",
       "        vertical-align: middle;\n",
       "    }\n",
       "\n",
       "    .dataframe tbody tr th {\n",
       "        vertical-align: top;\n",
       "    }\n",
       "\n",
       "    .dataframe thead th {\n",
       "        text-align: right;\n",
       "    }\n",
       "</style>\n",
       "<table border=\"1\" class=\"dataframe\">\n",
       "  <thead>\n",
       "    <tr style=\"text-align: right;\">\n",
       "      <th></th>\n",
       "      <th>word</th>\n",
       "      <th>word_root</th>\n",
       "      <th>polarity</th>\n",
       "    </tr>\n",
       "  </thead>\n",
       "  <tbody>\n",
       "    <tr>\n",
       "      <th>0</th>\n",
       "      <td>(-;</td>\n",
       "      <td>(</td>\n",
       "      <td>1</td>\n",
       "    </tr>\n",
       "    <tr>\n",
       "      <th>1</th>\n",
       "      <td>(;_;)</td>\n",
       "      <td>(;_;)</td>\n",
       "      <td>-1</td>\n",
       "    </tr>\n",
       "    <tr>\n",
       "      <th>2</th>\n",
       "      <td>(^^)</td>\n",
       "      <td>(^^)</td>\n",
       "      <td>1</td>\n",
       "    </tr>\n",
       "    <tr>\n",
       "      <th>3</th>\n",
       "      <td>(^-^)</td>\n",
       "      <td>(^-^)</td>\n",
       "      <td>1</td>\n",
       "    </tr>\n",
       "    <tr>\n",
       "      <th>4</th>\n",
       "      <td>(^^*</td>\n",
       "      <td>(</td>\n",
       "      <td>1</td>\n",
       "    </tr>\n",
       "    <tr>\n",
       "      <th>...</th>\n",
       "      <td>...</td>\n",
       "      <td>...</td>\n",
       "      <td>...</td>\n",
       "    </tr>\n",
       "    <tr>\n",
       "      <th>14849</th>\n",
       "      <td>반신반의하다</td>\n",
       "      <td>반신반의</td>\n",
       "      <td>0</td>\n",
       "    </tr>\n",
       "    <tr>\n",
       "      <th>14850</th>\n",
       "      <td>신비롭다</td>\n",
       "      <td>신비</td>\n",
       "      <td>1</td>\n",
       "    </tr>\n",
       "    <tr>\n",
       "      <th>14851</th>\n",
       "      <td>아리송하다</td>\n",
       "      <td>아리송</td>\n",
       "      <td>-1</td>\n",
       "    </tr>\n",
       "    <tr>\n",
       "      <th>14852</th>\n",
       "      <td>알쏭하다</td>\n",
       "      <td>알쏭하</td>\n",
       "      <td>-1</td>\n",
       "    </tr>\n",
       "    <tr>\n",
       "      <th>14853</th>\n",
       "      <td>알쏭달쏭하다</td>\n",
       "      <td>알쏭달쏭</td>\n",
       "      <td>-1</td>\n",
       "    </tr>\n",
       "  </tbody>\n",
       "</table>\n",
       "<p>14854 rows × 3 columns</p>\n",
       "</div>"
      ],
      "text/plain": [
       "         word word_root polarity\n",
       "0         (-;         (        1\n",
       "1       (;_;)     (;_;)       -1\n",
       "2        (^^)      (^^)        1\n",
       "3       (^-^)     (^-^)        1\n",
       "4        (^^*         (        1\n",
       "...       ...       ...      ...\n",
       "14849  반신반의하다      반신반의        0\n",
       "14850    신비롭다        신비        1\n",
       "14851   아리송하다       아리송       -1\n",
       "14852    알쏭하다       알쏭하       -1\n",
       "14853  알쏭달쏭하다      알쏭달쏭       -1\n",
       "\n",
       "[14854 rows x 3 columns]"
      ]
     },
     "execution_count": 171,
     "metadata": {},
     "output_type": "execute_result"
    }
   ],
   "source": [
    "sentiword_dic"
   ]
  },
  {
   "cell_type": "code",
   "execution_count": null,
   "metadata": {
    "colab": {
     "base_uri": "https://localhost:8080/"
    },
    "id": "UI_sKhIQxIHj",
    "outputId": "362b8452-537b-4c6a-d095-dcfdb6628e2f"
   },
   "outputs": [],
   "source": [
    "text_0 = df[0]\n",
    "text_0"
   ]
  },
  {
   "cell_type": "code",
   "execution_count": null,
   "metadata": {
    "colab": {
     "base_uri": "https://localhost:8080/"
    },
    "id": "HWA2PRPNxqwB",
    "outputId": "516a5c41-b648-4369-b271-338a1f9fdd13"
   },
   "outputs": [],
   "source": [
    "!pip3 install konlpy"
   ]
  },
  {
   "cell_type": "code",
   "execution_count": null,
   "metadata": {
    "id": "X5YrFo_Lxp_h"
   },
   "outputs": [],
   "source": [
    "\n",
    "# !apt-get update\n",
    "# !apt-get install g++ openjdk-8-jdk python-dev python3-dev\n",
    "# !pip3 install JPype1\n",
    "\n",
    "# %env JAVA_HOME \"/usr/lib/jvm/java-8-openjdk-amd64\""
   ]
  },
  {
   "cell_type": "code",
   "execution_count": null,
   "metadata": {
    "id": "2yzK_ntGxhbp"
   },
   "outputs": [],
   "source": [
    "from konlpy.tag import Okt"
   ]
  },
  {
   "cell_type": "code",
   "execution_count": null,
   "metadata": {
    "id": "LXqdsvePxZYJ"
   },
   "outputs": [],
   "source": [
    "okt=Okt()\n",
    "tokens = [okt.morphs(word) for word in text_0]\n",
    "tokens = list(map(lambda x : \" \".join(x), tokens))"
   ]
  },
  {
   "cell_type": "code",
   "execution_count": null,
   "metadata": {
    "colab": {
     "base_uri": "https://localhost:8080/"
    },
    "id": "klWg9huexcve",
    "outputId": "b93f166c-2e75-4ba9-f4aa-6eefc115566b"
   },
   "outputs": [],
   "source": [
    "tokens[:10]"
   ]
  },
  {
   "cell_type": "code",
   "execution_count": null,
   "metadata": {
    "id": "3Sn-LuDYx7Dp"
   },
   "outputs": [],
   "source": [
    "import pandas as pd\n",
    "\n",
    "df = pd.DataFrame(columns=(\"review\", \"sentiment\"))  # 제목별 극성을 저장하기 위한 데이터프레임 생성\n",
    "idx = 0                                             # 다음 제목으로 넘기기 위한 초기값\n",
    "\n",
    "for token in tokens:                                # 전체 제목에서 문장 하나씩 가져옴\n",
    "  sentiment = 0                                     # 초기 감성값 0으로 설정\n",
    "  for i in range(0, len(sentiword_dic)):            # 감성사전의 모든 단어를 하나씩 선택\n",
    "    if sentiword_dic.word[i] in token:              # 제목 문장에 감성 단어가 있는지 확인\n",
    "      sentiment += int(sentiword_dic.polarity[i])   # 감성단어가 있다면 극성값 합계를 구함.\n",
    "  df.loc[idx] = [token, sentiment]                  # 제목별 극성값을 데이터프레임으로 쌓음\n",
    "  idx += 1                                          # 다음 제목 문장으로 넘어감"
   ]
  },
  {
   "cell_type": "code",
   "execution_count": null,
   "metadata": {
    "colab": {
     "base_uri": "https://localhost:8080/",
     "height": 423
    },
    "id": "_rOlwOWqyGAj",
    "outputId": "a0a14364-73c1-4cb2-f889-4d2da7d9ca58"
   },
   "outputs": [],
   "source": [
    "df"
   ]
  },
  {
   "cell_type": "code",
   "execution_count": null,
   "metadata": {
    "id": "f67irzB3yNS3"
   },
   "outputs": [],
   "source": []
  }
 ],
 "metadata": {
  "colab": {
   "provenance": []
  },
  "kernelspec": {
   "display_name": "Python 3 (ipykernel)",
   "language": "python",
   "name": "python3"
  },
  "language_info": {
   "codemirror_mode": {
    "name": "ipython",
    "version": 3
   },
   "file_extension": ".py",
   "mimetype": "text/x-python",
   "name": "python",
   "nbconvert_exporter": "python",
   "pygments_lexer": "ipython3",
   "version": "3.9.7"
  }
 },
 "nbformat": 4,
 "nbformat_minor": 1
}
